{
 "cells": [
  {
   "cell_type": "markdown",
   "metadata": {},
   "source": [
    "<div style=\"background: #cceeaa; padding: 5px; border: 1px solid green; border-radius: 5px;\">\n",
    "    <font color='green'> <b><u>КОММЕНТАРИЙ РЕВЬЮЕРА</u></b>\n",
    "\n",
    "Мариус, доброго дня! рад приветствовать тебя) <br />\n",
    "<br />\n",
    "Меня зовут Николай Шавлюго. <br />И на этом этапе твоего движения к новой профессии от меня будут комментарии по написанному коду. <br />Чтобы меньше \"мусорить эфир\" и чтобы максимально наглядно отделяться от основного кода, есть предложение условиться в некоторых обозначениях:<br /> <br />\n",
    "<u><b>ТАКОЙ ШРИФТ</b></u> - всегда начало комментария <br />\n",
    "<font color='green'>такой шрифт</font> - комментарии о том, что всё ОК <br/>\n",
    "<font color='orange'>такой шрифт</font> - комментарии о том, что всё ОК по результату,<br> однако есть на что обратить внимание в плане применения техник, или есть способы сделать более короткий или быстрый код <br/>\n",
    "<font color='red'>такой шрифт</font> - комментарии о том, что есть критичный момент, влияющий на бизнес-результат проекта.<br/>\n",
    "</font><br /><br />\n",
    "<font color='green'>Моей целью является не \"уличить\" в не знании, а просто высказать сверху твоих знаний - свой опыт, что бы ты мог использовать его для своего дальнейшего успеха) И очень здорово будет, если тебе удастся задавать вопросы, да и вообще - всячески доставать меня, если я по каким-то причинам не приму проект:) При этом, из своего опыта скажу, хорошо и важно, когда переписка ревьюера и студента - сохраняется на следующие проекты и даже на будущую практическую деятельность.<br>\n",
    "<br> Я сразу же начал общаться на ты:) но если это не очень удобно, то дай знать)) <BR> В ПУТЬ!<br>"
   ]
  },
  {
   "cell_type": "markdown",
   "metadata": {},
   "source": [
    "<div style=\"background: #cceeaa; padding: 5px; border: 1px solid green; border-radius: 5px;\">\n",
    "<font color='green'> \n",
    "    <b><u>КОММЕНТАРИЙ СТУДЕНТА</u></b>\n",
    "<font color='green'><br> Привет. Спасибо за комментарии))"
   ]
  },
  {
   "cell_type": "markdown",
   "metadata": {},
   "source": [
    "<div style=\"background: #cceeaa; padding: 5px; border: 1px solid green; border-radius: 5px;\">\n",
    "    <font color='green'> <b><u>КОММЕНТАРИЙ РЕВЬЮЕРА 2</u></b>\n",
    "</font>\n",
    "<font color='green'><br>Привет, Мариус. Спасибо)"
   ]
  },
  {
   "cell_type": "markdown",
   "metadata": {
    "toc": true
   },
   "source": [
    "<h1>Содержание<span class=\"tocSkip\"></span></h1>\n",
    "<div class=\"toc\"><ul class=\"toc-item\"><li><span><a href=\"#Подготовка-данных\" data-toc-modified-id=\"Подготовка-данных-1\"><span class=\"toc-item-num\">1&nbsp;&nbsp;</span>Подготовка данных</a></span><ul class=\"toc-item\"><li><span><a href=\"#Открытие-и-изучение-файлов.\" data-toc-modified-id=\"Открытие-и-изучение-файлов.-1.1\"><span class=\"toc-item-num\">1.1&nbsp;&nbsp;</span>Открытие и изучение файлов.</a></span></li><li><span><a href=\"#Проверка-того,-что-эффективность-обогащения-рассчитана-правильно.-Вычисление-на-обучающей-выборке-для-признака-rougher.output.recovery.-Нахождение-MAE-между-расчётами-и-значением-признака.\" data-toc-modified-id=\"Проверка-того,-что-эффективность-обогащения-рассчитана-правильно.-Вычисление-на-обучающей-выборке-для-признака-rougher.output.recovery.-Нахождение-MAE-между-расчётами-и-значением-признака.-1.2\"><span class=\"toc-item-num\">1.2&nbsp;&nbsp;</span>Проверка того, что эффективность обогащения рассчитана правильно. Вычисление на обучающей выборке для признака rougher.output.recovery. Нахождение MAE между расчётами и значением признака.</a></span></li><li><span><a href=\"#Анализ-признаков,-недоступные-в-тестовой-выборке.-Что-это-за-параметры?-К-какому-типу-относятся?\" data-toc-modified-id=\"Анализ-признаков,-недоступные-в-тестовой-выборке.-Что-это-за-параметры?-К-какому-типу-относятся?-1.3\"><span class=\"toc-item-num\">1.3&nbsp;&nbsp;</span>Анализ признаков, недоступные в тестовой выборке. Что это за параметры? К какому типу относятся?</a></span></li><li><span><a href=\"#Предобработка-данных.\" data-toc-modified-id=\"Предобработка-данных.-1.4\"><span class=\"toc-item-num\">1.4&nbsp;&nbsp;</span>Предобработка данных.</a></span></li></ul></li><li><span><a href=\"#Анализ-данных\" data-toc-modified-id=\"Анализ-данных-2\"><span class=\"toc-item-num\">2&nbsp;&nbsp;</span>Анализ данных</a></span><ul class=\"toc-item\"><li><span><a href=\"#Просмотр-того,-как-меняется-концентрация-металлов-(Au,-Ag,-Pb)-на-различных-этапах-очистки.\" data-toc-modified-id=\"Просмотр-того,-как-меняется-концентрация-металлов-(Au,-Ag,-Pb)-на-различных-этапах-очистки.-2.1\"><span class=\"toc-item-num\">2.1&nbsp;&nbsp;</span>Просмотр того, как меняется концентрация металлов (Au, Ag, Pb) на различных этапах очистки.</a></span></li><li><span><a href=\"#Сравнение-распределения-размеров-гранул-сырья-на-обучающей-и-тестовой-выборках.-Если-распределения-сильно-отличаются-друг-от-друга,-оценка-модели-будет-неправильной.\" data-toc-modified-id=\"Сравнение-распределения-размеров-гранул-сырья-на-обучающей-и-тестовой-выборках.-Если-распределения-сильно-отличаются-друг-от-друга,-оценка-модели-будет-неправильной.-2.2\"><span class=\"toc-item-num\">2.2&nbsp;&nbsp;</span>Сравнение распределения размеров гранул сырья на обучающей и тестовой выборках. Если распределения сильно отличаются друг от друга, оценка модели будет неправильной.</a></span></li><li><span><a href=\"#Исследование-суммарной-концентрации-всех-веществ-на-разных-стадиях:-в-сырье,-в-черновом-и-финальном-концентратах.\" data-toc-modified-id=\"Исследование-суммарной-концентрации-всех-веществ-на-разных-стадиях:-в-сырье,-в-черновом-и-финальном-концентратах.-2.3\"><span class=\"toc-item-num\">2.3&nbsp;&nbsp;</span>Исследование суммарной концентрации всех веществ на разных стадиях: в сырье, в черновом и финальном концентратах.</a></span></li></ul></li><li><span><a href=\"#Модель\" data-toc-modified-id=\"Модель-3\"><span class=\"toc-item-num\">3&nbsp;&nbsp;</span>Модель</a></span></li><li><span><a href=\"#Вывод\" data-toc-modified-id=\"Вывод-4\"><span class=\"toc-item-num\">4&nbsp;&nbsp;</span>Вывод</a></span></li><li><span><a href=\"#Чек-лист-готовности-проекта\" data-toc-modified-id=\"Чек-лист-готовности-проекта-5\"><span class=\"toc-item-num\">5&nbsp;&nbsp;</span>Чек-лист готовности проекта</a></span></li></ul></div>"
   ]
  },
  {
   "cell_type": "markdown",
   "metadata": {},
   "source": [
    "# Восстановление золота из руды"
   ]
  },
  {
   "cell_type": "markdown",
   "metadata": {},
   "source": [
    "Подготовьте прототип модели машинного обучения для «Цифры». Компания разрабатывает решения для эффективной работы промышленных предприятий.\n",
    "\n",
    "Модель должна предсказать коэффициент восстановления золота из золотосодержащей руды. Используйте данные с параметрами добычи и очистки. \n",
    "\n",
    "Модель поможет оптимизировать производство, чтобы не запускать предприятие с убыточными характеристиками.\n",
    "\n",
    "Вам нужно:\n",
    "\n",
    "1. Подготовить данные;\n",
    "2. Провести исследовательский анализ данных;\n",
    "3. Построить и обучить модель.\n",
    "\n",
    "Чтобы выполнить проект, обращайтесь к библиотекам *pandas*, *matplotlib* и *sklearn.* Вам поможет их документация."
   ]
  },
  {
   "cell_type": "markdown",
   "metadata": {},
   "source": [
    "## Подготовка данных"
   ]
  },
  {
   "cell_type": "markdown",
   "metadata": {},
   "source": [
    "### Открытие и изучение файлов."
   ]
  },
  {
   "cell_type": "code",
   "execution_count": 1,
   "metadata": {},
   "outputs": [],
   "source": [
    "import pandas as pd\n",
    "import matplotlib.pyplot as plt\n",
    "from sklearn.model_selection import GridSearchCV, cross_val_score\n",
    "from sklearn.linear_model import LinearRegression\n",
    "from sklearn.tree import DecisionTreeClassifier\n",
    "from sklearn.ensemble import RandomForestClassifier\n",
    "from sklearn.metrics import make_scorer\n",
    "from sklearn.dummy import DummyRegressor"
   ]
  },
  {
   "cell_type": "code",
   "execution_count": 2,
   "metadata": {},
   "outputs": [],
   "source": [
    "data_train = pd.read_csv('/datasets/gold_recovery_train_new.csv')\n",
    "data_test = pd.read_csv('/datasets/gold_recovery_test_new.csv')\n",
    "data_full = pd.read_csv('/datasets/gold_recovery_full_new.csv')"
   ]
  },
  {
   "cell_type": "code",
   "execution_count": 3,
   "metadata": {},
   "outputs": [
    {
     "data": {
      "text/html": [
       "<div>\n",
       "<style scoped>\n",
       "    .dataframe tbody tr th:only-of-type {\n",
       "        vertical-align: middle;\n",
       "    }\n",
       "\n",
       "    .dataframe tbody tr th {\n",
       "        vertical-align: top;\n",
       "    }\n",
       "\n",
       "    .dataframe thead th {\n",
       "        text-align: right;\n",
       "    }\n",
       "</style>\n",
       "<table border=\"1\" class=\"dataframe\">\n",
       "  <thead>\n",
       "    <tr style=\"text-align: right;\">\n",
       "      <th></th>\n",
       "      <th>date</th>\n",
       "      <th>final.output.concentrate_ag</th>\n",
       "      <th>final.output.concentrate_pb</th>\n",
       "      <th>final.output.concentrate_sol</th>\n",
       "      <th>final.output.concentrate_au</th>\n",
       "      <th>final.output.recovery</th>\n",
       "      <th>final.output.tail_ag</th>\n",
       "      <th>final.output.tail_pb</th>\n",
       "      <th>final.output.tail_sol</th>\n",
       "      <th>final.output.tail_au</th>\n",
       "      <th>...</th>\n",
       "      <th>secondary_cleaner.state.floatbank4_a_air</th>\n",
       "      <th>secondary_cleaner.state.floatbank4_a_level</th>\n",
       "      <th>secondary_cleaner.state.floatbank4_b_air</th>\n",
       "      <th>secondary_cleaner.state.floatbank4_b_level</th>\n",
       "      <th>secondary_cleaner.state.floatbank5_a_air</th>\n",
       "      <th>secondary_cleaner.state.floatbank5_a_level</th>\n",
       "      <th>secondary_cleaner.state.floatbank5_b_air</th>\n",
       "      <th>secondary_cleaner.state.floatbank5_b_level</th>\n",
       "      <th>secondary_cleaner.state.floatbank6_a_air</th>\n",
       "      <th>secondary_cleaner.state.floatbank6_a_level</th>\n",
       "    </tr>\n",
       "  </thead>\n",
       "  <tbody>\n",
       "    <tr>\n",
       "      <td>0</td>\n",
       "      <td>2016-01-15 00:00:00</td>\n",
       "      <td>6.055403</td>\n",
       "      <td>9.889648</td>\n",
       "      <td>5.507324</td>\n",
       "      <td>42.192020</td>\n",
       "      <td>70.541216</td>\n",
       "      <td>10.411962</td>\n",
       "      <td>0.895447</td>\n",
       "      <td>16.904297</td>\n",
       "      <td>2.143149</td>\n",
       "      <td>...</td>\n",
       "      <td>14.016835</td>\n",
       "      <td>-502.488007</td>\n",
       "      <td>12.099931</td>\n",
       "      <td>-504.715942</td>\n",
       "      <td>9.925633</td>\n",
       "      <td>-498.310211</td>\n",
       "      <td>8.079666</td>\n",
       "      <td>-500.470978</td>\n",
       "      <td>14.151341</td>\n",
       "      <td>-605.841980</td>\n",
       "    </tr>\n",
       "    <tr>\n",
       "      <td>1</td>\n",
       "      <td>2016-01-15 01:00:00</td>\n",
       "      <td>6.029369</td>\n",
       "      <td>9.968944</td>\n",
       "      <td>5.257781</td>\n",
       "      <td>42.701629</td>\n",
       "      <td>69.266198</td>\n",
       "      <td>10.462676</td>\n",
       "      <td>0.927452</td>\n",
       "      <td>16.634514</td>\n",
       "      <td>2.224930</td>\n",
       "      <td>...</td>\n",
       "      <td>13.992281</td>\n",
       "      <td>-505.503262</td>\n",
       "      <td>11.950531</td>\n",
       "      <td>-501.331529</td>\n",
       "      <td>10.039245</td>\n",
       "      <td>-500.169983</td>\n",
       "      <td>7.984757</td>\n",
       "      <td>-500.582168</td>\n",
       "      <td>13.998353</td>\n",
       "      <td>-599.787184</td>\n",
       "    </tr>\n",
       "    <tr>\n",
       "      <td>2</td>\n",
       "      <td>2016-01-15 02:00:00</td>\n",
       "      <td>6.055926</td>\n",
       "      <td>10.213995</td>\n",
       "      <td>5.383759</td>\n",
       "      <td>42.657501</td>\n",
       "      <td>68.116445</td>\n",
       "      <td>10.507046</td>\n",
       "      <td>0.953716</td>\n",
       "      <td>16.208849</td>\n",
       "      <td>2.257889</td>\n",
       "      <td>...</td>\n",
       "      <td>14.015015</td>\n",
       "      <td>-502.520901</td>\n",
       "      <td>11.912783</td>\n",
       "      <td>-501.133383</td>\n",
       "      <td>10.070913</td>\n",
       "      <td>-500.129135</td>\n",
       "      <td>8.013877</td>\n",
       "      <td>-500.517572</td>\n",
       "      <td>14.028663</td>\n",
       "      <td>-601.427363</td>\n",
       "    </tr>\n",
       "    <tr>\n",
       "      <td>3</td>\n",
       "      <td>2016-01-15 03:00:00</td>\n",
       "      <td>6.047977</td>\n",
       "      <td>9.977019</td>\n",
       "      <td>4.858634</td>\n",
       "      <td>42.689819</td>\n",
       "      <td>68.347543</td>\n",
       "      <td>10.422762</td>\n",
       "      <td>0.883763</td>\n",
       "      <td>16.532835</td>\n",
       "      <td>2.146849</td>\n",
       "      <td>...</td>\n",
       "      <td>14.036510</td>\n",
       "      <td>-500.857308</td>\n",
       "      <td>11.999550</td>\n",
       "      <td>-501.193686</td>\n",
       "      <td>9.970366</td>\n",
       "      <td>-499.201640</td>\n",
       "      <td>7.977324</td>\n",
       "      <td>-500.255908</td>\n",
       "      <td>14.005551</td>\n",
       "      <td>-599.996129</td>\n",
       "    </tr>\n",
       "    <tr>\n",
       "      <td>4</td>\n",
       "      <td>2016-01-15 04:00:00</td>\n",
       "      <td>6.148599</td>\n",
       "      <td>10.142511</td>\n",
       "      <td>4.939416</td>\n",
       "      <td>42.774141</td>\n",
       "      <td>66.927016</td>\n",
       "      <td>10.360302</td>\n",
       "      <td>0.792826</td>\n",
       "      <td>16.525686</td>\n",
       "      <td>2.055292</td>\n",
       "      <td>...</td>\n",
       "      <td>14.027298</td>\n",
       "      <td>-499.838632</td>\n",
       "      <td>11.953070</td>\n",
       "      <td>-501.053894</td>\n",
       "      <td>9.925709</td>\n",
       "      <td>-501.686727</td>\n",
       "      <td>7.894242</td>\n",
       "      <td>-500.356035</td>\n",
       "      <td>13.996647</td>\n",
       "      <td>-601.496691</td>\n",
       "    </tr>\n",
       "  </tbody>\n",
       "</table>\n",
       "<p>5 rows × 87 columns</p>\n",
       "</div>"
      ],
      "text/plain": [
       "                  date  final.output.concentrate_ag  \\\n",
       "0  2016-01-15 00:00:00                     6.055403   \n",
       "1  2016-01-15 01:00:00                     6.029369   \n",
       "2  2016-01-15 02:00:00                     6.055926   \n",
       "3  2016-01-15 03:00:00                     6.047977   \n",
       "4  2016-01-15 04:00:00                     6.148599   \n",
       "\n",
       "   final.output.concentrate_pb  final.output.concentrate_sol  \\\n",
       "0                     9.889648                      5.507324   \n",
       "1                     9.968944                      5.257781   \n",
       "2                    10.213995                      5.383759   \n",
       "3                     9.977019                      4.858634   \n",
       "4                    10.142511                      4.939416   \n",
       "\n",
       "   final.output.concentrate_au  final.output.recovery  final.output.tail_ag  \\\n",
       "0                    42.192020              70.541216             10.411962   \n",
       "1                    42.701629              69.266198             10.462676   \n",
       "2                    42.657501              68.116445             10.507046   \n",
       "3                    42.689819              68.347543             10.422762   \n",
       "4                    42.774141              66.927016             10.360302   \n",
       "\n",
       "   final.output.tail_pb  final.output.tail_sol  final.output.tail_au  ...  \\\n",
       "0              0.895447              16.904297              2.143149  ...   \n",
       "1              0.927452              16.634514              2.224930  ...   \n",
       "2              0.953716              16.208849              2.257889  ...   \n",
       "3              0.883763              16.532835              2.146849  ...   \n",
       "4              0.792826              16.525686              2.055292  ...   \n",
       "\n",
       "   secondary_cleaner.state.floatbank4_a_air  \\\n",
       "0                                 14.016835   \n",
       "1                                 13.992281   \n",
       "2                                 14.015015   \n",
       "3                                 14.036510   \n",
       "4                                 14.027298   \n",
       "\n",
       "   secondary_cleaner.state.floatbank4_a_level  \\\n",
       "0                                 -502.488007   \n",
       "1                                 -505.503262   \n",
       "2                                 -502.520901   \n",
       "3                                 -500.857308   \n",
       "4                                 -499.838632   \n",
       "\n",
       "   secondary_cleaner.state.floatbank4_b_air  \\\n",
       "0                                 12.099931   \n",
       "1                                 11.950531   \n",
       "2                                 11.912783   \n",
       "3                                 11.999550   \n",
       "4                                 11.953070   \n",
       "\n",
       "   secondary_cleaner.state.floatbank4_b_level  \\\n",
       "0                                 -504.715942   \n",
       "1                                 -501.331529   \n",
       "2                                 -501.133383   \n",
       "3                                 -501.193686   \n",
       "4                                 -501.053894   \n",
       "\n",
       "   secondary_cleaner.state.floatbank5_a_air  \\\n",
       "0                                  9.925633   \n",
       "1                                 10.039245   \n",
       "2                                 10.070913   \n",
       "3                                  9.970366   \n",
       "4                                  9.925709   \n",
       "\n",
       "   secondary_cleaner.state.floatbank5_a_level  \\\n",
       "0                                 -498.310211   \n",
       "1                                 -500.169983   \n",
       "2                                 -500.129135   \n",
       "3                                 -499.201640   \n",
       "4                                 -501.686727   \n",
       "\n",
       "   secondary_cleaner.state.floatbank5_b_air  \\\n",
       "0                                  8.079666   \n",
       "1                                  7.984757   \n",
       "2                                  8.013877   \n",
       "3                                  7.977324   \n",
       "4                                  7.894242   \n",
       "\n",
       "   secondary_cleaner.state.floatbank5_b_level  \\\n",
       "0                                 -500.470978   \n",
       "1                                 -500.582168   \n",
       "2                                 -500.517572   \n",
       "3                                 -500.255908   \n",
       "4                                 -500.356035   \n",
       "\n",
       "   secondary_cleaner.state.floatbank6_a_air  \\\n",
       "0                                 14.151341   \n",
       "1                                 13.998353   \n",
       "2                                 14.028663   \n",
       "3                                 14.005551   \n",
       "4                                 13.996647   \n",
       "\n",
       "   secondary_cleaner.state.floatbank6_a_level  \n",
       "0                                 -605.841980  \n",
       "1                                 -599.787184  \n",
       "2                                 -601.427363  \n",
       "3                                 -599.996129  \n",
       "4                                 -601.496691  \n",
       "\n",
       "[5 rows x 87 columns]"
      ]
     },
     "metadata": {},
     "output_type": "display_data"
    },
    {
     "data": {
      "text/html": [
       "<div>\n",
       "<style scoped>\n",
       "    .dataframe tbody tr th:only-of-type {\n",
       "        vertical-align: middle;\n",
       "    }\n",
       "\n",
       "    .dataframe tbody tr th {\n",
       "        vertical-align: top;\n",
       "    }\n",
       "\n",
       "    .dataframe thead th {\n",
       "        text-align: right;\n",
       "    }\n",
       "</style>\n",
       "<table border=\"1\" class=\"dataframe\">\n",
       "  <thead>\n",
       "    <tr style=\"text-align: right;\">\n",
       "      <th></th>\n",
       "      <th>date</th>\n",
       "      <th>primary_cleaner.input.sulfate</th>\n",
       "      <th>primary_cleaner.input.depressant</th>\n",
       "      <th>primary_cleaner.input.feed_size</th>\n",
       "      <th>primary_cleaner.input.xanthate</th>\n",
       "      <th>primary_cleaner.state.floatbank8_a_air</th>\n",
       "      <th>primary_cleaner.state.floatbank8_a_level</th>\n",
       "      <th>primary_cleaner.state.floatbank8_b_air</th>\n",
       "      <th>primary_cleaner.state.floatbank8_b_level</th>\n",
       "      <th>primary_cleaner.state.floatbank8_c_air</th>\n",
       "      <th>...</th>\n",
       "      <th>secondary_cleaner.state.floatbank4_a_air</th>\n",
       "      <th>secondary_cleaner.state.floatbank4_a_level</th>\n",
       "      <th>secondary_cleaner.state.floatbank4_b_air</th>\n",
       "      <th>secondary_cleaner.state.floatbank4_b_level</th>\n",
       "      <th>secondary_cleaner.state.floatbank5_a_air</th>\n",
       "      <th>secondary_cleaner.state.floatbank5_a_level</th>\n",
       "      <th>secondary_cleaner.state.floatbank5_b_air</th>\n",
       "      <th>secondary_cleaner.state.floatbank5_b_level</th>\n",
       "      <th>secondary_cleaner.state.floatbank6_a_air</th>\n",
       "      <th>secondary_cleaner.state.floatbank6_a_level</th>\n",
       "    </tr>\n",
       "  </thead>\n",
       "  <tbody>\n",
       "    <tr>\n",
       "      <td>0</td>\n",
       "      <td>2016-09-01 00:59:59</td>\n",
       "      <td>210.800909</td>\n",
       "      <td>14.993118</td>\n",
       "      <td>8.080000</td>\n",
       "      <td>1.005021</td>\n",
       "      <td>1398.981301</td>\n",
       "      <td>-500.225577</td>\n",
       "      <td>1399.144926</td>\n",
       "      <td>-499.919735</td>\n",
       "      <td>1400.102998</td>\n",
       "      <td>...</td>\n",
       "      <td>12.023554</td>\n",
       "      <td>-497.795834</td>\n",
       "      <td>8.016656</td>\n",
       "      <td>-501.289139</td>\n",
       "      <td>7.946562</td>\n",
       "      <td>-432.317850</td>\n",
       "      <td>4.872511</td>\n",
       "      <td>-500.037437</td>\n",
       "      <td>26.705889</td>\n",
       "      <td>-499.709414</td>\n",
       "    </tr>\n",
       "    <tr>\n",
       "      <td>1</td>\n",
       "      <td>2016-09-01 01:59:59</td>\n",
       "      <td>215.392455</td>\n",
       "      <td>14.987471</td>\n",
       "      <td>8.080000</td>\n",
       "      <td>0.990469</td>\n",
       "      <td>1398.777912</td>\n",
       "      <td>-500.057435</td>\n",
       "      <td>1398.055362</td>\n",
       "      <td>-499.778182</td>\n",
       "      <td>1396.151033</td>\n",
       "      <td>...</td>\n",
       "      <td>12.058140</td>\n",
       "      <td>-498.695773</td>\n",
       "      <td>8.130979</td>\n",
       "      <td>-499.634209</td>\n",
       "      <td>7.958270</td>\n",
       "      <td>-525.839648</td>\n",
       "      <td>4.878850</td>\n",
       "      <td>-500.162375</td>\n",
       "      <td>25.019940</td>\n",
       "      <td>-499.819438</td>\n",
       "    </tr>\n",
       "    <tr>\n",
       "      <td>2</td>\n",
       "      <td>2016-09-01 02:59:59</td>\n",
       "      <td>215.259946</td>\n",
       "      <td>12.884934</td>\n",
       "      <td>7.786667</td>\n",
       "      <td>0.996043</td>\n",
       "      <td>1398.493666</td>\n",
       "      <td>-500.868360</td>\n",
       "      <td>1398.860436</td>\n",
       "      <td>-499.764529</td>\n",
       "      <td>1398.075709</td>\n",
       "      <td>...</td>\n",
       "      <td>11.962366</td>\n",
       "      <td>-498.767484</td>\n",
       "      <td>8.096893</td>\n",
       "      <td>-500.827423</td>\n",
       "      <td>8.071056</td>\n",
       "      <td>-500.801673</td>\n",
       "      <td>4.905125</td>\n",
       "      <td>-499.828510</td>\n",
       "      <td>24.994862</td>\n",
       "      <td>-500.622559</td>\n",
       "    </tr>\n",
       "    <tr>\n",
       "      <td>3</td>\n",
       "      <td>2016-09-01 03:59:59</td>\n",
       "      <td>215.336236</td>\n",
       "      <td>12.006805</td>\n",
       "      <td>7.640000</td>\n",
       "      <td>0.863514</td>\n",
       "      <td>1399.618111</td>\n",
       "      <td>-498.863574</td>\n",
       "      <td>1397.440120</td>\n",
       "      <td>-499.211024</td>\n",
       "      <td>1400.129303</td>\n",
       "      <td>...</td>\n",
       "      <td>12.033091</td>\n",
       "      <td>-498.350935</td>\n",
       "      <td>8.074946</td>\n",
       "      <td>-499.474407</td>\n",
       "      <td>7.897085</td>\n",
       "      <td>-500.868509</td>\n",
       "      <td>4.931400</td>\n",
       "      <td>-499.963623</td>\n",
       "      <td>24.948919</td>\n",
       "      <td>-498.709987</td>\n",
       "    </tr>\n",
       "    <tr>\n",
       "      <td>4</td>\n",
       "      <td>2016-09-01 04:59:59</td>\n",
       "      <td>199.099327</td>\n",
       "      <td>10.682530</td>\n",
       "      <td>7.530000</td>\n",
       "      <td>0.805575</td>\n",
       "      <td>1401.268123</td>\n",
       "      <td>-500.808305</td>\n",
       "      <td>1398.128818</td>\n",
       "      <td>-499.504543</td>\n",
       "      <td>1402.172226</td>\n",
       "      <td>...</td>\n",
       "      <td>12.025367</td>\n",
       "      <td>-500.786497</td>\n",
       "      <td>8.054678</td>\n",
       "      <td>-500.397500</td>\n",
       "      <td>8.107890</td>\n",
       "      <td>-509.526725</td>\n",
       "      <td>4.957674</td>\n",
       "      <td>-500.360026</td>\n",
       "      <td>25.003331</td>\n",
       "      <td>-500.856333</td>\n",
       "    </tr>\n",
       "  </tbody>\n",
       "</table>\n",
       "<p>5 rows × 53 columns</p>\n",
       "</div>"
      ],
      "text/plain": [
       "                  date  primary_cleaner.input.sulfate  \\\n",
       "0  2016-09-01 00:59:59                     210.800909   \n",
       "1  2016-09-01 01:59:59                     215.392455   \n",
       "2  2016-09-01 02:59:59                     215.259946   \n",
       "3  2016-09-01 03:59:59                     215.336236   \n",
       "4  2016-09-01 04:59:59                     199.099327   \n",
       "\n",
       "   primary_cleaner.input.depressant  primary_cleaner.input.feed_size  \\\n",
       "0                         14.993118                         8.080000   \n",
       "1                         14.987471                         8.080000   \n",
       "2                         12.884934                         7.786667   \n",
       "3                         12.006805                         7.640000   \n",
       "4                         10.682530                         7.530000   \n",
       "\n",
       "   primary_cleaner.input.xanthate  primary_cleaner.state.floatbank8_a_air  \\\n",
       "0                        1.005021                             1398.981301   \n",
       "1                        0.990469                             1398.777912   \n",
       "2                        0.996043                             1398.493666   \n",
       "3                        0.863514                             1399.618111   \n",
       "4                        0.805575                             1401.268123   \n",
       "\n",
       "   primary_cleaner.state.floatbank8_a_level  \\\n",
       "0                               -500.225577   \n",
       "1                               -500.057435   \n",
       "2                               -500.868360   \n",
       "3                               -498.863574   \n",
       "4                               -500.808305   \n",
       "\n",
       "   primary_cleaner.state.floatbank8_b_air  \\\n",
       "0                             1399.144926   \n",
       "1                             1398.055362   \n",
       "2                             1398.860436   \n",
       "3                             1397.440120   \n",
       "4                             1398.128818   \n",
       "\n",
       "   primary_cleaner.state.floatbank8_b_level  \\\n",
       "0                               -499.919735   \n",
       "1                               -499.778182   \n",
       "2                               -499.764529   \n",
       "3                               -499.211024   \n",
       "4                               -499.504543   \n",
       "\n",
       "   primary_cleaner.state.floatbank8_c_air  ...  \\\n",
       "0                             1400.102998  ...   \n",
       "1                             1396.151033  ...   \n",
       "2                             1398.075709  ...   \n",
       "3                             1400.129303  ...   \n",
       "4                             1402.172226  ...   \n",
       "\n",
       "   secondary_cleaner.state.floatbank4_a_air  \\\n",
       "0                                 12.023554   \n",
       "1                                 12.058140   \n",
       "2                                 11.962366   \n",
       "3                                 12.033091   \n",
       "4                                 12.025367   \n",
       "\n",
       "   secondary_cleaner.state.floatbank4_a_level  \\\n",
       "0                                 -497.795834   \n",
       "1                                 -498.695773   \n",
       "2                                 -498.767484   \n",
       "3                                 -498.350935   \n",
       "4                                 -500.786497   \n",
       "\n",
       "   secondary_cleaner.state.floatbank4_b_air  \\\n",
       "0                                  8.016656   \n",
       "1                                  8.130979   \n",
       "2                                  8.096893   \n",
       "3                                  8.074946   \n",
       "4                                  8.054678   \n",
       "\n",
       "   secondary_cleaner.state.floatbank4_b_level  \\\n",
       "0                                 -501.289139   \n",
       "1                                 -499.634209   \n",
       "2                                 -500.827423   \n",
       "3                                 -499.474407   \n",
       "4                                 -500.397500   \n",
       "\n",
       "   secondary_cleaner.state.floatbank5_a_air  \\\n",
       "0                                  7.946562   \n",
       "1                                  7.958270   \n",
       "2                                  8.071056   \n",
       "3                                  7.897085   \n",
       "4                                  8.107890   \n",
       "\n",
       "   secondary_cleaner.state.floatbank5_a_level  \\\n",
       "0                                 -432.317850   \n",
       "1                                 -525.839648   \n",
       "2                                 -500.801673   \n",
       "3                                 -500.868509   \n",
       "4                                 -509.526725   \n",
       "\n",
       "   secondary_cleaner.state.floatbank5_b_air  \\\n",
       "0                                  4.872511   \n",
       "1                                  4.878850   \n",
       "2                                  4.905125   \n",
       "3                                  4.931400   \n",
       "4                                  4.957674   \n",
       "\n",
       "   secondary_cleaner.state.floatbank5_b_level  \\\n",
       "0                                 -500.037437   \n",
       "1                                 -500.162375   \n",
       "2                                 -499.828510   \n",
       "3                                 -499.963623   \n",
       "4                                 -500.360026   \n",
       "\n",
       "   secondary_cleaner.state.floatbank6_a_air  \\\n",
       "0                                 26.705889   \n",
       "1                                 25.019940   \n",
       "2                                 24.994862   \n",
       "3                                 24.948919   \n",
       "4                                 25.003331   \n",
       "\n",
       "   secondary_cleaner.state.floatbank6_a_level  \n",
       "0                                 -499.709414  \n",
       "1                                 -499.819438  \n",
       "2                                 -500.622559  \n",
       "3                                 -498.709987  \n",
       "4                                 -500.856333  \n",
       "\n",
       "[5 rows x 53 columns]"
      ]
     },
     "metadata": {},
     "output_type": "display_data"
    },
    {
     "data": {
      "text/html": [
       "<div>\n",
       "<style scoped>\n",
       "    .dataframe tbody tr th:only-of-type {\n",
       "        vertical-align: middle;\n",
       "    }\n",
       "\n",
       "    .dataframe tbody tr th {\n",
       "        vertical-align: top;\n",
       "    }\n",
       "\n",
       "    .dataframe thead th {\n",
       "        text-align: right;\n",
       "    }\n",
       "</style>\n",
       "<table border=\"1\" class=\"dataframe\">\n",
       "  <thead>\n",
       "    <tr style=\"text-align: right;\">\n",
       "      <th></th>\n",
       "      <th>date</th>\n",
       "      <th>final.output.concentrate_ag</th>\n",
       "      <th>final.output.concentrate_pb</th>\n",
       "      <th>final.output.concentrate_sol</th>\n",
       "      <th>final.output.concentrate_au</th>\n",
       "      <th>final.output.recovery</th>\n",
       "      <th>final.output.tail_ag</th>\n",
       "      <th>final.output.tail_pb</th>\n",
       "      <th>final.output.tail_sol</th>\n",
       "      <th>final.output.tail_au</th>\n",
       "      <th>...</th>\n",
       "      <th>secondary_cleaner.state.floatbank4_a_air</th>\n",
       "      <th>secondary_cleaner.state.floatbank4_a_level</th>\n",
       "      <th>secondary_cleaner.state.floatbank4_b_air</th>\n",
       "      <th>secondary_cleaner.state.floatbank4_b_level</th>\n",
       "      <th>secondary_cleaner.state.floatbank5_a_air</th>\n",
       "      <th>secondary_cleaner.state.floatbank5_a_level</th>\n",
       "      <th>secondary_cleaner.state.floatbank5_b_air</th>\n",
       "      <th>secondary_cleaner.state.floatbank5_b_level</th>\n",
       "      <th>secondary_cleaner.state.floatbank6_a_air</th>\n",
       "      <th>secondary_cleaner.state.floatbank6_a_level</th>\n",
       "    </tr>\n",
       "  </thead>\n",
       "  <tbody>\n",
       "    <tr>\n",
       "      <td>0</td>\n",
       "      <td>2016-01-15 00:00:00</td>\n",
       "      <td>6.055403</td>\n",
       "      <td>9.889648</td>\n",
       "      <td>5.507324</td>\n",
       "      <td>42.192020</td>\n",
       "      <td>70.541216</td>\n",
       "      <td>10.411962</td>\n",
       "      <td>0.895447</td>\n",
       "      <td>16.904297</td>\n",
       "      <td>2.143149</td>\n",
       "      <td>...</td>\n",
       "      <td>14.016835</td>\n",
       "      <td>-502.488007</td>\n",
       "      <td>12.099931</td>\n",
       "      <td>-504.715942</td>\n",
       "      <td>9.925633</td>\n",
       "      <td>-498.310211</td>\n",
       "      <td>8.079666</td>\n",
       "      <td>-500.470978</td>\n",
       "      <td>14.151341</td>\n",
       "      <td>-605.841980</td>\n",
       "    </tr>\n",
       "    <tr>\n",
       "      <td>1</td>\n",
       "      <td>2016-01-15 01:00:00</td>\n",
       "      <td>6.029369</td>\n",
       "      <td>9.968944</td>\n",
       "      <td>5.257781</td>\n",
       "      <td>42.701629</td>\n",
       "      <td>69.266198</td>\n",
       "      <td>10.462676</td>\n",
       "      <td>0.927452</td>\n",
       "      <td>16.634514</td>\n",
       "      <td>2.224930</td>\n",
       "      <td>...</td>\n",
       "      <td>13.992281</td>\n",
       "      <td>-505.503262</td>\n",
       "      <td>11.950531</td>\n",
       "      <td>-501.331529</td>\n",
       "      <td>10.039245</td>\n",
       "      <td>-500.169983</td>\n",
       "      <td>7.984757</td>\n",
       "      <td>-500.582168</td>\n",
       "      <td>13.998353</td>\n",
       "      <td>-599.787184</td>\n",
       "    </tr>\n",
       "    <tr>\n",
       "      <td>2</td>\n",
       "      <td>2016-01-15 02:00:00</td>\n",
       "      <td>6.055926</td>\n",
       "      <td>10.213995</td>\n",
       "      <td>5.383759</td>\n",
       "      <td>42.657501</td>\n",
       "      <td>68.116445</td>\n",
       "      <td>10.507046</td>\n",
       "      <td>0.953716</td>\n",
       "      <td>16.208849</td>\n",
       "      <td>2.257889</td>\n",
       "      <td>...</td>\n",
       "      <td>14.015015</td>\n",
       "      <td>-502.520901</td>\n",
       "      <td>11.912783</td>\n",
       "      <td>-501.133383</td>\n",
       "      <td>10.070913</td>\n",
       "      <td>-500.129135</td>\n",
       "      <td>8.013877</td>\n",
       "      <td>-500.517572</td>\n",
       "      <td>14.028663</td>\n",
       "      <td>-601.427363</td>\n",
       "    </tr>\n",
       "    <tr>\n",
       "      <td>3</td>\n",
       "      <td>2016-01-15 03:00:00</td>\n",
       "      <td>6.047977</td>\n",
       "      <td>9.977019</td>\n",
       "      <td>4.858634</td>\n",
       "      <td>42.689819</td>\n",
       "      <td>68.347543</td>\n",
       "      <td>10.422762</td>\n",
       "      <td>0.883763</td>\n",
       "      <td>16.532835</td>\n",
       "      <td>2.146849</td>\n",
       "      <td>...</td>\n",
       "      <td>14.036510</td>\n",
       "      <td>-500.857308</td>\n",
       "      <td>11.999550</td>\n",
       "      <td>-501.193686</td>\n",
       "      <td>9.970366</td>\n",
       "      <td>-499.201640</td>\n",
       "      <td>7.977324</td>\n",
       "      <td>-500.255908</td>\n",
       "      <td>14.005551</td>\n",
       "      <td>-599.996129</td>\n",
       "    </tr>\n",
       "    <tr>\n",
       "      <td>4</td>\n",
       "      <td>2016-01-15 04:00:00</td>\n",
       "      <td>6.148599</td>\n",
       "      <td>10.142511</td>\n",
       "      <td>4.939416</td>\n",
       "      <td>42.774141</td>\n",
       "      <td>66.927016</td>\n",
       "      <td>10.360302</td>\n",
       "      <td>0.792826</td>\n",
       "      <td>16.525686</td>\n",
       "      <td>2.055292</td>\n",
       "      <td>...</td>\n",
       "      <td>14.027298</td>\n",
       "      <td>-499.838632</td>\n",
       "      <td>11.953070</td>\n",
       "      <td>-501.053894</td>\n",
       "      <td>9.925709</td>\n",
       "      <td>-501.686727</td>\n",
       "      <td>7.894242</td>\n",
       "      <td>-500.356035</td>\n",
       "      <td>13.996647</td>\n",
       "      <td>-601.496691</td>\n",
       "    </tr>\n",
       "  </tbody>\n",
       "</table>\n",
       "<p>5 rows × 87 columns</p>\n",
       "</div>"
      ],
      "text/plain": [
       "                  date  final.output.concentrate_ag  \\\n",
       "0  2016-01-15 00:00:00                     6.055403   \n",
       "1  2016-01-15 01:00:00                     6.029369   \n",
       "2  2016-01-15 02:00:00                     6.055926   \n",
       "3  2016-01-15 03:00:00                     6.047977   \n",
       "4  2016-01-15 04:00:00                     6.148599   \n",
       "\n",
       "   final.output.concentrate_pb  final.output.concentrate_sol  \\\n",
       "0                     9.889648                      5.507324   \n",
       "1                     9.968944                      5.257781   \n",
       "2                    10.213995                      5.383759   \n",
       "3                     9.977019                      4.858634   \n",
       "4                    10.142511                      4.939416   \n",
       "\n",
       "   final.output.concentrate_au  final.output.recovery  final.output.tail_ag  \\\n",
       "0                    42.192020              70.541216             10.411962   \n",
       "1                    42.701629              69.266198             10.462676   \n",
       "2                    42.657501              68.116445             10.507046   \n",
       "3                    42.689819              68.347543             10.422762   \n",
       "4                    42.774141              66.927016             10.360302   \n",
       "\n",
       "   final.output.tail_pb  final.output.tail_sol  final.output.tail_au  ...  \\\n",
       "0              0.895447              16.904297              2.143149  ...   \n",
       "1              0.927452              16.634514              2.224930  ...   \n",
       "2              0.953716              16.208849              2.257889  ...   \n",
       "3              0.883763              16.532835              2.146849  ...   \n",
       "4              0.792826              16.525686              2.055292  ...   \n",
       "\n",
       "   secondary_cleaner.state.floatbank4_a_air  \\\n",
       "0                                 14.016835   \n",
       "1                                 13.992281   \n",
       "2                                 14.015015   \n",
       "3                                 14.036510   \n",
       "4                                 14.027298   \n",
       "\n",
       "   secondary_cleaner.state.floatbank4_a_level  \\\n",
       "0                                 -502.488007   \n",
       "1                                 -505.503262   \n",
       "2                                 -502.520901   \n",
       "3                                 -500.857308   \n",
       "4                                 -499.838632   \n",
       "\n",
       "   secondary_cleaner.state.floatbank4_b_air  \\\n",
       "0                                 12.099931   \n",
       "1                                 11.950531   \n",
       "2                                 11.912783   \n",
       "3                                 11.999550   \n",
       "4                                 11.953070   \n",
       "\n",
       "   secondary_cleaner.state.floatbank4_b_level  \\\n",
       "0                                 -504.715942   \n",
       "1                                 -501.331529   \n",
       "2                                 -501.133383   \n",
       "3                                 -501.193686   \n",
       "4                                 -501.053894   \n",
       "\n",
       "   secondary_cleaner.state.floatbank5_a_air  \\\n",
       "0                                  9.925633   \n",
       "1                                 10.039245   \n",
       "2                                 10.070913   \n",
       "3                                  9.970366   \n",
       "4                                  9.925709   \n",
       "\n",
       "   secondary_cleaner.state.floatbank5_a_level  \\\n",
       "0                                 -498.310211   \n",
       "1                                 -500.169983   \n",
       "2                                 -500.129135   \n",
       "3                                 -499.201640   \n",
       "4                                 -501.686727   \n",
       "\n",
       "   secondary_cleaner.state.floatbank5_b_air  \\\n",
       "0                                  8.079666   \n",
       "1                                  7.984757   \n",
       "2                                  8.013877   \n",
       "3                                  7.977324   \n",
       "4                                  7.894242   \n",
       "\n",
       "   secondary_cleaner.state.floatbank5_b_level  \\\n",
       "0                                 -500.470978   \n",
       "1                                 -500.582168   \n",
       "2                                 -500.517572   \n",
       "3                                 -500.255908   \n",
       "4                                 -500.356035   \n",
       "\n",
       "   secondary_cleaner.state.floatbank6_a_air  \\\n",
       "0                                 14.151341   \n",
       "1                                 13.998353   \n",
       "2                                 14.028663   \n",
       "3                                 14.005551   \n",
       "4                                 13.996647   \n",
       "\n",
       "   secondary_cleaner.state.floatbank6_a_level  \n",
       "0                                 -605.841980  \n",
       "1                                 -599.787184  \n",
       "2                                 -601.427363  \n",
       "3                                 -599.996129  \n",
       "4                                 -601.496691  \n",
       "\n",
       "[5 rows x 87 columns]"
      ]
     },
     "metadata": {},
     "output_type": "display_data"
    }
   ],
   "source": [
    "display(data_train.head())\n",
    "display(data_test.head())\n",
    "display(data_full.head())"
   ]
  },
  {
   "cell_type": "code",
   "execution_count": 4,
   "metadata": {},
   "outputs": [
    {
     "name": "stdout",
     "output_type": "stream",
     "text": [
      "<class 'pandas.core.frame.DataFrame'>\n",
      "RangeIndex: 14149 entries, 0 to 14148\n",
      "Data columns (total 87 columns):\n",
      "date                                                  14149 non-null object\n",
      "final.output.concentrate_ag                           14148 non-null float64\n",
      "final.output.concentrate_pb                           14148 non-null float64\n",
      "final.output.concentrate_sol                          13938 non-null float64\n",
      "final.output.concentrate_au                           14149 non-null float64\n",
      "final.output.recovery                                 14149 non-null float64\n",
      "final.output.tail_ag                                  14149 non-null float64\n",
      "final.output.tail_pb                                  14049 non-null float64\n",
      "final.output.tail_sol                                 14144 non-null float64\n",
      "final.output.tail_au                                  14149 non-null float64\n",
      "primary_cleaner.input.sulfate                         14129 non-null float64\n",
      "primary_cleaner.input.depressant                      14117 non-null float64\n",
      "primary_cleaner.input.feed_size                       14149 non-null float64\n",
      "primary_cleaner.input.xanthate                        14049 non-null float64\n",
      "primary_cleaner.output.concentrate_ag                 14149 non-null float64\n",
      "primary_cleaner.output.concentrate_pb                 14063 non-null float64\n",
      "primary_cleaner.output.concentrate_sol                13863 non-null float64\n",
      "primary_cleaner.output.concentrate_au                 14149 non-null float64\n",
      "primary_cleaner.output.tail_ag                        14148 non-null float64\n",
      "primary_cleaner.output.tail_pb                        14134 non-null float64\n",
      "primary_cleaner.output.tail_sol                       14103 non-null float64\n",
      "primary_cleaner.output.tail_au                        14149 non-null float64\n",
      "primary_cleaner.state.floatbank8_a_air                14145 non-null float64\n",
      "primary_cleaner.state.floatbank8_a_level              14148 non-null float64\n",
      "primary_cleaner.state.floatbank8_b_air                14145 non-null float64\n",
      "primary_cleaner.state.floatbank8_b_level              14148 non-null float64\n",
      "primary_cleaner.state.floatbank8_c_air                14147 non-null float64\n",
      "primary_cleaner.state.floatbank8_c_level              14148 non-null float64\n",
      "primary_cleaner.state.floatbank8_d_air                14146 non-null float64\n",
      "primary_cleaner.state.floatbank8_d_level              14148 non-null float64\n",
      "rougher.calculation.sulfate_to_au_concentrate         14148 non-null float64\n",
      "rougher.calculation.floatbank10_sulfate_to_au_feed    14148 non-null float64\n",
      "rougher.calculation.floatbank11_sulfate_to_au_feed    14148 non-null float64\n",
      "rougher.calculation.au_pb_ratio                       14149 non-null float64\n",
      "rougher.input.feed_ag                                 14149 non-null float64\n",
      "rougher.input.feed_pb                                 14049 non-null float64\n",
      "rougher.input.feed_rate                               14141 non-null float64\n",
      "rougher.input.feed_size                               14005 non-null float64\n",
      "rougher.input.feed_sol                                14071 non-null float64\n",
      "rougher.input.feed_au                                 14149 non-null float64\n",
      "rougher.input.floatbank10_sulfate                     14120 non-null float64\n",
      "rougher.input.floatbank10_xanthate                    14141 non-null float64\n",
      "rougher.input.floatbank11_sulfate                     14113 non-null float64\n",
      "rougher.input.floatbank11_xanthate                    13721 non-null float64\n",
      "rougher.output.concentrate_ag                         14149 non-null float64\n",
      "rougher.output.concentrate_pb                         14149 non-null float64\n",
      "rougher.output.concentrate_sol                        14127 non-null float64\n",
      "rougher.output.concentrate_au                         14149 non-null float64\n",
      "rougher.output.recovery                               14149 non-null float64\n",
      "rougher.output.tail_ag                                14148 non-null float64\n",
      "rougher.output.tail_pb                                14149 non-null float64\n",
      "rougher.output.tail_sol                               14149 non-null float64\n",
      "rougher.output.tail_au                                14149 non-null float64\n",
      "rougher.state.floatbank10_a_air                       14148 non-null float64\n",
      "rougher.state.floatbank10_a_level                     14148 non-null float64\n",
      "rougher.state.floatbank10_b_air                       14148 non-null float64\n",
      "rougher.state.floatbank10_b_level                     14148 non-null float64\n",
      "rougher.state.floatbank10_c_air                       14148 non-null float64\n",
      "rougher.state.floatbank10_c_level                     14148 non-null float64\n",
      "rougher.state.floatbank10_d_air                       14149 non-null float64\n",
      "rougher.state.floatbank10_d_level                     14149 non-null float64\n",
      "rougher.state.floatbank10_e_air                       13713 non-null float64\n",
      "rougher.state.floatbank10_e_level                     14149 non-null float64\n",
      "rougher.state.floatbank10_f_air                       14149 non-null float64\n",
      "rougher.state.floatbank10_f_level                     14149 non-null float64\n",
      "secondary_cleaner.output.tail_ag                      14147 non-null float64\n",
      "secondary_cleaner.output.tail_pb                      14139 non-null float64\n",
      "secondary_cleaner.output.tail_sol                     12544 non-null float64\n",
      "secondary_cleaner.output.tail_au                      14149 non-null float64\n",
      "secondary_cleaner.state.floatbank2_a_air              13932 non-null float64\n",
      "secondary_cleaner.state.floatbank2_a_level            14148 non-null float64\n",
      "secondary_cleaner.state.floatbank2_b_air              14128 non-null float64\n",
      "secondary_cleaner.state.floatbank2_b_level            14148 non-null float64\n",
      "secondary_cleaner.state.floatbank3_a_air              14145 non-null float64\n",
      "secondary_cleaner.state.floatbank3_a_level            14148 non-null float64\n",
      "secondary_cleaner.state.floatbank3_b_air              14148 non-null float64\n",
      "secondary_cleaner.state.floatbank3_b_level            14148 non-null float64\n",
      "secondary_cleaner.state.floatbank4_a_air              14143 non-null float64\n",
      "secondary_cleaner.state.floatbank4_a_level            14148 non-null float64\n",
      "secondary_cleaner.state.floatbank4_b_air              14148 non-null float64\n",
      "secondary_cleaner.state.floatbank4_b_level            14148 non-null float64\n",
      "secondary_cleaner.state.floatbank5_a_air              14148 non-null float64\n",
      "secondary_cleaner.state.floatbank5_a_level            14148 non-null float64\n",
      "secondary_cleaner.state.floatbank5_b_air              14148 non-null float64\n",
      "secondary_cleaner.state.floatbank5_b_level            14148 non-null float64\n",
      "secondary_cleaner.state.floatbank6_a_air              14147 non-null float64\n",
      "secondary_cleaner.state.floatbank6_a_level            14148 non-null float64\n",
      "dtypes: float64(86), object(1)\n",
      "memory usage: 9.4+ MB\n"
     ]
    },
    {
     "data": {
      "text/plain": [
       "None"
      ]
     },
     "metadata": {},
     "output_type": "display_data"
    },
    {
     "name": "stdout",
     "output_type": "stream",
     "text": [
      "<class 'pandas.core.frame.DataFrame'>\n",
      "RangeIndex: 5290 entries, 0 to 5289\n",
      "Data columns (total 53 columns):\n",
      "date                                          5290 non-null object\n",
      "primary_cleaner.input.sulfate                 5286 non-null float64\n",
      "primary_cleaner.input.depressant              5285 non-null float64\n",
      "primary_cleaner.input.feed_size               5290 non-null float64\n",
      "primary_cleaner.input.xanthate                5286 non-null float64\n",
      "primary_cleaner.state.floatbank8_a_air        5290 non-null float64\n",
      "primary_cleaner.state.floatbank8_a_level      5290 non-null float64\n",
      "primary_cleaner.state.floatbank8_b_air        5290 non-null float64\n",
      "primary_cleaner.state.floatbank8_b_level      5290 non-null float64\n",
      "primary_cleaner.state.floatbank8_c_air        5290 non-null float64\n",
      "primary_cleaner.state.floatbank8_c_level      5290 non-null float64\n",
      "primary_cleaner.state.floatbank8_d_air        5290 non-null float64\n",
      "primary_cleaner.state.floatbank8_d_level      5290 non-null float64\n",
      "rougher.input.feed_ag                         5290 non-null float64\n",
      "rougher.input.feed_pb                         5290 non-null float64\n",
      "rougher.input.feed_rate                       5287 non-null float64\n",
      "rougher.input.feed_size                       5289 non-null float64\n",
      "rougher.input.feed_sol                        5269 non-null float64\n",
      "rougher.input.feed_au                         5290 non-null float64\n",
      "rougher.input.floatbank10_sulfate             5285 non-null float64\n",
      "rougher.input.floatbank10_xanthate            5290 non-null float64\n",
      "rougher.input.floatbank11_sulfate             5282 non-null float64\n",
      "rougher.input.floatbank11_xanthate            5265 non-null float64\n",
      "rougher.state.floatbank10_a_air               5290 non-null float64\n",
      "rougher.state.floatbank10_a_level             5290 non-null float64\n",
      "rougher.state.floatbank10_b_air               5290 non-null float64\n",
      "rougher.state.floatbank10_b_level             5290 non-null float64\n",
      "rougher.state.floatbank10_c_air               5290 non-null float64\n",
      "rougher.state.floatbank10_c_level             5290 non-null float64\n",
      "rougher.state.floatbank10_d_air               5290 non-null float64\n",
      "rougher.state.floatbank10_d_level             5290 non-null float64\n",
      "rougher.state.floatbank10_e_air               5290 non-null float64\n",
      "rougher.state.floatbank10_e_level             5290 non-null float64\n",
      "rougher.state.floatbank10_f_air               5290 non-null float64\n",
      "rougher.state.floatbank10_f_level             5290 non-null float64\n",
      "secondary_cleaner.state.floatbank2_a_air      5287 non-null float64\n",
      "secondary_cleaner.state.floatbank2_a_level    5290 non-null float64\n",
      "secondary_cleaner.state.floatbank2_b_air      5288 non-null float64\n",
      "secondary_cleaner.state.floatbank2_b_level    5290 non-null float64\n",
      "secondary_cleaner.state.floatbank3_a_air      5281 non-null float64\n",
      "secondary_cleaner.state.floatbank3_a_level    5290 non-null float64\n",
      "secondary_cleaner.state.floatbank3_b_air      5290 non-null float64\n",
      "secondary_cleaner.state.floatbank3_b_level    5290 non-null float64\n",
      "secondary_cleaner.state.floatbank4_a_air      5290 non-null float64\n",
      "secondary_cleaner.state.floatbank4_a_level    5290 non-null float64\n",
      "secondary_cleaner.state.floatbank4_b_air      5290 non-null float64\n",
      "secondary_cleaner.state.floatbank4_b_level    5290 non-null float64\n",
      "secondary_cleaner.state.floatbank5_a_air      5290 non-null float64\n",
      "secondary_cleaner.state.floatbank5_a_level    5290 non-null float64\n",
      "secondary_cleaner.state.floatbank5_b_air      5290 non-null float64\n",
      "secondary_cleaner.state.floatbank5_b_level    5290 non-null float64\n",
      "secondary_cleaner.state.floatbank6_a_air      5290 non-null float64\n",
      "secondary_cleaner.state.floatbank6_a_level    5290 non-null float64\n",
      "dtypes: float64(52), object(1)\n",
      "memory usage: 2.1+ MB\n"
     ]
    },
    {
     "data": {
      "text/plain": [
       "None"
      ]
     },
     "metadata": {},
     "output_type": "display_data"
    },
    {
     "name": "stdout",
     "output_type": "stream",
     "text": [
      "<class 'pandas.core.frame.DataFrame'>\n",
      "RangeIndex: 19439 entries, 0 to 19438\n",
      "Data columns (total 87 columns):\n",
      "date                                                  19439 non-null object\n",
      "final.output.concentrate_ag                           19438 non-null float64\n",
      "final.output.concentrate_pb                           19438 non-null float64\n",
      "final.output.concentrate_sol                          19228 non-null float64\n",
      "final.output.concentrate_au                           19439 non-null float64\n",
      "final.output.recovery                                 19439 non-null float64\n",
      "final.output.tail_ag                                  19438 non-null float64\n",
      "final.output.tail_pb                                  19338 non-null float64\n",
      "final.output.tail_sol                                 19433 non-null float64\n",
      "final.output.tail_au                                  19439 non-null float64\n",
      "primary_cleaner.input.sulfate                         19415 non-null float64\n",
      "primary_cleaner.input.depressant                      19402 non-null float64\n",
      "primary_cleaner.input.feed_size                       19439 non-null float64\n",
      "primary_cleaner.input.xanthate                        19335 non-null float64\n",
      "primary_cleaner.output.concentrate_ag                 19439 non-null float64\n",
      "primary_cleaner.output.concentrate_pb                 19323 non-null float64\n",
      "primary_cleaner.output.concentrate_sol                19069 non-null float64\n",
      "primary_cleaner.output.concentrate_au                 19439 non-null float64\n",
      "primary_cleaner.output.tail_ag                        19435 non-null float64\n",
      "primary_cleaner.output.tail_pb                        19418 non-null float64\n",
      "primary_cleaner.output.tail_sol                       19377 non-null float64\n",
      "primary_cleaner.output.tail_au                        19439 non-null float64\n",
      "primary_cleaner.state.floatbank8_a_air                19435 non-null float64\n",
      "primary_cleaner.state.floatbank8_a_level              19438 non-null float64\n",
      "primary_cleaner.state.floatbank8_b_air                19435 non-null float64\n",
      "primary_cleaner.state.floatbank8_b_level              19438 non-null float64\n",
      "primary_cleaner.state.floatbank8_c_air                19437 non-null float64\n",
      "primary_cleaner.state.floatbank8_c_level              19438 non-null float64\n",
      "primary_cleaner.state.floatbank8_d_air                19436 non-null float64\n",
      "primary_cleaner.state.floatbank8_d_level              19438 non-null float64\n",
      "rougher.calculation.sulfate_to_au_concentrate         19437 non-null float64\n",
      "rougher.calculation.floatbank10_sulfate_to_au_feed    19437 non-null float64\n",
      "rougher.calculation.floatbank11_sulfate_to_au_feed    19437 non-null float64\n",
      "rougher.calculation.au_pb_ratio                       19439 non-null float64\n",
      "rougher.input.feed_ag                                 19439 non-null float64\n",
      "rougher.input.feed_pb                                 19339 non-null float64\n",
      "rougher.input.feed_rate                               19428 non-null float64\n",
      "rougher.input.feed_size                               19294 non-null float64\n",
      "rougher.input.feed_sol                                19340 non-null float64\n",
      "rougher.input.feed_au                                 19439 non-null float64\n",
      "rougher.input.floatbank10_sulfate                     19405 non-null float64\n",
      "rougher.input.floatbank10_xanthate                    19431 non-null float64\n",
      "rougher.input.floatbank11_sulfate                     19395 non-null float64\n",
      "rougher.input.floatbank11_xanthate                    18986 non-null float64\n",
      "rougher.output.concentrate_ag                         19439 non-null float64\n",
      "rougher.output.concentrate_pb                         19439 non-null float64\n",
      "rougher.output.concentrate_sol                        19416 non-null float64\n",
      "rougher.output.concentrate_au                         19439 non-null float64\n",
      "rougher.output.recovery                               19439 non-null float64\n",
      "rougher.output.tail_ag                                19438 non-null float64\n",
      "rougher.output.tail_pb                                19439 non-null float64\n",
      "rougher.output.tail_sol                               19439 non-null float64\n",
      "rougher.output.tail_au                                19439 non-null float64\n",
      "rougher.state.floatbank10_a_air                       19438 non-null float64\n",
      "rougher.state.floatbank10_a_level                     19438 non-null float64\n",
      "rougher.state.floatbank10_b_air                       19438 non-null float64\n",
      "rougher.state.floatbank10_b_level                     19438 non-null float64\n",
      "rougher.state.floatbank10_c_air                       19438 non-null float64\n",
      "rougher.state.floatbank10_c_level                     19438 non-null float64\n",
      "rougher.state.floatbank10_d_air                       19439 non-null float64\n",
      "rougher.state.floatbank10_d_level                     19439 non-null float64\n",
      "rougher.state.floatbank10_e_air                       19003 non-null float64\n",
      "rougher.state.floatbank10_e_level                     19439 non-null float64\n",
      "rougher.state.floatbank10_f_air                       19439 non-null float64\n",
      "rougher.state.floatbank10_f_level                     19439 non-null float64\n",
      "secondary_cleaner.output.tail_ag                      19437 non-null float64\n",
      "secondary_cleaner.output.tail_pb                      19427 non-null float64\n",
      "secondary_cleaner.output.tail_sol                     17691 non-null float64\n",
      "secondary_cleaner.output.tail_au                      19439 non-null float64\n",
      "secondary_cleaner.state.floatbank2_a_air              19219 non-null float64\n",
      "secondary_cleaner.state.floatbank2_a_level            19438 non-null float64\n",
      "secondary_cleaner.state.floatbank2_b_air              19416 non-null float64\n",
      "secondary_cleaner.state.floatbank2_b_level            19438 non-null float64\n",
      "secondary_cleaner.state.floatbank3_a_air              19426 non-null float64\n",
      "secondary_cleaner.state.floatbank3_a_level            19438 non-null float64\n",
      "secondary_cleaner.state.floatbank3_b_air              19438 non-null float64\n",
      "secondary_cleaner.state.floatbank3_b_level            19438 non-null float64\n",
      "secondary_cleaner.state.floatbank4_a_air              19433 non-null float64\n",
      "secondary_cleaner.state.floatbank4_a_level            19438 non-null float64\n",
      "secondary_cleaner.state.floatbank4_b_air              19438 non-null float64\n",
      "secondary_cleaner.state.floatbank4_b_level            19438 non-null float64\n",
      "secondary_cleaner.state.floatbank5_a_air              19438 non-null float64\n",
      "secondary_cleaner.state.floatbank5_a_level            19438 non-null float64\n",
      "secondary_cleaner.state.floatbank5_b_air              19438 non-null float64\n",
      "secondary_cleaner.state.floatbank5_b_level            19438 non-null float64\n",
      "secondary_cleaner.state.floatbank6_a_air              19437 non-null float64\n",
      "secondary_cleaner.state.floatbank6_a_level            19438 non-null float64\n",
      "dtypes: float64(86), object(1)\n",
      "memory usage: 12.9+ MB\n"
     ]
    },
    {
     "data": {
      "text/plain": [
       "None"
      ]
     },
     "metadata": {},
     "output_type": "display_data"
    }
   ],
   "source": [
    "display(data_train.info())\n",
    "display(data_test.info())\n",
    "display(data_full.info())"
   ]
  },
  {
   "cell_type": "code",
   "execution_count": null,
   "metadata": {},
   "outputs": [],
   "source": []
  },
  {
   "cell_type": "markdown",
   "metadata": {},
   "source": [
    "<div style=\"background: #cceeaa; padding: 5px; border: 1px solid green; border-radius: 5px;\">\n",
    "    <font color='green'> <b><u>КОММЕНТАРИЙ РЕВЬЮЕРА</u></b>\n",
    "</font>\n",
    "<font color='green'><br>ок, данные на базе и на месте первичный аналитический осмотр."
   ]
  },
  {
   "cell_type": "markdown",
   "metadata": {},
   "source": [
    "### Проверка того, что эффективность обогащения рассчитана правильно. Вычисление на обучающей выборке для признака rougher.output.recovery. Нахождение MAE между расчётами и значением признака.\n",
    "\n",
    "\n",
    "Recovery = (C * (F - T)) / (F * (C - T)) * 100% (формула для расчета эффективности) \n",
    "\n",
    "C — доля золота в концентрате после флотации/очистки;\n",
    "\n",
    "F — доля золота в сырье/концентрате до флотации/очистки;\n",
    "\n",
    "T — доля золота в отвальных хвостах после флотации/очистки."
   ]
  },
  {
   "cell_type": "code",
   "execution_count": 5,
   "metadata": {},
   "outputs": [],
   "source": [
    "C = data_train['rougher.output.concentrate_au']\n",
    "F = data_train['rougher.input.feed_au']\n",
    "T = data_train['rougher.output.tail_au']"
   ]
  },
  {
   "cell_type": "code",
   "execution_count": 6,
   "metadata": {},
   "outputs": [
    {
     "name": "stdout",
     "output_type": "stream",
     "text": [
      "MAE = 1.1100347049376098e-14\n"
     ]
    }
   ],
   "source": [
    "data_train['rougher.output.recovery_calculations'] = (C * (F - T)) * 100 / (F * (C - T))\n",
    "MAE = 1/len(data_train) * abs(data_train['rougher.output.recovery'] - data_train['rougher.output.recovery_calculations']).sum()\n",
    "print(f'MAE = {MAE}')"
   ]
  },
  {
   "cell_type": "markdown",
   "metadata": {},
   "source": [
    "Средняя абсолютная ошибка мала, значит recovery посчитан верно."
   ]
  },
  {
   "cell_type": "markdown",
   "metadata": {},
   "source": [
    "<div style=\"background: #cceeaa; padding: 5px; border: 1px solid green; border-radius: 5px;\">\n",
    "    <font color='green'> <b><u>КОММЕНТАРИЙ РЕВЬЮЕРА</u></b>\n",
    "</font>\n",
    "<font color='green'><br>ессть контакт)"
   ]
  },
  {
   "cell_type": "markdown",
   "metadata": {},
   "source": [
    "### Анализ признаков, недоступные в тестовой выборке. Что это за параметры? К какому типу относятся?"
   ]
  },
  {
   "cell_type": "code",
   "execution_count": 7,
   "metadata": {},
   "outputs": [],
   "source": [
    "columns = data_train.columns.difference(data_test.columns)"
   ]
  },
  {
   "cell_type": "code",
   "execution_count": 8,
   "metadata": {},
   "outputs": [
    {
     "name": "stdout",
     "output_type": "stream",
     "text": [
      "Index(['final.output.concentrate_ag', 'final.output.concentrate_au',\n",
      "       'final.output.concentrate_pb', 'final.output.concentrate_sol',\n",
      "       'final.output.recovery', 'final.output.tail_ag', 'final.output.tail_au',\n",
      "       'final.output.tail_pb', 'final.output.tail_sol',\n",
      "       'primary_cleaner.output.concentrate_ag',\n",
      "       'primary_cleaner.output.concentrate_au',\n",
      "       'primary_cleaner.output.concentrate_pb',\n",
      "       'primary_cleaner.output.concentrate_sol',\n",
      "       'primary_cleaner.output.tail_ag', 'primary_cleaner.output.tail_au',\n",
      "       'primary_cleaner.output.tail_pb', 'primary_cleaner.output.tail_sol',\n",
      "       'rougher.calculation.au_pb_ratio',\n",
      "       'rougher.calculation.floatbank10_sulfate_to_au_feed',\n",
      "       'rougher.calculation.floatbank11_sulfate_to_au_feed',\n",
      "       'rougher.calculation.sulfate_to_au_concentrate',\n",
      "       'rougher.output.concentrate_ag', 'rougher.output.concentrate_au',\n",
      "       'rougher.output.concentrate_pb', 'rougher.output.concentrate_sol',\n",
      "       'rougher.output.recovery', 'rougher.output.recovery_calculations',\n",
      "       'rougher.output.tail_ag', 'rougher.output.tail_au',\n",
      "       'rougher.output.tail_pb', 'rougher.output.tail_sol',\n",
      "       'secondary_cleaner.output.tail_ag', 'secondary_cleaner.output.tail_au',\n",
      "       'secondary_cleaner.output.tail_pb',\n",
      "       'secondary_cleaner.output.tail_sol'],\n",
      "      dtype='object')\n"
     ]
    }
   ],
   "source": [
    "print(columns)"
   ]
  },
  {
   "cell_type": "markdown",
   "metadata": {},
   "source": [
    "Эти данные недоступны во время процесса."
   ]
  },
  {
   "cell_type": "markdown",
   "metadata": {},
   "source": [
    "<div style=\"background: #cceeaa; padding: 5px; border: 1px solid green; border-radius: 5px;\">\n",
    "<font color='green'> \n",
    "<u>КОММЕНТАРИЙ РЕВЬЮЕРА</u>\n",
    "<font color='green'><br>\n",
    "В общем, да, \n",
    "В тестовой выборке недоступны некоторые расчетные (calculation) и выходные (output) характеристики процесса, т.к. их невозможно получить/измерить во время выполнения технологического процесса. "
   ]
  },
  {
   "cell_type": "code",
   "execution_count": null,
   "metadata": {},
   "outputs": [],
   "source": []
  },
  {
   "cell_type": "markdown",
   "metadata": {},
   "source": [
    "### Предобработка данных."
   ]
  },
  {
   "cell_type": "code",
   "execution_count": 9,
   "metadata": {},
   "outputs": [
    {
     "name": "stdout",
     "output_type": "stream",
     "text": [
      "Shape = (14149, 88)\n",
      "NA = 4100\n",
      "Duplicates = 0\n",
      "-\n",
      "Shape = (5290, 53)\n",
      "NA = 90\n",
      "Duplicates = 0\n",
      "-\n",
      "Shape = (19439, 87)\n",
      "NA = 4481\n",
      "Duplicates = 0\n",
      "-\n"
     ]
    }
   ],
   "source": [
    "datasets = [data_train, data_test, data_full]\n",
    "for dataset in datasets:\n",
    "    print(f'Shape = {dataset.shape}')\n",
    "    print(f'NA = {dataset.isna().sum().sum()}')\n",
    "    print(f'Duplicates = {dataset.duplicated().sum()}')\n",
    "    print('-')"
   ]
  },
  {
   "cell_type": "code",
   "execution_count": 10,
   "metadata": {},
   "outputs": [],
   "source": [
    "data_test = data_test.merge(data_full[['date', 'rougher.output.recovery', 'final.output.recovery']], \n",
    "                           how = 'left', on = 'date')"
   ]
  },
  {
   "cell_type": "code",
   "execution_count": 11,
   "metadata": {},
   "outputs": [],
   "source": [
    "data_train.dropna(subset=['rougher.output.recovery','final.output.recovery'], inplace=True)\n",
    "data_test.dropna(subset=['rougher.output.recovery','final.output.recovery'], inplace=True)\n",
    "data_full.dropna(subset=['rougher.output.recovery','final.output.recovery'], inplace=True)"
   ]
  },
  {
   "cell_type": "code",
   "execution_count": 12,
   "metadata": {},
   "outputs": [],
   "source": [
    "data_train.fillna(method='ffill', inplace=True)\n",
    "data_test.fillna(method='ffill', inplace=True)\n",
    "data_full.fillna(method='ffill', inplace=True)"
   ]
  },
  {
   "cell_type": "markdown",
   "metadata": {},
   "source": [
    "<div style=\"background: #cceeaa; padding: 5px; border: 1px solid green; border-radius: 5px;\">\n",
    "<font color='green'> \n",
    "<u>КОММЕНТАРИЙ РЕВЬЮЕРА</u>\n",
    "<font color='green'><br>\n",
    "ОК! Метод ffill или интерполяция - часто помогают в подобных проектах. Но нужно ещё иметь ввиду такой момент: у нас могут наблюдаться большие периоды с пропуском. И тогда данная подстановка не всегда будет адекватной. В этом случае, может быть, и удалить придётся.."
   ]
  },
  {
   "cell_type": "markdown",
   "metadata": {},
   "source": [
    "Вывод\n",
    "* Открыл и изучил данные\n",
    "* Посчитал recovery и MAE\n",
    "* Проанализировал признаки, недоступные в тестовой выборке\n",
    "* Провел предобработку данных"
   ]
  },
  {
   "cell_type": "markdown",
   "metadata": {},
   "source": [
    "## Анализ данных"
   ]
  },
  {
   "cell_type": "markdown",
   "metadata": {},
   "source": [
    "### Просмотр того, как меняется концентрация металлов (Au, Ag, Pb) на различных этапах очистки. "
   ]
  },
  {
   "cell_type": "code",
   "execution_count": 13,
   "metadata": {},
   "outputs": [
    {
     "data": {
      "image/png": "[encoded data removed]",
      "text/plain": [
       "<Figure size 720x504 with 1 Axes>"
      ]
     },
     "metadata": {
      "needs_background": "light"
     },
     "output_type": "display_data"
    }
   ],
   "source": [
    "plt.figure(figsize=[10,7])\n",
    "\n",
    "plt.hist(data_train['final.output.concentrate_au'], bins=100, label = 'final.output', alpha=0.5)\n",
    "plt.hist(data_train['primary_cleaner.output.concentrate_au'], bins=100, label = 'primary_cleaner.output', alpha=0.5)\n",
    "plt.hist(data_train['rougher.output.concentrate_au'], bins=100, label = 'rougher.output', alpha=0.5)\n",
    "\n",
    "plt.xlim([10, 55])\n",
    "plt.ylim([0, 1700])\n",
    "\n",
    "plt.xlabel(\"Концентрация золота\")\n",
    "\n",
    "plt.legend(loc='upper left')\n",
    "\n",
    "plt.title(\"Гистограмма распределения концентрации золота\")\n",
    "plt.show()"
   ]
  },
  {
   "cell_type": "code",
   "execution_count": 14,
   "metadata": {},
   "outputs": [
    {
     "data": {
      "image/png": "[encoded data removed]",
      "text/plain": [
       "<Figure size 720x504 with 1 Axes>"
      ]
     },
     "metadata": {
      "needs_background": "light"
     },
     "output_type": "display_data"
    }
   ],
   "source": [
    "plt.figure(figsize=[10,7])\n",
    "\n",
    "plt.hist(data_train['final.output.concentrate_ag'], bins=100, label = 'final.output', alpha=0.5)\n",
    "plt.hist(data_train['primary_cleaner.output.concentrate_ag'], bins=100, label = 'primary_cleaner.output', alpha=0.5)\n",
    "plt.hist(data_train['rougher.output.concentrate_ag'], bins=100, label = 'rougher.output', alpha=0.5)\n",
    "\n",
    "plt.xlim([2.5, 20])\n",
    "plt.ylim([0, 800])\n",
    "\n",
    "plt.xlabel(\"Концентрация серебра\")\n",
    "\n",
    "plt.legend(loc='upper left')\n",
    "\n",
    "plt.title(\"Гистограмма распределения концентрации серебра\")\n",
    "plt.show()"
   ]
  },
  {
   "cell_type": "code",
   "execution_count": 15,
   "metadata": {},
   "outputs": [
    {
     "data": {
      "image/png": "[encoded data removed]",
      "text/plain": [
       "<Figure size 720x504 with 1 Axes>"
      ]
     },
     "metadata": {
      "needs_background": "light"
     },
     "output_type": "display_data"
    }
   ],
   "source": [
    "plt.figure(figsize=[10,7])\n",
    "\n",
    "plt.hist(data_train['final.output.concentrate_pb'], bins=100, label = 'final.output', alpha=0.5)\n",
    "plt.hist(data_train['primary_cleaner.output.concentrate_pb'], bins=100, label = 'primary_cleaner.output', alpha=0.5)\n",
    "plt.hist(data_train['rougher.output.concentrate_pb'], bins=100, label = 'rougher.output', alpha=0.5)\n",
    "\n",
    "plt.xlim([0, 20])\n",
    "plt.ylim([0, 800])\n",
    "\n",
    "plt.xlabel(\"Концентрация свинца\")\n",
    "\n",
    "plt.legend(loc='upper left')\n",
    "\n",
    "plt.title(\"Гистограмма распределения концентрации свинца\")\n",
    "plt.show()"
   ]
  },
  {
   "cell_type": "markdown",
   "metadata": {},
   "source": [
    "<div style=\"background: #cceeaa; padding: 5px; border: 1px solid green; border-radius: 5px;\">\n",
    "<font color='green'> \n",
    "<u>КОММЕНТАРИЙ РЕВЬЮЕРА</u>\n",
    "<font color='green'><br>\n",
    "ОК, удобный графический анализ. И видно, что золотишко растёт - и это хорошо, кому-то). Серебро падает - это логично, мы же производим золоот)<br>\n",
    "А свинец - побочное дитя химических реакций, поэтому не много увеличивается его содержание"
   ]
  },
  {
   "cell_type": "code",
   "execution_count": null,
   "metadata": {},
   "outputs": [],
   "source": []
  },
  {
   "cell_type": "markdown",
   "metadata": {},
   "source": [
    "### Сравнение распределения размеров гранул сырья на обучающей и тестовой выборках. Если распределения сильно отличаются друг от друга, оценка модели будет неправильной."
   ]
  },
  {
   "cell_type": "code",
   "execution_count": 16,
   "metadata": {},
   "outputs": [
    {
     "data": {
      "image/png": "[encoded data removed]",
      "text/plain": [
       "<Figure size 720x504 with 1 Axes>"
      ]
     },
     "metadata": {
      "needs_background": "light"
     },
     "output_type": "display_data"
    }
   ],
   "source": [
    "plt.figure(figsize=[10,7])\n",
    "\n",
    "plt.hist(data_train['rougher.input.feed_size'], bins=200, label = 'rougher.input.feed_size (Train)', alpha=0.5)\n",
    "plt.hist(data_test['rougher.input.feed_size'], bins=200, label = 'rougher.input.feed_size (Test)', alpha=0.5)\n",
    "\n",
    "plt.xlim([0, 200])\n",
    "plt.ylim([0, 1500])\n",
    "\n",
    "plt.xlabel(\"Размер гранул сырья\")\n",
    "\n",
    "plt.legend(loc='upper left')\n",
    "\n",
    "plt.title(\"Гистограмма распределения гранул сырья перед флотацией\")\n",
    "plt.show()"
   ]
  },
  {
   "cell_type": "markdown",
   "metadata": {},
   "source": [
    "<div style=\"background: #cceeaa; padding: 5px; border: 1px solid green; border-radius: 5px;\">\n",
    "<font color='green'> \n",
    "<u>КОММЕНТАРИЙ РЕВЬЮЕРА</u>\n",
    "<font color='green'><br>ОК,  видно, что распределение для тестовой выборки немного отличается от такового для обучающей - первое сдвинуто немного в меньшую сторону. НО в целом размеры большинства частиц лежат в оптимальном интервале  40—100 мкм  («Флотация руды»: ООО \"Техноаналитприбор\":[сайт].URL:https://techade.ru/stati/flotatsiya-rudy) для обоих выборок. Поэтому, да, выборки подходят для оценки."
   ]
  },
  {
   "cell_type": "markdown",
   "metadata": {},
   "source": [
    "### Исследование суммарной концентрации всех веществ на разных стадиях: в сырье, в черновом и финальном концентратах."
   ]
  },
  {
   "cell_type": "code",
   "execution_count": 17,
   "metadata": {},
   "outputs": [
    {
     "data": {
      "image/png": "[encoded data removed]",
      "text/plain": [
       "<Figure size 720x504 with 1 Axes>"
      ]
     },
     "metadata": {
      "needs_background": "light"
     },
     "output_type": "display_data"
    }
   ],
   "source": [
    "final_sum_train = (data_train['final.output.concentrate_au'] + \n",
    "                                      data_train['final.output.concentrate_ag'] + \n",
    "                                      data_train['final.output.concentrate_pb'] +\n",
    "                                      data_train['final.output.concentrate_sol'])\n",
    "primary_sum_train = (data_train['primary_cleaner.output.concentrate_au'] + \n",
    "                                                data_train['primary_cleaner.output.concentrate_ag'] + \n",
    "                                                data_train['primary_cleaner.output.concentrate_pb'] +\n",
    "                                                data_train['primary_cleaner.output.concentrate_sol'])\n",
    "rougher_sum_train = (data_train['rougher.output.concentrate_au'] + \n",
    "                                        data_train['rougher.output.concentrate_ag'] + \n",
    "                                        data_train['rougher.output.concentrate_pb'] +\n",
    "                                        data_train['rougher.output.concentrate_sol'])\n",
    "\n",
    "\n",
    "plt.figure(figsize=[10,7])\n",
    "\n",
    "plt.hist(final_sum_train, bins=100, label = 'final_output', alpha=0.5)\n",
    "plt.hist(primary_sum_train, bins=100, label = 'primary_cleaner_output', alpha=0.5)\n",
    "plt.hist(rougher_sum_train, bins=100, label = 'rougher_output', alpha=0.5)\n",
    "\n",
    "plt.xlim([40, 90])\n",
    "plt.ylim([0, 2000])\n",
    "\n",
    "plt.xlabel(\"Суммарная концентраця\")\n",
    "\n",
    "plt.legend(loc='upper left')\n",
    "\n",
    "plt.title(\"Гистограмма распределения концентраций на разных этапах очистки\")\n",
    "plt.show()"
   ]
  },
  {
   "cell_type": "markdown",
   "metadata": {},
   "source": [
    "<div style=\"background: #cceeaa; padding: 5px; border: 1px solid green; border-radius: 5px;\">\n",
    "<font color='green'> \n",
    "<u>КОММЕНТАРИЙ РЕВЬЮЕРА</u>\n",
    "<font color='red'><br>\n",
    "ОК. Тут такой момент с суммарной концентрацией ожидается:<br>\n",
    "Есть нулевые аномалии в суммарных концентрациях (на графике буду твидны, если ось от нуля разметить) - и их надо \"убить\". Дело в том, что хоть грамм чего-нибудь но есть в \"суммарной руде\"- соли+золото+серебро+свинец - точно что-то должно быть.. А если мы имеем ноль, значит большая вероятность неточности измерений.<br>\n",
    "\n",
    "Общая идея какая с сумарной концентрацией: отдельно по каждой руде нуль может быть (взяли лопату руды - и нет там золота - не всегда же есть крупинки..). А вот нуль суммарно - это уже вряд ли (в этой лопате хоть что-то но будет)"
   ]
  },
  {
   "cell_type": "markdown",
   "metadata": {},
   "source": [
    "<div style=\"background: #cceeaa; padding: 5px; border: 1px solid green; border-radius: 5px;\">\n",
    "<font color='green'> \n",
    "    <b><u>КОММЕНТАРИЙ СТУДЕНТА</u></b>\n",
    "<font color='green'><br> Сделал."
   ]
  },
  {
   "cell_type": "markdown",
   "metadata": {},
   "source": [
    "<div style=\"background: #cceeaa; padding: 5px; border: 1px solid green; border-radius: 5px;\">\n",
    "    <font color='green'> <b><u>КОММЕНТАРИЙ РЕВЬЮЕРА 2</u></b>\n",
    "</font>\n",
    "<font color='green'><br>есть контакт)"
   ]
  },
  {
   "cell_type": "code",
   "execution_count": 18,
   "metadata": {},
   "outputs": [
    {
     "data": {
      "image/png": "[encoded data removed]",
      "text/plain": [
       "<Figure size 720x504 with 1 Axes>"
      ]
     },
     "metadata": {
      "needs_background": "light"
     },
     "output_type": "display_data"
    }
   ],
   "source": [
    "final_sum_train = final_sum_train[final_sum_train > 10]\n",
    "primary_sum_train = primary_sum_train[primary_sum_train > 10]\n",
    "rougher_sum_train = rougher_sum_train[rougher_sum_train > 10]\n",
    "\n",
    "\n",
    "plt.figure(figsize=[10,7])\n",
    "\n",
    "plt.hist(final_sum_train, bins=100, label = 'final_output', alpha=0.5)\n",
    "plt.hist(primary_sum_train, bins=100, label = 'primary_cleaner_output', alpha=0.5)\n",
    "plt.hist(rougher_sum_train, bins=100, label = 'rougher_output', alpha=0.5)\n",
    "\n",
    "plt.xlim([40, 90])\n",
    "plt.ylim([0, 2000])\n",
    "\n",
    "plt.xlabel(\"Суммарная концентраця\")\n",
    "\n",
    "plt.legend(loc='upper left')\n",
    "\n",
    "plt.title(\"Гистограмма распределения концентраций на разных этапах очистки\")\n",
    "plt.show()"
   ]
  },
  {
   "cell_type": "code",
   "execution_count": null,
   "metadata": {},
   "outputs": [],
   "source": []
  },
  {
   "cell_type": "markdown",
   "metadata": {},
   "source": [
    "## Модель"
   ]
  },
  {
   "cell_type": "code",
   "execution_count": 19,
   "metadata": {},
   "outputs": [],
   "source": [
    "def smape(target, predictions, **kwargs):\n",
    "    return (((abs(target - predictions) * 2 * 100) /\n",
    "              (abs(target) + abs(predictions))).sum()) / len(target)\n",
    "\n",
    "def end_smape(rougher, final):\n",
    "    return 0.25 * rougher + 0.75 * final"
   ]
  },
  {
   "cell_type": "code",
   "execution_count": 20,
   "metadata": {},
   "outputs": [],
   "source": [
    "def cv_scores(model, target, features):\n",
    "    my_score = make_scorer(smape)\n",
    "    \n",
    "    scores = cross_val_score(model,\n",
    "                             features,\n",
    "                             target,\n",
    "                             cv=5,\n",
    "                             scoring=my_score)\n",
    "    \n",
    "    return scores.mean()\n"
   ]
  },
  {
   "cell_type": "markdown",
   "metadata": {},
   "source": [
    "<div style=\"background: #ffeeaa; padding: 5px; border: 1px solid green; border-radius: 5px;\">\n",
    "<font color='green'> \n",
    "    <b><u>КОММЕНТАРИЙ РЕВЬЮЕРА</u></b>\n",
    "<font color='green'><br>\n",
    "В make_scorer параметр greater_is_better=False -  лучше тоже использовать. Для данного проекта - не критично. Но как впринципе - он отвечает за то, какая оптимизация происходит. если False, то мы говорит \"больше_лучше\"=ложь. Т.е. для нас лучше мимнимумальная ошибка. Получится минус, но от него можно абстрагироваться. Это особенности самого параметра."
   ]
  },
  {
   "cell_type": "code",
   "execution_count": null,
   "metadata": {},
   "outputs": [],
   "source": []
  },
  {
   "cell_type": "code",
   "execution_count": 21,
   "metadata": {},
   "outputs": [],
   "source": [
    "data_train.drop(columns, axis=1, inplace=True)"
   ]
  },
  {
   "cell_type": "code",
   "execution_count": 22,
   "metadata": {},
   "outputs": [],
   "source": [
    "data_train = data_train.merge(data_full[['date', 'rougher.output.recovery', 'final.output.recovery']], \n",
    "                           how = 'left', on = 'date')\n",
    "\n",
    "# train выборка\n",
    "target_train_rougher = data_train['rougher.output.recovery']\n",
    "target_train_final = data_train['final.output.recovery']\n",
    "features_train = data_train.drop(['rougher.output.recovery', 'final.output.recovery', 'date'], axis=1)\n",
    "\n",
    "\n",
    "# test выборка\n",
    "target_test_rougher = data_test['rougher.output.recovery']\n",
    "target_test_final = data_test['final.output.recovery']\n",
    "features_test = data_test.drop(['rougher.output.recovery', 'final.output.recovery', 'date'], axis=1)"
   ]
  },
  {
   "cell_type": "code",
   "execution_count": 23,
   "metadata": {},
   "outputs": [
    {
     "data": {
      "text/plain": [
       "((14149, 55), (5290, 52))"
      ]
     },
     "execution_count": 23,
     "metadata": {},
     "output_type": "execute_result"
    }
   ],
   "source": [
    "data_train.shape, features_test.shape"
   ]
  },
  {
   "cell_type": "code",
   "execution_count": 24,
   "metadata": {},
   "outputs": [
    {
     "data": {
      "text/plain": [
       "(0       70.273583\n",
       " 1       68.910432\n",
       " 2       68.143213\n",
       " 3       67.776393\n",
       " 4       61.467078\n",
       "           ...    \n",
       " 5285    68.919891\n",
       " 5286    68.440582\n",
       " 5287    67.092759\n",
       " 5288    68.061186\n",
       " 5289    71.699976\n",
       " Name: final.output.recovery, Length: 5290, dtype: float64,\n",
       " 0       89.993421\n",
       " 1       88.089657\n",
       " 2       88.412756\n",
       " 3       87.360133\n",
       " 4       83.236367\n",
       "           ...    \n",
       " 5285    95.172585\n",
       " 5286    94.575036\n",
       " 5287    93.018138\n",
       " 5288    92.599042\n",
       " 5289    91.177695\n",
       " Name: rougher.output.recovery, Length: 5290, dtype: float64)"
      ]
     },
     "execution_count": 24,
     "metadata": {},
     "output_type": "execute_result"
    }
   ],
   "source": [
    "target_test_final, target_test_rougher"
   ]
  },
  {
   "cell_type": "markdown",
   "metadata": {},
   "source": [
    "<div style=\"background: #cceeaa; padding: 5px; border: 1px solid green; border-radius: 5px;\">\n",
    "<font color='green'> \n",
    "    <b><u>КОММЕНТАРИЙ РЕВЬЮЕРА</u></b>\n",
    "<font color='green'><br>да!!!! это вважно было - привести в соответствие трайн и тест)"
   ]
  },
  {
   "cell_type": "markdown",
   "metadata": {},
   "source": [
    "LinearRegression"
   ]
  },
  {
   "cell_type": "code",
   "execution_count": 25,
   "metadata": {
    "scrolled": true
   },
   "outputs": [
    {
     "data": {
      "text/plain": [
       "rougher_smape    12.802483\n",
       "final_smape      12.245300\n",
       "end_smape        12.384596\n",
       "dtype: float64"
      ]
     },
     "execution_count": 25,
     "metadata": {},
     "output_type": "execute_result"
    }
   ],
   "source": [
    "model_rougher = LinearRegression()\n",
    "model_final = LinearRegression()\n",
    "\n",
    "rougher_smape = cv_scores(model_rougher, target_train_rougher, features_train)\n",
    "final_smape = cv_scores(model_final, target_train_final, features_train)\n",
    "smape_end = end_smape(rougher_smape, final_smape)\n",
    "\n",
    "data = pd.Series({'rougher_smape': rougher_smape,\n",
    "                           'final_smape': final_smape,\n",
    "                           'end_smape': smape_end}) \n",
    "data"
   ]
  },
  {
   "cell_type": "markdown",
   "metadata": {},
   "source": [
    "Проверка на тестовой выборке."
   ]
  },
  {
   "cell_type": "code",
   "execution_count": 26,
   "metadata": {},
   "outputs": [
    {
     "data": {
      "text/html": [
       "<div>\n",
       "<style scoped>\n",
       "    .dataframe tbody tr th:only-of-type {\n",
       "        vertical-align: middle;\n",
       "    }\n",
       "\n",
       "    .dataframe tbody tr th {\n",
       "        vertical-align: top;\n",
       "    }\n",
       "\n",
       "    .dataframe thead th {\n",
       "        text-align: right;\n",
       "    }\n",
       "</style>\n",
       "<table border=\"1\" class=\"dataframe\">\n",
       "  <thead>\n",
       "    <tr style=\"text-align: right;\">\n",
       "      <th></th>\n",
       "      <th>rougher_smape</th>\n",
       "      <th>final_smape</th>\n",
       "      <th>end_smape</th>\n",
       "    </tr>\n",
       "  </thead>\n",
       "  <tbody>\n",
       "    <tr>\n",
       "      <td>0</td>\n",
       "      <td>9.776504</td>\n",
       "      <td>10.038199</td>\n",
       "      <td>9.972776</td>\n",
       "    </tr>\n",
       "  </tbody>\n",
       "</table>\n",
       "</div>"
      ],
      "text/plain": [
       "   rougher_smape  final_smape  end_smape\n",
       "0       9.776504    10.038199   9.972776"
      ]
     },
     "execution_count": 26,
     "metadata": {},
     "output_type": "execute_result"
    }
   ],
   "source": [
    "from collections import defaultdict\n",
    "test = defaultdict(list)\n",
    "\n",
    "model_rougher = LinearRegression()\n",
    "model_final = LinearRegression()\n",
    "model_rougher.fit(features_train, target_train_rougher)\n",
    "model_final.fit(features_train, target_train_final)\n",
    "\n",
    "train_predictions_rougher = model_rougher.predict(features_test)\n",
    "train_predictions_final = model_final.predict(features_test)\n",
    "\n",
    " \n",
    "test['rougher_smape'].append(smape(target_test_rougher, train_predictions_rougher))\n",
    "test['final_smape'].append(smape(target_test_final, train_predictions_final))\n",
    "test['end_smape'].append(end_smape(smape(target_test_rougher, train_predictions_rougher), smape(target_test_final, train_predictions_final)))\n",
    "\n",
    "pd.DataFrame(test)\n"
   ]
  },
  {
   "cell_type": "markdown",
   "metadata": {},
   "source": [
    "## Вывод"
   ]
  },
  {
   "cell_type": "markdown",
   "metadata": {},
   "source": [
    "Итоговая mape равна 9.972776\n",
    "\n",
    "* Вначале я подготовил данные\n",
    "* Была проверена формула вычисления эффективности обогащения\n",
    "* Проанализировал признаки, недоступные в тестовой выборке\n",
    "* Провел предобработку данных\n",
    "* Проанализировал данные\n",
    "* Исследовал изменение концентрации элементов на каждом этапе\n",
    "* Проанализировал распределения размеров гранул на обучающей и тестовой выборках\n",
    "* Исследовал суммарные концентрации\n",
    "* Построил модель прогнозирования\n",
    "* Написал функцию для вычисления итогового sMAPE\n"
   ]
  },
  {
   "cell_type": "markdown",
   "metadata": {},
   "source": [
    "<div style=\"background: #cceeaa; padding: 5px; border: 1px solid green; border-radius: 5px;\">\n",
    "<font color='green'> \n",
    "    <b><u>КОММЕНТАРИЙ РЕВЬЮЕРА</u></b>\n",
    "<font color='green'><br>\n",
    "ОК, Мариус, <br>\n",
    "интересную работу ты провёл.<br>\n",
    "Понятно, логично, вдумчиво<br>\n",
    "Видна хорошая предвариателная работа с данными, уместный графический анализ, осмысленная аналитика и дельная модельная работа - многое удалось как надо)<br>\n",
    "    \n",
    "Метрика - достаточно низкая. И это хорошо.<br>\n",
    "вот только не понятно насколько))<br>\n",
    "По хорошему, здесь надо понять: наша модель предсказывает лучше, чем просто по среднему.<br>\n",
    "Например, в формулу метрики предиктом подставить медианные значения таргет-трайна). <br>\n",
    "Или использовать DummyRegression (например, как ниже))<br>\n",
    "<font color='red'>\n",
    "Покажи, пожалуйста, сравнение и вывод относительно константной модели)\n",
    "<font color='green'>    \n",
    "Спасибо)<br>\n",
    "БУДУ ЖДАТЬ КОММЕНТАРИЕВ!"
   ]
  },
  {
   "cell_type": "markdown",
   "metadata": {},
   "source": [
    "dummy_regressor_rougher = DummyRegressor(strategy=\"median\")\n",
    "dummy_regressor_rougher.fit(X_train, y_train_rougher)\n",
    "dummy_rougher_pred = dummy_regressor_rougher.predict(X_test)\n",
    "smape_dummy_rougher = smape(y_test_rougher, dummy_rougher_pred)\n",
    "print(smape_dummy_rougher) \n",
    "\n",
    "И ДАЛЕЕ: ДЛЯ FINAL И ИТОГОВЫЙ"
   ]
  },
  {
   "cell_type": "markdown",
   "metadata": {},
   "source": [
    "<div style=\"background: #cceeaa; padding: 5px; border: 1px solid green; border-radius: 5px;\">\n",
    "<font color='green'> \n",
    "    <b><u>КОММЕНТАРИЙ СТУДЕНТА</u></b>\n",
    "<font color='green'><br> Сделал."
   ]
  },
  {
   "cell_type": "code",
   "execution_count": 27,
   "metadata": {},
   "outputs": [
    {
     "name": "stdout",
     "output_type": "stream",
     "text": [
      "9.479919198122861\n"
     ]
    }
   ],
   "source": [
    "dmb_median = DummyRegressor(strategy=\"median\")\n",
    "dmb_median.fit(features_train, target_train_rougher)\n",
    "preds_rough = dmb_median.predict(features_test)\n",
    "dmb_median.fit(features_train, target_train_final)\n",
    "preds_final = dmb_median.predict(features_test)\n",
    "print(end_smape(smape(preds_rough, target_test_rougher), smape(preds_final, target_test_final)))"
   ]
  },
  {
   "cell_type": "markdown",
   "metadata": {},
   "source": [
    "<div style=\"background: #cceeaa; padding: 5px; border: 1px solid green; border-radius: 5px;\">\n",
    "<font color='green'> \n",
    "    <b><u>КОММЕНТАРИЙ РЕВЬЮЕРА 2</u></b>\n",
    "<font color='green'><br>\n",
    "ОК, Мариус, всё по делу тут.<br>\n",
    "С метрикой константной модели - ОК. И видно, что разница средних метрик - совсем не большая. Но тут сложно говорить кто лучше/хуже ...По идее, если хотим точно выяснить - надо испрользовать проверку гипотез мз спринта 4, т.е. сраниваем средние с учётом разброса данных)\n",
    "Такой \"разбег\" метрик - допустимо в этом проекте). Что же тогда ещё для дальнейшего улучшения качества моделирования возможно сделать?<br> \n",
    "    \n",
    "Попробовал систематизировать:<br>\n",
    "1) качество данных на входе: ещё раз оценить аномалии, пропуски, соответствие физике (правдиво ли всё)<br>\n",
    "2) Работа с моделями:<br>\n",
    "- Генерация и поиск бизнес-факторов для моделирования: возможно что-то упустили, или придумать что-то гибридное из имеющихся факторов... В общем ещё раз пройтись по бизнес-цепочке процесса<br>\n",
    "- Подбор самих моделей. показателей самих моделей <br>\n",
    "- Подбор параметров выбранных показателей у выбранных моделей <br>\n",
    "    \n",
    "3)Плюс, есть же ещё параметры самого процесса: температура, скорость конвейера, сила удара чего-то там....<br> Они тоже могут помочь<br>\n",
    "4) ну и разобраться ещё раз с физическими и производственными процессами. ВОзможно приниципиально иное решение можно создать.<br> \n",
    "    \n",
    "В общем-то другого и нет. Только такие возможности.<br>\n",
    "Если углубится в так называемый \"Статистический анализ данных\" (SPC) - по сути это превариетльная подготовка данных в этом проекте, можно найти какое-нибудь решение<br>\n",
    "\n",
    "Но цель проекта достигнута:<br>\n",
    "1) пройдены важные этапы построения производственной модели<br>\n",
    "2) возникло много дополнительных вопросов))<br><br>\n",
    "\n",
    "Спасибо за работу) УСПЕШНОГО ДАЛЬНЕЙШЕГО ОБУЧЕНИЯ!"
   ]
  },
  {
   "cell_type": "code",
   "execution_count": null,
   "metadata": {},
   "outputs": [],
   "source": []
  },
  {
   "cell_type": "code",
   "execution_count": null,
   "metadata": {},
   "outputs": [],
   "source": []
  },
  {
   "cell_type": "markdown",
   "metadata": {},
   "source": [
    "sMAPE у модели лучше, чем у DummyRegressor, поэтому наша модель рабочая"
   ]
  },
  {
   "cell_type": "raw",
   "metadata": {},
   "source": [
    "# ПРОСТО ДЛЯ ОЗНАКОМЛЕНИЯ ВАРАИНТА КРОСС-ВАЛИДАЦИИ и вывода всё в таблицу результатов.\n",
    "random_state = 123\n",
    "cv = 5\n",
    "models = [DecisionTreeRegressor(random_state = random_state), \n",
    "          RandomForestRegressor(random_state=random_state), \n",
    "          LinearRegression()]\n",
    "\n",
    "\n",
    "results_cross_val = []\n",
    "\n",
    "for model in models: \n",
    "    \n",
    "    scorer = make_scorer(smape, greater_is_better=False) \n",
    "    \n",
    "    cross_val_score_rougher = cross_val_score(model, \n",
    "                                              features_train, \n",
    "                                              target_rougher_train, \n",
    "                                              cv=cv, scoring=scorer).mean()\n",
    "    cross_val_score_final = cross_val_score(model, \n",
    "                                            features_train, \n",
    "                                            target_final_train, \n",
    "                                            cv=cv, scoring=scorer).mean()\n",
    "\n",
    "    results_cross_val.append({'model name': model.__class__.__name__, \n",
    "                              'cross_val_score_rougher': cross_val_score_rougher, \n",
    "                              'cross_val_score_final': cross_val_score_final}) \n",
    "              \n",
    "pd.DataFrame(results_cross_val)"
   ]
  },
  {
   "cell_type": "markdown",
   "metadata": {},
   "source": [
    "## Чек-лист готовности проекта"
   ]
  },
  {
   "cell_type": "markdown",
   "metadata": {},
   "source": [
    "- [x]  Jupyter Notebook открыт\n",
    "- [ ]  Весь код выполняется без ошибок\n",
    "- [ ]  Ячейки с кодом расположены в порядке выполнения\n",
    "- [ ]  Выполнен шаг 1: данные подготовлены\n",
    "    - [ ]  Проверена формула вычисления эффективности обогащения\n",
    "    - [ ]  Проанализированы признаки, недоступные в тестовой выборке\n",
    "    - [ ]  Проведена предобработка данных\n",
    "- [ ]  Выполнен шаг 2: данные проанализированы\n",
    "    - [ ]  Исследовано изменение концентрации элементов на каждом этапе\n",
    "    - [ ]  Проанализированы распределения размеров гранул на обучающей и тестовой выборках\n",
    "    - [ ]  Исследованы суммарные концентрации\n",
    "- [ ]  Выполнен шаг 3: построена модель прогнозирования\n",
    "    - [ ]  Написана функция для вычисления итогового *sMAPE*\n",
    "    - [ ]  Обучено и проверено несколько моделей\n",
    "    - [ ]  Выбрана лучшая модель, её качество проверено на тестовой выборке"
   ]
  }
 ],
 "metadata": {
  "ExecuteTimeLog": [
   {
    "duration": 604,
    "start_time": "2022-02-23T20:47:37.812Z"
   },
   {
    "duration": 1455,
    "start_time": "2022-02-23T20:48:19.231Z"
   },
   {
    "duration": 304,
    "start_time": "2022-02-23T20:48:26.993Z"
   },
   {
    "duration": 814,
    "start_time": "2022-02-23T20:49:10.101Z"
   },
   {
    "duration": 32,
    "start_time": "2022-02-23T20:49:18.752Z"
   },
   {
    "duration": 24,
    "start_time": "2022-02-23T20:49:44.828Z"
   },
   {
    "duration": 23,
    "start_time": "2022-02-23T20:49:46.352Z"
   },
   {
    "duration": 3,
    "start_time": "2022-02-23T21:02:44.685Z"
   },
   {
    "duration": 3,
    "start_time": "2022-02-23T21:03:25.900Z"
   },
   {
    "duration": 23,
    "start_time": "2022-02-23T21:21:41.619Z"
   },
   {
    "duration": 58,
    "start_time": "2022-02-23T21:22:26.578Z"
   },
   {
    "duration": 831,
    "start_time": "2022-02-23T21:37:38.160Z"
   },
   {
    "duration": 797,
    "start_time": "2022-02-23T21:37:51.262Z"
   },
   {
    "duration": 74,
    "start_time": "2022-02-23T21:37:52.061Z"
   },
   {
    "duration": 184,
    "start_time": "2022-02-23T21:47:52.217Z"
   },
   {
    "duration": 4,
    "start_time": "2022-02-23T21:47:58.566Z"
   },
   {
    "duration": 9,
    "start_time": "2022-02-23T21:47:59.264Z"
   },
   {
    "duration": 5,
    "start_time": "2022-02-23T21:50:14.913Z"
   },
   {
    "duration": 6,
    "start_time": "2022-02-23T21:50:25.138Z"
   },
   {
    "duration": 8,
    "start_time": "2022-02-23T21:52:14.727Z"
   },
   {
    "duration": 7,
    "start_time": "2022-02-23T21:54:39.026Z"
   },
   {
    "duration": 8,
    "start_time": "2022-02-23T21:55:40.612Z"
   },
   {
    "duration": 4,
    "start_time": "2022-02-23T22:08:26.469Z"
   },
   {
    "duration": 4,
    "start_time": "2022-02-23T22:08:27.130Z"
   },
   {
    "duration": 4,
    "start_time": "2022-02-23T22:09:33.286Z"
   },
   {
    "duration": 4,
    "start_time": "2022-02-23T22:09:33.858Z"
   },
   {
    "duration": 54,
    "start_time": "2022-02-23T22:42:22.906Z"
   },
   {
    "duration": 240,
    "start_time": "2022-02-23T22:43:21.875Z"
   },
   {
    "duration": 362,
    "start_time": "2022-02-23T22:43:55.983Z"
   },
   {
    "duration": 228,
    "start_time": "2022-02-23T22:44:27.240Z"
   },
   {
    "duration": 64,
    "start_time": "2022-02-23T22:46:37.868Z"
   },
   {
    "duration": 240,
    "start_time": "2022-02-23T22:47:11.104Z"
   },
   {
    "duration": 207,
    "start_time": "2022-02-23T22:48:35.590Z"
   },
   {
    "duration": 21,
    "start_time": "2022-02-23T22:52:55.521Z"
   },
   {
    "duration": 3,
    "start_time": "2022-02-23T22:53:06.028Z"
   },
   {
    "duration": 817,
    "start_time": "2022-02-23T22:53:06.389Z"
   },
   {
    "duration": 59,
    "start_time": "2022-02-23T22:53:07.290Z"
   },
   {
    "duration": 610,
    "start_time": "2022-02-23T22:53:15.068Z"
   },
   {
    "duration": 773,
    "start_time": "2022-02-23T22:53:16.270Z"
   },
   {
    "duration": 60,
    "start_time": "2022-02-23T22:53:17.276Z"
   },
   {
    "duration": 46,
    "start_time": "2022-02-23T22:53:17.764Z"
   },
   {
    "duration": 3,
    "start_time": "2022-02-23T22:53:19.653Z"
   },
   {
    "duration": 12,
    "start_time": "2022-02-23T22:53:19.998Z"
   },
   {
    "duration": 4,
    "start_time": "2022-02-23T22:53:22.300Z"
   },
   {
    "duration": 4,
    "start_time": "2022-02-23T22:53:23.615Z"
   },
   {
    "duration": 256,
    "start_time": "2022-02-23T22:53:26.106Z"
   },
   {
    "duration": 16,
    "start_time": "2022-02-23T23:12:33.048Z"
   },
   {
    "duration": 31,
    "start_time": "2022-02-23T23:12:33.723Z"
   },
   {
    "duration": 14,
    "start_time": "2022-02-23T23:14:27.248Z"
   },
   {
    "duration": 3,
    "start_time": "2022-02-23T23:41:41.168Z"
   },
   {
    "duration": 255,
    "start_time": "2022-02-23T23:41:44.370Z"
   },
   {
    "duration": 620,
    "start_time": "2022-02-23T23:42:38.024Z"
   },
   {
    "duration": 231,
    "start_time": "2022-02-23T23:42:41.970Z"
   },
   {
    "duration": 845,
    "start_time": "2022-02-23T23:43:04.535Z"
   },
   {
    "duration": 1318,
    "start_time": "2022-02-23T23:43:53.589Z"
   },
   {
    "duration": 595,
    "start_time": "2022-02-23T23:44:12.481Z"
   },
   {
    "duration": 277,
    "start_time": "2022-02-23T23:44:20.258Z"
   },
   {
    "duration": 920,
    "start_time": "2022-02-23T23:44:26.174Z"
   },
   {
    "duration": 855,
    "start_time": "2022-02-23T23:44:40.675Z"
   },
   {
    "duration": 899,
    "start_time": "2022-02-23T23:44:47.883Z"
   },
   {
    "duration": 970,
    "start_time": "2022-02-23T23:44:55.571Z"
   },
   {
    "duration": 824,
    "start_time": "2022-02-23T23:45:01.553Z"
   },
   {
    "duration": 836,
    "start_time": "2022-02-23T23:45:08.603Z"
   },
   {
    "duration": 1007,
    "start_time": "2022-02-23T23:45:33.928Z"
   },
   {
    "duration": 821,
    "start_time": "2022-02-23T23:45:41.224Z"
   },
   {
    "duration": 818,
    "start_time": "2022-02-23T23:46:08.382Z"
   },
   {
    "duration": 948,
    "start_time": "2022-02-23T23:46:29.491Z"
   },
   {
    "duration": 793,
    "start_time": "2022-02-23T23:46:45.804Z"
   },
   {
    "duration": 927,
    "start_time": "2022-02-23T23:46:50.895Z"
   },
   {
    "duration": 825,
    "start_time": "2022-02-23T23:48:20.492Z"
   },
   {
    "duration": 801,
    "start_time": "2022-02-23T23:48:59.126Z"
   },
   {
    "duration": 1156,
    "start_time": "2022-02-23T23:49:15.934Z"
   },
   {
    "duration": 824,
    "start_time": "2022-02-23T23:49:25.853Z"
   },
   {
    "duration": 964,
    "start_time": "2022-02-23T23:49:33.348Z"
   },
   {
    "duration": 932,
    "start_time": "2022-02-23T23:50:26.752Z"
   },
   {
    "duration": 842,
    "start_time": "2022-02-23T23:50:41.929Z"
   },
   {
    "duration": 1085,
    "start_time": "2022-02-23T23:54:47.572Z"
   },
   {
    "duration": 1037,
    "start_time": "2022-02-23T23:55:04.949Z"
   },
   {
    "duration": 952,
    "start_time": "2022-02-23T23:55:15.189Z"
   },
   {
    "duration": 444,
    "start_time": "2022-02-23T23:58:57.802Z"
   },
   {
    "duration": 678,
    "start_time": "2022-02-23T23:59:23.863Z"
   },
   {
    "duration": 841,
    "start_time": "2022-02-24T00:02:05.495Z"
   },
   {
    "duration": 802,
    "start_time": "2022-02-24T00:02:17.783Z"
   },
   {
    "duration": 973,
    "start_time": "2022-02-24T00:02:40.521Z"
   },
   {
    "duration": 817,
    "start_time": "2022-02-24T00:02:45.659Z"
   },
   {
    "duration": 7,
    "start_time": "2022-02-24T00:07:46.287Z"
   },
   {
    "duration": 5083,
    "start_time": "2022-02-24T01:00:11.787Z"
   },
   {
    "duration": 218,
    "start_time": "2022-02-24T01:04:34.185Z"
   },
   {
    "duration": 30,
    "start_time": "2022-02-24T01:04:45.248Z"
   },
   {
    "duration": 189,
    "start_time": "2022-02-24T01:07:00.536Z"
   },
   {
    "duration": 276,
    "start_time": "2022-02-24T01:08:22.660Z"
   },
   {
    "duration": 39,
    "start_time": "2022-02-24T01:08:29.959Z"
   },
   {
    "duration": 4,
    "start_time": "2022-02-24T01:12:34.465Z"
   },
   {
    "duration": 3,
    "start_time": "2022-02-24T01:12:46.852Z"
   },
   {
    "duration": 5,
    "start_time": "2022-02-24T01:15:05.512Z"
   },
   {
    "duration": 4,
    "start_time": "2022-02-24T01:15:15.880Z"
   },
   {
    "duration": 4,
    "start_time": "2022-02-24T01:17:48.029Z"
   },
   {
    "duration": 4,
    "start_time": "2022-02-24T01:19:38.009Z"
   },
   {
    "duration": 4,
    "start_time": "2022-02-24T01:21:39.840Z"
   },
   {
    "duration": 3,
    "start_time": "2022-02-24T01:21:56.025Z"
   },
   {
    "duration": 4,
    "start_time": "2022-02-24T01:25:01.598Z"
   },
   {
    "duration": 4,
    "start_time": "2022-02-24T01:25:09.222Z"
   },
   {
    "duration": 4,
    "start_time": "2022-02-24T01:25:09.747Z"
   },
   {
    "duration": 375,
    "start_time": "2022-02-24T01:28:52.551Z"
   },
   {
    "duration": 4,
    "start_time": "2022-02-24T01:29:29.281Z"
   },
   {
    "duration": 4,
    "start_time": "2022-02-24T01:30:00.550Z"
   },
   {
    "duration": 403,
    "start_time": "2022-02-24T01:30:02.585Z"
   },
   {
    "duration": 4,
    "start_time": "2022-02-24T01:30:41.868Z"
   },
   {
    "duration": 4,
    "start_time": "2022-02-24T01:30:42.940Z"
   },
   {
    "duration": 429,
    "start_time": "2022-02-24T01:30:44.079Z"
   },
   {
    "duration": 4,
    "start_time": "2022-02-24T01:32:26.793Z"
   },
   {
    "duration": 4,
    "start_time": "2022-02-24T01:32:31.250Z"
   },
   {
    "duration": 4,
    "start_time": "2022-02-24T01:32:31.514Z"
   },
   {
    "duration": 395,
    "start_time": "2022-02-24T01:32:34.506Z"
   },
   {
    "duration": 4,
    "start_time": "2022-02-24T01:32:46.212Z"
   },
   {
    "duration": 4,
    "start_time": "2022-02-24T01:32:58.313Z"
   },
   {
    "duration": 485,
    "start_time": "2022-02-24T01:33:00.771Z"
   },
   {
    "duration": 4,
    "start_time": "2022-02-24T01:33:48.420Z"
   },
   {
    "duration": 2837,
    "start_time": "2022-02-24T01:33:50.073Z"
   },
   {
    "duration": 2882,
    "start_time": "2022-02-24T01:35:03.227Z"
   },
   {
    "duration": 198,
    "start_time": "2022-02-24T01:36:48.791Z"
   },
   {
    "duration": 209,
    "start_time": "2022-02-24T01:37:45.638Z"
   },
   {
    "duration": 189,
    "start_time": "2022-02-24T01:37:54.135Z"
   },
   {
    "duration": 3152,
    "start_time": "2022-02-24T01:38:30.029Z"
   },
   {
    "duration": 2788,
    "start_time": "2022-02-24T01:38:54.222Z"
   },
   {
    "duration": 3020,
    "start_time": "2022-02-24T01:39:00.515Z"
   },
   {
    "duration": 34681,
    "start_time": "2022-02-24T01:41:08.339Z"
   },
   {
    "duration": 2617,
    "start_time": "2022-02-24T01:46:42.598Z"
   },
   {
    "duration": 4,
    "start_time": "2022-02-24T01:47:09.381Z"
   },
   {
    "duration": 4,
    "start_time": "2022-02-24T01:47:09.849Z"
   },
   {
    "duration": 2337,
    "start_time": "2022-02-24T01:47:15.376Z"
   },
   {
    "duration": 4,
    "start_time": "2022-02-24T01:59:23.872Z"
   },
   {
    "duration": 4,
    "start_time": "2022-02-24T01:59:27.643Z"
   },
   {
    "duration": 423,
    "start_time": "2022-02-24T02:02:12.470Z"
   },
   {
    "duration": 565,
    "start_time": "2022-02-24T02:02:56.104Z"
   },
   {
    "duration": 4,
    "start_time": "2022-02-24T02:03:26.504Z"
   },
   {
    "duration": 424,
    "start_time": "2022-02-24T02:03:29.157Z"
   },
   {
    "duration": 5,
    "start_time": "2022-02-24T02:03:36.184Z"
   },
   {
    "duration": 3,
    "start_time": "2022-02-24T02:03:36.650Z"
   },
   {
    "duration": 441,
    "start_time": "2022-02-24T02:03:43.963Z"
   },
   {
    "duration": 4,
    "start_time": "2022-02-24T02:04:38.943Z"
   },
   {
    "duration": 3049,
    "start_time": "2022-02-24T02:09:56.760Z"
   },
   {
    "duration": 3377,
    "start_time": "2022-02-24T02:17:47.133Z"
   },
   {
    "duration": 3665,
    "start_time": "2022-02-24T02:18:43.151Z"
   },
   {
    "duration": 863,
    "start_time": "2022-02-24T02:19:18.456Z"
   },
   {
    "duration": 713,
    "start_time": "2022-02-24T02:21:53.259Z"
   },
   {
    "duration": 643,
    "start_time": "2022-02-24T02:22:16.018Z"
   },
   {
    "duration": 383,
    "start_time": "2022-02-24T02:23:52.344Z"
   },
   {
    "duration": 1271,
    "start_time": "2022-02-24T02:26:48.900Z"
   },
   {
    "duration": 779,
    "start_time": "2022-02-24T02:26:50.174Z"
   },
   {
    "duration": 75,
    "start_time": "2022-02-24T02:26:50.958Z"
   },
   {
    "duration": 73,
    "start_time": "2022-02-24T02:26:51.035Z"
   },
   {
    "duration": 3,
    "start_time": "2022-02-24T02:26:51.111Z"
   },
   {
    "duration": 15,
    "start_time": "2022-02-24T02:26:51.117Z"
   },
   {
    "duration": 4,
    "start_time": "2022-02-24T02:26:51.134Z"
   },
   {
    "duration": 11,
    "start_time": "2022-02-24T02:26:51.141Z"
   },
   {
    "duration": 298,
    "start_time": "2022-02-24T02:26:51.155Z"
   },
   {
    "duration": 16,
    "start_time": "2022-02-24T02:26:51.455Z"
   },
   {
    "duration": 45,
    "start_time": "2022-02-24T02:26:51.473Z"
   },
   {
    "duration": 16,
    "start_time": "2022-02-24T02:26:51.520Z"
   },
   {
    "duration": 802,
    "start_time": "2022-02-24T02:26:51.538Z"
   },
   {
    "duration": 879,
    "start_time": "2022-02-24T02:26:52.343Z"
   },
   {
    "duration": 816,
    "start_time": "2022-02-24T02:26:53.225Z"
   },
   {
    "duration": 939,
    "start_time": "2022-02-24T02:26:54.044Z"
   },
   {
    "duration": 922,
    "start_time": "2022-02-24T02:26:54.985Z"
   },
   {
    "duration": 4,
    "start_time": "2022-02-24T02:26:55.909Z"
   },
   {
    "duration": 11,
    "start_time": "2022-02-24T02:26:55.914Z"
   },
   {
    "duration": 10,
    "start_time": "2022-02-24T02:26:55.927Z"
   },
   {
    "duration": 32,
    "start_time": "2022-02-24T02:26:55.939Z"
   },
   {
    "duration": 2835,
    "start_time": "2022-02-24T02:26:55.973Z"
   },
   {
    "duration": 582,
    "start_time": "2022-02-24T02:26:58.811Z"
   },
   {
    "duration": 1203,
    "start_time": "2022-02-24T02:29:35.575Z"
   },
   {
    "duration": 796,
    "start_time": "2022-02-24T02:29:36.780Z"
   },
   {
    "duration": 72,
    "start_time": "2022-02-24T02:29:37.579Z"
   },
   {
    "duration": 68,
    "start_time": "2022-02-24T02:29:37.653Z"
   },
   {
    "duration": 3,
    "start_time": "2022-02-24T02:29:37.723Z"
   },
   {
    "duration": 14,
    "start_time": "2022-02-24T02:29:37.728Z"
   },
   {
    "duration": 4,
    "start_time": "2022-02-24T02:29:37.744Z"
   },
   {
    "duration": 4,
    "start_time": "2022-02-24T02:29:37.751Z"
   },
   {
    "duration": 303,
    "start_time": "2022-02-24T02:29:37.758Z"
   },
   {
    "duration": 33,
    "start_time": "2022-02-24T02:29:38.063Z"
   },
   {
    "duration": 296,
    "start_time": "2022-02-24T02:29:38.107Z"
   },
   {
    "duration": 440,
    "start_time": "2022-02-24T02:29:37.965Z"
   },
   {
    "duration": 438,
    "start_time": "2022-02-24T02:29:37.968Z"
   },
   {
    "duration": 432,
    "start_time": "2022-02-24T02:29:37.975Z"
   },
   {
    "duration": 431,
    "start_time": "2022-02-24T02:29:37.977Z"
   },
   {
    "duration": 431,
    "start_time": "2022-02-24T02:29:37.979Z"
   },
   {
    "duration": 430,
    "start_time": "2022-02-24T02:29:37.981Z"
   },
   {
    "duration": 427,
    "start_time": "2022-02-24T02:29:37.985Z"
   },
   {
    "duration": 422,
    "start_time": "2022-02-24T02:29:37.991Z"
   },
   {
    "duration": 421,
    "start_time": "2022-02-24T02:29:37.993Z"
   },
   {
    "duration": 420,
    "start_time": "2022-02-24T02:29:37.995Z"
   },
   {
    "duration": 420,
    "start_time": "2022-02-24T02:29:37.996Z"
   },
   {
    "duration": 419,
    "start_time": "2022-02-24T02:29:37.998Z"
   },
   {
    "duration": 1116,
    "start_time": "2022-02-24T02:31:46.961Z"
   },
   {
    "duration": 775,
    "start_time": "2022-02-24T02:31:48.079Z"
   },
   {
    "duration": 80,
    "start_time": "2022-02-24T02:31:48.860Z"
   },
   {
    "duration": 68,
    "start_time": "2022-02-24T02:31:48.941Z"
   },
   {
    "duration": 3,
    "start_time": "2022-02-24T02:31:49.011Z"
   },
   {
    "duration": 26,
    "start_time": "2022-02-24T02:31:49.016Z"
   },
   {
    "duration": 7,
    "start_time": "2022-02-24T02:31:49.045Z"
   },
   {
    "duration": 7,
    "start_time": "2022-02-24T02:31:49.055Z"
   },
   {
    "duration": 317,
    "start_time": "2022-02-24T02:31:49.064Z"
   },
   {
    "duration": 24,
    "start_time": "2022-02-24T02:31:49.383Z"
   },
   {
    "duration": 33,
    "start_time": "2022-02-24T02:31:49.410Z"
   },
   {
    "duration": 14,
    "start_time": "2022-02-24T02:31:49.445Z"
   },
   {
    "duration": 807,
    "start_time": "2022-02-24T02:31:49.461Z"
   },
   {
    "duration": 874,
    "start_time": "2022-02-24T02:31:50.270Z"
   },
   {
    "duration": 821,
    "start_time": "2022-02-24T02:31:51.146Z"
   },
   {
    "duration": 964,
    "start_time": "2022-02-24T02:31:51.970Z"
   },
   {
    "duration": 926,
    "start_time": "2022-02-24T02:31:52.936Z"
   },
   {
    "duration": 3,
    "start_time": "2022-02-24T02:31:53.864Z"
   },
   {
    "duration": 6,
    "start_time": "2022-02-24T02:31:53.869Z"
   },
   {
    "duration": 13,
    "start_time": "2022-02-24T02:31:53.877Z"
   },
   {
    "duration": 41,
    "start_time": "2022-02-24T02:31:53.892Z"
   },
   {
    "duration": 3373,
    "start_time": "2022-02-24T02:31:53.936Z"
   },
   {
    "duration": 471,
    "start_time": "2022-02-24T02:31:57.311Z"
   },
   {
    "duration": 2221,
    "start_time": "2022-02-24T02:35:15.288Z"
   },
   {
    "duration": 541,
    "start_time": "2022-02-24T02:40:08.828Z"
   },
   {
    "duration": 380,
    "start_time": "2022-02-24T02:40:28.530Z"
   },
   {
    "duration": 518,
    "start_time": "2022-02-24T02:41:35.089Z"
   },
   {
    "duration": 437,
    "start_time": "2022-02-24T02:41:44.872Z"
   },
   {
    "duration": 1165,
    "start_time": "2022-02-24T02:47:53.210Z"
   },
   {
    "duration": 781,
    "start_time": "2022-02-24T02:47:54.377Z"
   },
   {
    "duration": 72,
    "start_time": "2022-02-24T02:47:55.161Z"
   },
   {
    "duration": 73,
    "start_time": "2022-02-24T02:47:55.235Z"
   },
   {
    "duration": 4,
    "start_time": "2022-02-24T02:47:55.311Z"
   },
   {
    "duration": 28,
    "start_time": "2022-02-24T02:47:55.317Z"
   },
   {
    "duration": 16,
    "start_time": "2022-02-24T02:47:55.347Z"
   },
   {
    "duration": 11,
    "start_time": "2022-02-24T02:47:55.365Z"
   },
   {
    "duration": 276,
    "start_time": "2022-02-24T02:47:55.379Z"
   },
   {
    "duration": 16,
    "start_time": "2022-02-24T02:47:55.657Z"
   },
   {
    "duration": 49,
    "start_time": "2022-02-24T02:47:55.675Z"
   },
   {
    "duration": 15,
    "start_time": "2022-02-24T02:47:55.726Z"
   },
   {
    "duration": 908,
    "start_time": "2022-02-24T02:47:55.743Z"
   },
   {
    "duration": 972,
    "start_time": "2022-02-24T02:47:56.653Z"
   },
   {
    "duration": 811,
    "start_time": "2022-02-24T02:47:57.627Z"
   },
   {
    "duration": 946,
    "start_time": "2022-02-24T02:47:58.440Z"
   },
   {
    "duration": 1032,
    "start_time": "2022-02-24T02:47:59.388Z"
   },
   {
    "duration": 4,
    "start_time": "2022-02-24T02:48:00.422Z"
   },
   {
    "duration": 13,
    "start_time": "2022-02-24T02:48:00.428Z"
   },
   {
    "duration": 19,
    "start_time": "2022-02-24T02:48:00.443Z"
   },
   {
    "duration": 45,
    "start_time": "2022-02-24T02:48:00.464Z"
   },
   {
    "duration": 2998,
    "start_time": "2022-02-24T02:48:00.511Z"
   },
   {
    "duration": 504,
    "start_time": "2022-02-24T02:48:03.511Z"
   },
   {
    "duration": 1520,
    "start_time": "2022-02-24T02:49:09.647Z"
   },
   {
    "duration": 788,
    "start_time": "2022-02-24T02:49:11.169Z"
   },
   {
    "duration": 75,
    "start_time": "2022-02-24T02:49:11.962Z"
   },
   {
    "duration": 72,
    "start_time": "2022-02-24T02:49:12.039Z"
   },
   {
    "duration": 3,
    "start_time": "2022-02-24T02:49:12.114Z"
   },
   {
    "duration": 15,
    "start_time": "2022-02-24T02:49:12.119Z"
   },
   {
    "duration": 4,
    "start_time": "2022-02-24T02:49:12.136Z"
   },
   {
    "duration": 5,
    "start_time": "2022-02-24T02:49:12.143Z"
   },
   {
    "duration": 308,
    "start_time": "2022-02-24T02:49:12.150Z"
   },
   {
    "duration": 14,
    "start_time": "2022-02-24T02:49:12.460Z"
   },
   {
    "duration": 50,
    "start_time": "2022-02-24T02:49:12.476Z"
   },
   {
    "duration": 14,
    "start_time": "2022-02-24T02:49:12.528Z"
   },
   {
    "duration": 1014,
    "start_time": "2022-02-24T02:49:12.544Z"
   },
   {
    "duration": 977,
    "start_time": "2022-02-24T02:49:13.560Z"
   },
   {
    "duration": 822,
    "start_time": "2022-02-24T02:49:14.539Z"
   },
   {
    "duration": 928,
    "start_time": "2022-02-24T02:49:15.363Z"
   },
   {
    "duration": 870,
    "start_time": "2022-02-24T02:49:16.293Z"
   },
   {
    "duration": 3,
    "start_time": "2022-02-24T02:49:17.165Z"
   },
   {
    "duration": 19,
    "start_time": "2022-02-24T02:49:17.170Z"
   },
   {
    "duration": 28,
    "start_time": "2022-02-24T02:49:17.191Z"
   },
   {
    "duration": 46,
    "start_time": "2022-02-24T02:49:17.220Z"
   },
   {
    "duration": 3842,
    "start_time": "2022-02-24T02:49:17.269Z"
   },
   {
    "duration": 600,
    "start_time": "2022-02-24T02:49:21.114Z"
   },
   {
    "duration": 2299,
    "start_time": "2022-02-24T05:45:48.301Z"
   },
   {
    "duration": 1080,
    "start_time": "2022-02-24T05:45:50.603Z"
   },
   {
    "duration": 113,
    "start_time": "2022-02-24T05:45:51.687Z"
   },
   {
    "duration": 100,
    "start_time": "2022-02-24T05:45:51.803Z"
   },
   {
    "duration": 5,
    "start_time": "2022-02-24T05:49:40.925Z"
   },
   {
    "duration": 16,
    "start_time": "2022-02-24T05:49:41.410Z"
   },
   {
    "duration": 6,
    "start_time": "2022-02-24T05:49:59.184Z"
   },
   {
    "duration": 6,
    "start_time": "2022-02-24T05:49:59.927Z"
   },
   {
    "duration": 543,
    "start_time": "2022-02-24T05:50:38.604Z"
   },
   {
    "duration": 28,
    "start_time": "2022-02-24T05:51:07.119Z"
   },
   {
    "duration": 49,
    "start_time": "2022-02-24T05:51:07.638Z"
   },
   {
    "duration": 25,
    "start_time": "2022-02-24T05:51:08.123Z"
   },
   {
    "duration": 1302,
    "start_time": "2022-02-24T05:51:34.499Z"
   },
   {
    "duration": 1390,
    "start_time": "2022-02-24T05:51:35.804Z"
   },
   {
    "duration": 1278,
    "start_time": "2022-02-24T05:51:37.198Z"
   },
   {
    "duration": 1532,
    "start_time": "2022-02-24T05:52:10.048Z"
   },
   {
    "duration": 1871,
    "start_time": "2022-02-24T05:55:55.603Z"
   },
   {
    "duration": 6,
    "start_time": "2022-02-24T05:57:09.463Z"
   },
   {
    "duration": 4,
    "start_time": "2022-02-24T05:57:10.159Z"
   },
   {
    "duration": 10,
    "start_time": "2022-02-24T06:01:23.172Z"
   },
   {
    "duration": 38,
    "start_time": "2022-02-24T06:01:27.107Z"
   },
   {
    "duration": 5,
    "start_time": "2022-02-24T06:02:00.137Z"
   },
   {
    "duration": 9,
    "start_time": "2022-02-24T06:02:17.747Z"
   },
   {
    "duration": 3741,
    "start_time": "2022-02-24T06:03:12.629Z"
   },
   {
    "duration": 900,
    "start_time": "2022-02-24T06:03:16.374Z"
   },
   {
    "duration": 1591,
    "start_time": "2022-02-25T16:30:31.875Z"
   },
   {
    "duration": 909,
    "start_time": "2022-02-25T16:30:33.470Z"
   },
   {
    "duration": 102,
    "start_time": "2022-02-25T16:30:34.382Z"
   },
   {
    "duration": 92,
    "start_time": "2022-02-25T16:30:34.487Z"
   },
   {
    "duration": 4,
    "start_time": "2022-02-25T16:30:34.582Z"
   },
   {
    "duration": 45,
    "start_time": "2022-02-25T16:30:34.589Z"
   },
   {
    "duration": 4,
    "start_time": "2022-02-25T16:30:34.637Z"
   },
   {
    "duration": 6,
    "start_time": "2022-02-25T16:30:34.645Z"
   },
   {
    "duration": 445,
    "start_time": "2022-02-25T16:30:34.653Z"
   },
   {
    "duration": 42,
    "start_time": "2022-02-25T16:30:35.102Z"
   },
   {
    "duration": 49,
    "start_time": "2022-02-25T16:30:35.147Z"
   },
   {
    "duration": 41,
    "start_time": "2022-02-25T16:30:35.199Z"
   },
   {
    "duration": 1624,
    "start_time": "2022-02-25T16:30:35.243Z"
   },
   {
    "duration": 1975,
    "start_time": "2022-02-25T16:30:36.869Z"
   },
   {
    "duration": 1311,
    "start_time": "2022-02-25T16:30:38.847Z"
   },
   {
    "duration": 1665,
    "start_time": "2022-02-25T16:30:40.161Z"
   },
   {
    "duration": 1388,
    "start_time": "2022-02-25T16:30:41.828Z"
   },
   {
    "duration": 5,
    "start_time": "2022-02-25T16:30:43.225Z"
   },
   {
    "duration": 9,
    "start_time": "2022-02-25T16:30:43.233Z"
   },
   {
    "duration": 20,
    "start_time": "2022-02-25T16:30:43.245Z"
   },
   {
    "duration": 41,
    "start_time": "2022-02-25T16:30:43.268Z"
   },
   {
    "duration": 19,
    "start_time": "2022-02-25T16:30:43.312Z"
   },
   {
    "duration": 12,
    "start_time": "2022-02-25T16:30:43.338Z"
   },
   {
    "duration": 3376,
    "start_time": "2022-02-25T16:30:43.354Z"
   },
   {
    "duration": 699,
    "start_time": "2022-02-25T16:30:46.733Z"
   },
   {
    "duration": 857,
    "start_time": "2022-02-25T16:30:47.435Z"
   },
   {
    "duration": 313,
    "start_time": "2022-02-25T16:32:40.165Z"
   },
   {
    "duration": 5,
    "start_time": "2022-02-25T16:33:02.066Z"
   },
   {
    "duration": 367,
    "start_time": "2022-02-25T16:33:07.006Z"
   },
   {
    "duration": 1678,
    "start_time": "2022-02-25T16:38:20.011Z"
   },
   {
    "duration": 876,
    "start_time": "2022-02-25T16:38:21.691Z"
   },
   {
    "duration": 103,
    "start_time": "2022-02-25T16:38:22.570Z"
   },
   {
    "duration": 93,
    "start_time": "2022-02-25T16:38:22.677Z"
   },
   {
    "duration": 4,
    "start_time": "2022-02-25T16:38:22.772Z"
   },
   {
    "duration": 21,
    "start_time": "2022-02-25T16:38:22.778Z"
   },
   {
    "duration": 26,
    "start_time": "2022-02-25T16:38:22.802Z"
   },
   {
    "duration": 12,
    "start_time": "2022-02-25T16:38:22.832Z"
   },
   {
    "duration": 458,
    "start_time": "2022-02-25T16:38:22.847Z"
   },
   {
    "duration": 31,
    "start_time": "2022-02-25T16:38:23.307Z"
   },
   {
    "duration": 42,
    "start_time": "2022-02-25T16:38:23.341Z"
   },
   {
    "duration": 48,
    "start_time": "2022-02-25T16:38:23.386Z"
   },
   {
    "duration": 1265,
    "start_time": "2022-02-25T16:38:23.437Z"
   },
   {
    "duration": 1350,
    "start_time": "2022-02-25T16:38:24.704Z"
   },
   {
    "duration": 1339,
    "start_time": "2022-02-25T16:38:26.057Z"
   },
   {
    "duration": 1650,
    "start_time": "2022-02-25T16:38:27.398Z"
   },
   {
    "duration": 1422,
    "start_time": "2022-02-25T16:38:29.051Z"
   },
   {
    "duration": 5,
    "start_time": "2022-02-25T16:38:30.475Z"
   },
   {
    "duration": 8,
    "start_time": "2022-02-25T16:38:30.484Z"
   },
   {
    "duration": 36,
    "start_time": "2022-02-25T16:38:30.495Z"
   },
   {
    "duration": 42,
    "start_time": "2022-02-25T16:38:30.534Z"
   },
   {
    "duration": 10,
    "start_time": "2022-02-25T16:38:30.579Z"
   },
   {
    "duration": 38,
    "start_time": "2022-02-25T16:38:30.594Z"
   },
   {
    "duration": 3594,
    "start_time": "2022-02-25T16:38:30.634Z"
   },
   {
    "duration": 806,
    "start_time": "2022-02-25T16:38:34.231Z"
   },
   {
    "duration": 476,
    "start_time": "2022-02-25T16:38:35.040Z"
   },
   {
    "duration": 72,
    "start_time": "2022-02-25T16:41:05.732Z"
   },
   {
    "duration": 9,
    "start_time": "2022-02-25T16:44:52.594Z"
   },
   {
    "duration": 312,
    "start_time": "2022-02-25T16:48:55.155Z"
   },
   {
    "duration": 13,
    "start_time": "2022-02-25T16:49:27.723Z"
   },
   {
    "duration": 12,
    "start_time": "2022-02-25T16:51:23.949Z"
   },
   {
    "duration": 11,
    "start_time": "2022-02-25T16:53:19.128Z"
   },
   {
    "duration": 12,
    "start_time": "2022-02-25T16:53:48.796Z"
   },
   {
    "duration": 1572,
    "start_time": "2022-02-25T16:57:12.691Z"
   },
   {
    "duration": 875,
    "start_time": "2022-02-25T16:57:14.266Z"
   },
   {
    "duration": 102,
    "start_time": "2022-02-25T16:57:15.144Z"
   },
   {
    "duration": 89,
    "start_time": "2022-02-25T16:57:15.249Z"
   },
   {
    "duration": 3,
    "start_time": "2022-02-25T16:57:15.341Z"
   },
   {
    "duration": 20,
    "start_time": "2022-02-25T16:57:15.347Z"
   },
   {
    "duration": 4,
    "start_time": "2022-02-25T16:57:15.370Z"
   },
   {
    "duration": 7,
    "start_time": "2022-02-25T16:57:15.378Z"
   },
   {
    "duration": 448,
    "start_time": "2022-02-25T16:57:15.388Z"
   },
   {
    "duration": 19,
    "start_time": "2022-02-25T16:57:15.838Z"
   },
   {
    "duration": 35,
    "start_time": "2022-02-25T16:57:15.860Z"
   },
   {
    "duration": 40,
    "start_time": "2022-02-25T16:57:15.898Z"
   },
   {
    "duration": 1327,
    "start_time": "2022-02-25T16:57:15.941Z"
   },
   {
    "duration": 1436,
    "start_time": "2022-02-25T16:57:17.270Z"
   },
   {
    "duration": 1365,
    "start_time": "2022-02-25T16:57:18.708Z"
   },
   {
    "duration": 1791,
    "start_time": "2022-02-25T16:57:20.076Z"
   },
   {
    "duration": 1405,
    "start_time": "2022-02-25T16:57:21.870Z"
   },
   {
    "duration": 5,
    "start_time": "2022-02-25T16:57:23.278Z"
   },
   {
    "duration": 40,
    "start_time": "2022-02-25T16:57:23.286Z"
   },
   {
    "duration": 35,
    "start_time": "2022-02-25T16:57:23.328Z"
   },
   {
    "duration": 56,
    "start_time": "2022-02-25T16:57:23.366Z"
   },
   {
    "duration": 7,
    "start_time": "2022-02-25T16:57:23.424Z"
   },
   {
    "duration": 23,
    "start_time": "2022-02-25T16:57:23.437Z"
   },
   {
    "duration": 3365,
    "start_time": "2022-02-25T16:57:23.463Z"
   },
   {
    "duration": 795,
    "start_time": "2022-02-25T16:57:26.831Z"
   },
   {
    "duration": 15,
    "start_time": "2022-02-25T16:57:27.629Z"
   },
   {
    "duration": 1587,
    "start_time": "2022-02-25T16:58:23.989Z"
   },
   {
    "duration": 923,
    "start_time": "2022-02-25T16:58:25.579Z"
   },
   {
    "duration": 120,
    "start_time": "2022-02-25T16:58:26.506Z"
   },
   {
    "duration": 69,
    "start_time": "2022-02-25T16:58:26.629Z"
   },
   {
    "duration": 5,
    "start_time": "2022-02-25T16:58:26.725Z"
   },
   {
    "duration": 18,
    "start_time": "2022-02-25T16:58:26.733Z"
   },
   {
    "duration": 5,
    "start_time": "2022-02-25T16:58:26.754Z"
   },
   {
    "duration": 10,
    "start_time": "2022-02-25T16:58:26.762Z"
   },
   {
    "duration": 455,
    "start_time": "2022-02-25T16:58:26.776Z"
   },
   {
    "duration": 25,
    "start_time": "2022-02-25T16:58:27.235Z"
   },
   {
    "duration": 67,
    "start_time": "2022-02-25T16:58:27.262Z"
   },
   {
    "duration": 17,
    "start_time": "2022-02-25T16:58:27.332Z"
   },
   {
    "duration": 1908,
    "start_time": "2022-02-25T16:58:27.352Z"
   },
   {
    "duration": 2009,
    "start_time": "2022-02-25T16:58:29.263Z"
   },
   {
    "duration": 1356,
    "start_time": "2022-02-25T16:58:31.275Z"
   },
   {
    "duration": 2313,
    "start_time": "2022-02-25T16:58:32.634Z"
   },
   {
    "duration": 1432,
    "start_time": "2022-02-25T16:58:34.950Z"
   },
   {
    "duration": 5,
    "start_time": "2022-02-25T16:58:36.385Z"
   },
   {
    "duration": 9,
    "start_time": "2022-02-25T16:58:36.392Z"
   },
   {
    "duration": 28,
    "start_time": "2022-02-25T16:58:36.404Z"
   },
   {
    "duration": 53,
    "start_time": "2022-02-25T16:58:36.435Z"
   },
   {
    "duration": 7,
    "start_time": "2022-02-25T16:58:36.491Z"
   },
   {
    "duration": 10,
    "start_time": "2022-02-25T16:58:36.526Z"
   },
   {
    "duration": 4093,
    "start_time": "2022-02-25T16:58:36.539Z"
   },
   {
    "duration": 802,
    "start_time": "2022-02-25T16:58:40.634Z"
   },
   {
    "duration": 13,
    "start_time": "2022-02-25T16:58:41.439Z"
   },
   {
    "duration": 8,
    "start_time": "2022-02-25T18:16:12.432Z"
   },
   {
    "duration": 8,
    "start_time": "2022-02-25T18:16:37.034Z"
   },
   {
    "duration": 8,
    "start_time": "2022-02-25T18:16:48.215Z"
   },
   {
    "duration": 8,
    "start_time": "2022-02-25T18:17:36.595Z"
   },
   {
    "duration": 9,
    "start_time": "2022-02-25T18:17:53.291Z"
   },
   {
    "duration": 5,
    "start_time": "2022-02-25T18:18:24.575Z"
   },
   {
    "duration": 7,
    "start_time": "2022-02-25T18:18:43.287Z"
   },
   {
    "duration": 101,
    "start_time": "2022-02-25T18:18:51.232Z"
   },
   {
    "duration": 8,
    "start_time": "2022-02-25T18:18:56.600Z"
   },
   {
    "duration": 1434,
    "start_time": "2022-02-25T18:19:46.341Z"
   },
   {
    "duration": 1316,
    "start_time": "2022-02-25T18:20:18.386Z"
   },
   {
    "duration": 2195,
    "start_time": "2022-02-25T18:20:30.857Z"
   },
   {
    "duration": 1520,
    "start_time": "2022-02-25T18:20:39.077Z"
   },
   {
    "duration": 948,
    "start_time": "2022-02-25T18:20:40.600Z"
   },
   {
    "duration": 110,
    "start_time": "2022-02-25T18:20:41.552Z"
   },
   {
    "duration": 92,
    "start_time": "2022-02-25T18:20:41.665Z"
   },
   {
    "duration": 5,
    "start_time": "2022-02-25T18:20:41.759Z"
   },
   {
    "duration": 47,
    "start_time": "2022-02-25T18:20:41.766Z"
   },
   {
    "duration": 16,
    "start_time": "2022-02-25T18:20:41.816Z"
   },
   {
    "duration": 17,
    "start_time": "2022-02-25T18:20:41.836Z"
   },
   {
    "duration": 459,
    "start_time": "2022-02-25T18:20:41.856Z"
   },
   {
    "duration": 24,
    "start_time": "2022-02-25T18:20:42.326Z"
   },
   {
    "duration": 49,
    "start_time": "2022-02-25T18:20:42.353Z"
   },
   {
    "duration": 25,
    "start_time": "2022-02-25T18:20:42.405Z"
   },
   {
    "duration": 1282,
    "start_time": "2022-02-25T18:20:42.433Z"
   },
   {
    "duration": 1474,
    "start_time": "2022-02-25T18:20:43.718Z"
   },
   {
    "duration": 1307,
    "start_time": "2022-02-25T18:20:45.195Z"
   },
   {
    "duration": 1524,
    "start_time": "2022-02-25T18:20:46.505Z"
   },
   {
    "duration": 1400,
    "start_time": "2022-02-25T18:20:48.032Z"
   },
   {
    "duration": 1283,
    "start_time": "2022-02-25T18:20:49.435Z"
   },
   {
    "duration": 6,
    "start_time": "2022-02-25T18:20:50.720Z"
   },
   {
    "duration": 18,
    "start_time": "2022-02-25T18:20:50.728Z"
   },
   {
    "duration": 21,
    "start_time": "2022-02-25T18:20:50.749Z"
   },
   {
    "duration": 48,
    "start_time": "2022-02-25T18:20:50.772Z"
   },
   {
    "duration": 5,
    "start_time": "2022-02-25T18:20:50.825Z"
   },
   {
    "duration": 24,
    "start_time": "2022-02-25T18:20:50.833Z"
   },
   {
    "duration": 3769,
    "start_time": "2022-02-25T18:20:50.860Z"
   },
   {
    "duration": 802,
    "start_time": "2022-02-25T18:20:54.633Z"
   },
   {
    "duration": 12,
    "start_time": "2022-02-25T18:20:55.438Z"
   },
   {
    "duration": 1353,
    "start_time": "2022-02-25T18:22:14.810Z"
   },
   {
    "duration": 1517,
    "start_time": "2022-02-25T18:23:43.182Z"
   },
   {
    "duration": 908,
    "start_time": "2022-02-25T18:23:44.701Z"
   },
   {
    "duration": 91,
    "start_time": "2022-02-25T18:23:45.612Z"
   },
   {
    "duration": 82,
    "start_time": "2022-02-25T18:23:45.706Z"
   },
   {
    "duration": 6,
    "start_time": "2022-02-25T18:23:45.791Z"
   },
   {
    "duration": 15,
    "start_time": "2022-02-25T18:23:45.827Z"
   },
   {
    "duration": 5,
    "start_time": "2022-02-25T18:23:45.845Z"
   },
   {
    "duration": 10,
    "start_time": "2022-02-25T18:23:45.852Z"
   },
   {
    "duration": 446,
    "start_time": "2022-02-25T18:23:45.866Z"
   },
   {
    "duration": 25,
    "start_time": "2022-02-25T18:23:46.315Z"
   },
   {
    "duration": 29,
    "start_time": "2022-02-25T18:23:46.343Z"
   },
   {
    "duration": 16,
    "start_time": "2022-02-25T18:23:46.374Z"
   },
   {
    "duration": 1473,
    "start_time": "2022-02-25T18:23:46.392Z"
   },
   {
    "duration": 1441,
    "start_time": "2022-02-25T18:23:47.867Z"
   },
   {
    "duration": 1368,
    "start_time": "2022-02-25T18:23:49.311Z"
   },
   {
    "duration": 1569,
    "start_time": "2022-02-25T18:23:50.681Z"
   },
   {
    "duration": 1410,
    "start_time": "2022-02-25T18:23:52.252Z"
   },
   {
    "duration": 1371,
    "start_time": "2022-02-25T18:23:53.664Z"
   },
   {
    "duration": 5,
    "start_time": "2022-02-25T18:23:55.038Z"
   },
   {
    "duration": 9,
    "start_time": "2022-02-25T18:23:55.047Z"
   },
   {
    "duration": 14,
    "start_time": "2022-02-25T18:23:55.058Z"
   },
   {
    "duration": 65,
    "start_time": "2022-02-25T18:23:55.074Z"
   },
   {
    "duration": 5,
    "start_time": "2022-02-25T18:23:55.142Z"
   },
   {
    "duration": 11,
    "start_time": "2022-02-25T18:23:55.149Z"
   },
   {
    "duration": 3771,
    "start_time": "2022-02-25T18:23:55.162Z"
   },
   {
    "duration": 899,
    "start_time": "2022-02-25T18:23:58.936Z"
   },
   {
    "duration": 87,
    "start_time": "2022-02-25T18:23:59.839Z"
   },
   {
    "duration": 1527,
    "start_time": "2022-02-25T18:24:58.649Z"
   },
   {
    "duration": 895,
    "start_time": "2022-02-25T18:25:00.179Z"
   },
   {
    "duration": 126,
    "start_time": "2022-02-25T18:25:01.077Z"
   },
   {
    "duration": 81,
    "start_time": "2022-02-25T18:25:01.206Z"
   },
   {
    "duration": 4,
    "start_time": "2022-02-25T18:25:01.289Z"
   },
   {
    "duration": 44,
    "start_time": "2022-02-25T18:25:01.296Z"
   },
   {
    "duration": 5,
    "start_time": "2022-02-25T18:25:01.343Z"
   },
   {
    "duration": 16,
    "start_time": "2022-02-25T18:25:01.352Z"
   },
   {
    "duration": 449,
    "start_time": "2022-02-25T18:25:01.371Z"
   },
   {
    "duration": 20,
    "start_time": "2022-02-25T18:25:01.825Z"
   },
   {
    "duration": 50,
    "start_time": "2022-02-25T18:25:01.847Z"
   },
   {
    "duration": 35,
    "start_time": "2022-02-25T18:25:01.899Z"
   },
   {
    "duration": 1272,
    "start_time": "2022-02-25T18:25:01.937Z"
   },
   {
    "duration": 1414,
    "start_time": "2022-02-25T18:25:03.212Z"
   },
   {
    "duration": 1422,
    "start_time": "2022-02-25T18:25:04.628Z"
   },
   {
    "duration": 1542,
    "start_time": "2022-02-25T18:25:06.052Z"
   },
   {
    "duration": 1394,
    "start_time": "2022-02-25T18:25:07.597Z"
   },
   {
    "duration": 1260,
    "start_time": "2022-02-25T18:25:08.994Z"
   },
   {
    "duration": 6,
    "start_time": "2022-02-25T18:25:10.257Z"
   },
   {
    "duration": 6,
    "start_time": "2022-02-25T18:25:10.266Z"
   },
   {
    "duration": 11,
    "start_time": "2022-02-25T18:25:10.275Z"
   },
   {
    "duration": 38,
    "start_time": "2022-02-25T18:25:10.325Z"
   },
   {
    "duration": 5,
    "start_time": "2022-02-25T18:25:10.367Z"
   },
   {
    "duration": 11,
    "start_time": "2022-02-25T18:25:10.375Z"
   },
   {
    "duration": 3448,
    "start_time": "2022-02-25T18:25:10.389Z"
   },
   {
    "duration": 616,
    "start_time": "2022-02-25T18:25:13.927Z"
   },
   {
    "duration": 11,
    "start_time": "2022-02-25T18:25:14.546Z"
   }
  ],
  "kernelspec": {
   "display_name": "Python 3 (ipykernel)",
   "language": "python",
   "name": "python3"
  },
  "language_info": {
   "codemirror_mode": {
    "name": "ipython",
    "version": 3
   },
   "file_extension": ".py",
   "mimetype": "text/x-python",
   "name": "python",
   "nbconvert_exporter": "python",
   "pygments_lexer": "ipython3",
   "version": "3.9.5"
  },
  "toc": {
   "base_numbering": 1,
   "nav_menu": {},
   "number_sections": true,
   "sideBar": true,
   "skip_h1_title": true,
   "title_cell": "Содержание",
   "title_sidebar": "Contents",
   "toc_cell": true,
   "toc_position": {},
   "toc_section_display": true,
   "toc_window_display": true
  }
 },
 "nbformat": 4,
 "nbformat_minor": 2
}
