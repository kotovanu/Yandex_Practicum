{
 "cells": [
  {
   "cell_type": "markdown",
   "metadata": {},
   "source": [
    "**Привет, Мариус!**\n",
    "\n",
    "Меня зовут Анастасия Ефременко, я буду проверять твой проект. Предлагаю тебе общаться на \"ты\", но если тебе это некомфортно, дай знать и мы перейдем на \"Вы\". Цель этого ревью: помочь тебе довести проект до совершенства. Так, как это хотел бы видеть работодатель. \n",
    "\n",
    "Прошу тебя не удалять мои комменатрии пока проект не будет принят, чтобы облегчить нам процес работы.\n",
    "\n",
    "Свои комменатрии я выделяю разными цветами, и вот что это значит:\n",
    "\n",
    "<div class=\"alert alert-danger\">\n",
    "<b>Осторожно!</b> \n",
    "Красным цветом выделены недочеты, на которые обязательно нужно обратить внимание. Их следует исправить в твоей работе.</div>\n",
    "\n",
    "<div class=\"alert alert-warning\">\n",
    "<b>Рекомендация:</b> \n",
    "Желтым цветом я оставляю тебе советы, которые стоит принять во внимание. Если есть желание, можешь исправить их. </div>\n",
    "\n",
    "<div class=\"alert alert-success\">\n",
    "<b>Good job! </b> Ну а зеленым цветом будет помечена обратная связь по твоему проекту.</div>\n",
    "\n",
    "Предлагаю тебе работать в тандеме, поэтому ответы на мои комментарии, возникающие по ходу работы вопросы можешь выделять синим цветом.\n",
    "\n",
    "<div class=\"alert alert-info\">\n",
    "<b>Комментарий студента:</b> Как-то так.\n",
    "</div>\n",
    "\n",
    "<div class=\"alert alert-info\">\n",
    "<b>Комментарий студента:</b> Здравствуйте!\n",
    "</div>\n"
   ]
  },
  {
   "cell_type": "markdown",
   "metadata": {
    "id": "E0vqbgi9ay0H"
   },
   "source": [
    "# Яндекс.Музыка"
   ]
  },
  {
   "cell_type": "markdown",
   "metadata": {
    "id": "VUC88oWjTJw2"
   },
   "source": [
    "Сравнение Москвы и Петербурга окружено мифами. Например:\n",
    " * Москва — мегаполис, подчинённый жёсткому ритму рабочей недели;\n",
    " * Петербург — культурная столица, со своими вкусами.\n",
    "\n",
    "На данных Яндекс.Музыки вы сравните поведение пользователей двух столиц.\n",
    "\n",
    "**Цель исследования** — проверьте три гипотезы:\n",
    "1. Активность пользователей зависит от дня недели. Причём в Москве и Петербурге это проявляется по-разному.\n",
    "2. В понедельник утром в Москве преобладают одни жанры, а в Петербурге — другие. Так же и вечером пятницы преобладают разные жанры — в зависимости от города. \n",
    "3. Москва и Петербург предпочитают разные жанры музыки. В Москве чаще слушают поп-музыку, в Петербурге — русский рэп.\n",
    "\n",
    "**Ход исследования**\n",
    "\n",
    "Данные о поведении пользователей вы получите из файла `yandex_music_project.csv`. О качестве данных ничего не известно. Поэтому перед проверкой гипотез понадобится обзор данных. \n",
    "\n",
    "Вы проверите данные на ошибки и оцените их влияние на исследование. Затем, на этапе предобработки вы поищете возможность исправить самые критичные ошибки данных.\n",
    " \n",
    "Таким образом, исследование пройдёт в три этапа:\n",
    " 1. Обзор данных.\n",
    " 2. Предобработка данных.\n",
    " 3. Проверка гипотез.\n",
    "\n"
   ]
  },
  {
   "cell_type": "markdown",
   "metadata": {},
   "source": [
    "<div class=\"alert alert-success\">\n",
    "<b>Комментарий ревьюера: </b> Классное оформление проекта. Отличная практика - расписывать цель и основные этапы. Рекомендую взять на вооружение. Оглавление тоже хорошее. </div>"
   ]
  },
  {
   "cell_type": "markdown",
   "metadata": {
    "id": "Ml1hmfXC_Zcs"
   },
   "source": [
    "## Обзор данных\n",
    "\n",
    "Составьте первое представление о данных Яндекс.Музыки.\n",
    "\n",
    "\n"
   ]
  },
  {
   "cell_type": "markdown",
   "metadata": {
    "id": "57eAOGIz_Zcs"
   },
   "source": [
    "Основной инструмент аналитика — `pandas`. Импортируйте эту библиотеку."
   ]
  },
  {
   "cell_type": "code",
   "execution_count": 2,
   "metadata": {
    "id": "AXN7PHPN_Zcs"
   },
   "outputs": [],
   "source": [
    "import pandas as pd # импорт библиотеки pandas"
   ]
  },
  {
   "cell_type": "markdown",
   "metadata": {
    "id": "SG23P8tt_Zcs"
   },
   "source": [
    "Прочитайте файл `yandex_music_project.csv` из папки `/datasets` и сохраните его в переменной `df`:"
   ]
  },
  {
   "cell_type": "code",
   "execution_count": 3,
   "metadata": {
    "id": "fFVu7vqh_Zct"
   },
   "outputs": [],
   "source": [
    "df = pd.read_csv('/datasets/yandex_music_project.csv') # чтение файла с данными и сохранение в df"
   ]
  },
  {
   "cell_type": "markdown",
   "metadata": {
    "id": "rDoOMd3uTqnZ"
   },
   "source": [
    "Выведите на экран первые десять строк таблицы:"
   ]
  },
  {
   "cell_type": "code",
   "execution_count": 4,
   "metadata": {
    "id": "oWTVX3gW_Zct"
   },
   "outputs": [
    {
     "data": {
      "text/html": [
       "<div>\n",
       "<style scoped>\n",
       "    .dataframe tbody tr th:only-of-type {\n",
       "        vertical-align: middle;\n",
       "    }\n",
       "\n",
       "    .dataframe tbody tr th {\n",
       "        vertical-align: top;\n",
       "    }\n",
       "\n",
       "    .dataframe thead th {\n",
       "        text-align: right;\n",
       "    }\n",
       "</style>\n",
       "<table border=\"1\" class=\"dataframe\">\n",
       "  <thead>\n",
       "    <tr style=\"text-align: right;\">\n",
       "      <th></th>\n",
       "      <th>userID</th>\n",
       "      <th>Track</th>\n",
       "      <th>artist</th>\n",
       "      <th>genre</th>\n",
       "      <th>City</th>\n",
       "      <th>time</th>\n",
       "      <th>Day</th>\n",
       "    </tr>\n",
       "  </thead>\n",
       "  <tbody>\n",
       "    <tr>\n",
       "      <th>0</th>\n",
       "      <td>FFB692EC</td>\n",
       "      <td>Kamigata To Boots</td>\n",
       "      <td>The Mass Missile</td>\n",
       "      <td>rock</td>\n",
       "      <td>Saint-Petersburg</td>\n",
       "      <td>20:28:33</td>\n",
       "      <td>Wednesday</td>\n",
       "    </tr>\n",
       "    <tr>\n",
       "      <th>1</th>\n",
       "      <td>55204538</td>\n",
       "      <td>Delayed Because of Accident</td>\n",
       "      <td>Andreas Rönnberg</td>\n",
       "      <td>rock</td>\n",
       "      <td>Moscow</td>\n",
       "      <td>14:07:09</td>\n",
       "      <td>Friday</td>\n",
       "    </tr>\n",
       "    <tr>\n",
       "      <th>2</th>\n",
       "      <td>20EC38</td>\n",
       "      <td>Funiculì funiculà</td>\n",
       "      <td>Mario Lanza</td>\n",
       "      <td>pop</td>\n",
       "      <td>Saint-Petersburg</td>\n",
       "      <td>20:58:07</td>\n",
       "      <td>Wednesday</td>\n",
       "    </tr>\n",
       "    <tr>\n",
       "      <th>3</th>\n",
       "      <td>A3DD03C9</td>\n",
       "      <td>Dragons in the Sunset</td>\n",
       "      <td>Fire + Ice</td>\n",
       "      <td>folk</td>\n",
       "      <td>Saint-Petersburg</td>\n",
       "      <td>08:37:09</td>\n",
       "      <td>Monday</td>\n",
       "    </tr>\n",
       "    <tr>\n",
       "      <th>4</th>\n",
       "      <td>E2DC1FAE</td>\n",
       "      <td>Soul People</td>\n",
       "      <td>Space Echo</td>\n",
       "      <td>dance</td>\n",
       "      <td>Moscow</td>\n",
       "      <td>08:34:34</td>\n",
       "      <td>Monday</td>\n",
       "    </tr>\n",
       "    <tr>\n",
       "      <th>5</th>\n",
       "      <td>842029A1</td>\n",
       "      <td>Преданная</td>\n",
       "      <td>IMPERVTOR</td>\n",
       "      <td>rusrap</td>\n",
       "      <td>Saint-Petersburg</td>\n",
       "      <td>13:09:41</td>\n",
       "      <td>Friday</td>\n",
       "    </tr>\n",
       "    <tr>\n",
       "      <th>6</th>\n",
       "      <td>4CB90AA5</td>\n",
       "      <td>True</td>\n",
       "      <td>Roman Messer</td>\n",
       "      <td>dance</td>\n",
       "      <td>Moscow</td>\n",
       "      <td>13:00:07</td>\n",
       "      <td>Wednesday</td>\n",
       "    </tr>\n",
       "    <tr>\n",
       "      <th>7</th>\n",
       "      <td>F03E1C1F</td>\n",
       "      <td>Feeling This Way</td>\n",
       "      <td>Polina Griffith</td>\n",
       "      <td>dance</td>\n",
       "      <td>Moscow</td>\n",
       "      <td>20:47:49</td>\n",
       "      <td>Wednesday</td>\n",
       "    </tr>\n",
       "    <tr>\n",
       "      <th>8</th>\n",
       "      <td>8FA1D3BE</td>\n",
       "      <td>И вновь продолжается бой</td>\n",
       "      <td>NaN</td>\n",
       "      <td>ruspop</td>\n",
       "      <td>Moscow</td>\n",
       "      <td>09:17:40</td>\n",
       "      <td>Friday</td>\n",
       "    </tr>\n",
       "    <tr>\n",
       "      <th>9</th>\n",
       "      <td>E772D5C0</td>\n",
       "      <td>Pessimist</td>\n",
       "      <td>NaN</td>\n",
       "      <td>dance</td>\n",
       "      <td>Saint-Petersburg</td>\n",
       "      <td>21:20:49</td>\n",
       "      <td>Wednesday</td>\n",
       "    </tr>\n",
       "  </tbody>\n",
       "</table>\n",
       "</div>"
      ],
      "text/plain": [
       "     userID                        Track            artist   genre  \\\n",
       "0  FFB692EC            Kamigata To Boots  The Mass Missile    rock   \n",
       "1  55204538  Delayed Because of Accident  Andreas Rönnberg    rock   \n",
       "2    20EC38            Funiculì funiculà       Mario Lanza     pop   \n",
       "3  A3DD03C9        Dragons in the Sunset        Fire + Ice    folk   \n",
       "4  E2DC1FAE                  Soul People        Space Echo   dance   \n",
       "5  842029A1                    Преданная         IMPERVTOR  rusrap   \n",
       "6  4CB90AA5                         True      Roman Messer   dance   \n",
       "7  F03E1C1F             Feeling This Way   Polina Griffith   dance   \n",
       "8  8FA1D3BE     И вновь продолжается бой               NaN  ruspop   \n",
       "9  E772D5C0                    Pessimist               NaN   dance   \n",
       "\n",
       "             City        time        Day  \n",
       "0  Saint-Petersburg  20:28:33  Wednesday  \n",
       "1            Moscow  14:07:09     Friday  \n",
       "2  Saint-Petersburg  20:58:07  Wednesday  \n",
       "3  Saint-Petersburg  08:37:09     Monday  \n",
       "4            Moscow  08:34:34     Monday  \n",
       "5  Saint-Petersburg  13:09:41     Friday  \n",
       "6            Moscow  13:00:07  Wednesday  \n",
       "7            Moscow  20:47:49  Wednesday  \n",
       "8            Moscow  09:17:40     Friday  \n",
       "9  Saint-Petersburg  21:20:49  Wednesday  "
      ]
     },
     "execution_count": 4,
     "metadata": {},
     "output_type": "execute_result"
    }
   ],
   "source": [
    "df.head(10) # получение первых 10 строк таблицы df"
   ]
  },
  {
   "cell_type": "markdown",
   "metadata": {
    "id": "EO73Kwic_Zct"
   },
   "source": [
    "Одной командой получить общую информацию о таблице:"
   ]
  },
  {
   "cell_type": "code",
   "execution_count": 5,
   "metadata": {
    "id": "DSf2kIb-_Zct"
   },
   "outputs": [
    {
     "name": "stdout",
     "output_type": "stream",
     "text": [
      "<class 'pandas.core.frame.DataFrame'>\n",
      "RangeIndex: 65079 entries, 0 to 65078\n",
      "Data columns (total 7 columns):\n",
      " #   Column    Non-Null Count  Dtype \n",
      "---  ------    --------------  ----- \n",
      " 0     userID  65079 non-null  object\n",
      " 1   Track     63848 non-null  object\n",
      " 2   artist    57876 non-null  object\n",
      " 3   genre     63881 non-null  object\n",
      " 4     City    65079 non-null  object\n",
      " 5   time      65079 non-null  object\n",
      " 6   Day       65079 non-null  object\n",
      "dtypes: object(7)\n",
      "memory usage: 3.5+ MB\n"
     ]
    }
   ],
   "source": [
    "df.info() # получение общей информации о данных в таблице df"
   ]
  },
  {
   "cell_type": "markdown",
   "metadata": {
    "id": "TaQ2Iwbr_Zct"
   },
   "source": [
    "Итак, в таблице семь столбцов. Тип данных во всех столбцах — `object`.\n",
    "\n",
    "Согласно документации к данным:\n",
    "* `userID` — идентификатор пользователя;\n",
    "* `Track` — название трека;  \n",
    "* `artist` — имя исполнителя;\n",
    "* `genre` — название жанра;\n",
    "* `City` — город пользователя;\n",
    "* `time` — время начала прослушивания;\n",
    "* `Day` — день недели.\n",
    "\n",
    "В названиях колонок видны три нарушения стиля:\n",
    "1. Строчные буквы сочетаются с прописными.\n",
    "2. Встречаются пробелы.\n",
    "3. Из названий колонок непонятно, что за данные хранятся в столбце.\n",
    "\n",
    "\n",
    "\n",
    "Количество значений в столбцах различается. Значит, в данных есть пропущенные значения.\n"
   ]
  },
  {
   "cell_type": "markdown",
   "metadata": {
    "id": "MCB6-dXG_Zct"
   },
   "source": [
    "**Выводы**\n",
    "\n",
    "В каждой строке таблицы — данные о прослушанном треке. Часть колонок описывает саму композицию: название, исполнителя и жанр. Остальные данные рассказывают о пользователе: из какого он города, когда он слушал музыку. \n",
    "\n",
    "Предварительно можно утверждать, что, данных достаточно для проверки гипотез. Но встречаются пропуски в данных, а в названиях колонок — расхождения с хорошим стилем.\n",
    "\n",
    "Чтобы двигаться дальше, нужно устранить проблемы в данных."
   ]
  },
  {
   "cell_type": "markdown",
   "metadata": {},
   "source": [
    "<div class=\"alert alert-success\">\n",
    "<b>Комментарий ревьюера: </b> Знакомство с данными прошло хорошо, план действий определили, можем приступать.</div>"
   ]
  },
  {
   "cell_type": "markdown",
   "metadata": {
    "id": "SjYF6Ub9_Zct"
   },
   "source": [
    "## Предобработка данных\n",
    "Исправьте стиль в заголовках столбцов, исключите пропуски. Затем проверьте данные на дубликаты."
   ]
  },
  {
   "cell_type": "markdown",
   "metadata": {
    "id": "dIaKXr29_Zct"
   },
   "source": [
    "### Стиль заголовков\n",
    "Выведите на экран названия столбцов:"
   ]
  },
  {
   "cell_type": "code",
   "execution_count": 6,
   "metadata": {
    "id": "oKOTdF_Q_Zct"
   },
   "outputs": [
    {
     "data": {
      "text/plain": [
       "Index(['  userID', 'Track', 'artist', 'genre', '  City  ', 'time', 'Day'], dtype='object')"
      ]
     },
     "execution_count": 6,
     "metadata": {},
     "output_type": "execute_result"
    }
   ],
   "source": [
    "df.columns # перечень названий столбцов таблицы df"
   ]
  },
  {
   "cell_type": "markdown",
   "metadata": {
    "id": "FPZA3ki8xe7T"
   },
   "source": []
  },
  {
   "cell_type": "markdown",
   "metadata": {
    "id": "zj5534cv_Zct"
   },
   "source": [
    "Приведите названия в соответствие с хорошим стилем:\n",
    "* несколько слов в названии запишите в «змеином_регистре»,\n",
    "* все символы сделайте строчными,\n",
    "* устраните пробелы.\n",
    "\n",
    "Для этого переименуйте колонки так:\n",
    "* `'  userID'` → `'user_id'`;\n",
    "* `'Track'` → `'track'`;\n",
    "* `'  City  '` → `'city'`;\n",
    "* `'Day'` → `'day'`."
   ]
  },
  {
   "cell_type": "code",
   "execution_count": 7,
   "metadata": {
    "id": "ISlFqs5y_Zct"
   },
   "outputs": [],
   "source": [
    "df = df.rename(columns={'  userID':'user_id', 'Track':'track', '  City  ':'city', 'Day':'day'}) # переименование столбцов"
   ]
  },
  {
   "cell_type": "markdown",
   "metadata": {
    "id": "1dqbh00J_Zct"
   },
   "source": [
    "Проверьте результат. Для этого ещё раз выведите на экран названия столбцов:"
   ]
  },
  {
   "cell_type": "code",
   "execution_count": 8,
   "metadata": {
    "id": "d4NOAmTW_Zct"
   },
   "outputs": [
    {
     "data": {
      "text/plain": [
       "Index(['user_id', 'track', 'artist', 'genre', 'city', 'time', 'day'], dtype='object')"
      ]
     },
     "execution_count": 8,
     "metadata": {},
     "output_type": "execute_result"
    }
   ],
   "source": [
    "df.columns # проверка результатов - перечень названий столбцов"
   ]
  },
  {
   "cell_type": "markdown",
   "metadata": {},
   "source": [
    "<div class=\"alert alert-success\">\n",
    "<b>Комментарий ревьюера: </b> Супер, теперь будет значительно удобнее работать со столбцами. Как вариант, с регистром можно было бы справиться через lower(), но так как в данном случае проблема не только в нем, оптимальнее было сделать так, как ты.\n",
    "</div>"
   ]
  },
  {
   "cell_type": "markdown",
   "metadata": {
    "id": "5ISfbcfY_Zct"
   },
   "source": [
    "### Пропуски значений\n",
    "Сначала посчитайте, сколько в таблице пропущенных значений. Для этого достаточно двух методов `pandas`:"
   ]
  },
  {
   "cell_type": "code",
   "execution_count": 9,
   "metadata": {
    "id": "RskX29qr_Zct"
   },
   "outputs": [
    {
     "data": {
      "text/plain": [
       "user_id       0\n",
       "track      1231\n",
       "artist     7203\n",
       "genre      1198\n",
       "city          0\n",
       "time          0\n",
       "day           0\n",
       "dtype: int64"
      ]
     },
     "execution_count": 9,
     "metadata": {},
     "output_type": "execute_result"
    }
   ],
   "source": [
    "df.isna().sum() # подсчёт пропусков"
   ]
  },
  {
   "cell_type": "markdown",
   "metadata": {
    "id": "qubhgnlO_Zct"
   },
   "source": [
    "Не все пропущенные значения влияют на исследование. Так в `track` и `artist` пропуски не важны для вашей работы. Достаточно заменить их явными обозначениями.\n",
    "\n",
    "Но пропуски в `genre` могут помешать сравнению музыкальных вкусов в Москве и Санкт-Петербурге. На практике было бы правильно установить причину пропусков и восстановить данные. Такой возможности нет в учебном проекте. Придётся:\n",
    "* заполнить и эти пропуски явными обозначениями,\n",
    "* оценить, насколько они повредят расчётам. "
   ]
  },
  {
   "cell_type": "markdown",
   "metadata": {
    "id": "fSv2laPA_Zct"
   },
   "source": [
    "Замените пропущенные значения в столбцах `track`, `artist` и `genre` на строку `'unknown'`. Для этого создайте список `columns_to_replace`, переберите его элементы циклом `for` и для каждого столбца выполните замену пропущенных значений:"
   ]
  },
  {
   "cell_type": "code",
   "execution_count": 10,
   "metadata": {
    "id": "KplB5qWs_Zct"
   },
   "outputs": [],
   "source": [
    "# перебор названий столбцов в цикле и замена пропущенных значений на 'unknown'\n",
    "\n",
    "columns_to_replace = ['track','artist','genre']\n",
    "for i in columns_to_replace:\n",
    "    df[i] = df[i].fillna('unknown')"
   ]
  },
  {
   "cell_type": "markdown",
   "metadata": {
    "id": "Ilsm-MZo_Zct"
   },
   "source": [
    "Убедитесь, что в таблице не осталось пропусков. Для этого ещё раз посчитайте пропущенные значения."
   ]
  },
  {
   "cell_type": "code",
   "execution_count": 11,
   "metadata": {
    "id": "Tq4nYRX4_Zct",
    "scrolled": false
   },
   "outputs": [
    {
     "data": {
      "text/plain": [
       "user_id    0\n",
       "track      0\n",
       "artist     0\n",
       "genre      0\n",
       "city       0\n",
       "time       0\n",
       "day        0\n",
       "dtype: int64"
      ]
     },
     "execution_count": 11,
     "metadata": {},
     "output_type": "execute_result"
    }
   ],
   "source": [
    "df.isna().sum() # подсчёт пропусков"
   ]
  },
  {
   "cell_type": "markdown",
   "metadata": {},
   "source": [
    "<div class=\"alert alert-success\">\n",
    "<b>Комментарий ревьюера: </b> Хорошая работа, обрати внимние, что пропуски в строковых значениях лучше заполнять строковыми, а в численных - числами, чтобы не смешивать типы данных.</div>"
   ]
  },
  {
   "cell_type": "markdown",
   "metadata": {
    "id": "BWKRtBJ3_Zct"
   },
   "source": [
    "### Дубликаты\n",
    "Посчитайте явные дубликаты в таблице одной командой:"
   ]
  },
  {
   "cell_type": "code",
   "execution_count": 12,
   "metadata": {
    "id": "36eES_S0_Zct"
   },
   "outputs": [
    {
     "data": {
      "text/plain": [
       "3826"
      ]
     },
     "execution_count": 12,
     "metadata": {},
     "output_type": "execute_result"
    }
   ],
   "source": [
    "df.duplicated().sum() # подсчёт явных дубликатов"
   ]
  },
  {
   "cell_type": "markdown",
   "metadata": {
    "id": "Ot25h6XR_Zct"
   },
   "source": [
    "Вызовите специальный метод `pandas`, чтобы удалить явные дубликаты:"
   ]
  },
  {
   "cell_type": "code",
   "execution_count": 13,
   "metadata": {
    "id": "exFHq6tt_Zct"
   },
   "outputs": [],
   "source": [
    "# удаление явных дубликатов (с удалением старых индексов и формированием новых)\n",
    "df = df.drop_duplicates().reset_index(drop=True)"
   ]
  },
  {
   "cell_type": "markdown",
   "metadata": {
    "id": "Im2YwBEG_Zct"
   },
   "source": [
    "Ещё раз посчитайте явные дубликаты в таблице — убедитесь, что полностью от них избавились:"
   ]
  },
  {
   "cell_type": "code",
   "execution_count": 14,
   "metadata": {
    "id": "-8PuNWQ0_Zct"
   },
   "outputs": [
    {
     "data": {
      "text/plain": [
       "0"
      ]
     },
     "execution_count": 14,
     "metadata": {},
     "output_type": "execute_result"
    }
   ],
   "source": [
    "df.duplicated().sum() # проверка на отсутствие дубликатов"
   ]
  },
  {
   "cell_type": "markdown",
   "metadata": {},
   "source": [
    "<div class=\"alert alert-success\">\n",
    "<b>Комментарий ревьюера: </b> С дубликатами все верно. Молодец, что перезаписал индексы. </div>"
   ]
  },
  {
   "cell_type": "markdown",
   "metadata": {
    "id": "QlFBsxAr_Zct"
   },
   "source": [
    "Теперь избавьтесь от неявных дубликатов в колонке `genre`. Например, название одного и того же жанра может быть записано немного по-разному. Такие ошибки тоже повлияют на результат исследования."
   ]
  },
  {
   "cell_type": "markdown",
   "metadata": {
    "id": "eSjWwsOh_Zct"
   },
   "source": [
    "Выведите на экран список уникальных названий жанров, отсортированный в алфавитном порядке. Для этого:\n",
    "* извлеките нужный столбец датафрейма, \n",
    "* примените к нему метод сортировки,\n",
    "* для отсортированного столбца вызовите метод, который вернёт уникальные значения из столбца."
   ]
  },
  {
   "cell_type": "code",
   "execution_count": 15,
   "metadata": {
    "id": "JIUcqzZN_Zct"
   },
   "outputs": [
    {
     "data": {
      "text/plain": [
       "['acid',\n",
       " 'acoustic',\n",
       " 'action',\n",
       " 'adult',\n",
       " 'africa',\n",
       " 'afrikaans',\n",
       " 'alternative',\n",
       " 'alternativepunk',\n",
       " 'ambient',\n",
       " 'americana',\n",
       " 'animated',\n",
       " 'anime',\n",
       " 'arabesk',\n",
       " 'arabic',\n",
       " 'arena',\n",
       " 'argentinetango',\n",
       " 'art',\n",
       " 'audiobook',\n",
       " 'author',\n",
       " 'avantgarde',\n",
       " 'axé',\n",
       " 'baile',\n",
       " 'balkan',\n",
       " 'beats',\n",
       " 'bigroom',\n",
       " 'black',\n",
       " 'bluegrass',\n",
       " 'blues',\n",
       " 'bollywood',\n",
       " 'bossa',\n",
       " 'brazilian',\n",
       " 'breakbeat',\n",
       " 'breaks',\n",
       " 'broadway',\n",
       " 'cantautori',\n",
       " 'cantopop',\n",
       " 'canzone',\n",
       " 'caribbean',\n",
       " 'caucasian',\n",
       " 'celtic',\n",
       " 'chamber',\n",
       " 'chanson',\n",
       " 'children',\n",
       " 'chill',\n",
       " 'chinese',\n",
       " 'choral',\n",
       " 'christian',\n",
       " 'christmas',\n",
       " 'classical',\n",
       " 'classicmetal',\n",
       " 'club',\n",
       " 'colombian',\n",
       " 'comedy',\n",
       " 'conjazz',\n",
       " 'contemporary',\n",
       " 'country',\n",
       " 'cuban',\n",
       " 'dance',\n",
       " 'dancehall',\n",
       " 'dancepop',\n",
       " 'dark',\n",
       " 'death',\n",
       " 'deep',\n",
       " 'deutschrock',\n",
       " 'deutschspr',\n",
       " 'dirty',\n",
       " 'disco',\n",
       " 'dnb',\n",
       " 'documentary',\n",
       " 'downbeat',\n",
       " 'downtempo',\n",
       " 'drum',\n",
       " 'dub',\n",
       " 'dubstep',\n",
       " 'eastern',\n",
       " 'easy',\n",
       " 'electronic',\n",
       " 'electropop',\n",
       " 'emo',\n",
       " 'entehno',\n",
       " 'epicmetal',\n",
       " 'estrada',\n",
       " 'ethnic',\n",
       " 'eurofolk',\n",
       " 'european',\n",
       " 'experimental',\n",
       " 'extrememetal',\n",
       " 'fado',\n",
       " 'fairytail',\n",
       " 'film',\n",
       " 'fitness',\n",
       " 'flamenco',\n",
       " 'folk',\n",
       " 'folklore',\n",
       " 'folkmetal',\n",
       " 'folkrock',\n",
       " 'folktronica',\n",
       " 'forró',\n",
       " 'frankreich',\n",
       " 'französisch',\n",
       " 'french',\n",
       " 'funk',\n",
       " 'future',\n",
       " 'gangsta',\n",
       " 'garage',\n",
       " 'german',\n",
       " 'ghazal',\n",
       " 'gitarre',\n",
       " 'glitch',\n",
       " 'gospel',\n",
       " 'gothic',\n",
       " 'grime',\n",
       " 'grunge',\n",
       " 'gypsy',\n",
       " 'handsup',\n",
       " \"hard'n'heavy\",\n",
       " 'hardcore',\n",
       " 'hardstyle',\n",
       " 'hardtechno',\n",
       " 'hip',\n",
       " 'hip-hop',\n",
       " 'hiphop',\n",
       " 'historisch',\n",
       " 'holiday',\n",
       " 'hop',\n",
       " 'horror',\n",
       " 'house',\n",
       " 'hymn',\n",
       " 'idm',\n",
       " 'independent',\n",
       " 'indian',\n",
       " 'indie',\n",
       " 'indipop',\n",
       " 'industrial',\n",
       " 'inspirational',\n",
       " 'instrumental',\n",
       " 'international',\n",
       " 'irish',\n",
       " 'jam',\n",
       " 'japanese',\n",
       " 'jazz',\n",
       " 'jewish',\n",
       " 'jpop',\n",
       " 'jungle',\n",
       " 'k-pop',\n",
       " 'karadeniz',\n",
       " 'karaoke',\n",
       " 'kayokyoku',\n",
       " 'korean',\n",
       " 'laiko',\n",
       " 'latin',\n",
       " 'latino',\n",
       " 'leftfield',\n",
       " 'local',\n",
       " 'lounge',\n",
       " 'loungeelectronic',\n",
       " 'lovers',\n",
       " 'malaysian',\n",
       " 'mandopop',\n",
       " 'marschmusik',\n",
       " 'meditative',\n",
       " 'mediterranean',\n",
       " 'melodic',\n",
       " 'metal',\n",
       " 'metalcore',\n",
       " 'mexican',\n",
       " 'middle',\n",
       " 'minimal',\n",
       " 'miscellaneous',\n",
       " 'modern',\n",
       " 'mood',\n",
       " 'mpb',\n",
       " 'muslim',\n",
       " 'native',\n",
       " 'neoklassik',\n",
       " 'neue',\n",
       " 'new',\n",
       " 'newage',\n",
       " 'newwave',\n",
       " 'nu',\n",
       " 'nujazz',\n",
       " 'numetal',\n",
       " 'oceania',\n",
       " 'old',\n",
       " 'opera',\n",
       " 'orchestral',\n",
       " 'other',\n",
       " 'piano',\n",
       " 'podcasts',\n",
       " 'pop',\n",
       " 'popdance',\n",
       " 'popelectronic',\n",
       " 'popeurodance',\n",
       " 'poprussian',\n",
       " 'post',\n",
       " 'posthardcore',\n",
       " 'postrock',\n",
       " 'power',\n",
       " 'progmetal',\n",
       " 'progressive',\n",
       " 'psychedelic',\n",
       " 'punjabi',\n",
       " 'punk',\n",
       " 'quebecois',\n",
       " 'ragga',\n",
       " 'ram',\n",
       " 'rancheras',\n",
       " 'rap',\n",
       " 'rave',\n",
       " 'reggae',\n",
       " 'reggaeton',\n",
       " 'regional',\n",
       " 'relax',\n",
       " 'religious',\n",
       " 'retro',\n",
       " 'rhythm',\n",
       " 'rnb',\n",
       " 'rnr',\n",
       " 'rock',\n",
       " 'rockabilly',\n",
       " 'rockalternative',\n",
       " 'rockindie',\n",
       " 'rockother',\n",
       " 'romance',\n",
       " 'roots',\n",
       " 'ruspop',\n",
       " 'rusrap',\n",
       " 'rusrock',\n",
       " 'russian',\n",
       " 'salsa',\n",
       " 'samba',\n",
       " 'scenic',\n",
       " 'schlager',\n",
       " 'self',\n",
       " 'sertanejo',\n",
       " 'shanson',\n",
       " 'shoegazing',\n",
       " 'showtunes',\n",
       " 'singer',\n",
       " 'ska',\n",
       " 'skarock',\n",
       " 'slow',\n",
       " 'smooth',\n",
       " 'soft',\n",
       " 'soul',\n",
       " 'soulful',\n",
       " 'sound',\n",
       " 'soundtrack',\n",
       " 'southern',\n",
       " 'specialty',\n",
       " 'speech',\n",
       " 'spiritual',\n",
       " 'sport',\n",
       " 'stonerrock',\n",
       " 'surf',\n",
       " 'swing',\n",
       " 'synthpop',\n",
       " 'synthrock',\n",
       " 'sängerportrait',\n",
       " 'tango',\n",
       " 'tanzorchester',\n",
       " 'taraftar',\n",
       " 'tatar',\n",
       " 'tech',\n",
       " 'techno',\n",
       " 'teen',\n",
       " 'thrash',\n",
       " 'top',\n",
       " 'traditional',\n",
       " 'tradjazz',\n",
       " 'trance',\n",
       " 'tribal',\n",
       " 'trip',\n",
       " 'triphop',\n",
       " 'tropical',\n",
       " 'türk',\n",
       " 'türkçe',\n",
       " 'ukrrock',\n",
       " 'unknown',\n",
       " 'urban',\n",
       " 'uzbek',\n",
       " 'variété',\n",
       " 'vi',\n",
       " 'videogame',\n",
       " 'vocal',\n",
       " 'western',\n",
       " 'world',\n",
       " 'worldbeat',\n",
       " 'ïîï',\n",
       " 'электроника']"
      ]
     },
     "execution_count": 15,
     "metadata": {},
     "output_type": "execute_result"
    }
   ],
   "source": [
    "sorted(df['genre'].unique()) # Просмотр уникальных названий жанров"
   ]
  },
  {
   "cell_type": "code",
   "execution_count": 20,
   "metadata": {},
   "outputs": [
    {
     "data": {
      "text/html": [
       "<div>\n",
       "<style scoped>\n",
       "    .dataframe tbody tr th:only-of-type {\n",
       "        vertical-align: middle;\n",
       "    }\n",
       "\n",
       "    .dataframe tbody tr th {\n",
       "        vertical-align: top;\n",
       "    }\n",
       "\n",
       "    .dataframe thead th {\n",
       "        text-align: right;\n",
       "    }\n",
       "</style>\n",
       "<table border=\"1\" class=\"dataframe\">\n",
       "  <thead>\n",
       "    <tr style=\"text-align: right;\">\n",
       "      <th></th>\n",
       "      <th>user_id</th>\n",
       "      <th>track</th>\n",
       "      <th>artist</th>\n",
       "      <th>genre</th>\n",
       "      <th>city</th>\n",
       "      <th>time</th>\n",
       "      <th>day</th>\n",
       "    </tr>\n",
       "  </thead>\n",
       "  <tbody>\n",
       "    <tr>\n",
       "      <th>31916</th>\n",
       "      <td>C40BC5DF</td>\n",
       "      <td>Shot in the Dark</td>\n",
       "      <td>Four80East</td>\n",
       "      <td>acid</td>\n",
       "      <td>Moscow</td>\n",
       "      <td>09:44:12</td>\n",
       "      <td>Friday</td>\n",
       "    </tr>\n",
       "    <tr>\n",
       "      <th>57580</th>\n",
       "      <td>23C64044</td>\n",
       "      <td>Don't Stop Me Now</td>\n",
       "      <td>Acoustic Heartstrings</td>\n",
       "      <td>acoustic</td>\n",
       "      <td>Moscow</td>\n",
       "      <td>13:30:01</td>\n",
       "      <td>Wednesday</td>\n",
       "    </tr>\n",
       "    <tr>\n",
       "      <th>3636</th>\n",
       "      <td>F10919ED</td>\n",
       "      <td>Ready For The Fire</td>\n",
       "      <td>Valley Of Wolves</td>\n",
       "      <td>acoustic</td>\n",
       "      <td>Saint-Petersburg</td>\n",
       "      <td>21:33:18</td>\n",
       "      <td>Monday</td>\n",
       "    </tr>\n",
       "    <tr>\n",
       "      <th>14611</th>\n",
       "      <td>1C7D9E90</td>\n",
       "      <td>Prelude – Ne Me Qui Te Pas</td>\n",
       "      <td>unknown</td>\n",
       "      <td>acoustic</td>\n",
       "      <td>Saint-Petersburg</td>\n",
       "      <td>21:47:42</td>\n",
       "      <td>Friday</td>\n",
       "    </tr>\n",
       "    <tr>\n",
       "      <th>20264</th>\n",
       "      <td>B02ED3AB</td>\n",
       "      <td>Ой да</td>\n",
       "      <td>unknown</td>\n",
       "      <td>acoustic</td>\n",
       "      <td>Moscow</td>\n",
       "      <td>13:31:03</td>\n",
       "      <td>Wednesday</td>\n",
       "    </tr>\n",
       "    <tr>\n",
       "      <th>...</th>\n",
       "      <td>...</td>\n",
       "      <td>...</td>\n",
       "      <td>...</td>\n",
       "      <td>...</td>\n",
       "      <td>...</td>\n",
       "      <td>...</td>\n",
       "      <td>...</td>\n",
       "    </tr>\n",
       "    <tr>\n",
       "      <th>41879</th>\n",
       "      <td>613C79DF</td>\n",
       "      <td>Rani Mrid</td>\n",
       "      <td>Nemri</td>\n",
       "      <td>world</td>\n",
       "      <td>Moscow</td>\n",
       "      <td>21:59:01</td>\n",
       "      <td>Monday</td>\n",
       "    </tr>\n",
       "    <tr>\n",
       "      <th>39063</th>\n",
       "      <td>AA1730E8</td>\n",
       "      <td>Anu</td>\n",
       "      <td>Kailash Kokopelli</td>\n",
       "      <td>worldbeat</td>\n",
       "      <td>Saint-Petersburg</td>\n",
       "      <td>20:16:34</td>\n",
       "      <td>Wednesday</td>\n",
       "    </tr>\n",
       "    <tr>\n",
       "      <th>27939</th>\n",
       "      <td>D7FB50DA</td>\n",
       "      <td>Drumming Circle</td>\n",
       "      <td>Professor Trance</td>\n",
       "      <td>worldbeat</td>\n",
       "      <td>Moscow</td>\n",
       "      <td>09:30:47</td>\n",
       "      <td>Monday</td>\n",
       "    </tr>\n",
       "    <tr>\n",
       "      <th>8448</th>\n",
       "      <td>A439123F</td>\n",
       "      <td>Flip It</td>\n",
       "      <td>unknown</td>\n",
       "      <td>ïîï</td>\n",
       "      <td>Moscow</td>\n",
       "      <td>09:08:51</td>\n",
       "      <td>Friday</td>\n",
       "    </tr>\n",
       "    <tr>\n",
       "      <th>6465</th>\n",
       "      <td>1D4661</td>\n",
       "      <td>Раз два три</td>\n",
       "      <td>Какао</td>\n",
       "      <td>электроника</td>\n",
       "      <td>Saint-Petersburg</td>\n",
       "      <td>08:54:15</td>\n",
       "      <td>Wednesday</td>\n",
       "    </tr>\n",
       "  </tbody>\n",
       "</table>\n",
       "<p>61253 rows × 7 columns</p>\n",
       "</div>"
      ],
      "text/plain": [
       "        user_id                       track                 artist  \\\n",
       "31916  C40BC5DF            Shot in the Dark             Four80East   \n",
       "57580  23C64044           Don't Stop Me Now  Acoustic Heartstrings   \n",
       "3636   F10919ED          Ready For The Fire       Valley Of Wolves   \n",
       "14611  1C7D9E90  Prelude – Ne Me Qui Te Pas                unknown   \n",
       "20264  B02ED3AB                       Ой да                unknown   \n",
       "...         ...                         ...                    ...   \n",
       "41879  613C79DF                   Rani Mrid                  Nemri   \n",
       "39063  AA1730E8                         Anu      Kailash Kokopelli   \n",
       "27939  D7FB50DA             Drumming Circle       Professor Trance   \n",
       "8448   A439123F                     Flip It                unknown   \n",
       "6465     1D4661                 Раз два три                  Какао   \n",
       "\n",
       "             genre              city      time        day  \n",
       "31916         acid            Moscow  09:44:12     Friday  \n",
       "57580     acoustic            Moscow  13:30:01  Wednesday  \n",
       "3636      acoustic  Saint-Petersburg  21:33:18     Monday  \n",
       "14611     acoustic  Saint-Petersburg  21:47:42     Friday  \n",
       "20264     acoustic            Moscow  13:31:03  Wednesday  \n",
       "...            ...               ...       ...        ...  \n",
       "41879        world            Moscow  21:59:01     Monday  \n",
       "39063    worldbeat  Saint-Petersburg  20:16:34  Wednesday  \n",
       "27939    worldbeat            Moscow  09:30:47     Monday  \n",
       "8448           ïîï            Moscow  09:08:51     Friday  \n",
       "6465   электроника  Saint-Petersburg  08:54:15  Wednesday  \n",
       "\n",
       "[61253 rows x 7 columns]"
      ]
     },
     "execution_count": 20,
     "metadata": {},
     "output_type": "execute_result"
    }
   ],
   "source": [
    "df.sort_values(by='genre')"
   ]
  },
  {
   "cell_type": "markdown",
   "metadata": {
    "id": "qej-Qmuo_Zct"
   },
   "source": [
    "Просмотрите список и найдите неявные дубликаты названия `hiphop`. Это могут быть названия с ошибками или альтернативные названия того же жанра.\n",
    "\n",
    "Вы увидите следующие неявные дубликаты:\n",
    "* *hip*,\n",
    "* *hop*,\n",
    "* *hip-hop*.\n",
    "\n",
    "Чтобы очистить от них таблицу, напишите функцию `replace_wrong_genres()` с двумя параметрами: \n",
    "* `wrong_genres` — список дубликатов,\n",
    "* `correct_genre` — строка с правильным значением.\n",
    "\n",
    "Функция должна исправить колонку `genre` в таблице `df`: заменить каждое значение из списка `wrong_genres` на значение из `correct_genre`."
   ]
  },
  {
   "cell_type": "code",
   "execution_count": 15,
   "metadata": {
    "id": "ErNDkmns_Zct"
   },
   "outputs": [],
   "source": [
    "# Функция для замены неявных дубликатов\n",
    "def replace_wrong_genres(wrong_genres, correct_genre):\n",
    "    for i in wrong_genres:\n",
    "        df['genre'] = df['genre'].replace(wrong_genres, correct_genre)\n",
    "        "
   ]
  },
  {
   "cell_type": "markdown",
   "metadata": {
    "id": "aDoBJxbA_Zct"
   },
   "source": [
    "Вызовите `replace_wrong_genres()` и передайте ей такие аргументы, чтобы она устранила неявные дубликаты: вместо `hip`, `hop` и `hip-hop` в таблице должно быть значение `hiphop`:"
   ]
  },
  {
   "cell_type": "code",
   "execution_count": 16,
   "metadata": {
    "id": "YN5i2hpmSo09"
   },
   "outputs": [],
   "source": [
    "# Устранение неявных дубликатов\n",
    "wrong_genres = ['hip', 'hop', 'hip-hop']\n",
    "correct_genre = 'hiphop'\n",
    "replace_wrong_genres(wrong_genres, correct_genre)"
   ]
  },
  {
   "cell_type": "markdown",
   "metadata": {
    "id": "zQKF16_RG15m"
   },
   "source": [
    "Проверьте, что заменили неправильные названия:\n",
    "\n",
    "*   hip\n",
    "*   hop\n",
    "*   hip-hop\n",
    "\n",
    "Выведите отсортированный список уникальных значений столбца `genre`:"
   ]
  },
  {
   "cell_type": "code",
   "execution_count": 17,
   "metadata": {
    "id": "wvixALnFG15m"
   },
   "outputs": [
    {
     "data": {
      "text/plain": [
       "['acid',\n",
       " 'acoustic',\n",
       " 'action',\n",
       " 'adult',\n",
       " 'africa',\n",
       " 'afrikaans',\n",
       " 'alternative',\n",
       " 'alternativepunk',\n",
       " 'ambient',\n",
       " 'americana',\n",
       " 'animated',\n",
       " 'anime',\n",
       " 'arabesk',\n",
       " 'arabic',\n",
       " 'arena',\n",
       " 'argentinetango',\n",
       " 'art',\n",
       " 'audiobook',\n",
       " 'author',\n",
       " 'avantgarde',\n",
       " 'axé',\n",
       " 'baile',\n",
       " 'balkan',\n",
       " 'beats',\n",
       " 'bigroom',\n",
       " 'black',\n",
       " 'bluegrass',\n",
       " 'blues',\n",
       " 'bollywood',\n",
       " 'bossa',\n",
       " 'brazilian',\n",
       " 'breakbeat',\n",
       " 'breaks',\n",
       " 'broadway',\n",
       " 'cantautori',\n",
       " 'cantopop',\n",
       " 'canzone',\n",
       " 'caribbean',\n",
       " 'caucasian',\n",
       " 'celtic',\n",
       " 'chamber',\n",
       " 'chanson',\n",
       " 'children',\n",
       " 'chill',\n",
       " 'chinese',\n",
       " 'choral',\n",
       " 'christian',\n",
       " 'christmas',\n",
       " 'classical',\n",
       " 'classicmetal',\n",
       " 'club',\n",
       " 'colombian',\n",
       " 'comedy',\n",
       " 'conjazz',\n",
       " 'contemporary',\n",
       " 'country',\n",
       " 'cuban',\n",
       " 'dance',\n",
       " 'dancehall',\n",
       " 'dancepop',\n",
       " 'dark',\n",
       " 'death',\n",
       " 'deep',\n",
       " 'deutschrock',\n",
       " 'deutschspr',\n",
       " 'dirty',\n",
       " 'disco',\n",
       " 'dnb',\n",
       " 'documentary',\n",
       " 'downbeat',\n",
       " 'downtempo',\n",
       " 'drum',\n",
       " 'dub',\n",
       " 'dubstep',\n",
       " 'eastern',\n",
       " 'easy',\n",
       " 'electronic',\n",
       " 'electropop',\n",
       " 'emo',\n",
       " 'entehno',\n",
       " 'epicmetal',\n",
       " 'estrada',\n",
       " 'ethnic',\n",
       " 'eurofolk',\n",
       " 'european',\n",
       " 'experimental',\n",
       " 'extrememetal',\n",
       " 'fado',\n",
       " 'fairytail',\n",
       " 'film',\n",
       " 'fitness',\n",
       " 'flamenco',\n",
       " 'folk',\n",
       " 'folklore',\n",
       " 'folkmetal',\n",
       " 'folkrock',\n",
       " 'folktronica',\n",
       " 'forró',\n",
       " 'frankreich',\n",
       " 'französisch',\n",
       " 'french',\n",
       " 'funk',\n",
       " 'future',\n",
       " 'gangsta',\n",
       " 'garage',\n",
       " 'german',\n",
       " 'ghazal',\n",
       " 'gitarre',\n",
       " 'glitch',\n",
       " 'gospel',\n",
       " 'gothic',\n",
       " 'grime',\n",
       " 'grunge',\n",
       " 'gypsy',\n",
       " 'handsup',\n",
       " \"hard'n'heavy\",\n",
       " 'hardcore',\n",
       " 'hardstyle',\n",
       " 'hardtechno',\n",
       " 'hiphop',\n",
       " 'historisch',\n",
       " 'holiday',\n",
       " 'horror',\n",
       " 'house',\n",
       " 'hymn',\n",
       " 'idm',\n",
       " 'independent',\n",
       " 'indian',\n",
       " 'indie',\n",
       " 'indipop',\n",
       " 'industrial',\n",
       " 'inspirational',\n",
       " 'instrumental',\n",
       " 'international',\n",
       " 'irish',\n",
       " 'jam',\n",
       " 'japanese',\n",
       " 'jazz',\n",
       " 'jewish',\n",
       " 'jpop',\n",
       " 'jungle',\n",
       " 'k-pop',\n",
       " 'karadeniz',\n",
       " 'karaoke',\n",
       " 'kayokyoku',\n",
       " 'korean',\n",
       " 'laiko',\n",
       " 'latin',\n",
       " 'latino',\n",
       " 'leftfield',\n",
       " 'local',\n",
       " 'lounge',\n",
       " 'loungeelectronic',\n",
       " 'lovers',\n",
       " 'malaysian',\n",
       " 'mandopop',\n",
       " 'marschmusik',\n",
       " 'meditative',\n",
       " 'mediterranean',\n",
       " 'melodic',\n",
       " 'metal',\n",
       " 'metalcore',\n",
       " 'mexican',\n",
       " 'middle',\n",
       " 'minimal',\n",
       " 'miscellaneous',\n",
       " 'modern',\n",
       " 'mood',\n",
       " 'mpb',\n",
       " 'muslim',\n",
       " 'native',\n",
       " 'neoklassik',\n",
       " 'neue',\n",
       " 'new',\n",
       " 'newage',\n",
       " 'newwave',\n",
       " 'nu',\n",
       " 'nujazz',\n",
       " 'numetal',\n",
       " 'oceania',\n",
       " 'old',\n",
       " 'opera',\n",
       " 'orchestral',\n",
       " 'other',\n",
       " 'piano',\n",
       " 'podcasts',\n",
       " 'pop',\n",
       " 'popdance',\n",
       " 'popelectronic',\n",
       " 'popeurodance',\n",
       " 'poprussian',\n",
       " 'post',\n",
       " 'posthardcore',\n",
       " 'postrock',\n",
       " 'power',\n",
       " 'progmetal',\n",
       " 'progressive',\n",
       " 'psychedelic',\n",
       " 'punjabi',\n",
       " 'punk',\n",
       " 'quebecois',\n",
       " 'ragga',\n",
       " 'ram',\n",
       " 'rancheras',\n",
       " 'rap',\n",
       " 'rave',\n",
       " 'reggae',\n",
       " 'reggaeton',\n",
       " 'regional',\n",
       " 'relax',\n",
       " 'religious',\n",
       " 'retro',\n",
       " 'rhythm',\n",
       " 'rnb',\n",
       " 'rnr',\n",
       " 'rock',\n",
       " 'rockabilly',\n",
       " 'rockalternative',\n",
       " 'rockindie',\n",
       " 'rockother',\n",
       " 'romance',\n",
       " 'roots',\n",
       " 'ruspop',\n",
       " 'rusrap',\n",
       " 'rusrock',\n",
       " 'russian',\n",
       " 'salsa',\n",
       " 'samba',\n",
       " 'scenic',\n",
       " 'schlager',\n",
       " 'self',\n",
       " 'sertanejo',\n",
       " 'shanson',\n",
       " 'shoegazing',\n",
       " 'showtunes',\n",
       " 'singer',\n",
       " 'ska',\n",
       " 'skarock',\n",
       " 'slow',\n",
       " 'smooth',\n",
       " 'soft',\n",
       " 'soul',\n",
       " 'soulful',\n",
       " 'sound',\n",
       " 'soundtrack',\n",
       " 'southern',\n",
       " 'specialty',\n",
       " 'speech',\n",
       " 'spiritual',\n",
       " 'sport',\n",
       " 'stonerrock',\n",
       " 'surf',\n",
       " 'swing',\n",
       " 'synthpop',\n",
       " 'synthrock',\n",
       " 'sängerportrait',\n",
       " 'tango',\n",
       " 'tanzorchester',\n",
       " 'taraftar',\n",
       " 'tatar',\n",
       " 'tech',\n",
       " 'techno',\n",
       " 'teen',\n",
       " 'thrash',\n",
       " 'top',\n",
       " 'traditional',\n",
       " 'tradjazz',\n",
       " 'trance',\n",
       " 'tribal',\n",
       " 'trip',\n",
       " 'triphop',\n",
       " 'tropical',\n",
       " 'türk',\n",
       " 'türkçe',\n",
       " 'ukrrock',\n",
       " 'unknown',\n",
       " 'urban',\n",
       " 'uzbek',\n",
       " 'variété',\n",
       " 'vi',\n",
       " 'videogame',\n",
       " 'vocal',\n",
       " 'western',\n",
       " 'world',\n",
       " 'worldbeat',\n",
       " 'ïîï',\n",
       " 'электроника']"
      ]
     },
     "execution_count": 17,
     "metadata": {},
     "output_type": "execute_result"
    }
   ],
   "source": [
    "# Проверка на неявные дубликаты\n",
    "sorted(df['genre'].unique())"
   ]
  },
  {
   "cell_type": "markdown",
   "metadata": {},
   "source": [
    "<div class=\"alert alert-success\">\n",
    "<b>Комментарий ревьюера: </b> Отлично, со скрытыми дублями разобрались, функция написана верно. \n",
    "</div>"
   ]
  },
  {
   "cell_type": "markdown",
   "metadata": {
    "id": "jz6a9-7HQUDd"
   },
   "source": [
    "**Выводы**\n",
    "\n",
    "Предобработка обнаружила три проблемы в данных:\n",
    "\n",
    "- нарушения в стиле заголовков,\n",
    "- пропущенные значения,\n",
    "- дубликаты — явные и неявные.\n",
    "\n",
    "Вы исправили заголовки, чтобы упростить работу с таблицей. Без дубликатов исследование станет более точным.\n",
    "\n",
    "Пропущенные значения вы заменили на `'unknown'`. Ещё предстоит увидеть, не повредят ли исследованию пропуски в колонке `genre`.\n",
    "\n",
    "Теперь можно перейти к проверке гипотез. "
   ]
  },
  {
   "cell_type": "markdown",
   "metadata": {
    "id": "WttZHXH0SqKk"
   },
   "source": [
    "## Проверка гипотез"
   ]
  },
  {
   "cell_type": "markdown",
   "metadata": {
    "id": "Im936VVi_Zcu"
   },
   "source": [
    "### Сравнение поведения пользователей двух столиц"
   ]
  },
  {
   "cell_type": "markdown",
   "metadata": {
    "id": "nwt_MuaL_Zcu"
   },
   "source": [
    "Первая гипотеза утверждает, что пользователи по-разному слушают музыку в Москве и Санкт-Петербурге. Проверьте это предположение по данным о трёх днях недели — понедельнике, среде и пятнице. Для этого:\n",
    "\n",
    "* Разделите пользователей Москвы и Санкт-Петербурга\n",
    "* Сравните, сколько треков послушала каждая группа пользователей в понедельник, среду и пятницу.\n"
   ]
  },
  {
   "cell_type": "markdown",
   "metadata": {
    "id": "8Dw_YMmT_Zcu"
   },
   "source": [
    "Для тренировки сначала выполните каждый из расчётов по отдельности. \n",
    "\n",
    "Оцените активность пользователей в каждом городе. Сгруппируйте данные по городу и посчитайте прослушивания в каждой группе.\n",
    "\n"
   ]
  },
  {
   "cell_type": "code",
   "execution_count": 18,
   "metadata": {
    "id": "0_Qs96oh_Zcu"
   },
   "outputs": [
    {
     "data": {
      "text/plain": [
       "city\n",
       "Moscow              42741\n",
       "Saint-Petersburg    18512\n",
       "Name: genre, dtype: int64"
      ]
     },
     "execution_count": 18,
     "metadata": {},
     "output_type": "execute_result"
    }
   ],
   "source": [
    "# Подсчёт прослушиваний в каждом городе\n",
    "df.groupby('city')['genre'].count()"
   ]
  },
  {
   "cell_type": "markdown",
   "metadata": {
    "id": "dzli3w8o_Zcu"
   },
   "source": [
    "В Москве прослушиваний больше, чем в Петербурге. Из этого не следует, что московские пользователи чаще слушают музыку. Просто самих пользователей в Москве больше.\n",
    "\n",
    "Теперь сгруппируйте данные по дню недели и подсчитайте прослушивания в понедельник, среду и пятницу. Учтите, что в данных есть информация только о прослушиваниях только за эти дни.\n"
   ]
  },
  {
   "cell_type": "code",
   "execution_count": 19,
   "metadata": {
    "id": "uZMKjiJz_Zcu",
    "scrolled": true
   },
   "outputs": [
    {
     "data": {
      "text/plain": [
       "day\n",
       "Friday       21840\n",
       "Monday       21354\n",
       "Wednesday    18059\n",
       "Name: genre, dtype: int64"
      ]
     },
     "execution_count": 19,
     "metadata": {},
     "output_type": "execute_result"
    }
   ],
   "source": [
    "# Подсчёт прослушиваний в каждый из трёх дней\n",
    "df.groupby('day')['genre'].count()"
   ]
  },
  {
   "cell_type": "markdown",
   "metadata": {},
   "source": [
    "<div class=\"alert alert-success\">\n",
    "<b>Комментарий ревьюера: </b> Все верно. </div>"
   ]
  },
  {
   "cell_type": "markdown",
   "metadata": {
    "id": "cC2tNrlL_Zcu"
   },
   "source": [
    "В среднем пользователи из двух городов менее активны по средам. Но картина может измениться, если рассмотреть каждый город в отдельности."
   ]
  },
  {
   "cell_type": "markdown",
   "metadata": {
    "id": "POzs8bGa_Zcu"
   },
   "source": [
    "Вы видели, как работает группировка по городу и по дням недели. Теперь напишите функцию, которая объединит два эти расчёта.\n",
    "\n",
    "Создайте функцию `number_tracks()`, которая посчитает прослушивания для заданного дня и города. Ей понадобятся два параметра:\n",
    "* день недели,\n",
    "* название города.\n",
    "\n",
    "В функции сохраните в переменную строки исходной таблицы, у которых значение:\n",
    "  * в колонке `day` равно параметру `day`,\n",
    "  * в колонке `city` равно параметру `city`.\n",
    "\n",
    "Для этого примените последовательную фильтрацию с логической индексацией.\n",
    "\n",
    "Затем посчитайте значения в столбце `user_id` получившейся таблицы. Результат сохраните в новую переменную. Верните эту переменную из функции."
   ]
  },
  {
   "cell_type": "code",
   "execution_count": 20,
   "metadata": {
    "id": "Nz3GdQB1_Zcu"
   },
   "outputs": [],
   "source": [
    "# <создание функции number_tracks()>\n",
    "# Объявляется функция с двумя параметрами: day, city.\n",
    "# В переменной track_list сохраняются те строки таблицы df, для которых \n",
    "# значение в столбце 'day' равно параметру day и одновременно значение\n",
    "# в столбце 'city' равно параметру city (используйте последовательную фильтрацию\n",
    "# с помощью логической индексации).\n",
    "# В переменной track_list_count сохраняется число значений столбца 'user_id',\n",
    "# рассчитанное методом count() для таблицы track_list.\n",
    "# Функция возвращает число - значение track_list_count.\n",
    "\n",
    "# Функция для подсчёта прослушиваний для конкретного города и дня.\n",
    "# С помощью последовательной фильтрации с логической индексацией она \n",
    "# сначала получит из исходной таблицы строки с нужным днём,\n",
    "# затем из результата отфильтрует строки с нужным городом,\n",
    "# методом count() посчитает количество значений в колонке user_id. \n",
    "# Это количество функция вернёт в качестве результата\n",
    "\n",
    "def number_tracks(day, city):\n",
    "    track_list = df[(df['day'] == day) & (df['city'] == city)]\n",
    "    track_list_count = track_list['user_id'].count()\n",
    "    return track_list_count\n"
   ]
  },
  {
   "cell_type": "markdown",
   "metadata": {},
   "source": [
    "<div class=\"alert alert-warning\">\n",
    "<b>Комментарий ревьюера: </b> \n",
    "    \n",
    "Крайне не советую перезаписывать переменные. `track_list` ты сначала сделал одним способом, а потом изменил. Не самая лучшая практика, которая в дальнейшем сжигает мосты и не дает возвращаться к более ранним этапам.\n",
    "    \n",
    "Советую сразу указать оба условия. Например, использовать loc, перечисляя условия через логический оператор \"&\".\n",
    "\n",
    "В данном случае это будет еще и оптимальнее, ведь данное действие можно выполнить за один шаг, а не растягивать на 2. </div>\n",
    "\n",
    "<div class=\"alert alert-info\">\n",
    "<b>Комментарий студента:</b> А обязательно использовать loc или можно обойтись сокращенной записью?\n",
    "</div>"
   ]
  },
  {
   "cell_type": "markdown",
   "metadata": {},
   "source": [
    "<div class=\"alert alert-success\">\n",
    "<b>Комментарий ревьюера v2: </b> Ты все сделал верно, здесь вполне можно обойтись без `loc`. </div>"
   ]
  },
  {
   "cell_type": "markdown",
   "metadata": {
    "id": "ytf7xFrFJQ2r"
   },
   "source": [
    "Вызовите `number_tracks()` шесть раз, меняя значение параметров — так, чтобы получить данные для каждого города в каждый из трёх дней."
   ]
  },
  {
   "cell_type": "code",
   "execution_count": 21,
   "metadata": {
    "id": "rJcRATNQ_Zcu"
   },
   "outputs": [
    {
     "data": {
      "text/plain": [
       "15740"
      ]
     },
     "execution_count": 21,
     "metadata": {},
     "output_type": "execute_result"
    }
   ],
   "source": [
    "# количество прослушиваний в Москве по понедельникам\n",
    "number_tracks('Monday', 'Moscow')"
   ]
  },
  {
   "cell_type": "code",
   "execution_count": 22,
   "metadata": {
    "id": "hq_ncZ5T_Zcu"
   },
   "outputs": [
    {
     "data": {
      "text/plain": [
       "5614"
      ]
     },
     "execution_count": 22,
     "metadata": {},
     "output_type": "execute_result"
    }
   ],
   "source": [
    "# количество прослушиваний в Санкт-Петербурге по понедельникам\n",
    "number_tracks('Monday', 'Saint-Petersburg')"
   ]
  },
  {
   "cell_type": "code",
   "execution_count": 23,
   "metadata": {
    "id": "_NTy2VPU_Zcu"
   },
   "outputs": [
    {
     "data": {
      "text/plain": [
       "11056"
      ]
     },
     "execution_count": 23,
     "metadata": {},
     "output_type": "execute_result"
    }
   ],
   "source": [
    "# количество прослушиваний в Москве по средам\n",
    "number_tracks('Wednesday','Moscow')"
   ]
  },
  {
   "cell_type": "code",
   "execution_count": 24,
   "metadata": {
    "id": "j2y3TAwo_Zcu"
   },
   "outputs": [
    {
     "data": {
      "text/plain": [
       "7003"
      ]
     },
     "execution_count": 24,
     "metadata": {},
     "output_type": "execute_result"
    }
   ],
   "source": [
    "# количество прослушиваний в Санкт-Петербурге по средам\n",
    "number_tracks('Wednesday','Saint-Petersburg')"
   ]
  },
  {
   "cell_type": "code",
   "execution_count": 25,
   "metadata": {
    "id": "vYDw5u_K_Zcu"
   },
   "outputs": [
    {
     "data": {
      "text/plain": [
       "15945"
      ]
     },
     "execution_count": 25,
     "metadata": {},
     "output_type": "execute_result"
    }
   ],
   "source": [
    "# количество прослушиваний в Москве по пятницам\n",
    "number_tracks('Friday', 'Moscow')"
   ]
  },
  {
   "cell_type": "code",
   "execution_count": 26,
   "metadata": {
    "id": "8_yzFtW3_Zcu"
   },
   "outputs": [
    {
     "data": {
      "text/plain": [
       "5895"
      ]
     },
     "execution_count": 26,
     "metadata": {},
     "output_type": "execute_result"
    }
   ],
   "source": [
    "# количество прослушиваний в Санкт-Петербурге по пятницам\n",
    "number_tracks('Friday', 'Saint-Petersburg')"
   ]
  },
  {
   "cell_type": "markdown",
   "metadata": {
    "id": "7QXffbO-_Zcu"
   },
   "source": [
    "Создайте c помощью конструктора `pd.DataFrame` таблицу, где\n",
    "* названия колонок — `['city', 'monday', 'wednesday', 'friday']`;\n",
    "* данные — результаты, которые вы получили с помощью `number_tracks`."
   ]
  },
  {
   "cell_type": "code",
   "execution_count": 27,
   "metadata": {
    "id": "APAcLpOr_Zcu"
   },
   "outputs": [
    {
     "data": {
      "text/html": [
       "<div>\n",
       "<style scoped>\n",
       "    .dataframe tbody tr th:only-of-type {\n",
       "        vertical-align: middle;\n",
       "    }\n",
       "\n",
       "    .dataframe tbody tr th {\n",
       "        vertical-align: top;\n",
       "    }\n",
       "\n",
       "    .dataframe thead th {\n",
       "        text-align: right;\n",
       "    }\n",
       "</style>\n",
       "<table border=\"1\" class=\"dataframe\">\n",
       "  <thead>\n",
       "    <tr style=\"text-align: right;\">\n",
       "      <th></th>\n",
       "      <th>city</th>\n",
       "      <th>monday</th>\n",
       "      <th>wednesday</th>\n",
       "      <th>friday</th>\n",
       "    </tr>\n",
       "  </thead>\n",
       "  <tbody>\n",
       "    <tr>\n",
       "      <td>0</td>\n",
       "      <td>Moscow</td>\n",
       "      <td>15740</td>\n",
       "      <td>11056</td>\n",
       "      <td>15945</td>\n",
       "    </tr>\n",
       "    <tr>\n",
       "      <td>1</td>\n",
       "      <td>Saint-Petersburg</td>\n",
       "      <td>5614</td>\n",
       "      <td>7003</td>\n",
       "      <td>5895</td>\n",
       "    </tr>\n",
       "  </tbody>\n",
       "</table>\n",
       "</div>"
      ],
      "text/plain": [
       "               city  monday  wednesday  friday\n",
       "0            Moscow   15740      11056   15945\n",
       "1  Saint-Petersburg    5614       7003    5895"
      ]
     },
     "execution_count": 27,
     "metadata": {},
     "output_type": "execute_result"
    }
   ],
   "source": [
    "# Таблица с результатами\n",
    "columns = ['city', 'monday', 'wednesday', 'friday']\n",
    "data = [\n",
    "    ['Moscow', 15740, 11056, 15945 ],\n",
    "    ['Saint-Petersburg', 5614, 7003, 5895]\n",
    "]\n",
    "pd.DataFrame(data = data, columns =columns )"
   ]
  },
  {
   "cell_type": "markdown",
   "metadata": {
    "id": "-EgPIHYu_Zcu"
   },
   "source": [
    "**Выводы**\n",
    "\n",
    "Данные показывают разницу поведения пользователей:\n",
    "\n",
    "- В Москве пик прослушиваний приходится на понедельник и пятницу, а в среду заметен спад.\n",
    "- В Петербурге, наоборот, больше слушают музыку по средам. Активность в понедельник и пятницу здесь почти в равной мере уступает среде.\n",
    "\n",
    "Значит, данные говорят в пользу первой гипотезы."
   ]
  },
  {
   "cell_type": "markdown",
   "metadata": {},
   "source": [
    "<div class=\"alert alert-success\">\n",
    "<b>Комментарий ревьюера: </b> С днями недели и городами разобрались. Ты все сделал верно. </div>"
   ]
  },
  {
   "cell_type": "markdown",
   "metadata": {
    "id": "atZAxtq4_Zcu"
   },
   "source": [
    "### Музыка в начале и в конце недели"
   ]
  },
  {
   "cell_type": "markdown",
   "metadata": {
    "id": "eXrQqXFH_Zcu"
   },
   "source": [
    "Согласно второй гипотезе, утром в понедельник в Москве преобладают одни жанры, а в Петербурге — другие. Так же и вечером пятницы преобладают разные жанры — в зависимости от города."
   ]
  },
  {
   "cell_type": "markdown",
   "metadata": {
    "id": "S8UcW6Hw_Zcu"
   },
   "source": [
    "Сохраните таблицы с данными в две переменные:\n",
    "* по Москве — в `moscow_general`;\n",
    "* по Санкт-Петербургу — в `spb_general`."
   ]
  },
  {
   "cell_type": "code",
   "execution_count": 28,
   "metadata": {
    "id": "qeaFfM_P_Zcu"
   },
   "outputs": [],
   "source": [
    "# получение таблицы moscow_general из тех строк таблицы df, \n",
    "# для которых значение в столбце 'city' равно 'Moscow'\n",
    "moscow_general = df[df['city']=='Moscow']"
   ]
  },
  {
   "cell_type": "code",
   "execution_count": 29,
   "metadata": {
    "id": "ORaVRKto_Zcu"
   },
   "outputs": [],
   "source": [
    "# получение таблицы spb_general из тех строк таблицы df,\n",
    "# для которых значение в столбце 'city' равно 'Saint-Petersburg'\n",
    "spb_general = df[df['city']=='Saint-Petersburg']"
   ]
  },
  {
   "cell_type": "markdown",
   "metadata": {
    "id": "MEJV-CX2_Zcu"
   },
   "source": [
    "Создайте функцию `genre_weekday()` с четырьмя параметрами:\n",
    "* таблица (датафрейм) с данными,\n",
    "* день недели,\n",
    "* начальная временная метка в формате 'hh:mm', \n",
    "* последняя временная метка в формате 'hh:mm'.\n",
    "\n",
    "Функция должна вернуть информацию о топ-10 жанров тех треков, которые прослушивали в указанный день, в промежутке между двумя отметками времени."
   ]
  },
  {
   "cell_type": "code",
   "execution_count": 30,
   "metadata": {
    "id": "laJT9BYl_Zcu"
   },
   "outputs": [],
   "source": [
    "# Объявление функции genre_weekday() с параметрами table, day, time1, time2,\n",
    "# которая возвращает информацию о самых популярных жанрах в указанный день в\n",
    "# заданное время:\n",
    "# 1) в переменную genre_df сохраняются те строки переданного датафрейма table, для\n",
    "#    которых одновременно:\n",
    "#    - значение в столбце day равно значению аргумента day\n",
    "#    - значение в столбце time больше значения аргумента time1\n",
    "#    - значение в столбце time меньше значения аргумента time2\n",
    "#    Используйте последовательную фильтрацию с помощью логической индексации.\n",
    "# 2) сгруппировать датафрейм genre_df по столбцу genre, взять один из его\n",
    "#    столбцов и посчитать методом count() количество записей для каждого из\n",
    "#    присутствующих жанров, получившийся Series записать в переменную\n",
    "#    genre_df_count\n",
    "# 3) отсортировать genre_df_count по убыванию встречаемости и сохранить\n",
    "#    в переменную genre_df_sorted\n",
    "# 4) вернуть Series из 10 первых значений genre_df_sorted, это будут топ-10\n",
    "#    популярных жанров (в указанный день, в заданное время)\n",
    "\n",
    "def genre_weekday(table, day, time1, time2):\n",
    "    genre_df = table[(table['day'] == day) & (table['time'] > time1) & (table['time'] < time2)]\n",
    "    genre_df_count = genre_df.groupby('genre')['user_id'].count()\n",
    "    genre_df_sorted = genre_df_count.sort_values(ascending = False)\n",
    "    return genre_df_sorted.head(10)"
   ]
  },
  {
   "cell_type": "markdown",
   "metadata": {},
   "source": [
    "<div class=\"alert alert-warning\">\n",
    "<b>Комментарий ревьюера: </b> Аналогичная рекомендация по использованию логического оператора для перечисления условий в одну строку. </div>"
   ]
  },
  {
   "cell_type": "markdown",
   "metadata": {},
   "source": [
    "<div class=\"alert alert-success\">\n",
    "<b>Комментарий ревьюера v2: </b> Все верно, молодец.\n",
    " </div>"
   ]
  },
  {
   "cell_type": "markdown",
   "metadata": {
    "id": "la2s2_PF_Zcu"
   },
   "source": [
    "Cравните результаты функции `genre_weekday()` для Москвы и Санкт-Петербурга в понедельник утром (с 7:00 до 11:00) и в пятницу вечером (с 17:00 до 23:00):"
   ]
  },
  {
   "cell_type": "code",
   "execution_count": 31,
   "metadata": {
    "id": "yz7itPUQ_Zcu"
   },
   "outputs": [
    {
     "data": {
      "text/plain": [
       "genre\n",
       "pop            781\n",
       "dance          549\n",
       "electronic     480\n",
       "rock           474\n",
       "hiphop         286\n",
       "ruspop         186\n",
       "world          181\n",
       "rusrap         175\n",
       "alternative    164\n",
       "unknown        161\n",
       "Name: user_id, dtype: int64"
      ]
     },
     "execution_count": 31,
     "metadata": {},
     "output_type": "execute_result"
    }
   ],
   "source": [
    "# вызов функции для утра понедельника в Москве (вместо df — таблица moscow_general)\n",
    "# объекты, хранящие время, являются строками и сравниваются как строки\n",
    "# пример вызова: genre_weekday(moscow_general, 'Monday', '07:00', '11:00')\n",
    "genre_weekday(moscow_general, 'Monday', '07:00', '11:00')"
   ]
  },
  {
   "cell_type": "code",
   "execution_count": 32,
   "metadata": {
    "id": "kwUcHPdy_Zcu",
    "scrolled": false
   },
   "outputs": [
    {
     "data": {
      "text/plain": [
       "genre\n",
       "pop            218\n",
       "dance          182\n",
       "rock           162\n",
       "electronic     147\n",
       "hiphop          80\n",
       "ruspop          64\n",
       "alternative     58\n",
       "rusrap          55\n",
       "jazz            44\n",
       "classical       40\n",
       "Name: user_id, dtype: int64"
      ]
     },
     "execution_count": 32,
     "metadata": {},
     "output_type": "execute_result"
    }
   ],
   "source": [
    "# вызов функции для утра понедельника в Петербурге (вместо df — таблица spb_general)\n",
    "genre_weekday(spb_general, 'Monday', '07:00', '11:00')"
   ]
  },
  {
   "cell_type": "code",
   "execution_count": 33,
   "metadata": {
    "id": "EzXVRE1o_Zcu"
   },
   "outputs": [
    {
     "data": {
      "text/plain": [
       "genre\n",
       "pop            713\n",
       "rock           517\n",
       "dance          495\n",
       "electronic     482\n",
       "hiphop         273\n",
       "world          208\n",
       "ruspop         170\n",
       "alternative    163\n",
       "classical      163\n",
       "rusrap         142\n",
       "Name: user_id, dtype: int64"
      ]
     },
     "execution_count": 33,
     "metadata": {},
     "output_type": "execute_result"
    }
   ],
   "source": [
    "# вызов функции для вечера пятницы в Москве\n",
    "genre_weekday(moscow_general, 'Friday', '17:00', '23:00')"
   ]
  },
  {
   "cell_type": "code",
   "execution_count": 34,
   "metadata": {
    "id": "JZaEKu5v_Zcu",
    "scrolled": true
   },
   "outputs": [
    {
     "data": {
      "text/plain": [
       "genre\n",
       "pop            256\n",
       "rock           216\n",
       "electronic     216\n",
       "dance          210\n",
       "hiphop          97\n",
       "alternative     63\n",
       "jazz            61\n",
       "classical       60\n",
       "rusrap          59\n",
       "world           54\n",
       "Name: user_id, dtype: int64"
      ]
     },
     "execution_count": 34,
     "metadata": {},
     "output_type": "execute_result"
    }
   ],
   "source": [
    "# вызов функции для вечера пятницы в Петербурге\n",
    "genre_weekday(spb_general, 'Friday', '17:00', '23:00')"
   ]
  },
  {
   "cell_type": "markdown",
   "metadata": {},
   "source": [
    "<div class=\"alert alert-success\">\n",
    "<b>Комментарий ревьюера: </b> Замечательно! Здесь тоже все верно.</div>"
   ]
  },
  {
   "cell_type": "markdown",
   "metadata": {
    "id": "wrCe4MNX_Zcu"
   },
   "source": [
    "**Выводы**\n",
    "\n",
    "Если сравнить топ-10 жанров в понедельник утром, можно сделать такие выводы:\n",
    "\n",
    "1. В Москве и Петербурге слушают похожую музыку. Единственное отличие — в московский рейтинг вошёл жанр “world”, а в петербургский — джаз и классика.\n",
    "\n",
    "2. В Москве пропущенных значений оказалось так много, что значение `'unknown'` заняло десятое место среди самых популярных жанров. Значит, пропущенные значения занимают существенную долю в данных и угрожают достоверности исследования.\n",
    "\n",
    "Вечер пятницы не меняет эту картину. Некоторые жанры поднимаются немного выше, другие спускаются, но в целом топ-10 остаётся тем же самым.\n",
    "\n",
    "Таким образом, вторая гипотеза подтвердилась лишь частично:\n",
    "* Пользователи слушают похожую музыку в начале недели и в конце.\n",
    "* Разница между Москвой и Петербургом не слишком выражена. В Москве чаще слушают русскую популярную музыку, в Петербурге — джаз.\n",
    "\n",
    "Однако пропуски в данных ставят под сомнение этот результат. В Москве их так много, что рейтинг топ-10 мог бы выглядеть иначе, если бы не утерянные  данные о жанрах."
   ]
  },
  {
   "cell_type": "markdown",
   "metadata": {
    "id": "JolODAqr_Zcu"
   },
   "source": [
    "### Жанровые предпочтения в Москве и Петербурге\n",
    "\n",
    "Гипотеза: Петербург — столица рэпа, музыку этого жанра там слушают чаще, чем в Москве.  А Москва — город контрастов, в котором, тем не менее, преобладает поп-музыка."
   ]
  },
  {
   "cell_type": "markdown",
   "metadata": {
    "id": "DlegSvaT_Zcu"
   },
   "source": [
    "Сгруппируйте таблицу `moscow_general` по жанру и посчитайте прослушивания треков каждого жанра методом `count()`. Затем отсортируйте результат в порядке убывания и сохраните его в таблице `moscow_genres`."
   ]
  },
  {
   "cell_type": "code",
   "execution_count": 35,
   "metadata": {
    "id": "r19lIPke_Zcu"
   },
   "outputs": [],
   "source": [
    "# одной строкой: группировка таблицы moscow_general по столбцу 'genre', \n",
    "# подсчёт числа значений 'genre' в этой группировке методом count(), \n",
    "# сортировка получившегося Series в порядке убывания и сохранение в moscow_genres\n",
    "moscow_genres = moscow_general.groupby('genre')['genre'].count().sort_values(ascending = False)"
   ]
  },
  {
   "cell_type": "markdown",
   "metadata": {
    "id": "6kMuomxTiIr8"
   },
   "source": [
    "Выведите на экран первые десять строк `moscow_genres`:"
   ]
  },
  {
   "cell_type": "code",
   "execution_count": 36,
   "metadata": {
    "id": "WhCSooF8_Zcv"
   },
   "outputs": [
    {
     "data": {
      "text/plain": [
       "genre\n",
       "pop            5892\n",
       "dance          4435\n",
       "rock           3965\n",
       "electronic     3786\n",
       "hiphop         2096\n",
       "classical      1616\n",
       "world          1432\n",
       "alternative    1379\n",
       "ruspop         1372\n",
       "rusrap         1161\n",
       "Name: genre, dtype: int64"
      ]
     },
     "execution_count": 36,
     "metadata": {},
     "output_type": "execute_result"
    }
   ],
   "source": [
    "# просмотр первых 10 строк moscow_genres\n",
    "moscow_genres.head(10)"
   ]
  },
  {
   "cell_type": "markdown",
   "metadata": {
    "id": "cnPG2vnN_Zcv"
   },
   "source": [
    "Теперь повторите то же и для Петербурга.\n",
    "\n",
    "Сгруппируйте таблицу `spb_general` по жанру. Посчитайте прослушивания треков каждого жанра. Результат отсортируйте в порядке убывания и сохраните в таблице `spb_genres`:\n"
   ]
  },
  {
   "cell_type": "code",
   "execution_count": 37,
   "metadata": {
    "id": "gluLIpE7_Zcv"
   },
   "outputs": [],
   "source": [
    "# одной строкой: группировка таблицы spb_general по столбцу 'genre', \n",
    "# подсчёт числа значений 'genre' в этой группировке методом count(), \n",
    "# сортировка получившегося Series в порядке убывания и сохранение в spb_genres\n",
    "spb_genres = spb_general.groupby('genre')['genre'].count().sort_values(ascending = False)"
   ]
  },
  {
   "cell_type": "markdown",
   "metadata": {
    "id": "5Doha_ODgyQ8"
   },
   "source": [
    "Выведите на экран первые десять строк `spb_genres`:"
   ]
  },
  {
   "cell_type": "code",
   "execution_count": 38,
   "metadata": {
    "id": "uaGJHjVU_Zcv"
   },
   "outputs": [
    {
     "data": {
      "text/plain": [
       "genre\n",
       "pop            2431\n",
       "dance          1932\n",
       "rock           1879\n",
       "electronic     1736\n",
       "hiphop          960\n",
       "alternative     649\n",
       "classical       646\n",
       "rusrap          564\n",
       "ruspop          538\n",
       "world           515\n",
       "Name: genre, dtype: int64"
      ]
     },
     "execution_count": 38,
     "metadata": {},
     "output_type": "execute_result"
    }
   ],
   "source": [
    "# просмотр первых 10 строк spb_genres\n",
    "spb_genres.head(10)"
   ]
  },
  {
   "cell_type": "markdown",
   "metadata": {
    "id": "RY51YJYu_Zcv"
   },
   "source": [
    "**Выводы**"
   ]
  },
  {
   "cell_type": "markdown",
   "metadata": {
    "id": "nVhnJEm__Zcv"
   },
   "source": [
    "Гипотеза частично подтвердилась:\n",
    "* Поп-музыка — самый популярный жанр в Москве, как и предполагала гипотеза. Более того, в топ-10 жанров встречается близкий жанр — русская популярная музыка.\n",
    "* Вопреки ожиданиям, рэп одинаково популярен в Москве и Петербурге. \n"
   ]
  },
  {
   "cell_type": "markdown",
   "metadata": {},
   "source": [
    "<div class=\"alert alert-success\">\n",
    "<b>Комментарий ревьюера: </b> Отлично, с жанровыми предпочтениями тоже разобрались.</div>"
   ]
  },
  {
   "cell_type": "markdown",
   "metadata": {
    "id": "ykKQ0N65_Zcv"
   },
   "source": [
    "## Итоги исследования"
   ]
  },
  {
   "cell_type": "markdown",
   "metadata": {
    "id": "tjUwbHb3_Zcv"
   },
   "source": [
    "Вы проверили три гипотезы и установили:\n",
    "\n",
    "1. День недели по-разному влияет на активность пользователей в Москве и Петербурге. \n",
    "\n",
    "Первая гипотеза полностью подтвердилась.\n",
    "\n",
    "2. Музыкальные предпочтения не сильно меняются в течение недели — будь то Москва или Петербург. Небольшие различия заметны в начале недели, по понедельникам:\n",
    "* в Москве слушают музыку жанра “world”,\n",
    "* в Петербурге — джаз и классику.\n",
    "\n",
    "Таким образом, вторая гипотеза подтвердилась лишь отчасти. Этот результат мог оказаться иным, если бы не пропуски в данных.\n",
    "\n",
    "3. Во вкусах пользователей Москвы и Петербурга больше общего чем различий. Вопреки ожиданиям, предпочтения жанров в Петербурге напоминают московские.\n",
    "\n",
    "Третья гипотеза не подтвердилась. Если различия в предпочтениях и существуют, на основной массе пользователей они незаметны.\n",
    "\n",
    "**На практике исследования содержат проверки статистических гипотез.**\n",
    "Из данных одного сервиса не всегда можно сделать вывод о всех жителях города.\n",
    "Проверки статистических гипотез покажут, насколько они достоверны, исходя из имеющихся данных. \n",
    "С методами проверок гипотез вы ещё познакомитесь в следующих темах."
   ]
  },
  {
   "cell_type": "markdown",
   "metadata": {},
   "source": [
    "<div class=\"alert alert-success\">\n",
    "<b>Комментарий ревьюера: </b> Отличный итоговый вывод.</div>\n",
    "\n",
    "<div class=\"alert alert-success\">\n",
    "<b>Комментарий ревьюера: </b> \n",
    "    \n",
    "Мариус, ты отлично справился со своим первым проектом и освоил основной функционал Python для аналитики. \n",
    "    \n",
    "Было бы здорово, если бы ты оптимизировал проект. По возможности рекомендую не перезаписывать переменные. Лучше либо каждый раз создавать новую переменную (если планируешь вернуться на один из этапов), либо стараться сделать все в одно действие. В нашем случае уместен второй вариант. \n",
    "    \n",
    "Если будут вопросы, обращайся.\n",
    "</div>\n",
    "\n",
    "<div class=\"alert alert-info\">\n",
    "<b>Комментарий студента:</b> Спасибо!\n",
    "</div>"
   ]
  },
  {
   "cell_type": "markdown",
   "metadata": {},
   "source": [
    "<div class=\"alert alert-success\">\n",
    "<b>Комментарий ревьюера v2: </b> Мариус, поздравляю, твой проект принят! Желаю тебе успехов далее. Будет интересно :) </div>"
   ]
  }
 ],
 "metadata": {
  "ExecuteTimeLog": [
   {
    "duration": 899,
    "start_time": "2021-11-01T11:49:59.338Z"
   },
   {
    "duration": 428,
    "start_time": "2021-11-01T11:51:01.423Z"
   },
   {
    "duration": 190,
    "start_time": "2021-11-01T11:51:10.731Z"
   },
   {
    "duration": 27,
    "start_time": "2021-11-01T11:51:38.071Z"
   },
   {
    "duration": 34,
    "start_time": "2021-11-01T11:53:22.334Z"
   },
   {
    "duration": 5,
    "start_time": "2021-11-01T12:06:33.035Z"
   },
   {
    "duration": 5,
    "start_time": "2021-11-01T12:12:27.161Z"
   },
   {
    "duration": 27,
    "start_time": "2021-11-01T12:12:47.294Z"
   },
   {
    "duration": 6,
    "start_time": "2021-11-01T12:12:49.913Z"
   },
   {
    "duration": 44,
    "start_time": "2021-11-01T12:18:07.485Z"
   },
   {
    "duration": 32,
    "start_time": "2021-11-01T12:18:24.653Z"
   },
   {
    "duration": 19,
    "start_time": "2021-11-01T12:23:41.444Z"
   },
   {
    "duration": 31,
    "start_time": "2021-11-01T12:24:00.756Z"
   },
   {
    "duration": 19,
    "start_time": "2021-11-01T12:24:10.975Z"
   },
   {
    "duration": 30,
    "start_time": "2021-11-01T12:24:12.855Z"
   },
   {
    "duration": 4281,
    "start_time": "2021-11-01T12:25:01.124Z"
   },
   {
    "duration": 1312,
    "start_time": "2021-11-01T12:25:04.095Z"
   },
   {
    "duration": 1205,
    "start_time": "2021-11-01T12:25:47.711Z"
   },
   {
    "duration": 12,
    "start_time": "2021-11-01T12:25:49.695Z"
   },
   {
    "duration": 4410,
    "start_time": "2021-11-01T12:26:07.895Z"
   },
   {
    "duration": 1262,
    "start_time": "2021-11-01T12:26:11.045Z"
   },
   {
    "duration": 3696,
    "start_time": "2021-11-01T12:26:20.696Z"
   },
   {
    "duration": 11,
    "start_time": "2021-11-01T12:26:50.696Z"
   },
   {
    "duration": 3676,
    "start_time": "2021-11-01T12:34:44.780Z"
   },
   {
    "duration": 519,
    "start_time": "2021-11-01T12:35:12.056Z"
   },
   {
    "duration": 6,
    "start_time": "2021-11-01T12:35:21.364Z"
   },
   {
    "duration": 276,
    "start_time": "2021-11-01T12:35:24.497Z"
   },
   {
    "duration": 7,
    "start_time": "2021-11-01T12:36:09.756Z"
   },
   {
    "duration": 469,
    "start_time": "2021-11-01T12:37:36.016Z"
   },
   {
    "duration": 713,
    "start_time": "2021-11-01T12:37:44.615Z"
   },
   {
    "duration": 187,
    "start_time": "2021-11-01T12:37:49.775Z"
   },
   {
    "duration": 25,
    "start_time": "2021-11-01T12:37:54.976Z"
   },
   {
    "duration": 33,
    "start_time": "2021-11-01T12:37:59.435Z"
   },
   {
    "duration": 6,
    "start_time": "2021-11-01T12:38:04.972Z"
   },
   {
    "duration": 26,
    "start_time": "2021-11-01T12:38:07.804Z"
   },
   {
    "duration": 5,
    "start_time": "2021-11-01T12:38:12.204Z"
   },
   {
    "duration": 31,
    "start_time": "2021-11-01T12:38:16.592Z"
   },
   {
    "duration": 23,
    "start_time": "2021-11-01T12:38:24.135Z"
   },
   {
    "duration": 30,
    "start_time": "2021-11-01T12:38:26.887Z"
   },
   {
    "duration": 91,
    "start_time": "2021-11-01T12:46:28.035Z"
   },
   {
    "duration": 86,
    "start_time": "2021-11-01T12:47:10.324Z"
   },
   {
    "duration": 102,
    "start_time": "2021-11-01T12:49:51.124Z"
   },
   {
    "duration": 84,
    "start_time": "2021-11-01T12:50:27.961Z"
   },
   {
    "duration": 10,
    "start_time": "2021-11-01T12:57:28.423Z"
   },
   {
    "duration": 315,
    "start_time": "2021-11-01T13:00:33.784Z"
   },
   {
    "duration": 7,
    "start_time": "2021-11-01T13:00:56.204Z"
   },
   {
    "duration": 7,
    "start_time": "2021-11-01T13:01:00.745Z"
   },
   {
    "duration": 8,
    "start_time": "2021-11-01T13:01:15.144Z"
   },
   {
    "duration": 16,
    "start_time": "2021-11-01T13:01:34.023Z"
   },
   {
    "duration": 160,
    "start_time": "2021-11-01T13:11:50.083Z"
   },
   {
    "duration": 4,
    "start_time": "2021-11-01T13:12:04.896Z"
   },
   {
    "duration": 23,
    "start_time": "2021-11-01T13:13:41.332Z"
   },
   {
    "duration": 16,
    "start_time": "2021-11-01T13:14:28.182Z"
   },
   {
    "duration": 46,
    "start_time": "2021-11-01T13:58:17.088Z"
   },
   {
    "duration": 43,
    "start_time": "2021-11-01T14:01:29.408Z"
   },
   {
    "duration": 5,
    "start_time": "2021-11-01T14:18:47.215Z"
   },
   {
    "duration": 32,
    "start_time": "2021-11-01T14:19:27.878Z"
   },
   {
    "duration": 26,
    "start_time": "2021-11-01T14:21:15.888Z"
   },
   {
    "duration": 31,
    "start_time": "2021-11-01T14:21:18.477Z"
   },
   {
    "duration": 26,
    "start_time": "2021-11-01T14:21:22.427Z"
   },
   {
    "duration": 31,
    "start_time": "2021-11-01T14:21:26.088Z"
   },
   {
    "duration": 26,
    "start_time": "2021-11-01T14:21:28.451Z"
   },
   {
    "duration": 5,
    "start_time": "2021-11-01T14:24:17.579Z"
   },
   {
    "duration": 41,
    "start_time": "2021-11-01T14:24:21.659Z"
   },
   {
    "duration": 26,
    "start_time": "2021-11-01T14:24:23.691Z"
   },
   {
    "duration": 29,
    "start_time": "2021-11-01T14:24:24.571Z"
   },
   {
    "duration": 25,
    "start_time": "2021-11-01T14:24:28.107Z"
   },
   {
    "duration": 31,
    "start_time": "2021-11-01T14:24:28.931Z"
   },
   {
    "duration": 26,
    "start_time": "2021-11-01T14:24:29.812Z"
   },
   {
    "duration": 13,
    "start_time": "2021-11-01T15:22:41.227Z"
   },
   {
    "duration": 5,
    "start_time": "2021-11-01T15:31:21.812Z"
   },
   {
    "duration": 3889,
    "start_time": "2021-11-01T15:31:24.680Z"
   },
   {
    "duration": 4,
    "start_time": "2021-11-01T15:31:42.822Z"
   },
   {
    "duration": 796,
    "start_time": "2021-11-01T15:32:01.661Z"
   },
   {
    "duration": 201,
    "start_time": "2021-11-01T15:32:04.760Z"
   },
   {
    "duration": 26,
    "start_time": "2021-11-01T15:32:07.708Z"
   },
   {
    "duration": 33,
    "start_time": "2021-11-01T15:32:11.103Z"
   },
   {
    "duration": 6,
    "start_time": "2021-11-01T15:32:17.500Z"
   },
   {
    "duration": 25,
    "start_time": "2021-11-01T15:32:20.400Z"
   },
   {
    "duration": 6,
    "start_time": "2021-11-01T15:32:22.500Z"
   },
   {
    "duration": 33,
    "start_time": "2021-11-01T15:32:24.900Z"
   },
   {
    "duration": 24,
    "start_time": "2021-11-01T15:32:28.084Z"
   },
   {
    "duration": 31,
    "start_time": "2021-11-01T15:32:30.201Z"
   },
   {
    "duration": 83,
    "start_time": "2021-11-01T15:32:32.854Z"
   },
   {
    "duration": 109,
    "start_time": "2021-11-01T15:32:35.461Z"
   },
   {
    "duration": 82,
    "start_time": "2021-11-01T15:32:38.320Z"
   },
   {
    "duration": 15,
    "start_time": "2021-11-01T15:32:44.866Z"
   },
   {
    "duration": 4,
    "start_time": "2021-11-01T15:32:49.621Z"
   },
   {
    "duration": 22,
    "start_time": "2021-11-01T15:32:53.760Z"
   },
   {
    "duration": 14,
    "start_time": "2021-11-01T15:32:56.520Z"
   },
   {
    "duration": 14,
    "start_time": "2021-11-01T15:33:10.520Z"
   },
   {
    "duration": 14,
    "start_time": "2021-11-01T15:33:38.561Z"
   },
   {
    "duration": 5,
    "start_time": "2021-11-01T15:33:46.468Z"
   },
   {
    "duration": 4567,
    "start_time": "2021-11-01T15:33:49.088Z"
   },
   {
    "duration": 4,
    "start_time": "2021-11-01T15:34:09.664Z"
   },
   {
    "duration": 29,
    "start_time": "2021-11-01T15:34:12.489Z"
   },
   {
    "duration": 25,
    "start_time": "2021-11-01T15:34:15.289Z"
   },
   {
    "duration": 29,
    "start_time": "2021-11-01T15:34:16.089Z"
   },
   {
    "duration": 25,
    "start_time": "2021-11-01T15:34:17.931Z"
   },
   {
    "duration": 31,
    "start_time": "2021-11-01T15:34:21.491Z"
   },
   {
    "duration": 26,
    "start_time": "2021-11-01T15:34:22.212Z"
   },
   {
    "duration": 13,
    "start_time": "2021-11-01T15:34:25.892Z"
   },
   {
    "duration": 15,
    "start_time": "2021-11-01T15:37:40.690Z"
   },
   {
    "duration": 12,
    "start_time": "2021-11-01T15:38:00.200Z"
   },
   {
    "duration": 5,
    "start_time": "2021-11-01T15:45:46.354Z"
   },
   {
    "duration": 588,
    "start_time": "2021-11-01T15:46:13.708Z"
   },
   {
    "duration": 17,
    "start_time": "2021-11-01T15:47:24.430Z"
   },
   {
    "duration": 612,
    "start_time": "2021-11-01T15:47:27.865Z"
   },
   {
    "duration": 6,
    "start_time": "2021-11-01T15:47:57.299Z"
   },
   {
    "duration": 594,
    "start_time": "2021-11-01T15:47:59.112Z"
   },
   {
    "duration": 5,
    "start_time": "2021-11-01T15:51:06.191Z"
   },
   {
    "duration": 51,
    "start_time": "2021-11-01T15:51:08.154Z"
   },
   {
    "duration": 6,
    "start_time": "2021-11-01T15:53:03.200Z"
   },
   {
    "duration": 50,
    "start_time": "2021-11-01T15:53:06.483Z"
   },
   {
    "duration": 6,
    "start_time": "2021-11-01T15:55:39.897Z"
   },
   {
    "duration": 67,
    "start_time": "2021-11-01T15:55:41.664Z"
   },
   {
    "duration": 6,
    "start_time": "2021-11-01T15:58:04.246Z"
   },
   {
    "duration": 658,
    "start_time": "2021-11-01T15:58:06.144Z"
   },
   {
    "duration": 8,
    "start_time": "2021-11-01T15:59:27.437Z"
   },
   {
    "duration": 54,
    "start_time": "2021-11-01T15:59:29.165Z"
   },
   {
    "duration": 6,
    "start_time": "2021-11-01T15:59:51.298Z"
   },
   {
    "duration": 52,
    "start_time": "2021-11-01T15:59:54.923Z"
   },
   {
    "duration": 5,
    "start_time": "2021-11-01T16:00:11.695Z"
   },
   {
    "duration": 64,
    "start_time": "2021-11-01T16:00:14.255Z"
   },
   {
    "duration": 6,
    "start_time": "2021-11-01T16:02:02.260Z"
   },
   {
    "duration": 582,
    "start_time": "2021-11-01T16:02:03.826Z"
   },
   {
    "duration": 5,
    "start_time": "2021-11-01T16:02:14.870Z"
   },
   {
    "duration": 50,
    "start_time": "2021-11-01T16:02:16.347Z"
   },
   {
    "duration": 5,
    "start_time": "2021-11-01T16:03:10.782Z"
   },
   {
    "duration": 49,
    "start_time": "2021-11-01T16:03:12.249Z"
   },
   {
    "duration": 46,
    "start_time": "2021-11-01T16:03:33.743Z"
   },
   {
    "duration": 29,
    "start_time": "2021-11-01T16:04:20.832Z"
   },
   {
    "duration": 13,
    "start_time": "2021-11-01T16:04:26.503Z"
   },
   {
    "duration": 5,
    "start_time": "2021-11-01T16:04:33.980Z"
   },
   {
    "duration": 48,
    "start_time": "2021-11-01T16:04:40.309Z"
   },
   {
    "duration": 46,
    "start_time": "2021-11-01T16:04:53.302Z"
   },
   {
    "duration": 49,
    "start_time": "2021-11-01T16:05:44.739Z"
   },
   {
    "duration": 53,
    "start_time": "2021-11-01T16:06:07.803Z"
   },
   {
    "duration": 12,
    "start_time": "2021-11-01T16:10:25.239Z"
   },
   {
    "duration": 15,
    "start_time": "2021-11-01T16:10:38.089Z"
   },
   {
    "duration": 11,
    "start_time": "2021-11-01T16:11:32.975Z"
   },
   {
    "duration": 7,
    "start_time": "2021-11-01T16:11:36.575Z"
   },
   {
    "duration": 8,
    "start_time": "2021-11-01T16:12:19.398Z"
   },
   {
    "duration": 6,
    "start_time": "2021-11-01T16:12:31.046Z"
   },
   {
    "duration": 5,
    "start_time": "2021-11-01T16:22:35.577Z"
   },
   {
    "duration": 38,
    "start_time": "2021-11-01T16:22:37.608Z"
   },
   {
    "duration": 5,
    "start_time": "2021-11-01T16:23:25.884Z"
   },
   {
    "duration": 23,
    "start_time": "2021-11-01T16:23:27.947Z"
   },
   {
    "duration": 26,
    "start_time": "2021-11-01T16:23:29.999Z"
   },
   {
    "duration": 19,
    "start_time": "2021-11-01T16:23:31.014Z"
   },
   {
    "duration": 19,
    "start_time": "2021-11-01T16:23:31.569Z"
   },
   {
    "duration": 23,
    "start_time": "2021-11-01T16:23:32.087Z"
   },
   {
    "duration": 21,
    "start_time": "2021-11-01T16:23:33.559Z"
   },
   {
    "duration": 13,
    "start_time": "2021-11-01T16:24:58.358Z"
   },
   {
    "duration": 5,
    "start_time": "2021-11-01T16:25:40.652Z"
   },
   {
    "duration": 30,
    "start_time": "2021-11-01T16:25:47.773Z"
   },
   {
    "duration": 31,
    "start_time": "2021-11-01T16:25:51.215Z"
   },
   {
    "duration": 30,
    "start_time": "2021-11-01T16:25:52.693Z"
   },
   {
    "duration": 28,
    "start_time": "2021-11-01T16:25:54.049Z"
   },
   {
    "duration": 29,
    "start_time": "2021-11-01T16:28:47.489Z"
   },
   {
    "duration": 18,
    "start_time": "2021-11-01T16:28:55.816Z"
   },
   {
    "duration": 27,
    "start_time": "2021-11-01T16:28:57.829Z"
   },
   {
    "duration": 14,
    "start_time": "2021-11-01T16:29:02.709Z"
   },
   {
    "duration": 6,
    "start_time": "2021-11-01T16:29:40.418Z"
   },
   {
    "duration": 26,
    "start_time": "2021-11-01T16:29:45.708Z"
   },
   {
    "duration": 18,
    "start_time": "2021-11-01T16:29:48.227Z"
   },
   {
    "duration": 24,
    "start_time": "2021-11-01T16:29:50.907Z"
   },
   {
    "duration": 18,
    "start_time": "2021-11-01T16:29:52.667Z"
   },
   {
    "duration": 6,
    "start_time": "2021-11-01T16:43:22.017Z"
   },
   {
    "duration": 320,
    "start_time": "2021-11-01T16:43:35.109Z"
   },
   {
    "duration": 43,
    "start_time": "2021-11-01T16:43:45.628Z"
   },
   {
    "duration": 11,
    "start_time": "2021-11-01T16:45:57.297Z"
   },
   {
    "duration": 6,
    "start_time": "2021-11-01T16:46:01.458Z"
   },
   {
    "duration": 9,
    "start_time": "2021-11-01T16:46:07.634Z"
   },
   {
    "duration": 7,
    "start_time": "2021-11-01T16:46:10.774Z"
   },
   {
    "duration": 712,
    "start_time": "2021-11-01T16:46:25.508Z"
   },
   {
    "duration": 184,
    "start_time": "2021-11-01T16:46:29.103Z"
   },
   {
    "duration": 27,
    "start_time": "2021-11-01T16:46:31.213Z"
   },
   {
    "duration": 33,
    "start_time": "2021-11-01T16:46:33.623Z"
   },
   {
    "duration": 6,
    "start_time": "2021-11-01T16:46:36.589Z"
   },
   {
    "duration": 31,
    "start_time": "2021-11-01T16:46:39.072Z"
   },
   {
    "duration": 6,
    "start_time": "2021-11-01T16:46:40.819Z"
   },
   {
    "duration": 33,
    "start_time": "2021-11-01T16:46:43.304Z"
   },
   {
    "duration": 25,
    "start_time": "2021-11-01T16:46:45.691Z"
   },
   {
    "duration": 30,
    "start_time": "2021-11-01T16:46:47.589Z"
   },
   {
    "duration": 89,
    "start_time": "2021-11-01T16:46:49.985Z"
   },
   {
    "duration": 110,
    "start_time": "2021-11-01T16:46:52.473Z"
   },
   {
    "duration": 79,
    "start_time": "2021-11-01T16:46:54.023Z"
   },
   {
    "duration": 16,
    "start_time": "2021-11-01T16:46:56.392Z"
   },
   {
    "duration": 4,
    "start_time": "2021-11-01T16:47:01.006Z"
   },
   {
    "duration": 24,
    "start_time": "2021-11-01T16:47:07.501Z"
   },
   {
    "duration": 14,
    "start_time": "2021-11-01T16:47:09.628Z"
   },
   {
    "duration": 15,
    "start_time": "2021-11-01T16:47:18.184Z"
   },
   {
    "duration": 15,
    "start_time": "2021-11-01T16:47:20.343Z"
   },
   {
    "duration": 5,
    "start_time": "2021-11-01T16:47:22.817Z"
   },
   {
    "duration": 23,
    "start_time": "2021-11-01T16:47:26.544Z"
   },
   {
    "duration": 21,
    "start_time": "2021-11-01T16:47:28.219Z"
   },
   {
    "duration": 20,
    "start_time": "2021-11-01T16:47:28.960Z"
   },
   {
    "duration": 19,
    "start_time": "2021-11-01T16:47:29.570Z"
   },
   {
    "duration": 24,
    "start_time": "2021-11-01T16:47:30.264Z"
   },
   {
    "duration": 24,
    "start_time": "2021-11-01T16:47:30.873Z"
   },
   {
    "duration": 13,
    "start_time": "2021-11-01T16:47:36.593Z"
   },
   {
    "duration": 15,
    "start_time": "2021-11-01T16:47:40.303Z"
   },
   {
    "duration": 11,
    "start_time": "2021-11-01T16:47:41.512Z"
   },
   {
    "duration": 6,
    "start_time": "2021-11-01T16:47:44.353Z"
   },
   {
    "duration": 25,
    "start_time": "2021-11-01T16:47:46.881Z"
   },
   {
    "duration": 18,
    "start_time": "2021-11-01T16:47:48.790Z"
   },
   {
    "duration": 23,
    "start_time": "2021-11-01T16:47:49.496Z"
   },
   {
    "duration": 17,
    "start_time": "2021-11-01T16:47:51.295Z"
   },
   {
    "duration": 12,
    "start_time": "2021-11-01T16:47:54.919Z"
   },
   {
    "duration": 7,
    "start_time": "2021-11-01T16:47:57.472Z"
   },
   {
    "duration": 9,
    "start_time": "2021-11-01T16:48:00.991Z"
   },
   {
    "duration": 7,
    "start_time": "2021-11-01T16:48:03.400Z"
   },
   {
    "duration": 5,
    "start_time": "2021-11-02T11:27:51.131Z"
   },
   {
    "duration": 702,
    "start_time": "2021-11-02T11:27:54.106Z"
   },
   {
    "duration": 1682,
    "start_time": "2021-11-02T11:28:09.807Z"
   },
   {
    "duration": 824,
    "start_time": "2021-11-02T11:28:22.269Z"
   },
   {
    "duration": 196,
    "start_time": "2021-11-02T11:28:25.210Z"
   },
   {
    "duration": 26,
    "start_time": "2021-11-02T11:28:27.011Z"
   },
   {
    "duration": 32,
    "start_time": "2021-11-02T11:28:39.010Z"
   },
   {
    "duration": 7,
    "start_time": "2021-11-02T11:28:43.391Z"
   },
   {
    "duration": 27,
    "start_time": "2021-11-02T11:28:45.739Z"
   },
   {
    "duration": 6,
    "start_time": "2021-11-02T11:28:47.348Z"
   },
   {
    "duration": 55,
    "start_time": "2021-11-02T11:28:49.370Z"
   },
   {
    "duration": 25,
    "start_time": "2021-11-02T11:28:51.392Z"
   },
   {
    "duration": 31,
    "start_time": "2021-11-02T11:28:53.430Z"
   },
   {
    "duration": 93,
    "start_time": "2021-11-02T11:28:55.609Z"
   },
   {
    "duration": 114,
    "start_time": "2021-11-02T11:28:57.571Z"
   },
   {
    "duration": 85,
    "start_time": "2021-11-02T11:28:59.630Z"
   },
   {
    "duration": 26,
    "start_time": "2021-11-02T11:29:02.688Z"
   },
   {
    "duration": 3,
    "start_time": "2021-11-02T11:29:09.412Z"
   },
   {
    "duration": 22,
    "start_time": "2021-11-02T11:29:11.631Z"
   },
   {
    "duration": 13,
    "start_time": "2021-11-02T11:29:13.729Z"
   },
   {
    "duration": 14,
    "start_time": "2021-11-02T11:29:17.310Z"
   },
   {
    "duration": 18,
    "start_time": "2021-11-02T11:29:19.690Z"
   },
   {
    "duration": 5,
    "start_time": "2021-11-02T11:29:25.634Z"
   },
   {
    "duration": 1566,
    "start_time": "2021-11-02T11:29:32.150Z"
   },
   {
    "duration": 4,
    "start_time": "2021-11-02T11:30:42.220Z"
   },
   {
    "duration": 711,
    "start_time": "2021-11-02T11:30:50.890Z"
   },
   {
    "duration": 5,
    "start_time": "2021-11-02T11:32:41.055Z"
   },
   {
    "duration": 30,
    "start_time": "2021-11-02T11:32:43.270Z"
   },
   {
    "duration": 19,
    "start_time": "2021-11-02T11:32:49.571Z"
   },
   {
    "duration": 18,
    "start_time": "2021-11-02T11:32:51.190Z"
   },
   {
    "duration": 19,
    "start_time": "2021-11-02T11:32:52.151Z"
   },
   {
    "duration": 24,
    "start_time": "2021-11-02T11:32:52.989Z"
   },
   {
    "duration": 18,
    "start_time": "2021-11-02T11:32:55.211Z"
   },
   {
    "duration": 20,
    "start_time": "2021-11-02T11:33:02.728Z"
   },
   {
    "duration": 5,
    "start_time": "2021-11-02T11:37:52.371Z"
   },
   {
    "duration": 353,
    "start_time": "2021-11-02T11:37:56.091Z"
   },
   {
    "duration": 18,
    "start_time": "2021-11-02T11:38:08.845Z"
   },
   {
    "duration": 12,
    "start_time": "2021-11-02T11:38:09.871Z"
   },
   {
    "duration": 6,
    "start_time": "2021-11-02T11:38:12.671Z"
   },
   {
    "duration": 26,
    "start_time": "2021-11-02T11:38:14.731Z"
   },
   {
    "duration": 18,
    "start_time": "2021-11-02T11:38:18.751Z"
   },
   {
    "duration": 26,
    "start_time": "2021-11-02T11:38:19.864Z"
   },
   {
    "duration": 28,
    "start_time": "2021-11-02T11:38:22.308Z"
   },
   {
    "duration": 762,
    "start_time": "2021-11-02T11:40:54.797Z"
   },
   {
    "duration": 203,
    "start_time": "2021-11-02T11:40:57.820Z"
   },
   {
    "duration": 33,
    "start_time": "2021-11-02T11:40:59.856Z"
   },
   {
    "duration": 41,
    "start_time": "2021-11-02T11:41:02.359Z"
   },
   {
    "duration": 6,
    "start_time": "2021-11-02T11:41:06.427Z"
   },
   {
    "duration": 29,
    "start_time": "2021-11-02T11:41:09.297Z"
   },
   {
    "duration": 7,
    "start_time": "2021-11-02T11:41:11.585Z"
   },
   {
    "duration": 35,
    "start_time": "2021-11-02T11:41:13.736Z"
   },
   {
    "duration": 23,
    "start_time": "2021-11-02T11:41:16.045Z"
   },
   {
    "duration": 34,
    "start_time": "2021-11-02T11:41:17.977Z"
   },
   {
    "duration": 92,
    "start_time": "2021-11-02T11:41:20.578Z"
   },
   {
    "duration": 114,
    "start_time": "2021-11-02T11:41:22.685Z"
   },
   {
    "duration": 84,
    "start_time": "2021-11-02T11:41:24.424Z"
   },
   {
    "duration": 14,
    "start_time": "2021-11-02T11:41:28.818Z"
   },
   {
    "duration": 4,
    "start_time": "2021-11-02T11:41:33.259Z"
   },
   {
    "duration": 30,
    "start_time": "2021-11-02T11:41:37.164Z"
   },
   {
    "duration": 18,
    "start_time": "2021-11-02T11:41:39.678Z"
   },
   {
    "duration": 16,
    "start_time": "2021-11-02T11:41:44.757Z"
   },
   {
    "duration": 15,
    "start_time": "2021-11-02T11:41:49.319Z"
   },
   {
    "duration": 5,
    "start_time": "2021-11-02T11:42:40.463Z"
   },
   {
    "duration": 34,
    "start_time": "2021-11-02T11:42:47.477Z"
   },
   {
    "duration": 26,
    "start_time": "2021-11-02T11:42:48.680Z"
   },
   {
    "duration": 20,
    "start_time": "2021-11-02T11:42:52.257Z"
   },
   {
    "duration": 19,
    "start_time": "2021-11-02T11:42:53.117Z"
   },
   {
    "duration": 21,
    "start_time": "2021-11-02T11:42:53.858Z"
   },
   {
    "duration": 20,
    "start_time": "2021-11-02T11:42:54.618Z"
   },
   {
    "duration": 12,
    "start_time": "2021-11-02T11:42:57.439Z"
   },
   {
    "duration": 15,
    "start_time": "2021-11-02T11:43:08.705Z"
   },
   {
    "duration": 13,
    "start_time": "2021-11-02T11:43:09.800Z"
   },
   {
    "duration": 5,
    "start_time": "2021-11-02T11:43:22.366Z"
   },
   {
    "duration": 25,
    "start_time": "2021-11-02T11:43:28.239Z"
   },
   {
    "duration": 17,
    "start_time": "2021-11-02T11:43:31.118Z"
   },
   {
    "duration": 25,
    "start_time": "2021-11-02T11:43:33.007Z"
   },
   {
    "duration": 20,
    "start_time": "2021-11-02T11:43:34.857Z"
   },
   {
    "duration": 12,
    "start_time": "2021-11-02T11:43:56.965Z"
   },
   {
    "duration": 6,
    "start_time": "2021-11-02T11:44:08.056Z"
   },
   {
    "duration": 9,
    "start_time": "2021-11-02T11:44:11.924Z"
   },
   {
    "duration": 6,
    "start_time": "2021-11-02T11:44:14.857Z"
   },
   {
    "duration": 63,
    "start_time": "2022-09-23T10:25:04.193Z"
   },
   {
    "duration": 389,
    "start_time": "2022-09-23T10:25:10.008Z"
   },
   {
    "duration": 210,
    "start_time": "2022-09-23T10:25:11.022Z"
   },
   {
    "duration": 15,
    "start_time": "2022-09-23T10:25:12.314Z"
   },
   {
    "duration": 32,
    "start_time": "2022-09-23T10:25:14.535Z"
   },
   {
    "duration": 4,
    "start_time": "2022-09-23T10:25:17.981Z"
   },
   {
    "duration": 10,
    "start_time": "2022-09-23T10:25:19.970Z"
   },
   {
    "duration": 3,
    "start_time": "2022-09-23T10:25:21.487Z"
   },
   {
    "duration": 20,
    "start_time": "2022-09-23T10:25:22.545Z"
   },
   {
    "duration": 24,
    "start_time": "2022-09-23T10:25:24.491Z"
   },
   {
    "duration": 21,
    "start_time": "2022-09-23T10:25:26.508Z"
   },
   {
    "duration": 60,
    "start_time": "2022-09-23T10:25:28.486Z"
   },
   {
    "duration": 78,
    "start_time": "2022-09-23T10:25:30.356Z"
   },
   {
    "duration": 54,
    "start_time": "2022-09-23T10:25:30.925Z"
   },
   {
    "duration": 11,
    "start_time": "2022-09-23T10:25:49.828Z"
   },
   {
    "duration": 44,
    "start_time": "2022-09-23T10:25:51.416Z"
   },
   {
    "duration": 39,
    "start_time": "2022-09-23T10:26:10.756Z"
   },
   {
    "duration": 43,
    "start_time": "2022-09-23T10:26:29.358Z"
   },
   {
    "duration": 38,
    "start_time": "2022-09-23T10:26:41.708Z"
   },
   {
    "duration": 47,
    "start_time": "2022-09-23T10:27:08.337Z"
   }
  ],
  "colab": {
   "collapsed_sections": [
    "E0vqbgi9ay0H",
    "VUC88oWjTJw2"
   ],
   "name": "yandex_music_project_2021.2.ipynb",
   "provenance": []
  },
  "kernelspec": {
   "display_name": "Python 3 (ipykernel)",
   "language": "python",
   "name": "python3"
  },
  "language_info": {
   "codemirror_mode": {
    "name": "ipython",
    "version": 3
   },
   "file_extension": ".py",
   "mimetype": "text/x-python",
   "name": "python",
   "nbconvert_exporter": "python",
   "pygments_lexer": "ipython3",
   "version": "3.9.5"
  },
  "toc": {
   "base_numbering": 1,
   "nav_menu": {},
   "number_sections": true,
   "sideBar": true,
   "skip_h1_title": true,
   "title_cell": "Table of Contents",
   "title_sidebar": "Contents",
   "toc_cell": false,
   "toc_position": {},
   "toc_section_display": true,
   "toc_window_display": false
  }
 },
 "nbformat": 4,
 "nbformat_minor": 1
}
