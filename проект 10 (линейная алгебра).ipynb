{
 "cells": [
  {
   "cell_type": "markdown",
   "metadata": {},
   "source": [
    "<font color='blue' size=5><b>Комментарий ревьюера</b></font>\n",
    "\n",
    "<font color='blue'>Привет! Меня зовут Тимофей Вилков, и я буду проверять твой проект. Спасибо за проделанную работу! Предлагаю общаться на «ты».</font>\n",
    "\n",
    "<font color='blue'>Я буду использовать различные цвета, чтобы было удобнее воспринимать мои комментарии:</font>\n",
    "\n",
    "\n",
    "\n",
    "<div class=\"alert alert-block alert-success\">\n",
    "✔️ <b>Зеленый текст</b> - все отлично!\n",
    "</div>\n",
    " \n",
    "<div class=\"alert alert-block alert-warning\">\n",
    "⚠️ <b>Желтый текст</b> - сделано все правильно, однако есть рекомендации, на что стоит обратить внимание\n",
    "</div>\n",
    "\n",
    "<div class=\"alert alert-block alert-danger\">\n",
    "❌ <b>Красный текст</b> - красный текст - есть недочеты\n",
    "</div>\n",
    "\n",
    "---\n",
    "\n",
    "<font color='blue'>Пожалуйста, не удаляй мои комментарии в случае возврата работы, так будет проще разобраться, какие были недочеты, а также сразу увидеть исправленное. </font>\n",
    "\n",
    "Ответы на мои комментарии лучше тоже помечать.\n",
    "Например:\n",
    "\n",
    "<div class=\"alert alert-block alert-info\">\n",
    "<b>Комментарий студента:</b> \n",
    "Текст комментария, вопроса, объяснения\n",
    "</div>\n",
    "\n",
    "<font color='blue'><b>Давай смотреть, что получилось!</b></font>"
   ]
  },
  {
   "cell_type": "markdown",
   "metadata": {},
   "source": [
    "<div class=\"alert alert-block alert-info\">\n",
    "<b>Комментарий студента:</b> \n",
    "    Привет! Спасибо за проверку проекта и комментарии :)\n",
    "</div>"
   ]
  },
  {
   "cell_type": "markdown",
   "metadata": {},
   "source": [
    "<div class=\"alert alert-block alert-success\">\n",
    "✔️ Привет ещё раз! Новые комментарии я отметил так: Ревью №2\n",
    "</div>"
   ]
  },
  {
   "cell_type": "markdown",
   "metadata": {
    "toc": true
   },
   "source": [
    "<h1>Содержание<span class=\"tocSkip\"></span></h1>\n",
    "<div class=\"toc\"><ul class=\"toc-item\"><li><span><a href=\"#Загрузка-данных\" data-toc-modified-id=\"Загрузка-данных-1\"><span class=\"toc-item-num\">1&nbsp;&nbsp;</span>Загрузка данных</a></span><ul class=\"toc-item\"><li><span><a href=\"#Вывод\" data-toc-modified-id=\"Вывод-1.1\"><span class=\"toc-item-num\">1.1&nbsp;&nbsp;</span>Вывод</a></span></li></ul></li><li><span><a href=\"#Умножение-матриц\" data-toc-modified-id=\"Умножение-матриц-2\"><span class=\"toc-item-num\">2&nbsp;&nbsp;</span>Умножение матриц</a></span></li><li><span><a href=\"#Алгоритм-преобразования\" data-toc-modified-id=\"Алгоритм-преобразования-3\"><span class=\"toc-item-num\">3&nbsp;&nbsp;</span>Алгоритм преобразования</a></span></li><li><span><a href=\"#Проверка-алгоритма\" data-toc-modified-id=\"Проверка-алгоритма-4\"><span class=\"toc-item-num\">4&nbsp;&nbsp;</span>Проверка алгоритма</a></span><ul class=\"toc-item\"><li><span><a href=\"#Вывод\" data-toc-modified-id=\"Вывод-4.1\"><span class=\"toc-item-num\">4.1&nbsp;&nbsp;</span>Вывод</a></span></li></ul></li><li><span><a href=\"#Чек-лист-проверки\" data-toc-modified-id=\"Чек-лист-проверки-5\"><span class=\"toc-item-num\">5&nbsp;&nbsp;</span>Чек-лист проверки</a></span></li></ul></div>"
   ]
  },
  {
   "cell_type": "markdown",
   "metadata": {},
   "source": [
    "<div class=\"alert alert-block alert-success\">\n",
    "✔️ Молодец, что добавил содержание. Так работать с проектом гораздо удобнее\n",
    "</div>"
   ]
  },
  {
   "cell_type": "markdown",
   "metadata": {},
   "source": [
    "# Защита персональных данных клиентов"
   ]
  },
  {
   "cell_type": "markdown",
   "metadata": {},
   "source": [
    "Вам нужно защитить данные клиентов страховой компании «Хоть потоп». Разработайте такой метод преобразования данных, чтобы по ним было сложно восстановить персональную информацию. Обоснуйте корректность его работы.\n",
    "\n",
    "Нужно защитить данные, чтобы при преобразовании качество моделей машинного обучения не ухудшилось. Подбирать наилучшую модель не требуется."
   ]
  },
  {
   "cell_type": "markdown",
   "metadata": {},
   "source": [
    "## Загрузка данных"
   ]
  },
  {
   "cell_type": "code",
   "execution_count": 1,
   "metadata": {},
   "outputs": [],
   "source": [
    "import pandas as pd\n",
    "import numpy as np\n",
    "from sklearn.model_selection import train_test_split\n",
    "from sklearn.linear_model import LinearRegression\n",
    "from sklearn.metrics import r2_score"
   ]
  },
  {
   "cell_type": "markdown",
   "metadata": {},
   "source": [
    "<div class=\"alert alert-block alert-success\">\n",
    "✔️ Здорово, что собрал все импорты в одной ячейке в начале проекта\n",
    "</div>"
   ]
  },
  {
   "cell_type": "code",
   "execution_count": 2,
   "metadata": {},
   "outputs": [],
   "source": [
    "df = pd.read_csv('/datasets/insurance.csv')"
   ]
  },
  {
   "cell_type": "code",
   "execution_count": 3,
   "metadata": {},
   "outputs": [
    {
     "name": "stdout",
     "output_type": "stream",
     "text": [
      "<class 'pandas.core.frame.DataFrame'>\n",
      "RangeIndex: 5000 entries, 0 to 4999\n",
      "Data columns (total 5 columns):\n",
      " #   Column             Non-Null Count  Dtype  \n",
      "---  ------             --------------  -----  \n",
      " 0   Пол                5000 non-null   int64  \n",
      " 1   Возраст            5000 non-null   float64\n",
      " 2   Зарплата           5000 non-null   float64\n",
      " 3   Члены семьи        5000 non-null   int64  \n",
      " 4   Страховые выплаты  5000 non-null   int64  \n",
      "dtypes: float64(2), int64(3)\n",
      "memory usage: 195.4 KB\n"
     ]
    }
   ],
   "source": [
    "df.info()"
   ]
  },
  {
   "cell_type": "code",
   "execution_count": 4,
   "metadata": {},
   "outputs": [
    {
     "name": "stdout",
     "output_type": "stream",
     "text": [
      "<class 'pandas.core.frame.DataFrame'>\n",
      "RangeIndex: 5000 entries, 0 to 4999\n",
      "Data columns (total 5 columns):\n",
      " #   Column             Non-Null Count  Dtype\n",
      "---  ------             --------------  -----\n",
      " 0   Пол                5000 non-null   int64\n",
      " 1   Возраст            5000 non-null   int64\n",
      " 2   Зарплата           5000 non-null   int64\n",
      " 3   Члены семьи        5000 non-null   int64\n",
      " 4   Страховые выплаты  5000 non-null   int64\n",
      "dtypes: int64(5)\n",
      "memory usage: 195.4 KB\n"
     ]
    }
   ],
   "source": [
    "df['Возраст'] = df['Возраст'].astype('int64')\n",
    "df['Зарплата'] = df['Зарплата'].astype('int64')\n",
    "df.info()"
   ]
  },
  {
   "cell_type": "code",
   "execution_count": 5,
   "metadata": {},
   "outputs": [
    {
     "data": {
      "text/html": [
       "<div>\n",
       "<style scoped>\n",
       "    .dataframe tbody tr th:only-of-type {\n",
       "        vertical-align: middle;\n",
       "    }\n",
       "\n",
       "    .dataframe tbody tr th {\n",
       "        vertical-align: top;\n",
       "    }\n",
       "\n",
       "    .dataframe thead th {\n",
       "        text-align: right;\n",
       "    }\n",
       "</style>\n",
       "<table border=\"1\" class=\"dataframe\">\n",
       "  <thead>\n",
       "    <tr style=\"text-align: right;\">\n",
       "      <th></th>\n",
       "      <th>Пол</th>\n",
       "      <th>Возраст</th>\n",
       "      <th>Зарплата</th>\n",
       "      <th>Члены семьи</th>\n",
       "      <th>Страховые выплаты</th>\n",
       "    </tr>\n",
       "  </thead>\n",
       "  <tbody>\n",
       "    <tr>\n",
       "      <th>0</th>\n",
       "      <td>1</td>\n",
       "      <td>41</td>\n",
       "      <td>49600</td>\n",
       "      <td>1</td>\n",
       "      <td>0</td>\n",
       "    </tr>\n",
       "    <tr>\n",
       "      <th>1</th>\n",
       "      <td>0</td>\n",
       "      <td>46</td>\n",
       "      <td>38000</td>\n",
       "      <td>1</td>\n",
       "      <td>1</td>\n",
       "    </tr>\n",
       "    <tr>\n",
       "      <th>2</th>\n",
       "      <td>0</td>\n",
       "      <td>29</td>\n",
       "      <td>21000</td>\n",
       "      <td>0</td>\n",
       "      <td>0</td>\n",
       "    </tr>\n",
       "    <tr>\n",
       "      <th>3</th>\n",
       "      <td>0</td>\n",
       "      <td>21</td>\n",
       "      <td>41700</td>\n",
       "      <td>2</td>\n",
       "      <td>0</td>\n",
       "    </tr>\n",
       "    <tr>\n",
       "      <th>4</th>\n",
       "      <td>1</td>\n",
       "      <td>28</td>\n",
       "      <td>26100</td>\n",
       "      <td>0</td>\n",
       "      <td>0</td>\n",
       "    </tr>\n",
       "  </tbody>\n",
       "</table>\n",
       "</div>"
      ],
      "text/plain": [
       "   Пол  Возраст  Зарплата  Члены семьи  Страховые выплаты\n",
       "0    1       41     49600            1                  0\n",
       "1    0       46     38000            1                  1\n",
       "2    0       29     21000            0                  0\n",
       "3    0       21     41700            2                  0\n",
       "4    1       28     26100            0                  0"
      ]
     },
     "metadata": {},
     "output_type": "display_data"
    },
    {
     "name": "stdout",
     "output_type": "stream",
     "text": [
      "Пол: [1 0]\n",
      "Возраст: [41 46 29 21 28 43 39 25 36 32 38 23 40 34 26 42 27 33 47 30 19 31 22 20\n",
      " 24 18 37 48 45 44 52 49 35 56 65 55 57 54 50 53 51 58 59 60 61 62]\n",
      "Члены семьи: [1 0 2 4 3 5 6]\n",
      "Страховые выплаты: [0 1 2 3 5 4]\n"
     ]
    }
   ],
   "source": [
    "display(df.head())\n",
    "print(f'Пол: {df[\"Пол\"].unique()}')\n",
    "print(f'Возраст: {df[\"Возраст\"].unique()}')\n",
    "#print(f'Зарплата: {df[\"Зарплата\"].unique()}')\n",
    "print(f'Члены семьи: {df[\"Члены семьи\"].unique()}')\n",
    "print(f'Страховые выплаты: {df[\"Страховые выплаты\"].unique()}')"
   ]
  },
  {
   "cell_type": "markdown",
   "metadata": {},
   "source": [
    "### Вывод\n",
    "Загрузил и изучил данные. Изменил тип данных у столбцов \"Зарплата\" и \"Возраст\". Выбросов нет."
   ]
  },
  {
   "cell_type": "markdown",
   "metadata": {},
   "source": [
    "<div class=\"alert alert-block alert-success\">\n",
    "✔️ Данные готовы, можно приступать к основной части задания!\n",
    "</div>"
   ]
  },
  {
   "cell_type": "markdown",
   "metadata": {},
   "source": [
    "## Умножение матриц"
   ]
  },
  {
   "cell_type": "markdown",
   "metadata": {},
   "source": [
    "В этом задании вы можете записывать формулы в *Jupyter Notebook.*\n",
    "\n",
    "Чтобы записать формулу внутри текста, окружите её символами доллара \\\\$; если снаружи —  двойными символами \\\\$\\\\$. Эти формулы записываются на языке вёрстки *LaTeX.* \n",
    "\n",
    "Для примера мы записали формулы линейной регрессии. Можете их скопировать и отредактировать, чтобы решить задачу.\n",
    "\n",
    "Работать в *LaTeX* необязательно."
   ]
  },
  {
   "cell_type": "markdown",
   "metadata": {},
   "source": [
    "Обозначения:\n",
    "\n",
    "- $X$ — матрица признаков (нулевой столбец состоит из единиц)\n",
    "\n",
    "- $y$ — вектор целевого признака\n",
    "\n",
    "- $P$ — матрица, на которую умножаются признаки\n",
    "\n",
    "- $w$ — вектор весов линейной регрессии (нулевой элемент равен сдвигу)"
   ]
  },
  {
   "cell_type": "markdown",
   "metadata": {},
   "source": [
    "Предсказания: (изменил $a$ на $\\hat{y}$, если так можно, т.к. для меня это удобнее)\n",
    "\n",
    "\n",
    "$$\n",
    "\\hat{y} = Xw\n",
    "$$\n",
    "\n",
    "\n",
    "Задача обучения:\n",
    "\n",
    "$$\n",
    "w = \\arg\\min_w MSE(Xw, y)\n",
    "$$\n",
    "\n",
    "Формула обучения:\n",
    "\n",
    "$$\n",
    "w = (X^T X)^{-1} X^T y\n",
    "$$"
   ]
  },
  {
   "cell_type": "markdown",
   "metadata": {},
   "source": [
    "**Вопрос:** Признаки умножают на обратимую матрицу. Изменится ли качество линейной регрессии?\n",
    "\n",
    "**Ответ:** Нет.\n",
    "\n",
    "**Обоснование:** \n",
    "\n",
    "Нужно доказать, что $\\hat{y}_z$ = $\\hat{y}_x$, \n",
    "\n",
    "где $\\hat{y}_z = Zw_z$, а $\\hat{y}_x = Xw_x$\n",
    "\n",
    "Необходимые формулы для преобразования: \n",
    "* $w_z = (Z^T Z)^{-1} Z^T y$ \n",
    "* $Z = XP$\n",
    "* $y_x = Xw_x = X(X^TX)^{-1} X^T y $\n",
    "* $(XP)^{-1} = P^{-1}X^{-1}$\n",
    "* $PP^{-1} = E$\n",
    "* $(XP)^T = P^T X^T$\n",
    "\n",
    "$\\hat{y}_z = Zw_z$ = $Z(Z^TZ)^{-1}Z^Ty = XP((XP)^T XP)^{-1} (XP)^Ty = XP(XP)^{-1} ((XP)^T)^{-1} (XP)^Ty = XP P^{-1}X^{-1}((XP)^T)^{-1} (XP)^Ty = XEX^{-1}(X^T)^{-1}(P^T)^{-1} P^TX^Ty = XX^{-1}(X^T)^{-1}EX^Ty = X(X^TX)^{-1}X^Ty = \\hat{y}_x$\n",
    "\n",
    "Значение предсказания $\\hat{y}$ не меняется, если умножать матрицу признаков на обратимую матрицу."
   ]
  },
  {
   "cell_type": "markdown",
   "metadata": {},
   "source": [
    "<div class=\"alert alert-block alert-danger\">\n",
    "❌ $X^{-1}$ и $(X^T)^{-1}$  существуют только для обратных матриц, так что в общем случае это неверно\n",
    "</div>"
   ]
  },
  {
   "cell_type": "markdown",
   "metadata": {},
   "source": [
    "<div class=\"alert alert-block alert-success\">\n",
    "✔️ Вопрос со звёздочкой: а что будет, если домножить $X$ на $X^{-1}$? Естественно, в допущении, что $X$ квадратная и обратная к ней определена. Останутся ли веса $w$ такими же или изменятся?\n",
    "</div>"
   ]
  },
  {
   "cell_type": "markdown",
   "metadata": {},
   "source": [
    "<div class=\"alert alert-block alert-info\">\n",
    "<b>Комментарий студента:</b> \n",
    "Использовал другое доказательство\n",
    "</div>"
   ]
  },
  {
   "cell_type": "markdown",
   "metadata": {},
   "source": [
    "В общем виде $ y = Xw + w_0 $\n",
    "\n",
    "$ y = Z\\hat{w} + \\hat{w_0}$, где $Z = XP$\n",
    "\n",
    "Нужно доказать, что $w_0 = y - xw == \\hat{w_0} = y - XP\\hat{w}$\n",
    "\n",
    "$\\hat{w} = (P^T X^T X P)^{-1} P^T X^T y = (X^T XP)^{-1} (P^T)^{-1} P^T X^T y =P^{-1}(X^TX)^{-1} (P^T)^{-1} P^T X^T y = P^{-1}w$\n",
    "\n",
    "$y - Xw = y -XP\\hat{w}$\n",
    "\n",
    "$Xw = XP\\hat{w}$\n",
    "\n",
    "$Xw = XPP^{-1} w $\n",
    "\n",
    "$Xw = Xw $\n",
    "\n",
    "$ => w_0= \\hat{w_0}$"
   ]
  },
  {
   "cell_type": "markdown",
   "metadata": {},
   "source": [
    "<div class=\"alert alert-block alert-success\">\n",
    "✔️ Ревью №2: Свободный член можно не выносить в отдельное слагаемое\n",
    "</div>"
   ]
  },
  {
   "cell_type": "markdown",
   "metadata": {},
   "source": [
    "<div class=\"alert alert-block alert-success\">\n",
    "✔️ Ревью №2: Доказательство проведено правильно\n",
    "</div>"
   ]
  },
  {
   "cell_type": "markdown",
   "metadata": {},
   "source": [
    "<div class=\"alert alert-block alert-info\">\n",
    "<b>Комментарий студента:</b> \n",
    "Насчет вопроса.\n",
    "</div>"
   ]
  },
  {
   "cell_type": "markdown",
   "metadata": {},
   "source": [
    "Как я понимаю, если подставить $ XX^{-1}$ в общую формулу $w = (X^T X)^{-1} X^T y$, то $w = y$. Т.е веса изменятся."
   ]
  },
  {
   "cell_type": "markdown",
   "metadata": {},
   "source": [
    " <div class=\"alert alert-block alert-success\">\n",
    "✔️ Ревью №2: Верно! Вектор весов будет равен вектору ответов\n",
    "</div>"
   ]
  },
  {
   "cell_type": "markdown",
   "metadata": {},
   "source": [
    "## Алгоритм преобразования"
   ]
  },
  {
   "cell_type": "markdown",
   "metadata": {},
   "source": [
    "**Алгоритм**\n",
    "\n",
    "Нужно матрицу признаков $X$ умножить на обратимую матрицу $Y$. Обратимая матрица будет квадратной размерностью $n*n$, где $n$ - количество признаков. Это нужно сделать для того, чтобы матрица преобразованных признаков $Z$ имела ту же размерность, что и исходная матрица признаков. \n",
    "\n",
    "Обратимая матрица будет сгенерирована случайно.\n",
    "\n",
    "После этого нужно проверить матрицу на обратимость. Матрица обратима тогда и только тогда, когда она невырождена (определитель не равен 0) и квадратная.\n",
    "\n",
    "После этого получить матрицу преобразованных признаков $Z$, где $Z = XY$\n",
    "\n",
    "Потом нужно применить алгоритм на преобразованных признаках и посчитать метрику $R^2$.\n",
    "\n",
    "Также нужно проверить, что качество линейной регрессии не отличается до и после преобразования."
   ]
  },
  {
   "cell_type": "markdown",
   "metadata": {},
   "source": [
    "**Обоснование**\n",
    "\n",
    "Не знаю, что тут объяснить ("
   ]
  },
  {
   "cell_type": "markdown",
   "metadata": {},
   "source": [
    "<div class=\"alert alert-block alert-success\">\n",
    "✔️ Алгоритм правильный, здорово, что не забыл про проверку на обратимость, крайне важный пункт\n",
    "</div>"
   ]
  },
  {
   "cell_type": "markdown",
   "metadata": {},
   "source": [
    "<div class=\"alert alert-block alert-success\">\n",
    "✔️ Обоснования выше вполне достаточно: предсказания не изменятся, данные зашифрованы, значит, задача выполнена)\n",
    "</div>"
   ]
  },
  {
   "cell_type": "markdown",
   "metadata": {},
   "source": [
    "## Проверка алгоритма"
   ]
  },
  {
   "cell_type": "code",
   "execution_count": 6,
   "metadata": {},
   "outputs": [],
   "source": [
    "features = df.drop('Страховые выплаты',axis=1)\n",
    "target = df['Страховые выплаты']"
   ]
  },
  {
   "cell_type": "code",
   "execution_count": 7,
   "metadata": {},
   "outputs": [
    {
     "data": {
      "text/html": [
       "<div>\n",
       "<style scoped>\n",
       "    .dataframe tbody tr th:only-of-type {\n",
       "        vertical-align: middle;\n",
       "    }\n",
       "\n",
       "    .dataframe tbody tr th {\n",
       "        vertical-align: top;\n",
       "    }\n",
       "\n",
       "    .dataframe thead th {\n",
       "        text-align: right;\n",
       "    }\n",
       "</style>\n",
       "<table border=\"1\" class=\"dataframe\">\n",
       "  <thead>\n",
       "    <tr style=\"text-align: right;\">\n",
       "      <th></th>\n",
       "      <th>Пол</th>\n",
       "      <th>Возраст</th>\n",
       "      <th>Зарплата</th>\n",
       "      <th>Члены семьи</th>\n",
       "    </tr>\n",
       "  </thead>\n",
       "  <tbody>\n",
       "    <tr>\n",
       "      <th>0</th>\n",
       "      <td>1</td>\n",
       "      <td>41</td>\n",
       "      <td>49600</td>\n",
       "      <td>1</td>\n",
       "    </tr>\n",
       "    <tr>\n",
       "      <th>1</th>\n",
       "      <td>0</td>\n",
       "      <td>46</td>\n",
       "      <td>38000</td>\n",
       "      <td>1</td>\n",
       "    </tr>\n",
       "    <tr>\n",
       "      <th>2</th>\n",
       "      <td>0</td>\n",
       "      <td>29</td>\n",
       "      <td>21000</td>\n",
       "      <td>0</td>\n",
       "    </tr>\n",
       "    <tr>\n",
       "      <th>3</th>\n",
       "      <td>0</td>\n",
       "      <td>21</td>\n",
       "      <td>41700</td>\n",
       "      <td>2</td>\n",
       "    </tr>\n",
       "    <tr>\n",
       "      <th>4</th>\n",
       "      <td>1</td>\n",
       "      <td>28</td>\n",
       "      <td>26100</td>\n",
       "      <td>0</td>\n",
       "    </tr>\n",
       "  </tbody>\n",
       "</table>\n",
       "</div>"
      ],
      "text/plain": [
       "   Пол  Возраст  Зарплата  Члены семьи\n",
       "0    1       41     49600            1\n",
       "1    0       46     38000            1\n",
       "2    0       29     21000            0\n",
       "3    0       21     41700            2\n",
       "4    1       28     26100            0"
      ]
     },
     "metadata": {},
     "output_type": "display_data"
    },
    {
     "data": {
      "text/html": [
       "<div>\n",
       "<style scoped>\n",
       "    .dataframe tbody tr th:only-of-type {\n",
       "        vertical-align: middle;\n",
       "    }\n",
       "\n",
       "    .dataframe tbody tr th {\n",
       "        vertical-align: top;\n",
       "    }\n",
       "\n",
       "    .dataframe thead th {\n",
       "        text-align: right;\n",
       "    }\n",
       "</style>\n",
       "<table border=\"1\" class=\"dataframe\">\n",
       "  <thead>\n",
       "    <tr style=\"text-align: right;\">\n",
       "      <th></th>\n",
       "      <th>0</th>\n",
       "      <th>1</th>\n",
       "      <th>2</th>\n",
       "      <th>3</th>\n",
       "    </tr>\n",
       "  </thead>\n",
       "  <tbody>\n",
       "    <tr>\n",
       "      <th>0</th>\n",
       "      <td>297815</td>\n",
       "      <td>397177</td>\n",
       "      <td>198777</td>\n",
       "      <td>148892</td>\n",
       "    </tr>\n",
       "    <tr>\n",
       "      <th>1</th>\n",
       "      <td>228232</td>\n",
       "      <td>304420</td>\n",
       "      <td>152419</td>\n",
       "      <td>114100</td>\n",
       "    </tr>\n",
       "    <tr>\n",
       "      <th>2</th>\n",
       "      <td>126145</td>\n",
       "      <td>168261</td>\n",
       "      <td>84261</td>\n",
       "      <td>63058</td>\n",
       "    </tr>\n",
       "    <tr>\n",
       "      <th>3</th>\n",
       "      <td>250309</td>\n",
       "      <td>333801</td>\n",
       "      <td>166999</td>\n",
       "      <td>125158</td>\n",
       "    </tr>\n",
       "    <tr>\n",
       "      <th>4</th>\n",
       "      <td>156748</td>\n",
       "      <td>209054</td>\n",
       "      <td>104655</td>\n",
       "      <td>78358</td>\n",
       "    </tr>\n",
       "  </tbody>\n",
       "</table>\n",
       "</div>"
      ],
      "text/plain": [
       "        0       1       2       3\n",
       "0  297815  397177  198777  148892\n",
       "1  228232  304420  152419  114100\n",
       "2  126145  168261   84261   63058\n",
       "3  250309  333801  166999  125158\n",
       "4  156748  209054  104655   78358"
      ]
     },
     "metadata": {},
     "output_type": "display_data"
    },
    {
     "data": {
      "text/plain": [
       "(5000, 4)"
      ]
     },
     "metadata": {},
     "output_type": "display_data"
    },
    {
     "data": {
      "text/plain": [
       "(5000, 4)"
      ]
     },
     "metadata": {},
     "output_type": "display_data"
    }
   ],
   "source": [
    "#создание матрицы, проверка на обратимость, получение матрицы преобразованных признаков \n",
    "n = features.shape[1]\n",
    "\n",
    "random_square_matrix = np.random.randint(1, 10, (n,n))\n",
    "det = np.linalg.det(random_square_matrix)\n",
    "\n",
    "if det==0:\n",
    "    random_square_matrix = np.random.randint(1, 10, (n,n))\n",
    "\n",
    "new_features = features @ random_square_matrix\n",
    "\n",
    "display(features.head())\n",
    "display(new_features.head())\n",
    "\n",
    "display(features.shape)\n",
    "display(new_features.shape)"
   ]
  },
  {
   "cell_type": "code",
   "execution_count": 8,
   "metadata": {},
   "outputs": [
    {
     "name": "stdout",
     "output_type": "stream",
     "text": [
      "R^2 = 0.4352275684083349\n",
      "Коэф линейной регрессии: [ 1.79258370e-02  3.57228278e-02 -5.46002729e-07 -1.26186599e-02]\n"
     ]
    }
   ],
   "source": [
    "#до преобразования признаков \n",
    "features_train, features_test, target_train, target_test = train_test_split(\n",
    "    features, target, test_size=0.25, random_state = 12345)\n",
    "\n",
    "model_old_features = LinearRegression()\n",
    "model_old_features.fit(features_train, target_train)\n",
    "predictions_1 = model_old_features.predict(features_test)\n",
    "r2_old = r2_score(target_test, predictions_1)\n",
    "print(f'R^2 = {r2_old}')\n",
    "print(f'Коэф линейной регрессии: {model_old_features.coef_}')"
   ]
  },
  {
   "cell_type": "code",
   "execution_count": 9,
   "metadata": {},
   "outputs": [
    {
     "name": "stdout",
     "output_type": "stream",
     "text": [
      "R^2 = 0.43522756840835886\n",
      "Коэф линейной регрессии: [ 0.00133467 -0.00305633  0.00719922 -0.00411826]\n"
     ]
    }
   ],
   "source": [
    "#после преобразования признаков\n",
    "features_train_new, features_test_new, target_train, target_test = train_test_split(\n",
    "    new_features, target, test_size=0.25, random_state = 12345)\n",
    "\n",
    "model_new_features = LinearRegression()\n",
    "model_new_features.fit(features_train_new, target_train)\n",
    "predictions_2 = model_new_features.predict(features_test_new)\n",
    "r2_new = r2_score(target_test, predictions_2)\n",
    "print(f'R^2 = {r2_new}')\n",
    "print(f'Коэф линейной регрессии: {model_new_features.coef_}')"
   ]
  },
  {
   "cell_type": "markdown",
   "metadata": {},
   "source": [
    "### Вывод\n",
    "Как видно, качество линейной регрессии не отличается до и после преобразования признаков. "
   ]
  },
  {
   "cell_type": "markdown",
   "metadata": {},
   "source": [
    "<div class=\"alert alert-block alert-success\">\n",
    "✔️ Здорово, когда теория и практика согласуются, молодец!\n",
    "</div>"
   ]
  },
  {
   "cell_type": "markdown",
   "metadata": {},
   "source": [
    "## Чек-лист проверки"
   ]
  },
  {
   "cell_type": "markdown",
   "metadata": {},
   "source": [
    "Поставьте 'x' в выполненных пунктах. Далее нажмите Shift+Enter."
   ]
  },
  {
   "cell_type": "markdown",
   "metadata": {},
   "source": [
    "- [x]  Jupyter Notebook открыт\n",
    "- [ ]  Весь код выполняется без ошибок\n",
    "- [ ]  Ячейки с кодом расположены в порядке исполнения\n",
    "- [ ]  Выполнен шаг 1: данные загружены\n",
    "- [ ]  Выполнен шаг 2: получен ответ на вопрос об умножении матриц\n",
    "    - [ ]  Указан правильный вариант ответа\n",
    "    - [ ]  Вариант обоснован\n",
    "- [ ]  Выполнен шаг 3: предложен алгоритм преобразования\n",
    "    - [ ]  Алгоритм описан\n",
    "    - [ ]  Алгоритм обоснован\n",
    "- [ ]  Выполнен шаг 4: алгоритм проверен\n",
    "    - [ ]  Алгоритм реализован\n",
    "    - [ ]  Проведено сравнение качества моделей до и после преобразования"
   ]
  },
  {
   "cell_type": "markdown",
   "metadata": {},
   "source": [
    "<font color='blue'><b>Итоговый комментарий ревьюера</b></font>\\\n",
    "<font color='green'>Сильный проект, видно, что ты можешь много показать. Несколько неточностей в доказательстве, но сам алгоритм имплементировал правильно, в остальном тоже всё верно. \n",
    "\n",
    "<font color='blue'>Что можно сделать лучше:</font>\n",
    "<ul><font color='red'>1) Поправить доказательство</font></ul>\n",
    "    \n",
    "<font color='blue'><b>Спасибо, жду твоих исправлений и комментариев!</b></font>"
   ]
  },
  {
   "cell_type": "markdown",
   "metadata": {},
   "source": [
    "<div class=\"alert alert-block alert-success\">\n",
    "✔️ Ревью №2: Cпасибо за внесённые правки, работа стала ещё лучше! Перевожу твой проект в статус \"зачтено\" и желаю дальнейших успехов в освоении курса\n",
    "</div>"
   ]
  },
  {
   "cell_type": "code",
   "execution_count": null,
   "metadata": {},
   "outputs": [],
   "source": []
  }
 ],
 "metadata": {
  "ExecuteTimeLog": [
   {
    "duration": 381,
    "start_time": "2022-03-20T10:58:47.243Z"
   },
   {
    "duration": 13,
    "start_time": "2022-03-20T10:59:16.792Z"
   },
   {
    "duration": 23,
    "start_time": "2022-03-20T10:59:21.997Z"
   },
   {
    "duration": 13,
    "start_time": "2022-03-20T11:00:05.571Z"
   },
   {
    "duration": 13,
    "start_time": "2022-03-20T11:00:07.724Z"
   },
   {
    "duration": 13,
    "start_time": "2022-03-20T11:01:04.923Z"
   },
   {
    "duration": 11,
    "start_time": "2022-03-20T11:01:09.844Z"
   },
   {
    "duration": 11,
    "start_time": "2022-03-20T11:01:17.274Z"
   },
   {
    "duration": 83,
    "start_time": "2022-03-20T11:01:56.724Z"
   },
   {
    "duration": 92,
    "start_time": "2022-03-20T11:02:02.311Z"
   },
   {
    "duration": 12,
    "start_time": "2022-03-20T11:02:20.479Z"
   },
   {
    "duration": 17,
    "start_time": "2022-03-20T11:03:13.868Z"
   },
   {
    "duration": 11,
    "start_time": "2022-03-20T11:03:25.708Z"
   },
   {
    "duration": 11,
    "start_time": "2022-03-20T11:04:05.103Z"
   },
   {
    "duration": 13,
    "start_time": "2022-03-20T11:07:48.004Z"
   },
   {
    "duration": 12,
    "start_time": "2022-03-20T11:07:57.467Z"
   },
   {
    "duration": 10,
    "start_time": "2022-03-20T11:08:01.244Z"
   },
   {
    "duration": 878,
    "start_time": "2022-03-20T13:11:57.024Z"
   },
   {
    "duration": 4,
    "start_time": "2022-03-20T13:18:19.614Z"
   },
   {
    "duration": 4,
    "start_time": "2022-03-20T13:19:45.684Z"
   },
   {
    "duration": 6,
    "start_time": "2022-03-20T13:19:51.213Z"
   },
   {
    "duration": 4,
    "start_time": "2022-03-20T13:21:29.189Z"
   },
   {
    "duration": 6,
    "start_time": "2022-03-20T13:26:04.278Z"
   },
   {
    "duration": 6,
    "start_time": "2022-03-20T13:26:34.872Z"
   },
   {
    "duration": 4,
    "start_time": "2022-03-20T13:31:31.564Z"
   },
   {
    "duration": 6,
    "start_time": "2022-03-20T13:31:34.006Z"
   },
   {
    "duration": 4,
    "start_time": "2022-03-20T13:31:35.595Z"
   },
   {
    "duration": 5,
    "start_time": "2022-03-20T13:31:36.877Z"
   },
   {
    "duration": 4,
    "start_time": "2022-03-20T13:31:38.335Z"
   },
   {
    "duration": 4,
    "start_time": "2022-03-20T13:31:39.562Z"
   },
   {
    "duration": 5,
    "start_time": "2022-03-20T13:31:41.212Z"
   },
   {
    "duration": 9,
    "start_time": "2022-03-20T13:41:26.201Z"
   },
   {
    "duration": 7,
    "start_time": "2022-03-20T13:41:31.378Z"
   },
   {
    "duration": 6,
    "start_time": "2022-03-20T13:41:35.485Z"
   },
   {
    "duration": 13,
    "start_time": "2022-03-20T13:43:02.298Z"
   },
   {
    "duration": 14,
    "start_time": "2022-03-20T13:43:06.381Z"
   },
   {
    "duration": 14,
    "start_time": "2022-03-20T13:43:36.348Z"
   },
   {
    "duration": 15,
    "start_time": "2022-03-20T13:51:14.919Z"
   },
   {
    "duration": 10,
    "start_time": "2022-03-20T13:52:40.248Z"
   },
   {
    "duration": 11,
    "start_time": "2022-03-20T13:54:09.923Z"
   },
   {
    "duration": 11,
    "start_time": "2022-03-20T13:54:23.284Z"
   },
   {
    "duration": 11,
    "start_time": "2022-03-20T13:56:17.296Z"
   },
   {
    "duration": 11,
    "start_time": "2022-03-20T13:56:18.170Z"
   },
   {
    "duration": 1204,
    "start_time": "2022-03-20T13:57:04.872Z"
   },
   {
    "duration": 13,
    "start_time": "2022-03-20T13:57:06.077Z"
   },
   {
    "duration": 10,
    "start_time": "2022-03-20T13:57:06.092Z"
   },
   {
    "duration": 12,
    "start_time": "2022-03-20T13:57:06.105Z"
   },
   {
    "duration": 16,
    "start_time": "2022-03-20T13:57:06.118Z"
   },
   {
    "duration": 4,
    "start_time": "2022-03-20T13:57:06.136Z"
   },
   {
    "duration": 16,
    "start_time": "2022-03-20T13:57:06.141Z"
   },
   {
    "duration": 10,
    "start_time": "2022-03-20T13:57:06.159Z"
   },
   {
    "duration": 47,
    "start_time": "2022-03-20T13:57:06.171Z"
   },
   {
    "duration": 1593,
    "start_time": "2022-03-20T23:36:49.655Z"
   },
   {
    "duration": 17,
    "start_time": "2022-03-20T23:36:51.251Z"
   },
   {
    "duration": 16,
    "start_time": "2022-03-20T23:36:51.270Z"
   },
   {
    "duration": 17,
    "start_time": "2022-03-20T23:36:51.289Z"
   },
   {
    "duration": 23,
    "start_time": "2022-03-20T23:36:51.308Z"
   },
   {
    "duration": 6,
    "start_time": "2022-03-20T23:36:51.367Z"
   },
   {
    "duration": 22,
    "start_time": "2022-03-20T23:36:51.375Z"
   },
   {
    "duration": 16,
    "start_time": "2022-03-20T23:36:51.399Z"
   },
   {
    "duration": 55,
    "start_time": "2022-03-20T23:36:51.417Z"
   }
  ],
  "kernelspec": {
   "display_name": "Python 3 (ipykernel)",
   "language": "python",
   "name": "python3"
  },
  "language_info": {
   "codemirror_mode": {
    "name": "ipython",
    "version": 3
   },
   "file_extension": ".py",
   "mimetype": "text/x-python",
   "name": "python",
   "nbconvert_exporter": "python",
   "pygments_lexer": "ipython3",
   "version": "3.9.5"
  },
  "toc": {
   "base_numbering": 1,
   "nav_menu": {},
   "number_sections": true,
   "sideBar": true,
   "skip_h1_title": true,
   "title_cell": "Содержание",
   "title_sidebar": "Contents",
   "toc_cell": true,
   "toc_position": {
    "height": "calc(100% - 180px)",
    "left": "10px",
    "top": "150px",
    "width": "165px"
   },
   "toc_section_display": true,
   "toc_window_display": true
  }
 },
 "nbformat": 4,
 "nbformat_minor": 2
}
