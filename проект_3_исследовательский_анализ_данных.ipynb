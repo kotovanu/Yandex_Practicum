{
 "cells": [
  {
   "cell_type": "markdown",
   "metadata": {},
   "source": [
    "<div style=\"border:solid lightblue 3px; padding: 20px\">\n",
    "<b>Мариус, привет!</b>\n",
    "\n",
    "Меня зовут Виталий Мехоношин, и я буду проверять твой проект. Предлагаю общаться на «ты» 😉\n",
    "\n",
    "Моя основная цель — не указать на совершенные тобою ошибки, а поделиться своим опытом и помочь тебе стать аналитиком данных. Тобой проделана большая работа над проектом, давай сделаем его еще лучше. Ниже ты найдешь мои комментарии. Есть несколько правил:<br>\n",
    "- <b>Пожалуйста, не перемещай, не изменяй и не удаляй комментарии.</b>\n",
    "- У комментариев могут быть приписки <b>V2, V3</b> и т.д., которые соответствуют версии проверки. \n",
    "- Еще обрати внимание на цветовую разметку:\n",
    "\n",
    "<div class=\"alert alert-danger\">\n",
    "<b>❌ Комментарий ревьюера:</b> \n",
    "Комментарии такого цвета необходимо исправить, без их отработки проект не будет принят. \n",
    "</div>\n",
    "\n",
    "<div class=\"alert alert-warning\">\n",
    "<b>⚠️ Комментарий ревьюера:</b> \n",
    "На комментарии такого цвета нужно обязательно обратить внимание. Их не должно быть много.\n",
    "</div>\n",
    "\n",
    "<div class=\"alert alert-success\">\n",
    "<b>✅ Комментарий ревьюера:</b> \n",
    "Комментарии такого цвета будут содержать лайфхаки, которые смогут улучшить твой верный код, их необязательно исправлять.\n",
    "</div>\n",
    "\n",
    "Предлагаю работать над проектом в диалоге: если ты хочешь ответить на мои комментарии — пиши об этом. Мне будет легче отследить изменения, если ты выделишь свои комментарии вот так:\n",
    "<div class=\"alert alert-info\"> <b>Комментарий студента:</b> Например, вот так.</div>\n",
    "\n",
    "Всё это поможет выполнить повторную проверку твоего проекта оперативнее."
   ]
  },
  {
   "cell_type": "markdown",
   "metadata": {},
   "source": [
    "<div style=\"border:solid lightblue 3px; padding: 20px\">\n",
    "<b>Общий комментарий ревьюера:</b>\n",
    "\n",
    "У тебя хорошая работа, но есть ряд моментов, над которыми нужно поработать:\n",
    "1. Визуализация. Обрати внимание на комментарии, где то не хватает единиц измерения, где то подписей и заголовков.\n",
    "2. Выделение центральной зоны. Увидишь соответствующий комментарий.\n",
    "3. Обработка пропусков.\n",
    "4. Общий вывод.\n",
    "    \n",
    "Буду ждать твоих исправлений😊\n",
    "</div>"
   ]
  },
  {
   "cell_type": "markdown",
   "metadata": {},
   "source": [
    "<div class=\"alert alert-info\"> <b>Комментарий студента:</b> Здравствуйте! Спасибо за комментарии.</div>"
   ]
  },
  {
   "cell_type": "markdown",
   "metadata": {},
   "source": [
    "<div style=\"border:solid lightblue 3px; padding: 20px\">\n",
    "<b>Общий комментарий ревьюера V2:</b>\n",
    "\n",
    "осталось поработать над обработкой пропусков и выделеним центральной зоны😊\n",
    "</div>"
   ]
  },
  {
   "cell_type": "markdown",
   "metadata": {},
   "source": [
    "<div style=\"border:solid lightblue 3px; padding: 20px\">\n",
    "<b>Общий комментарий ревьюера V3:</b>\n",
    "\n",
    "Работа по комментариям успешно произведена, проект принят, удачи на следующих спринтах😊\n",
    "</div>"
   ]
  },
  {
   "cell_type": "markdown",
   "metadata": {
    "toc": true
   },
   "source": [
    "<h1>Содержание<span class=\"tocSkip\"></span></h1>\n",
    "<div class=\"toc\"><ul class=\"toc-item\"><li><span><a href=\"#Изучение-данных-из-файла\" data-toc-modified-id=\"Изучение-данных-из-файла-1\"><span class=\"toc-item-num\">1&nbsp;&nbsp;</span>Изучение данных из файла</a></span><ul class=\"toc-item\"><li><span><a href=\"#Вывод\" data-toc-modified-id=\"Вывод-1.1\"><span class=\"toc-item-num\">1.1&nbsp;&nbsp;</span>Вывод</a></span></li></ul></li><li><span><a href=\"#Предобработка-данных\" data-toc-modified-id=\"Предобработка-данных-2\"><span class=\"toc-item-num\">2&nbsp;&nbsp;</span>Предобработка данных</a></span></li><li><span><a href=\"#Расчёты-и-добавление-результатов-в-таблицу\" data-toc-modified-id=\"Расчёты-и-добавление-результатов-в-таблицу-3\"><span class=\"toc-item-num\">3&nbsp;&nbsp;</span>Расчёты и добавление результатов в таблицу</a></span></li><li><span><a href=\"#Исследовательский-анализ-данных\" data-toc-modified-id=\"Исследовательский-анализ-данных-4\"><span class=\"toc-item-num\">4&nbsp;&nbsp;</span>Исследовательский анализ данных</a></span></li><li><span><a href=\"#Общий-вывод\" data-toc-modified-id=\"Общий-вывод-5\"><span class=\"toc-item-num\">5&nbsp;&nbsp;</span>Общий вывод</a></span></li><li><span><a href=\"#Чек-лист-готовности-проекта\" data-toc-modified-id=\"Чек-лист-готовности-проекта-6\"><span class=\"toc-item-num\">6&nbsp;&nbsp;</span>Чек-лист готовности проекта</a></span></li></ul></div>"
   ]
  },
  {
   "cell_type": "markdown",
   "metadata": {},
   "source": [
    "# Исследование объявлений о продаже квартир\n",
    "\n",
    "В вашем распоряжении данные сервиса Яндекс.Недвижимость — архив объявлений о продаже квартир в Санкт-Петербурге и соседних населённых пунктах за несколько лет. Нужно научиться определять рыночную стоимость объектов недвижимости. Ваша задача — установить параметры. Это позволит построить автоматизированную систему: она отследит аномалии и мошенническую деятельность. \n",
    "\n",
    "По каждой квартире на продажу доступны два вида данных. Первые вписаны пользователем, вторые получены автоматически на основе картографических данных. Например, расстояние до центра, аэропорта, ближайшего парка и водоёма. "
   ]
  },
  {
   "cell_type": "markdown",
   "metadata": {},
   "source": [
    "## Изучение данных из файла"
   ]
  },
  {
   "cell_type": "code",
   "execution_count": 1,
   "metadata": {
    "scrolled": true
   },
   "outputs": [
    {
     "name": "stdout",
     "output_type": "stream",
     "text": [
      "Index(['total_images', 'last_price', 'total_area', 'first_day_exposition',\n",
      "       'rooms', 'ceiling_height', 'floors_total', 'living_area', 'floor',\n",
      "       'is_apartment', 'studio', 'open_plan', 'kitchen_area', 'balcony',\n",
      "       'locality_name', 'airports_nearest', 'cityCenters_nearest',\n",
      "       'parks_around3000', 'parks_nearest', 'ponds_around3000',\n",
      "       'ponds_nearest', 'days_exposition'],\n",
      "      dtype='object')\n"
     ]
    },
    {
     "data": {
      "text/html": [
       "<div>\n",
       "<style scoped>\n",
       "    .dataframe tbody tr th:only-of-type {\n",
       "        vertical-align: middle;\n",
       "    }\n",
       "\n",
       "    .dataframe tbody tr th {\n",
       "        vertical-align: top;\n",
       "    }\n",
       "\n",
       "    .dataframe thead th {\n",
       "        text-align: right;\n",
       "    }\n",
       "</style>\n",
       "<table border=\"1\" class=\"dataframe\">\n",
       "  <thead>\n",
       "    <tr style=\"text-align: right;\">\n",
       "      <th></th>\n",
       "      <th>total_images</th>\n",
       "      <th>last_price</th>\n",
       "      <th>total_area</th>\n",
       "      <th>first_day_exposition</th>\n",
       "      <th>rooms</th>\n",
       "      <th>ceiling_height</th>\n",
       "      <th>floors_total</th>\n",
       "      <th>living_area</th>\n",
       "      <th>floor</th>\n",
       "      <th>is_apartment</th>\n",
       "      <th>...</th>\n",
       "      <th>kitchen_area</th>\n",
       "      <th>balcony</th>\n",
       "      <th>locality_name</th>\n",
       "      <th>airports_nearest</th>\n",
       "      <th>cityCenters_nearest</th>\n",
       "      <th>parks_around3000</th>\n",
       "      <th>parks_nearest</th>\n",
       "      <th>ponds_around3000</th>\n",
       "      <th>ponds_nearest</th>\n",
       "      <th>days_exposition</th>\n",
       "    </tr>\n",
       "  </thead>\n",
       "  <tbody>\n",
       "    <tr>\n",
       "      <td>0</td>\n",
       "      <td>20</td>\n",
       "      <td>13,000,000.00</td>\n",
       "      <td>108.00</td>\n",
       "      <td>2019-03-07T00:00:00</td>\n",
       "      <td>3</td>\n",
       "      <td>2.70</td>\n",
       "      <td>16.00</td>\n",
       "      <td>51.00</td>\n",
       "      <td>8</td>\n",
       "      <td>NaN</td>\n",
       "      <td>...</td>\n",
       "      <td>25.00</td>\n",
       "      <td>nan</td>\n",
       "      <td>Санкт-Петербург</td>\n",
       "      <td>18,863.00</td>\n",
       "      <td>16,028.00</td>\n",
       "      <td>1.00</td>\n",
       "      <td>482.00</td>\n",
       "      <td>2.00</td>\n",
       "      <td>755.00</td>\n",
       "      <td>nan</td>\n",
       "    </tr>\n",
       "    <tr>\n",
       "      <td>1</td>\n",
       "      <td>7</td>\n",
       "      <td>3,350,000.00</td>\n",
       "      <td>40.40</td>\n",
       "      <td>2018-12-04T00:00:00</td>\n",
       "      <td>1</td>\n",
       "      <td>nan</td>\n",
       "      <td>11.00</td>\n",
       "      <td>18.60</td>\n",
       "      <td>1</td>\n",
       "      <td>NaN</td>\n",
       "      <td>...</td>\n",
       "      <td>11.00</td>\n",
       "      <td>2.00</td>\n",
       "      <td>посёлок Шушары</td>\n",
       "      <td>12,817.00</td>\n",
       "      <td>18,603.00</td>\n",
       "      <td>0.00</td>\n",
       "      <td>nan</td>\n",
       "      <td>0.00</td>\n",
       "      <td>nan</td>\n",
       "      <td>81.00</td>\n",
       "    </tr>\n",
       "    <tr>\n",
       "      <td>2</td>\n",
       "      <td>10</td>\n",
       "      <td>5,196,000.00</td>\n",
       "      <td>56.00</td>\n",
       "      <td>2015-08-20T00:00:00</td>\n",
       "      <td>2</td>\n",
       "      <td>nan</td>\n",
       "      <td>5.00</td>\n",
       "      <td>34.30</td>\n",
       "      <td>4</td>\n",
       "      <td>NaN</td>\n",
       "      <td>...</td>\n",
       "      <td>8.30</td>\n",
       "      <td>0.00</td>\n",
       "      <td>Санкт-Петербург</td>\n",
       "      <td>21,741.00</td>\n",
       "      <td>13,933.00</td>\n",
       "      <td>1.00</td>\n",
       "      <td>90.00</td>\n",
       "      <td>2.00</td>\n",
       "      <td>574.00</td>\n",
       "      <td>558.00</td>\n",
       "    </tr>\n",
       "    <tr>\n",
       "      <td>3</td>\n",
       "      <td>0</td>\n",
       "      <td>64,900,000.00</td>\n",
       "      <td>159.00</td>\n",
       "      <td>2015-07-24T00:00:00</td>\n",
       "      <td>3</td>\n",
       "      <td>nan</td>\n",
       "      <td>14.00</td>\n",
       "      <td>nan</td>\n",
       "      <td>9</td>\n",
       "      <td>NaN</td>\n",
       "      <td>...</td>\n",
       "      <td>nan</td>\n",
       "      <td>0.00</td>\n",
       "      <td>Санкт-Петербург</td>\n",
       "      <td>28,098.00</td>\n",
       "      <td>6,800.00</td>\n",
       "      <td>2.00</td>\n",
       "      <td>84.00</td>\n",
       "      <td>3.00</td>\n",
       "      <td>234.00</td>\n",
       "      <td>424.00</td>\n",
       "    </tr>\n",
       "    <tr>\n",
       "      <td>4</td>\n",
       "      <td>2</td>\n",
       "      <td>10,000,000.00</td>\n",
       "      <td>100.00</td>\n",
       "      <td>2018-06-19T00:00:00</td>\n",
       "      <td>2</td>\n",
       "      <td>3.03</td>\n",
       "      <td>14.00</td>\n",
       "      <td>32.00</td>\n",
       "      <td>13</td>\n",
       "      <td>NaN</td>\n",
       "      <td>...</td>\n",
       "      <td>41.00</td>\n",
       "      <td>nan</td>\n",
       "      <td>Санкт-Петербург</td>\n",
       "      <td>31,856.00</td>\n",
       "      <td>8,098.00</td>\n",
       "      <td>2.00</td>\n",
       "      <td>112.00</td>\n",
       "      <td>1.00</td>\n",
       "      <td>48.00</td>\n",
       "      <td>121.00</td>\n",
       "    </tr>\n",
       "  </tbody>\n",
       "</table>\n",
       "<p>5 rows × 22 columns</p>\n",
       "</div>"
      ],
      "text/plain": [
       "   total_images    last_price  total_area first_day_exposition  rooms  \\\n",
       "0            20 13,000,000.00      108.00  2019-03-07T00:00:00      3   \n",
       "1             7  3,350,000.00       40.40  2018-12-04T00:00:00      1   \n",
       "2            10  5,196,000.00       56.00  2015-08-20T00:00:00      2   \n",
       "3             0 64,900,000.00      159.00  2015-07-24T00:00:00      3   \n",
       "4             2 10,000,000.00      100.00  2018-06-19T00:00:00      2   \n",
       "\n",
       "   ceiling_height  floors_total  living_area  floor is_apartment  ...  \\\n",
       "0            2.70         16.00        51.00      8          NaN  ...   \n",
       "1             nan         11.00        18.60      1          NaN  ...   \n",
       "2             nan          5.00        34.30      4          NaN  ...   \n",
       "3             nan         14.00          nan      9          NaN  ...   \n",
       "4            3.03         14.00        32.00     13          NaN  ...   \n",
       "\n",
       "   kitchen_area  balcony    locality_name  airports_nearest  \\\n",
       "0         25.00      nan  Санкт-Петербург         18,863.00   \n",
       "1         11.00     2.00   посёлок Шушары         12,817.00   \n",
       "2          8.30     0.00  Санкт-Петербург         21,741.00   \n",
       "3           nan     0.00  Санкт-Петербург         28,098.00   \n",
       "4         41.00      nan  Санкт-Петербург         31,856.00   \n",
       "\n",
       "  cityCenters_nearest  parks_around3000  parks_nearest  ponds_around3000  \\\n",
       "0           16,028.00              1.00         482.00              2.00   \n",
       "1           18,603.00              0.00            nan              0.00   \n",
       "2           13,933.00              1.00          90.00              2.00   \n",
       "3            6,800.00              2.00          84.00              3.00   \n",
       "4            8,098.00              2.00         112.00              1.00   \n",
       "\n",
       "   ponds_nearest  days_exposition  \n",
       "0         755.00              nan  \n",
       "1            nan            81.00  \n",
       "2         574.00           558.00  \n",
       "3         234.00           424.00  \n",
       "4          48.00           121.00  \n",
       "\n",
       "[5 rows x 22 columns]"
      ]
     },
     "metadata": {},
     "output_type": "display_data"
    },
    {
     "data": {
      "text/html": [
       "<div>\n",
       "<style scoped>\n",
       "    .dataframe tbody tr th:only-of-type {\n",
       "        vertical-align: middle;\n",
       "    }\n",
       "\n",
       "    .dataframe tbody tr th {\n",
       "        vertical-align: top;\n",
       "    }\n",
       "\n",
       "    .dataframe thead th {\n",
       "        text-align: right;\n",
       "    }\n",
       "</style>\n",
       "<table border=\"1\" class=\"dataframe\">\n",
       "  <thead>\n",
       "    <tr style=\"text-align: right;\">\n",
       "      <th></th>\n",
       "      <th>total_images</th>\n",
       "      <th>last_price</th>\n",
       "      <th>total_area</th>\n",
       "      <th>first_day_exposition</th>\n",
       "      <th>rooms</th>\n",
       "      <th>ceiling_height</th>\n",
       "      <th>floors_total</th>\n",
       "      <th>living_area</th>\n",
       "      <th>floor</th>\n",
       "      <th>is_apartment</th>\n",
       "      <th>studio</th>\n",
       "    </tr>\n",
       "  </thead>\n",
       "  <tbody>\n",
       "    <tr>\n",
       "      <td>0</td>\n",
       "      <td>20</td>\n",
       "      <td>13,000,000.00</td>\n",
       "      <td>108.00</td>\n",
       "      <td>2019-03-07T00:00:00</td>\n",
       "      <td>3</td>\n",
       "      <td>2.70</td>\n",
       "      <td>16.00</td>\n",
       "      <td>51.00</td>\n",
       "      <td>8</td>\n",
       "      <td>NaN</td>\n",
       "      <td>False</td>\n",
       "    </tr>\n",
       "    <tr>\n",
       "      <td>1</td>\n",
       "      <td>7</td>\n",
       "      <td>3,350,000.00</td>\n",
       "      <td>40.40</td>\n",
       "      <td>2018-12-04T00:00:00</td>\n",
       "      <td>1</td>\n",
       "      <td>nan</td>\n",
       "      <td>11.00</td>\n",
       "      <td>18.60</td>\n",
       "      <td>1</td>\n",
       "      <td>NaN</td>\n",
       "      <td>False</td>\n",
       "    </tr>\n",
       "    <tr>\n",
       "      <td>2</td>\n",
       "      <td>10</td>\n",
       "      <td>5,196,000.00</td>\n",
       "      <td>56.00</td>\n",
       "      <td>2015-08-20T00:00:00</td>\n",
       "      <td>2</td>\n",
       "      <td>nan</td>\n",
       "      <td>5.00</td>\n",
       "      <td>34.30</td>\n",
       "      <td>4</td>\n",
       "      <td>NaN</td>\n",
       "      <td>False</td>\n",
       "    </tr>\n",
       "    <tr>\n",
       "      <td>3</td>\n",
       "      <td>0</td>\n",
       "      <td>64,900,000.00</td>\n",
       "      <td>159.00</td>\n",
       "      <td>2015-07-24T00:00:00</td>\n",
       "      <td>3</td>\n",
       "      <td>nan</td>\n",
       "      <td>14.00</td>\n",
       "      <td>nan</td>\n",
       "      <td>9</td>\n",
       "      <td>NaN</td>\n",
       "      <td>False</td>\n",
       "    </tr>\n",
       "    <tr>\n",
       "      <td>4</td>\n",
       "      <td>2</td>\n",
       "      <td>10,000,000.00</td>\n",
       "      <td>100.00</td>\n",
       "      <td>2018-06-19T00:00:00</td>\n",
       "      <td>2</td>\n",
       "      <td>3.03</td>\n",
       "      <td>14.00</td>\n",
       "      <td>32.00</td>\n",
       "      <td>13</td>\n",
       "      <td>NaN</td>\n",
       "      <td>False</td>\n",
       "    </tr>\n",
       "  </tbody>\n",
       "</table>\n",
       "</div>"
      ],
      "text/plain": [
       "   total_images    last_price  total_area first_day_exposition  rooms  \\\n",
       "0            20 13,000,000.00      108.00  2019-03-07T00:00:00      3   \n",
       "1             7  3,350,000.00       40.40  2018-12-04T00:00:00      1   \n",
       "2            10  5,196,000.00       56.00  2015-08-20T00:00:00      2   \n",
       "3             0 64,900,000.00      159.00  2015-07-24T00:00:00      3   \n",
       "4             2 10,000,000.00      100.00  2018-06-19T00:00:00      2   \n",
       "\n",
       "   ceiling_height  floors_total  living_area  floor is_apartment  studio  \n",
       "0            2.70         16.00        51.00      8          NaN   False  \n",
       "1             nan         11.00        18.60      1          NaN   False  \n",
       "2             nan          5.00        34.30      4          NaN   False  \n",
       "3             nan         14.00          nan      9          NaN   False  \n",
       "4            3.03         14.00        32.00     13          NaN   False  "
      ]
     },
     "metadata": {},
     "output_type": "display_data"
    },
    {
     "data": {
      "text/html": [
       "<div>\n",
       "<style scoped>\n",
       "    .dataframe tbody tr th:only-of-type {\n",
       "        vertical-align: middle;\n",
       "    }\n",
       "\n",
       "    .dataframe tbody tr th {\n",
       "        vertical-align: top;\n",
       "    }\n",
       "\n",
       "    .dataframe thead th {\n",
       "        text-align: right;\n",
       "    }\n",
       "</style>\n",
       "<table border=\"1\" class=\"dataframe\">\n",
       "  <thead>\n",
       "    <tr style=\"text-align: right;\">\n",
       "      <th></th>\n",
       "      <th>studio</th>\n",
       "      <th>open_plan</th>\n",
       "      <th>kitchen_area</th>\n",
       "      <th>balcony</th>\n",
       "      <th>locality_name</th>\n",
       "      <th>airports_nearest</th>\n",
       "      <th>cityCenters_nearest</th>\n",
       "      <th>parks_around3000</th>\n",
       "      <th>parks_nearest</th>\n",
       "      <th>ponds_around3000</th>\n",
       "      <th>ponds_nearest</th>\n",
       "      <th>days_exposition</th>\n",
       "    </tr>\n",
       "  </thead>\n",
       "  <tbody>\n",
       "    <tr>\n",
       "      <td>0</td>\n",
       "      <td>False</td>\n",
       "      <td>False</td>\n",
       "      <td>25.00</td>\n",
       "      <td>nan</td>\n",
       "      <td>Санкт-Петербург</td>\n",
       "      <td>18,863.00</td>\n",
       "      <td>16,028.00</td>\n",
       "      <td>1.00</td>\n",
       "      <td>482.00</td>\n",
       "      <td>2.00</td>\n",
       "      <td>755.00</td>\n",
       "      <td>nan</td>\n",
       "    </tr>\n",
       "    <tr>\n",
       "      <td>1</td>\n",
       "      <td>False</td>\n",
       "      <td>False</td>\n",
       "      <td>11.00</td>\n",
       "      <td>2.00</td>\n",
       "      <td>посёлок Шушары</td>\n",
       "      <td>12,817.00</td>\n",
       "      <td>18,603.00</td>\n",
       "      <td>0.00</td>\n",
       "      <td>nan</td>\n",
       "      <td>0.00</td>\n",
       "      <td>nan</td>\n",
       "      <td>81.00</td>\n",
       "    </tr>\n",
       "    <tr>\n",
       "      <td>2</td>\n",
       "      <td>False</td>\n",
       "      <td>False</td>\n",
       "      <td>8.30</td>\n",
       "      <td>0.00</td>\n",
       "      <td>Санкт-Петербург</td>\n",
       "      <td>21,741.00</td>\n",
       "      <td>13,933.00</td>\n",
       "      <td>1.00</td>\n",
       "      <td>90.00</td>\n",
       "      <td>2.00</td>\n",
       "      <td>574.00</td>\n",
       "      <td>558.00</td>\n",
       "    </tr>\n",
       "    <tr>\n",
       "      <td>3</td>\n",
       "      <td>False</td>\n",
       "      <td>False</td>\n",
       "      <td>nan</td>\n",
       "      <td>0.00</td>\n",
       "      <td>Санкт-Петербург</td>\n",
       "      <td>28,098.00</td>\n",
       "      <td>6,800.00</td>\n",
       "      <td>2.00</td>\n",
       "      <td>84.00</td>\n",
       "      <td>3.00</td>\n",
       "      <td>234.00</td>\n",
       "      <td>424.00</td>\n",
       "    </tr>\n",
       "    <tr>\n",
       "      <td>4</td>\n",
       "      <td>False</td>\n",
       "      <td>False</td>\n",
       "      <td>41.00</td>\n",
       "      <td>nan</td>\n",
       "      <td>Санкт-Петербург</td>\n",
       "      <td>31,856.00</td>\n",
       "      <td>8,098.00</td>\n",
       "      <td>2.00</td>\n",
       "      <td>112.00</td>\n",
       "      <td>1.00</td>\n",
       "      <td>48.00</td>\n",
       "      <td>121.00</td>\n",
       "    </tr>\n",
       "  </tbody>\n",
       "</table>\n",
       "</div>"
      ],
      "text/plain": [
       "   studio  open_plan  kitchen_area  balcony    locality_name  \\\n",
       "0   False      False         25.00      nan  Санкт-Петербург   \n",
       "1   False      False         11.00     2.00   посёлок Шушары   \n",
       "2   False      False          8.30     0.00  Санкт-Петербург   \n",
       "3   False      False           nan     0.00  Санкт-Петербург   \n",
       "4   False      False         41.00      nan  Санкт-Петербург   \n",
       "\n",
       "   airports_nearest  cityCenters_nearest  parks_around3000  parks_nearest  \\\n",
       "0         18,863.00            16,028.00              1.00         482.00   \n",
       "1         12,817.00            18,603.00              0.00            nan   \n",
       "2         21,741.00            13,933.00              1.00          90.00   \n",
       "3         28,098.00             6,800.00              2.00          84.00   \n",
       "4         31,856.00             8,098.00              2.00         112.00   \n",
       "\n",
       "   ponds_around3000  ponds_nearest  days_exposition  \n",
       "0              2.00         755.00              nan  \n",
       "1              0.00            nan            81.00  \n",
       "2              2.00         574.00           558.00  \n",
       "3              3.00         234.00           424.00  \n",
       "4              1.00          48.00           121.00  "
      ]
     },
     "metadata": {},
     "output_type": "display_data"
    }
   ],
   "source": [
    "import pandas as pd\n",
    "import matplotlib.pyplot as plt\n",
    "import numpy as np\n",
    "pd.set_option('display.float_format', '{:,.2f}'.format)\n",
    "\n",
    "df = pd.read_csv('/datasets/real_estate_data.csv',sep = '\\t')\n",
    "print(df.columns) \n",
    "display(df.head(5))\n",
    "\n",
    "#разделяю датафрейм на 2 части, чтобы увидеть все данные\n",
    "display(df.loc[:,:'studio'].head(5))\n",
    "display(df.loc[:,'studio':].head(5))"
   ]
  },
  {
   "cell_type": "code",
   "execution_count": 2,
   "metadata": {
    "scrolled": true
   },
   "outputs": [
    {
     "name": "stdout",
     "output_type": "stream",
     "text": [
      "<class 'pandas.core.frame.DataFrame'>\n",
      "RangeIndex: 23699 entries, 0 to 23698\n",
      "Data columns (total 22 columns):\n",
      "total_images            23699 non-null int64\n",
      "last_price              23699 non-null float64\n",
      "total_area              23699 non-null float64\n",
      "first_day_exposition    23699 non-null object\n",
      "rooms                   23699 non-null int64\n",
      "ceiling_height          14504 non-null float64\n",
      "floors_total            23613 non-null float64\n",
      "living_area             21796 non-null float64\n",
      "floor                   23699 non-null int64\n",
      "is_apartment            2775 non-null object\n",
      "studio                  23699 non-null bool\n",
      "open_plan               23699 non-null bool\n",
      "kitchen_area            21421 non-null float64\n",
      "balcony                 12180 non-null float64\n",
      "locality_name           23650 non-null object\n",
      "airports_nearest        18157 non-null float64\n",
      "cityCenters_nearest     18180 non-null float64\n",
      "parks_around3000        18181 non-null float64\n",
      "parks_nearest           8079 non-null float64\n",
      "ponds_around3000        18181 non-null float64\n",
      "ponds_nearest           9110 non-null float64\n",
      "days_exposition         20518 non-null float64\n",
      "dtypes: bool(2), float64(14), int64(3), object(3)\n",
      "memory usage: 3.7+ MB\n"
     ]
    }
   ],
   "source": [
    "df.info()"
   ]
  },
  {
   "cell_type": "markdown",
   "metadata": {},
   "source": [
    "### Вывод"
   ]
  },
  {
   "cell_type": "markdown",
   "metadata": {},
   "source": [
    "Можно увидеть, что данные имеют много пропусков и некоторые столбцы имеют неправильный тип данных."
   ]
  },
  {
   "cell_type": "markdown",
   "metadata": {},
   "source": [
    "<div class=\"alert alert-success\">\n",
    "<b>✅ Комментарий ревьюера:</b> \n",
    "\n",
    "Хороший первый взгляд на данные\n",
    "</div>"
   ]
  },
  {
   "cell_type": "markdown",
   "metadata": {},
   "source": [
    "## Предобработка данных"
   ]
  },
  {
   "cell_type": "code",
   "execution_count": 3,
   "metadata": {},
   "outputs": [],
   "source": [
    "#преобразование столбца first_day_exposition из строки в дату\n",
    "df['first_day_exposition'] = pd.to_datetime(df['first_day_exposition'])\n",
    "\n",
    "#преобразование столбцов из типа float в int\n",
    "\n",
    "df[['rooms', 'floors_total','balcony','parks_around3000','ponds_around3000','days_exposition']] = df[['rooms', 'floors_total','balcony','parks_around3000','ponds_around3000','days_exposition']].astype('int',errors = 'ignore')\n",
    "\n",
    "#нужно ли переводить в bool данный столбец? Как я понял, NaN меняется на True..\n",
    "#df['is_apartment'] = df['is_apartment'].astype('bool') \n",
    "\n",
    "\n"
   ]
  },
  {
   "cell_type": "markdown",
   "metadata": {},
   "source": [
    "<div class=\"alert alert-success\">\n",
    "<b>✅ Комментарий ревьюера:</b> \n",
    "\n",
    "С предобработкой типов согласен.\n",
    "</div>"
   ]
  },
  {
   "cell_type": "code",
   "execution_count": 4,
   "metadata": {},
   "outputs": [
    {
     "data": {
      "text/plain": [
       "0"
      ]
     },
     "execution_count": 4,
     "metadata": {},
     "output_type": "execute_result"
    }
   ],
   "source": [
    "#заполнение пропусков \n",
    "\n",
    "#Странно, что таких значений нет, хотя в is_apartment есть много NaN. Почему так?\n",
    "#df[df['is_apartment'].isna()].head(15)\n",
    "\n",
    "#Можно предположить, что в столбце balcony, где есть NaN, можно заменить на 0. \n",
    "#Также можно сделать и в parks_around3000 и в ponds_around3000\n",
    "df.fillna(value = {'balcony':0,'parks_around3000':0, 'ponds_around3000':0}, inplace=True)\n",
    "\n",
    "#количество дубликатов\n",
    "df.duplicated().sum()\n",
    "\n",
    "#Также есть еще вопрос. Нужно ли по каким-либо столбцам определить пропуски в других? Например, пропуски в ceiling_height и в floors_total."
   ]
  },
  {
   "cell_type": "markdown",
   "metadata": {},
   "source": [
    "<div class=\"alert alert-success\">\n",
    "<b>✅ Комментарий ревьюера:</b> \n",
    "\n",
    "Отлично с представленным заполнением согласен.\n",
    "</div>"
   ]
  },
  {
   "cell_type": "code",
   "execution_count": 5,
   "metadata": {},
   "outputs": [],
   "source": [
    "# В некоторых данных я заметил неправдоподобные числа. Путем поиска в интернете я изменил на +- правдоподобные значения.\n",
    "# Вопрос. Можно ли так делать? Или нужно опираться только на данные и избавляться от выбросов с помощью диаграммы размаха?\n",
    "\n",
    "#Некоторые цены неправдоподобны. Нашел, что самая дешевая квартира в СПБ стоит около 3млн, а самая дорогая - 150млн.\n",
    "#Я возьму цены от 2млн до 100млн.\n",
    "#df.boxplot('last_price')\n",
    "#plt.ylim(0,13000000)\n",
    "#plt.show()\n",
    "\n",
    "#df = df.query('last_price <= 100000000 and last_price >=2000000 ')\n",
    "\n",
    "#Максимальное количество комнат по данным = 19, что вряд ли является правдой. Я возьму 7 комнат\n",
    "#df = df.query('rooms <= 7 and rooms > 0')\n",
    "\n",
    "# Максимальная высота потолков по данным 100м. Но это невозможно. Возьму 4м и минимум 2,4.\n",
    "#df = df.query('ceiling_height <= 3 and ceiling_height >= 2.4')\n",
    "\n",
    "# Количество этажей в СПБ максимально 37 этажей (по данным из интернета)\n",
    "#df = df.query('floors_total <= 37')\n",
    "\n",
    "#В интернете я увидел, что максимальная площадь квартиры в СПБ = 539. Это уникальный случай. Я возьму 100кв м. \n",
    "#Взял именно такое значение: я посчитал межквартильный размах(=27).  67 + 1.5*27 = 107.5 \n",
    "# «Усы» диаграммы размаха простираются влево и вправо от границ ящика на расстояние, равное 1,5 межквартильного размаха\n",
    "#df = df.query('total_area <= 100')\n"
   ]
  },
  {
   "cell_type": "markdown",
   "metadata": {},
   "source": [
    "<div class=\"alert alert-warning\">\n",
    "<b>⚠️ Комментарий ревьюера:</b> \n",
    "\n",
    "1. Заменять исходные данные нельзя, так как твоя задача проанализировать имеющиеся показатели и построить вывод на их основе.\n",
    "2. Ты выбираешь диапазоны значений основываясь на логике без какого-либо предварительного анализа. Рекомендую использовать метод `describe`, по нему можно посмотреть 25 и 75 квартили, если эти значения близки к истине то на них можно опираться для определения основного диапазона выборки, но это все потом, т.к. тебе потребуется исключение выбросов только при поиске зависимостей, а вот расчет показателей тебе нужно делать на основе тех данных что имеются.\n",
    "\n",
    "    \n",
    "Так же не увидел заполнения пропусков, дам нескоько рекомендаций:\n",
    "- ceiling_height. Диапазон основного тела выборки этого параметра достаточно узок, это значит, что большинство значения будут плюс минус равны. В данном случае, подойдет заполнение медианой.\n",
    "- floors_total. Оцени долю пропусков в этом параметре. Если пропусков <1%, то можно пренебречь ими.\n",
    "- living_area и kitchen_area. Эти параметры достаточно хорошо связаны с общей площадью, т.к. чаще всего в квартирах площадь кухни и жилая площадь имеют какую-то долю от общей. Эту долю можно посчитать на основе имеющихся данных, например, для разного кол-ва комнат.                                                                        \n",
    "</div>"
   ]
  },
  {
   "cell_type": "code",
   "execution_count": 6,
   "metadata": {
    "scrolled": true
   },
   "outputs": [
    {
     "name": "stdout",
     "output_type": "stream",
     "text": [
      "0.36288450989493226\n"
     ]
    },
    {
     "data": {
      "text/html": [
       "<div>\n",
       "<style scoped>\n",
       "    .dataframe tbody tr th:only-of-type {\n",
       "        vertical-align: middle;\n",
       "    }\n",
       "\n",
       "    .dataframe tbody tr th {\n",
       "        vertical-align: top;\n",
       "    }\n",
       "\n",
       "    .dataframe thead th {\n",
       "        text-align: right;\n",
       "    }\n",
       "</style>\n",
       "<table border=\"1\" class=\"dataframe\">\n",
       "  <thead>\n",
       "    <tr style=\"text-align: right;\">\n",
       "      <th></th>\n",
       "      <th>mean_kitchen_area</th>\n",
       "      <th>mean_living_area</th>\n",
       "      <th>mean_total_area</th>\n",
       "      <th>result_for_living_area</th>\n",
       "      <th>result_for_kitchen_area</th>\n",
       "    </tr>\n",
       "    <tr>\n",
       "      <th>rooms</th>\n",
       "      <th></th>\n",
       "      <th></th>\n",
       "      <th></th>\n",
       "      <th></th>\n",
       "      <th></th>\n",
       "    </tr>\n",
       "  </thead>\n",
       "  <tbody>\n",
       "    <tr>\n",
       "      <td>0</td>\n",
       "      <td>nan</td>\n",
       "      <td>0.69</td>\n",
       "      <td>29.28</td>\n",
       "      <td>20.07</td>\n",
       "      <td>nan</td>\n",
       "    </tr>\n",
       "    <tr>\n",
       "      <td>1</td>\n",
       "      <td>0.25</td>\n",
       "      <td>0.49</td>\n",
       "      <td>37.64</td>\n",
       "      <td>18.29</td>\n",
       "      <td>9.41</td>\n",
       "    </tr>\n",
       "    <tr>\n",
       "      <td>2</td>\n",
       "      <td>0.17</td>\n",
       "      <td>0.58</td>\n",
       "      <td>55.86</td>\n",
       "      <td>32.36</td>\n",
       "      <td>9.73</td>\n",
       "    </tr>\n",
       "    <tr>\n",
       "      <td>3</td>\n",
       "      <td>0.14</td>\n",
       "      <td>0.63</td>\n",
       "      <td>77.76</td>\n",
       "      <td>48.63</td>\n",
       "      <td>10.96</td>\n",
       "    </tr>\n",
       "    <tr>\n",
       "      <td>4</td>\n",
       "      <td>0.12</td>\n",
       "      <td>0.65</td>\n",
       "      <td>107.61</td>\n",
       "      <td>69.57</td>\n",
       "      <td>13.35</td>\n",
       "    </tr>\n",
       "    <tr>\n",
       "      <td>5</td>\n",
       "      <td>0.11</td>\n",
       "      <td>0.64</td>\n",
       "      <td>161.47</td>\n",
       "      <td>103.57</td>\n",
       "      <td>18.32</td>\n",
       "    </tr>\n",
       "    <tr>\n",
       "      <td>6</td>\n",
       "      <td>0.10</td>\n",
       "      <td>0.67</td>\n",
       "      <td>201.54</td>\n",
       "      <td>134.79</td>\n",
       "      <td>20.99</td>\n",
       "    </tr>\n",
       "    <tr>\n",
       "      <td>7</td>\n",
       "      <td>0.09</td>\n",
       "      <td>0.66</td>\n",
       "      <td>265.33</td>\n",
       "      <td>174.58</td>\n",
       "      <td>24.39</td>\n",
       "    </tr>\n",
       "    <tr>\n",
       "      <td>8</td>\n",
       "      <td>0.09</td>\n",
       "      <td>0.67</td>\n",
       "      <td>259.23</td>\n",
       "      <td>172.91</td>\n",
       "      <td>23.77</td>\n",
       "    </tr>\n",
       "    <tr>\n",
       "      <td>9</td>\n",
       "      <td>0.08</td>\n",
       "      <td>0.61</td>\n",
       "      <td>305.98</td>\n",
       "      <td>187.35</td>\n",
       "      <td>22.96</td>\n",
       "    </tr>\n",
       "    <tr>\n",
       "      <td>10</td>\n",
       "      <td>0.09</td>\n",
       "      <td>0.65</td>\n",
       "      <td>259.57</td>\n",
       "      <td>167.44</td>\n",
       "      <td>22.85</td>\n",
       "    </tr>\n",
       "    <tr>\n",
       "      <td>11</td>\n",
       "      <td>0.07</td>\n",
       "      <td>0.71</td>\n",
       "      <td>188.90</td>\n",
       "      <td>134.14</td>\n",
       "      <td>12.63</td>\n",
       "    </tr>\n",
       "    <tr>\n",
       "      <td>12</td>\n",
       "      <td>0.12</td>\n",
       "      <td>0.46</td>\n",
       "      <td>900.00</td>\n",
       "      <td>409.70</td>\n",
       "      <td>112.00</td>\n",
       "    </tr>\n",
       "    <tr>\n",
       "      <td>14</td>\n",
       "      <td>0.08</td>\n",
       "      <td>0.65</td>\n",
       "      <td>304.20</td>\n",
       "      <td>197.33</td>\n",
       "      <td>23.01</td>\n",
       "    </tr>\n",
       "    <tr>\n",
       "      <td>15</td>\n",
       "      <td>0.17</td>\n",
       "      <td>0.69</td>\n",
       "      <td>590.00</td>\n",
       "      <td>409.00</td>\n",
       "      <td>100.00</td>\n",
       "    </tr>\n",
       "    <tr>\n",
       "      <td>16</td>\n",
       "      <td>0.05</td>\n",
       "      <td>0.67</td>\n",
       "      <td>270.00</td>\n",
       "      <td>180.00</td>\n",
       "      <td>13.00</td>\n",
       "    </tr>\n",
       "    <tr>\n",
       "      <td>19</td>\n",
       "      <td>0.07</td>\n",
       "      <td>0.71</td>\n",
       "      <td>374.60</td>\n",
       "      <td>264.50</td>\n",
       "      <td>27.60</td>\n",
       "    </tr>\n",
       "  </tbody>\n",
       "</table>\n",
       "</div>"
      ],
      "text/plain": [
       "       mean_kitchen_area  mean_living_area  mean_total_area  \\\n",
       "rooms                                                         \n",
       "0                    nan              0.69            29.28   \n",
       "1                   0.25              0.49            37.64   \n",
       "2                   0.17              0.58            55.86   \n",
       "3                   0.14              0.63            77.76   \n",
       "4                   0.12              0.65           107.61   \n",
       "5                   0.11              0.64           161.47   \n",
       "6                   0.10              0.67           201.54   \n",
       "7                   0.09              0.66           265.33   \n",
       "8                   0.09              0.67           259.23   \n",
       "9                   0.08              0.61           305.98   \n",
       "10                  0.09              0.65           259.57   \n",
       "11                  0.07              0.71           188.90   \n",
       "12                  0.12              0.46           900.00   \n",
       "14                  0.08              0.65           304.20   \n",
       "15                  0.17              0.69           590.00   \n",
       "16                  0.05              0.67           270.00   \n",
       "19                  0.07              0.71           374.60   \n",
       "\n",
       "       result_for_living_area  result_for_kitchen_area  \n",
       "rooms                                                   \n",
       "0                       20.07                      nan  \n",
       "1                       18.29                     9.41  \n",
       "2                       32.36                     9.73  \n",
       "3                       48.63                    10.96  \n",
       "4                       69.57                    13.35  \n",
       "5                      103.57                    18.32  \n",
       "6                      134.79                    20.99  \n",
       "7                      174.58                    24.39  \n",
       "8                      172.91                    23.77  \n",
       "9                      187.35                    22.96  \n",
       "10                     167.44                    22.85  \n",
       "11                     134.14                    12.63  \n",
       "12                     409.70                   112.00  \n",
       "14                     197.33                    23.01  \n",
       "15                     409.00                   100.00  \n",
       "16                     180.00                    13.00  \n",
       "19                     264.50                    27.60  "
      ]
     },
     "metadata": {},
     "output_type": "display_data"
    }
   ],
   "source": [
    "#Заполнение пропусков медианой значений df['ceiling_height']\n",
    "df['ceiling_height'] = df['ceiling_height'].fillna(df['ceiling_height'].median())\n",
    "\n",
    "#доля пропусков меньше 1%. Значит можно пренебречь.\n",
    "def share_of_passes(x):\n",
    "    return x.isna().sum() / len(x) * 100\n",
    "print(share_of_passes(df['floors_total']))\n",
    "\n",
    "\n",
    "df['share_living_area'] = df['living_area'] / df['total_area']\n",
    "df['share_kitchen_area'] = df['kitchen_area'] / df['total_area']\n",
    "\n",
    "share_mean = df.pivot_table(index='rooms', values = ['total_area','share_living_area','share_kitchen_area'], aggfunc = 'mean')\n",
    "share_mean.columns = ['mean_kitchen_area','mean_living_area','mean_total_area']\n",
    "\n",
    "share_mean['result_for_living_area'] = share_mean['mean_living_area'] * share_mean['mean_total_area']\n",
    "share_mean['result_for_kitchen_area'] = share_mean['mean_kitchen_area'] * share_mean['mean_total_area']\n",
    "\n",
    "display(share_mean)\n",
    "\n",
    "\n"
   ]
  },
  {
   "cell_type": "code",
   "execution_count": 7,
   "metadata": {},
   "outputs": [
    {
     "data": {
      "text/html": [
       "<div>\n",
       "<style scoped>\n",
       "    .dataframe tbody tr th:only-of-type {\n",
       "        vertical-align: middle;\n",
       "    }\n",
       "\n",
       "    .dataframe tbody tr th {\n",
       "        vertical-align: top;\n",
       "    }\n",
       "\n",
       "    .dataframe thead th {\n",
       "        text-align: right;\n",
       "    }\n",
       "</style>\n",
       "<table border=\"1\" class=\"dataframe\">\n",
       "  <thead>\n",
       "    <tr style=\"text-align: right;\">\n",
       "      <th></th>\n",
       "      <th>total_images</th>\n",
       "      <th>last_price</th>\n",
       "      <th>total_area</th>\n",
       "      <th>first_day_exposition</th>\n",
       "      <th>rooms</th>\n",
       "      <th>ceiling_height</th>\n",
       "      <th>floors_total</th>\n",
       "      <th>living_area</th>\n",
       "      <th>floor</th>\n",
       "      <th>is_apartment</th>\n",
       "      <th>...</th>\n",
       "      <th>ponds_around3000</th>\n",
       "      <th>ponds_nearest</th>\n",
       "      <th>days_exposition</th>\n",
       "      <th>share_living_area</th>\n",
       "      <th>share_kitchen_area</th>\n",
       "      <th>mean_kitchen_area</th>\n",
       "      <th>mean_living_area</th>\n",
       "      <th>mean_total_area</th>\n",
       "      <th>result_for_living_area</th>\n",
       "      <th>result_for_kitchen_area</th>\n",
       "    </tr>\n",
       "  </thead>\n",
       "  <tbody>\n",
       "    <tr>\n",
       "      <td>0</td>\n",
       "      <td>20</td>\n",
       "      <td>13,000,000.00</td>\n",
       "      <td>108.00</td>\n",
       "      <td>2019-03-07</td>\n",
       "      <td>3</td>\n",
       "      <td>2.70</td>\n",
       "      <td>16.00</td>\n",
       "      <td>51.00</td>\n",
       "      <td>8</td>\n",
       "      <td>NaN</td>\n",
       "      <td>...</td>\n",
       "      <td>2.00</td>\n",
       "      <td>755.00</td>\n",
       "      <td>nan</td>\n",
       "      <td>0.47</td>\n",
       "      <td>0.23</td>\n",
       "      <td>0.14</td>\n",
       "      <td>0.63</td>\n",
       "      <td>77.76</td>\n",
       "      <td>48.63</td>\n",
       "      <td>10.96</td>\n",
       "    </tr>\n",
       "    <tr>\n",
       "      <td>1</td>\n",
       "      <td>7</td>\n",
       "      <td>3,350,000.00</td>\n",
       "      <td>40.40</td>\n",
       "      <td>2018-12-04</td>\n",
       "      <td>1</td>\n",
       "      <td>2.65</td>\n",
       "      <td>11.00</td>\n",
       "      <td>18.60</td>\n",
       "      <td>1</td>\n",
       "      <td>NaN</td>\n",
       "      <td>...</td>\n",
       "      <td>0.00</td>\n",
       "      <td>nan</td>\n",
       "      <td>81.00</td>\n",
       "      <td>0.46</td>\n",
       "      <td>0.27</td>\n",
       "      <td>0.25</td>\n",
       "      <td>0.49</td>\n",
       "      <td>37.64</td>\n",
       "      <td>18.29</td>\n",
       "      <td>9.41</td>\n",
       "    </tr>\n",
       "    <tr>\n",
       "      <td>2</td>\n",
       "      <td>10</td>\n",
       "      <td>5,196,000.00</td>\n",
       "      <td>56.00</td>\n",
       "      <td>2015-08-20</td>\n",
       "      <td>2</td>\n",
       "      <td>2.65</td>\n",
       "      <td>5.00</td>\n",
       "      <td>34.30</td>\n",
       "      <td>4</td>\n",
       "      <td>NaN</td>\n",
       "      <td>...</td>\n",
       "      <td>2.00</td>\n",
       "      <td>574.00</td>\n",
       "      <td>558.00</td>\n",
       "      <td>0.61</td>\n",
       "      <td>0.15</td>\n",
       "      <td>0.17</td>\n",
       "      <td>0.58</td>\n",
       "      <td>55.86</td>\n",
       "      <td>32.36</td>\n",
       "      <td>9.73</td>\n",
       "    </tr>\n",
       "    <tr>\n",
       "      <td>3</td>\n",
       "      <td>0</td>\n",
       "      <td>64,900,000.00</td>\n",
       "      <td>159.00</td>\n",
       "      <td>2015-07-24</td>\n",
       "      <td>3</td>\n",
       "      <td>2.65</td>\n",
       "      <td>14.00</td>\n",
       "      <td>nan</td>\n",
       "      <td>9</td>\n",
       "      <td>NaN</td>\n",
       "      <td>...</td>\n",
       "      <td>3.00</td>\n",
       "      <td>234.00</td>\n",
       "      <td>424.00</td>\n",
       "      <td>nan</td>\n",
       "      <td>nan</td>\n",
       "      <td>0.14</td>\n",
       "      <td>0.63</td>\n",
       "      <td>77.76</td>\n",
       "      <td>48.63</td>\n",
       "      <td>10.96</td>\n",
       "    </tr>\n",
       "    <tr>\n",
       "      <td>4</td>\n",
       "      <td>2</td>\n",
       "      <td>10,000,000.00</td>\n",
       "      <td>100.00</td>\n",
       "      <td>2018-06-19</td>\n",
       "      <td>2</td>\n",
       "      <td>3.03</td>\n",
       "      <td>14.00</td>\n",
       "      <td>32.00</td>\n",
       "      <td>13</td>\n",
       "      <td>NaN</td>\n",
       "      <td>...</td>\n",
       "      <td>1.00</td>\n",
       "      <td>48.00</td>\n",
       "      <td>121.00</td>\n",
       "      <td>0.32</td>\n",
       "      <td>0.41</td>\n",
       "      <td>0.17</td>\n",
       "      <td>0.58</td>\n",
       "      <td>55.86</td>\n",
       "      <td>32.36</td>\n",
       "      <td>9.73</td>\n",
       "    </tr>\n",
       "    <tr>\n",
       "      <td>...</td>\n",
       "      <td>...</td>\n",
       "      <td>...</td>\n",
       "      <td>...</td>\n",
       "      <td>...</td>\n",
       "      <td>...</td>\n",
       "      <td>...</td>\n",
       "      <td>...</td>\n",
       "      <td>...</td>\n",
       "      <td>...</td>\n",
       "      <td>...</td>\n",
       "      <td>...</td>\n",
       "      <td>...</td>\n",
       "      <td>...</td>\n",
       "      <td>...</td>\n",
       "      <td>...</td>\n",
       "      <td>...</td>\n",
       "      <td>...</td>\n",
       "      <td>...</td>\n",
       "      <td>...</td>\n",
       "      <td>...</td>\n",
       "      <td>...</td>\n",
       "    </tr>\n",
       "    <tr>\n",
       "      <td>23694</td>\n",
       "      <td>9</td>\n",
       "      <td>9,700,000.00</td>\n",
       "      <td>133.81</td>\n",
       "      <td>2017-03-21</td>\n",
       "      <td>3</td>\n",
       "      <td>3.70</td>\n",
       "      <td>5.00</td>\n",
       "      <td>73.30</td>\n",
       "      <td>3</td>\n",
       "      <td>NaN</td>\n",
       "      <td>...</td>\n",
       "      <td>3.00</td>\n",
       "      <td>381.00</td>\n",
       "      <td>nan</td>\n",
       "      <td>0.55</td>\n",
       "      <td>0.10</td>\n",
       "      <td>0.14</td>\n",
       "      <td>0.63</td>\n",
       "      <td>77.76</td>\n",
       "      <td>48.63</td>\n",
       "      <td>10.96</td>\n",
       "    </tr>\n",
       "    <tr>\n",
       "      <td>23695</td>\n",
       "      <td>14</td>\n",
       "      <td>3,100,000.00</td>\n",
       "      <td>59.00</td>\n",
       "      <td>2018-01-15</td>\n",
       "      <td>3</td>\n",
       "      <td>2.65</td>\n",
       "      <td>5.00</td>\n",
       "      <td>38.00</td>\n",
       "      <td>4</td>\n",
       "      <td>NaN</td>\n",
       "      <td>...</td>\n",
       "      <td>0.00</td>\n",
       "      <td>nan</td>\n",
       "      <td>45.00</td>\n",
       "      <td>0.64</td>\n",
       "      <td>0.14</td>\n",
       "      <td>0.14</td>\n",
       "      <td>0.63</td>\n",
       "      <td>77.76</td>\n",
       "      <td>48.63</td>\n",
       "      <td>10.96</td>\n",
       "    </tr>\n",
       "    <tr>\n",
       "      <td>23696</td>\n",
       "      <td>18</td>\n",
       "      <td>2,500,000.00</td>\n",
       "      <td>56.70</td>\n",
       "      <td>2018-02-11</td>\n",
       "      <td>2</td>\n",
       "      <td>2.65</td>\n",
       "      <td>3.00</td>\n",
       "      <td>29.70</td>\n",
       "      <td>1</td>\n",
       "      <td>NaN</td>\n",
       "      <td>...</td>\n",
       "      <td>0.00</td>\n",
       "      <td>nan</td>\n",
       "      <td>nan</td>\n",
       "      <td>0.52</td>\n",
       "      <td>nan</td>\n",
       "      <td>0.17</td>\n",
       "      <td>0.58</td>\n",
       "      <td>55.86</td>\n",
       "      <td>32.36</td>\n",
       "      <td>9.73</td>\n",
       "    </tr>\n",
       "    <tr>\n",
       "      <td>23697</td>\n",
       "      <td>13</td>\n",
       "      <td>11,475,000.00</td>\n",
       "      <td>76.75</td>\n",
       "      <td>2017-03-28</td>\n",
       "      <td>2</td>\n",
       "      <td>3.00</td>\n",
       "      <td>17.00</td>\n",
       "      <td>nan</td>\n",
       "      <td>12</td>\n",
       "      <td>NaN</td>\n",
       "      <td>...</td>\n",
       "      <td>3.00</td>\n",
       "      <td>196.00</td>\n",
       "      <td>602.00</td>\n",
       "      <td>nan</td>\n",
       "      <td>0.30</td>\n",
       "      <td>0.17</td>\n",
       "      <td>0.58</td>\n",
       "      <td>55.86</td>\n",
       "      <td>32.36</td>\n",
       "      <td>9.73</td>\n",
       "    </tr>\n",
       "    <tr>\n",
       "      <td>23698</td>\n",
       "      <td>4</td>\n",
       "      <td>1,350,000.00</td>\n",
       "      <td>32.30</td>\n",
       "      <td>2017-07-21</td>\n",
       "      <td>1</td>\n",
       "      <td>2.50</td>\n",
       "      <td>5.00</td>\n",
       "      <td>12.30</td>\n",
       "      <td>1</td>\n",
       "      <td>NaN</td>\n",
       "      <td>...</td>\n",
       "      <td>0.00</td>\n",
       "      <td>nan</td>\n",
       "      <td>nan</td>\n",
       "      <td>0.38</td>\n",
       "      <td>0.28</td>\n",
       "      <td>0.25</td>\n",
       "      <td>0.49</td>\n",
       "      <td>37.64</td>\n",
       "      <td>18.29</td>\n",
       "      <td>9.41</td>\n",
       "    </tr>\n",
       "  </tbody>\n",
       "</table>\n",
       "<p>23699 rows × 29 columns</p>\n",
       "</div>"
      ],
      "text/plain": [
       "       total_images    last_price  total_area first_day_exposition  rooms  \\\n",
       "0                20 13,000,000.00      108.00           2019-03-07      3   \n",
       "1                 7  3,350,000.00       40.40           2018-12-04      1   \n",
       "2                10  5,196,000.00       56.00           2015-08-20      2   \n",
       "3                 0 64,900,000.00      159.00           2015-07-24      3   \n",
       "4                 2 10,000,000.00      100.00           2018-06-19      2   \n",
       "...             ...           ...         ...                  ...    ...   \n",
       "23694             9  9,700,000.00      133.81           2017-03-21      3   \n",
       "23695            14  3,100,000.00       59.00           2018-01-15      3   \n",
       "23696            18  2,500,000.00       56.70           2018-02-11      2   \n",
       "23697            13 11,475,000.00       76.75           2017-03-28      2   \n",
       "23698             4  1,350,000.00       32.30           2017-07-21      1   \n",
       "\n",
       "       ceiling_height  floors_total  living_area  floor is_apartment  ...  \\\n",
       "0                2.70         16.00        51.00      8          NaN  ...   \n",
       "1                2.65         11.00        18.60      1          NaN  ...   \n",
       "2                2.65          5.00        34.30      4          NaN  ...   \n",
       "3                2.65         14.00          nan      9          NaN  ...   \n",
       "4                3.03         14.00        32.00     13          NaN  ...   \n",
       "...               ...           ...          ...    ...          ...  ...   \n",
       "23694            3.70          5.00        73.30      3          NaN  ...   \n",
       "23695            2.65          5.00        38.00      4          NaN  ...   \n",
       "23696            2.65          3.00        29.70      1          NaN  ...   \n",
       "23697            3.00         17.00          nan     12          NaN  ...   \n",
       "23698            2.50          5.00        12.30      1          NaN  ...   \n",
       "\n",
       "       ponds_around3000  ponds_nearest  days_exposition  share_living_area  \\\n",
       "0                  2.00         755.00              nan               0.47   \n",
       "1                  0.00            nan            81.00               0.46   \n",
       "2                  2.00         574.00           558.00               0.61   \n",
       "3                  3.00         234.00           424.00                nan   \n",
       "4                  1.00          48.00           121.00               0.32   \n",
       "...                 ...            ...              ...                ...   \n",
       "23694              3.00         381.00              nan               0.55   \n",
       "23695              0.00            nan            45.00               0.64   \n",
       "23696              0.00            nan              nan               0.52   \n",
       "23697              3.00         196.00           602.00                nan   \n",
       "23698              0.00            nan              nan               0.38   \n",
       "\n",
       "      share_kitchen_area  mean_kitchen_area  mean_living_area  \\\n",
       "0                   0.23               0.14              0.63   \n",
       "1                   0.27               0.25              0.49   \n",
       "2                   0.15               0.17              0.58   \n",
       "3                    nan               0.14              0.63   \n",
       "4                   0.41               0.17              0.58   \n",
       "...                  ...                ...               ...   \n",
       "23694               0.10               0.14              0.63   \n",
       "23695               0.14               0.14              0.63   \n",
       "23696                nan               0.17              0.58   \n",
       "23697               0.30               0.17              0.58   \n",
       "23698               0.28               0.25              0.49   \n",
       "\n",
       "       mean_total_area  result_for_living_area  result_for_kitchen_area  \n",
       "0                77.76                   48.63                    10.96  \n",
       "1                37.64                   18.29                     9.41  \n",
       "2                55.86                   32.36                     9.73  \n",
       "3                77.76                   48.63                    10.96  \n",
       "4                55.86                   32.36                     9.73  \n",
       "...                ...                     ...                      ...  \n",
       "23694            77.76                   48.63                    10.96  \n",
       "23695            77.76                   48.63                    10.96  \n",
       "23696            55.86                   32.36                     9.73  \n",
       "23697            55.86                   32.36                     9.73  \n",
       "23698            37.64                   18.29                     9.41  \n",
       "\n",
       "[23699 rows x 29 columns]"
      ]
     },
     "execution_count": 7,
     "metadata": {},
     "output_type": "execute_result"
    }
   ],
   "source": [
    "df = df.merge(share_mean , on='rooms',how = 'left')\n",
    "df"
   ]
  },
  {
   "cell_type": "code",
   "execution_count": 8,
   "metadata": {},
   "outputs": [
    {
     "data": {
      "text/html": [
       "<div>\n",
       "<style scoped>\n",
       "    .dataframe tbody tr th:only-of-type {\n",
       "        vertical-align: middle;\n",
       "    }\n",
       "\n",
       "    .dataframe tbody tr th {\n",
       "        vertical-align: top;\n",
       "    }\n",
       "\n",
       "    .dataframe thead th {\n",
       "        text-align: right;\n",
       "    }\n",
       "</style>\n",
       "<table border=\"1\" class=\"dataframe\">\n",
       "  <thead>\n",
       "    <tr style=\"text-align: right;\">\n",
       "      <th></th>\n",
       "      <th>total_images</th>\n",
       "      <th>last_price</th>\n",
       "      <th>total_area</th>\n",
       "      <th>first_day_exposition</th>\n",
       "      <th>rooms</th>\n",
       "      <th>ceiling_height</th>\n",
       "      <th>floors_total</th>\n",
       "      <th>living_area</th>\n",
       "      <th>floor</th>\n",
       "      <th>is_apartment</th>\n",
       "      <th>...</th>\n",
       "      <th>ponds_around3000</th>\n",
       "      <th>ponds_nearest</th>\n",
       "      <th>days_exposition</th>\n",
       "      <th>share_living_area</th>\n",
       "      <th>share_kitchen_area</th>\n",
       "      <th>mean_kitchen_area</th>\n",
       "      <th>mean_living_area</th>\n",
       "      <th>mean_total_area</th>\n",
       "      <th>result_for_living_area</th>\n",
       "      <th>result_for_kitchen_area</th>\n",
       "    </tr>\n",
       "  </thead>\n",
       "  <tbody>\n",
       "    <tr>\n",
       "      <td>0</td>\n",
       "      <td>20</td>\n",
       "      <td>13,000,000.00</td>\n",
       "      <td>108.00</td>\n",
       "      <td>2019-03-07</td>\n",
       "      <td>3</td>\n",
       "      <td>2.70</td>\n",
       "      <td>16.00</td>\n",
       "      <td>51.00</td>\n",
       "      <td>8</td>\n",
       "      <td>NaN</td>\n",
       "      <td>...</td>\n",
       "      <td>2.00</td>\n",
       "      <td>755.00</td>\n",
       "      <td>nan</td>\n",
       "      <td>0.47</td>\n",
       "      <td>0.23</td>\n",
       "      <td>0.14</td>\n",
       "      <td>0.63</td>\n",
       "      <td>77.76</td>\n",
       "      <td>48.63</td>\n",
       "      <td>10.96</td>\n",
       "    </tr>\n",
       "    <tr>\n",
       "      <td>1</td>\n",
       "      <td>7</td>\n",
       "      <td>3,350,000.00</td>\n",
       "      <td>40.40</td>\n",
       "      <td>2018-12-04</td>\n",
       "      <td>1</td>\n",
       "      <td>2.65</td>\n",
       "      <td>11.00</td>\n",
       "      <td>18.60</td>\n",
       "      <td>1</td>\n",
       "      <td>NaN</td>\n",
       "      <td>...</td>\n",
       "      <td>0.00</td>\n",
       "      <td>nan</td>\n",
       "      <td>81.00</td>\n",
       "      <td>0.46</td>\n",
       "      <td>0.27</td>\n",
       "      <td>0.25</td>\n",
       "      <td>0.49</td>\n",
       "      <td>37.64</td>\n",
       "      <td>18.29</td>\n",
       "      <td>9.41</td>\n",
       "    </tr>\n",
       "    <tr>\n",
       "      <td>2</td>\n",
       "      <td>10</td>\n",
       "      <td>5,196,000.00</td>\n",
       "      <td>56.00</td>\n",
       "      <td>2015-08-20</td>\n",
       "      <td>2</td>\n",
       "      <td>2.65</td>\n",
       "      <td>5.00</td>\n",
       "      <td>34.30</td>\n",
       "      <td>4</td>\n",
       "      <td>NaN</td>\n",
       "      <td>...</td>\n",
       "      <td>2.00</td>\n",
       "      <td>574.00</td>\n",
       "      <td>558.00</td>\n",
       "      <td>0.61</td>\n",
       "      <td>0.15</td>\n",
       "      <td>0.17</td>\n",
       "      <td>0.58</td>\n",
       "      <td>55.86</td>\n",
       "      <td>32.36</td>\n",
       "      <td>9.73</td>\n",
       "    </tr>\n",
       "    <tr>\n",
       "      <td>3</td>\n",
       "      <td>0</td>\n",
       "      <td>64,900,000.00</td>\n",
       "      <td>159.00</td>\n",
       "      <td>2015-07-24</td>\n",
       "      <td>3</td>\n",
       "      <td>2.65</td>\n",
       "      <td>14.00</td>\n",
       "      <td>48.63</td>\n",
       "      <td>9</td>\n",
       "      <td>NaN</td>\n",
       "      <td>...</td>\n",
       "      <td>3.00</td>\n",
       "      <td>234.00</td>\n",
       "      <td>424.00</td>\n",
       "      <td>nan</td>\n",
       "      <td>nan</td>\n",
       "      <td>0.14</td>\n",
       "      <td>0.63</td>\n",
       "      <td>77.76</td>\n",
       "      <td>48.63</td>\n",
       "      <td>10.96</td>\n",
       "    </tr>\n",
       "    <tr>\n",
       "      <td>4</td>\n",
       "      <td>2</td>\n",
       "      <td>10,000,000.00</td>\n",
       "      <td>100.00</td>\n",
       "      <td>2018-06-19</td>\n",
       "      <td>2</td>\n",
       "      <td>3.03</td>\n",
       "      <td>14.00</td>\n",
       "      <td>32.00</td>\n",
       "      <td>13</td>\n",
       "      <td>NaN</td>\n",
       "      <td>...</td>\n",
       "      <td>1.00</td>\n",
       "      <td>48.00</td>\n",
       "      <td>121.00</td>\n",
       "      <td>0.32</td>\n",
       "      <td>0.41</td>\n",
       "      <td>0.17</td>\n",
       "      <td>0.58</td>\n",
       "      <td>55.86</td>\n",
       "      <td>32.36</td>\n",
       "      <td>9.73</td>\n",
       "    </tr>\n",
       "    <tr>\n",
       "      <td>...</td>\n",
       "      <td>...</td>\n",
       "      <td>...</td>\n",
       "      <td>...</td>\n",
       "      <td>...</td>\n",
       "      <td>...</td>\n",
       "      <td>...</td>\n",
       "      <td>...</td>\n",
       "      <td>...</td>\n",
       "      <td>...</td>\n",
       "      <td>...</td>\n",
       "      <td>...</td>\n",
       "      <td>...</td>\n",
       "      <td>...</td>\n",
       "      <td>...</td>\n",
       "      <td>...</td>\n",
       "      <td>...</td>\n",
       "      <td>...</td>\n",
       "      <td>...</td>\n",
       "      <td>...</td>\n",
       "      <td>...</td>\n",
       "      <td>...</td>\n",
       "    </tr>\n",
       "    <tr>\n",
       "      <td>23694</td>\n",
       "      <td>9</td>\n",
       "      <td>9,700,000.00</td>\n",
       "      <td>133.81</td>\n",
       "      <td>2017-03-21</td>\n",
       "      <td>3</td>\n",
       "      <td>3.70</td>\n",
       "      <td>5.00</td>\n",
       "      <td>73.30</td>\n",
       "      <td>3</td>\n",
       "      <td>NaN</td>\n",
       "      <td>...</td>\n",
       "      <td>3.00</td>\n",
       "      <td>381.00</td>\n",
       "      <td>nan</td>\n",
       "      <td>0.55</td>\n",
       "      <td>0.10</td>\n",
       "      <td>0.14</td>\n",
       "      <td>0.63</td>\n",
       "      <td>77.76</td>\n",
       "      <td>48.63</td>\n",
       "      <td>10.96</td>\n",
       "    </tr>\n",
       "    <tr>\n",
       "      <td>23695</td>\n",
       "      <td>14</td>\n",
       "      <td>3,100,000.00</td>\n",
       "      <td>59.00</td>\n",
       "      <td>2018-01-15</td>\n",
       "      <td>3</td>\n",
       "      <td>2.65</td>\n",
       "      <td>5.00</td>\n",
       "      <td>38.00</td>\n",
       "      <td>4</td>\n",
       "      <td>NaN</td>\n",
       "      <td>...</td>\n",
       "      <td>0.00</td>\n",
       "      <td>nan</td>\n",
       "      <td>45.00</td>\n",
       "      <td>0.64</td>\n",
       "      <td>0.14</td>\n",
       "      <td>0.14</td>\n",
       "      <td>0.63</td>\n",
       "      <td>77.76</td>\n",
       "      <td>48.63</td>\n",
       "      <td>10.96</td>\n",
       "    </tr>\n",
       "    <tr>\n",
       "      <td>23696</td>\n",
       "      <td>18</td>\n",
       "      <td>2,500,000.00</td>\n",
       "      <td>56.70</td>\n",
       "      <td>2018-02-11</td>\n",
       "      <td>2</td>\n",
       "      <td>2.65</td>\n",
       "      <td>3.00</td>\n",
       "      <td>29.70</td>\n",
       "      <td>1</td>\n",
       "      <td>NaN</td>\n",
       "      <td>...</td>\n",
       "      <td>0.00</td>\n",
       "      <td>nan</td>\n",
       "      <td>nan</td>\n",
       "      <td>0.52</td>\n",
       "      <td>nan</td>\n",
       "      <td>0.17</td>\n",
       "      <td>0.58</td>\n",
       "      <td>55.86</td>\n",
       "      <td>32.36</td>\n",
       "      <td>9.73</td>\n",
       "    </tr>\n",
       "    <tr>\n",
       "      <td>23697</td>\n",
       "      <td>13</td>\n",
       "      <td>11,475,000.00</td>\n",
       "      <td>76.75</td>\n",
       "      <td>2017-03-28</td>\n",
       "      <td>2</td>\n",
       "      <td>3.00</td>\n",
       "      <td>17.00</td>\n",
       "      <td>32.36</td>\n",
       "      <td>12</td>\n",
       "      <td>NaN</td>\n",
       "      <td>...</td>\n",
       "      <td>3.00</td>\n",
       "      <td>196.00</td>\n",
       "      <td>602.00</td>\n",
       "      <td>nan</td>\n",
       "      <td>0.30</td>\n",
       "      <td>0.17</td>\n",
       "      <td>0.58</td>\n",
       "      <td>55.86</td>\n",
       "      <td>32.36</td>\n",
       "      <td>9.73</td>\n",
       "    </tr>\n",
       "    <tr>\n",
       "      <td>23698</td>\n",
       "      <td>4</td>\n",
       "      <td>1,350,000.00</td>\n",
       "      <td>32.30</td>\n",
       "      <td>2017-07-21</td>\n",
       "      <td>1</td>\n",
       "      <td>2.50</td>\n",
       "      <td>5.00</td>\n",
       "      <td>12.30</td>\n",
       "      <td>1</td>\n",
       "      <td>NaN</td>\n",
       "      <td>...</td>\n",
       "      <td>0.00</td>\n",
       "      <td>nan</td>\n",
       "      <td>nan</td>\n",
       "      <td>0.38</td>\n",
       "      <td>0.28</td>\n",
       "      <td>0.25</td>\n",
       "      <td>0.49</td>\n",
       "      <td>37.64</td>\n",
       "      <td>18.29</td>\n",
       "      <td>9.41</td>\n",
       "    </tr>\n",
       "  </tbody>\n",
       "</table>\n",
       "<p>23699 rows × 29 columns</p>\n",
       "</div>"
      ],
      "text/plain": [
       "       total_images    last_price  total_area first_day_exposition  rooms  \\\n",
       "0                20 13,000,000.00      108.00           2019-03-07      3   \n",
       "1                 7  3,350,000.00       40.40           2018-12-04      1   \n",
       "2                10  5,196,000.00       56.00           2015-08-20      2   \n",
       "3                 0 64,900,000.00      159.00           2015-07-24      3   \n",
       "4                 2 10,000,000.00      100.00           2018-06-19      2   \n",
       "...             ...           ...         ...                  ...    ...   \n",
       "23694             9  9,700,000.00      133.81           2017-03-21      3   \n",
       "23695            14  3,100,000.00       59.00           2018-01-15      3   \n",
       "23696            18  2,500,000.00       56.70           2018-02-11      2   \n",
       "23697            13 11,475,000.00       76.75           2017-03-28      2   \n",
       "23698             4  1,350,000.00       32.30           2017-07-21      1   \n",
       "\n",
       "       ceiling_height  floors_total  living_area  floor is_apartment  ...  \\\n",
       "0                2.70         16.00        51.00      8          NaN  ...   \n",
       "1                2.65         11.00        18.60      1          NaN  ...   \n",
       "2                2.65          5.00        34.30      4          NaN  ...   \n",
       "3                2.65         14.00        48.63      9          NaN  ...   \n",
       "4                3.03         14.00        32.00     13          NaN  ...   \n",
       "...               ...           ...          ...    ...          ...  ...   \n",
       "23694            3.70          5.00        73.30      3          NaN  ...   \n",
       "23695            2.65          5.00        38.00      4          NaN  ...   \n",
       "23696            2.65          3.00        29.70      1          NaN  ...   \n",
       "23697            3.00         17.00        32.36     12          NaN  ...   \n",
       "23698            2.50          5.00        12.30      1          NaN  ...   \n",
       "\n",
       "       ponds_around3000  ponds_nearest  days_exposition  share_living_area  \\\n",
       "0                  2.00         755.00              nan               0.47   \n",
       "1                  0.00            nan            81.00               0.46   \n",
       "2                  2.00         574.00           558.00               0.61   \n",
       "3                  3.00         234.00           424.00                nan   \n",
       "4                  1.00          48.00           121.00               0.32   \n",
       "...                 ...            ...              ...                ...   \n",
       "23694              3.00         381.00              nan               0.55   \n",
       "23695              0.00            nan            45.00               0.64   \n",
       "23696              0.00            nan              nan               0.52   \n",
       "23697              3.00         196.00           602.00                nan   \n",
       "23698              0.00            nan              nan               0.38   \n",
       "\n",
       "      share_kitchen_area  mean_kitchen_area  mean_living_area  \\\n",
       "0                   0.23               0.14              0.63   \n",
       "1                   0.27               0.25              0.49   \n",
       "2                   0.15               0.17              0.58   \n",
       "3                    nan               0.14              0.63   \n",
       "4                   0.41               0.17              0.58   \n",
       "...                  ...                ...               ...   \n",
       "23694               0.10               0.14              0.63   \n",
       "23695               0.14               0.14              0.63   \n",
       "23696                nan               0.17              0.58   \n",
       "23697               0.30               0.17              0.58   \n",
       "23698               0.28               0.25              0.49   \n",
       "\n",
       "       mean_total_area  result_for_living_area  result_for_kitchen_area  \n",
       "0                77.76                   48.63                    10.96  \n",
       "1                37.64                   18.29                     9.41  \n",
       "2                55.86                   32.36                     9.73  \n",
       "3                77.76                   48.63                    10.96  \n",
       "4                55.86                   32.36                     9.73  \n",
       "...                ...                     ...                      ...  \n",
       "23694            77.76                   48.63                    10.96  \n",
       "23695            77.76                   48.63                    10.96  \n",
       "23696            55.86                   32.36                     9.73  \n",
       "23697            55.86                   32.36                     9.73  \n",
       "23698            37.64                   18.29                     9.41  \n",
       "\n",
       "[23699 rows x 29 columns]"
      ]
     },
     "execution_count": 8,
     "metadata": {},
     "output_type": "execute_result"
    }
   ],
   "source": [
    "df['living_area'] = df.apply(\n",
    "    lambda x: x['living_area'] if x['living_area'] == x['living_area']\n",
    "                                            else x['result_for_living_area'],\n",
    "    axis=1\n",
    ")\n",
    "\n",
    "df['kitchen_area'] = df.apply(\n",
    "    lambda x: x['kitchen_area'] if x['kitchen_area'] == x['kitchen_area']\n",
    "                                            else x['result_for_kitchen_area'],\n",
    "    axis=1\n",
    ")\n",
    "df"
   ]
  },
  {
   "cell_type": "code",
   "execution_count": 9,
   "metadata": {},
   "outputs": [
    {
     "data": {
      "text/html": [
       "<div>\n",
       "<style scoped>\n",
       "    .dataframe tbody tr th:only-of-type {\n",
       "        vertical-align: middle;\n",
       "    }\n",
       "\n",
       "    .dataframe tbody tr th {\n",
       "        vertical-align: top;\n",
       "    }\n",
       "\n",
       "    .dataframe thead th {\n",
       "        text-align: right;\n",
       "    }\n",
       "</style>\n",
       "<table border=\"1\" class=\"dataframe\">\n",
       "  <thead>\n",
       "    <tr style=\"text-align: right;\">\n",
       "      <th></th>\n",
       "      <th>total_images</th>\n",
       "      <th>last_price</th>\n",
       "      <th>total_area</th>\n",
       "      <th>first_day_exposition</th>\n",
       "      <th>rooms</th>\n",
       "      <th>ceiling_height</th>\n",
       "      <th>floors_total</th>\n",
       "      <th>living_area</th>\n",
       "      <th>floor</th>\n",
       "      <th>is_apartment</th>\n",
       "      <th>...</th>\n",
       "      <th>kitchen_area</th>\n",
       "      <th>balcony</th>\n",
       "      <th>locality_name</th>\n",
       "      <th>airports_nearest</th>\n",
       "      <th>cityCenters_nearest</th>\n",
       "      <th>parks_around3000</th>\n",
       "      <th>parks_nearest</th>\n",
       "      <th>ponds_around3000</th>\n",
       "      <th>ponds_nearest</th>\n",
       "      <th>days_exposition</th>\n",
       "    </tr>\n",
       "  </thead>\n",
       "  <tbody>\n",
       "    <tr>\n",
       "      <td>0</td>\n",
       "      <td>20</td>\n",
       "      <td>13,000,000.00</td>\n",
       "      <td>108.00</td>\n",
       "      <td>2019-03-07</td>\n",
       "      <td>3</td>\n",
       "      <td>2.70</td>\n",
       "      <td>16.00</td>\n",
       "      <td>51.00</td>\n",
       "      <td>8</td>\n",
       "      <td>NaN</td>\n",
       "      <td>...</td>\n",
       "      <td>25.00</td>\n",
       "      <td>0.00</td>\n",
       "      <td>Санкт-Петербург</td>\n",
       "      <td>18,863.00</td>\n",
       "      <td>16,028.00</td>\n",
       "      <td>1.00</td>\n",
       "      <td>482.00</td>\n",
       "      <td>2.00</td>\n",
       "      <td>755.00</td>\n",
       "      <td>nan</td>\n",
       "    </tr>\n",
       "    <tr>\n",
       "      <td>1</td>\n",
       "      <td>7</td>\n",
       "      <td>3,350,000.00</td>\n",
       "      <td>40.40</td>\n",
       "      <td>2018-12-04</td>\n",
       "      <td>1</td>\n",
       "      <td>2.65</td>\n",
       "      <td>11.00</td>\n",
       "      <td>18.60</td>\n",
       "      <td>1</td>\n",
       "      <td>NaN</td>\n",
       "      <td>...</td>\n",
       "      <td>11.00</td>\n",
       "      <td>2.00</td>\n",
       "      <td>посёлок Шушары</td>\n",
       "      <td>12,817.00</td>\n",
       "      <td>18,603.00</td>\n",
       "      <td>0.00</td>\n",
       "      <td>nan</td>\n",
       "      <td>0.00</td>\n",
       "      <td>nan</td>\n",
       "      <td>81.00</td>\n",
       "    </tr>\n",
       "    <tr>\n",
       "      <td>2</td>\n",
       "      <td>10</td>\n",
       "      <td>5,196,000.00</td>\n",
       "      <td>56.00</td>\n",
       "      <td>2015-08-20</td>\n",
       "      <td>2</td>\n",
       "      <td>2.65</td>\n",
       "      <td>5.00</td>\n",
       "      <td>34.30</td>\n",
       "      <td>4</td>\n",
       "      <td>NaN</td>\n",
       "      <td>...</td>\n",
       "      <td>8.30</td>\n",
       "      <td>0.00</td>\n",
       "      <td>Санкт-Петербург</td>\n",
       "      <td>21,741.00</td>\n",
       "      <td>13,933.00</td>\n",
       "      <td>1.00</td>\n",
       "      <td>90.00</td>\n",
       "      <td>2.00</td>\n",
       "      <td>574.00</td>\n",
       "      <td>558.00</td>\n",
       "    </tr>\n",
       "    <tr>\n",
       "      <td>3</td>\n",
       "      <td>0</td>\n",
       "      <td>64,900,000.00</td>\n",
       "      <td>159.00</td>\n",
       "      <td>2015-07-24</td>\n",
       "      <td>3</td>\n",
       "      <td>2.65</td>\n",
       "      <td>14.00</td>\n",
       "      <td>48.63</td>\n",
       "      <td>9</td>\n",
       "      <td>NaN</td>\n",
       "      <td>...</td>\n",
       "      <td>10.96</td>\n",
       "      <td>0.00</td>\n",
       "      <td>Санкт-Петербург</td>\n",
       "      <td>28,098.00</td>\n",
       "      <td>6,800.00</td>\n",
       "      <td>2.00</td>\n",
       "      <td>84.00</td>\n",
       "      <td>3.00</td>\n",
       "      <td>234.00</td>\n",
       "      <td>424.00</td>\n",
       "    </tr>\n",
       "    <tr>\n",
       "      <td>4</td>\n",
       "      <td>2</td>\n",
       "      <td>10,000,000.00</td>\n",
       "      <td>100.00</td>\n",
       "      <td>2018-06-19</td>\n",
       "      <td>2</td>\n",
       "      <td>3.03</td>\n",
       "      <td>14.00</td>\n",
       "      <td>32.00</td>\n",
       "      <td>13</td>\n",
       "      <td>NaN</td>\n",
       "      <td>...</td>\n",
       "      <td>41.00</td>\n",
       "      <td>0.00</td>\n",
       "      <td>Санкт-Петербург</td>\n",
       "      <td>31,856.00</td>\n",
       "      <td>8,098.00</td>\n",
       "      <td>2.00</td>\n",
       "      <td>112.00</td>\n",
       "      <td>1.00</td>\n",
       "      <td>48.00</td>\n",
       "      <td>121.00</td>\n",
       "    </tr>\n",
       "    <tr>\n",
       "      <td>...</td>\n",
       "      <td>...</td>\n",
       "      <td>...</td>\n",
       "      <td>...</td>\n",
       "      <td>...</td>\n",
       "      <td>...</td>\n",
       "      <td>...</td>\n",
       "      <td>...</td>\n",
       "      <td>...</td>\n",
       "      <td>...</td>\n",
       "      <td>...</td>\n",
       "      <td>...</td>\n",
       "      <td>...</td>\n",
       "      <td>...</td>\n",
       "      <td>...</td>\n",
       "      <td>...</td>\n",
       "      <td>...</td>\n",
       "      <td>...</td>\n",
       "      <td>...</td>\n",
       "      <td>...</td>\n",
       "      <td>...</td>\n",
       "      <td>...</td>\n",
       "    </tr>\n",
       "    <tr>\n",
       "      <td>23694</td>\n",
       "      <td>9</td>\n",
       "      <td>9,700,000.00</td>\n",
       "      <td>133.81</td>\n",
       "      <td>2017-03-21</td>\n",
       "      <td>3</td>\n",
       "      <td>3.70</td>\n",
       "      <td>5.00</td>\n",
       "      <td>73.30</td>\n",
       "      <td>3</td>\n",
       "      <td>NaN</td>\n",
       "      <td>...</td>\n",
       "      <td>13.83</td>\n",
       "      <td>0.00</td>\n",
       "      <td>Санкт-Петербург</td>\n",
       "      <td>24,665.00</td>\n",
       "      <td>4,232.00</td>\n",
       "      <td>1.00</td>\n",
       "      <td>796.00</td>\n",
       "      <td>3.00</td>\n",
       "      <td>381.00</td>\n",
       "      <td>nan</td>\n",
       "    </tr>\n",
       "    <tr>\n",
       "      <td>23695</td>\n",
       "      <td>14</td>\n",
       "      <td>3,100,000.00</td>\n",
       "      <td>59.00</td>\n",
       "      <td>2018-01-15</td>\n",
       "      <td>3</td>\n",
       "      <td>2.65</td>\n",
       "      <td>5.00</td>\n",
       "      <td>38.00</td>\n",
       "      <td>4</td>\n",
       "      <td>NaN</td>\n",
       "      <td>...</td>\n",
       "      <td>8.50</td>\n",
       "      <td>0.00</td>\n",
       "      <td>Тосно</td>\n",
       "      <td>nan</td>\n",
       "      <td>nan</td>\n",
       "      <td>0.00</td>\n",
       "      <td>nan</td>\n",
       "      <td>0.00</td>\n",
       "      <td>nan</td>\n",
       "      <td>45.00</td>\n",
       "    </tr>\n",
       "    <tr>\n",
       "      <td>23696</td>\n",
       "      <td>18</td>\n",
       "      <td>2,500,000.00</td>\n",
       "      <td>56.70</td>\n",
       "      <td>2018-02-11</td>\n",
       "      <td>2</td>\n",
       "      <td>2.65</td>\n",
       "      <td>3.00</td>\n",
       "      <td>29.70</td>\n",
       "      <td>1</td>\n",
       "      <td>NaN</td>\n",
       "      <td>...</td>\n",
       "      <td>9.73</td>\n",
       "      <td>0.00</td>\n",
       "      <td>село Рождествено</td>\n",
       "      <td>nan</td>\n",
       "      <td>nan</td>\n",
       "      <td>0.00</td>\n",
       "      <td>nan</td>\n",
       "      <td>0.00</td>\n",
       "      <td>nan</td>\n",
       "      <td>nan</td>\n",
       "    </tr>\n",
       "    <tr>\n",
       "      <td>23697</td>\n",
       "      <td>13</td>\n",
       "      <td>11,475,000.00</td>\n",
       "      <td>76.75</td>\n",
       "      <td>2017-03-28</td>\n",
       "      <td>2</td>\n",
       "      <td>3.00</td>\n",
       "      <td>17.00</td>\n",
       "      <td>32.36</td>\n",
       "      <td>12</td>\n",
       "      <td>NaN</td>\n",
       "      <td>...</td>\n",
       "      <td>23.30</td>\n",
       "      <td>2.00</td>\n",
       "      <td>Санкт-Петербург</td>\n",
       "      <td>39,140.00</td>\n",
       "      <td>10,364.00</td>\n",
       "      <td>2.00</td>\n",
       "      <td>173.00</td>\n",
       "      <td>3.00</td>\n",
       "      <td>196.00</td>\n",
       "      <td>602.00</td>\n",
       "    </tr>\n",
       "    <tr>\n",
       "      <td>23698</td>\n",
       "      <td>4</td>\n",
       "      <td>1,350,000.00</td>\n",
       "      <td>32.30</td>\n",
       "      <td>2017-07-21</td>\n",
       "      <td>1</td>\n",
       "      <td>2.50</td>\n",
       "      <td>5.00</td>\n",
       "      <td>12.30</td>\n",
       "      <td>1</td>\n",
       "      <td>NaN</td>\n",
       "      <td>...</td>\n",
       "      <td>9.00</td>\n",
       "      <td>0.00</td>\n",
       "      <td>поселок Новый Учхоз</td>\n",
       "      <td>nan</td>\n",
       "      <td>nan</td>\n",
       "      <td>0.00</td>\n",
       "      <td>nan</td>\n",
       "      <td>0.00</td>\n",
       "      <td>nan</td>\n",
       "      <td>nan</td>\n",
       "    </tr>\n",
       "  </tbody>\n",
       "</table>\n",
       "<p>23699 rows × 22 columns</p>\n",
       "</div>"
      ],
      "text/plain": [
       "       total_images    last_price  total_area first_day_exposition  rooms  \\\n",
       "0                20 13,000,000.00      108.00           2019-03-07      3   \n",
       "1                 7  3,350,000.00       40.40           2018-12-04      1   \n",
       "2                10  5,196,000.00       56.00           2015-08-20      2   \n",
       "3                 0 64,900,000.00      159.00           2015-07-24      3   \n",
       "4                 2 10,000,000.00      100.00           2018-06-19      2   \n",
       "...             ...           ...         ...                  ...    ...   \n",
       "23694             9  9,700,000.00      133.81           2017-03-21      3   \n",
       "23695            14  3,100,000.00       59.00           2018-01-15      3   \n",
       "23696            18  2,500,000.00       56.70           2018-02-11      2   \n",
       "23697            13 11,475,000.00       76.75           2017-03-28      2   \n",
       "23698             4  1,350,000.00       32.30           2017-07-21      1   \n",
       "\n",
       "       ceiling_height  floors_total  living_area  floor is_apartment  ...  \\\n",
       "0                2.70         16.00        51.00      8          NaN  ...   \n",
       "1                2.65         11.00        18.60      1          NaN  ...   \n",
       "2                2.65          5.00        34.30      4          NaN  ...   \n",
       "3                2.65         14.00        48.63      9          NaN  ...   \n",
       "4                3.03         14.00        32.00     13          NaN  ...   \n",
       "...               ...           ...          ...    ...          ...  ...   \n",
       "23694            3.70          5.00        73.30      3          NaN  ...   \n",
       "23695            2.65          5.00        38.00      4          NaN  ...   \n",
       "23696            2.65          3.00        29.70      1          NaN  ...   \n",
       "23697            3.00         17.00        32.36     12          NaN  ...   \n",
       "23698            2.50          5.00        12.30      1          NaN  ...   \n",
       "\n",
       "       kitchen_area  balcony        locality_name  airports_nearest  \\\n",
       "0             25.00     0.00      Санкт-Петербург         18,863.00   \n",
       "1             11.00     2.00       посёлок Шушары         12,817.00   \n",
       "2              8.30     0.00      Санкт-Петербург         21,741.00   \n",
       "3             10.96     0.00      Санкт-Петербург         28,098.00   \n",
       "4             41.00     0.00      Санкт-Петербург         31,856.00   \n",
       "...             ...      ...                  ...               ...   \n",
       "23694         13.83     0.00      Санкт-Петербург         24,665.00   \n",
       "23695          8.50     0.00                Тосно               nan   \n",
       "23696          9.73     0.00     село Рождествено               nan   \n",
       "23697         23.30     2.00      Санкт-Петербург         39,140.00   \n",
       "23698          9.00     0.00  поселок Новый Учхоз               nan   \n",
       "\n",
       "      cityCenters_nearest  parks_around3000  parks_nearest  ponds_around3000  \\\n",
       "0               16,028.00              1.00         482.00              2.00   \n",
       "1               18,603.00              0.00            nan              0.00   \n",
       "2               13,933.00              1.00          90.00              2.00   \n",
       "3                6,800.00              2.00          84.00              3.00   \n",
       "4                8,098.00              2.00         112.00              1.00   \n",
       "...                   ...               ...            ...               ...   \n",
       "23694            4,232.00              1.00         796.00              3.00   \n",
       "23695                 nan              0.00            nan              0.00   \n",
       "23696                 nan              0.00            nan              0.00   \n",
       "23697           10,364.00              2.00         173.00              3.00   \n",
       "23698                 nan              0.00            nan              0.00   \n",
       "\n",
       "       ponds_nearest  days_exposition  \n",
       "0             755.00              nan  \n",
       "1                nan            81.00  \n",
       "2             574.00           558.00  \n",
       "3             234.00           424.00  \n",
       "4              48.00           121.00  \n",
       "...              ...              ...  \n",
       "23694         381.00              nan  \n",
       "23695            nan            45.00  \n",
       "23696            nan              nan  \n",
       "23697         196.00           602.00  \n",
       "23698            nan              nan  \n",
       "\n",
       "[23699 rows x 22 columns]"
      ]
     },
     "execution_count": 9,
     "metadata": {},
     "output_type": "execute_result"
    }
   ],
   "source": [
    "df = df.drop(['share_living_area','share_kitchen_area','mean_kitchen_area','mean_living_area','mean_total_area','result_for_living_area','result_for_kitchen_area'], axis = 1)\n",
    "df"
   ]
  },
  {
   "cell_type": "code",
   "execution_count": 10,
   "metadata": {},
   "outputs": [
    {
     "name": "stdout",
     "output_type": "stream",
     "text": [
      "0.8312587028988565\n"
     ]
    }
   ],
   "source": [
    "def share_of_passes(x):\n",
    "    return x.isna().sum() / len(x) * 100\n",
    "print(share_of_passes(df['kitchen_area'])) \n",
    "# Т.к не было значения для 0 комнат, то в основной таблице пропуски есть только для них. Но пропусков меньше 1%, можно пренебречь"
   ]
  },
  {
   "cell_type": "markdown",
   "metadata": {},
   "source": [
    "<div class=\"alert alert-info\"> <b>Комментарий студента:</b> Пока не понимаю, как заполнить пропуски в df из share_mean .</div>"
   ]
  },
  {
   "cell_type": "markdown",
   "metadata": {},
   "source": [
    "<div class=\"alert alert-success\">\n",
    "<b>✅ Комментарий ревьюера V2:</b> \n",
    "\n",
    "Попробуй сделать цикл\n",
    "</div>"
   ]
  },
  {
   "cell_type": "markdown",
   "metadata": {},
   "source": [
    "## Расчёты и добавление результатов в таблицу"
   ]
  },
  {
   "cell_type": "code",
   "execution_count": 11,
   "metadata": {},
   "outputs": [
    {
     "data": {
      "text/html": [
       "<div>\n",
       "<style scoped>\n",
       "    .dataframe tbody tr th:only-of-type {\n",
       "        vertical-align: middle;\n",
       "    }\n",
       "\n",
       "    .dataframe tbody tr th {\n",
       "        vertical-align: top;\n",
       "    }\n",
       "\n",
       "    .dataframe thead th {\n",
       "        text-align: right;\n",
       "    }\n",
       "</style>\n",
       "<table border=\"1\" class=\"dataframe\">\n",
       "  <thead>\n",
       "    <tr style=\"text-align: right;\">\n",
       "      <th></th>\n",
       "      <th>total_images</th>\n",
       "      <th>last_price</th>\n",
       "      <th>total_area</th>\n",
       "      <th>first_day_exposition</th>\n",
       "      <th>rooms</th>\n",
       "      <th>ceiling_height</th>\n",
       "      <th>floors_total</th>\n",
       "      <th>living_area</th>\n",
       "      <th>floor</th>\n",
       "      <th>is_apartment</th>\n",
       "      <th>...</th>\n",
       "      <th>ponds_around3000</th>\n",
       "      <th>ponds_nearest</th>\n",
       "      <th>days_exposition</th>\n",
       "      <th>price_per_square_meter</th>\n",
       "      <th>day_of_the_week_of_publication</th>\n",
       "      <th>month_of_publication</th>\n",
       "      <th>year_of_publication</th>\n",
       "      <th>apartment_floor</th>\n",
       "      <th>residential/total area</th>\n",
       "      <th>kitchen area/total</th>\n",
       "    </tr>\n",
       "  </thead>\n",
       "  <tbody>\n",
       "    <tr>\n",
       "      <td>0</td>\n",
       "      <td>20</td>\n",
       "      <td>13,000,000.00</td>\n",
       "      <td>108.00</td>\n",
       "      <td>2019-03-07</td>\n",
       "      <td>3</td>\n",
       "      <td>2.70</td>\n",
       "      <td>16.00</td>\n",
       "      <td>51.00</td>\n",
       "      <td>8</td>\n",
       "      <td>NaN</td>\n",
       "      <td>...</td>\n",
       "      <td>2.00</td>\n",
       "      <td>755.00</td>\n",
       "      <td>nan</td>\n",
       "      <td>120,370.37</td>\n",
       "      <td>3</td>\n",
       "      <td>3</td>\n",
       "      <td>2019</td>\n",
       "      <td>Другой</td>\n",
       "      <td>0.47</td>\n",
       "      <td>0.23</td>\n",
       "    </tr>\n",
       "    <tr>\n",
       "      <td>1</td>\n",
       "      <td>7</td>\n",
       "      <td>3,350,000.00</td>\n",
       "      <td>40.40</td>\n",
       "      <td>2018-12-04</td>\n",
       "      <td>1</td>\n",
       "      <td>2.65</td>\n",
       "      <td>11.00</td>\n",
       "      <td>18.60</td>\n",
       "      <td>1</td>\n",
       "      <td>NaN</td>\n",
       "      <td>...</td>\n",
       "      <td>0.00</td>\n",
       "      <td>nan</td>\n",
       "      <td>81.00</td>\n",
       "      <td>82,920.79</td>\n",
       "      <td>1</td>\n",
       "      <td>12</td>\n",
       "      <td>2018</td>\n",
       "      <td>Первый</td>\n",
       "      <td>0.46</td>\n",
       "      <td>0.27</td>\n",
       "    </tr>\n",
       "    <tr>\n",
       "      <td>2</td>\n",
       "      <td>10</td>\n",
       "      <td>5,196,000.00</td>\n",
       "      <td>56.00</td>\n",
       "      <td>2015-08-20</td>\n",
       "      <td>2</td>\n",
       "      <td>2.65</td>\n",
       "      <td>5.00</td>\n",
       "      <td>34.30</td>\n",
       "      <td>4</td>\n",
       "      <td>NaN</td>\n",
       "      <td>...</td>\n",
       "      <td>2.00</td>\n",
       "      <td>574.00</td>\n",
       "      <td>558.00</td>\n",
       "      <td>92,785.71</td>\n",
       "      <td>3</td>\n",
       "      <td>8</td>\n",
       "      <td>2015</td>\n",
       "      <td>Другой</td>\n",
       "      <td>0.61</td>\n",
       "      <td>0.15</td>\n",
       "    </tr>\n",
       "    <tr>\n",
       "      <td>3</td>\n",
       "      <td>0</td>\n",
       "      <td>64,900,000.00</td>\n",
       "      <td>159.00</td>\n",
       "      <td>2015-07-24</td>\n",
       "      <td>3</td>\n",
       "      <td>2.65</td>\n",
       "      <td>14.00</td>\n",
       "      <td>48.63</td>\n",
       "      <td>9</td>\n",
       "      <td>NaN</td>\n",
       "      <td>...</td>\n",
       "      <td>3.00</td>\n",
       "      <td>234.00</td>\n",
       "      <td>424.00</td>\n",
       "      <td>408,176.10</td>\n",
       "      <td>4</td>\n",
       "      <td>7</td>\n",
       "      <td>2015</td>\n",
       "      <td>Другой</td>\n",
       "      <td>0.31</td>\n",
       "      <td>0.07</td>\n",
       "    </tr>\n",
       "    <tr>\n",
       "      <td>4</td>\n",
       "      <td>2</td>\n",
       "      <td>10,000,000.00</td>\n",
       "      <td>100.00</td>\n",
       "      <td>2018-06-19</td>\n",
       "      <td>2</td>\n",
       "      <td>3.03</td>\n",
       "      <td>14.00</td>\n",
       "      <td>32.00</td>\n",
       "      <td>13</td>\n",
       "      <td>NaN</td>\n",
       "      <td>...</td>\n",
       "      <td>1.00</td>\n",
       "      <td>48.00</td>\n",
       "      <td>121.00</td>\n",
       "      <td>100,000.00</td>\n",
       "      <td>1</td>\n",
       "      <td>6</td>\n",
       "      <td>2018</td>\n",
       "      <td>Другой</td>\n",
       "      <td>0.32</td>\n",
       "      <td>0.41</td>\n",
       "    </tr>\n",
       "    <tr>\n",
       "      <td>...</td>\n",
       "      <td>...</td>\n",
       "      <td>...</td>\n",
       "      <td>...</td>\n",
       "      <td>...</td>\n",
       "      <td>...</td>\n",
       "      <td>...</td>\n",
       "      <td>...</td>\n",
       "      <td>...</td>\n",
       "      <td>...</td>\n",
       "      <td>...</td>\n",
       "      <td>...</td>\n",
       "      <td>...</td>\n",
       "      <td>...</td>\n",
       "      <td>...</td>\n",
       "      <td>...</td>\n",
       "      <td>...</td>\n",
       "      <td>...</td>\n",
       "      <td>...</td>\n",
       "      <td>...</td>\n",
       "      <td>...</td>\n",
       "      <td>...</td>\n",
       "    </tr>\n",
       "    <tr>\n",
       "      <td>23694</td>\n",
       "      <td>9</td>\n",
       "      <td>9,700,000.00</td>\n",
       "      <td>133.81</td>\n",
       "      <td>2017-03-21</td>\n",
       "      <td>3</td>\n",
       "      <td>3.70</td>\n",
       "      <td>5.00</td>\n",
       "      <td>73.30</td>\n",
       "      <td>3</td>\n",
       "      <td>NaN</td>\n",
       "      <td>...</td>\n",
       "      <td>3.00</td>\n",
       "      <td>381.00</td>\n",
       "      <td>nan</td>\n",
       "      <td>72,490.85</td>\n",
       "      <td>1</td>\n",
       "      <td>3</td>\n",
       "      <td>2017</td>\n",
       "      <td>Другой</td>\n",
       "      <td>0.55</td>\n",
       "      <td>0.10</td>\n",
       "    </tr>\n",
       "    <tr>\n",
       "      <td>23695</td>\n",
       "      <td>14</td>\n",
       "      <td>3,100,000.00</td>\n",
       "      <td>59.00</td>\n",
       "      <td>2018-01-15</td>\n",
       "      <td>3</td>\n",
       "      <td>2.65</td>\n",
       "      <td>5.00</td>\n",
       "      <td>38.00</td>\n",
       "      <td>4</td>\n",
       "      <td>NaN</td>\n",
       "      <td>...</td>\n",
       "      <td>0.00</td>\n",
       "      <td>nan</td>\n",
       "      <td>45.00</td>\n",
       "      <td>52,542.37</td>\n",
       "      <td>0</td>\n",
       "      <td>1</td>\n",
       "      <td>2018</td>\n",
       "      <td>Другой</td>\n",
       "      <td>0.64</td>\n",
       "      <td>0.14</td>\n",
       "    </tr>\n",
       "    <tr>\n",
       "      <td>23696</td>\n",
       "      <td>18</td>\n",
       "      <td>2,500,000.00</td>\n",
       "      <td>56.70</td>\n",
       "      <td>2018-02-11</td>\n",
       "      <td>2</td>\n",
       "      <td>2.65</td>\n",
       "      <td>3.00</td>\n",
       "      <td>29.70</td>\n",
       "      <td>1</td>\n",
       "      <td>NaN</td>\n",
       "      <td>...</td>\n",
       "      <td>0.00</td>\n",
       "      <td>nan</td>\n",
       "      <td>nan</td>\n",
       "      <td>44,091.71</td>\n",
       "      <td>6</td>\n",
       "      <td>2</td>\n",
       "      <td>2018</td>\n",
       "      <td>Первый</td>\n",
       "      <td>0.52</td>\n",
       "      <td>0.17</td>\n",
       "    </tr>\n",
       "    <tr>\n",
       "      <td>23697</td>\n",
       "      <td>13</td>\n",
       "      <td>11,475,000.00</td>\n",
       "      <td>76.75</td>\n",
       "      <td>2017-03-28</td>\n",
       "      <td>2</td>\n",
       "      <td>3.00</td>\n",
       "      <td>17.00</td>\n",
       "      <td>32.36</td>\n",
       "      <td>12</td>\n",
       "      <td>NaN</td>\n",
       "      <td>...</td>\n",
       "      <td>3.00</td>\n",
       "      <td>196.00</td>\n",
       "      <td>602.00</td>\n",
       "      <td>149,511.40</td>\n",
       "      <td>1</td>\n",
       "      <td>3</td>\n",
       "      <td>2017</td>\n",
       "      <td>Другой</td>\n",
       "      <td>0.42</td>\n",
       "      <td>0.30</td>\n",
       "    </tr>\n",
       "    <tr>\n",
       "      <td>23698</td>\n",
       "      <td>4</td>\n",
       "      <td>1,350,000.00</td>\n",
       "      <td>32.30</td>\n",
       "      <td>2017-07-21</td>\n",
       "      <td>1</td>\n",
       "      <td>2.50</td>\n",
       "      <td>5.00</td>\n",
       "      <td>12.30</td>\n",
       "      <td>1</td>\n",
       "      <td>NaN</td>\n",
       "      <td>...</td>\n",
       "      <td>0.00</td>\n",
       "      <td>nan</td>\n",
       "      <td>nan</td>\n",
       "      <td>41,795.67</td>\n",
       "      <td>4</td>\n",
       "      <td>7</td>\n",
       "      <td>2017</td>\n",
       "      <td>Первый</td>\n",
       "      <td>0.38</td>\n",
       "      <td>0.28</td>\n",
       "    </tr>\n",
       "  </tbody>\n",
       "</table>\n",
       "<p>23699 rows × 29 columns</p>\n",
       "</div>"
      ],
      "text/plain": [
       "       total_images    last_price  total_area first_day_exposition  rooms  \\\n",
       "0                20 13,000,000.00      108.00           2019-03-07      3   \n",
       "1                 7  3,350,000.00       40.40           2018-12-04      1   \n",
       "2                10  5,196,000.00       56.00           2015-08-20      2   \n",
       "3                 0 64,900,000.00      159.00           2015-07-24      3   \n",
       "4                 2 10,000,000.00      100.00           2018-06-19      2   \n",
       "...             ...           ...         ...                  ...    ...   \n",
       "23694             9  9,700,000.00      133.81           2017-03-21      3   \n",
       "23695            14  3,100,000.00       59.00           2018-01-15      3   \n",
       "23696            18  2,500,000.00       56.70           2018-02-11      2   \n",
       "23697            13 11,475,000.00       76.75           2017-03-28      2   \n",
       "23698             4  1,350,000.00       32.30           2017-07-21      1   \n",
       "\n",
       "       ceiling_height  floors_total  living_area  floor is_apartment  ...  \\\n",
       "0                2.70         16.00        51.00      8          NaN  ...   \n",
       "1                2.65         11.00        18.60      1          NaN  ...   \n",
       "2                2.65          5.00        34.30      4          NaN  ...   \n",
       "3                2.65         14.00        48.63      9          NaN  ...   \n",
       "4                3.03         14.00        32.00     13          NaN  ...   \n",
       "...               ...           ...          ...    ...          ...  ...   \n",
       "23694            3.70          5.00        73.30      3          NaN  ...   \n",
       "23695            2.65          5.00        38.00      4          NaN  ...   \n",
       "23696            2.65          3.00        29.70      1          NaN  ...   \n",
       "23697            3.00         17.00        32.36     12          NaN  ...   \n",
       "23698            2.50          5.00        12.30      1          NaN  ...   \n",
       "\n",
       "       ponds_around3000  ponds_nearest  days_exposition  \\\n",
       "0                  2.00         755.00              nan   \n",
       "1                  0.00            nan            81.00   \n",
       "2                  2.00         574.00           558.00   \n",
       "3                  3.00         234.00           424.00   \n",
       "4                  1.00          48.00           121.00   \n",
       "...                 ...            ...              ...   \n",
       "23694              3.00         381.00              nan   \n",
       "23695              0.00            nan            45.00   \n",
       "23696              0.00            nan              nan   \n",
       "23697              3.00         196.00           602.00   \n",
       "23698              0.00            nan              nan   \n",
       "\n",
       "       price_per_square_meter day_of_the_week_of_publication  \\\n",
       "0                  120,370.37                              3   \n",
       "1                   82,920.79                              1   \n",
       "2                   92,785.71                              3   \n",
       "3                  408,176.10                              4   \n",
       "4                  100,000.00                              1   \n",
       "...                       ...                            ...   \n",
       "23694               72,490.85                              1   \n",
       "23695               52,542.37                              0   \n",
       "23696               44,091.71                              6   \n",
       "23697              149,511.40                              1   \n",
       "23698               41,795.67                              4   \n",
       "\n",
       "       month_of_publication  year_of_publication  apartment_floor  \\\n",
       "0                         3                 2019           Другой   \n",
       "1                        12                 2018           Первый   \n",
       "2                         8                 2015           Другой   \n",
       "3                         7                 2015           Другой   \n",
       "4                         6                 2018           Другой   \n",
       "...                     ...                  ...              ...   \n",
       "23694                     3                 2017           Другой   \n",
       "23695                     1                 2018           Другой   \n",
       "23696                     2                 2018           Первый   \n",
       "23697                     3                 2017           Другой   \n",
       "23698                     7                 2017           Первый   \n",
       "\n",
       "       residential/total area  kitchen area/total  \n",
       "0                        0.47                0.23  \n",
       "1                        0.46                0.27  \n",
       "2                        0.61                0.15  \n",
       "3                        0.31                0.07  \n",
       "4                        0.32                0.41  \n",
       "...                       ...                 ...  \n",
       "23694                    0.55                0.10  \n",
       "23695                    0.64                0.14  \n",
       "23696                    0.52                0.17  \n",
       "23697                    0.42                0.30  \n",
       "23698                    0.38                0.28  \n",
       "\n",
       "[23699 rows x 29 columns]"
      ]
     },
     "execution_count": 11,
     "metadata": {},
     "output_type": "execute_result"
    }
   ],
   "source": [
    "'''Посчитайте и добавьте в таблицу\n",
    "цену квадратного метра;\n",
    "день недели, месяц и год публикации объявления;\n",
    "этаж квартиры; варианты — первый, последний, другой;\n",
    "соотношение жилой и общей площади, а также отношение площади кухни к общей.'''\n",
    "\n",
    "df['price_per_square_meter'] = df['last_price']/df['total_area']\n",
    "\n",
    "\n",
    "df['day_of_the_week_of_publication'] = df['first_day_exposition'].dt.weekday\n",
    "\n",
    "df['month_of_publication'] = df['first_day_exposition'].dt.month\n",
    "df['year_of_publication'] = df['first_day_exposition'].dt.year\n",
    "\n",
    "def apartment_floor(row):\n",
    "    row1 = row['floor']\n",
    "    row2 = row['floors_total']\n",
    "    if row1 == 1:\n",
    "        return 'Первый'\n",
    "    if row1 == row2:\n",
    "        return 'Последний'\n",
    "    else:\n",
    "        return 'Другой'\n",
    "\n",
    "df['apartment_floor'] = df.apply(apartment_floor, axis=1)\n",
    "\n",
    "\n",
    "df['residential/total area'] = df['living_area']/df['total_area']\n",
    "df['kitchen area/total'] = df['kitchen_area']/df['total_area']\n",
    "df"
   ]
  },
  {
   "cell_type": "markdown",
   "metadata": {},
   "source": [
    "<div class=\"alert alert-success\">\n",
    "<b>✅ Комментарий ревьюера :</b> \n",
    "\n",
    "Согласен\n",
    "- Расчеты корректны\n",
    "- Добавление корректно\n",
    "- Категоризация так же верна\n",
    "</div>"
   ]
  },
  {
   "cell_type": "markdown",
   "metadata": {},
   "source": [
    "## Исследовательский анализ данных"
   ]
  },
  {
   "cell_type": "code",
   "execution_count": 12,
   "metadata": {},
   "outputs": [
    {
     "data": {
      "image/png": "[encoded data removed]",
      "text/plain": [
       "<Figure size 432x288 with 1 Axes>"
      ]
     },
     "metadata": {
      "needs_background": "light"
     },
     "output_type": "display_data"
    },
    {
     "data": {
      "image/png": "[encoded data removed]",
      "text/plain": [
       "<Figure size 432x288 with 1 Axes>"
      ]
     },
     "metadata": {
      "needs_background": "light"
     },
     "output_type": "display_data"
    },
    {
     "data": {
      "image/png": "[encoded data removed]",
      "text/plain": [
       "<Figure size 432x288 with 1 Axes>"
      ]
     },
     "metadata": {
      "needs_background": "light"
     },
     "output_type": "display_data"
    },
    {
     "data": {
      "image/png": "[encoded data removed]",
      "text/plain": [
       "<Figure size 432x288 with 1 Axes>"
      ]
     },
     "metadata": {
      "needs_background": "light"
     },
     "output_type": "display_data"
    }
   ],
   "source": [
    "#Изучите следующие параметры: площадь, цена, число комнат, высота потолков. Постройте гистограммы для каждого параметра.\n",
    "ax = df.plot(kind = 'hist', y = 'total_area', bins = 100, histtype='step', linewidth=5, alpha=0.7, label='площадь квартиры (м²)')\n",
    "\n",
    "\n",
    "\n",
    "ax2 = df.plot(kind = 'hist', y = 'last_price', bins = 100, histtype='step', linewidth=5, alpha=0.7, label='цена (руб)',xlim = (1000000,100000000))\n",
    "\n",
    "\n",
    "ax3 = df.plot(kind = 'hist', y = 'rooms', bins = 20, histtype='step', linewidth=5, alpha=0.7, label='число комнат (кол-во)')\n",
    "\n",
    "\n",
    "ax4 = df.plot(kind = 'hist', y = 'ceiling_height', bins = 20, histtype='step', linewidth=5, alpha=0.7, label='высота потолков (м)')\n",
    "plt.show()\n"
   ]
  },
  {
   "cell_type": "markdown",
   "metadata": {},
   "source": [
    "<div class=\"alert alert-warning\">\n",
    "<b>⚠️ Комментарий ревьюера:</b> \n",
    "\n",
    "Добавь единицы измерения на графики\n",
    "</div>"
   ]
  },
  {
   "cell_type": "code",
   "execution_count": 13,
   "metadata": {},
   "outputs": [
    {
     "data": {
      "image/png": "[encoded data removed]",
      "text/plain": [
       "<Figure size 432x288 with 1 Axes>"
      ]
     },
     "metadata": {
      "needs_background": "light"
     },
     "output_type": "display_data"
    },
    {
     "name": "stdout",
     "output_type": "stream",
     "text": [
      "180.88863436982163\n",
      "95.0\n"
     ]
    },
    {
     "data": {
      "text/html": [
       "<div>\n",
       "<style scoped>\n",
       "    .dataframe tbody tr th:only-of-type {\n",
       "        vertical-align: middle;\n",
       "    }\n",
       "\n",
       "    .dataframe tbody tr th {\n",
       "        vertical-align: top;\n",
       "    }\n",
       "\n",
       "    .dataframe thead th {\n",
       "        text-align: right;\n",
       "    }\n",
       "</style>\n",
       "<table border=\"1\" class=\"dataframe\">\n",
       "  <thead>\n",
       "    <tr style=\"text-align: right;\">\n",
       "      <th></th>\n",
       "      <th>total_images</th>\n",
       "      <th>last_price</th>\n",
       "      <th>total_area</th>\n",
       "      <th>rooms</th>\n",
       "      <th>ceiling_height</th>\n",
       "      <th>floors_total</th>\n",
       "      <th>living_area</th>\n",
       "      <th>floor</th>\n",
       "      <th>kitchen_area</th>\n",
       "      <th>balcony</th>\n",
       "      <th>...</th>\n",
       "      <th>parks_nearest</th>\n",
       "      <th>ponds_around3000</th>\n",
       "      <th>ponds_nearest</th>\n",
       "      <th>days_exposition</th>\n",
       "      <th>price_per_square_meter</th>\n",
       "      <th>day_of_the_week_of_publication</th>\n",
       "      <th>month_of_publication</th>\n",
       "      <th>year_of_publication</th>\n",
       "      <th>residential/total area</th>\n",
       "      <th>kitchen area/total</th>\n",
       "    </tr>\n",
       "  </thead>\n",
       "  <tbody>\n",
       "    <tr>\n",
       "      <td>count</td>\n",
       "      <td>23,699.00</td>\n",
       "      <td>23,699.00</td>\n",
       "      <td>23,699.00</td>\n",
       "      <td>23,699.00</td>\n",
       "      <td>23,699.00</td>\n",
       "      <td>23,613.00</td>\n",
       "      <td>23,699.00</td>\n",
       "      <td>23,699.00</td>\n",
       "      <td>23,502.00</td>\n",
       "      <td>23,699.00</td>\n",
       "      <td>...</td>\n",
       "      <td>8,079.00</td>\n",
       "      <td>23,699.00</td>\n",
       "      <td>9,110.00</td>\n",
       "      <td>20,518.00</td>\n",
       "      <td>23,699.00</td>\n",
       "      <td>23,699.00</td>\n",
       "      <td>23,699.00</td>\n",
       "      <td>23,699.00</td>\n",
       "      <td>23,699.00</td>\n",
       "      <td>23,502.00</td>\n",
       "    </tr>\n",
       "    <tr>\n",
       "      <td>mean</td>\n",
       "      <td>9.86</td>\n",
       "      <td>6,541,548.77</td>\n",
       "      <td>60.35</td>\n",
       "      <td>2.07</td>\n",
       "      <td>2.72</td>\n",
       "      <td>10.67</td>\n",
       "      <td>34.51</td>\n",
       "      <td>5.89</td>\n",
       "      <td>10.55</td>\n",
       "      <td>0.59</td>\n",
       "      <td>...</td>\n",
       "      <td>490.80</td>\n",
       "      <td>0.59</td>\n",
       "      <td>517.98</td>\n",
       "      <td>180.89</td>\n",
       "      <td>99,421.66</td>\n",
       "      <td>2.57</td>\n",
       "      <td>6.40</td>\n",
       "      <td>2,017.37</td>\n",
       "      <td>0.57</td>\n",
       "      <td>0.19</td>\n",
       "    </tr>\n",
       "    <tr>\n",
       "      <td>std</td>\n",
       "      <td>5.68</td>\n",
       "      <td>10,887,013.27</td>\n",
       "      <td>35.65</td>\n",
       "      <td>1.08</td>\n",
       "      <td>0.99</td>\n",
       "      <td>6.60</td>\n",
       "      <td>21.86</td>\n",
       "      <td>4.89</td>\n",
       "      <td>5.67</td>\n",
       "      <td>0.96</td>\n",
       "      <td>...</td>\n",
       "      <td>342.32</td>\n",
       "      <td>0.88</td>\n",
       "      <td>277.72</td>\n",
       "      <td>219.73</td>\n",
       "      <td>50,306.80</td>\n",
       "      <td>1.79</td>\n",
       "      <td>3.49</td>\n",
       "      <td>1.04</td>\n",
       "      <td>0.11</td>\n",
       "      <td>0.07</td>\n",
       "    </tr>\n",
       "    <tr>\n",
       "      <td>min</td>\n",
       "      <td>0.00</td>\n",
       "      <td>12,190.00</td>\n",
       "      <td>12.00</td>\n",
       "      <td>0.00</td>\n",
       "      <td>1.00</td>\n",
       "      <td>1.00</td>\n",
       "      <td>2.00</td>\n",
       "      <td>1.00</td>\n",
       "      <td>1.30</td>\n",
       "      <td>0.00</td>\n",
       "      <td>...</td>\n",
       "      <td>1.00</td>\n",
       "      <td>0.00</td>\n",
       "      <td>13.00</td>\n",
       "      <td>1.00</td>\n",
       "      <td>111.83</td>\n",
       "      <td>0.00</td>\n",
       "      <td>1.00</td>\n",
       "      <td>2,014.00</td>\n",
       "      <td>0.02</td>\n",
       "      <td>0.02</td>\n",
       "    </tr>\n",
       "    <tr>\n",
       "      <td>25%</td>\n",
       "      <td>6.00</td>\n",
       "      <td>3,400,000.00</td>\n",
       "      <td>40.00</td>\n",
       "      <td>1.00</td>\n",
       "      <td>2.60</td>\n",
       "      <td>5.00</td>\n",
       "      <td>18.40</td>\n",
       "      <td>2.00</td>\n",
       "      <td>7.30</td>\n",
       "      <td>0.00</td>\n",
       "      <td>...</td>\n",
       "      <td>288.00</td>\n",
       "      <td>0.00</td>\n",
       "      <td>294.00</td>\n",
       "      <td>45.00</td>\n",
       "      <td>76,585.47</td>\n",
       "      <td>1.00</td>\n",
       "      <td>3.00</td>\n",
       "      <td>2,017.00</td>\n",
       "      <td>0.49</td>\n",
       "      <td>0.13</td>\n",
       "    </tr>\n",
       "    <tr>\n",
       "      <td>50%</td>\n",
       "      <td>9.00</td>\n",
       "      <td>4,650,000.00</td>\n",
       "      <td>52.00</td>\n",
       "      <td>2.00</td>\n",
       "      <td>2.65</td>\n",
       "      <td>9.00</td>\n",
       "      <td>30.30</td>\n",
       "      <td>4.00</td>\n",
       "      <td>9.41</td>\n",
       "      <td>0.00</td>\n",
       "      <td>...</td>\n",
       "      <td>455.00</td>\n",
       "      <td>0.00</td>\n",
       "      <td>502.00</td>\n",
       "      <td>95.00</td>\n",
       "      <td>95,000.00</td>\n",
       "      <td>3.00</td>\n",
       "      <td>6.00</td>\n",
       "      <td>2,017.00</td>\n",
       "      <td>0.57</td>\n",
       "      <td>0.18</td>\n",
       "    </tr>\n",
       "    <tr>\n",
       "      <td>75%</td>\n",
       "      <td>14.00</td>\n",
       "      <td>6,800,000.00</td>\n",
       "      <td>69.90</td>\n",
       "      <td>3.00</td>\n",
       "      <td>2.70</td>\n",
       "      <td>16.00</td>\n",
       "      <td>42.70</td>\n",
       "      <td>8.00</td>\n",
       "      <td>11.60</td>\n",
       "      <td>1.00</td>\n",
       "      <td>...</td>\n",
       "      <td>612.00</td>\n",
       "      <td>1.00</td>\n",
       "      <td>729.00</td>\n",
       "      <td>232.00</td>\n",
       "      <td>114,256.33</td>\n",
       "      <td>4.00</td>\n",
       "      <td>10.00</td>\n",
       "      <td>2,018.00</td>\n",
       "      <td>0.64</td>\n",
       "      <td>0.23</td>\n",
       "    </tr>\n",
       "    <tr>\n",
       "      <td>max</td>\n",
       "      <td>50.00</td>\n",
       "      <td>763,000,000.00</td>\n",
       "      <td>900.00</td>\n",
       "      <td>19.00</td>\n",
       "      <td>100.00</td>\n",
       "      <td>60.00</td>\n",
       "      <td>409.70</td>\n",
       "      <td>33.00</td>\n",
       "      <td>112.00</td>\n",
       "      <td>5.00</td>\n",
       "      <td>...</td>\n",
       "      <td>3,190.00</td>\n",
       "      <td>3.00</td>\n",
       "      <td>1,344.00</td>\n",
       "      <td>1,580.00</td>\n",
       "      <td>1,907,500.00</td>\n",
       "      <td>6.00</td>\n",
       "      <td>12.00</td>\n",
       "      <td>2,019.00</td>\n",
       "      <td>1.74</td>\n",
       "      <td>0.79</td>\n",
       "    </tr>\n",
       "  </tbody>\n",
       "</table>\n",
       "<p>8 rows × 23 columns</p>\n",
       "</div>"
      ],
      "text/plain": [
       "       total_images     last_price  total_area     rooms  ceiling_height  \\\n",
       "count     23,699.00      23,699.00   23,699.00 23,699.00       23,699.00   \n",
       "mean           9.86   6,541,548.77       60.35      2.07            2.72   \n",
       "std            5.68  10,887,013.27       35.65      1.08            0.99   \n",
       "min            0.00      12,190.00       12.00      0.00            1.00   \n",
       "25%            6.00   3,400,000.00       40.00      1.00            2.60   \n",
       "50%            9.00   4,650,000.00       52.00      2.00            2.65   \n",
       "75%           14.00   6,800,000.00       69.90      3.00            2.70   \n",
       "max           50.00 763,000,000.00      900.00     19.00          100.00   \n",
       "\n",
       "       floors_total  living_area     floor  kitchen_area   balcony  ...  \\\n",
       "count     23,613.00    23,699.00 23,699.00     23,502.00 23,699.00  ...   \n",
       "mean          10.67        34.51      5.89         10.55      0.59  ...   \n",
       "std            6.60        21.86      4.89          5.67      0.96  ...   \n",
       "min            1.00         2.00      1.00          1.30      0.00  ...   \n",
       "25%            5.00        18.40      2.00          7.30      0.00  ...   \n",
       "50%            9.00        30.30      4.00          9.41      0.00  ...   \n",
       "75%           16.00        42.70      8.00         11.60      1.00  ...   \n",
       "max           60.00       409.70     33.00        112.00      5.00  ...   \n",
       "\n",
       "       parks_nearest  ponds_around3000  ponds_nearest  days_exposition  \\\n",
       "count       8,079.00         23,699.00       9,110.00        20,518.00   \n",
       "mean          490.80              0.59         517.98           180.89   \n",
       "std           342.32              0.88         277.72           219.73   \n",
       "min             1.00              0.00          13.00             1.00   \n",
       "25%           288.00              0.00         294.00            45.00   \n",
       "50%           455.00              0.00         502.00            95.00   \n",
       "75%           612.00              1.00         729.00           232.00   \n",
       "max         3,190.00              3.00       1,344.00         1,580.00   \n",
       "\n",
       "       price_per_square_meter  day_of_the_week_of_publication  \\\n",
       "count               23,699.00                       23,699.00   \n",
       "mean                99,421.66                            2.57   \n",
       "std                 50,306.80                            1.79   \n",
       "min                    111.83                            0.00   \n",
       "25%                 76,585.47                            1.00   \n",
       "50%                 95,000.00                            3.00   \n",
       "75%                114,256.33                            4.00   \n",
       "max              1,907,500.00                            6.00   \n",
       "\n",
       "       month_of_publication  year_of_publication  residential/total area  \\\n",
       "count             23,699.00            23,699.00               23,699.00   \n",
       "mean                   6.40             2,017.37                    0.57   \n",
       "std                    3.49                 1.04                    0.11   \n",
       "min                    1.00             2,014.00                    0.02   \n",
       "25%                    3.00             2,017.00                    0.49   \n",
       "50%                    6.00             2,017.00                    0.57   \n",
       "75%                   10.00             2,018.00                    0.64   \n",
       "max                   12.00             2,019.00                    1.74   \n",
       "\n",
       "       kitchen area/total  \n",
       "count           23,502.00  \n",
       "mean                 0.19  \n",
       "std                  0.07  \n",
       "min                  0.02  \n",
       "25%                  0.13  \n",
       "50%                  0.18  \n",
       "75%                  0.23  \n",
       "max                  0.79  \n",
       "\n",
       "[8 rows x 23 columns]"
      ]
     },
     "metadata": {},
     "output_type": "display_data"
    }
   ],
   "source": [
    "#Изучите время продажи квартиры. Постройте гистограмму. Посчитайте среднее и медиану. \n",
    "#Опишите, сколько обычно занимает продажа. Когда можно считать, что продажи прошли очень быстро, а когда необычно долго?\n",
    "df['days_exposition'].hist(bins=100)\n",
    "plt.title('Время продажи квартиры')\n",
    "plt.show()\n",
    "\n",
    "mean_days = df['days_exposition'].mean()\n",
    "median_days = df['days_exposition'].median()\n",
    "print(mean_days)\n",
    "print(median_days)\n",
    "\n",
    "display(df.describe())\n",
    "\n",
    "# Обычно, продажа занимает примерно 100 дней. df.describe() показывает, что быстрые продажи примерно 43 дня.\n",
    "#Я смотрел на 1 квантиль, если так можно. Необычно долго - 231 дня (смотрел на 3-ий квантиль)"
   ]
  },
  {
   "cell_type": "markdown",
   "metadata": {},
   "source": [
    "<div class=\"alert alert-success\">\n",
    "<b>✅ Комментарий ревьюера :</b> \n",
    "\n",
    "Чтобы избавиться от лишних запятых при работе метода `describe` и убрать экспонентациальные формы - пропиши вначале настройку `pandas`, где импортируешь библиотеки.\n",
    "    \n",
    "```python\n",
    "pd.set_option('display.float_format', '{:,.2f}'.format)\n",
    "```\n",
    "</div>"
   ]
  },
  {
   "cell_type": "markdown",
   "metadata": {},
   "source": [
    "<div class=\"alert alert-success\">\n",
    "<b>✅ Комментарий ревьюера:</b> \n",
    "\n",
    "Так же обрати внимание на диапазон от 0 до 200 там есть странные пики в времени продажи, как их можешь объяснить?\n",
    "</div>"
   ]
  },
  {
   "cell_type": "code",
   "execution_count": 14,
   "metadata": {},
   "outputs": [],
   "source": [
    "#Уберите редкие и выбивающиеся значения. Опишите, какие особенности обнаружили.\n",
    "#Я уже это сделал выше. Опять же, я убирал данные, которые на мой взгляд являлись неправдоподобными или очень редкими.\n",
    "#Искал данные в интернете. Я пока не очень понял как правильно убирать данные. Либо как я, либо по диаграммам."
   ]
  },
  {
   "cell_type": "markdown",
   "metadata": {},
   "source": [
    "<div class=\"alert alert-success\">\n",
    "<b>✅ Комментарий ревьюера:</b> \n",
    "\n",
    "Убирать выбросы можно на основе типы распределения. Оцени по гистограмме типы и посмотри какие методы применяют.\n",
    "</div>"
   ]
  },
  {
   "cell_type": "code",
   "execution_count": 15,
   "metadata": {},
   "outputs": [
    {
     "data": {
      "image/png": "[encoded data removed]",
      "text/plain": [
       "<Figure size 432x288 with 1 Axes>"
      ]
     },
     "metadata": {
      "needs_background": "light"
     },
     "output_type": "display_data"
    },
    {
     "data": {
      "image/png": "[encoded data removed]",
      "text/plain": [
       "<Figure size 576x432 with 2 Axes>"
      ]
     },
     "metadata": {
      "needs_background": "light"
     },
     "output_type": "display_data"
    },
    {
     "name": "stdout",
     "output_type": "stream",
     "text": [
      "0.6536750579657242\n"
     ]
    }
   ],
   "source": [
    "#Какие факторы больше всего влияют на стоимость квартиры? \n",
    "#Изучите, зависит ли цена от площади, числа комнат, удалённости от центра.\n",
    "#Изучите зависимость цены от того, на каком этаже расположена квартира: первом, последнем или другом. \n",
    "#Также изучите зависимость от даты размещения: дня недели, месяца и года.\n",
    "\n",
    "\n",
    "#зависит ли цена от площади\n",
    "df.plot(kind = 'scatter', x = 'total_area', y ='last_price')\n",
    "plt.show()\n",
    "\n",
    "df.plot(x='total_area', y='last_price', kind='hexbin', gridsize=20, figsize=(8, 6), sharex=False, grid=True) \n",
    "plt.show()\n",
    "\n",
    "print(df['total_area'].corr(df['last_price']))\n",
    "\n",
    "# коэф корреляции Пирсона = 0.6536750579657244. Довольно сильная связь."
   ]
  },
  {
   "cell_type": "markdown",
   "metadata": {},
   "source": [
    "<div class=\"alert alert-success\">\n",
    "<b>✅ Комментарий ревьюера:</b> \n",
    "\n",
    "Хорошая визуализация, корреляция расчитана верно, вывод корректный\n",
    "</div>"
   ]
  },
  {
   "cell_type": "code",
   "execution_count": 16,
   "metadata": {},
   "outputs": [
    {
     "name": "stdout",
     "output_type": "stream",
     "text": [
      "0.3633428499648948\n"
     ]
    },
    {
     "data": {
      "image/png": "[encoded data removed]",
      "text/plain": [
       "<Figure size 432x288 with 1 Axes>"
      ]
     },
     "metadata": {
      "needs_background": "light"
     },
     "output_type": "display_data"
    }
   ],
   "source": [
    "#зависит ли цена от числа комнат\n",
    "df.plot(kind = 'scatter',x = 'rooms', y = 'last_price')\n",
    "print(df['rooms'].corr(df['last_price']))\n",
    "\n",
    "# коэф корреляции Пирсона = 0.36334284996489546. Средняя связь между ценой и кол-ом комнат."
   ]
  },
  {
   "cell_type": "markdown",
   "metadata": {},
   "source": [
    "<div class=\"alert alert-success\">\n",
    "<b>✅ Комментарий ревьюера:</b> \n",
    "\n",
    "Какая именно связь?\n",
    "</div>"
   ]
  },
  {
   "cell_type": "code",
   "execution_count": 17,
   "metadata": {},
   "outputs": [
    {
     "data": {
      "image/png": "[encoded data removed]",
      "text/plain": [
       "<Figure size 432x288 with 1 Axes>"
      ]
     },
     "metadata": {
      "needs_background": "light"
     },
     "output_type": "display_data"
    },
    {
     "data": {
      "image/png": "[encoded data removed]",
      "text/plain": [
       "<Figure size 576x432 with 2 Axes>"
      ]
     },
     "metadata": {
      "needs_background": "light"
     },
     "output_type": "display_data"
    },
    {
     "name": "stdout",
     "output_type": "stream",
     "text": [
      "-0.20674734874298373\n"
     ]
    }
   ],
   "source": [
    "#зависит ли цена от удалённости от центра\n",
    "df.plot(kind = 'scatter',x = 'cityCenters_nearest', y = 'last_price')\n",
    "plt.show()\n",
    "df.plot(kind = 'hexbin',x = 'cityCenters_nearest', y = 'last_price',gridsize=15, figsize=(8, 6), sharex=False, grid=True)\n",
    "plt.show()\n",
    "print(df['cityCenters_nearest'].corr(df['last_price']))\n",
    "\n",
    "# коэф корреляции Пирсона = -0.20674734874298376. Довольно слабая связь."
   ]
  },
  {
   "cell_type": "code",
   "execution_count": 18,
   "metadata": {},
   "outputs": [
    {
     "name": "stdout",
     "output_type": "stream",
     "text": [
      "0.0412844147745352\n"
     ]
    },
    {
     "data": {
      "image/png": "[encoded data removed]",
      "text/plain": [
       "<Figure size 432x288 with 1 Axes>"
      ]
     },
     "metadata": {
      "needs_background": "light"
     },
     "output_type": "display_data"
    }
   ],
   "source": [
    "#зависимость цены от того, на каком этаже расположена квартира: первом, последнем или другом.\n",
    "\n",
    "#первый, последний и другой этаж перевожу в числа 1, 2, 3 соответственно.\n",
    "\n",
    "def apartment_floor(row):\n",
    "    if row == 'Первый':\n",
    "        return 1\n",
    "    if row == 'Последний':\n",
    "        return 2\n",
    "    if row == 'Другой':\n",
    "        return 3\n",
    "\n",
    "df['apartment_floor_number'] = df['apartment_floor'].apply(apartment_floor)\n",
    "\n",
    "df.plot(kind = 'scatter',x = 'apartment_floor_number', y = 'last_price')\n",
    "print(df['apartment_floor_number'].corr(df['last_price']))\n",
    "# коэф корреляции Пирсона = 0.04128441477453517. Связи нет."
   ]
  },
  {
   "cell_type": "markdown",
   "metadata": {},
   "source": [
    "<div class=\"alert alert-success\">\n",
    "<b>✅ Комментарий ревьюера:</b> \n",
    "\n",
    "Переводить в числа необязательно, чтобы вывести график, он и так справится, только подписи будут более удобные - текстовые\n",
    "    \n",
    "</div>"
   ]
  },
  {
   "cell_type": "code",
   "execution_count": 19,
   "metadata": {},
   "outputs": [
    {
     "name": "stdout",
     "output_type": "stream",
     "text": [
      "0.0015501452176215405\n"
     ]
    },
    {
     "data": {
      "image/png": "[encoded data removed]",
      "text/plain": [
       "<Figure size 432x288 with 1 Axes>"
      ]
     },
     "metadata": {
      "needs_background": "light"
     },
     "output_type": "display_data"
    }
   ],
   "source": [
    "#зависимость от даты размещения: дня недели\n",
    "df.plot(kind = 'scatter',x = 'day_of_the_week_of_publication', y = 'last_price')\n",
    "print(df['day_of_the_week_of_publication'].corr(df['last_price']))\n",
    "# коэф корреляции Пирсона = 0.0015501452176215431. Связи нет."
   ]
  },
  {
   "cell_type": "code",
   "execution_count": 20,
   "metadata": {},
   "outputs": [
    {
     "name": "stdout",
     "output_type": "stream",
     "text": [
      "0.0027791287507397166\n"
     ]
    },
    {
     "data": {
      "image/png": "[encoded data removed]",
      "text/plain": [
       "<Figure size 432x288 with 1 Axes>"
      ]
     },
     "metadata": {
      "needs_background": "light"
     },
     "output_type": "display_data"
    }
   ],
   "source": [
    "#зависимость от даты размещения: месяца \n",
    "df.plot(kind = 'scatter',x = 'month_of_publication', y = 'last_price')\n",
    "print(df['month_of_publication'].corr(df['last_price']))\n",
    "# коэф корреляции Пирсона = 0.0027791287507397252. Связи нет."
   ]
  },
  {
   "cell_type": "code",
   "execution_count": 21,
   "metadata": {
    "scrolled": true
   },
   "outputs": [
    {
     "name": "stdout",
     "output_type": "stream",
     "text": [
      "-0.043089036199508615\n"
     ]
    },
    {
     "data": {
      "image/png": "[encoded data removed]",
      "text/plain": [
       "<Figure size 432x288 with 1 Axes>"
      ]
     },
     "metadata": {
      "needs_background": "light"
     },
     "output_type": "display_data"
    }
   ],
   "source": [
    "#зависимость от даты размещения: года\n",
    "\n",
    "df.plot(kind = 'scatter',x = 'year_of_publication', y = 'last_price')\n",
    "print(df['year_of_publication'].corr(df['last_price']))\n",
    "# коэф корреляции Пирсона = -0.04308903619950858. Связи нет."
   ]
  },
  {
   "cell_type": "markdown",
   "metadata": {},
   "source": [
    "<div class=\"alert alert-success\">\n",
    "<b>✅ Комментарий ревьюера:</b> \n",
    "\n",
    "С выводами согласен.\n",
    "    \n",
    "</div>"
   ]
  },
  {
   "cell_type": "code",
   "execution_count": 22,
   "metadata": {},
   "outputs": [
    {
     "data": {
      "text/html": [
       "<div>\n",
       "<style scoped>\n",
       "    .dataframe tbody tr th:only-of-type {\n",
       "        vertical-align: middle;\n",
       "    }\n",
       "\n",
       "    .dataframe tbody tr th {\n",
       "        vertical-align: top;\n",
       "    }\n",
       "\n",
       "    .dataframe thead th {\n",
       "        text-align: right;\n",
       "    }\n",
       "</style>\n",
       "<table border=\"1\" class=\"dataframe\">\n",
       "  <thead>\n",
       "    <tr style=\"text-align: right;\">\n",
       "      <th></th>\n",
       "      <th>count_of_ad</th>\n",
       "      <th>avg_price_for_sq_m</th>\n",
       "    </tr>\n",
       "    <tr>\n",
       "      <th>locality_name</th>\n",
       "      <th></th>\n",
       "      <th></th>\n",
       "    </tr>\n",
       "  </thead>\n",
       "  <tbody>\n",
       "    <tr>\n",
       "      <td>Санкт-Петербург</td>\n",
       "      <td>15721</td>\n",
       "      <td>114,849.01</td>\n",
       "    </tr>\n",
       "    <tr>\n",
       "      <td>посёлок Мурино</td>\n",
       "      <td>522</td>\n",
       "      <td>85,752.19</td>\n",
       "    </tr>\n",
       "    <tr>\n",
       "      <td>посёлок Шушары</td>\n",
       "      <td>440</td>\n",
       "      <td>78,677.36</td>\n",
       "    </tr>\n",
       "    <tr>\n",
       "      <td>Всеволожск</td>\n",
       "      <td>398</td>\n",
       "      <td>68,654.47</td>\n",
       "    </tr>\n",
       "    <tr>\n",
       "      <td>Пушкин</td>\n",
       "      <td>369</td>\n",
       "      <td>103,125.82</td>\n",
       "    </tr>\n",
       "    <tr>\n",
       "      <td>Колпино</td>\n",
       "      <td>338</td>\n",
       "      <td>75,424.58</td>\n",
       "    </tr>\n",
       "    <tr>\n",
       "      <td>посёлок Парголово</td>\n",
       "      <td>327</td>\n",
       "      <td>90,175.91</td>\n",
       "    </tr>\n",
       "    <tr>\n",
       "      <td>Гатчина</td>\n",
       "      <td>307</td>\n",
       "      <td>68,746.15</td>\n",
       "    </tr>\n",
       "    <tr>\n",
       "      <td>деревня Кудрово</td>\n",
       "      <td>299</td>\n",
       "      <td>92,473.55</td>\n",
       "    </tr>\n",
       "    <tr>\n",
       "      <td>Выборг</td>\n",
       "      <td>237</td>\n",
       "      <td>58,141.91</td>\n",
       "    </tr>\n",
       "  </tbody>\n",
       "</table>\n",
       "</div>"
      ],
      "text/plain": [
       "                   count_of_ad  avg_price_for_sq_m\n",
       "locality_name                                     \n",
       "Санкт-Петербург          15721          114,849.01\n",
       "посёлок Мурино             522           85,752.19\n",
       "посёлок Шушары             440           78,677.36\n",
       "Всеволожск                 398           68,654.47\n",
       "Пушкин                     369          103,125.82\n",
       "Колпино                    338           75,424.58\n",
       "посёлок Парголово          327           90,175.91\n",
       "Гатчина                    307           68,746.15\n",
       "деревня Кудрово            299           92,473.55\n",
       "Выборг                     237           58,141.91"
      ]
     },
     "metadata": {},
     "output_type": "display_data"
    },
    {
     "data": {
      "text/html": [
       "<div>\n",
       "<style scoped>\n",
       "    .dataframe tbody tr th:only-of-type {\n",
       "        vertical-align: middle;\n",
       "    }\n",
       "\n",
       "    .dataframe tbody tr th {\n",
       "        vertical-align: top;\n",
       "    }\n",
       "\n",
       "    .dataframe thead th {\n",
       "        text-align: right;\n",
       "    }\n",
       "</style>\n",
       "<table border=\"1\" class=\"dataframe\">\n",
       "  <thead>\n",
       "    <tr style=\"text-align: right;\">\n",
       "      <th></th>\n",
       "      <th>last_price</th>\n",
       "    </tr>\n",
       "    <tr>\n",
       "      <th>locality_name</th>\n",
       "      <th></th>\n",
       "    </tr>\n",
       "  </thead>\n",
       "  <tbody>\n",
       "    <tr>\n",
       "      <td>посёлок Репино</td>\n",
       "      <td>12,166,854.00</td>\n",
       "    </tr>\n",
       "  </tbody>\n",
       "</table>\n",
       "</div>"
      ],
      "text/plain": [
       "                  last_price\n",
       "locality_name               \n",
       "посёлок Репино 12,166,854.00"
      ]
     },
     "metadata": {},
     "output_type": "display_data"
    },
    {
     "data": {
      "text/html": [
       "<div>\n",
       "<style scoped>\n",
       "    .dataframe tbody tr th:only-of-type {\n",
       "        vertical-align: middle;\n",
       "    }\n",
       "\n",
       "    .dataframe tbody tr th {\n",
       "        vertical-align: top;\n",
       "    }\n",
       "\n",
       "    .dataframe thead th {\n",
       "        text-align: right;\n",
       "    }\n",
       "</style>\n",
       "<table border=\"1\" class=\"dataframe\">\n",
       "  <thead>\n",
       "    <tr style=\"text-align: right;\">\n",
       "      <th></th>\n",
       "      <th>last_price</th>\n",
       "    </tr>\n",
       "    <tr>\n",
       "      <th>locality_name</th>\n",
       "      <th></th>\n",
       "    </tr>\n",
       "  </thead>\n",
       "  <tbody>\n",
       "    <tr>\n",
       "      <td>деревня Вахнова Кара</td>\n",
       "      <td>450,000.00</td>\n",
       "    </tr>\n",
       "  </tbody>\n",
       "</table>\n",
       "</div>"
      ],
      "text/plain": [
       "                      last_price\n",
       "locality_name                   \n",
       "деревня Вахнова Кара  450,000.00"
      ]
     },
     "metadata": {},
     "output_type": "display_data"
    }
   ],
   "source": [
    "#Выберите 10 населённых пунктов с наибольшим числом объявлений. \n",
    "#Посчитайте среднюю цену квадратного метра в этих населённых пунктах. \n",
    "\n",
    "\n",
    "df_top10_region = df.pivot_table(index = 'locality_name', values='last_price', aggfunc = 'count').sort_values(by = 'last_price',ascending = False).head(10)\n",
    "\n",
    "avg_price_for_sq_m = df.pivot_table(index = 'locality_name', values = 'price_per_square_meter').sort_values(by = 'price_per_square_meter',ascending = False)\n",
    "\n",
    "df_new = df_top10_region.merge(avg_price_for_sq_m, on ='locality_name' , how = 'left')\n",
    "\n",
    "df_new.columns = ['count_of_ad', 'avg_price_for_sq_m']\n",
    "display(df_new)\n",
    "\n",
    "#Выделить населённые пункты с самой высокой и низкой стоимостью жилья.\n",
    "max_price = df.pivot_table(index = 'locality_name', values='last_price').sort_values(by = 'last_price',ascending = False).head(1)\n",
    "display(max_price)\n",
    "\n",
    "min_price = df.pivot_table(index = 'locality_name', values='last_price').sort_values(by = 'last_price').head(1)\n",
    "display(min_price)\n"
   ]
  },
  {
   "cell_type": "markdown",
   "metadata": {},
   "source": [
    "<div class=\"alert alert-success\">\n",
    "<b>✅ Комментарий ревьюера:</b> \n",
    "\n",
    "Группировка корректна.\n",
    "    \n",
    "</div>"
   ]
  },
  {
   "cell_type": "code",
   "execution_count": 23,
   "metadata": {},
   "outputs": [
    {
     "data": {
      "text/html": [
       "<div>\n",
       "<style scoped>\n",
       "    .dataframe tbody tr th:only-of-type {\n",
       "        vertical-align: middle;\n",
       "    }\n",
       "\n",
       "    .dataframe tbody tr th {\n",
       "        vertical-align: top;\n",
       "    }\n",
       "\n",
       "    .dataframe thead th {\n",
       "        text-align: right;\n",
       "    }\n",
       "</style>\n",
       "<table border=\"1\" class=\"dataframe\">\n",
       "  <thead>\n",
       "    <tr style=\"text-align: right;\">\n",
       "      <th></th>\n",
       "      <th>price_for_distance</th>\n",
       "    </tr>\n",
       "    <tr>\n",
       "      <th>distance_to_the_center</th>\n",
       "      <th></th>\n",
       "    </tr>\n",
       "  </thead>\n",
       "  <tbody>\n",
       "    <tr>\n",
       "      <td>0.00</td>\n",
       "      <td>inf</td>\n",
       "    </tr>\n",
       "    <tr>\n",
       "      <td>1.00</td>\n",
       "      <td>21,158,706.73</td>\n",
       "    </tr>\n",
       "    <tr>\n",
       "      <td>2.00</td>\n",
       "      <td>8,904,146.43</td>\n",
       "    </tr>\n",
       "    <tr>\n",
       "      <td>3.00</td>\n",
       "      <td>3,700,902.79</td>\n",
       "    </tr>\n",
       "    <tr>\n",
       "      <td>4.00</td>\n",
       "      <td>3,317,652.41</td>\n",
       "    </tr>\n",
       "    <tr>\n",
       "      <td>...</td>\n",
       "      <td>...</td>\n",
       "    </tr>\n",
       "    <tr>\n",
       "      <td>61.00</td>\n",
       "      <td>52,459.02</td>\n",
       "    </tr>\n",
       "    <tr>\n",
       "      <td>62.00</td>\n",
       "      <td>51,612.90</td>\n",
       "    </tr>\n",
       "    <tr>\n",
       "      <td>63.00</td>\n",
       "      <td>57,142.86</td>\n",
       "    </tr>\n",
       "    <tr>\n",
       "      <td>65.00</td>\n",
       "      <td>53,461.54</td>\n",
       "    </tr>\n",
       "    <tr>\n",
       "      <td>66.00</td>\n",
       "      <td>59,595.96</td>\n",
       "    </tr>\n",
       "  </tbody>\n",
       "</table>\n",
       "<p>61 rows × 1 columns</p>\n",
       "</div>"
      ],
      "text/plain": [
       "                        price_for_distance\n",
       "distance_to_the_center                    \n",
       "0.00                                   inf\n",
       "1.00                         21,158,706.73\n",
       "2.00                          8,904,146.43\n",
       "3.00                          3,700,902.79\n",
       "4.00                          3,317,652.41\n",
       "...                                    ...\n",
       "61.00                            52,459.02\n",
       "62.00                            51,612.90\n",
       "63.00                            57,142.86\n",
       "65.00                            53,461.54\n",
       "66.00                            59,595.96\n",
       "\n",
       "[61 rows x 1 columns]"
      ]
     },
     "metadata": {},
     "output_type": "display_data"
    },
    {
     "data": {
      "text/plain": [
       "[<matplotlib.lines.Line2D at 0x7f562f90c690>]"
      ]
     },
     "execution_count": 23,
     "metadata": {},
     "output_type": "execute_result"
    },
    {
     "data": {
      "image/png": "[encoded data removed]",
      "text/plain": [
       "<Figure size 432x288 with 1 Axes>"
      ]
     },
     "metadata": {
      "needs_background": "light"
     },
     "output_type": "display_data"
    }
   ],
   "source": [
    "#Изучите предложения квартир: для каждой квартиры есть информация о расстоянии до центра. \n",
    "#Выделите квартиры в Санкт-Петербурге (locality_name). Ваша задача — выяснить, какая область входит в центр. \n",
    "#Создайте столбец с расстоянием до центра в километрах: округлите до целых значений. \n",
    "#После этого посчитайте среднюю цену для каждого километра. \n",
    "#Постройте график: он должен показывать, как цена зависит от удалённости от центра. \n",
    "#Определите границу, где график сильно меняется, — это и будет центральная зона.\n",
    "\n",
    "\n",
    "\n",
    "df['distance_to_the_center'] = round(df['cityCenters_nearest']/1000)\n",
    "df['price_for_distance'] = df['last_price']/df['distance_to_the_center']\n",
    "\n",
    "df_center = df.pivot_table(index = 'distance_to_the_center', values = 'price_for_distance')\n",
    "\n",
    "display(df_center)\n",
    "\n",
    "plt.plot(df_center['price_for_distance'])\n",
    " "
   ]
  },
  {
   "cell_type": "markdown",
   "metadata": {},
   "source": [
    "<div class=\"alert alert-danger\">\n",
    "<b>❌ Комментарий ревьюера:</b> \n",
    "\n",
    "рекомендую осреднить данные по каждому километру и построить линеный график, на котором определишь экстремум, после которого начинается спад, сейчас граница определены не совсем корректно\n",
    "</div>"
   ]
  },
  {
   "cell_type": "markdown",
   "metadata": {},
   "source": [
    "<div class=\"alert alert-info\"> <b>Комментарий студента:</b> Т.е я должен посчитать среднюю цену для каждого километра и построить график зависимости цены за каждый км от расстояния в км? Просто не очень понятный график получается.   </div>"
   ]
  },
  {
   "cell_type": "markdown",
   "metadata": {},
   "source": [
    "<div class=\"alert alert-danger\">\n",
    "<b>❌ Комментарий ревьюера V2:</b> \n",
    "\n",
    "да именно так, сейчас график у тебя отражает выборку, а не осредненные данные\n",
    "</div>"
   ]
  },
  {
   "cell_type": "markdown",
   "metadata": {},
   "source": [
    "<div class=\"alert alert-info\"> <b>Комментарий студента:</b> Как я понимаю, после 8км цены примерно равны. Т.е центральная зона до 8км  </div>"
   ]
  },
  {
   "cell_type": "markdown",
   "metadata": {},
   "source": [
    "<div class=\"alert alert-success\">\n",
    "<b>✅ Комментарий ревьюера V3:</b> \n",
    "\n",
    "Ты слишком осреднил данные. Попробуй оставиь только группировку с осреднением, а предварительно не делить `df['last_price']/df['distance_to_the_center']` и тогда все будет супер. В целом ты уже определил примерно ту зону, поэтому идем далее\n",
    "</div>"
   ]
  },
  {
   "cell_type": "code",
   "execution_count": 24,
   "metadata": {},
   "outputs": [
    {
     "data": {
      "image/png": "[encoded data removed]",
      "text/plain": [
       "<Figure size 432x288 with 1 Axes>"
      ]
     },
     "metadata": {
      "needs_background": "light"
     },
     "output_type": "display_data"
    },
    {
     "data": {
      "image/png": "[encoded data removed]",
      "text/plain": [
       "<Figure size 432x288 with 1 Axes>"
      ]
     },
     "metadata": {
      "needs_background": "light"
     },
     "output_type": "display_data"
    },
    {
     "data": {
      "image/png": "[encoded data removed]",
      "text/plain": [
       "<Figure size 432x288 with 1 Axes>"
      ]
     },
     "metadata": {
      "needs_background": "light"
     },
     "output_type": "display_data"
    },
    {
     "data": {
      "image/png": "[encoded data removed]",
      "text/plain": [
       "<Figure size 432x288 with 1 Axes>"
      ]
     },
     "metadata": {
      "needs_background": "light"
     },
     "output_type": "display_data"
    }
   ],
   "source": [
    "#Выделите сегмент квартир в центре. \n",
    "#Проанализируйте эту территорию и изучите следующие параметры: площадь, цена, число комнат, высота потолков. \n",
    "\n",
    "df_centre = df.query('distance_to_the_center <=8')\n",
    "\n",
    "fig1, ax1 = plt.subplots()\n",
    "\n",
    "df.plot(kind = 'hist', y = 'total_area', bins = 100, histtype='step',ax=ax1,linewidth=5, alpha=0.7, label='площадь квартиры (м²)')\n",
    "df_centre.plot(\n",
    "    kind = 'hist', \n",
    "    y = 'total_area', \n",
    "    bins = 100, \n",
    "    histtype='step', \n",
    "    linewidth=5, \n",
    "    alpha=0.7, \n",
    "    label='площадь квартиры в центре (м²)', \n",
    "    ax=ax1, \n",
    "    grid=True, \n",
    "    legend=True)\n",
    "plt.show()\n",
    "\n",
    "\n",
    "fig2, ax2 = plt.subplots()\n",
    "df.plot(kind = 'hist', y = 'last_price', bins = 100, histtype='step', linewidth=5, alpha=0.7,ax=ax2, label='цена (руб)',xlim = (1000000,100000000))\n",
    "df_centre.plot(kind = 'hist', \n",
    "               y = 'last_price', \n",
    "               bins = 100, \n",
    "               histtype='step', \n",
    "               linewidth=5, \n",
    "               alpha=0.7, \n",
    "               label='цена в центре (руб)', \n",
    "               ax=ax2, \n",
    "               grid=True,\n",
    "               legend=True)\n",
    "plt.show()\n",
    "\n",
    "\n",
    "fig3, ax3 = plt.subplots()\n",
    "df.plot(kind = 'hist', y = 'rooms', bins = 20, histtype='step',ax=ax3,linewidth=5, alpha=0.7, label='число комнат (кол-во)')\n",
    "df_centre.plot(kind = 'hist', \n",
    "               y = 'rooms', \n",
    "               bins = 20, \n",
    "               histtype='step', \n",
    "               linewidth=5, \n",
    "               alpha=0.7, \n",
    "               label='число комнат в центре (кол-во)', \n",
    "               ax=ax3, \n",
    "               grid=True, \n",
    "               legend=True)\n",
    "plt.show()\n",
    "\n",
    "fig4, ax4 = plt.subplots()\n",
    "df.plot(kind = 'hist', y = 'ceiling_height', bins = 20, ax=ax4,histtype='step', linewidth=5, alpha=0.7, label='высота потолков (м)')\n",
    "df_centre.plot(kind = 'hist', \n",
    "               y = 'ceiling_height', \n",
    "               bins = 20, \n",
    "               histtype='step', \n",
    "               linewidth=5, \n",
    "               alpha=0.7, \n",
    "               label='высота потолков в центре (м)', \n",
    "               ax=ax4, \n",
    "               grid=True, \n",
    "               legend=True)\n",
    "plt.show()"
   ]
  },
  {
   "cell_type": "code",
   "execution_count": 25,
   "metadata": {},
   "outputs": [
    {
     "data": {
      "image/png": "[encoded data removed]",
      "text/plain": [
       "<Figure size 432x288 with 1 Axes>"
      ]
     },
     "metadata": {
      "needs_background": "light"
     },
     "output_type": "display_data"
    },
    {
     "data": {
      "image/png": "[encoded data removed]",
      "text/plain": [
       "<Figure size 576x432 with 2 Axes>"
      ]
     },
     "metadata": {
      "needs_background": "light"
     },
     "output_type": "display_data"
    },
    {
     "name": "stdout",
     "output_type": "stream",
     "text": [
      "0.3403430145644659\n"
     ]
    }
   ],
   "source": [
    "#Также выделите факторы, которые влияют на стоимость квартиры (число комнат, этаж, удалённость от центра, дата размещения объявления). \n",
    "#Сделайте выводы. Отличаются ли они от общих выводов по всему городу?\n",
    "\n",
    "fig1,ax1 = plt.subplots()\n",
    "df_centre.plot(kind = 'scatter', x = 'rooms', y ='last_price',ax=ax1,color = 'red')\n",
    "df.plot(kind = 'scatter',x = 'rooms', y = 'last_price',ax=ax1,alpha=0.3)\n",
    "plt.show()\n",
    "\n",
    "df_centre.plot(x='rooms', y='last_price', kind='hexbin', gridsize=10, figsize=(8, 6), sharex=False, grid=True) \n",
    "plt.show()\n",
    "\n",
    "print(df_centre['rooms'].corr(df_centre['last_price']))\n",
    "# коэф корреляции Пирсона = 0.3403430145644659. Средняя слабая."
   ]
  },
  {
   "cell_type": "code",
   "execution_count": 26,
   "metadata": {},
   "outputs": [
    {
     "data": {
      "image/png": "[encoded data removed]",
      "text/plain": [
       "<Figure size 432x288 with 1 Axes>"
      ]
     },
     "metadata": {
      "needs_background": "light"
     },
     "output_type": "display_data"
    },
    {
     "data": {
      "image/png": "[encoded data removed]",
      "text/plain": [
       "<Figure size 576x432 with 2 Axes>"
      ]
     },
     "metadata": {
      "needs_background": "light"
     },
     "output_type": "display_data"
    },
    {
     "name": "stdout",
     "output_type": "stream",
     "text": [
      "-0.07599657371498318\n"
     ]
    }
   ],
   "source": [
    "fig2,ax2 = plt.subplots()\n",
    "df_centre.plot(kind = 'scatter', x = 'cityCenters_nearest', y ='last_price',ax=ax2,color='red')\n",
    "df.plot(kind = 'scatter',x = 'cityCenters_nearest', y = 'last_price',ax=ax2,alpha = 0.3)\n",
    "plt.show()\n",
    "\n",
    "\n",
    "\n",
    "df_centre.plot(x='distance_to_the_center', y='last_price', kind='hexbin', gridsize=10, figsize=(8, 6), sharex=False, grid=True) \n",
    "plt.show()\n",
    "\n",
    "print(df_centre['distance_to_the_center'].corr(df_centre['last_price']))\n",
    "\n",
    "# коэф корреляции Пирсона = -0.07599657371498318. Связи нет."
   ]
  },
  {
   "cell_type": "code",
   "execution_count": 27,
   "metadata": {},
   "outputs": [
    {
     "data": {
      "image/png": "[encoded data removed]",
      "text/plain": [
       "<Figure size 432x288 with 1 Axes>"
      ]
     },
     "metadata": {
      "needs_background": "light"
     },
     "output_type": "display_data"
    },
    {
     "data": {
      "image/png": "[encoded data removed]",
      "text/plain": [
       "<Figure size 576x432 with 2 Axes>"
      ]
     },
     "metadata": {
      "needs_background": "light"
     },
     "output_type": "display_data"
    },
    {
     "name": "stdout",
     "output_type": "stream",
     "text": [
      "0.028799135175076034\n"
     ]
    }
   ],
   "source": [
    "fig3,ax3 = plt.subplots()\n",
    "df_centre.plot(kind = 'scatter', x = 'apartment_floor_number', y ='last_price',ax=ax3, color = 'red')\n",
    "df.plot(kind = 'scatter',x = 'apartment_floor_number', y = 'last_price',ax=ax3,alpha = 0.3)\n",
    "plt.show()\n",
    "\n",
    "df_centre.plot(x='apartment_floor_number', y='last_price', kind='hexbin', gridsize=10, figsize=(8, 6), sharex=False, grid=True) \n",
    "plt.show()\n",
    "\n",
    "print(df_centre['apartment_floor_number'].corr(df_centre['last_price']))\n",
    "# коэф корреляции Пирсона = 0.028799135175076034. Связи нет."
   ]
  },
  {
   "cell_type": "markdown",
   "metadata": {},
   "source": [
    "<div class=\"alert alert-warning\">\n",
    "<b>⚠️ Комментарий ревьюера:</b> \n",
    "\n",
    "Оценку центральной зоны старайся проводить уже в сравнении с НЕцентральной частью. График должны быть наложены друг на друга и в выводах должно присутствовать сравнение.\n",
    "</div>"
   ]
  },
  {
   "cell_type": "markdown",
   "metadata": {},
   "source": [
    "На гистограмме видно, что данные имеют одинаковые распределения. Коэф корреляции Пирсона практически равны."
   ]
  },
  {
   "cell_type": "markdown",
   "metadata": {},
   "source": [
    "## Общий вывод"
   ]
  },
  {
   "cell_type": "markdown",
   "metadata": {},
   "source": [
    "В начале исследования можно заметить, что данные имеют много пропусков и некоторые столбцы имеют неправильный тип данных. Некоторые пропуски я заполнил, также поменял тип данных.\n",
    "После этого провел исследовательский анализ данных. \n",
    "Можно сделать вывод, что цена квартиры сильно зависит от площади квартиры. Средне зависит от числа комнат и удаленности от центра. Не зависит от того, на каком этаже и даты размещения объявления.\n",
    "После этого я выделил сегмент квартир в центре. Провел такой же анализ. Наложил графики друг на друга. В целом, картина не поменялась, распределения такие же. Коэффициент корреляции Пирсона отличаются на сотые доли. "
   ]
  },
  {
   "cell_type": "markdown",
   "metadata": {},
   "source": [
    "<div class=\"alert alert-warning\">\n",
    "<b>⚠️ Комментарий ревьюера:</b> \n",
    "\n",
    "Расширь общий вывод с учетом промежуточных по каждому пункту. Расскажи о зависимостях которые нашел, а которые можно считать незначимыми. Проведи анализ центральной зоны и нецентральной, какие различие и сходства.\n",
    "</div>"
   ]
  },
  {
   "cell_type": "markdown",
   "metadata": {},
   "source": [
    "## Чек-лист готовности проекта\n",
    "\n",
    "Поставьте 'x' в выполненных пунктах. Далее нажмите Shift+Enter."
   ]
  },
  {
   "cell_type": "markdown",
   "metadata": {},
   "source": [
    "- [x]  открыт файл\n",
    "- [ ]  файлы изучены (выведены первые строки, метод info())\n",
    "- [ ]  определены пропущенные значения\n",
    "- [ ]  заполнены пропущенные значения\n",
    "- [ ]  есть пояснение, какие пропущенные значения обнаружены\n",
    "- [ ]  изменены типы данных\n",
    "- [ ]  есть пояснение, в каких столбцах изменены типы и почему\n",
    "- [ ]  посчитано и добавлено в таблицу: цена квадратного метра\n",
    "- [ ]  посчитано и добавлено в таблицу: день недели, месяц и год публикации объявления\n",
    "- [ ]  посчитано и добавлено в таблицу: этаж квартиры; варианты — первый, последний, другой\n",
    "- [ ]  посчитано и добавлено в таблицу: соотношение жилой и общей площади, а также отношение площади кухни к общей\n",
    "- [ ]  изучены следующие параметры: площадь, цена, число комнат, высота потолков\n",
    "- [ ]  построены гистограммы для каждого параметра\n",
    "- [ ]  выполнено задание: \"Изучите время продажи квартиры. Постройте гистограмму. Посчитайте среднее и медиану. Опишите, сколько обычно занимает продажа. Когда можно считать, что продажи прошли очень быстро, а когда необычно долго?\"\n",
    "- [ ]  выполнено задание: \"Уберите редкие и выбивающиеся значения. Опишите, какие особенности обнаружили.\"\n",
    "- [ ]  выполнено задание: \"Какие факторы больше всего влияют на стоимость квартиры? Изучите, зависит ли цена от квадратного метра, числа комнат, этажа (первого или последнего), удалённости от центра. Также изучите зависимость от даты размещения: дня недели, месяца и года. \"Выберите 10 населённых пунктов с наибольшим числом объявлений. Посчитайте среднюю цену квадратного метра в этих населённых пунктах. Выделите населённые пункты с самой высокой и низкой стоимостью жилья. Эти данные можно найти по имени в столбце '*locality_name'*. \"\n",
    "- [ ]  выполнено задание: \"Изучите предложения квартир: для каждой квартиры есть информация о расстоянии до центра. Выделите квартиры в Санкт-Петербурге (*'locality_name'*). Ваша задача — выяснить, какая область входит в центр. Создайте столбец с расстоянием до центра в километрах: округлите до целых значений. После этого посчитайте среднюю цену для каждого километра. Постройте график: он должен показывать, как цена зависит от удалённости от центра. Определите границу, где график сильно меняется — это и будет центральная зона. \"\n",
    "- [ ]  выполнено задание: \"Выделите сегмент квартир в центре. Проанализируйте эту территорию и изучите следующие параметры: площадь, цена, число комнат, высота потолков. Также выделите факторы, которые влияют на стоимость квартиры (число комнат, этаж, удалённость от центра, дата размещения объявления). Сделайте выводы. Отличаются ли они от общих выводов по всему городу?\"\n",
    "- [ ]  в каждом этапе есть выводы\n",
    "- [ ]  есть общий вывод"
   ]
  }
 ],
 "metadata": {
  "ExecuteTimeLog": [
   {
    "duration": 806,
    "start_time": "2021-11-29T21:37:02.790Z"
   },
   {
    "duration": 89,
    "start_time": "2021-11-29T21:37:11.172Z"
   },
   {
    "duration": 135,
    "start_time": "2021-11-29T21:38:37.200Z"
   },
   {
    "duration": 79,
    "start_time": "2021-11-29T21:39:34.558Z"
   },
   {
    "duration": 83,
    "start_time": "2021-11-29T21:40:05.105Z"
   },
   {
    "duration": 134,
    "start_time": "2021-11-29T21:40:09.993Z"
   },
   {
    "duration": 5906,
    "start_time": "2021-11-29T21:41:15.301Z"
   },
   {
    "duration": 5838,
    "start_time": "2021-11-29T21:41:28.791Z"
   },
   {
    "duration": 83,
    "start_time": "2021-11-29T21:41:51.244Z"
   },
   {
    "duration": 85,
    "start_time": "2021-11-29T21:42:59.102Z"
   },
   {
    "duration": 5813,
    "start_time": "2021-11-29T21:43:04.203Z"
   },
   {
    "duration": 84,
    "start_time": "2021-11-29T21:43:42.644Z"
   },
   {
    "duration": 149,
    "start_time": "2021-11-29T21:44:00.324Z"
   },
   {
    "duration": 118,
    "start_time": "2021-11-29T21:45:53.538Z"
   },
   {
    "duration": 87,
    "start_time": "2021-11-29T21:50:36.883Z"
   },
   {
    "duration": 115,
    "start_time": "2021-11-29T21:50:54.302Z"
   },
   {
    "duration": 117,
    "start_time": "2021-11-29T21:51:10.771Z"
   },
   {
    "duration": 155,
    "start_time": "2021-11-29T21:52:48.090Z"
   },
   {
    "duration": 178,
    "start_time": "2021-11-29T21:53:09.745Z"
   },
   {
    "duration": 153,
    "start_time": "2021-11-29T22:19:48.452Z"
   },
   {
    "duration": 17,
    "start_time": "2021-11-29T22:25:09.737Z"
   },
   {
    "duration": 369,
    "start_time": "2021-11-29T22:30:33.424Z"
   },
   {
    "duration": 43,
    "start_time": "2021-11-29T22:36:25.578Z"
   },
   {
    "duration": 46,
    "start_time": "2021-11-29T22:36:43.300Z"
   },
   {
    "duration": 123,
    "start_time": "2021-11-29T22:49:40.688Z"
   },
   {
    "duration": 385,
    "start_time": "2021-11-29T22:49:51.871Z"
   },
   {
    "duration": 119,
    "start_time": "2021-11-29T22:51:38.341Z"
   },
   {
    "duration": 113,
    "start_time": "2021-11-29T22:53:42.229Z"
   },
   {
    "duration": 1028,
    "start_time": "2021-11-29T22:53:51.134Z"
   },
   {
    "duration": 15,
    "start_time": "2021-11-29T22:53:59.622Z"
   },
   {
    "duration": 120,
    "start_time": "2021-11-29T22:55:03.072Z"
   },
   {
    "duration": 117,
    "start_time": "2021-11-29T22:55:08.176Z"
   },
   {
    "duration": 10,
    "start_time": "2021-11-29T22:55:22.558Z"
   },
   {
    "duration": 22,
    "start_time": "2021-11-29T22:55:34.561Z"
   },
   {
    "duration": 13,
    "start_time": "2021-11-29T22:58:01.799Z"
   },
   {
    "duration": 376,
    "start_time": "2021-11-29T22:58:29.320Z"
   },
   {
    "duration": 61,
    "start_time": "2021-11-29T22:58:37.658Z"
   },
   {
    "duration": 68,
    "start_time": "2021-11-29T22:59:00.877Z"
   },
   {
    "duration": 12,
    "start_time": "2021-11-29T23:03:42.531Z"
   },
   {
    "duration": 21,
    "start_time": "2021-11-29T23:03:55.239Z"
   },
   {
    "duration": 50,
    "start_time": "2021-11-29T23:04:37.015Z"
   },
   {
    "duration": 11,
    "start_time": "2021-11-29T23:06:08.667Z"
   },
   {
    "duration": 7,
    "start_time": "2021-11-29T23:18:41.392Z"
   },
   {
    "duration": 54,
    "start_time": "2021-11-29T23:19:31.746Z"
   },
   {
    "duration": 54,
    "start_time": "2021-11-29T23:19:47.256Z"
   },
   {
    "duration": 387,
    "start_time": "2021-11-29T23:19:57.410Z"
   },
   {
    "duration": 43,
    "start_time": "2021-11-29T23:20:11.849Z"
   },
   {
    "duration": 45,
    "start_time": "2021-11-29T23:20:28.061Z"
   },
   {
    "duration": 45,
    "start_time": "2021-11-29T23:20:40.226Z"
   },
   {
    "duration": 44,
    "start_time": "2021-11-29T23:20:59.630Z"
   },
   {
    "duration": 43,
    "start_time": "2021-11-29T23:21:24.524Z"
   },
   {
    "duration": 43,
    "start_time": "2021-11-29T23:21:48.508Z"
   },
   {
    "duration": 24,
    "start_time": "2021-11-29T23:22:15.004Z"
   },
   {
    "duration": 46,
    "start_time": "2021-11-29T23:31:08.412Z"
   },
   {
    "duration": 49,
    "start_time": "2021-11-29T23:31:58.126Z"
   },
   {
    "duration": 51,
    "start_time": "2021-11-29T23:32:06.922Z"
   },
   {
    "duration": 41,
    "start_time": "2021-11-29T23:32:47.100Z"
   },
   {
    "duration": 35,
    "start_time": "2021-11-29T23:32:55.005Z"
   },
   {
    "duration": 36,
    "start_time": "2021-11-29T23:35:11.578Z"
   },
   {
    "duration": 35,
    "start_time": "2021-11-29T23:35:24.112Z"
   },
   {
    "duration": 41,
    "start_time": "2021-11-29T23:35:50.408Z"
   },
   {
    "duration": 50,
    "start_time": "2021-11-29T23:36:07.778Z"
   },
   {
    "duration": 43,
    "start_time": "2021-11-29T23:36:51.375Z"
   },
   {
    "duration": 45,
    "start_time": "2021-11-29T23:37:03.073Z"
   },
   {
    "duration": 49,
    "start_time": "2021-11-29T23:37:13.837Z"
   },
   {
    "duration": 9323,
    "start_time": "2021-11-29T23:46:15.781Z"
   },
   {
    "duration": 9165,
    "start_time": "2021-11-29T23:46:30.907Z"
   },
   {
    "duration": 381,
    "start_time": "2021-11-29T23:48:32.096Z"
   },
   {
    "duration": 16,
    "start_time": "2021-11-29T23:48:46.941Z"
   },
   {
    "duration": 16,
    "start_time": "2021-11-29T23:49:17.752Z"
   },
   {
    "duration": 68,
    "start_time": "2021-11-29T23:51:19.008Z"
   },
   {
    "duration": 15,
    "start_time": "2021-11-29T23:51:31.451Z"
   },
   {
    "duration": 66,
    "start_time": "2021-11-29T23:51:41.491Z"
   },
   {
    "duration": 64,
    "start_time": "2021-11-29T23:57:15.255Z"
   },
   {
    "duration": 104,
    "start_time": "2021-11-29T23:57:25.747Z"
   },
   {
    "duration": 6,
    "start_time": "2021-11-29T23:58:08.535Z"
   },
   {
    "duration": 110,
    "start_time": "2021-11-29T23:59:32.872Z"
   },
   {
    "duration": 40,
    "start_time": "2021-11-30T00:25:06.559Z"
   },
   {
    "duration": 165,
    "start_time": "2021-11-30T00:54:43.785Z"
   },
   {
    "duration": 467,
    "start_time": "2021-11-30T00:58:08.492Z"
   },
   {
    "duration": 1398,
    "start_time": "2021-11-30T00:58:25.011Z"
   },
   {
    "duration": 514,
    "start_time": "2021-11-30T00:58:58.521Z"
   },
   {
    "duration": 101,
    "start_time": "2021-11-30T01:01:09.217Z"
   },
   {
    "duration": 118,
    "start_time": "2021-11-30T01:05:17.035Z"
   },
   {
    "duration": 4095,
    "start_time": "2021-11-30T01:05:35.680Z"
   },
   {
    "duration": 9573,
    "start_time": "2021-11-30T01:06:43.775Z"
   },
   {
    "duration": 317,
    "start_time": "2021-11-30T01:07:12.138Z"
   },
   {
    "duration": 123,
    "start_time": "2021-11-30T01:07:56.628Z"
   },
   {
    "duration": 325,
    "start_time": "2021-11-30T01:08:05.026Z"
   },
   {
    "duration": 336,
    "start_time": "2021-11-30T01:08:15.448Z"
   },
   {
    "duration": 402,
    "start_time": "2021-11-30T01:09:10.530Z"
   },
   {
    "duration": 423,
    "start_time": "2021-11-30T01:09:39.461Z"
   },
   {
    "duration": 327,
    "start_time": "2021-11-30T01:11:16.553Z"
   },
   {
    "duration": 307,
    "start_time": "2021-11-30T01:11:26.402Z"
   },
   {
    "duration": 324,
    "start_time": "2021-11-30T01:13:36.536Z"
   },
   {
    "duration": 329,
    "start_time": "2021-11-30T01:13:58.502Z"
   },
   {
    "duration": 309,
    "start_time": "2021-11-30T01:14:15.458Z"
   },
   {
    "duration": 342,
    "start_time": "2021-11-30T01:14:43.817Z"
   },
   {
    "duration": 37,
    "start_time": "2021-11-30T01:17:46.547Z"
   },
   {
    "duration": 37,
    "start_time": "2021-11-30T01:18:02.703Z"
   },
   {
    "duration": 100,
    "start_time": "2021-11-30T01:24:06.935Z"
   },
   {
    "duration": 11,
    "start_time": "2021-11-30T01:31:47.851Z"
   },
   {
    "duration": 60,
    "start_time": "2021-11-30T01:31:51.306Z"
   },
   {
    "duration": 58,
    "start_time": "2021-11-30T01:32:53.109Z"
   },
   {
    "duration": 135,
    "start_time": "2021-11-30T01:41:32.414Z"
   },
   {
    "duration": 21,
    "start_time": "2021-11-30T01:41:47.184Z"
   },
   {
    "duration": 120,
    "start_time": "2021-11-30T01:46:42.876Z"
   },
   {
    "duration": 384,
    "start_time": "2021-11-30T01:46:49.139Z"
   },
   {
    "duration": 14,
    "start_time": "2021-11-30T01:47:08.660Z"
   },
   {
    "duration": 68,
    "start_time": "2021-11-30T01:47:11.683Z"
   },
   {
    "duration": 10,
    "start_time": "2021-11-30T01:47:34.969Z"
   },
   {
    "duration": 60,
    "start_time": "2021-11-30T01:47:37.170Z"
   },
   {
    "duration": 265,
    "start_time": "2021-11-30T01:48:00.711Z"
   },
   {
    "duration": 17,
    "start_time": "2021-11-30T01:48:13.615Z"
   },
   {
    "duration": 61,
    "start_time": "2021-11-30T01:48:15.807Z"
   },
   {
    "duration": 126,
    "start_time": "2021-11-30T01:50:40.932Z"
   },
   {
    "duration": 33,
    "start_time": "2021-11-30T01:50:54.978Z"
   },
   {
    "duration": 8698,
    "start_time": "2021-11-30T01:51:01.781Z"
   },
   {
    "duration": 60,
    "start_time": "2021-11-30T01:51:38.201Z"
   },
   {
    "duration": 66,
    "start_time": "2021-11-30T01:52:01.809Z"
   },
   {
    "duration": 140,
    "start_time": "2021-11-30T01:53:34.739Z"
   },
   {
    "duration": 138,
    "start_time": "2021-11-30T02:05:33.296Z"
   },
   {
    "duration": 1706,
    "start_time": "2021-11-30T02:05:43.387Z"
   },
   {
    "duration": 547,
    "start_time": "2021-11-30T02:06:56.401Z"
   },
   {
    "duration": 580,
    "start_time": "2021-11-30T02:07:09.316Z"
   },
   {
    "duration": 136,
    "start_time": "2021-11-30T02:11:28.280Z"
   },
   {
    "duration": 1678,
    "start_time": "2021-11-30T02:11:33.465Z"
   },
   {
    "duration": 1683,
    "start_time": "2021-11-30T02:12:19.559Z"
   },
   {
    "duration": 299,
    "start_time": "2021-11-30T02:12:25.247Z"
   },
   {
    "duration": 1773,
    "start_time": "2021-11-30T02:18:53.059Z"
   },
   {
    "duration": 876,
    "start_time": "2021-11-30T02:20:22.962Z"
   },
   {
    "duration": 783,
    "start_time": "2021-11-30T02:21:01.481Z"
   },
   {
    "duration": 834,
    "start_time": "2021-11-30T02:22:02.691Z"
   },
   {
    "duration": 421,
    "start_time": "2021-11-30T08:31:48.637Z"
   },
   {
    "duration": 240,
    "start_time": "2021-11-30T08:31:59.657Z"
   },
   {
    "duration": 648,
    "start_time": "2021-11-30T08:32:18.545Z"
   },
   {
    "duration": 11,
    "start_time": "2021-11-30T08:32:23.817Z"
   },
   {
    "duration": 11,
    "start_time": "2021-11-30T08:32:26.893Z"
   },
   {
    "duration": 25,
    "start_time": "2021-11-30T08:32:28.247Z"
   },
   {
    "duration": 482,
    "start_time": "2021-11-30T08:32:29.838Z"
   },
   {
    "duration": 5,
    "start_time": "2021-11-30T08:32:33.390Z"
   },
   {
    "duration": 284,
    "start_time": "2021-11-30T08:33:51.697Z"
   },
   {
    "duration": 207,
    "start_time": "2021-11-30T08:35:07.419Z"
   },
   {
    "duration": 296,
    "start_time": "2021-11-30T08:36:05.120Z"
   },
   {
    "duration": 202,
    "start_time": "2021-11-30T08:36:10.561Z"
   },
   {
    "duration": 1563,
    "start_time": "2021-11-30T08:36:15.105Z"
   },
   {
    "duration": 164,
    "start_time": "2021-11-30T08:37:01.439Z"
   },
   {
    "duration": 176,
    "start_time": "2021-11-30T08:37:27.053Z"
   },
   {
    "duration": 242,
    "start_time": "2021-11-30T08:37:59.321Z"
   },
   {
    "duration": 310,
    "start_time": "2021-11-30T08:38:08.020Z"
   },
   {
    "duration": 455,
    "start_time": "2021-11-30T08:40:27.934Z"
   },
   {
    "duration": 681,
    "start_time": "2021-11-30T08:40:35.247Z"
   },
   {
    "duration": 946,
    "start_time": "2021-11-30T08:45:21.811Z"
   },
   {
    "duration": 570,
    "start_time": "2021-11-30T08:46:23.008Z"
   },
   {
    "duration": 394,
    "start_time": "2021-11-30T08:46:49.793Z"
   },
   {
    "duration": 687,
    "start_time": "2021-11-30T08:47:23.153Z"
   },
   {
    "duration": 481,
    "start_time": "2021-11-30T08:47:47.521Z"
   },
   {
    "duration": 703,
    "start_time": "2021-11-30T08:48:30.246Z"
   },
   {
    "duration": 689,
    "start_time": "2021-11-30T08:48:55.507Z"
   },
   {
    "duration": 269,
    "start_time": "2021-11-30T08:49:16.712Z"
   },
   {
    "duration": 425,
    "start_time": "2021-11-30T08:50:53.411Z"
   },
   {
    "duration": 696,
    "start_time": "2021-11-30T08:51:45.409Z"
   },
   {
    "duration": 8,
    "start_time": "2021-11-30T08:51:46.107Z"
   },
   {
    "duration": 11,
    "start_time": "2021-11-30T08:51:47.688Z"
   },
   {
    "duration": 25,
    "start_time": "2021-11-30T08:51:48.093Z"
   },
   {
    "duration": 481,
    "start_time": "2021-11-30T08:51:49.094Z"
   },
   {
    "duration": 670,
    "start_time": "2021-11-30T08:51:52.706Z"
   },
   {
    "duration": 565,
    "start_time": "2021-11-30T08:53:55.892Z"
   },
   {
    "duration": 550,
    "start_time": "2021-11-30T08:54:28.239Z"
   },
   {
    "duration": 676,
    "start_time": "2021-11-30T08:54:48.676Z"
   },
   {
    "duration": 353,
    "start_time": "2021-11-30T08:59:24.913Z"
   },
   {
    "duration": 126,
    "start_time": "2021-11-30T09:00:03.148Z"
   },
   {
    "duration": 116,
    "start_time": "2021-11-30T09:02:41.588Z"
   },
   {
    "duration": 113,
    "start_time": "2021-11-30T09:02:57.095Z"
   },
   {
    "duration": 127,
    "start_time": "2021-11-30T09:03:05.861Z"
   },
   {
    "duration": 114,
    "start_time": "2021-11-30T09:03:27.812Z"
   },
   {
    "duration": 175,
    "start_time": "2021-11-30T09:03:37.395Z"
   },
   {
    "duration": 272,
    "start_time": "2021-11-30T09:08:34.488Z"
   },
   {
    "duration": 177,
    "start_time": "2021-11-30T09:08:40.592Z"
   },
   {
    "duration": 191,
    "start_time": "2021-11-30T09:08:52.858Z"
   },
   {
    "duration": 189,
    "start_time": "2021-11-30T09:09:04.086Z"
   },
   {
    "duration": 186,
    "start_time": "2021-11-30T09:09:13.271Z"
   },
   {
    "duration": 197,
    "start_time": "2021-11-30T09:09:20.717Z"
   },
   {
    "duration": 212,
    "start_time": "2021-11-30T09:14:09.556Z"
   },
   {
    "duration": 290,
    "start_time": "2021-11-30T09:14:24.024Z"
   },
   {
    "duration": 365,
    "start_time": "2021-11-30T09:14:41.094Z"
   },
   {
    "duration": 433,
    "start_time": "2021-11-30T09:18:35.407Z"
   },
   {
    "duration": 523,
    "start_time": "2021-11-30T09:19:18.535Z"
   },
   {
    "duration": 606,
    "start_time": "2021-11-30T09:19:26.054Z"
   },
   {
    "duration": 532,
    "start_time": "2021-11-30T09:19:38.813Z"
   },
   {
    "duration": 534,
    "start_time": "2021-11-30T09:19:43.835Z"
   },
   {
    "duration": 364,
    "start_time": "2021-11-30T09:21:43.925Z"
   },
   {
    "duration": 274,
    "start_time": "2021-11-30T09:22:44.554Z"
   },
   {
    "duration": 194,
    "start_time": "2021-11-30T09:22:53.536Z"
   },
   {
    "duration": 206,
    "start_time": "2021-11-30T09:24:24.277Z"
   },
   {
    "duration": 201,
    "start_time": "2021-11-30T09:24:39.441Z"
   },
   {
    "duration": 192,
    "start_time": "2021-11-30T09:26:28.647Z"
   },
   {
    "duration": 194,
    "start_time": "2021-11-30T09:27:33.919Z"
   },
   {
    "duration": 197,
    "start_time": "2021-11-30T09:31:06.613Z"
   },
   {
    "duration": 732,
    "start_time": "2021-11-30T09:32:05.408Z"
   },
   {
    "duration": 10,
    "start_time": "2021-11-30T09:32:06.142Z"
   },
   {
    "duration": 12,
    "start_time": "2021-11-30T09:32:21.674Z"
   },
   {
    "duration": 28,
    "start_time": "2021-11-30T09:32:24.981Z"
   },
   {
    "duration": 202,
    "start_time": "2021-11-30T09:32:26.555Z"
   },
   {
    "duration": 278,
    "start_time": "2021-11-30T09:32:33.048Z"
   },
   {
    "duration": 297,
    "start_time": "2021-11-30T09:32:59.961Z"
   },
   {
    "duration": 627,
    "start_time": "2021-11-30T09:34:37.191Z"
   },
   {
    "duration": 565,
    "start_time": "2021-11-30T09:34:56.799Z"
   },
   {
    "duration": 640,
    "start_time": "2021-11-30T09:35:08.191Z"
   },
   {
    "duration": 582,
    "start_time": "2021-11-30T09:35:14.278Z"
   },
   {
    "duration": 579,
    "start_time": "2021-11-30T09:35:29.017Z"
   },
   {
    "duration": 717,
    "start_time": "2021-11-30T09:35:48.020Z"
   },
   {
    "duration": 309,
    "start_time": "2021-11-30T09:36:21.466Z"
   },
   {
    "duration": 262,
    "start_time": "2021-11-30T09:36:25.582Z"
   },
   {
    "duration": 552,
    "start_time": "2021-11-30T09:36:36.935Z"
   },
   {
    "duration": 947,
    "start_time": "2021-11-30T09:37:33.260Z"
   },
   {
    "duration": 195,
    "start_time": "2021-11-30T09:39:41.392Z"
   },
   {
    "duration": 264,
    "start_time": "2021-11-30T09:39:44.997Z"
   },
   {
    "duration": 723,
    "start_time": "2021-11-30T09:39:47.628Z"
   },
   {
    "duration": 775,
    "start_time": "2021-11-30T09:39:57.266Z"
   },
   {
    "duration": 822,
    "start_time": "2021-11-30T09:40:15.477Z"
   },
   {
    "duration": 827,
    "start_time": "2021-11-30T09:40:21.741Z"
   },
   {
    "duration": 997,
    "start_time": "2021-11-30T09:40:55.165Z"
   },
   {
    "duration": 680,
    "start_time": "2021-11-30T09:41:14.640Z"
   },
   {
    "duration": 10,
    "start_time": "2021-11-30T09:41:15.837Z"
   },
   {
    "duration": 13,
    "start_time": "2021-11-30T09:41:21.917Z"
   },
   {
    "duration": 28,
    "start_time": "2021-11-30T09:41:24.126Z"
   },
   {
    "duration": 484,
    "start_time": "2021-11-30T09:41:29.867Z"
   },
   {
    "duration": 1117,
    "start_time": "2021-11-30T09:41:33.319Z"
   },
   {
    "duration": 1196,
    "start_time": "2021-11-30T09:42:05.642Z"
   },
   {
    "duration": 896,
    "start_time": "2021-11-30T09:42:10.693Z"
   },
   {
    "duration": 685,
    "start_time": "2021-11-30T09:42:20.840Z"
   },
   {
    "duration": 9,
    "start_time": "2021-11-30T09:42:21.527Z"
   },
   {
    "duration": 11,
    "start_time": "2021-11-30T09:42:23.385Z"
   },
   {
    "duration": 26,
    "start_time": "2021-11-30T09:42:23.871Z"
   },
   {
    "duration": 196,
    "start_time": "2021-11-30T09:42:25.675Z"
   },
   {
    "duration": 277,
    "start_time": "2021-11-30T09:42:29.286Z"
   },
   {
    "duration": 951,
    "start_time": "2021-11-30T09:42:32.011Z"
   },
   {
    "duration": 297,
    "start_time": "2021-11-30T09:43:58.597Z"
   },
   {
    "duration": 300,
    "start_time": "2021-11-30T09:45:00.903Z"
   },
   {
    "duration": 300,
    "start_time": "2021-11-30T09:45:15.288Z"
   },
   {
    "duration": 417,
    "start_time": "2021-11-30T09:51:23.720Z"
   },
   {
    "duration": 357,
    "start_time": "2021-11-30T09:51:32.596Z"
   },
   {
    "duration": 3,
    "start_time": "2021-11-30T10:01:42.370Z"
   },
   {
    "duration": 715,
    "start_time": "2021-11-30T10:10:07.609Z"
   },
   {
    "duration": 10,
    "start_time": "2021-11-30T10:10:08.328Z"
   },
   {
    "duration": 12,
    "start_time": "2021-11-30T10:10:10.214Z"
   },
   {
    "duration": 28,
    "start_time": "2021-11-30T10:10:12.005Z"
   },
   {
    "duration": 146,
    "start_time": "2021-11-30T10:10:12.623Z"
   },
   {
    "duration": 260,
    "start_time": "2021-11-30T10:10:52.910Z"
   },
   {
    "duration": 901,
    "start_time": "2021-11-30T10:10:56.861Z"
   },
   {
    "duration": 355,
    "start_time": "2021-11-30T10:10:59.048Z"
   },
   {
    "duration": 2,
    "start_time": "2021-11-30T10:11:01.839Z"
   },
   {
    "duration": 3,
    "start_time": "2021-11-30T10:11:13.970Z"
   },
   {
    "duration": 368,
    "start_time": "2021-11-30T10:50:51.356Z"
   },
   {
    "duration": 376,
    "start_time": "2021-11-30T10:51:24.981Z"
   },
   {
    "duration": 383,
    "start_time": "2021-11-30T10:51:40.848Z"
   },
   {
    "duration": 379,
    "start_time": "2021-11-30T10:51:53.961Z"
   },
   {
    "duration": 689,
    "start_time": "2021-11-30T10:55:18.648Z"
   },
   {
    "duration": 735,
    "start_time": "2021-11-30T10:55:29.975Z"
   },
   {
    "duration": 620,
    "start_time": "2021-11-30T10:55:44.101Z"
   },
   {
    "duration": 962,
    "start_time": "2021-11-30T10:56:06.223Z"
   },
   {
    "duration": 1120,
    "start_time": "2021-11-30T10:56:34.567Z"
   },
   {
    "duration": 607,
    "start_time": "2021-11-30T10:56:54.304Z"
   },
   {
    "duration": 630,
    "start_time": "2021-11-30T10:58:16.625Z"
   },
   {
    "duration": 374,
    "start_time": "2021-11-30T11:07:45.382Z"
   },
   {
    "duration": 427,
    "start_time": "2021-11-30T11:07:51.609Z"
   },
   {
    "duration": 352,
    "start_time": "2021-11-30T11:13:13.089Z"
   },
   {
    "duration": 370,
    "start_time": "2021-11-30T11:14:54.466Z"
   },
   {
    "duration": 375,
    "start_time": "2021-11-30T11:15:31.565Z"
   },
   {
    "duration": 426,
    "start_time": "2021-11-30T11:15:36.217Z"
   },
   {
    "duration": 361,
    "start_time": "2021-11-30T11:15:41.035Z"
   },
   {
    "duration": 632,
    "start_time": "2021-11-30T11:16:37.189Z"
   },
   {
    "duration": 622,
    "start_time": "2021-11-30T11:16:46.423Z"
   },
   {
    "duration": 628,
    "start_time": "2021-11-30T11:16:55.912Z"
   },
   {
    "duration": 645,
    "start_time": "2021-11-30T11:17:11.355Z"
   },
   {
    "duration": 291,
    "start_time": "2021-11-30T11:18:20.758Z"
   },
   {
    "duration": 250,
    "start_time": "2021-11-30T11:26:33.158Z"
   },
   {
    "duration": 7,
    "start_time": "2021-11-30T11:26:43.160Z"
   },
   {
    "duration": 39,
    "start_time": "2021-11-30T11:26:45.941Z"
   },
   {
    "duration": 37,
    "start_time": "2021-11-30T11:27:24.993Z"
   },
   {
    "duration": 240,
    "start_time": "2021-11-30T11:27:42.325Z"
   },
   {
    "duration": 367,
    "start_time": "2021-11-30T11:27:49.986Z"
   },
   {
    "duration": 472,
    "start_time": "2021-11-30T11:29:53.182Z"
   },
   {
    "duration": 375,
    "start_time": "2021-11-30T11:30:37.349Z"
   },
   {
    "duration": 15,
    "start_time": "2021-11-30T11:42:37.209Z"
   },
   {
    "duration": 23,
    "start_time": "2021-11-30T11:42:53.046Z"
   },
   {
    "duration": 246,
    "start_time": "2021-11-30T11:44:04.261Z"
   },
   {
    "duration": 23,
    "start_time": "2021-11-30T11:44:15.455Z"
   },
   {
    "duration": 22,
    "start_time": "2021-11-30T11:44:32.000Z"
   },
   {
    "duration": 242,
    "start_time": "2021-11-30T11:44:48.049Z"
   },
   {
    "duration": 21,
    "start_time": "2021-11-30T11:45:03.192Z"
   },
   {
    "duration": 22,
    "start_time": "2021-11-30T11:47:02.638Z"
   },
   {
    "duration": 20,
    "start_time": "2021-11-30T11:47:40.324Z"
   },
   {
    "duration": 10,
    "start_time": "2021-11-30T11:52:20.503Z"
   },
   {
    "duration": 12,
    "start_time": "2021-11-30T11:52:30.376Z"
   },
   {
    "duration": 13,
    "start_time": "2021-11-30T11:53:49.226Z"
   },
   {
    "duration": 12,
    "start_time": "2021-11-30T11:54:24.504Z"
   },
   {
    "duration": 11,
    "start_time": "2021-11-30T11:55:07.386Z"
   },
   {
    "duration": 11,
    "start_time": "2021-11-30T12:02:28.433Z"
   },
   {
    "duration": 13,
    "start_time": "2021-11-30T12:02:34.358Z"
   },
   {
    "duration": 8,
    "start_time": "2021-11-30T12:02:59.671Z"
   },
   {
    "duration": 21,
    "start_time": "2021-11-30T12:03:09.709Z"
   },
   {
    "duration": 27,
    "start_time": "2021-11-30T12:03:30.766Z"
   },
   {
    "duration": 6258,
    "start_time": "2021-11-30T12:05:02.884Z"
   },
   {
    "duration": 5733,
    "start_time": "2021-11-30T12:05:51.322Z"
   },
   {
    "duration": 11,
    "start_time": "2021-11-30T12:06:25.163Z"
   },
   {
    "duration": 40,
    "start_time": "2021-11-30T12:06:34.017Z"
   },
   {
    "duration": 25,
    "start_time": "2021-11-30T12:10:55.510Z"
   },
   {
    "duration": 396,
    "start_time": "2021-11-30T12:15:08.398Z"
   },
   {
    "duration": 19,
    "start_time": "2021-11-30T12:15:33.549Z"
   },
   {
    "duration": 18,
    "start_time": "2021-11-30T12:15:56.632Z"
   },
   {
    "duration": 18,
    "start_time": "2021-11-30T12:16:48.078Z"
   },
   {
    "duration": 1291,
    "start_time": "2021-11-30T12:18:22.025Z"
   },
   {
    "duration": 11,
    "start_time": "2021-11-30T12:18:23.318Z"
   },
   {
    "duration": 12,
    "start_time": "2021-11-30T12:18:26.258Z"
   },
   {
    "duration": 27,
    "start_time": "2021-11-30T12:18:26.815Z"
   },
   {
    "duration": 142,
    "start_time": "2021-11-30T12:18:28.847Z"
   },
   {
    "duration": 245,
    "start_time": "2021-11-30T12:18:32.183Z"
   },
   {
    "duration": 907,
    "start_time": "2021-11-30T12:18:35.925Z"
   },
   {
    "duration": 350,
    "start_time": "2021-11-30T12:18:37.840Z"
   },
   {
    "duration": 3,
    "start_time": "2021-11-30T12:18:40.483Z"
   },
   {
    "duration": 621,
    "start_time": "2021-11-30T12:18:42.492Z"
   },
   {
    "duration": 357,
    "start_time": "2021-11-30T12:18:45.484Z"
   },
   {
    "duration": 607,
    "start_time": "2021-11-30T12:18:48.002Z"
   },
   {
    "duration": 453,
    "start_time": "2021-11-30T12:18:51.770Z"
   },
   {
    "duration": 342,
    "start_time": "2021-11-30T12:18:54.418Z"
   },
   {
    "duration": 377,
    "start_time": "2021-11-30T12:19:00.856Z"
   },
   {
    "duration": 370,
    "start_time": "2021-11-30T12:19:03.871Z"
   },
   {
    "duration": 14,
    "start_time": "2021-11-30T12:19:13.569Z"
   },
   {
    "duration": 13,
    "start_time": "2021-11-30T12:19:41.999Z"
   },
   {
    "duration": 16,
    "start_time": "2021-11-30T12:21:56.462Z"
   },
   {
    "duration": 21,
    "start_time": "2021-11-30T12:22:06.258Z"
   },
   {
    "duration": 16,
    "start_time": "2021-11-30T12:51:11.621Z"
   },
   {
    "duration": 404,
    "start_time": "2021-11-30T12:52:58.909Z"
   },
   {
    "duration": 266,
    "start_time": "2021-11-30T12:53:08.975Z"
   },
   {
    "duration": 248,
    "start_time": "2021-11-30T12:56:56.752Z"
   },
   {
    "duration": 269,
    "start_time": "2021-11-30T12:57:07.562Z"
   },
   {
    "duration": 1083,
    "start_time": "2021-11-30T17:55:29.920Z"
   },
   {
    "duration": 14,
    "start_time": "2021-11-30T17:55:31.006Z"
   },
   {
    "duration": 19,
    "start_time": "2021-11-30T17:55:36.444Z"
   },
   {
    "duration": 42,
    "start_time": "2021-11-30T17:55:37.960Z"
   },
   {
    "duration": 247,
    "start_time": "2021-11-30T17:55:39.682Z"
   },
   {
    "duration": 438,
    "start_time": "2021-11-30T17:55:42.699Z"
   },
   {
    "duration": 1711,
    "start_time": "2021-11-30T17:55:45.535Z"
   },
   {
    "duration": 685,
    "start_time": "2021-11-30T17:55:48.178Z"
   },
   {
    "duration": 4,
    "start_time": "2021-11-30T17:55:48.931Z"
   },
   {
    "duration": 1020,
    "start_time": "2021-11-30T17:55:51.068Z"
   },
   {
    "duration": 520,
    "start_time": "2021-11-30T17:55:52.352Z"
   },
   {
    "duration": 1102,
    "start_time": "2021-11-30T17:55:53.593Z"
   },
   {
    "duration": 667,
    "start_time": "2021-11-30T17:55:55.022Z"
   },
   {
    "duration": 520,
    "start_time": "2021-11-30T17:55:57.349Z"
   },
   {
    "duration": 581,
    "start_time": "2021-11-30T17:55:58.897Z"
   },
   {
    "duration": 630,
    "start_time": "2021-11-30T17:56:04.673Z"
   },
   {
    "duration": 21,
    "start_time": "2021-11-30T17:56:40.687Z"
   },
   {
    "duration": 496,
    "start_time": "2021-11-30T17:59:47.702Z"
   },
   {
    "duration": 32,
    "start_time": "2021-11-30T18:00:13.032Z"
   },
   {
    "duration": 31,
    "start_time": "2021-11-30T18:00:20.937Z"
   },
   {
    "duration": 44,
    "start_time": "2021-11-30T18:00:36.162Z"
   },
   {
    "duration": 39,
    "start_time": "2021-11-30T18:00:51.310Z"
   },
   {
    "duration": 57,
    "start_time": "2021-11-30T18:04:04.737Z"
   },
   {
    "duration": 42,
    "start_time": "2021-11-30T18:05:04.826Z"
   },
   {
    "duration": 43,
    "start_time": "2021-11-30T18:07:08.048Z"
   },
   {
    "duration": 53,
    "start_time": "2021-11-30T18:15:26.534Z"
   },
   {
    "duration": 66,
    "start_time": "2021-11-30T18:16:31.455Z"
   },
   {
    "duration": 164,
    "start_time": "2021-11-30T18:21:06.122Z"
   },
   {
    "duration": 1224,
    "start_time": "2021-11-30T18:21:19.486Z"
   },
   {
    "duration": 22,
    "start_time": "2021-11-30T18:21:25.681Z"
   },
   {
    "duration": 17,
    "start_time": "2021-11-30T18:21:27.572Z"
   },
   {
    "duration": 41,
    "start_time": "2021-11-30T18:21:28.078Z"
   },
   {
    "duration": 330,
    "start_time": "2021-11-30T18:21:28.936Z"
   },
   {
    "duration": 474,
    "start_time": "2021-11-30T18:21:31.173Z"
   },
   {
    "duration": 1849,
    "start_time": "2021-11-30T18:21:33.010Z"
   },
   {
    "duration": 723,
    "start_time": "2021-11-30T18:21:34.865Z"
   },
   {
    "duration": 4,
    "start_time": "2021-11-30T18:21:35.591Z"
   },
   {
    "duration": 1128,
    "start_time": "2021-11-30T18:21:36.215Z"
   },
   {
    "duration": 582,
    "start_time": "2021-11-30T18:21:38.029Z"
   },
   {
    "duration": 1243,
    "start_time": "2021-11-30T18:21:39.416Z"
   },
   {
    "duration": 709,
    "start_time": "2021-11-30T18:21:41.497Z"
   },
   {
    "duration": 643,
    "start_time": "2021-11-30T18:21:43.087Z"
   },
   {
    "duration": 577,
    "start_time": "2021-11-30T18:21:44.325Z"
   },
   {
    "duration": 575,
    "start_time": "2021-11-30T18:21:45.353Z"
   },
   {
    "duration": 74,
    "start_time": "2021-11-30T18:21:49.234Z"
   },
   {
    "duration": 61,
    "start_time": "2021-11-30T18:21:57.372Z"
   },
   {
    "duration": 496,
    "start_time": "2021-11-30T18:22:41.908Z"
   },
   {
    "duration": 379,
    "start_time": "2021-11-30T18:22:57.970Z"
   },
   {
    "duration": 366,
    "start_time": "2021-11-30T18:23:40.534Z"
   },
   {
    "duration": 1827,
    "start_time": "2021-11-30T18:23:48.416Z"
   },
   {
    "duration": 71,
    "start_time": "2021-11-30T18:25:44.325Z"
   },
   {
    "duration": 70,
    "start_time": "2021-11-30T18:26:16.935Z"
   },
   {
    "duration": 68,
    "start_time": "2021-11-30T18:28:35.679Z"
   },
   {
    "duration": 616,
    "start_time": "2021-11-30T18:35:24.179Z"
   },
   {
    "duration": 77,
    "start_time": "2021-11-30T18:46:56.636Z"
   },
   {
    "duration": 316,
    "start_time": "2021-11-30T18:50:58.208Z"
   },
   {
    "duration": 290,
    "start_time": "2021-11-30T18:51:08.385Z"
   },
   {
    "duration": 697,
    "start_time": "2021-11-30T18:52:20.178Z"
   },
   {
    "duration": 780,
    "start_time": "2021-11-30T18:53:25.575Z"
   },
   {
    "duration": 1376,
    "start_time": "2021-11-30T18:54:13.343Z"
   },
   {
    "duration": 1405,
    "start_time": "2021-11-30T18:59:15.427Z"
   },
   {
    "duration": 1433,
    "start_time": "2021-11-30T18:59:23.081Z"
   },
   {
    "duration": 928,
    "start_time": "2021-11-30T18:59:33.952Z"
   },
   {
    "duration": 1139,
    "start_time": "2021-11-30T19:00:13.091Z"
   },
   {
    "duration": 1037,
    "start_time": "2021-11-30T19:00:29.139Z"
   },
   {
    "duration": 1084,
    "start_time": "2021-11-30T19:01:38.805Z"
   },
   {
    "duration": 1014,
    "start_time": "2021-11-30T19:01:56.635Z"
   },
   {
    "duration": 1080,
    "start_time": "2021-11-30T19:02:03.716Z"
   },
   {
    "duration": 1108,
    "start_time": "2021-11-30T19:02:55.551Z"
   },
   {
    "duration": 506,
    "start_time": "2021-11-30T19:03:13.229Z"
   },
   {
    "duration": 1137,
    "start_time": "2021-11-30T19:03:48.187Z"
   },
   {
    "duration": 1151,
    "start_time": "2021-11-30T19:58:14.734Z"
   },
   {
    "duration": 20,
    "start_time": "2021-11-30T19:58:16.643Z"
   },
   {
    "duration": 18,
    "start_time": "2021-11-30T19:58:45.247Z"
   },
   {
    "duration": 45,
    "start_time": "2021-11-30T19:59:18.365Z"
   },
   {
    "duration": 289,
    "start_time": "2021-11-30T19:59:48.241Z"
   },
   {
    "duration": 496,
    "start_time": "2021-11-30T20:00:08.989Z"
   },
   {
    "duration": 2262,
    "start_time": "2021-11-30T20:00:22.963Z"
   },
   {
    "duration": 702,
    "start_time": "2021-11-30T20:00:53.337Z"
   },
   {
    "duration": 3,
    "start_time": "2021-11-30T20:01:08.394Z"
   },
   {
    "duration": 1066,
    "start_time": "2021-11-30T20:01:20.955Z"
   },
   {
    "duration": 560,
    "start_time": "2021-11-30T20:01:25.993Z"
   },
   {
    "duration": 1046,
    "start_time": "2021-11-30T20:01:33.499Z"
   },
   {
    "duration": 628,
    "start_time": "2021-11-30T20:01:40.181Z"
   },
   {
    "duration": 802,
    "start_time": "2021-11-30T20:01:48.688Z"
   },
   {
    "duration": 658,
    "start_time": "2021-11-30T20:01:51.835Z"
   },
   {
    "duration": 551,
    "start_time": "2021-11-30T20:01:57.227Z"
   },
   {
    "duration": 65,
    "start_time": "2021-11-30T20:02:07.112Z"
   },
   {
    "duration": 556,
    "start_time": "2021-11-30T20:02:20.865Z"
   },
   {
    "duration": 1337,
    "start_time": "2021-11-30T20:02:26.589Z"
   },
   {
    "duration": 1002,
    "start_time": "2021-11-30T20:02:30.599Z"
   },
   {
    "duration": 1076,
    "start_time": "2021-11-30T20:02:33.970Z"
   },
   {
    "duration": 1021,
    "start_time": "2021-11-30T20:02:39.740Z"
   },
   {
    "duration": 1025,
    "start_time": "2021-11-30T20:02:43.839Z"
   },
   {
    "duration": 1017,
    "start_time": "2021-12-01T06:19:36.500Z"
   },
   {
    "duration": 17,
    "start_time": "2021-12-01T06:19:37.520Z"
   },
   {
    "duration": 17,
    "start_time": "2021-12-01T06:19:37.568Z"
   },
   {
    "duration": 41,
    "start_time": "2021-12-01T06:19:37.588Z"
   },
   {
    "duration": 284,
    "start_time": "2021-12-01T06:19:37.631Z"
   },
   {
    "duration": 480,
    "start_time": "2021-12-01T06:19:37.917Z"
   },
   {
    "duration": 1810,
    "start_time": "2021-12-01T06:19:38.400Z"
   },
   {
    "duration": 723,
    "start_time": "2021-12-01T06:19:40.213Z"
   },
   {
    "duration": 3,
    "start_time": "2021-12-01T06:19:40.940Z"
   },
   {
    "duration": 1072,
    "start_time": "2021-12-01T06:19:40.966Z"
   },
   {
    "duration": 549,
    "start_time": "2021-12-01T06:19:42.040Z"
   },
   {
    "duration": 1097,
    "start_time": "2021-12-01T06:19:42.592Z"
   },
   {
    "duration": 705,
    "start_time": "2021-12-01T06:19:43.692Z"
   },
   {
    "duration": 592,
    "start_time": "2021-12-01T06:19:44.400Z"
   },
   {
    "duration": 589,
    "start_time": "2021-12-01T06:19:44.994Z"
   },
   {
    "duration": 594,
    "start_time": "2021-12-01T06:19:45.586Z"
   },
   {
    "duration": 91,
    "start_time": "2021-12-01T06:19:46.182Z"
   },
   {
    "duration": 594,
    "start_time": "2021-12-01T06:19:46.275Z"
   },
   {
    "duration": 1200,
    "start_time": "2021-12-01T06:19:46.872Z"
   },
   {
    "duration": 981,
    "start_time": "2021-12-01T06:19:48.074Z"
   },
   {
    "duration": 1048,
    "start_time": "2021-12-01T06:19:49.058Z"
   },
   {
    "duration": 1028,
    "start_time": "2021-12-01T06:19:50.108Z"
   },
   {
    "duration": 1011,
    "start_time": "2021-12-01T06:19:51.139Z"
   },
   {
    "duration": 446,
    "start_time": "2021-12-01T11:52:58.555Z"
   },
   {
    "duration": 1071,
    "start_time": "2021-12-01T11:53:26.002Z"
   },
   {
    "duration": 18,
    "start_time": "2021-12-01T11:53:44.018Z"
   },
   {
    "duration": 26,
    "start_time": "2021-12-01T11:53:50.348Z"
   },
   {
    "duration": 44,
    "start_time": "2021-12-01T11:53:53.531Z"
   },
   {
    "duration": 259,
    "start_time": "2021-12-01T11:53:58.069Z"
   },
   {
    "duration": 454,
    "start_time": "2021-12-01T11:54:05.665Z"
   },
   {
    "duration": 923,
    "start_time": "2021-12-01T11:54:10.078Z"
   },
   {
    "duration": 1801,
    "start_time": "2021-12-01T11:55:25.290Z"
   },
   {
    "duration": 1792,
    "start_time": "2021-12-01T11:57:48.478Z"
   },
   {
    "duration": 1741,
    "start_time": "2021-12-01T11:58:10.608Z"
   },
   {
    "duration": 1864,
    "start_time": "2021-12-01T11:59:01.987Z"
   },
   {
    "duration": 1922,
    "start_time": "2021-12-01T11:59:21.611Z"
   },
   {
    "duration": 1837,
    "start_time": "2021-12-01T12:01:15.717Z"
   },
   {
    "duration": 1727,
    "start_time": "2021-12-01T12:01:28.404Z"
   },
   {
    "duration": 374,
    "start_time": "2021-12-01T21:14:46.752Z"
   },
   {
    "duration": 1050,
    "start_time": "2021-12-01T21:14:57.192Z"
   },
   {
    "duration": 16,
    "start_time": "2021-12-01T21:14:58.518Z"
   },
   {
    "duration": 17,
    "start_time": "2021-12-01T21:15:02.838Z"
   },
   {
    "duration": 42,
    "start_time": "2021-12-01T21:15:05.784Z"
   },
   {
    "duration": 4,
    "start_time": "2021-12-01T21:15:16.301Z"
   },
   {
    "duration": 7,
    "start_time": "2021-12-01T21:15:20.539Z"
   },
   {
    "duration": 8,
    "start_time": "2021-12-01T21:15:34.253Z"
   },
   {
    "duration": 12,
    "start_time": "2021-12-01T21:15:59.049Z"
   },
   {
    "duration": 6,
    "start_time": "2021-12-01T21:16:17.123Z"
   },
   {
    "duration": 22,
    "start_time": "2021-12-01T21:51:38.956Z"
   },
   {
    "duration": 17,
    "start_time": "2021-12-01T21:52:06.713Z"
   },
   {
    "duration": 21,
    "start_time": "2021-12-01T21:54:18.986Z"
   },
   {
    "duration": 14,
    "start_time": "2021-12-01T21:54:24.794Z"
   },
   {
    "duration": 4499,
    "start_time": "2021-12-01T21:54:39.539Z"
   },
   {
    "duration": 27,
    "start_time": "2021-12-01T21:54:56.881Z"
   },
   {
    "duration": 93,
    "start_time": "2021-12-01T21:59:07.453Z"
   },
   {
    "duration": 50,
    "start_time": "2021-12-01T21:59:11.333Z"
   },
   {
    "duration": 10,
    "start_time": "2021-12-01T22:00:11.497Z"
   },
   {
    "duration": 9,
    "start_time": "2021-12-01T22:00:13.937Z"
   },
   {
    "duration": 9,
    "start_time": "2021-12-01T22:00:20.410Z"
   },
   {
    "duration": 10,
    "start_time": "2021-12-01T22:00:24.218Z"
   },
   {
    "duration": 1346,
    "start_time": "2021-12-01T22:02:00.070Z"
   },
   {
    "duration": 7674,
    "start_time": "2021-12-01T22:02:32.967Z"
   },
   {
    "duration": 10,
    "start_time": "2021-12-01T22:02:46.248Z"
   },
   {
    "duration": 8,
    "start_time": "2021-12-01T22:03:10.735Z"
   },
   {
    "duration": 8,
    "start_time": "2021-12-01T22:13:23.413Z"
   },
   {
    "duration": 12,
    "start_time": "2021-12-01T22:13:28.929Z"
   },
   {
    "duration": 8,
    "start_time": "2021-12-01T22:13:36.372Z"
   },
   {
    "duration": 11,
    "start_time": "2021-12-01T22:13:54.073Z"
   },
   {
    "duration": 82,
    "start_time": "2021-12-01T22:22:10.356Z"
   },
   {
    "duration": 337,
    "start_time": "2021-12-01T22:39:54.821Z"
   },
   {
    "duration": 1295,
    "start_time": "2021-12-01T22:40:53.916Z"
   },
   {
    "duration": 299,
    "start_time": "2021-12-01T22:42:50.422Z"
   },
   {
    "duration": 65,
    "start_time": "2021-12-01T22:44:09.004Z"
   },
   {
    "duration": 11,
    "start_time": "2021-12-01T22:44:49.426Z"
   },
   {
    "duration": 66,
    "start_time": "2021-12-01T22:44:53.136Z"
   },
   {
    "duration": 34,
    "start_time": "2021-12-01T22:46:45.129Z"
   },
   {
    "duration": 917,
    "start_time": "2021-12-01T22:47:03.607Z"
   },
   {
    "duration": 38,
    "start_time": "2021-12-01T22:47:35.757Z"
   },
   {
    "duration": 31,
    "start_time": "2021-12-01T22:52:19.725Z"
   },
   {
    "duration": 344,
    "start_time": "2021-12-01T22:58:10.443Z"
   },
   {
    "duration": 98,
    "start_time": "2021-12-01T22:58:16.796Z"
   },
   {
    "duration": 96,
    "start_time": "2021-12-01T22:59:02.326Z"
   },
   {
    "duration": 383,
    "start_time": "2021-12-01T23:03:11.487Z"
   },
   {
    "duration": 337,
    "start_time": "2021-12-01T23:03:30.657Z"
   },
   {
    "duration": 102,
    "start_time": "2021-12-01T23:04:05.945Z"
   },
   {
    "duration": 299,
    "start_time": "2021-12-01T23:05:41.330Z"
   },
   {
    "duration": 317,
    "start_time": "2021-12-01T23:06:09.092Z"
   },
   {
    "duration": 306,
    "start_time": "2021-12-01T23:06:23.719Z"
   },
   {
    "duration": 27,
    "start_time": "2021-12-01T23:07:04.551Z"
   },
   {
    "duration": 28,
    "start_time": "2021-12-01T23:07:16.393Z"
   },
   {
    "duration": 393,
    "start_time": "2021-12-01T23:07:38.240Z"
   },
   {
    "duration": 347,
    "start_time": "2021-12-01T23:07:49.830Z"
   },
   {
    "duration": 104,
    "start_time": "2021-12-01T23:09:47.688Z"
   },
   {
    "duration": 990,
    "start_time": "2021-12-01T23:10:07.934Z"
   },
   {
    "duration": 17,
    "start_time": "2021-12-01T23:10:09.397Z"
   },
   {
    "duration": 18,
    "start_time": "2021-12-01T23:10:12.244Z"
   },
   {
    "duration": 43,
    "start_time": "2021-12-01T23:10:13.825Z"
   },
   {
    "duration": 4,
    "start_time": "2021-12-01T23:10:16.813Z"
   },
   {
    "duration": 105,
    "start_time": "2021-12-01T23:10:20.179Z"
   },
   {
    "duration": 123,
    "start_time": "2021-12-01T23:17:17.790Z"
   },
   {
    "duration": 111,
    "start_time": "2021-12-01T23:18:48.802Z"
   },
   {
    "duration": 1373,
    "start_time": "2021-12-01T23:20:23.029Z"
   },
   {
    "duration": 17,
    "start_time": "2021-12-01T23:20:25.620Z"
   },
   {
    "duration": 17,
    "start_time": "2021-12-01T23:20:28.935Z"
   },
   {
    "duration": 42,
    "start_time": "2021-12-01T23:20:30.263Z"
   },
   {
    "duration": 3,
    "start_time": "2021-12-01T23:20:31.482Z"
   },
   {
    "duration": 78,
    "start_time": "2021-12-01T23:20:34.569Z"
   },
   {
    "duration": 82,
    "start_time": "2021-12-01T23:22:05.706Z"
   },
   {
    "duration": 884,
    "start_time": "2021-12-01T23:22:21.898Z"
   },
   {
    "duration": 1758,
    "start_time": "2021-12-01T23:22:26.113Z"
   },
   {
    "duration": 792,
    "start_time": "2021-12-01T23:22:31.754Z"
   },
   {
    "duration": 3,
    "start_time": "2021-12-01T23:23:09.410Z"
   },
   {
    "duration": 1241,
    "start_time": "2021-12-01T23:23:15.493Z"
   },
   {
    "duration": 1274,
    "start_time": "2021-12-01T23:23:34.747Z"
   },
   {
    "duration": 819,
    "start_time": "2021-12-01T23:23:52.747Z"
   },
   {
    "duration": 1273,
    "start_time": "2021-12-01T23:24:02.404Z"
   },
   {
    "duration": 1314,
    "start_time": "2021-12-01T23:24:10.334Z"
   },
   {
    "duration": 751,
    "start_time": "2021-12-01T23:24:23.020Z"
   },
   {
    "duration": 729,
    "start_time": "2021-12-01T23:24:33.935Z"
   },
   {
    "duration": 739,
    "start_time": "2021-12-01T23:24:38.183Z"
   },
   {
    "duration": 890,
    "start_time": "2021-12-01T23:24:42.059Z"
   },
   {
    "duration": 78,
    "start_time": "2021-12-01T23:24:50.055Z"
   },
   {
    "duration": 684,
    "start_time": "2021-12-01T23:30:03.947Z"
   },
   {
    "duration": 60,
    "start_time": "2021-12-01T23:31:18.715Z"
   },
   {
    "duration": 735,
    "start_time": "2021-12-01T23:32:20.834Z"
   },
   {
    "duration": 438,
    "start_time": "2021-12-01T23:36:34.628Z"
   },
   {
    "duration": 302,
    "start_time": "2021-12-01T23:36:53.675Z"
   },
   {
    "duration": 841,
    "start_time": "2021-12-01T23:38:00.319Z"
   },
   {
    "duration": 471,
    "start_time": "2021-12-01T23:38:21.808Z"
   },
   {
    "duration": 313,
    "start_time": "2021-12-01T23:39:31.733Z"
   },
   {
    "duration": 330,
    "start_time": "2021-12-01T23:39:40.545Z"
   },
   {
    "duration": 278,
    "start_time": "2021-12-01T23:40:21.103Z"
   },
   {
    "duration": 551,
    "start_time": "2021-12-01T23:43:38.580Z"
   },
   {
    "duration": 587,
    "start_time": "2021-12-01T23:44:01.859Z"
   },
   {
    "duration": 327,
    "start_time": "2021-12-01T23:44:14.821Z"
   },
   {
    "duration": 517,
    "start_time": "2021-12-01T23:44:30.954Z"
   },
   {
    "duration": 551,
    "start_time": "2021-12-01T23:44:58.380Z"
   },
   {
    "duration": 392,
    "start_time": "2021-12-02T07:57:45.160Z"
   },
   {
    "duration": 790,
    "start_time": "2021-12-02T07:58:05.956Z"
   },
   {
    "duration": 12,
    "start_time": "2021-12-02T07:58:06.868Z"
   },
   {
    "duration": 13,
    "start_time": "2021-12-02T07:58:08.904Z"
   },
   {
    "duration": 32,
    "start_time": "2021-12-02T07:58:09.664Z"
   },
   {
    "duration": 3,
    "start_time": "2021-12-02T07:58:10.765Z"
   },
   {
    "duration": 32,
    "start_time": "2021-12-02T07:58:13.417Z"
   },
   {
    "duration": 575,
    "start_time": "2021-12-02T07:58:18.076Z"
   },
   {
    "duration": 1070,
    "start_time": "2021-12-02T07:58:23.558Z"
   },
   {
    "duration": 523,
    "start_time": "2021-12-02T07:58:25.453Z"
   },
   {
    "duration": 3,
    "start_time": "2021-12-02T07:58:28.257Z"
   },
   {
    "duration": 792,
    "start_time": "2021-12-02T07:58:28.790Z"
   },
   {
    "duration": 638,
    "start_time": "2021-12-02T07:58:30.456Z"
   },
   {
    "duration": 898,
    "start_time": "2021-12-02T07:58:33.455Z"
   },
   {
    "duration": 525,
    "start_time": "2021-12-02T07:58:34.469Z"
   },
   {
    "duration": 490,
    "start_time": "2021-12-02T07:58:36.774Z"
   },
   {
    "duration": 528,
    "start_time": "2021-12-02T07:58:37.729Z"
   },
   {
    "duration": 493,
    "start_time": "2021-12-02T07:58:38.679Z"
   },
   {
    "duration": 47,
    "start_time": "2021-12-02T07:58:40.287Z"
   },
   {
    "duration": 392,
    "start_time": "2021-12-02T07:58:49.087Z"
   },
   {
    "duration": 733,
    "start_time": "2021-12-02T07:58:54.059Z"
   },
   {
    "duration": 768,
    "start_time": "2021-12-02T07:58:55.117Z"
   },
   {
    "duration": 724,
    "start_time": "2021-12-02T07:58:55.887Z"
   },
   {
    "duration": 720,
    "start_time": "2021-12-02T07:58:56.613Z"
   },
   {
    "duration": 781,
    "start_time": "2021-12-02T07:58:57.335Z"
   },
   {
    "duration": 447,
    "start_time": "2021-12-02T08:12:14.447Z"
   },
   {
    "duration": 185,
    "start_time": "2021-12-02T08:12:30.438Z"
   },
   {
    "duration": 952,
    "start_time": "2021-12-02T08:20:33.244Z"
   },
   {
    "duration": 17,
    "start_time": "2021-12-02T08:20:34.207Z"
   },
   {
    "duration": 15,
    "start_time": "2021-12-02T08:20:36.845Z"
   },
   {
    "duration": 30,
    "start_time": "2021-12-02T08:20:37.070Z"
   },
   {
    "duration": 3,
    "start_time": "2021-12-02T08:20:38.182Z"
   },
   {
    "duration": 33,
    "start_time": "2021-12-02T08:21:06.983Z"
   },
   {
    "duration": 26,
    "start_time": "2021-12-02T08:21:55.212Z"
   },
   {
    "duration": 850,
    "start_time": "2021-12-02T08:21:59.492Z"
   },
   {
    "duration": 1163,
    "start_time": "2021-12-02T08:22:00.487Z"
   },
   {
    "duration": 504,
    "start_time": "2021-12-02T08:22:01.652Z"
   },
   {
    "duration": 3,
    "start_time": "2021-12-02T08:22:02.158Z"
   },
   {
    "duration": 900,
    "start_time": "2021-12-02T08:22:02.700Z"
   },
   {
    "duration": 612,
    "start_time": "2021-12-02T08:22:03.607Z"
   },
   {
    "duration": 1249,
    "start_time": "2021-12-02T08:22:04.221Z"
   },
   {
    "duration": 574,
    "start_time": "2021-12-02T08:22:05.472Z"
   },
   {
    "duration": 580,
    "start_time": "2021-12-02T08:22:06.049Z"
   },
   {
    "duration": 556,
    "start_time": "2021-12-02T08:22:06.632Z"
   },
   {
    "duration": 557,
    "start_time": "2021-12-02T08:22:07.190Z"
   },
   {
    "duration": 71,
    "start_time": "2021-12-02T08:22:07.749Z"
   },
   {
    "duration": 432,
    "start_time": "2021-12-02T08:22:07.822Z"
   },
   {
    "duration": 794,
    "start_time": "2021-12-02T08:22:08.256Z"
   },
   {
    "duration": 900,
    "start_time": "2021-12-02T08:22:09.053Z"
   },
   {
    "duration": 798,
    "start_time": "2021-12-02T08:22:09.955Z"
   },
   {
    "duration": 816,
    "start_time": "2021-12-02T08:22:10.754Z"
   },
   {
    "duration": 779,
    "start_time": "2021-12-02T08:22:11.573Z"
   },
   {
    "duration": 463,
    "start_time": "2021-12-02T08:30:17.393Z"
   },
   {
    "duration": 236,
    "start_time": "2021-12-02T08:32:39.794Z"
   },
   {
    "duration": 178,
    "start_time": "2021-12-02T08:32:45.804Z"
   },
   {
    "duration": 339,
    "start_time": "2021-12-02T08:32:48.227Z"
   },
   {
    "duration": 1071,
    "start_time": "2021-12-02T09:14:30.723Z"
   },
   {
    "duration": 1105,
    "start_time": "2021-12-02T09:14:56.718Z"
   },
   {
    "duration": 1208,
    "start_time": "2021-12-02T09:15:59.513Z"
   },
   {
    "duration": 929,
    "start_time": "2021-12-02T09:19:34.843Z"
   },
   {
    "duration": 942,
    "start_time": "2021-12-02T09:23:25.649Z"
   },
   {
    "duration": 811,
    "start_time": "2021-12-02T09:24:02.730Z"
   },
   {
    "duration": 824,
    "start_time": "2021-12-02T09:24:08.954Z"
   },
   {
    "duration": 974,
    "start_time": "2021-12-02T09:24:20.188Z"
   },
   {
    "duration": 803,
    "start_time": "2021-12-02T09:24:32.458Z"
   },
   {
    "duration": 65,
    "start_time": "2021-12-02T09:32:34.086Z"
   },
   {
    "duration": 60,
    "start_time": "2021-12-02T09:32:42.208Z"
   },
   {
    "duration": 61,
    "start_time": "2021-12-02T09:33:15.435Z"
   },
   {
    "duration": 67,
    "start_time": "2021-12-02T09:33:31.973Z"
   },
   {
    "duration": 72,
    "start_time": "2021-12-02T09:34:10.993Z"
   },
   {
    "duration": 922,
    "start_time": "2021-12-02T09:35:05.444Z"
   },
   {
    "duration": 682,
    "start_time": "2021-12-02T09:36:23.454Z"
   },
   {
    "duration": 900,
    "start_time": "2021-12-02T09:36:43.489Z"
   },
   {
    "duration": 12,
    "start_time": "2021-12-02T09:36:44.874Z"
   },
   {
    "duration": 15,
    "start_time": "2021-12-02T09:36:46.931Z"
   },
   {
    "duration": 29,
    "start_time": "2021-12-02T09:36:47.958Z"
   },
   {
    "duration": 3,
    "start_time": "2021-12-02T09:36:48.790Z"
   },
   {
    "duration": 31,
    "start_time": "2021-12-02T09:36:49.871Z"
   },
   {
    "duration": 583,
    "start_time": "2021-12-02T09:36:51.989Z"
   },
   {
    "duration": 818,
    "start_time": "2021-12-02T09:36:54.446Z"
   },
   {
    "duration": 441,
    "start_time": "2021-12-02T09:36:57.951Z"
   },
   {
    "duration": 931,
    "start_time": "2021-12-02T09:37:01.615Z"
   },
   {
    "duration": 559,
    "start_time": "2021-12-02T09:37:05.179Z"
   },
   {
    "duration": 911,
    "start_time": "2021-12-02T09:37:07.414Z"
   },
   {
    "duration": 570,
    "start_time": "2021-12-02T09:37:10.403Z"
   },
   {
    "duration": 692,
    "start_time": "2021-12-02T09:37:14.447Z"
   },
   {
    "duration": 566,
    "start_time": "2021-12-02T09:37:16.925Z"
   },
   {
    "duration": 540,
    "start_time": "2021-12-02T09:37:18.685Z"
   },
   {
    "duration": 48,
    "start_time": "2021-12-02T09:37:22.149Z"
   },
   {
    "duration": 369,
    "start_time": "2021-12-02T09:37:25.721Z"
   },
   {
    "duration": 658,
    "start_time": "2021-12-02T09:37:48.897Z"
   },
   {
    "duration": 38,
    "start_time": "2021-12-02T09:38:03.468Z"
   },
   {
    "duration": 70,
    "start_time": "2021-12-02T09:47:07.268Z"
   },
   {
    "duration": 57,
    "start_time": "2021-12-02T09:47:18.838Z"
   },
   {
    "duration": 77,
    "start_time": "2021-12-02T09:50:11.789Z"
   },
   {
    "duration": 682,
    "start_time": "2021-12-02T09:51:06.022Z"
   },
   {
    "duration": 1295,
    "start_time": "2021-12-02T09:51:21.094Z"
   },
   {
    "duration": 65,
    "start_time": "2021-12-02T09:51:31.590Z"
   },
   {
    "duration": 360,
    "start_time": "2021-12-02T09:54:37.631Z"
   },
   {
    "duration": 71,
    "start_time": "2021-12-02T09:54:45.855Z"
   },
   {
    "duration": 71,
    "start_time": "2021-12-02T09:55:52.967Z"
   },
   {
    "duration": 928,
    "start_time": "2021-12-02T09:58:17.440Z"
   },
   {
    "duration": 848,
    "start_time": "2021-12-02T09:58:25.772Z"
   },
   {
    "duration": 540,
    "start_time": "2021-12-02T09:59:01.492Z"
   },
   {
    "duration": 1136,
    "start_time": "2021-12-02T09:59:17.232Z"
   },
   {
    "duration": 738,
    "start_time": "2021-12-02T10:01:13.543Z"
   },
   {
    "duration": 547,
    "start_time": "2021-12-02T10:01:30.451Z"
   },
   {
    "duration": 737,
    "start_time": "2021-12-02T10:02:00.187Z"
   },
   {
    "duration": 857,
    "start_time": "2021-12-02T10:03:17.146Z"
   },
   {
    "duration": 67,
    "start_time": "2021-12-02T10:04:41.452Z"
   },
   {
    "duration": 68,
    "start_time": "2021-12-02T10:05:44.564Z"
   },
   {
    "duration": 63,
    "start_time": "2021-12-02T10:06:21.471Z"
   },
   {
    "duration": 182,
    "start_time": "2021-12-02T10:14:22.846Z"
   },
   {
    "duration": 21,
    "start_time": "2021-12-02T10:15:25.541Z"
   },
   {
    "duration": 23,
    "start_time": "2021-12-02T10:15:33.154Z"
   },
   {
    "duration": 69,
    "start_time": "2021-12-02T10:16:07.788Z"
   },
   {
    "duration": 751,
    "start_time": "2021-12-02T10:16:24.278Z"
   },
   {
    "duration": 836,
    "start_time": "2021-12-02T10:16:53.186Z"
   },
   {
    "duration": 53,
    "start_time": "2021-12-02T10:16:59.251Z"
   },
   {
    "duration": 765,
    "start_time": "2021-12-02T10:17:02.287Z"
   },
   {
    "duration": 551,
    "start_time": "2021-12-02T10:19:25.734Z"
   },
   {
    "duration": 537,
    "start_time": "2021-12-02T10:19:38.979Z"
   },
   {
    "duration": 742,
    "start_time": "2021-12-02T10:19:50.191Z"
   },
   {
    "duration": 868,
    "start_time": "2021-12-02T10:23:22.736Z"
   },
   {
    "duration": 63,
    "start_time": "2021-12-02T10:25:13.302Z"
   },
   {
    "duration": 748,
    "start_time": "2021-12-02T10:42:49.339Z"
   },
   {
    "duration": 59,
    "start_time": "2021-12-02T10:42:53.036Z"
   },
   {
    "duration": 202,
    "start_time": "2021-12-02T10:43:51.993Z"
   },
   {
    "duration": 21,
    "start_time": "2021-12-02T10:43:53.684Z"
   },
   {
    "duration": 27,
    "start_time": "2021-12-02T10:44:10.703Z"
   },
   {
    "duration": 126,
    "start_time": "2021-12-02T10:47:07.230Z"
   },
   {
    "duration": 187,
    "start_time": "2021-12-02T10:47:16.144Z"
   },
   {
    "duration": 234,
    "start_time": "2021-12-02T10:47:52.598Z"
   },
   {
    "duration": 634,
    "start_time": "2021-12-02T10:50:52.716Z"
   },
   {
    "duration": 529,
    "start_time": "2021-12-02T10:51:08.777Z"
   },
   {
    "duration": 129,
    "start_time": "2021-12-02T10:53:51.542Z"
   },
   {
    "duration": 895,
    "start_time": "2021-12-02T10:54:02.504Z"
   },
   {
    "duration": 872,
    "start_time": "2021-12-02T10:54:30.026Z"
   },
   {
    "duration": 838,
    "start_time": "2021-12-02T11:03:37.439Z"
   },
   {
    "duration": 728,
    "start_time": "2021-12-02T11:03:49.071Z"
   },
   {
    "duration": 848,
    "start_time": "2021-12-02T11:04:04.051Z"
   },
   {
    "duration": 744,
    "start_time": "2021-12-02T11:04:12.442Z"
   },
   {
    "duration": 755,
    "start_time": "2021-12-02T11:04:18.919Z"
   },
   {
    "duration": 1160,
    "start_time": "2021-12-02T11:05:45.995Z"
   },
   {
    "duration": 1114,
    "start_time": "2021-12-02T11:06:16.709Z"
   },
   {
    "duration": 1093,
    "start_time": "2021-12-02T11:08:53.436Z"
   },
   {
    "duration": 1177,
    "start_time": "2021-12-02T11:10:56.865Z"
   },
   {
    "duration": 1198,
    "start_time": "2021-12-02T11:11:04.425Z"
   },
   {
    "duration": 1152,
    "start_time": "2021-12-02T11:11:28.171Z"
   },
   {
    "duration": 1162,
    "start_time": "2021-12-02T11:11:43.420Z"
   },
   {
    "duration": 507,
    "start_time": "2021-12-02T11:12:31.863Z"
   },
   {
    "duration": 1205,
    "start_time": "2021-12-02T11:12:59.339Z"
   },
   {
    "duration": 1155,
    "start_time": "2021-12-02T11:13:18.673Z"
   },
   {
    "duration": 653,
    "start_time": "2021-12-02T11:52:53.142Z"
   },
   {
    "duration": 823,
    "start_time": "2021-12-02T12:18:22.560Z"
   },
   {
    "duration": 11,
    "start_time": "2021-12-02T12:18:24.387Z"
   },
   {
    "duration": 15,
    "start_time": "2021-12-02T12:18:26.055Z"
   },
   {
    "duration": 28,
    "start_time": "2021-12-02T12:18:27.040Z"
   },
   {
    "duration": 3,
    "start_time": "2021-12-02T12:18:33.733Z"
   },
   {
    "duration": 30,
    "start_time": "2021-12-02T12:18:43.626Z"
   },
   {
    "duration": 562,
    "start_time": "2021-12-02T12:18:54.512Z"
   },
   {
    "duration": 806,
    "start_time": "2021-12-02T12:18:57.505Z"
   },
   {
    "duration": 443,
    "start_time": "2021-12-02T12:19:10.870Z"
   },
   {
    "duration": 6,
    "start_time": "2021-12-02T12:19:36.808Z"
   },
   {
    "duration": 886,
    "start_time": "2021-12-02T12:19:50.937Z"
   },
   {
    "duration": 516,
    "start_time": "2021-12-02T12:19:55.480Z"
   },
   {
    "duration": 559,
    "start_time": "2021-12-02T12:20:22.202Z"
   },
   {
    "duration": 870,
    "start_time": "2021-12-02T12:20:28.323Z"
   },
   {
    "duration": 721,
    "start_time": "2021-12-02T12:20:31.400Z"
   },
   {
    "duration": 587,
    "start_time": "2021-12-02T12:20:36.427Z"
   },
   {
    "duration": 548,
    "start_time": "2021-12-02T12:20:37.016Z"
   },
   {
    "duration": 550,
    "start_time": "2021-12-02T12:20:37.567Z"
   },
   {
    "duration": 48,
    "start_time": "2021-12-02T12:20:40.947Z"
   },
   {
    "duration": 336,
    "start_time": "2021-12-02T12:20:55.196Z"
   },
   {
    "duration": 821,
    "start_time": "2021-12-02T12:20:59.515Z"
   },
   {
    "duration": 1126,
    "start_time": "2021-12-02T12:21:01.782Z"
   },
   {
    "duration": 1124,
    "start_time": "2021-12-02T12:21:03.738Z"
   },
   {
    "duration": 1167,
    "start_time": "2021-12-02T12:21:04.864Z"
   },
   {
    "duration": 816,
    "start_time": "2021-12-03T13:26:20.474Z"
   },
   {
    "duration": 11,
    "start_time": "2021-12-03T13:26:21.521Z"
   },
   {
    "duration": 15,
    "start_time": "2021-12-03T13:26:24.973Z"
   },
   {
    "duration": 36,
    "start_time": "2021-12-03T13:26:25.789Z"
   },
   {
    "duration": 3,
    "start_time": "2021-12-03T13:26:26.290Z"
   },
   {
    "duration": 32,
    "start_time": "2021-12-03T13:26:27.884Z"
   },
   {
    "duration": 520,
    "start_time": "2021-12-03T13:26:31.854Z"
   },
   {
    "duration": 764,
    "start_time": "2021-12-03T13:26:34.301Z"
   },
   {
    "duration": 451,
    "start_time": "2021-12-03T13:26:36.113Z"
   },
   {
    "duration": 3,
    "start_time": "2021-12-03T13:26:38.442Z"
   },
   {
    "duration": 880,
    "start_time": "2021-12-03T13:26:40.220Z"
   },
   {
    "duration": 515,
    "start_time": "2021-12-03T13:26:42.462Z"
   },
   {
    "duration": 925,
    "start_time": "2021-12-03T13:26:44.877Z"
   },
   {
    "duration": 646,
    "start_time": "2021-12-03T13:26:46.027Z"
   },
   {
    "duration": 538,
    "start_time": "2021-12-03T13:26:47.703Z"
   },
   {
    "duration": 598,
    "start_time": "2021-12-03T13:26:48.931Z"
   },
   {
    "duration": 530,
    "start_time": "2021-12-03T13:26:50.069Z"
   },
   {
    "duration": 50,
    "start_time": "2021-12-03T13:26:54.056Z"
   },
   {
    "duration": 28,
    "start_time": "2021-12-03T13:36:37.738Z"
   },
   {
    "duration": 20,
    "start_time": "2021-12-03T13:36:52.965Z"
   },
   {
    "duration": 21,
    "start_time": "2021-12-03T13:37:02.211Z"
   },
   {
    "duration": 18,
    "start_time": "2021-12-03T13:37:30.242Z"
   },
   {
    "duration": 29,
    "start_time": "2021-12-03T13:37:38.148Z"
   },
   {
    "duration": 19,
    "start_time": "2021-12-03T13:38:17.685Z"
   },
   {
    "duration": 4700,
    "start_time": "2021-12-03T13:38:40.226Z"
   },
   {
    "duration": 5255,
    "start_time": "2021-12-03T13:44:21.660Z"
   },
   {
    "duration": 4521,
    "start_time": "2021-12-03T13:44:45.228Z"
   },
   {
    "duration": 195,
    "start_time": "2021-12-03T13:47:40.599Z"
   },
   {
    "duration": 184,
    "start_time": "2021-12-03T13:49:09.026Z"
   },
   {
    "duration": 38,
    "start_time": "2021-12-03T13:53:18.269Z"
   },
   {
    "duration": 15,
    "start_time": "2021-12-03T14:04:57.755Z"
   },
   {
    "duration": 164,
    "start_time": "2021-12-03T14:05:07.839Z"
   },
   {
    "duration": 809,
    "start_time": "2021-12-03T14:15:11.352Z"
   },
   {
    "duration": 1005,
    "start_time": "2021-12-03T14:15:29.720Z"
   },
   {
    "duration": 1013,
    "start_time": "2021-12-03T14:15:42.635Z"
   },
   {
    "duration": 975,
    "start_time": "2021-12-03T14:16:12.307Z"
   },
   {
    "duration": 1021,
    "start_time": "2021-12-03T14:16:16.970Z"
   },
   {
    "duration": 701,
    "start_time": "2021-12-03T14:18:45.706Z"
   },
   {
    "duration": 11,
    "start_time": "2021-12-03T14:18:47.101Z"
   },
   {
    "duration": 12,
    "start_time": "2021-12-03T14:18:50.708Z"
   },
   {
    "duration": 27,
    "start_time": "2021-12-03T14:18:51.850Z"
   },
   {
    "duration": 2,
    "start_time": "2021-12-03T14:18:57.335Z"
   },
   {
    "duration": 44,
    "start_time": "2021-12-03T14:26:13.714Z"
   },
   {
    "duration": 24,
    "start_time": "2021-12-03T14:27:19.169Z"
   },
   {
    "duration": 19,
    "start_time": "2021-12-03T14:27:50.425Z"
   },
   {
    "duration": 19,
    "start_time": "2021-12-03T14:28:21.131Z"
   },
   {
    "duration": 263,
    "start_time": "2021-12-03T15:13:19.937Z"
   },
   {
    "duration": 16,
    "start_time": "2021-12-03T15:51:59.798Z"
   },
   {
    "duration": 183,
    "start_time": "2021-12-03T15:52:18.864Z"
   },
   {
    "duration": 3127,
    "start_time": "2021-12-03T15:55:56.503Z"
   },
   {
    "duration": 16,
    "start_time": "2021-12-03T15:56:14.375Z"
   },
   {
    "duration": 20,
    "start_time": "2021-12-03T15:56:25.626Z"
   },
   {
    "duration": 164,
    "start_time": "2021-12-03T15:57:06.004Z"
   },
   {
    "duration": 755,
    "start_time": "2021-12-03T15:57:25.113Z"
   },
   {
    "duration": 62,
    "start_time": "2021-12-03T15:59:54.998Z"
   },
   {
    "duration": 629,
    "start_time": "2021-12-03T16:24:02.186Z"
   },
   {
    "duration": 752,
    "start_time": "2021-12-03T16:30:21.995Z"
   },
   {
    "duration": 11,
    "start_time": "2021-12-03T16:30:24.928Z"
   },
   {
    "duration": 12,
    "start_time": "2021-12-03T16:30:27.197Z"
   },
   {
    "duration": 29,
    "start_time": "2021-12-03T16:30:28.884Z"
   },
   {
    "duration": 3,
    "start_time": "2021-12-03T16:30:30.413Z"
   },
   {
    "duration": 27,
    "start_time": "2021-12-03T16:30:32.783Z"
   },
   {
    "duration": 15,
    "start_time": "2021-12-03T16:31:58.211Z"
   },
   {
    "duration": 48,
    "start_time": "2021-12-03T16:32:00.757Z"
   },
   {
    "duration": 717,
    "start_time": "2021-12-03T16:36:17.284Z"
   },
   {
    "duration": 19,
    "start_time": "2021-12-03T16:36:40.457Z"
   },
   {
    "duration": 22,
    "start_time": "2021-12-03T16:44:24.662Z"
   },
   {
    "duration": 603,
    "start_time": "2021-12-03T16:45:48.352Z"
   },
   {
    "duration": 655,
    "start_time": "2021-12-03T16:45:53.457Z"
   },
   {
    "duration": 1222,
    "start_time": "2021-12-03T16:46:40.029Z"
   },
   {
    "duration": 735,
    "start_time": "2021-12-03T16:47:58.767Z"
   },
   {
    "duration": 11,
    "start_time": "2021-12-03T16:47:59.871Z"
   },
   {
    "duration": 13,
    "start_time": "2021-12-03T16:48:03.489Z"
   },
   {
    "duration": 28,
    "start_time": "2021-12-03T16:48:05.589Z"
   },
   {
    "duration": 28,
    "start_time": "2021-12-03T16:48:11.468Z"
   },
   {
    "duration": 40,
    "start_time": "2021-12-03T16:55:01.154Z"
   },
   {
    "duration": 36,
    "start_time": "2021-12-03T16:55:29.678Z"
   },
   {
    "duration": 48,
    "start_time": "2021-12-03T16:55:40.139Z"
   },
   {
    "duration": 709,
    "start_time": "2021-12-03T16:56:37.213Z"
   },
   {
    "duration": 11,
    "start_time": "2021-12-03T16:56:39.419Z"
   },
   {
    "duration": 12,
    "start_time": "2021-12-03T16:56:42.128Z"
   },
   {
    "duration": 28,
    "start_time": "2021-12-03T16:56:43.771Z"
   },
   {
    "duration": 30,
    "start_time": "2021-12-03T16:56:48.012Z"
   },
   {
    "duration": 1294,
    "start_time": "2021-12-03T16:57:43.667Z"
   },
   {
    "duration": 18,
    "start_time": "2021-12-03T16:59:07.262Z"
   },
   {
    "duration": 40,
    "start_time": "2021-12-03T16:59:10.454Z"
   },
   {
    "duration": 1261,
    "start_time": "2021-12-03T17:00:50.962Z"
   },
   {
    "duration": 242,
    "start_time": "2021-12-03T17:01:01.929Z"
   },
   {
    "duration": 33,
    "start_time": "2021-12-03T17:01:12.799Z"
   },
   {
    "duration": 1418,
    "start_time": "2021-12-03T17:01:59.570Z"
   },
   {
    "duration": 17,
    "start_time": "2021-12-03T17:02:01.107Z"
   },
   {
    "duration": 19,
    "start_time": "2021-12-03T17:02:06.038Z"
   },
   {
    "duration": 36,
    "start_time": "2021-12-03T17:02:08.282Z"
   },
   {
    "duration": 27,
    "start_time": "2021-12-03T17:02:12.532Z"
   },
   {
    "duration": 49,
    "start_time": "2021-12-03T17:02:28.299Z"
   },
   {
    "duration": 1185,
    "start_time": "2021-12-03T17:03:13.660Z"
   },
   {
    "duration": 36,
    "start_time": "2021-12-03T17:03:39.627Z"
   },
   {
    "duration": 4,
    "start_time": "2021-12-03T17:04:33.369Z"
   },
   {
    "duration": 5,
    "start_time": "2021-12-03T17:04:39.869Z"
   },
   {
    "duration": 4,
    "start_time": "2021-12-03T17:08:36.239Z"
   },
   {
    "duration": 729,
    "start_time": "2021-12-03T17:09:00.474Z"
   },
   {
    "duration": 11,
    "start_time": "2021-12-03T17:09:03.155Z"
   },
   {
    "duration": 13,
    "start_time": "2021-12-03T17:09:06.732Z"
   },
   {
    "duration": 27,
    "start_time": "2021-12-03T17:09:07.698Z"
   },
   {
    "duration": 3,
    "start_time": "2021-12-03T17:09:08.936Z"
   },
   {
    "duration": 28,
    "start_time": "2021-12-03T17:09:12.001Z"
   },
   {
    "duration": 47,
    "start_time": "2021-12-03T17:09:17.609Z"
   },
   {
    "duration": 1257,
    "start_time": "2021-12-03T17:09:24.403Z"
   },
   {
    "duration": 36,
    "start_time": "2021-12-03T17:09:28.459Z"
   },
   {
    "duration": 4,
    "start_time": "2021-12-03T17:09:30.967Z"
   },
   {
    "duration": 511,
    "start_time": "2021-12-03T17:09:36.143Z"
   },
   {
    "duration": 705,
    "start_time": "2021-12-03T17:09:39.241Z"
   },
   {
    "duration": 424,
    "start_time": "2021-12-03T17:09:51.386Z"
   },
   {
    "duration": 3,
    "start_time": "2021-12-03T17:09:54.894Z"
   },
   {
    "duration": 834,
    "start_time": "2021-12-03T17:09:57.543Z"
   },
   {
    "duration": 603,
    "start_time": "2021-12-03T17:10:10.544Z"
   },
   {
    "duration": 803,
    "start_time": "2021-12-03T17:10:23.283Z"
   },
   {
    "duration": 550,
    "start_time": "2021-12-03T17:10:28.022Z"
   },
   {
    "duration": 518,
    "start_time": "2021-12-03T17:10:32.334Z"
   },
   {
    "duration": 474,
    "start_time": "2021-12-03T17:10:33.777Z"
   },
   {
    "duration": 522,
    "start_time": "2021-12-03T17:10:37.520Z"
   },
   {
    "duration": 44,
    "start_time": "2021-12-03T17:10:41.059Z"
   },
   {
    "duration": 173,
    "start_time": "2021-12-03T17:10:44.865Z"
   },
   {
    "duration": 872,
    "start_time": "2021-12-03T17:10:57.324Z"
   },
   {
    "duration": 994,
    "start_time": "2021-12-03T17:11:03.997Z"
   },
   {
    "duration": 964,
    "start_time": "2021-12-03T17:11:08.390Z"
   },
   {
    "duration": 945,
    "start_time": "2021-12-03T17:11:13.253Z"
   }
  ],
  "kernelspec": {
   "display_name": "Python 3 (ipykernel)",
   "language": "python",
   "name": "python3"
  },
  "language_info": {
   "codemirror_mode": {
    "name": "ipython",
    "version": 3
   },
   "file_extension": ".py",
   "mimetype": "text/x-python",
   "name": "python",
   "nbconvert_exporter": "python",
   "pygments_lexer": "ipython3",
   "version": "3.9.5"
  },
  "toc": {
   "base_numbering": 1,
   "nav_menu": {},
   "number_sections": true,
   "sideBar": true,
   "skip_h1_title": true,
   "title_cell": "Содержание",
   "title_sidebar": "Contents",
   "toc_cell": true,
   "toc_position": {
    "height": "calc(100% - 180px)",
    "left": "10px",
    "top": "150px",
    "width": "165px"
   },
   "toc_section_display": true,
   "toc_window_display": false
  }
 },
 "nbformat": 4,
 "nbformat_minor": 2
}
