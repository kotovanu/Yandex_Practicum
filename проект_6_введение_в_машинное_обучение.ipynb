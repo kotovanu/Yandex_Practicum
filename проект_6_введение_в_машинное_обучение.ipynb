{
 "cells": [
  {
   "cell_type": "markdown",
   "metadata": {},
   "source": [
    "Привет, меня зовут Артем Хуршудов. Сегодня я проверю твой проект.\n",
    "<br> Дальнейшее общение будет происходить на \"ты\" если это не вызывает никаких проблем.\n",
    "<br> Желательно реагировать на каждый мой комментарий ('исправил', 'не понятно как исправить ошибку', ...)\n",
    "<br> Пожалуйста, не удаляй комментарии ревьюера, так как они повышают качество повторного ревью.\n",
    "\n",
    "Комментарии будут в <font color='green'>зеленой</font>, <font color='blue'>синей</font> или <font color='red'>красной</font> рамках:\n",
    "\n",
    "<div class=\"alert alert-block alert-success\">\n",
    "<b>Успех:</b> Если все сделано отлично\n",
    "</div>\n",
    "\n",
    "<div class=\"alert alert-block alert-info\">\n",
    "<b>Совет: </b> Если можно немного улучшить\n",
    "</div>\n",
    "\n",
    "<div class=\"alert alert-block alert-danger\">\n",
    "<b>Ошибка:</b> Если требуются исправления. Работа не может быть принята с красными комментариями.\n",
    "</div>\n",
    "\n",
    "-------------------\n",
    "\n",
    "Будет очень хорошо, если ты будешь помечать свои действия следующим образом:\n",
    "<div class=\"alert alert-block alert-warning\">\n",
    "<b>Комментарий студента:</b> ...\n",
    "</div>\n",
    "\n",
    "<div class=\"alert alert-block alert-warning\">\n",
    "<b>Изменения:</b> Были внесены следующие изменения ...\n",
    "</div>\n",
    "\n",
    "### <font color='orange'>Общее впечатление</font>\n",
    "* Большое спасибо за проделанную работу. Видно, что приложено много усилий.\n",
    "* Отлично, что правильно использованы train/valid/test наборы.\n",
    "* Выводы и рассуждения получились содержательными, их было интересно читать.\n",
    "* Я оставил несколько советов, надеюсь, что они будут учтены в будущих проектах.\n",
    "* Тебе удалось добиться очень хорошего качества, поздравляю!\n",
    "* Проект может быть зачтен, но я его отправлю назад, чтобы у тебя была возможность задать вопросы и внести правки, при желании. Однако, ты можешь просто вернуть проект в таком же виде и я его зачту."
   ]
  },
  {
   "cell_type": "markdown",
   "metadata": {},
   "source": [
    "<div class=\"alert alert-block alert-warning\">\n",
    "<b>Комментарий студента:</b> Привет. Спасибо, что проверил проект. У меня были некоторые вопросы по ходу выполнения работы, я вроде их писал :) Еще раз написисал:\n",
    "    \n",
    "    1. Есть ли какой-то другой способ выбора гиперпараметров не используя цикл?\n",
    "    \n",
    "    2.Мне посоветовали использовать DummyClassifier. Но некоторые моменты я не совсем понял. А именно, в параметре strategy есть много переменных. В данном случае я использовал \"most_frequent\". Что в данном случае лучше использовать?\n",
    "    \n",
    "    Т.е. получается мы обучаем модель dummy_clf на обучающей выборке (features_train, target_train). Предсказываем по тестовой и проверяем accuracy. Вроде делается как обычно. Но как работает данная библиотека теоретически?\n",
    "    \n",
    "    3.Также еще можете посоветовать, какие есть еще способы проверки модели на адекватность? Я прочитал про Precision, recall и F-меру. Стоит тут это использовать?\n",
    "</div>"
   ]
  },
  {
   "cell_type": "markdown",
   "metadata": {},
   "source": [
    "### <font color='orange'>Общее впечатление (ревью 2)</font>\n",
    "* Проект зачтен!\n",
    "* Да, параметры можно подбирать с помощью GridSearchCV: https://scikit-learn.org/stable/modules/generated/sklearn.model_selection.GridSearchCV.html . Подробнее про кросс-валидацию: https://codecamp.ru/blog/cross-validation-k-fold/ .\n",
    "* most_frequent наиболее подходящая стратегия в случае метрики aaccuracy. Она предсказывает самый частый таргет. \n",
    "* Класс DummyClassifier предсказывает константу или случайное значение и все. В случае most_frequent самый частый таргет выбирается по треину.\n",
    "* Подробнее про эти метрики будет в следующем спринте, но они не являются проверкой на адекватность.\n",
    "* Удачи в дальнейшем обучении и следующих работах!"
   ]
  },
  {
   "cell_type": "markdown",
   "metadata": {},
   "source": [
    "# Рекомендация тарифов"
   ]
  },
  {
   "cell_type": "markdown",
   "metadata": {},
   "source": [
    "В вашем распоряжении данные о поведении клиентов, которые уже перешли на эти тарифы (из проекта курса «Статистический анализ данных»). Нужно построить модель для задачи классификации, которая выберет подходящий тариф. Предобработка данных не понадобится — вы её уже сделали.\n",
    "\n",
    "Постройте модель с максимально большим значением *accuracy*. Чтобы сдать проект успешно, нужно довести долю правильных ответов по крайней мере до 0.75. Проверьте *accuracy* на тестовой выборке самостоятельно."
   ]
  },
  {
   "cell_type": "markdown",
   "metadata": {},
   "source": [
    "## Откройте и изучите файл"
   ]
  },
  {
   "cell_type": "code",
   "execution_count": 1,
   "metadata": {},
   "outputs": [],
   "source": [
    "import pandas as pd \n",
    "from sklearn.model_selection import train_test_split\n",
    "from sklearn.tree import DecisionTreeClassifier\n",
    "from sklearn.ensemble import RandomForestClassifier\n",
    "from sklearn.linear_model import LogisticRegression\n",
    "from sklearn.metrics import accuracy_score\n",
    "from sklearn.dummy import DummyClassifier"
   ]
  },
  {
   "cell_type": "markdown",
   "metadata": {},
   "source": [
    "<div class=\"alert alert-block alert-success\">\n",
    "<b>Успех:</b> Отлично, что все импорты собраны в первой ячейке ноутбука! Если у того, кто будет запускать твой ноутбук будут отсутствовать некоторые библиотеки, то он это увидит сразу, а не в процессе!\n",
    "</div>"
   ]
  },
  {
   "cell_type": "code",
   "execution_count": 2,
   "metadata": {
    "scrolled": true
   },
   "outputs": [
    {
     "data": {
      "text/html": [
       "<div>\n",
       "<style scoped>\n",
       "    .dataframe tbody tr th:only-of-type {\n",
       "        vertical-align: middle;\n",
       "    }\n",
       "\n",
       "    .dataframe tbody tr th {\n",
       "        vertical-align: top;\n",
       "    }\n",
       "\n",
       "    .dataframe thead th {\n",
       "        text-align: right;\n",
       "    }\n",
       "</style>\n",
       "<table border=\"1\" class=\"dataframe\">\n",
       "  <thead>\n",
       "    <tr style=\"text-align: right;\">\n",
       "      <th></th>\n",
       "      <th>calls</th>\n",
       "      <th>minutes</th>\n",
       "      <th>messages</th>\n",
       "      <th>mb_used</th>\n",
       "      <th>is_ultra</th>\n",
       "    </tr>\n",
       "  </thead>\n",
       "  <tbody>\n",
       "    <tr>\n",
       "      <td>0</td>\n",
       "      <td>40.0</td>\n",
       "      <td>311.90</td>\n",
       "      <td>83.0</td>\n",
       "      <td>19915.42</td>\n",
       "      <td>0</td>\n",
       "    </tr>\n",
       "    <tr>\n",
       "      <td>1</td>\n",
       "      <td>85.0</td>\n",
       "      <td>516.75</td>\n",
       "      <td>56.0</td>\n",
       "      <td>22696.96</td>\n",
       "      <td>0</td>\n",
       "    </tr>\n",
       "    <tr>\n",
       "      <td>2</td>\n",
       "      <td>77.0</td>\n",
       "      <td>467.66</td>\n",
       "      <td>86.0</td>\n",
       "      <td>21060.45</td>\n",
       "      <td>0</td>\n",
       "    </tr>\n",
       "    <tr>\n",
       "      <td>3</td>\n",
       "      <td>106.0</td>\n",
       "      <td>745.53</td>\n",
       "      <td>81.0</td>\n",
       "      <td>8437.39</td>\n",
       "      <td>1</td>\n",
       "    </tr>\n",
       "    <tr>\n",
       "      <td>4</td>\n",
       "      <td>66.0</td>\n",
       "      <td>418.74</td>\n",
       "      <td>1.0</td>\n",
       "      <td>14502.75</td>\n",
       "      <td>0</td>\n",
       "    </tr>\n",
       "  </tbody>\n",
       "</table>\n",
       "</div>"
      ],
      "text/plain": [
       "   calls  minutes  messages   mb_used  is_ultra\n",
       "0   40.0   311.90      83.0  19915.42         0\n",
       "1   85.0   516.75      56.0  22696.96         0\n",
       "2   77.0   467.66      86.0  21060.45         0\n",
       "3  106.0   745.53      81.0   8437.39         1\n",
       "4   66.0   418.74       1.0  14502.75         0"
      ]
     },
     "metadata": {},
     "output_type": "display_data"
    },
    {
     "name": "stdout",
     "output_type": "stream",
     "text": [
      "<class 'pandas.core.frame.DataFrame'>\n",
      "RangeIndex: 3214 entries, 0 to 3213\n",
      "Data columns (total 5 columns):\n",
      "calls       3214 non-null float64\n",
      "minutes     3214 non-null float64\n",
      "messages    3214 non-null float64\n",
      "mb_used     3214 non-null float64\n",
      "is_ultra    3214 non-null int64\n",
      "dtypes: float64(4), int64(1)\n",
      "memory usage: 125.7 KB\n"
     ]
    }
   ],
   "source": [
    "df = pd.read_csv('/datasets/users_behavior.csv')\n",
    "display(df.head(5))\n",
    "df.info()"
   ]
  },
  {
   "cell_type": "markdown",
   "metadata": {},
   "source": [
    "is_ultra - целевой признак.\n",
    "\n",
    "calls, minutes, messages, mb_used - признаки."
   ]
  },
  {
   "cell_type": "markdown",
   "metadata": {},
   "source": [
    "<div class=\"alert alert-block alert-success\">\n",
    "<b>Успех:</b> Данные загружены корректно, первичный осмотр проведен.\n",
    "</div>"
   ]
  },
  {
   "cell_type": "markdown",
   "metadata": {},
   "source": [
    "## Разбейте данные на выборки"
   ]
  },
  {
   "cell_type": "markdown",
   "metadata": {},
   "source": [
    "Сначала я разделил данные на обучающую (train) и тестовую (test) выборки. У тестовой 20% данных от исходных. После этого я создал переменные для признаков (features) и целевого признака (target). Дальше я 80% данных разделил на обучающую и валидационную выборки. У последней - 20% данных от 80%. Т.е получилось, что у валидационной и у тестовой выборки по 20% на каждую. У обучающей - 60%. "
   ]
  },
  {
   "cell_type": "code",
   "execution_count": 3,
   "metadata": {},
   "outputs": [],
   "source": [
    "train, test = train_test_split(df, test_size = 0.2, random_state = 12345)\n",
    "\n",
    "\n",
    "features = train.drop(['is_ultra'],axis = 1)\n",
    "target = train['is_ultra']\n",
    "\n",
    "features_train, features_val, target_train, target_val = train_test_split(features,target, test_size = 0.2, random_state = 12345)\n",
    "\n",
    "features_test = test.drop(['is_ultra'],axis = 1)\n",
    "target_test = test['is_ultra']"
   ]
  },
  {
   "cell_type": "markdown",
   "metadata": {},
   "source": [
    "<div class=\"alert alert-block alert-success\">\n",
    "<b>Успех:</b> Разбиение было сделано верно.\n",
    "</div>\n",
    "\n",
    "<div class=\"alert alert-block alert-info\">\n",
    "<b>Совет: </b> Желательно было напечатать размеры полученных наборов. Иногда, это помогает избежать ошибок.\n",
    "</div>"
   ]
  },
  {
   "cell_type": "markdown",
   "metadata": {},
   "source": [
    "## Исследуйте модели"
   ]
  },
  {
   "cell_type": "markdown",
   "metadata": {},
   "source": [
    "Tree"
   ]
  },
  {
   "cell_type": "code",
   "execution_count": 4,
   "metadata": {},
   "outputs": [
    {
     "name": "stdout",
     "output_type": "stream",
     "text": [
      "Глубина дерева = 7, качество = 0.7650485436893204\n"
     ]
    }
   ],
   "source": [
    "best_model = None\n",
    "best_accuracy = 0\n",
    "best_depth = 0\n",
    "for depth in range(1,10):\n",
    "    model = DecisionTreeClassifier(max_depth = depth, random_state = 12345)\n",
    "    model.fit(features_train,target_train)\n",
    "    predict = model.predict(features_val)\n",
    "    accuracy = accuracy_score(target_val,predict)\n",
    "    if accuracy > best_accuracy:\n",
    "        best_accuracy = accuracy\n",
    "        best_model = model\n",
    "        best_depth = depth\n",
    "print(f'Глубина дерева = {best_depth}, качество = {best_accuracy}')"
   ]
  },
  {
   "cell_type": "markdown",
   "metadata": {},
   "source": [
    "<div class=\"alert alert-block alert-success\">\n",
    "<b>Успех:</b> Подбор параметров был сделан корректно.\n",
    "</div>"
   ]
  },
  {
   "cell_type": "markdown",
   "metadata": {},
   "source": [
    "RandomForest"
   ]
  },
  {
   "cell_type": "code",
   "execution_count": 5,
   "metadata": {},
   "outputs": [
    {
     "name": "stdout",
     "output_type": "stream",
     "text": [
      "Кол-во деревьев = 50, глубина дерева = 8, качество = 0.7902912621359224\n"
     ]
    }
   ],
   "source": [
    "best_model = None\n",
    "best_accuracy = 0\n",
    "best_estimators = 0 \n",
    "best_depth = 0\n",
    "for n in range(10,51,5):\n",
    "    for depth in range(1,11):\n",
    "        model = RandomForestClassifier(max_depth = depth, n_estimators = n, random_state = 12345)\n",
    "        model.fit(features_train,target_train)\n",
    "        accuracy = model.score(features_val,target_val)\n",
    "        if accuracy > best_accuracy:\n",
    "            best_accuracy = accuracy\n",
    "            best_model = model\n",
    "            best_estimators = n\n",
    "            best_depth = depth\n",
    "print(f'Кол-во деревьев = {best_estimators}, глубина дерева = {best_depth}, качество = {best_accuracy}') "
   ]
  },
  {
   "cell_type": "markdown",
   "metadata": {},
   "source": [
    "<div class=\"alert alert-block alert-success\">\n",
    "<b>Успех:</b> Хорошо, что в данном случае настраивается сразу несколько параметров!\n",
    "</div>"
   ]
  },
  {
   "cell_type": "markdown",
   "metadata": {},
   "source": [
    "LogisticRegression"
   ]
  },
  {
   "cell_type": "code",
   "execution_count": 6,
   "metadata": {},
   "outputs": [
    {
     "name": "stdout",
     "output_type": "stream",
     "text": [
      "Качество = 0.7203883495145631\n"
     ]
    },
    {
     "name": "stderr",
     "output_type": "stream",
     "text": [
      "/opt/conda/lib/python3.7/site-packages/sklearn/linear_model/logistic.py:432: FutureWarning: Default solver will be changed to 'lbfgs' in 0.22. Specify a solver to silence this warning.\n",
      "  FutureWarning)\n"
     ]
    }
   ],
   "source": [
    "model = LogisticRegression(random_state = 12345)\n",
    "model.fit(features_train,target_train)\n",
    "accuracy = model.score(features_val,target_val)\n",
    "print(f'Качество = {accuracy}')"
   ]
  },
  {
   "cell_type": "markdown",
   "metadata": {},
   "source": [
    "А есть какой-то способ обойтись без цикла и так выбирать гиперпараметры? "
   ]
  },
  {
   "cell_type": "markdown",
   "metadata": {},
   "source": [
    "<div class=\"alert alert-block alert-success\">\n",
    "<b>Успех:</b> Этот шаг был сделан хорошо!\n",
    "</div>"
   ]
  },
  {
   "cell_type": "markdown",
   "metadata": {},
   "source": [
    "## Проверьте модель на тестовой выборке"
   ]
  },
  {
   "cell_type": "markdown",
   "metadata": {},
   "source": [
    "Tree"
   ]
  },
  {
   "cell_type": "code",
   "execution_count": 7,
   "metadata": {},
   "outputs": [
    {
     "name": "stdout",
     "output_type": "stream",
     "text": [
      "Качество: 0.7916018662519441\n"
     ]
    }
   ],
   "source": [
    "model = DecisionTreeClassifier(max_depth=7, random_state=12345)\n",
    "model.fit(features_train, target_train)\n",
    "accuracy = model.score(features_test, target_test)\n",
    "print(\"Качество:\", accuracy)"
   ]
  },
  {
   "cell_type": "markdown",
   "metadata": {},
   "source": [
    "RandomForest"
   ]
  },
  {
   "cell_type": "code",
   "execution_count": 8,
   "metadata": {},
   "outputs": [
    {
     "name": "stdout",
     "output_type": "stream",
     "text": [
      "Качество: 0.8040435458786936\n"
     ]
    }
   ],
   "source": [
    "model = RandomForestClassifier(max_depth=8, n_estimators=50, random_state=12345)\n",
    "model.fit(features_train, target_train)\n",
    "accuracy = model.score(features_test, target_test)\n",
    "print(\"Качество:\", accuracy)"
   ]
  },
  {
   "cell_type": "markdown",
   "metadata": {},
   "source": [
    "LogisticRegression"
   ]
  },
  {
   "cell_type": "code",
   "execution_count": 9,
   "metadata": {},
   "outputs": [
    {
     "name": "stdout",
     "output_type": "stream",
     "text": [
      "Качество: 0.749611197511664\n"
     ]
    },
    {
     "name": "stderr",
     "output_type": "stream",
     "text": [
      "/opt/conda/lib/python3.7/site-packages/sklearn/linear_model/logistic.py:432: FutureWarning: Default solver will be changed to 'lbfgs' in 0.22. Specify a solver to silence this warning.\n",
      "  FutureWarning)\n"
     ]
    }
   ],
   "source": [
    "model = LogisticRegression(random_state = 12345)\n",
    "model.fit(features_train, target_train)\n",
    "accuracy = model.score(features_test, target_test)\n",
    "print(\"Качество:\", accuracy)"
   ]
  },
  {
   "cell_type": "markdown",
   "metadata": {},
   "source": [
    "Наилучшее качество достигается при использовании случайного леса с гиперпараметрами: max_depth=8, n_estimators=50"
   ]
  },
  {
   "cell_type": "markdown",
   "metadata": {},
   "source": [
    "<div class=\"alert alert-block alert-success\">\n",
    "<b>Успех:</b> тестирование было сделано абсолютно верно!\n",
    "</div>"
   ]
  },
  {
   "cell_type": "markdown",
   "metadata": {},
   "source": [
    "## (бонус) Проверьте модели на адекватность"
   ]
  },
  {
   "cell_type": "markdown",
   "metadata": {},
   "source": [
    "Мне посоветовали использовать DummyClassifier.\n",
    "\n",
    "Но некоторые моменты я не совсем понял. А именно, в параметре strategy есть много переменных. В данном случае я использовал \"most_frequent\". Что в данном случае лучше использовать? \n",
    "\n",
    "Т.е. получается мы обучаем модель dummy_clf на обучающей выборке (features_train, target_train). Предсказываем по тестовой и проверяем accuracy. Вроде делается как обычно. Но как работает данная библиотека теоретически? \n",
    "\n",
    "Также еще можете посоветовать, какие есть еще способы проверки модели на адекватность? Я прочитал про Precision, recall и F-меру. Стоит тут это использовать? "
   ]
  },
  {
   "cell_type": "code",
   "execution_count": 10,
   "metadata": {},
   "outputs": [
    {
     "name": "stdout",
     "output_type": "stream",
     "text": [
      "Качество DummyClassifier = 0.6951788491446346\n"
     ]
    }
   ],
   "source": [
    "dummy_clf = DummyClassifier(strategy=\"most_frequent\",random_state=12345)\n",
    "dummy_clf.fit(features_train, target_train)\n",
    "predict = dummy_clf.predict(features_test)\n",
    "accuracy_dmb = accuracy_score(target_test, predict)\n",
    "print(f'Качество DummyClassifier = {accuracy_dmb}')"
   ]
  },
  {
   "cell_type": "markdown",
   "metadata": {},
   "source": [
    "Качество нашей лучшей модели лучше, чем у DummyClassifier."
   ]
  },
  {
   "cell_type": "markdown",
   "metadata": {},
   "source": [
    "<div class=\"alert alert-block alert-success\">\n",
    "<b>Успех:</b> Отлично, что здесь использовалась готовая дамми модель!\n",
    "</div>"
   ]
  },
  {
   "cell_type": "markdown",
   "metadata": {},
   "source": [
    "## Вывод"
   ]
  },
  {
   "cell_type": "markdown",
   "metadata": {},
   "source": [
    "Были проверены три модели: деревья решений, случайный лес и логистическая регрессия.\n",
    "Наилучшее качество (0.8) достигается при использовании случайного леса с гиперпараметрами max_depth=8, n_estimators=50"
   ]
  },
  {
   "cell_type": "markdown",
   "metadata": {},
   "source": [
    "<div class=\"alert alert-block alert-info\">\n",
    "<b>Совет: </b> Финальный вывод желательно было сделать подробнее.\n",
    "</div>"
   ]
  },
  {
   "cell_type": "markdown",
   "metadata": {},
   "source": [
    "## Чек-лист готовности проекта"
   ]
  },
  {
   "cell_type": "markdown",
   "metadata": {},
   "source": [
    "Поставьте 'x' в выполненных пунктах. Далее нажмите Shift+Enter."
   ]
  },
  {
   "cell_type": "markdown",
   "metadata": {},
   "source": [
    "- [x] Jupyter Notebook открыт\n",
    "- [ ] Весь код исполняется без ошибок\n",
    "- [ ] Ячейки с кодом расположены в порядке исполнения\n",
    "- [ ] Выполнено задание 1: данные загружены и изучены\n",
    "- [ ] Выполнено задание 2: данные разбиты на три выборки\n",
    "- [ ] Выполнено задание 3: проведено исследование моделей\n",
    "    - [ ] Рассмотрено больше одной модели\n",
    "    - [ ] Рассмотрено хотя бы 3 значения гипепараметров для какой-нибудь модели\n",
    "    - [ ] Написаны выводы по результатам исследования\n",
    "- [ ] Выполнено задание 3: Проведено тестирование\n",
    "- [ ] Удалось достичь accuracy не меньше 0.75\n"
   ]
  }
 ],
 "metadata": {
  "ExecuteTimeLog": [
   {
    "duration": 363,
    "start_time": "2022-01-20T10:01:09.624Z"
   },
   {
    "duration": 779,
    "start_time": "2022-01-20T10:01:11.753Z"
   },
   {
    "duration": 44,
    "start_time": "2022-01-20T10:01:13.421Z"
   },
   {
    "duration": 33,
    "start_time": "2022-01-20T10:03:48.838Z"
   },
   {
    "duration": 29,
    "start_time": "2022-01-20T10:04:00.310Z"
   },
   {
    "duration": 392,
    "start_time": "2022-01-20T10:06:55.153Z"
   },
   {
    "duration": 18,
    "start_time": "2022-01-20T10:07:02.926Z"
   },
   {
    "duration": 5,
    "start_time": "2022-01-20T10:07:12.196Z"
   },
   {
    "duration": 10,
    "start_time": "2022-01-20T10:08:51.782Z"
   },
   {
    "duration": 5,
    "start_time": "2022-01-20T10:09:00.917Z"
   },
   {
    "duration": 873,
    "start_time": "2022-01-20T10:10:13.988Z"
   },
   {
    "duration": 278,
    "start_time": "2022-01-20T10:10:23.518Z"
   },
   {
    "duration": 9,
    "start_time": "2022-01-20T10:22:30.779Z"
   },
   {
    "duration": 21,
    "start_time": "2022-01-20T10:23:06.901Z"
   },
   {
    "duration": 13,
    "start_time": "2022-01-20T10:23:15.009Z"
   },
   {
    "duration": 21,
    "start_time": "2022-01-20T10:23:19.222Z"
   },
   {
    "duration": 8,
    "start_time": "2022-01-20T10:23:23.886Z"
   },
   {
    "duration": 20,
    "start_time": "2022-01-20T11:30:23.541Z"
   },
   {
    "duration": 12,
    "start_time": "2022-01-20T11:34:41.083Z"
   },
   {
    "duration": 43,
    "start_time": "2022-01-20T11:48:27.442Z"
   },
   {
    "duration": 368,
    "start_time": "2022-01-20T12:03:36.736Z"
   },
   {
    "duration": 5,
    "start_time": "2022-01-20T12:03:47.291Z"
   },
   {
    "duration": 293,
    "start_time": "2022-01-20T12:03:50.421Z"
   },
   {
    "duration": 373,
    "start_time": "2022-01-20T12:03:59.870Z"
   },
   {
    "duration": 194,
    "start_time": "2022-01-20T12:04:11.011Z"
   },
   {
    "duration": 1253,
    "start_time": "2022-01-20T12:05:00.530Z"
   },
   {
    "duration": 50,
    "start_time": "2022-01-20T12:05:05.143Z"
   },
   {
    "duration": 317,
    "start_time": "2022-01-20T12:07:22.170Z"
   },
   {
    "duration": 4,
    "start_time": "2022-01-20T12:08:37.011Z"
   },
   {
    "duration": 52,
    "start_time": "2022-01-20T12:10:23.341Z"
   },
   {
    "duration": 53,
    "start_time": "2022-01-20T12:14:07.982Z"
   },
   {
    "duration": 51,
    "start_time": "2022-01-20T12:15:04.856Z"
   },
   {
    "duration": 51,
    "start_time": "2022-01-20T12:19:01.486Z"
   },
   {
    "duration": 52,
    "start_time": "2022-01-20T12:19:44.635Z"
   },
   {
    "duration": 324,
    "start_time": "2022-01-20T12:19:54.899Z"
   },
   {
    "duration": 4,
    "start_time": "2022-01-20T12:20:01.000Z"
   },
   {
    "duration": 338,
    "start_time": "2022-01-20T12:20:03.339Z"
   },
   {
    "duration": 684,
    "start_time": "2022-01-20T12:20:16.422Z"
   },
   {
    "duration": 1074,
    "start_time": "2022-01-20T12:20:34.740Z"
   },
   {
    "duration": 4,
    "start_time": "2022-01-20T12:23:45.065Z"
   },
   {
    "duration": 52,
    "start_time": "2022-01-20T12:25:37.348Z"
   },
   {
    "duration": 1133,
    "start_time": "2022-01-20T12:26:11.498Z"
   },
   {
    "duration": 25,
    "start_time": "2022-01-20T12:27:56.268Z"
   },
   {
    "duration": 12,
    "start_time": "2022-01-20T12:35:22.617Z"
   },
   {
    "duration": 109,
    "start_time": "2022-01-20T12:36:14.056Z"
   },
   {
    "duration": 24,
    "start_time": "2022-01-20T12:36:33.019Z"
   },
   {
    "duration": 985,
    "start_time": "2022-01-20T23:26:27.649Z"
   },
   {
    "duration": 31,
    "start_time": "2022-01-20T23:26:29.809Z"
   },
   {
    "duration": 10,
    "start_time": "2022-01-20T23:26:34.250Z"
   },
   {
    "duration": 312,
    "start_time": "2022-01-20T23:26:36.964Z"
   },
   {
    "duration": 38,
    "start_time": "2022-01-20T23:26:46.949Z"
   },
   {
    "duration": 768,
    "start_time": "2022-01-20T23:26:58.924Z"
   },
   {
    "duration": 13,
    "start_time": "2022-01-20T23:27:05.679Z"
   },
   {
    "duration": 12,
    "start_time": "2022-01-20T23:27:28.907Z"
   },
   {
    "duration": 12,
    "start_time": "2022-01-20T23:27:32.846Z"
   },
   {
    "duration": 12,
    "start_time": "2022-01-20T23:27:36.256Z"
   },
   {
    "duration": 13,
    "start_time": "2022-01-20T23:27:40.424Z"
   },
   {
    "duration": 12,
    "start_time": "2022-01-20T23:27:44.203Z"
   },
   {
    "duration": 12,
    "start_time": "2022-01-20T23:27:46.512Z"
   },
   {
    "duration": 12,
    "start_time": "2022-01-20T23:27:49.638Z"
   },
   {
    "duration": 7,
    "start_time": "2022-01-20T23:28:10.704Z"
   },
   {
    "duration": 11,
    "start_time": "2022-01-20T23:28:21.777Z"
   },
   {
    "duration": 14,
    "start_time": "2022-01-20T23:28:31.801Z"
   },
   {
    "duration": 10,
    "start_time": "2022-01-20T23:28:46.719Z"
   },
   {
    "duration": 57,
    "start_time": "2022-01-20T23:28:58.609Z"
   },
   {
    "duration": 11,
    "start_time": "2022-01-20T23:29:06.204Z"
   },
   {
    "duration": 23,
    "start_time": "2022-01-20T23:32:09.707Z"
   },
   {
    "duration": 25,
    "start_time": "2022-01-20T23:32:36.294Z"
   },
   {
    "duration": 133,
    "start_time": "2022-01-20T23:34:12.578Z"
   },
   {
    "duration": 1017,
    "start_time": "2022-01-20T23:59:25.913Z"
   },
   {
    "duration": 33,
    "start_time": "2022-01-20T23:59:27.279Z"
   },
   {
    "duration": 8,
    "start_time": "2022-01-20T23:59:29.904Z"
   },
   {
    "duration": 44,
    "start_time": "2022-01-20T23:59:32.223Z"
   },
   {
    "duration": 5776,
    "start_time": "2022-01-20T23:59:35.021Z"
   },
   {
    "duration": 12,
    "start_time": "2022-01-20T23:59:48.456Z"
   },
   {
    "duration": 11,
    "start_time": "2022-01-21T00:00:27.320Z"
   },
   {
    "duration": 125,
    "start_time": "2022-01-21T00:00:49.432Z"
   },
   {
    "duration": 12,
    "start_time": "2022-01-21T00:00:56.577Z"
   },
   {
    "duration": 1023,
    "start_time": "2022-01-21T11:28:25.419Z"
   },
   {
    "duration": 301,
    "start_time": "2022-01-21T11:38:32.486Z"
   },
   {
    "duration": 990,
    "start_time": "2022-01-21T11:38:40.948Z"
   },
   {
    "duration": 34,
    "start_time": "2022-01-21T11:38:43.130Z"
   },
   {
    "duration": 10,
    "start_time": "2022-01-21T11:38:45.741Z"
   },
   {
    "duration": 50,
    "start_time": "2022-01-21T11:38:47.922Z"
   },
   {
    "duration": 6313,
    "start_time": "2022-01-21T11:38:50.817Z"
   },
   {
    "duration": 12,
    "start_time": "2022-01-21T11:39:00.308Z"
   },
   {
    "duration": 11,
    "start_time": "2022-01-21T11:39:02.624Z"
   },
   {
    "duration": 147,
    "start_time": "2022-01-21T11:39:03.466Z"
   },
   {
    "duration": 13,
    "start_time": "2022-01-21T11:39:05.646Z"
   },
   {
    "duration": 6,
    "start_time": "2022-01-21T11:39:09.521Z"
   },
   {
    "duration": 7,
    "start_time": "2022-01-21T11:52:07.385Z"
   },
   {
    "duration": 6,
    "start_time": "2022-01-21T11:55:55.999Z"
   },
   {
    "duration": 1070,
    "start_time": "2022-01-21T12:00:59.775Z"
   },
   {
    "duration": 34,
    "start_time": "2022-01-21T12:01:09.426Z"
   },
   {
    "duration": 312,
    "start_time": "2022-01-21T12:03:25.877Z"
   },
   {
    "duration": 1007,
    "start_time": "2022-01-21T12:03:35.234Z"
   },
   {
    "duration": 33,
    "start_time": "2022-01-21T12:03:36.243Z"
   },
   {
    "duration": 10,
    "start_time": "2022-01-21T12:03:39.389Z"
   },
   {
    "duration": 49,
    "start_time": "2022-01-21T12:03:41.822Z"
   },
   {
    "duration": 6226,
    "start_time": "2022-01-21T12:03:54.801Z"
   },
   {
    "duration": 13,
    "start_time": "2022-01-21T12:04:07.106Z"
   },
   {
    "duration": 13,
    "start_time": "2022-01-21T12:04:26.982Z"
   },
   {
    "duration": 12,
    "start_time": "2022-01-21T12:04:29.249Z"
   },
   {
    "duration": 144,
    "start_time": "2022-01-21T12:04:31.970Z"
   },
   {
    "duration": 13,
    "start_time": "2022-01-21T12:04:44.303Z"
   },
   {
    "duration": 6,
    "start_time": "2022-01-21T12:05:18.767Z"
   },
   {
    "duration": 1067,
    "start_time": "2022-01-21T12:08:02.277Z"
   },
   {
    "duration": 36,
    "start_time": "2022-01-21T12:08:03.346Z"
   },
   {
    "duration": 14,
    "start_time": "2022-01-21T12:08:03.387Z"
   },
   {
    "duration": 49,
    "start_time": "2022-01-21T12:08:03.403Z"
   },
   {
    "duration": 6416,
    "start_time": "2022-01-21T12:08:03.454Z"
   },
   {
    "duration": 13,
    "start_time": "2022-01-21T12:08:09.872Z"
   },
   {
    "duration": 20,
    "start_time": "2022-01-21T12:08:09.887Z"
   },
   {
    "duration": 153,
    "start_time": "2022-01-21T12:08:09.909Z"
   },
   {
    "duration": 12,
    "start_time": "2022-01-21T12:08:10.064Z"
   },
   {
    "duration": 22,
    "start_time": "2022-01-21T12:08:10.077Z"
   }
  ],
  "kernelspec": {
   "display_name": "Python 3 (ipykernel)",
   "language": "python",
   "name": "python3"
  },
  "language_info": {
   "codemirror_mode": {
    "name": "ipython",
    "version": 3
   },
   "file_extension": ".py",
   "mimetype": "text/x-python",
   "name": "python",
   "nbconvert_exporter": "python",
   "pygments_lexer": "ipython3",
   "version": "3.9.5"
  },
  "toc": {
   "base_numbering": 1,
   "nav_menu": {},
   "number_sections": true,
   "sideBar": true,
   "skip_h1_title": true,
   "title_cell": "Table of Contents",
   "title_sidebar": "Contents",
   "toc_cell": false,
   "toc_position": {},
   "toc_section_display": true,
   "toc_window_display": false
  }
 },
 "nbformat": 4,
 "nbformat_minor": 2
}
