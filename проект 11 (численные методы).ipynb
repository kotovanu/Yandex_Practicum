{
 "cells": [
  {
   "cell_type": "markdown",
   "metadata": {},
   "source": [
    "Привет, меня зовут Артем Хуршудов. Сегодня я проверю твой проект.\n",
    "<br> Дальнейшее общение будет происходить на \"ты\" если это не вызывает никаких проблем.\n",
    "<br> Желательно реагировать на каждый мой комментарий ('исправил', 'не понятно как исправить ошибку', ...)\n",
    "<br> Пожалуйста, не удаляй комментарии ревьюера, так как они повышают качество повторного ревью.\n",
    "\n",
    "Комментарии будут в <font color='green'>зеленой</font>, <font color='blue'>синей</font> или <font color='red'>красной</font> рамках:\n",
    "\n",
    "<div class=\"alert alert-block alert-success\">\n",
    "<b>Успех:</b> Если все сделано отлично\n",
    "</div>\n",
    "\n",
    "<div class=\"alert alert-block alert-info\">\n",
    "<b>Совет: </b> Если можно немного улучшить\n",
    "</div>\n",
    "\n",
    "<div class=\"alert alert-block alert-danger\">\n",
    "<b>Ошибка:</b> Если требуются исправления. Работа не может быть принята с красными комментариями.\n",
    "</div>\n",
    "\n",
    "-------------------\n",
    "\n",
    "Будет очень хорошо, если ты будешь помечать свои действия следующим образом:\n",
    "<div class=\"alert alert-block alert-warning\">\n",
    "<b>Комментарий студента:</b> ...\n",
    "</div>\n",
    "\n",
    "<div class=\"alert alert-block alert-warning\">\n",
    "<b>Изменения:</b> Были внесены следующие изменения ...\n",
    "</div>\n",
    "\n",
    "### <font color='orange'>Общее впечатление</font>\n",
    "* Большое спасибо за проделанную работу. Видно, что приложено много усилий.\n",
    "* Радует, что ноутбук хорошо структурирован. Приятно проверять такие работы.\n",
    "* Отлично, что тебе удалось освоить внутренний метод кодировки признаков для одной из моделей.\n",
    "* Над этим проектом нужно будет еще немного поработать. Однако, изменения не должны занять много времени.\n",
    "* С радостью отвечу на твои вопросы, если они есть. Лучше всего их собрать в следующей ячейке. Жду новую версию проекта."
   ]
  },
  {
   "cell_type": "markdown",
   "metadata": {},
   "source": [
    "<div class=\"alert alert-block alert-warning\">\n",
    "<b>Комментарий студента:</b> Привет! Спасибо за комментарии. Исправил.\n",
    "</div>"
   ]
  },
  {
   "cell_type": "markdown",
   "metadata": {},
   "source": [
    "### <font color='orange'>Общее впечатление (ревью 2)</font>\n",
    "* После исправлений проект улучшился и теперь он может быть зачтен.\n",
    "* Для удобства все новые комментарии обозначены фразой \"ревью 2\".\n",
    "* Удачи в дальнейшем обучении и следующих работах!"
   ]
  },
  {
   "cell_type": "markdown",
   "metadata": {},
   "source": [
    "# Определение стоимости автомобилей"
   ]
  },
  {
   "cell_type": "markdown",
   "metadata": {},
   "source": [
    "Сервис по продаже автомобилей с пробегом «Не бит, не крашен» разрабатывает приложение для привлечения новых клиентов. В нём можно быстро узнать рыночную стоимость своего автомобиля. В вашем распоряжении исторические данные: технические характеристики, комплектации и цены автомобилей. Вам нужно построить модель для определения стоимости. \n",
    "\n",
    "Заказчику важны:\n",
    "\n",
    "- качество предсказания;\n",
    "- скорость предсказания;\n",
    "- время обучения."
   ]
  },
  {
   "cell_type": "markdown",
   "metadata": {},
   "source": [
    "## Подготовка данных"
   ]
  },
  {
   "cell_type": "code",
   "execution_count": 1,
   "metadata": {},
   "outputs": [],
   "source": [
    "import pandas as pd\n",
    "import numpy as np\n",
    "import matplotlib.pyplot as plt\n",
    "from sklearn.model_selection import train_test_split\n",
    "from sklearn.metrics import mean_squared_error\n",
    "from sklearn.linear_model import LinearRegression\n",
    "from sklearn.linear_model import Ridge\n",
    "from catboost import Pool, CatBoostRegressor, cv\n",
    "from lightgbm import LGBMRegressor\n",
    "from sklearn.model_selection import cross_val_score\n",
    "from sklearn.model_selection import GridSearchCV\n",
    "from sklearn.preprocessing import OrdinalEncoder"
   ]
  },
  {
   "cell_type": "markdown",
   "metadata": {},
   "source": [
    "<div class=\"alert alert-block alert-success\">\n",
    "<b>Успех:</b> Отлично, что все импорты собраны в первой ячейке ноутбука! Если у того, кто будет запускать твой ноутбук будут отсутствовать некоторые библиотеки, то он это увидит сразу, а не в процессе!\n",
    "</div>"
   ]
  },
  {
   "cell_type": "code",
   "execution_count": 2,
   "metadata": {},
   "outputs": [
    {
     "data": {
      "text/html": [
       "<div>\n",
       "<style scoped>\n",
       "    .dataframe tbody tr th:only-of-type {\n",
       "        vertical-align: middle;\n",
       "    }\n",
       "\n",
       "    .dataframe tbody tr th {\n",
       "        vertical-align: top;\n",
       "    }\n",
       "\n",
       "    .dataframe thead th {\n",
       "        text-align: right;\n",
       "    }\n",
       "</style>\n",
       "<table border=\"1\" class=\"dataframe\">\n",
       "  <thead>\n",
       "    <tr style=\"text-align: right;\">\n",
       "      <th></th>\n",
       "      <th>DateCrawled</th>\n",
       "      <th>Price</th>\n",
       "      <th>VehicleType</th>\n",
       "      <th>RegistrationYear</th>\n",
       "      <th>Gearbox</th>\n",
       "      <th>Power</th>\n",
       "      <th>Model</th>\n",
       "      <th>Kilometer</th>\n",
       "      <th>RegistrationMonth</th>\n",
       "      <th>FuelType</th>\n",
       "      <th>Brand</th>\n",
       "      <th>NotRepaired</th>\n",
       "      <th>DateCreated</th>\n",
       "      <th>NumberOfPictures</th>\n",
       "      <th>PostalCode</th>\n",
       "      <th>LastSeen</th>\n",
       "    </tr>\n",
       "  </thead>\n",
       "  <tbody>\n",
       "    <tr>\n",
       "      <th>0</th>\n",
       "      <td>2016-03-24 11:52:17</td>\n",
       "      <td>480</td>\n",
       "      <td>NaN</td>\n",
       "      <td>1993</td>\n",
       "      <td>manual</td>\n",
       "      <td>0</td>\n",
       "      <td>golf</td>\n",
       "      <td>150000</td>\n",
       "      <td>0</td>\n",
       "      <td>petrol</td>\n",
       "      <td>volkswagen</td>\n",
       "      <td>NaN</td>\n",
       "      <td>2016-03-24 00:00:00</td>\n",
       "      <td>0</td>\n",
       "      <td>70435</td>\n",
       "      <td>2016-04-07 03:16:57</td>\n",
       "    </tr>\n",
       "    <tr>\n",
       "      <th>1</th>\n",
       "      <td>2016-03-24 10:58:45</td>\n",
       "      <td>18300</td>\n",
       "      <td>coupe</td>\n",
       "      <td>2011</td>\n",
       "      <td>manual</td>\n",
       "      <td>190</td>\n",
       "      <td>NaN</td>\n",
       "      <td>125000</td>\n",
       "      <td>5</td>\n",
       "      <td>gasoline</td>\n",
       "      <td>audi</td>\n",
       "      <td>yes</td>\n",
       "      <td>2016-03-24 00:00:00</td>\n",
       "      <td>0</td>\n",
       "      <td>66954</td>\n",
       "      <td>2016-04-07 01:46:50</td>\n",
       "    </tr>\n",
       "    <tr>\n",
       "      <th>2</th>\n",
       "      <td>2016-03-14 12:52:21</td>\n",
       "      <td>9800</td>\n",
       "      <td>suv</td>\n",
       "      <td>2004</td>\n",
       "      <td>auto</td>\n",
       "      <td>163</td>\n",
       "      <td>grand</td>\n",
       "      <td>125000</td>\n",
       "      <td>8</td>\n",
       "      <td>gasoline</td>\n",
       "      <td>jeep</td>\n",
       "      <td>NaN</td>\n",
       "      <td>2016-03-14 00:00:00</td>\n",
       "      <td>0</td>\n",
       "      <td>90480</td>\n",
       "      <td>2016-04-05 12:47:46</td>\n",
       "    </tr>\n",
       "    <tr>\n",
       "      <th>3</th>\n",
       "      <td>2016-03-17 16:54:04</td>\n",
       "      <td>1500</td>\n",
       "      <td>small</td>\n",
       "      <td>2001</td>\n",
       "      <td>manual</td>\n",
       "      <td>75</td>\n",
       "      <td>golf</td>\n",
       "      <td>150000</td>\n",
       "      <td>6</td>\n",
       "      <td>petrol</td>\n",
       "      <td>volkswagen</td>\n",
       "      <td>no</td>\n",
       "      <td>2016-03-17 00:00:00</td>\n",
       "      <td>0</td>\n",
       "      <td>91074</td>\n",
       "      <td>2016-03-17 17:40:17</td>\n",
       "    </tr>\n",
       "    <tr>\n",
       "      <th>4</th>\n",
       "      <td>2016-03-31 17:25:20</td>\n",
       "      <td>3600</td>\n",
       "      <td>small</td>\n",
       "      <td>2008</td>\n",
       "      <td>manual</td>\n",
       "      <td>69</td>\n",
       "      <td>fabia</td>\n",
       "      <td>90000</td>\n",
       "      <td>7</td>\n",
       "      <td>gasoline</td>\n",
       "      <td>skoda</td>\n",
       "      <td>no</td>\n",
       "      <td>2016-03-31 00:00:00</td>\n",
       "      <td>0</td>\n",
       "      <td>60437</td>\n",
       "      <td>2016-04-06 10:17:21</td>\n",
       "    </tr>\n",
       "  </tbody>\n",
       "</table>\n",
       "</div>"
      ],
      "text/plain": [
       "           DateCrawled  Price VehicleType  RegistrationYear Gearbox  Power  \\\n",
       "0  2016-03-24 11:52:17    480         NaN              1993  manual      0   \n",
       "1  2016-03-24 10:58:45  18300       coupe              2011  manual    190   \n",
       "2  2016-03-14 12:52:21   9800         suv              2004    auto    163   \n",
       "3  2016-03-17 16:54:04   1500       small              2001  manual     75   \n",
       "4  2016-03-31 17:25:20   3600       small              2008  manual     69   \n",
       "\n",
       "   Model  Kilometer  RegistrationMonth  FuelType       Brand NotRepaired  \\\n",
       "0   golf     150000                  0    petrol  volkswagen         NaN   \n",
       "1    NaN     125000                  5  gasoline        audi         yes   \n",
       "2  grand     125000                  8  gasoline        jeep         NaN   \n",
       "3   golf     150000                  6    petrol  volkswagen          no   \n",
       "4  fabia      90000                  7  gasoline       skoda          no   \n",
       "\n",
       "           DateCreated  NumberOfPictures  PostalCode             LastSeen  \n",
       "0  2016-03-24 00:00:00                 0       70435  2016-04-07 03:16:57  \n",
       "1  2016-03-24 00:00:00                 0       66954  2016-04-07 01:46:50  \n",
       "2  2016-03-14 00:00:00                 0       90480  2016-04-05 12:47:46  \n",
       "3  2016-03-17 00:00:00                 0       91074  2016-03-17 17:40:17  \n",
       "4  2016-03-31 00:00:00                 0       60437  2016-04-06 10:17:21  "
      ]
     },
     "metadata": {},
     "output_type": "display_data"
    },
    {
     "name": "stdout",
     "output_type": "stream",
     "text": [
      "<class 'pandas.core.frame.DataFrame'>\n",
      "RangeIndex: 354369 entries, 0 to 354368\n",
      "Data columns (total 16 columns):\n",
      " #   Column             Non-Null Count   Dtype \n",
      "---  ------             --------------   ----- \n",
      " 0   DateCrawled        354369 non-null  object\n",
      " 1   Price              354369 non-null  int64 \n",
      " 2   VehicleType        316879 non-null  object\n",
      " 3   RegistrationYear   354369 non-null  int64 \n",
      " 4   Gearbox            334536 non-null  object\n",
      " 5   Power              354369 non-null  int64 \n",
      " 6   Model              334664 non-null  object\n",
      " 7   Kilometer          354369 non-null  int64 \n",
      " 8   RegistrationMonth  354369 non-null  int64 \n",
      " 9   FuelType           321474 non-null  object\n",
      " 10  Brand              354369 non-null  object\n",
      " 11  NotRepaired        283215 non-null  object\n",
      " 12  DateCreated        354369 non-null  object\n",
      " 13  NumberOfPictures   354369 non-null  int64 \n",
      " 14  PostalCode         354369 non-null  int64 \n",
      " 15  LastSeen           354369 non-null  object\n",
      "dtypes: int64(7), object(9)\n",
      "memory usage: 43.3+ MB\n"
     ]
    },
    {
     "data": {
      "text/plain": [
       "None"
      ]
     },
     "metadata": {},
     "output_type": "display_data"
    }
   ],
   "source": [
    "autos = pd.read_csv('/datasets/autos.csv')\n",
    "display(autos.head())\n",
    "display(autos.info())"
   ]
  },
  {
   "cell_type": "code",
   "execution_count": 3,
   "metadata": {
    "scrolled": true
   },
   "outputs": [
    {
     "name": "stdout",
     "output_type": "stream",
     "text": [
      "Процент пропусков в столбце DateCrawled = 0.0\n",
      "Процент пропусков в столбце Price = 0.0\n",
      "Процент пропусков в столбце VehicleType = 0.1057936783409384\n",
      "Процент пропусков в столбце RegistrationYear = 0.0\n",
      "Процент пропусков в столбце Gearbox = 0.055967085156997366\n",
      "Процент пропусков в столбце Power = 0.0\n",
      "Процент пропусков в столбце Model = 0.055605879746817584\n",
      "Процент пропусков в столбце Kilometer = 0.0\n",
      "Процент пропусков в столбце RegistrationMonth = 0.0\n",
      "Процент пропусков в столбце FuelType = 0.09282696849893755\n",
      "Процент пропусков в столбце Brand = 0.0\n",
      "Процент пропусков в столбце NotRepaired = 0.20079070121822168\n",
      "Процент пропусков в столбце DateCreated = 0.0\n",
      "Процент пропусков в столбце NumberOfPictures = 0.0\n",
      "Процент пропусков в столбце PostalCode = 0.0\n",
      "Процент пропусков в столбце LastSeen = 0.0\n"
     ]
    }
   ],
   "source": [
    "for column in autos.columns:\n",
    "    print(f'Процент пропусков в столбце {column} = {autos[column].isna().sum()/autos[column].shape[0]}')"
   ]
  },
  {
   "cell_type": "code",
   "execution_count": 4,
   "metadata": {},
   "outputs": [
    {
     "name": "stdout",
     "output_type": "stream",
     "text": [
      "Уникальные данные в столбце DateCrawled: ['2016-03-24 11:52:17' '2016-03-24 10:58:45' '2016-03-14 12:52:21' ...\n",
      " '2016-03-21 09:50:58' '2016-03-14 17:48:27' '2016-03-19 18:57:12']\n",
      "-----------------------\n",
      "-----------------------\n",
      "Уникальные данные в столбце Price: [  480 18300  9800 ... 12395 18429 10985]\n",
      "-----------------------\n",
      "-----------------------\n",
      "Уникальные данные в столбце VehicleType: [nan 'coupe' 'suv' 'small' 'sedan' 'convertible' 'bus' 'wagon' 'other']\n",
      "-----------------------\n",
      "-----------------------\n",
      "Уникальные данные в столбце RegistrationYear: [1993 2011 2004 2001 2008 1995 1980 2014 1998 2005 1910 2016 2007 2009\n",
      " 2002 2018 1997 1990 2017 1981 2003 1994 1991 1984 2006 1999 2012 2010\n",
      " 2000 1992 2013 1996 1985 1989 2015 1982 1976 1983 1973 1111 1969 1971\n",
      " 1987 1986 1988 1970 1965 1945 1925 1974 1979 1955 1978 1972 1968 1977\n",
      " 1961 1960 1966 1975 1963 1964 5000 1954 1958 1967 1959 9999 1956 3200\n",
      " 1000 1941 8888 1500 2200 4100 1962 1929 1957 1940 3000 2066 1949 2019\n",
      " 1937 1951 1800 1953 1234 8000 5300 9000 2900 6000 5900 5911 1933 1400\n",
      " 1950 4000 1948 1952 1200 8500 1932 1255 3700 3800 4800 1942 7000 1935\n",
      " 1936 6500 1923 2290 2500 1930 1001 9450 1944 1943 1934 1938 1688 2800\n",
      " 1253 1928 1919 5555 5600 1600 2222 1039 9996 1300 8455 1931 1915 4500\n",
      " 1920 1602 7800 9229 1947 1927 7100 8200 1946 7500 3500]\n",
      "-----------------------\n",
      "-----------------------\n",
      "Уникальные данные в столбце Gearbox: ['manual' 'auto' nan]\n",
      "-----------------------\n",
      "-----------------------\n",
      "Уникальные данные в столбце Power: [    0   190   163    75    69   102   109    50   125   101   105   140\n",
      "   115   131    60   136   160   231    90   118   193    99   113   218\n",
      "   122   129    70   306    95    61   177    80   170    55   143    64\n",
      "   286   232   150   156    82   155    54   185    87   180    86    84\n",
      "   224   235   200   178   265    77   110   144   120   116   184   126\n",
      "   204    88   194   305   197   179   250    45   313    41   165    98\n",
      "   130   114   211    56   201   213    58   107    83   174   100   220\n",
      "    85    73   192    68    66   299    74    52   147    65   310    71\n",
      "    97   239   203     5   300   103   258   320    63    81   148    44\n",
      "   145   230   280   260   104   188   333   186   117   141    59   132\n",
      "   234   158    39    92    51   135    53   209    43   146    67   106\n",
      "   166   276   344    72   249   237   245   111   326   279    23   138\n",
      "   175    96   226    26    37   301   334   128   133   124    33   219\n",
      "   241   167    94   182   196   238  1398   228   112    48   272   139\n",
      "  1799    40   240    79   256   360   243   375   252   396   340   108\n",
      "   121   345   187   289   222   198   284   450   233   387   152   347\n",
      "   172    57   137   212   476   314    30     7    47   173   290   207\n",
      "   205   171   750    78    91    89   349   325    76   151   350   953\n",
      "    93   142   500   343   199   119   164    16   264   367   208   210\n",
      "    46   435  1001   225   127   176   161   603   307   354    35   206\n",
      "   771   355   273   223   255   123   154   149  7515  1400   268   620\n",
      "   169   400   275    34     2   242  1779   285   162   328  1753   329\n",
      "   134   420   247   168 10317   215    18   330   283    62    10   214\n",
      "   183   254    15   321   322   315   952   600   181   426   599   379\n",
      "   999    22   157    42   195   553     4   309   507   381   271   440\n",
      "   189   401  1111  2729    21   236  1240  1704   521     1  1900   270\n",
      "    24   159   292   808   515  1200   303    29    38  1993    14   216\n",
      "   610   504    49   267   331   363   261   385  1011   253   696 10520\n",
      "   376   227   311    27   217    20  1999    11  1056    25   394    12\n",
      "   298   296  1659   294   551  6920   246    17  1800  1625   368   390\n",
      "   221  1367   259   606   327  2017  1597   266   374   392     9   405\n",
      "    13   262   601   430   295     8   411   900   541  7512   382 10218\n",
      "  7544  1102   287    19   751   297  1090   457   282   602   388     6\n",
      "  1000  5411   335  1360   202  3750   805  1062  1024 11530   364  1796\n",
      "  5000   269   460  1002   288  1780 12012 17932   316  2005  1399   191\n",
      "   278  1300   380   257   449  1256   153  1653   520   560   281 12510\n",
      "     3  1500   386    32  1202  2016  1436  1405   671   274  1288  1055\n",
      " 10912 15016  6226  1115   277  1105   341  1223  2340  8404  1968   338\n",
      "   445  1920   370   517  4400 10710 10522  9010   431  1164 11509   371\n",
      "  1501   428 11635    36   304   348  1703  1910  1995   579 10000   580\n",
      "   408    31  1005   358  1403   489  5575 19211   585   960   365   353\n",
      "   490   352  1801   346   550  3199   800  7508  1312   357  1937   950\n",
      "  4700  1600  3454 19208   251   850   337   700  8011  2331  2789   487\n",
      "   519  2461  6006  3500  5815  6018  1781  1503   612  1596   229  1506\n",
      "  5809 15020  5867  2172  1598 17410  1363   584  1054   851  1339   318\n",
      "   510   525  1700    28  1151   685  6011   317   703  1771 15001   514\n",
      "   362   332   324  6045   530   425   308  6010   475   903   640  2000\n",
      "   248   651  2799 17011   505  1103  1521   351 16051   398  9000  1998\n",
      " 10311   409  1230 17019 12684  8259  1895   901  1317   871   909  2201\n",
      "  1595   776 17700 11011  1199   459  1162  1120 15033  1896   339   361\n",
      "   574  6512   454   650 13616   604   607 16312  1082   336 20000   416\n",
      "   678  6012  1401  1021  1870 13636  1250  9710   323  1158  2009   902\n",
      "  6062  1275   572   244   399  1016   743  1221  2402 16011  1362   544\n",
      "   645   907   702 12512  1986  1003  1432  9013  9011   442  1017  1394\n",
      " 15017 10910  1992   540  2018 11025  1433  1701  2792  1502  1239  1390\n",
      " 14009  1160  1351 11111  1783  9007   923  1149   754  1988   402  2004\n",
      "  5420  1793  1324   356  7511  1299   293 19312  1079  1689   998  1100\n",
      "  9012  1933   508 16311   682  1252  1922  7529   732  2389  2200  1707\n",
      "  1416  8500  1012   485  3000 10110   421  4507  1631  7518   377  1004\n",
      "  2007  2598  1548  1241]\n",
      "-----------------------\n",
      "-----------------------\n",
      "Уникальные данные в столбце Model: ['golf' nan 'grand' 'fabia' '3er' '2_reihe' 'other' 'c_max' '3_reihe'\n",
      " 'passat' 'navara' 'ka' 'polo' 'twingo' 'a_klasse' 'scirocco' '5er'\n",
      " 'meriva' 'arosa' 'c4' 'civic' 'transporter' 'punto' 'e_klasse' 'clio'\n",
      " 'kadett' 'kangoo' 'corsa' 'one' 'fortwo' '1er' 'b_klasse' 'signum'\n",
      " 'astra' 'a8' 'jetta' 'fiesta' 'c_klasse' 'micra' 'vito' 'sprinter' '156'\n",
      " 'escort' 'forester' 'xc_reihe' 'scenic' 'a4' 'a1' 'insignia' 'combo'\n",
      " 'focus' 'tt' 'a6' 'jazz' 'omega' 'slk' '7er' '80' '147' '100' 'z_reihe'\n",
      " 'sportage' 'sorento' 'v40' 'ibiza' 'mustang' 'eos' 'touran' 'getz' 'a3'\n",
      " 'almera' 'megane' 'lupo' 'r19' 'zafira' 'caddy' 'mondeo' 'cordoba' 'colt'\n",
      " 'impreza' 'vectra' 'berlingo' 'tiguan' 'i_reihe' 'espace' 'sharan'\n",
      " '6_reihe' 'panda' 'up' 'seicento' 'ceed' '5_reihe' 'yeti' 'octavia' 'mii'\n",
      " 'rx_reihe' '6er' 'modus' 'fox' 'matiz' 'beetle' 'c1' 'rio' 'touareg'\n",
      " 'logan' 'spider' 'cuore' 's_max' 'a2' 'galaxy' 'c3' 'viano' 's_klasse'\n",
      " '1_reihe' 'avensis' 'roomster' 'sl' 'kaefer' 'santa' 'cooper' 'leon'\n",
      " '4_reihe' 'a5' '500' 'laguna' 'ptcruiser' 'clk' 'primera' 'x_reihe'\n",
      " 'exeo' '159' 'transit' 'juke' 'qashqai' 'carisma' 'accord' 'corolla'\n",
      " 'lanos' 'phaeton' 'verso' 'swift' 'rav' 'picanto' 'boxster' 'kalos'\n",
      " 'superb' 'stilo' 'alhambra' 'mx_reihe' 'roadster' 'ypsilon' 'cayenne'\n",
      " 'galant' 'justy' '90' 'sirion' 'crossfire' 'agila' 'duster' 'cr_reihe'\n",
      " 'v50' 'c_reihe' 'v_klasse' 'm_klasse' 'yaris' 'c5' 'aygo' 'cc' 'carnival'\n",
      " 'fusion' '911' 'bora' 'forfour' 'm_reihe' 'cl' 'tigra' '300c' 'spark'\n",
      " 'v70' 'kuga' 'x_type' 'ducato' 's_type' 'x_trail' 'toledo' 'altea'\n",
      " 'voyager' 'calibra' 'bravo' 'antara' 'tucson' 'citigo' 'jimny' 'wrangler'\n",
      " 'lybra' 'q7' 'lancer' 'captiva' 'c2' 'discovery' 'freelander' 'sandero'\n",
      " 'note' '900' 'cherokee' 'clubman' 'samara' 'defender' '601' 'cx_reihe'\n",
      " 'legacy' 'pajero' 'auris' 'niva' 's60' 'nubira' 'vivaro' 'g_klasse'\n",
      " 'lodgy' '850' 'range_rover' 'q3' 'serie_2' 'glk' 'charade' 'croma'\n",
      " 'outlander' 'doblo' 'musa' 'move' '9000' 'v60' '145' 'aveo' '200' 'b_max'\n",
      " 'range_rover_sport' 'terios' 'rangerover' 'q5' 'range_rover_evoque'\n",
      " 'materia' 'delta' 'gl' 'kalina' 'amarok' 'elefantino' 'i3' 'kappa'\n",
      " 'serie_3' 'serie_1']\n",
      "-----------------------\n",
      "-----------------------\n",
      "Уникальные данные в столбце Kilometer: [150000 125000  90000  40000  30000  70000   5000 100000  60000  20000\n",
      "  80000  50000  10000]\n",
      "-----------------------\n",
      "-----------------------\n",
      "Уникальные данные в столбце RegistrationMonth: [ 0  5  8  6  7 10 12 11  2  3  1  4  9]\n",
      "-----------------------\n",
      "-----------------------\n",
      "Уникальные данные в столбце FuelType: ['petrol' 'gasoline' nan 'lpg' 'other' 'hybrid' 'cng' 'electric']\n",
      "-----------------------\n",
      "-----------------------\n",
      "Уникальные данные в столбце Brand: ['volkswagen' 'audi' 'jeep' 'skoda' 'bmw' 'peugeot' 'ford' 'mazda'\n",
      " 'nissan' 'renault' 'mercedes_benz' 'opel' 'seat' 'citroen' 'honda' 'fiat'\n",
      " 'mini' 'smart' 'hyundai' 'sonstige_autos' 'alfa_romeo' 'subaru' 'volvo'\n",
      " 'mitsubishi' 'kia' 'suzuki' 'lancia' 'toyota' 'chevrolet' 'dacia'\n",
      " 'daihatsu' 'trabant' 'saab' 'chrysler' 'jaguar' 'daewoo' 'porsche'\n",
      " 'rover' 'land_rover' 'lada']\n",
      "-----------------------\n",
      "-----------------------\n",
      "Уникальные данные в столбце NotRepaired: [nan 'yes' 'no']\n",
      "-----------------------\n",
      "-----------------------\n",
      "Уникальные данные в столбце DateCreated: ['2016-03-24 00:00:00' '2016-03-14 00:00:00' '2016-03-17 00:00:00'\n",
      " '2016-03-31 00:00:00' '2016-04-04 00:00:00' '2016-04-01 00:00:00'\n",
      " '2016-03-21 00:00:00' '2016-03-26 00:00:00' '2016-04-07 00:00:00'\n",
      " '2016-03-15 00:00:00' '2016-03-11 00:00:00' '2016-03-20 00:00:00'\n",
      " '2016-03-23 00:00:00' '2016-03-27 00:00:00' '2016-03-12 00:00:00'\n",
      " '2016-03-13 00:00:00' '2016-03-18 00:00:00' '2016-03-10 00:00:00'\n",
      " '2016-03-07 00:00:00' '2016-03-09 00:00:00' '2016-03-08 00:00:00'\n",
      " '2016-04-03 00:00:00' '2016-03-29 00:00:00' '2016-03-25 00:00:00'\n",
      " '2016-03-28 00:00:00' '2016-03-30 00:00:00' '2016-03-22 00:00:00'\n",
      " '2016-02-09 00:00:00' '2016-03-05 00:00:00' '2016-04-02 00:00:00'\n",
      " '2016-03-16 00:00:00' '2016-03-19 00:00:00' '2016-04-05 00:00:00'\n",
      " '2016-03-06 00:00:00' '2016-02-12 00:00:00' '2016-03-03 00:00:00'\n",
      " '2016-03-01 00:00:00' '2016-03-04 00:00:00' '2016-04-06 00:00:00'\n",
      " '2016-02-15 00:00:00' '2016-02-24 00:00:00' '2016-02-27 00:00:00'\n",
      " '2015-03-20 00:00:00' '2016-02-28 00:00:00' '2016-02-17 00:00:00'\n",
      " '2016-01-27 00:00:00' '2016-02-20 00:00:00' '2016-02-29 00:00:00'\n",
      " '2016-02-10 00:00:00' '2016-02-23 00:00:00' '2016-02-21 00:00:00'\n",
      " '2015-11-02 00:00:00' '2016-02-19 00:00:00' '2016-02-26 00:00:00'\n",
      " '2016-02-11 00:00:00' '2016-01-10 00:00:00' '2016-02-06 00:00:00'\n",
      " '2016-02-18 00:00:00' '2016-01-29 00:00:00' '2016-03-02 00:00:00'\n",
      " '2015-12-06 00:00:00' '2016-01-24 00:00:00' '2016-01-30 00:00:00'\n",
      " '2016-02-02 00:00:00' '2016-02-16 00:00:00' '2016-02-13 00:00:00'\n",
      " '2016-02-05 00:00:00' '2016-02-22 00:00:00' '2015-11-17 00:00:00'\n",
      " '2014-03-10 00:00:00' '2016-02-07 00:00:00' '2016-01-23 00:00:00'\n",
      " '2016-02-25 00:00:00' '2016-02-14 00:00:00' '2016-01-02 00:00:00'\n",
      " '2015-09-04 00:00:00' '2015-11-12 00:00:00' '2015-12-27 00:00:00'\n",
      " '2015-11-24 00:00:00' '2016-01-20 00:00:00' '2016-02-03 00:00:00'\n",
      " '2015-12-05 00:00:00' '2015-08-07 00:00:00' '2016-01-28 00:00:00'\n",
      " '2016-01-31 00:00:00' '2016-02-08 00:00:00' '2016-01-07 00:00:00'\n",
      " '2016-01-22 00:00:00' '2016-01-18 00:00:00' '2016-01-08 00:00:00'\n",
      " '2015-11-23 00:00:00' '2016-01-13 00:00:00' '2016-01-17 00:00:00'\n",
      " '2016-01-15 00:00:00' '2015-11-08 00:00:00' '2016-01-26 00:00:00'\n",
      " '2016-02-04 00:00:00' '2016-01-25 00:00:00' '2016-01-16 00:00:00'\n",
      " '2015-08-10 00:00:00' '2016-01-03 00:00:00' '2016-01-19 00:00:00'\n",
      " '2015-12-30 00:00:00' '2016-02-01 00:00:00' '2015-12-17 00:00:00'\n",
      " '2015-11-10 00:00:00' '2016-01-06 00:00:00' '2015-09-09 00:00:00'\n",
      " '2015-06-18 00:00:00']\n",
      "-----------------------\n",
      "-----------------------\n",
      "Уникальные данные в столбце NumberOfPictures: [0]\n",
      "-----------------------\n",
      "-----------------------\n",
      "Уникальные данные в столбце PostalCode: [70435 66954 90480 ... 38528 38325 31096]\n",
      "-----------------------\n",
      "-----------------------\n",
      "Уникальные данные в столбце LastSeen: ['2016-04-07 03:16:57' '2016-04-07 01:46:50' '2016-04-05 12:47:46' ...\n",
      " '2016-03-19 20:44:43' '2016-03-29 10:17:23' '2016-03-21 10:42:49']\n",
      "-----------------------\n",
      "-----------------------\n"
     ]
    }
   ],
   "source": [
    "for column in autos.columns:\n",
    "    print(f'Уникальные данные в столбце {column}: {autos[column].unique()}')\n",
    "    print('-----------------------\\n-----------------------')"
   ]
  },
  {
   "cell_type": "markdown",
   "metadata": {},
   "source": [
    "В столбце RegistrationYear есть несуществующие года регистрации.\n",
    "В столбце RegistrationMonth есть \"нулевой\" месяц, что не правильно.\n",
    "В столбце Power есть некорректные значения.\n",
    "\n",
    "Выделил важные признаки, которые влияют на стоимость: \n",
    "\n",
    "* VehicleType\n",
    "* RegistrationYear\n",
    "* Gearbox\n",
    "* Power\n",
    "* Model\n",
    "* Kilometer\n",
    "* FuelType\n",
    "* Brand\n",
    "* NotRepaired"
   ]
  },
  {
   "cell_type": "markdown",
   "metadata": {},
   "source": [
    "<div class=\"alert alert-block alert-success\">\n",
    "<b>Успех:</b> Данные загружены корректно, первичный осмотр проведен.\n",
    "</div>"
   ]
  },
  {
   "cell_type": "code",
   "execution_count": 5,
   "metadata": {},
   "outputs": [
    {
     "data": {
      "text/html": [
       "<div>\n",
       "<style scoped>\n",
       "    .dataframe tbody tr th:only-of-type {\n",
       "        vertical-align: middle;\n",
       "    }\n",
       "\n",
       "    .dataframe tbody tr th {\n",
       "        vertical-align: top;\n",
       "    }\n",
       "\n",
       "    .dataframe thead th {\n",
       "        text-align: right;\n",
       "    }\n",
       "</style>\n",
       "<table border=\"1\" class=\"dataframe\">\n",
       "  <thead>\n",
       "    <tr style=\"text-align: right;\">\n",
       "      <th></th>\n",
       "      <th>VehicleType</th>\n",
       "      <th>RegistrationYear</th>\n",
       "      <th>Gearbox</th>\n",
       "      <th>Power</th>\n",
       "      <th>Model</th>\n",
       "      <th>Kilometer</th>\n",
       "      <th>FuelType</th>\n",
       "      <th>Brand</th>\n",
       "      <th>NotRepaired</th>\n",
       "      <th>Price</th>\n",
       "    </tr>\n",
       "  </thead>\n",
       "  <tbody>\n",
       "    <tr>\n",
       "      <th>0</th>\n",
       "      <td>NaN</td>\n",
       "      <td>1993</td>\n",
       "      <td>manual</td>\n",
       "      <td>0</td>\n",
       "      <td>golf</td>\n",
       "      <td>150000</td>\n",
       "      <td>petrol</td>\n",
       "      <td>volkswagen</td>\n",
       "      <td>NaN</td>\n",
       "      <td>480</td>\n",
       "    </tr>\n",
       "    <tr>\n",
       "      <th>1</th>\n",
       "      <td>coupe</td>\n",
       "      <td>2011</td>\n",
       "      <td>manual</td>\n",
       "      <td>190</td>\n",
       "      <td>NaN</td>\n",
       "      <td>125000</td>\n",
       "      <td>gasoline</td>\n",
       "      <td>audi</td>\n",
       "      <td>yes</td>\n",
       "      <td>18300</td>\n",
       "    </tr>\n",
       "    <tr>\n",
       "      <th>2</th>\n",
       "      <td>suv</td>\n",
       "      <td>2004</td>\n",
       "      <td>auto</td>\n",
       "      <td>163</td>\n",
       "      <td>grand</td>\n",
       "      <td>125000</td>\n",
       "      <td>gasoline</td>\n",
       "      <td>jeep</td>\n",
       "      <td>NaN</td>\n",
       "      <td>9800</td>\n",
       "    </tr>\n",
       "    <tr>\n",
       "      <th>3</th>\n",
       "      <td>small</td>\n",
       "      <td>2001</td>\n",
       "      <td>manual</td>\n",
       "      <td>75</td>\n",
       "      <td>golf</td>\n",
       "      <td>150000</td>\n",
       "      <td>petrol</td>\n",
       "      <td>volkswagen</td>\n",
       "      <td>no</td>\n",
       "      <td>1500</td>\n",
       "    </tr>\n",
       "    <tr>\n",
       "      <th>4</th>\n",
       "      <td>small</td>\n",
       "      <td>2008</td>\n",
       "      <td>manual</td>\n",
       "      <td>69</td>\n",
       "      <td>fabia</td>\n",
       "      <td>90000</td>\n",
       "      <td>gasoline</td>\n",
       "      <td>skoda</td>\n",
       "      <td>no</td>\n",
       "      <td>3600</td>\n",
       "    </tr>\n",
       "  </tbody>\n",
       "</table>\n",
       "</div>"
      ],
      "text/plain": [
       "  VehicleType  RegistrationYear Gearbox  Power  Model  Kilometer  FuelType  \\\n",
       "0         NaN              1993  manual      0   golf     150000    petrol   \n",
       "1       coupe              2011  manual    190    NaN     125000  gasoline   \n",
       "2         suv              2004    auto    163  grand     125000  gasoline   \n",
       "3       small              2001  manual     75   golf     150000    petrol   \n",
       "4       small              2008  manual     69  fabia      90000  gasoline   \n",
       "\n",
       "        Brand NotRepaired  Price  \n",
       "0  volkswagen         NaN    480  \n",
       "1        audi         yes  18300  \n",
       "2        jeep         NaN   9800  \n",
       "3  volkswagen          no   1500  \n",
       "4       skoda          no   3600  "
      ]
     },
     "metadata": {},
     "output_type": "display_data"
    },
    {
     "name": "stdout",
     "output_type": "stream",
     "text": [
      "<class 'pandas.core.frame.DataFrame'>\n",
      "RangeIndex: 354369 entries, 0 to 354368\n",
      "Data columns (total 10 columns):\n",
      " #   Column            Non-Null Count   Dtype \n",
      "---  ------            --------------   ----- \n",
      " 0   VehicleType       316879 non-null  object\n",
      " 1   RegistrationYear  354369 non-null  int64 \n",
      " 2   Gearbox           334536 non-null  object\n",
      " 3   Power             354369 non-null  int64 \n",
      " 4   Model             334664 non-null  object\n",
      " 5   Kilometer         354369 non-null  int64 \n",
      " 6   FuelType          321474 non-null  object\n",
      " 7   Brand             354369 non-null  object\n",
      " 8   NotRepaired       283215 non-null  object\n",
      " 9   Price             354369 non-null  int64 \n",
      "dtypes: int64(4), object(6)\n",
      "memory usage: 27.0+ MB\n"
     ]
    },
    {
     "data": {
      "text/plain": [
       "None"
      ]
     },
     "metadata": {},
     "output_type": "display_data"
    }
   ],
   "source": [
    "#создал df с нужными столбцами\n",
    "df = autos[['VehicleType', 'RegistrationYear', 'Gearbox', 'Power', 'Model', 'Kilometer', 'FuelType', 'Brand', 'NotRepaired', 'Price']]\n",
    "display(df.head())\n",
    "display(df.info())"
   ]
  },
  {
   "cell_type": "markdown",
   "metadata": {},
   "source": [
    "<div class=\"alert alert-block alert-success\">\n",
    "<b>Успех:</b> Согласен, что даты, константный признак и индек нам не нужны.\n",
    "</div>"
   ]
  },
  {
   "cell_type": "markdown",
   "metadata": {},
   "source": [
    "Так как во всех столбцах, кроме 'NotRepaired', процент пропущенных значений меньше или равно 1%, то их можно удалить.\n",
    "В столбце 'NotRepaired' для всех NaN установим значение 'yes'.\n",
    "\n",
    "В столбце 'Power' есть нереальные значения. Их нужно будет удалить. Также и для столбца 'RegistrationYear'."
   ]
  },
  {
   "cell_type": "code",
   "execution_count": 6,
   "metadata": {},
   "outputs": [
    {
     "name": "stderr",
     "output_type": "stream",
     "text": [
      "/opt/conda/lib/python3.9/site-packages/pandas/core/series.py:4463: SettingWithCopyWarning: \n",
      "A value is trying to be set on a copy of a slice from a DataFrame\n",
      "\n",
      "See the caveats in the documentation: https://pandas.pydata.org/pandas-docs/stable/user_guide/indexing.html#returning-a-view-versus-a-copy\n",
      "  return super().fillna(\n"
     ]
    }
   ],
   "source": [
    "df.fillna({'NotRepaired':'yes'}, inplace=True)"
   ]
  },
  {
   "cell_type": "code",
   "execution_count": 7,
   "metadata": {},
   "outputs": [],
   "source": [
    "df = df.dropna()"
   ]
  },
  {
   "cell_type": "markdown",
   "metadata": {},
   "source": [
    "<div class=\"alert alert-block alert-success\">\n",
    "<b>Успех:</b> Обработать пропуски таким образом – хорошее решение.\n",
    "</div>"
   ]
  },
  {
   "cell_type": "code",
   "execution_count": 8,
   "metadata": {},
   "outputs": [
    {
     "data": {
      "image/png": "[encoded data removed]",
      "text/plain": [
       "<Figure size 1080x576 with 1 Axes>"
      ]
     },
     "metadata": {
      "needs_background": "light"
     },
     "output_type": "display_data"
    },
    {
     "data": {
      "image/png": "[encoded data removed]",
      "text/plain": [
       "<Figure size 1080x576 with 1 Axes>"
      ]
     },
     "metadata": {
      "needs_background": "light"
     },
     "output_type": "display_data"
    },
    {
     "data": {
      "image/png": "[encoded data removed]",
      "text/plain": [
       "<Figure size 1080x576 with 1 Axes>"
      ]
     },
     "metadata": {
      "needs_background": "light"
     },
     "output_type": "display_data"
    }
   ],
   "source": [
    "#Убираю нереальные значения в 'Power'.\n",
    "df['Power'].hist(bins=150,figsize=(15,8))\n",
    "plt.show()\n",
    "\n",
    "df = df.query('Power < 1000')\n",
    "df['Power'].hist(bins=150, figsize=(15,8))\n",
    "plt.show()\n",
    "\n",
    "df = df.query('0 < Power < 350')\n",
    "df['Power'].hist(bins=150, figsize=(15,8))\n",
    "plt.show()"
   ]
  },
  {
   "cell_type": "code",
   "execution_count": 9,
   "metadata": {
    "scrolled": true
   },
   "outputs": [
    {
     "data": {
      "image/png": "[encoded data removed]",
      "text/plain": [
       "<Figure size 1080x576 with 1 Axes>"
      ]
     },
     "metadata": {
      "needs_background": "light"
     },
     "output_type": "display_data"
    },
    {
     "data": {
      "image/png": "[encoded data removed]",
      "text/plain": [
       "<Figure size 1080x576 with 1 Axes>"
      ]
     },
     "metadata": {
      "needs_background": "light"
     },
     "output_type": "display_data"
    },
    {
     "data": {
      "image/png": "[encoded data removed]",
      "text/plain": [
       "<Figure size 1080x576 with 1 Axes>"
      ]
     },
     "metadata": {
      "needs_background": "light"
     },
     "output_type": "display_data"
    }
   ],
   "source": [
    "#аналогично и для 'RegistrationYear'\n",
    "df['RegistrationYear'].hist(bins=100, figsize=(15,8))\n",
    "plt.show()\n",
    "\n",
    "df = df.query('1900 < RegistrationYear < 2021')\n",
    "df['RegistrationYear'].hist(bins=100, figsize=(15,8))\n",
    "plt.show()\n",
    "\n",
    "df = df.query('1960 < RegistrationYear < 2018')\n",
    "df['RegistrationYear'].hist(bins=100, figsize=(15,8))\n",
    "plt.show()"
   ]
  },
  {
   "cell_type": "code",
   "execution_count": 10,
   "metadata": {},
   "outputs": [],
   "source": [
    "#IsManualGearbox. 1 - manual. 0 - auto.\n",
    "#IsNotRepaired. 1  - машина без ремонта. 0 - с ремонтом.\n",
    "\n",
    "df['Gearbox_bool'] = 0\n",
    "df.loc[df['Gearbox'] == 'manual', 'Gearbox_bool'] = 1\n",
    "\n",
    "\n",
    "df['NotRepaired_bool'] = 0\n",
    "df.loc[df['NotRepaired'] == 'yes', 'NotRepaired_bool'] = 1\n"
   ]
  },
  {
   "cell_type": "code",
   "execution_count": 11,
   "metadata": {},
   "outputs": [
    {
     "name": "stdout",
     "output_type": "stream",
     "text": [
      "<class 'pandas.core.frame.DataFrame'>\n",
      "Int64Index: 267002 entries, 2 to 354368\n",
      "Data columns (total 12 columns):\n",
      " #   Column            Non-Null Count   Dtype \n",
      "---  ------            --------------   ----- \n",
      " 0   VehicleType       267002 non-null  object\n",
      " 1   RegistrationYear  267002 non-null  int64 \n",
      " 2   Gearbox           267002 non-null  object\n",
      " 3   Power             267002 non-null  int64 \n",
      " 4   Model             267002 non-null  object\n",
      " 5   Kilometer         267002 non-null  int64 \n",
      " 6   FuelType          267002 non-null  object\n",
      " 7   Brand             267002 non-null  object\n",
      " 8   NotRepaired       267002 non-null  object\n",
      " 9   Price             267002 non-null  int64 \n",
      " 10  Gearbox_bool      267002 non-null  int64 \n",
      " 11  NotRepaired_bool  267002 non-null  int64 \n",
      "dtypes: int64(6), object(6)\n",
      "memory usage: 26.5+ MB\n"
     ]
    }
   ],
   "source": [
    "df.info()"
   ]
  },
  {
   "cell_type": "code",
   "execution_count": 12,
   "metadata": {},
   "outputs": [],
   "source": [
    "df.drop(['NotRepaired','Gearbox'], inplace=True, axis=1)"
   ]
  },
  {
   "cell_type": "code",
   "execution_count": 13,
   "metadata": {},
   "outputs": [
    {
     "data": {
      "text/plain": [
       "0        4172\n",
       "1500     3824\n",
       "500      3641\n",
       "2500     3233\n",
       "1200     3193\n",
       "         ... \n",
       "3965        1\n",
       "11897       1\n",
       "5246        1\n",
       "6783        1\n",
       "8188        1\n",
       "Name: Price, Length: 3487, dtype: int64"
      ]
     },
     "execution_count": 13,
     "metadata": {},
     "output_type": "execute_result"
    }
   ],
   "source": [
    "#работаю с целевым признаком.\n",
    "df['Price'].value_counts()"
   ]
  },
  {
   "cell_type": "code",
   "execution_count": 14,
   "metadata": {
    "scrolled": true
   },
   "outputs": [
    {
     "data": {
      "text/plain": [
       "<AxesSubplot:>"
      ]
     },
     "execution_count": 14,
     "metadata": {},
     "output_type": "execute_result"
    },
    {
     "data": {
      "image/png": "[encoded data removed]",
      "text/plain": [
       "<Figure size 1080x576 with 1 Axes>"
      ]
     },
     "metadata": {
      "needs_background": "light"
     },
     "output_type": "display_data"
    }
   ],
   "source": [
    "df = df.query('Price > 0')\n",
    "df['Price'].hist(bins=100, figsize=(15,8))"
   ]
  },
  {
   "cell_type": "code",
   "execution_count": 15,
   "metadata": {},
   "outputs": [
    {
     "data": {
      "text/plain": [
       "0.05      500.0\n",
       "0.95    15200.0\n",
       "Name: Price, dtype: float64"
      ]
     },
     "execution_count": 15,
     "metadata": {},
     "output_type": "execute_result"
    }
   ],
   "source": [
    "#Выделил квантили 5% и 95%.\n",
    "df['Price'].quantile([0.05, 0.95])"
   ]
  },
  {
   "cell_type": "code",
   "execution_count": 16,
   "metadata": {},
   "outputs": [
    {
     "name": "stdout",
     "output_type": "stream",
     "text": [
      "<class 'pandas.core.frame.DataFrame'>\n",
      "Int64Index: 238092 entries, 2 to 354368\n",
      "Data columns (total 10 columns):\n",
      " #   Column            Non-Null Count   Dtype \n",
      "---  ------            --------------   ----- \n",
      " 0   VehicleType       238092 non-null  object\n",
      " 1   RegistrationYear  238092 non-null  int64 \n",
      " 2   Power             238092 non-null  int64 \n",
      " 3   Model             238092 non-null  object\n",
      " 4   Kilometer         238092 non-null  int64 \n",
      " 5   FuelType          238092 non-null  object\n",
      " 6   Brand             238092 non-null  object\n",
      " 7   Price             238092 non-null  int64 \n",
      " 8   Gearbox_bool      238092 non-null  int64 \n",
      " 9   NotRepaired_bool  238092 non-null  int64 \n",
      "dtypes: int64(6), object(4)\n",
      "memory usage: 20.0+ MB\n"
     ]
    },
    {
     "data": {
      "image/png": "[encoded data removed]",
      "text/plain": [
       "<Figure size 1080x576 with 1 Axes>"
      ]
     },
     "metadata": {
      "needs_background": "light"
     },
     "output_type": "display_data"
    }
   ],
   "source": [
    "df = df.query('500 <= Price <= 15200')\n",
    "df['Price'].hist(bins=100, figsize=(15,8))\n",
    "df.info()"
   ]
  },
  {
   "cell_type": "markdown",
   "metadata": {},
   "source": [
    "### Вывод\n",
    "Создал df с нужными столбцами.\n",
    "Изучил и подготовил данные: в столбце 'NotRepaired' заменил NaN на 'yes' и удалил нереальные значения в столбцах 'Power' и RegistrationYear'. Также удалил строки, у которых процент пропусков меньше 1%. И выделил цены на авто."
   ]
  },
  {
   "cell_type": "markdown",
   "metadata": {},
   "source": [
    "<div class=\"alert alert-block alert-success\">\n",
    "<b>Успех:</b> Хорошо, что распределения были визуализирвоаны и аномалии были обработаны!\n",
    "</div>"
   ]
  },
  {
   "cell_type": "markdown",
   "metadata": {},
   "source": [
    "## Обучение моделей"
   ]
  },
  {
   "cell_type": "markdown",
   "metadata": {},
   "source": [
    "Выберем следующие модели:\n",
    "\n",
    "* LinearRegression\n",
    "* CatBoostRegressor\n",
    "* LGBMRegressor"
   ]
  },
  {
   "cell_type": "code",
   "execution_count": 17,
   "metadata": {},
   "outputs": [],
   "source": [
    "features = df.drop('Price', axis=1)\n",
    "target = df['Price']\n",
    "\n",
    "\n",
    "#Прямое кодирование\n",
    "encoder = OrdinalEncoder()\n",
    "cat_columns = ['VehicleType','FuelType','Brand','Model']\n",
    "cat_features = features[cat_columns]\n",
    "cat_features = pd.DataFrame(encoder.fit_transform(cat_features),\n",
    "                                columns=cat_features.columns, \n",
    "                                index=cat_features.index)\n",
    "ordinal_features = features.copy()\n",
    "for column in cat_columns:\n",
    "    ordinal_features[column] = cat_features[column]\n",
    "\n",
    "#OHE кодирование\n",
    "ohe_features = pd.get_dummies(features, drop_first=True)\n",
    "\n",
    "\n",
    "\n",
    "features_train, features_test, target_train, target_test = train_test_split(features, target, test_size=0.25, random_state=123)\n",
    "\n",
    "ordinal_features_train = ordinal_features.loc[features_train.index, :]\n",
    "ordinal_features_test = ordinal_features.loc[features_test.index, :]\n",
    "\n",
    "ohe_features_train = ohe_features.loc[features_train.index, :]\n",
    "ohe_features_test = ohe_features.loc[features_test.index, :]\n"
   ]
  },
  {
   "cell_type": "markdown",
   "metadata": {},
   "source": [
    "<div class=\"alert alert-block alert-success\">\n",
    "<b>Успех:</b> Отлично!\n",
    "</div>"
   ]
  },
  {
   "cell_type": "code",
   "execution_count": 18,
   "metadata": {},
   "outputs": [
    {
     "name": "stdout",
     "output_type": "stream",
     "text": [
      "2093.312371788886\n",
      "CPU times: user 45 s, sys: 14.1 s, total: 59.2 s\n",
      "Wall time: 59.1 s\n"
     ]
    }
   ],
   "source": [
    "%%time\n",
    "#Линейная регрессия\n",
    "\n",
    "model_linearReg = LinearRegression()\n",
    "\n",
    "RMSE_LR = (cross_val_score(model_linearReg, \n",
    "                             ohe_features_train, \n",
    "                             target_train, \n",
    "                             cv=5, \n",
    "                             scoring='neg_mean_squared_error').mean() * -1) ** 0.5\n",
    "print(RMSE_LR)"
   ]
  },
  {
   "cell_type": "code",
   "execution_count": 19,
   "metadata": {},
   "outputs": [
    {
     "name": "stdout",
     "output_type": "stream",
     "text": [
      "1427.009201720885\n",
      "CPU times: user 21.3 s, sys: 28.5 ms, total: 21.3 s\n",
      "Wall time: 24.5 s\n"
     ]
    }
   ],
   "source": [
    "%%time\n",
    "#CatBoost\n",
    "\n",
    "model_cat = CatBoostRegressor(learning_rate=0.3,\n",
    "                              iterations = 100,\n",
    "                              random_state=123, \n",
    "                              verbose=False, \n",
    "                              cat_features=['VehicleType','FuelType','Brand','Model']) \n",
    "\n",
    "RMSE_cat = (cross_val_score(model_cat,\n",
    "                                features_train, \n",
    "                                target_train, \n",
    "                                cv=5, \n",
    "                                scoring='neg_mean_squared_error').mean() * -1) ** 0.5\n",
    "print(RMSE_cat)\n"
   ]
  },
  {
   "cell_type": "code",
   "execution_count": 20,
   "metadata": {},
   "outputs": [
    {
     "name": "stdout",
     "output_type": "stream",
     "text": [
      "{'learning_rate': 0.3, 'num_leaves': 150, 'random_state': 12345}\n",
      "1405.182309 for {'learning_rate': 0.1, 'num_leaves': 50, 'random_state': 12345}\n",
      "1369.032444 for {'learning_rate': 0.1, 'num_leaves': 100, 'random_state': 12345}\n",
      "1354.154832 for {'learning_rate': 0.1, 'num_leaves': 150, 'random_state': 12345}\n",
      "1366.508022 for {'learning_rate': 0.3, 'num_leaves': 50, 'random_state': 12345}\n",
      "1346.489061 for {'learning_rate': 0.3, 'num_leaves': 100, 'random_state': 12345}\n",
      "1341.571611 for {'learning_rate': 0.3, 'num_leaves': 150, 'random_state': 12345}\n",
      "1370.549548 for {'learning_rate': 0.5, 'num_leaves': 50, 'random_state': 12345}\n",
      "1363.571555 for {'learning_rate': 0.5, 'num_leaves': 100, 'random_state': 12345}\n",
      "1366.649713 for {'learning_rate': 0.5, 'num_leaves': 150, 'random_state': 12345}\n",
      "\n",
      "1341.5716107883106\n",
      "CPU times: user 4min 32s, sys: 1.94 s, total: 4min 34s\n",
      "Wall time: 4min 38s\n"
     ]
    }
   ],
   "source": [
    "%%time\n",
    "#LGBMRegressor\n",
    "\n",
    "model_LGBM = LGBMRegressor() \n",
    "hyperparams = [{'num_leaves':[50, 100, 150], \n",
    "                'learning_rate':[0.1, 0.3, 0.5],\n",
    "                'random_state':[12345]}]\n",
    "\n",
    "\n",
    "clf = GridSearchCV(model_LGBM, hyperparams, scoring='neg_mean_squared_error')\n",
    "clf.fit(ordinal_features_train, target_train)\n",
    "\n",
    "print(clf.best_params_)\n",
    "\n",
    "means = clf.cv_results_['mean_test_score']\n",
    "stds = clf.cv_results_['std_test_score']\n",
    "for mean, std, params in zip(means, stds, clf.cv_results_['params']):\n",
    "    print(\"%0.6f for %r\"% ((mean*-1)** 0.5, params))\n",
    "print()\n",
    "\n",
    "RMSE_LGBMR = (max(means)*-1) ** 0.5\n",
    "print(RMSE_LGBMR)"
   ]
  },
  {
   "cell_type": "markdown",
   "metadata": {},
   "source": [
    "<div class=\"alert alert-block alert-danger\">\n",
    "<b>Ошибка:</b> Пожалуйста, хотя бы для одной из моделей реализуй подбор параметров.\n",
    "</div>"
   ]
  },
  {
   "cell_type": "markdown",
   "metadata": {},
   "source": [
    "<div class=\"alert alert-block alert-warning\">\n",
    "<b>Комментарий студента:</b> Сделал выше.\n",
    "</div>"
   ]
  },
  {
   "cell_type": "markdown",
   "metadata": {},
   "source": [
    "<div class=\"alert alert-block alert-success\">\n",
    "<b>Успех (ревью 2):</b> Отлично, спасибо!\n",
    "</div>"
   ]
  },
  {
   "cell_type": "markdown",
   "metadata": {},
   "source": [
    "## Анализ моделей"
   ]
  },
  {
   "cell_type": "code",
   "execution_count": 28,
   "metadata": {},
   "outputs": [
    {
     "name": "stdout",
     "output_type": "stream",
     "text": [
      "CPU times: user 14.2 s, sys: 7.78 s, total: 21.9 s\n",
      "Wall time: 21.9 s\n"
     ]
    },
    {
     "data": {
      "text/plain": [
       "LinearRegression()"
      ]
     },
     "execution_count": 28,
     "metadata": {},
     "output_type": "execute_result"
    }
   ],
   "source": [
    "%%time\n",
    "#Линейная регрессия\n",
    "\n",
    "model = LinearRegression()\n",
    "model.fit(ohe_features_train, target_train)"
   ]
  },
  {
   "cell_type": "code",
   "execution_count": 29,
   "metadata": {},
   "outputs": [
    {
     "name": "stdout",
     "output_type": "stream",
     "text": [
      "2078.6934493458825\n",
      "CPU times: user 125 ms, sys: 135 ms, total: 261 ms\n",
      "Wall time: 220 ms\n"
     ]
    }
   ],
   "source": [
    "%%time\n",
    "target_predict = model.predict(ohe_features_test)\n",
    "\n",
    "final_RMSE_LR = mean_squared_error(target_test, target_predict) ** 0.5\n",
    "print(final_RMSE_LR)"
   ]
  },
  {
   "cell_type": "code",
   "execution_count": 30,
   "metadata": {},
   "outputs": [
    {
     "name": "stdout",
     "output_type": "stream",
     "text": [
      "CPU times: user 5.71 s, sys: 45.7 ms, total: 5.75 s\n",
      "Wall time: 6.42 s\n"
     ]
    },
    {
     "data": {
      "text/plain": [
       "<catboost.core.CatBoostRegressor at 0x7f72bbef1e50>"
      ]
     },
     "execution_count": 30,
     "metadata": {},
     "output_type": "execute_result"
    }
   ],
   "source": [
    "%%time\n",
    "#CatBoost\n",
    "\n",
    "model = CatBoostRegressor(learning_rate=0.3, \n",
    "                          iterations = 100, \n",
    "                          random_state=123, \n",
    "                          verbose=False,\n",
    "                          cat_features=['VehicleType','FuelType','Brand','Model']) \n",
    "model.fit(features_train, target_train)"
   ]
  },
  {
   "cell_type": "code",
   "execution_count": 31,
   "metadata": {},
   "outputs": [
    {
     "name": "stdout",
     "output_type": "stream",
     "text": [
      "1413.8373004714847\n",
      "CPU times: user 59.2 ms, sys: 0 ns, total: 59.2 ms\n",
      "Wall time: 56.7 ms\n"
     ]
    }
   ],
   "source": [
    "%%time\n",
    "target_predict = model.predict(features_test)\n",
    "\n",
    "final_RMSE_Cat = mean_squared_error(target_test, target_predict) ** 0.5\n",
    "print(final_RMSE_Cat)"
   ]
  },
  {
   "cell_type": "code",
   "execution_count": 32,
   "metadata": {},
   "outputs": [
    {
     "name": "stdout",
     "output_type": "stream",
     "text": [
      "CPU times: user 1min 5s, sys: 254 ms, total: 1min 5s\n",
      "Wall time: 1min 6s\n"
     ]
    },
    {
     "data": {
      "text/plain": [
       "LGBMRegressor(learning_rate=0.3, num_leaves=150, random_state=12345)"
      ]
     },
     "execution_count": 32,
     "metadata": {},
     "output_type": "execute_result"
    }
   ],
   "source": [
    "%%time\n",
    "#LGBMRegressor\n",
    "model = LGBMRegressor(learning_rate=0.3, \n",
    "                      num_leaves=150, \n",
    "                      random_state=12345)\n",
    "model.fit(ordinal_features_train, target_train)"
   ]
  },
  {
   "cell_type": "code",
   "execution_count": 33,
   "metadata": {},
   "outputs": [
    {
     "name": "stdout",
     "output_type": "stream",
     "text": [
      "1321.3075912687189\n",
      "CPU times: user 529 ms, sys: 1.5 ms, total: 530 ms\n",
      "Wall time: 502 ms\n"
     ]
    }
   ],
   "source": [
    "%%time\n",
    "target_predict = model.predict(ordinal_features_test)\n",
    "\n",
    "final_RMSE_LGBM = mean_squared_error(target_test, target_predict) ** 0.5\n",
    "print(final_RMSE_LGBM)"
   ]
  },
  {
   "cell_type": "code",
   "execution_count": 35,
   "metadata": {},
   "outputs": [
    {
     "data": {
      "text/html": [
       "<div>\n",
       "<style scoped>\n",
       "    .dataframe tbody tr th:only-of-type {\n",
       "        vertical-align: middle;\n",
       "    }\n",
       "\n",
       "    .dataframe tbody tr th {\n",
       "        vertical-align: top;\n",
       "    }\n",
       "\n",
       "    .dataframe thead th {\n",
       "        text-align: right;\n",
       "    }\n",
       "</style>\n",
       "<table border=\"1\" class=\"dataframe\">\n",
       "  <thead>\n",
       "    <tr style=\"text-align: right;\">\n",
       "      <th></th>\n",
       "      <th>Time of learning, sec</th>\n",
       "      <th>Time of prediction, sec</th>\n",
       "      <th>RMSE</th>\n",
       "    </tr>\n",
       "  </thead>\n",
       "  <tbody>\n",
       "    <tr>\n",
       "      <th>LinearRegression</th>\n",
       "      <td>21.90</td>\n",
       "      <td>0.220</td>\n",
       "      <td>2078.69</td>\n",
       "    </tr>\n",
       "    <tr>\n",
       "      <th>CatBoost</th>\n",
       "      <td>6.42</td>\n",
       "      <td>0.056</td>\n",
       "      <td>1413.84</td>\n",
       "    </tr>\n",
       "    <tr>\n",
       "      <th>LGBMRegressor</th>\n",
       "      <td>66.00</td>\n",
       "      <td>0.502</td>\n",
       "      <td>1321.31</td>\n",
       "    </tr>\n",
       "  </tbody>\n",
       "</table>\n",
       "</div>"
      ],
      "text/plain": [
       "                  Time of learning, sec  Time of prediction, sec     RMSE\n",
       "LinearRegression                  21.90                    0.220  2078.69\n",
       "CatBoost                           6.42                    0.056  1413.84\n",
       "LGBMRegressor                     66.00                    0.502  1321.31"
      ]
     },
     "execution_count": 35,
     "metadata": {},
     "output_type": "execute_result"
    }
   ],
   "source": [
    "index = ['LinearRegression',\n",
    "         'CatBoost',\n",
    "         'LGBMRegressor']\n",
    "\n",
    "data = {'Time of learning, sec':[21.9, 6.42, 66], 'Time of prediction, sec':[0.22, 0.056, 0.502], 'RMSE':[2078.69, 1413.84, 1321.31]}\n",
    "\n",
    "result = pd.DataFrame(data=data, index=index)\n",
    "result"
   ]
  },
  {
   "cell_type": "markdown",
   "metadata": {},
   "source": [
    "<div class=\"alert alert-block alert-info\">\n",
    "<b>Совет: </b> Желательно было разбить время на части (обучение/предсказание). Все показатели(время обучения, время предсказания и качество) желательно было собрать в одной таблице. Так было бы проще сравнивать.\n",
    "</div>"
   ]
  },
  {
   "cell_type": "markdown",
   "metadata": {},
   "source": [
    "<div class=\"alert alert-block alert-warning\">\n",
    "<b>Комментарий студента:</b> Сделал выше.\n",
    "</div>"
   ]
  },
  {
   "cell_type": "markdown",
   "metadata": {},
   "source": [
    "<div class=\"alert alert-block alert-success\">\n",
    "<b>Успех (ревью 2):</b> Молодец!\n",
    "</div>"
   ]
  },
  {
   "cell_type": "markdown",
   "metadata": {},
   "source": [
    "## Вывод"
   ]
  },
  {
   "cell_type": "markdown",
   "metadata": {},
   "source": [
    "В начале работы я создал df с нужными столбцами. Изучил и подготовил данные.\n",
    "\n",
    "После выбрал следующие модели:\n",
    "* LinearRegression\n",
    "* CatBoostRegressor\n",
    "* LGBMRegressor\n",
    "\n",
    "Лучшей моделью оказалась: LGBMRegressor"
   ]
  },
  {
   "cell_type": "markdown",
   "metadata": {},
   "source": [
    "<div class=\"alert alert-block alert-success\">\n",
    "<b>Успех:</b> Приятно видеть вывод в конце проекта!\n",
    "</div>"
   ]
  },
  {
   "cell_type": "markdown",
   "metadata": {},
   "source": [
    "## Чек-лист проверки"
   ]
  },
  {
   "cell_type": "markdown",
   "metadata": {},
   "source": [
    "Поставьте 'x' в выполненных пунктах. Далее нажмите Shift+Enter."
   ]
  },
  {
   "cell_type": "markdown",
   "metadata": {},
   "source": [
    "- [x]  Jupyter Notebook открыт\n",
    "- [ ]  Весь код выполняется без ошибок\n",
    "- [ ]  Ячейки с кодом расположены в порядке исполнения\n",
    "- [ ]  Выполнена загрузка и подготовка данных\n",
    "- [ ]  Выполнено обучение моделей\n",
    "- [ ]  Есть анализ скорости работы и качества моделей"
   ]
  },
  {
   "cell_type": "code",
   "execution_count": null,
   "metadata": {},
   "outputs": [],
   "source": []
  }
 ],
 "metadata": {
  "ExecuteTimeLog": [
   {
    "duration": 431,
    "start_time": "2022-04-04T19:37:11.720Z"
   },
   {
    "duration": 959,
    "start_time": "2022-04-04T19:37:33.480Z"
   },
   {
    "duration": 850,
    "start_time": "2022-04-04T19:37:41.559Z"
   },
   {
    "duration": 127,
    "start_time": "2022-04-04T19:38:09.733Z"
   },
   {
    "duration": 937,
    "start_time": "2022-04-04T19:39:03.526Z"
   },
   {
    "duration": 61,
    "start_time": "2022-04-04T19:40:26.680Z"
   },
   {
    "duration": 2,
    "start_time": "2022-04-04T19:40:46.961Z"
   },
   {
    "duration": 5,
    "start_time": "2022-04-04T19:40:49.880Z"
   },
   {
    "duration": 17,
    "start_time": "2022-04-04T19:41:44.279Z"
   },
   {
    "duration": 16,
    "start_time": "2022-04-04T19:41:56.641Z"
   },
   {
    "duration": 15,
    "start_time": "2022-04-04T19:42:19.847Z"
   },
   {
    "duration": 9,
    "start_time": "2022-04-04T19:43:12.800Z"
   },
   {
    "duration": 990,
    "start_time": "2022-04-04T19:43:34.320Z"
   },
   {
    "duration": 7,
    "start_time": "2022-04-04T19:44:10.154Z"
   },
   {
    "duration": 5,
    "start_time": "2022-04-04T19:44:20.129Z"
   },
   {
    "duration": 126,
    "start_time": "2022-04-04T19:44:22.879Z"
   },
   {
    "duration": 127,
    "start_time": "2022-04-04T19:46:10.609Z"
   },
   {
    "duration": 136,
    "start_time": "2022-04-04T19:46:24.988Z"
   },
   {
    "duration": 7,
    "start_time": "2022-04-04T19:48:20.324Z"
   },
   {
    "duration": 288,
    "start_time": "2022-04-04T19:48:49.650Z"
   },
   {
    "duration": 338,
    "start_time": "2022-04-04T19:49:02.019Z"
   },
   {
    "duration": 323,
    "start_time": "2022-04-04T19:49:08.530Z"
   },
   {
    "duration": 319,
    "start_time": "2022-04-04T19:49:44.031Z"
   },
   {
    "duration": 300,
    "start_time": "2022-04-04T19:49:50.418Z"
   },
   {
    "duration": 304,
    "start_time": "2022-04-04T19:49:53.447Z"
   },
   {
    "duration": 917,
    "start_time": "2022-04-04T20:01:00.407Z"
   },
   {
    "duration": 128,
    "start_time": "2022-04-04T20:01:10.147Z"
   },
   {
    "duration": 318,
    "start_time": "2022-04-04T20:01:14.457Z"
   },
   {
    "duration": 96,
    "start_time": "2022-04-04T20:03:45.580Z"
   },
   {
    "duration": 27,
    "start_time": "2022-04-04T20:03:53.568Z"
   },
   {
    "duration": 107,
    "start_time": "2022-04-04T20:04:32.615Z"
   },
   {
    "duration": 117,
    "start_time": "2022-04-04T20:09:12.409Z"
   },
   {
    "duration": 93,
    "start_time": "2022-04-04T20:24:46.770Z"
   },
   {
    "duration": 420,
    "start_time": "2022-04-04T20:25:49.419Z"
   },
   {
    "duration": 989,
    "start_time": "2022-04-04T20:25:49.841Z"
   },
   {
    "duration": 67,
    "start_time": "2022-04-04T20:25:50.832Z"
   },
   {
    "duration": 0,
    "start_time": "2022-04-04T20:25:50.901Z"
   },
   {
    "duration": 0,
    "start_time": "2022-04-04T20:25:50.902Z"
   },
   {
    "duration": 0,
    "start_time": "2022-04-04T20:25:50.903Z"
   },
   {
    "duration": 8,
    "start_time": "2022-04-04T20:26:04.273Z"
   },
   {
    "duration": 124,
    "start_time": "2022-04-04T20:26:09.658Z"
   },
   {
    "duration": 343,
    "start_time": "2022-04-04T20:26:15.051Z"
   },
   {
    "duration": 121,
    "start_time": "2022-04-04T20:26:18.506Z"
   },
   {
    "duration": 101,
    "start_time": "2022-04-04T20:26:20.984Z"
   },
   {
    "duration": 17,
    "start_time": "2022-04-04T20:26:44.818Z"
   },
   {
    "duration": 667,
    "start_time": "2022-04-04T20:28:52.225Z"
   },
   {
    "duration": 1029,
    "start_time": "2022-04-04T20:29:18.585Z"
   },
   {
    "duration": 258,
    "start_time": "2022-04-04T20:29:54.658Z"
   },
   {
    "duration": 159,
    "start_time": "2022-04-04T20:30:00.900Z"
   },
   {
    "duration": 230,
    "start_time": "2022-04-04T20:30:07.980Z"
   },
   {
    "duration": 192,
    "start_time": "2022-04-04T20:30:13.019Z"
   },
   {
    "duration": 442,
    "start_time": "2022-04-04T20:30:17.178Z"
   },
   {
    "duration": 281,
    "start_time": "2022-04-04T20:30:21.780Z"
   },
   {
    "duration": 40,
    "start_time": "2022-04-04T20:30:54.307Z"
   },
   {
    "duration": 341,
    "start_time": "2022-04-04T20:31:01.779Z"
   },
   {
    "duration": 332,
    "start_time": "2022-04-04T20:31:24.658Z"
   },
   {
    "duration": 432,
    "start_time": "2022-04-04T20:31:30.418Z"
   },
   {
    "duration": 310,
    "start_time": "2022-04-04T20:31:37.218Z"
   },
   {
    "duration": 316,
    "start_time": "2022-04-04T20:31:43.113Z"
   },
   {
    "duration": 22,
    "start_time": "2022-04-04T20:31:52.063Z"
   },
   {
    "duration": 335,
    "start_time": "2022-04-04T20:32:10.425Z"
   },
   {
    "duration": 377,
    "start_time": "2022-04-04T20:32:17.979Z"
   },
   {
    "duration": 973,
    "start_time": "2022-04-04T20:32:18.358Z"
   },
   {
    "duration": 138,
    "start_time": "2022-04-04T20:32:19.337Z"
   },
   {
    "duration": 341,
    "start_time": "2022-04-04T20:32:19.478Z"
   },
   {
    "duration": 136,
    "start_time": "2022-04-04T20:32:19.821Z"
   },
   {
    "duration": 22,
    "start_time": "2022-04-04T20:32:19.958Z"
   },
   {
    "duration": 577,
    "start_time": "2022-04-04T20:32:19.982Z"
   },
   {
    "duration": 434,
    "start_time": "2022-04-04T20:32:20.561Z"
   },
   {
    "duration": 357,
    "start_time": "2022-04-04T20:33:05.170Z"
   },
   {
    "duration": 346,
    "start_time": "2022-04-04T20:33:17.970Z"
   },
   {
    "duration": 347,
    "start_time": "2022-04-04T20:33:49.731Z"
   },
   {
    "duration": 775,
    "start_time": "2022-04-04T20:35:05.213Z"
   },
   {
    "duration": 3,
    "start_time": "2022-04-04T20:35:41.059Z"
   },
   {
    "duration": 3,
    "start_time": "2022-04-04T20:35:43.533Z"
   },
   {
    "duration": 1060,
    "start_time": "2022-04-04T20:35:58.452Z"
   },
   {
    "duration": 239,
    "start_time": "2022-04-04T20:38:44.411Z"
   },
   {
    "duration": 668,
    "start_time": "2022-04-04T20:39:39.576Z"
   },
   {
    "duration": 813,
    "start_time": "2022-04-04T20:40:16.378Z"
   },
   {
    "duration": 965,
    "start_time": "2022-04-04T20:40:25.856Z"
   },
   {
    "duration": 854,
    "start_time": "2022-04-04T20:40:32.453Z"
   },
   {
    "duration": 679,
    "start_time": "2022-04-04T20:40:37.808Z"
   },
   {
    "duration": 967,
    "start_time": "2022-04-04T20:40:38.489Z"
   },
   {
    "duration": 130,
    "start_time": "2022-04-04T20:40:39.457Z"
   },
   {
    "duration": 308,
    "start_time": "2022-04-04T20:40:39.589Z"
   },
   {
    "duration": 120,
    "start_time": "2022-04-04T20:40:39.899Z"
   },
   {
    "duration": 30,
    "start_time": "2022-04-04T20:40:40.020Z"
   },
   {
    "duration": 1090,
    "start_time": "2022-04-04T20:40:40.052Z"
   },
   {
    "duration": 809,
    "start_time": "2022-04-04T20:40:41.144Z"
   },
   {
    "duration": 619,
    "start_time": "2022-04-04T20:40:57.985Z"
   },
   {
    "duration": 951,
    "start_time": "2022-04-04T20:40:58.606Z"
   },
   {
    "duration": 135,
    "start_time": "2022-04-04T20:40:59.559Z"
   },
   {
    "duration": 316,
    "start_time": "2022-04-04T20:40:59.696Z"
   },
   {
    "duration": 137,
    "start_time": "2022-04-04T20:41:00.015Z"
   },
   {
    "duration": 20,
    "start_time": "2022-04-04T20:41:00.153Z"
   },
   {
    "duration": 1096,
    "start_time": "2022-04-04T20:41:00.175Z"
   },
   {
    "duration": 846,
    "start_time": "2022-04-04T20:41:01.273Z"
   },
   {
    "duration": 904,
    "start_time": "2022-04-04T20:41:29.057Z"
   },
   {
    "duration": 613,
    "start_time": "2022-04-04T20:41:39.186Z"
   },
   {
    "duration": 972,
    "start_time": "2022-04-04T20:41:39.801Z"
   },
   {
    "duration": 140,
    "start_time": "2022-04-04T20:41:40.774Z"
   },
   {
    "duration": 307,
    "start_time": "2022-04-04T20:41:40.915Z"
   },
   {
    "duration": 127,
    "start_time": "2022-04-04T20:41:41.224Z"
   },
   {
    "duration": 19,
    "start_time": "2022-04-04T20:41:41.353Z"
   },
   {
    "duration": 1086,
    "start_time": "2022-04-04T20:41:41.374Z"
   },
   {
    "duration": 802,
    "start_time": "2022-04-04T20:41:42.462Z"
   },
   {
    "duration": 674,
    "start_time": "2022-04-04T20:41:59.423Z"
   },
   {
    "duration": 952,
    "start_time": "2022-04-04T20:42:00.099Z"
   },
   {
    "duration": 133,
    "start_time": "2022-04-04T20:42:01.053Z"
   },
   {
    "duration": 335,
    "start_time": "2022-04-04T20:42:01.188Z"
   },
   {
    "duration": 129,
    "start_time": "2022-04-04T20:42:01.526Z"
   },
   {
    "duration": 21,
    "start_time": "2022-04-04T20:42:01.657Z"
   },
   {
    "duration": 1148,
    "start_time": "2022-04-04T20:42:01.679Z"
   },
   {
    "duration": 833,
    "start_time": "2022-04-04T20:42:02.829Z"
   },
   {
    "duration": 686,
    "start_time": "2022-04-04T20:42:16.213Z"
   },
   {
    "duration": 980,
    "start_time": "2022-04-04T20:42:16.901Z"
   },
   {
    "duration": 136,
    "start_time": "2022-04-04T20:42:17.883Z"
   },
   {
    "duration": 337,
    "start_time": "2022-04-04T20:42:18.022Z"
   },
   {
    "duration": 125,
    "start_time": "2022-04-04T20:42:18.361Z"
   },
   {
    "duration": 22,
    "start_time": "2022-04-04T20:42:18.489Z"
   },
   {
    "duration": 1155,
    "start_time": "2022-04-04T20:42:18.513Z"
   },
   {
    "duration": 855,
    "start_time": "2022-04-04T20:42:19.670Z"
   },
   {
    "duration": 11,
    "start_time": "2022-04-04T21:21:31.494Z"
   },
   {
    "duration": 74,
    "start_time": "2022-04-04T21:24:18.213Z"
   },
   {
    "duration": 11,
    "start_time": "2022-04-04T21:24:25.921Z"
   },
   {
    "duration": 772,
    "start_time": "2022-04-04T21:30:50.434Z"
   },
   {
    "duration": 1252,
    "start_time": "2022-04-04T21:32:44.457Z"
   },
   {
    "duration": 5,
    "start_time": "2022-04-04T21:34:55.573Z"
   },
   {
    "duration": 88142,
    "start_time": "2022-04-04T21:35:11.402Z"
   },
   {
    "duration": 5,
    "start_time": "2022-04-04T21:38:02.052Z"
   },
   {
    "duration": 88795,
    "start_time": "2022-04-04T21:38:31.750Z"
   },
   {
    "duration": 87927,
    "start_time": "2022-04-04T21:41:09.913Z"
   },
   {
    "duration": 88186,
    "start_time": "2022-04-04T21:42:44.061Z"
   },
   {
    "duration": 89271,
    "start_time": "2022-04-04T21:46:13.174Z"
   },
   {
    "duration": 86,
    "start_time": "2022-04-04T21:48:31.173Z"
   },
   {
    "duration": 1506,
    "start_time": "2022-04-04T21:49:03.755Z"
   },
   {
    "duration": 1441,
    "start_time": "2022-04-04T21:50:46.760Z"
   },
   {
    "duration": 1699,
    "start_time": "2022-04-04T21:51:08.883Z"
   },
   {
    "duration": 110,
    "start_time": "2022-04-04T21:52:01.474Z"
   },
   {
    "duration": 9057,
    "start_time": "2022-04-04T21:52:12.280Z"
   },
   {
    "duration": 1712,
    "start_time": "2022-04-04T21:52:55.069Z"
   },
   {
    "duration": 1220,
    "start_time": "2022-04-04T21:58:30.212Z"
   },
   {
    "duration": 16,
    "start_time": "2022-04-04T22:10:20.026Z"
   },
   {
    "duration": 1403,
    "start_time": "2022-04-04T22:14:05.395Z"
   },
   {
    "duration": 993,
    "start_time": "2022-04-04T22:14:06.800Z"
   },
   {
    "duration": 133,
    "start_time": "2022-04-04T22:14:07.795Z"
   },
   {
    "duration": 335,
    "start_time": "2022-04-04T22:14:07.937Z"
   },
   {
    "duration": 136,
    "start_time": "2022-04-04T22:14:08.273Z"
   },
   {
    "duration": 35,
    "start_time": "2022-04-04T22:14:08.410Z"
   },
   {
    "duration": 1123,
    "start_time": "2022-04-04T22:14:08.447Z"
   },
   {
    "duration": 817,
    "start_time": "2022-04-04T22:14:09.571Z"
   },
   {
    "duration": 915,
    "start_time": "2022-04-04T22:14:10.390Z"
   },
   {
    "duration": 0,
    "start_time": "2022-04-04T22:14:11.307Z"
   },
   {
    "duration": 0,
    "start_time": "2022-04-04T22:14:11.308Z"
   },
   {
    "duration": 0,
    "start_time": "2022-04-04T22:14:11.309Z"
   },
   {
    "duration": 4,
    "start_time": "2022-04-04T22:14:48.890Z"
   },
   {
    "duration": 866,
    "start_time": "2022-04-04T22:14:53.548Z"
   },
   {
    "duration": 72,
    "start_time": "2022-04-04T22:15:27.766Z"
   },
   {
    "duration": 1417,
    "start_time": "2022-04-04T22:16:51.738Z"
   },
   {
    "duration": 945,
    "start_time": "2022-04-04T22:16:53.157Z"
   },
   {
    "duration": 134,
    "start_time": "2022-04-04T22:16:54.104Z"
   },
   {
    "duration": 346,
    "start_time": "2022-04-04T22:16:54.240Z"
   },
   {
    "duration": 134,
    "start_time": "2022-04-04T22:16:54.588Z"
   },
   {
    "duration": 26,
    "start_time": "2022-04-04T22:16:54.723Z"
   },
   {
    "duration": 1103,
    "start_time": "2022-04-04T22:16:54.750Z"
   },
   {
    "duration": 813,
    "start_time": "2022-04-04T22:16:55.855Z"
   },
   {
    "duration": 75,
    "start_time": "2022-04-04T22:16:56.670Z"
   },
   {
    "duration": 109,
    "start_time": "2022-04-04T22:16:56.746Z"
   },
   {
    "duration": 853,
    "start_time": "2022-04-04T22:16:56.857Z"
   },
   {
    "duration": 0,
    "start_time": "2022-04-04T22:16:57.711Z"
   },
   {
    "duration": 0,
    "start_time": "2022-04-04T22:16:57.713Z"
   },
   {
    "duration": 0,
    "start_time": "2022-04-04T22:16:57.713Z"
   },
   {
    "duration": 130,
    "start_time": "2022-04-04T22:17:33.831Z"
   },
   {
    "duration": 73,
    "start_time": "2022-04-04T22:17:58.477Z"
   },
   {
    "duration": 96,
    "start_time": "2022-04-04T22:18:25.580Z"
   },
   {
    "duration": 94,
    "start_time": "2022-04-04T22:18:30.587Z"
   },
   {
    "duration": 71,
    "start_time": "2022-04-04T22:18:31.929Z"
   },
   {
    "duration": 1037,
    "start_time": "2022-04-04T22:18:38.389Z"
   },
   {
    "duration": 11,
    "start_time": "2022-04-04T22:19:07.593Z"
   },
   {
    "duration": 898,
    "start_time": "2022-04-04T22:19:22.533Z"
   },
   {
    "duration": 1270,
    "start_time": "2022-04-04T22:19:48.512Z"
   },
   {
    "duration": 1786,
    "start_time": "2022-04-04T22:19:54.523Z"
   },
   {
    "duration": 1985,
    "start_time": "2022-04-04T22:20:24.267Z"
   },
   {
    "duration": 58,
    "start_time": "2022-04-04T22:21:55.026Z"
   },
   {
    "duration": 92,
    "start_time": "2022-04-04T22:22:01.054Z"
   },
   {
    "duration": 1364,
    "start_time": "2022-04-04T22:22:05.397Z"
   },
   {
    "duration": 2322,
    "start_time": "2022-04-04T22:22:08.115Z"
   },
   {
    "duration": 882,
    "start_time": "2022-04-04T22:22:12.907Z"
   },
   {
    "duration": 98,
    "start_time": "2022-04-04T22:23:16.342Z"
   },
   {
    "duration": 1312,
    "start_time": "2022-04-04T22:23:20.034Z"
   },
   {
    "duration": 23476,
    "start_time": "2022-04-04T22:23:22.947Z"
   },
   {
    "duration": 1408,
    "start_time": "2022-04-04T22:24:06.280Z"
   },
   {
    "duration": 940,
    "start_time": "2022-04-04T22:24:07.691Z"
   },
   {
    "duration": 131,
    "start_time": "2022-04-04T22:24:08.632Z"
   },
   {
    "duration": 356,
    "start_time": "2022-04-04T22:24:08.765Z"
   },
   {
    "duration": 140,
    "start_time": "2022-04-04T22:24:09.125Z"
   },
   {
    "duration": 21,
    "start_time": "2022-04-04T22:24:09.268Z"
   },
   {
    "duration": 1133,
    "start_time": "2022-04-04T22:24:09.290Z"
   },
   {
    "duration": 812,
    "start_time": "2022-04-04T22:24:10.425Z"
   },
   {
    "duration": 71,
    "start_time": "2022-04-04T22:24:11.239Z"
   },
   {
    "duration": 97,
    "start_time": "2022-04-04T22:24:11.312Z"
   },
   {
    "duration": 98,
    "start_time": "2022-04-04T22:24:11.411Z"
   },
   {
    "duration": 117,
    "start_time": "2022-04-04T22:24:11.510Z"
   },
   {
    "duration": 1221,
    "start_time": "2022-04-04T22:24:11.638Z"
   },
   {
    "duration": 73378,
    "start_time": "2022-04-04T22:24:12.862Z"
   },
   {
    "duration": 116668,
    "start_time": "2022-04-04T22:25:26.242Z"
   },
   {
    "duration": 44676,
    "start_time": "2022-04-04T22:27:22.911Z"
   },
   {
    "duration": 2891,
    "start_time": "2022-04-05T07:18:36.003Z"
   },
   {
    "duration": 1719,
    "start_time": "2022-04-05T07:18:38.897Z"
   },
   {
    "duration": 277,
    "start_time": "2022-04-05T07:18:41.515Z"
   },
   {
    "duration": 616,
    "start_time": "2022-04-05T07:18:43.770Z"
   },
   {
    "duration": 165,
    "start_time": "2022-04-05T07:18:47.123Z"
   },
   {
    "duration": 27,
    "start_time": "2022-04-05T07:18:57.093Z"
   },
   {
    "duration": 154,
    "start_time": "2022-04-05T07:18:58.454Z"
   },
   {
    "duration": 1802,
    "start_time": "2022-04-05T07:19:26.902Z"
   },
   {
    "duration": 1404,
    "start_time": "2022-04-05T07:19:31.688Z"
   },
   {
    "duration": 56,
    "start_time": "2022-04-05T07:19:34.537Z"
   },
   {
    "duration": 87,
    "start_time": "2022-04-05T07:19:36.807Z"
   },
   {
    "duration": 2359,
    "start_time": "2022-04-05T07:20:08.764Z"
   },
   {
    "duration": 24,
    "start_time": "2022-04-05T07:20:39.110Z"
   },
   {
    "duration": 2563,
    "start_time": "2022-04-05T07:20:53.746Z"
   },
   {
    "duration": 1724,
    "start_time": "2022-04-05T07:20:56.312Z"
   },
   {
    "duration": 294,
    "start_time": "2022-04-05T07:20:58.039Z"
   },
   {
    "duration": 617,
    "start_time": "2022-04-05T07:20:58.336Z"
   },
   {
    "duration": 254,
    "start_time": "2022-04-05T07:21:02.550Z"
   },
   {
    "duration": 41,
    "start_time": "2022-04-05T07:21:05.730Z"
   },
   {
    "duration": 151,
    "start_time": "2022-04-05T07:21:07.164Z"
   },
   {
    "duration": 2329,
    "start_time": "2022-04-05T07:21:08.054Z"
   },
   {
    "duration": 1702,
    "start_time": "2022-04-05T07:21:10.386Z"
   },
   {
    "duration": 52,
    "start_time": "2022-04-05T07:21:12.090Z"
   },
   {
    "duration": 100,
    "start_time": "2022-04-05T07:21:12.144Z"
   },
   {
    "duration": 136,
    "start_time": "2022-04-05T07:21:12.577Z"
   },
   {
    "duration": 2480,
    "start_time": "2022-04-05T07:21:35.194Z"
   },
   {
    "duration": 1805,
    "start_time": "2022-04-05T07:21:37.677Z"
   },
   {
    "duration": 309,
    "start_time": "2022-04-05T07:21:39.485Z"
   },
   {
    "duration": 457,
    "start_time": "2022-04-05T07:21:39.797Z"
   },
   {
    "duration": 249,
    "start_time": "2022-04-05T07:21:40.257Z"
   },
   {
    "duration": 41,
    "start_time": "2022-04-05T07:21:42.012Z"
   },
   {
    "duration": 237,
    "start_time": "2022-04-05T07:21:42.732Z"
   },
   {
    "duration": 2487,
    "start_time": "2022-04-05T07:21:43.378Z"
   },
   {
    "duration": 1409,
    "start_time": "2022-04-05T07:21:45.868Z"
   },
   {
    "duration": 54,
    "start_time": "2022-04-05T07:21:47.279Z"
   },
   {
    "duration": 103,
    "start_time": "2022-04-05T07:21:47.335Z"
   },
   {
    "duration": 33,
    "start_time": "2022-04-05T07:21:49.608Z"
   },
   {
    "duration": 12,
    "start_time": "2022-04-05T07:24:06.804Z"
   },
   {
    "duration": 489,
    "start_time": "2022-04-05T07:25:15.965Z"
   },
   {
    "duration": 13,
    "start_time": "2022-04-05T07:26:43.609Z"
   },
   {
    "duration": 13,
    "start_time": "2022-04-05T07:27:06.318Z"
   },
   {
    "duration": 628,
    "start_time": "2022-04-05T07:28:17.767Z"
   },
   {
    "duration": 6,
    "start_time": "2022-04-05T08:21:36.297Z"
   },
   {
    "duration": 1252,
    "start_time": "2022-04-05T08:21:36.810Z"
   },
   {
    "duration": 181,
    "start_time": "2022-04-05T08:21:38.072Z"
   },
   {
    "duration": 431,
    "start_time": "2022-04-05T08:21:38.590Z"
   },
   {
    "duration": 164,
    "start_time": "2022-04-05T08:21:40.644Z"
   },
   {
    "duration": 2180,
    "start_time": "2022-04-05T08:21:49.919Z"
   },
   {
    "duration": 1335,
    "start_time": "2022-04-05T08:21:52.591Z"
   },
   {
    "duration": 280,
    "start_time": "2022-04-05T08:21:53.928Z"
   },
   {
    "duration": 642,
    "start_time": "2022-04-05T08:21:54.468Z"
   },
   {
    "duration": 248,
    "start_time": "2022-04-05T08:21:56.709Z"
   },
   {
    "duration": 43,
    "start_time": "2022-04-05T08:21:58.740Z"
   },
   {
    "duration": 244,
    "start_time": "2022-04-05T08:21:59.667Z"
   },
   {
    "duration": 1875,
    "start_time": "2022-04-05T08:22:00.799Z"
   },
   {
    "duration": 2220,
    "start_time": "2022-04-05T08:22:06.099Z"
   },
   {
    "duration": 54,
    "start_time": "2022-04-05T08:22:08.654Z"
   },
   {
    "duration": 87,
    "start_time": "2022-04-05T08:22:10.849Z"
   },
   {
    "duration": 32,
    "start_time": "2022-04-05T08:22:14.605Z"
   },
   {
    "duration": 14,
    "start_time": "2022-04-05T08:22:15.891Z"
   },
   {
    "duration": 501,
    "start_time": "2022-04-05T08:22:19.585Z"
   },
   {
    "duration": 14,
    "start_time": "2022-04-05T08:22:23.781Z"
   },
   {
    "duration": 640,
    "start_time": "2022-04-05T08:22:25.536Z"
   },
   {
    "duration": 1974,
    "start_time": "2022-04-05T08:27:07.821Z"
   },
   {
    "duration": 112679,
    "start_time": "2022-04-05T08:27:27.819Z"
   },
   {
    "duration": 61909,
    "start_time": "2022-04-05T08:29:42.868Z"
   },
   {
    "duration": 64252,
    "start_time": "2022-04-05T08:30:52.959Z"
   },
   {
    "duration": 3133084,
    "start_time": "2022-04-05T08:34:26.964Z"
   },
   {
    "duration": 2075,
    "start_time": "2022-04-05T09:27:06.701Z"
   },
   {
    "duration": 1250,
    "start_time": "2022-04-05T09:27:08.779Z"
   },
   {
    "duration": 176,
    "start_time": "2022-04-05T09:27:10.031Z"
   },
   {
    "duration": 439,
    "start_time": "2022-04-05T09:27:10.211Z"
   },
   {
    "duration": 169,
    "start_time": "2022-04-05T09:27:10.652Z"
   },
   {
    "duration": 27,
    "start_time": "2022-04-05T09:27:10.823Z"
   },
   {
    "duration": 172,
    "start_time": "2022-04-05T09:27:10.852Z"
   },
   {
    "duration": 1834,
    "start_time": "2022-04-05T09:27:11.026Z"
   },
   {
    "duration": 1420,
    "start_time": "2022-04-05T09:27:12.863Z"
   },
   {
    "duration": 54,
    "start_time": "2022-04-05T09:27:14.287Z"
   },
   {
    "duration": 103,
    "start_time": "2022-04-05T09:27:14.344Z"
   },
   {
    "duration": 48,
    "start_time": "2022-04-05T09:27:14.449Z"
   },
   {
    "duration": 13,
    "start_time": "2022-04-05T09:27:14.500Z"
   },
   {
    "duration": 521,
    "start_time": "2022-04-05T09:27:14.515Z"
   },
   {
    "duration": 15,
    "start_time": "2022-04-05T09:27:15.039Z"
   },
   {
    "duration": 859,
    "start_time": "2022-04-05T09:27:15.073Z"
   },
   {
    "duration": 1931,
    "start_time": "2022-04-05T09:27:15.935Z"
   },
   {
    "duration": 116204,
    "start_time": "2022-04-05T09:27:17.873Z"
   },
   {
    "duration": 64640,
    "start_time": "2022-04-05T09:29:14.080Z"
   },
   {
    "duration": 1058066,
    "start_time": "2022-04-05T09:30:18.723Z"
   },
   {
    "duration": 2115,
    "start_time": "2022-04-05T09:48:03.339Z"
   },
   {
    "duration": 1289,
    "start_time": "2022-04-05T09:48:05.457Z"
   },
   {
    "duration": 184,
    "start_time": "2022-04-05T09:48:06.749Z"
   },
   {
    "duration": 475,
    "start_time": "2022-04-05T09:48:06.937Z"
   },
   {
    "duration": 184,
    "start_time": "2022-04-05T09:48:07.415Z"
   },
   {
    "duration": 29,
    "start_time": "2022-04-05T09:48:08.125Z"
   },
   {
    "duration": 165,
    "start_time": "2022-04-05T09:48:08.763Z"
   },
   {
    "duration": 1834,
    "start_time": "2022-04-05T09:48:09.269Z"
   },
   {
    "duration": 1427,
    "start_time": "2022-04-05T09:48:11.105Z"
   },
   {
    "duration": 68,
    "start_time": "2022-04-05T09:48:12.534Z"
   },
   {
    "duration": 91,
    "start_time": "2022-04-05T09:48:12.606Z"
   },
   {
    "duration": 34,
    "start_time": "2022-04-05T09:48:12.700Z"
   },
   {
    "duration": 42,
    "start_time": "2022-04-05T09:48:12.736Z"
   },
   {
    "duration": 516,
    "start_time": "2022-04-05T09:48:12.780Z"
   },
   {
    "duration": 14,
    "start_time": "2022-04-05T09:48:13.298Z"
   },
   {
    "duration": 752,
    "start_time": "2022-04-05T09:48:13.314Z"
   },
   {
    "duration": 1533,
    "start_time": "2022-04-05T09:48:14.069Z"
   },
   {
    "duration": 113573,
    "start_time": "2022-04-05T09:48:15.605Z"
   },
   {
    "duration": 64306,
    "start_time": "2022-04-05T09:50:09.184Z"
   },
   {
    "duration": 149,
    "start_time": "2022-04-05T09:51:57.173Z"
   },
   {
    "duration": 2055,
    "start_time": "2022-04-05T10:32:45.309Z"
   },
   {
    "duration": 1311,
    "start_time": "2022-04-05T10:32:47.367Z"
   },
   {
    "duration": 189,
    "start_time": "2022-04-05T10:32:48.680Z"
   },
   {
    "duration": 481,
    "start_time": "2022-04-05T10:32:48.873Z"
   },
   {
    "duration": 181,
    "start_time": "2022-04-05T10:32:49.356Z"
   },
   {
    "duration": 47,
    "start_time": "2022-04-05T10:32:49.541Z"
   },
   {
    "duration": 181,
    "start_time": "2022-04-05T10:32:49.591Z"
   },
   {
    "duration": 2036,
    "start_time": "2022-04-05T10:32:49.774Z"
   },
   {
    "duration": 1456,
    "start_time": "2022-04-05T10:32:51.813Z"
   },
   {
    "duration": 64,
    "start_time": "2022-04-05T10:32:53.278Z"
   },
   {
    "duration": 110,
    "start_time": "2022-04-05T10:32:53.344Z"
   },
   {
    "duration": 44,
    "start_time": "2022-04-05T10:32:53.456Z"
   },
   {
    "duration": 13,
    "start_time": "2022-04-05T10:32:53.502Z"
   },
   {
    "duration": 546,
    "start_time": "2022-04-05T10:32:53.517Z"
   },
   {
    "duration": 17,
    "start_time": "2022-04-05T10:32:54.066Z"
   },
   {
    "duration": 657,
    "start_time": "2022-04-05T10:32:54.086Z"
   },
   {
    "duration": 1467,
    "start_time": "2022-04-05T10:32:54.745Z"
   },
   {
    "duration": 91867,
    "start_time": "2022-04-05T10:32:56.214Z"
   },
   {
    "duration": 61177,
    "start_time": "2022-04-05T10:34:28.083Z"
   },
   {
    "duration": 3,
    "start_time": "2022-04-05T10:35:29.263Z"
   },
   {
    "duration": 20008,
    "start_time": "2022-04-05T10:35:29.268Z"
   },
   {
    "duration": 386,
    "start_time": "2022-04-05T10:35:49.280Z"
   },
   {
    "duration": 15017,
    "start_time": "2022-04-05T10:35:49.668Z"
   },
   {
    "duration": 15197,
    "start_time": "2022-04-05T10:36:11.899Z"
   },
   {
    "duration": 1645,
    "start_time": "2022-04-06T13:53:56.298Z"
   },
   {
    "duration": 892,
    "start_time": "2022-04-06T13:53:59.943Z"
   },
   {
    "duration": 128,
    "start_time": "2022-04-06T13:54:01.744Z"
   },
   {
    "duration": 291,
    "start_time": "2022-04-06T13:54:02.312Z"
   },
   {
    "duration": 116,
    "start_time": "2022-04-06T13:54:03.482Z"
   },
   {
    "duration": 23,
    "start_time": "2022-04-06T13:54:05.367Z"
   },
   {
    "duration": 108,
    "start_time": "2022-04-06T13:54:05.869Z"
   },
   {
    "duration": 1095,
    "start_time": "2022-04-06T13:54:07.417Z"
   },
   {
    "duration": 833,
    "start_time": "2022-04-06T13:54:08.513Z"
   },
   {
    "duration": 36,
    "start_time": "2022-04-06T13:54:10.207Z"
   },
   {
    "duration": 68,
    "start_time": "2022-04-06T13:54:11.921Z"
   },
   {
    "duration": 20,
    "start_time": "2022-04-06T13:54:13.227Z"
   },
   {
    "duration": 9,
    "start_time": "2022-04-06T13:54:14.068Z"
   },
   {
    "duration": 307,
    "start_time": "2022-04-06T13:54:14.901Z"
   },
   {
    "duration": 10,
    "start_time": "2022-04-06T13:54:17.105Z"
   },
   {
    "duration": 379,
    "start_time": "2022-04-06T13:54:17.828Z"
   },
   {
    "duration": 977,
    "start_time": "2022-04-06T13:54:20.608Z"
   },
   {
    "duration": 60048,
    "start_time": "2022-04-06T13:54:24.161Z"
   },
   {
    "duration": 24287,
    "start_time": "2022-04-06T13:56:33.169Z"
   },
   {
    "duration": 403276,
    "start_time": "2022-04-06T14:05:12.942Z"
   },
   {
    "duration": 19570,
    "start_time": "2022-04-06T14:13:06.844Z"
   },
   {
    "duration": 6406,
    "start_time": "2022-04-06T14:13:26.419Z"
   },
   {
    "duration": 274837,
    "start_time": "2022-04-06T14:14:14.506Z"
   },
   {
    "duration": 1500,
    "start_time": "2022-04-06T14:50:00.180Z"
   },
   {
    "duration": 939,
    "start_time": "2022-04-06T14:50:01.682Z"
   },
   {
    "duration": 129,
    "start_time": "2022-04-06T14:50:02.623Z"
   },
   {
    "duration": 332,
    "start_time": "2022-04-06T14:50:02.754Z"
   },
   {
    "duration": 135,
    "start_time": "2022-04-06T14:50:03.088Z"
   },
   {
    "duration": 19,
    "start_time": "2022-04-06T14:50:03.225Z"
   },
   {
    "duration": 129,
    "start_time": "2022-04-06T14:50:03.246Z"
   },
   {
    "duration": 1127,
    "start_time": "2022-04-06T14:50:03.377Z"
   },
   {
    "duration": 831,
    "start_time": "2022-04-06T14:50:04.505Z"
   },
   {
    "duration": 38,
    "start_time": "2022-04-06T14:50:05.339Z"
   },
   {
    "duration": 77,
    "start_time": "2022-04-06T14:50:05.378Z"
   },
   {
    "duration": 20,
    "start_time": "2022-04-06T14:50:05.457Z"
   },
   {
    "duration": 28,
    "start_time": "2022-04-06T14:50:05.480Z"
   },
   {
    "duration": 312,
    "start_time": "2022-04-06T14:50:05.510Z"
   },
   {
    "duration": 10,
    "start_time": "2022-04-06T14:50:05.824Z"
   },
   {
    "duration": 423,
    "start_time": "2022-04-06T14:50:05.836Z"
   },
   {
    "duration": 1044,
    "start_time": "2022-04-06T14:50:06.261Z"
   },
   {
    "duration": 59203,
    "start_time": "2022-04-06T14:50:07.307Z"
   },
   {
    "duration": 24546,
    "start_time": "2022-04-06T14:51:06.513Z"
   },
   {
    "duration": 278761,
    "start_time": "2022-04-06T14:51:31.060Z"
   },
   {
    "duration": 15387,
    "start_time": "2022-04-06T14:56:09.823Z"
   },
   {
    "duration": 220,
    "start_time": "2022-04-06T14:56:25.212Z"
   },
   {
    "duration": 5986,
    "start_time": "2022-04-06T14:56:25.514Z"
   },
   {
    "duration": 59,
    "start_time": "2022-04-06T14:56:31.502Z"
   },
   {
    "duration": 6765,
    "start_time": "2022-04-06T14:56:31.563Z"
   },
   {
    "duration": 584,
    "start_time": "2022-04-06T14:56:38.329Z"
   },
   {
    "duration": 139,
    "start_time": "2022-04-06T14:56:38.914Z"
   },
   {
    "duration": 22009,
    "start_time": "2022-04-06T15:10:49.301Z"
   },
   {
    "duration": 298,
    "start_time": "2022-04-06T15:11:11.313Z"
   },
   {
    "duration": 6428,
    "start_time": "2022-04-06T15:11:11.613Z"
   },
   {
    "duration": 60,
    "start_time": "2022-04-06T15:11:18.043Z"
   },
   {
    "duration": 66106,
    "start_time": "2022-04-06T15:11:18.104Z"
   },
   {
    "duration": 506,
    "start_time": "2022-04-06T15:12:24.212Z"
   },
   {
    "duration": 10,
    "start_time": "2022-04-06T15:16:27.976Z"
   },
   {
    "duration": 10,
    "start_time": "2022-04-06T15:16:49.566Z"
   }
  ],
  "kernelspec": {
   "display_name": "Python 3 (ipykernel)",
   "language": "python",
   "name": "python3"
  },
  "language_info": {
   "codemirror_mode": {
    "name": "ipython",
    "version": 3
   },
   "file_extension": ".py",
   "mimetype": "text/x-python",
   "name": "python",
   "nbconvert_exporter": "python",
   "pygments_lexer": "ipython3",
   "version": "3.9.5"
  },
  "toc": {
   "base_numbering": 1,
   "nav_menu": {},
   "number_sections": true,
   "sideBar": true,
   "skip_h1_title": true,
   "title_cell": "Table of Contents",
   "title_sidebar": "Contents",
   "toc_cell": false,
   "toc_position": {},
   "toc_section_display": true,
   "toc_window_display": false
  }
 },
 "nbformat": 4,
 "nbformat_minor": 2
}
