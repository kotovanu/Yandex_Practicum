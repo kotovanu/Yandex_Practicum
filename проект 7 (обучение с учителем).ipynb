{
 "cells": [
  {
   "cell_type": "markdown",
   "metadata": {},
   "source": [
    "Привет, меня зовут Артем Хуршудов. Сегодня я проверю твой проект.\n",
    "<br> Дальнейшее общение будет происходить на \"ты\" если это не вызывает никаких проблем.\n",
    "<br> Желательно реагировать на каждый мой комментарий ('исправил', 'не понятно как исправить ошибку', ...)\n",
    "<br> Пожалуйста, не удаляй комментарии ревьюера, так как они повышают качество повторного ревью.\n",
    "\n",
    "Комментарии будут в <font color='green'>зеленой</font>, <font color='blue'>синей</font> или <font color='red'>красной</font> рамках:\n",
    "\n",
    "<div class=\"alert alert-block alert-success\">\n",
    "<b>Успех:</b> Если все сделано отлично\n",
    "</div>\n",
    "\n",
    "<div class=\"alert alert-block alert-info\">\n",
    "<b>Совет: </b> Если можно немного улучшить\n",
    "</div>\n",
    "\n",
    "<div class=\"alert alert-block alert-danger\">\n",
    "<b>Ошибка:</b> Если требуются исправления. Работа не может быть принята с красными комментариями.\n",
    "</div>\n",
    "\n",
    "-------------------\n",
    "\n",
    "Будет очень хорошо, если ты будешь помечать свои действия следующим образом:\n",
    "<div class=\"alert alert-block alert-warning\">\n",
    "<b>Комментарий студента:</b> ...\n",
    "</div>\n",
    "\n",
    "<div class=\"alert alert-block alert-warning\">\n",
    "<b>Изменения:</b> Были внесены следующие изменения ...\n",
    "</div>\n",
    "\n",
    "### <font color='orange'>Общее впечатление</font>\n",
    "* Этот проект выполнен очень хорошо.\n",
    "* Молодец, что структурируешь ноутбук, приятно проверять такие работы.\n",
    "* Интересная статья про одну из метрик: <a href=\"https://dyakonov.org/2017/07/28/auc-roc-площадь-под-кривой-ошибок/\">ссылка</a>.\n",
    "* Над этим проектом нужно будет еще немного поработать. Однако, изменения не должны занять много времени.\n",
    "* В работе я оставил несколько советов. Буду рад, если ты учтешь их.\n",
    "* С радостью отвечу на твои вопросы, если они есть. Лучше всего их собрать в следующей ячейке. Жду новую версию проекта."
   ]
  },
  {
   "cell_type": "markdown",
   "metadata": {},
   "source": [
    "<div class=\"alert alert-block alert-warning\">\n",
    "<b>Комментарий студента:</b> Привет! Спасибо, что проверил мой проект.\n",
    "</div>"
   ]
  },
  {
   "cell_type": "markdown",
   "metadata": {},
   "source": [
    "### <font color='orange'>Общее впечатление (ревью 2)</font>\n",
    "* После исправлений проект улучшился и теперь он может быть зачтен.\n",
    "* Для удобства все новые комментарии обозначены фразой \"ревью 2\".\n",
    "* Удачи в дальнейшем обучении и следующих работах!"
   ]
  },
  {
   "cell_type": "markdown",
   "metadata": {
    "toc": true
   },
   "source": [
    "<h1>Содержание<span class=\"tocSkip\"></span></h1>\n",
    "<div class=\"toc\"><ul class=\"toc-item\"><li><ul class=\"toc-item\"><li><span><a href=\"#Общее-впечатление\" data-toc-modified-id=\"Общее-впечатление-0.1\"><span class=\"toc-item-num\">0.1&nbsp;&nbsp;</span><font color=\"orange\">Общее впечатление</font></a></span></li><li><span><a href=\"#Общее-впечатление-(ревью-2)\" data-toc-modified-id=\"Общее-впечатление-(ревью-2)-0.2\"><span class=\"toc-item-num\">0.2&nbsp;&nbsp;</span><font color=\"orange\">Общее впечатление (ревью 2)</font></a></span></li></ul></li><li><span><a href=\"#Подготовка-данных\" data-toc-modified-id=\"Подготовка-данных-1\"><span class=\"toc-item-num\">1&nbsp;&nbsp;</span>Подготовка данных</a></span></li><li><span><a href=\"#Исследование-задачи\" data-toc-modified-id=\"Исследование-задачи-2\"><span class=\"toc-item-num\">2&nbsp;&nbsp;</span>Исследование задачи</a></span></li><li><span><a href=\"#Борьба-с-дисбалансом\" data-toc-modified-id=\"Борьба-с-дисбалансом-3\"><span class=\"toc-item-num\">3&nbsp;&nbsp;</span>Борьба с дисбалансом</a></span></li><li><span><a href=\"#Тестирование-модели\" data-toc-modified-id=\"Тестирование-модели-4\"><span class=\"toc-item-num\">4&nbsp;&nbsp;</span>Тестирование модели</a></span></li><li><span><a href=\"#Вывод\" data-toc-modified-id=\"Вывод-5\"><span class=\"toc-item-num\">5&nbsp;&nbsp;</span>Вывод</a></span></li><li><span><a href=\"#Чек-лист-готовности-проекта\" data-toc-modified-id=\"Чек-лист-готовности-проекта-6\"><span class=\"toc-item-num\">6&nbsp;&nbsp;</span>Чек-лист готовности проекта</a></span></li></ul></div>"
   ]
  },
  {
   "cell_type": "markdown",
   "metadata": {},
   "source": [
    "# Отток клиентов"
   ]
  },
  {
   "cell_type": "markdown",
   "metadata": {},
   "source": [
    "Из «Бета-Банка» стали уходить клиенты. Каждый месяц. Немного, но заметно. Банковские маркетологи посчитали: сохранять текущих клиентов дешевле, чем привлекать новых.\n",
    "\n",
    "Нужно спрогнозировать, уйдёт клиент из банка в ближайшее время или нет. Вам предоставлены исторические данные о поведении клиентов и расторжении договоров с банком. \n",
    "\n",
    "Постройте модель с предельно большим значением *F1*-меры. Чтобы сдать проект успешно, нужно довести метрику до 0.59. Проверьте *F1*-меру на тестовой выборке самостоятельно.\n",
    "\n",
    "Дополнительно измеряйте *AUC-ROC*, сравнивайте её значение с *F1*-мерой.\n",
    "\n",
    "Источник данных: [https://www.kaggle.com/barelydedicated/bank-customer-churn-modeling](https://www.kaggle.com/barelydedicated/bank-customer-churn-modeling)"
   ]
  },
  {
   "cell_type": "markdown",
   "metadata": {},
   "source": [
    "## Подготовка данных"
   ]
  },
  {
   "cell_type": "code",
   "execution_count": 1,
   "metadata": {},
   "outputs": [],
   "source": [
    "import pandas as pd\n",
    "from sklearn.model_selection import train_test_split\n",
    "from sklearn.model_selection import GridSearchCV\n",
    "from sklearn.preprocessing import StandardScaler\n",
    "pd.options.mode.chained_assignment = None\n",
    "from sklearn.linear_model import LogisticRegression\n",
    "from sklearn.tree import DecisionTreeClassifier\n",
    "from sklearn.ensemble import RandomForestClassifier\n",
    "from sklearn.metrics import f1_score\n",
    "from sklearn.metrics import recall_score\n",
    "from sklearn.metrics import precision_score\n",
    "from sklearn.metrics import roc_auc_score\n",
    "from sklearn.metrics import roc_curve\n",
    "from sklearn.utils import shuffle\n",
    "import matplotlib.pyplot as plt"
   ]
  },
  {
   "cell_type": "markdown",
   "metadata": {},
   "source": [
    "<div class=\"alert alert-block alert-success\">\n",
    "<b>Успех:</b> Отлично, что все импорты собраны в первой ячейке ноутбука! Если у того, кто будет запускать твой ноутбук будут отсутствовать некоторые библиотеки, то он это увидит сразу, а не в процессе!\n",
    "</div>"
   ]
  },
  {
   "cell_type": "code",
   "execution_count": 2,
   "metadata": {},
   "outputs": [
    {
     "data": {
      "text/html": [
       "<div>\n",
       "<style scoped>\n",
       "    .dataframe tbody tr th:only-of-type {\n",
       "        vertical-align: middle;\n",
       "    }\n",
       "\n",
       "    .dataframe tbody tr th {\n",
       "        vertical-align: top;\n",
       "    }\n",
       "\n",
       "    .dataframe thead th {\n",
       "        text-align: right;\n",
       "    }\n",
       "</style>\n",
       "<table border=\"1\" class=\"dataframe\">\n",
       "  <thead>\n",
       "    <tr style=\"text-align: right;\">\n",
       "      <th></th>\n",
       "      <th>RowNumber</th>\n",
       "      <th>CustomerId</th>\n",
       "      <th>Surname</th>\n",
       "      <th>CreditScore</th>\n",
       "      <th>Geography</th>\n",
       "      <th>Gender</th>\n",
       "      <th>Age</th>\n",
       "      <th>Tenure</th>\n",
       "      <th>Balance</th>\n",
       "      <th>NumOfProducts</th>\n",
       "      <th>HasCrCard</th>\n",
       "      <th>IsActiveMember</th>\n",
       "      <th>EstimatedSalary</th>\n",
       "      <th>Exited</th>\n",
       "    </tr>\n",
       "  </thead>\n",
       "  <tbody>\n",
       "    <tr>\n",
       "      <td>0</td>\n",
       "      <td>1</td>\n",
       "      <td>15634602</td>\n",
       "      <td>Hargrave</td>\n",
       "      <td>619</td>\n",
       "      <td>France</td>\n",
       "      <td>Female</td>\n",
       "      <td>42</td>\n",
       "      <td>2.0</td>\n",
       "      <td>0.00</td>\n",
       "      <td>1</td>\n",
       "      <td>1</td>\n",
       "      <td>1</td>\n",
       "      <td>101348.88</td>\n",
       "      <td>1</td>\n",
       "    </tr>\n",
       "    <tr>\n",
       "      <td>1</td>\n",
       "      <td>2</td>\n",
       "      <td>15647311</td>\n",
       "      <td>Hill</td>\n",
       "      <td>608</td>\n",
       "      <td>Spain</td>\n",
       "      <td>Female</td>\n",
       "      <td>41</td>\n",
       "      <td>1.0</td>\n",
       "      <td>83807.86</td>\n",
       "      <td>1</td>\n",
       "      <td>0</td>\n",
       "      <td>1</td>\n",
       "      <td>112542.58</td>\n",
       "      <td>0</td>\n",
       "    </tr>\n",
       "    <tr>\n",
       "      <td>2</td>\n",
       "      <td>3</td>\n",
       "      <td>15619304</td>\n",
       "      <td>Onio</td>\n",
       "      <td>502</td>\n",
       "      <td>France</td>\n",
       "      <td>Female</td>\n",
       "      <td>42</td>\n",
       "      <td>8.0</td>\n",
       "      <td>159660.80</td>\n",
       "      <td>3</td>\n",
       "      <td>1</td>\n",
       "      <td>0</td>\n",
       "      <td>113931.57</td>\n",
       "      <td>1</td>\n",
       "    </tr>\n",
       "    <tr>\n",
       "      <td>3</td>\n",
       "      <td>4</td>\n",
       "      <td>15701354</td>\n",
       "      <td>Boni</td>\n",
       "      <td>699</td>\n",
       "      <td>France</td>\n",
       "      <td>Female</td>\n",
       "      <td>39</td>\n",
       "      <td>1.0</td>\n",
       "      <td>0.00</td>\n",
       "      <td>2</td>\n",
       "      <td>0</td>\n",
       "      <td>0</td>\n",
       "      <td>93826.63</td>\n",
       "      <td>0</td>\n",
       "    </tr>\n",
       "    <tr>\n",
       "      <td>4</td>\n",
       "      <td>5</td>\n",
       "      <td>15737888</td>\n",
       "      <td>Mitchell</td>\n",
       "      <td>850</td>\n",
       "      <td>Spain</td>\n",
       "      <td>Female</td>\n",
       "      <td>43</td>\n",
       "      <td>2.0</td>\n",
       "      <td>125510.82</td>\n",
       "      <td>1</td>\n",
       "      <td>1</td>\n",
       "      <td>1</td>\n",
       "      <td>79084.10</td>\n",
       "      <td>0</td>\n",
       "    </tr>\n",
       "  </tbody>\n",
       "</table>\n",
       "</div>"
      ],
      "text/plain": [
       "   RowNumber  CustomerId   Surname  CreditScore Geography  Gender  Age  \\\n",
       "0          1    15634602  Hargrave          619    France  Female   42   \n",
       "1          2    15647311      Hill          608     Spain  Female   41   \n",
       "2          3    15619304      Onio          502    France  Female   42   \n",
       "3          4    15701354      Boni          699    France  Female   39   \n",
       "4          5    15737888  Mitchell          850     Spain  Female   43   \n",
       "\n",
       "   Tenure    Balance  NumOfProducts  HasCrCard  IsActiveMember  \\\n",
       "0     2.0       0.00              1          1               1   \n",
       "1     1.0   83807.86              1          0               1   \n",
       "2     8.0  159660.80              3          1               0   \n",
       "3     1.0       0.00              2          0               0   \n",
       "4     2.0  125510.82              1          1               1   \n",
       "\n",
       "   EstimatedSalary  Exited  \n",
       "0        101348.88       1  \n",
       "1        112542.58       0  \n",
       "2        113931.57       1  \n",
       "3         93826.63       0  \n",
       "4         79084.10       0  "
      ]
     },
     "metadata": {},
     "output_type": "display_data"
    },
    {
     "name": "stdout",
     "output_type": "stream",
     "text": [
      "<class 'pandas.core.frame.DataFrame'>\n",
      "RangeIndex: 10000 entries, 0 to 9999\n",
      "Data columns (total 14 columns):\n",
      "RowNumber          10000 non-null int64\n",
      "CustomerId         10000 non-null int64\n",
      "Surname            10000 non-null object\n",
      "CreditScore        10000 non-null int64\n",
      "Geography          10000 non-null object\n",
      "Gender             10000 non-null object\n",
      "Age                10000 non-null int64\n",
      "Tenure             9091 non-null float64\n",
      "Balance            10000 non-null float64\n",
      "NumOfProducts      10000 non-null int64\n",
      "HasCrCard          10000 non-null int64\n",
      "IsActiveMember     10000 non-null int64\n",
      "EstimatedSalary    10000 non-null float64\n",
      "Exited             10000 non-null int64\n",
      "dtypes: float64(3), int64(8), object(3)\n",
      "memory usage: 1.1+ MB\n"
     ]
    },
    {
     "data": {
      "text/plain": [
       "None"
      ]
     },
     "metadata": {},
     "output_type": "display_data"
    }
   ],
   "source": [
    "df = pd.read_csv('/datasets/Churn.csv')\n",
    "display(df.head())\n",
    "display(df.info())"
   ]
  },
  {
   "cell_type": "markdown",
   "metadata": {},
   "source": [
    "<div class=\"alert alert-block alert-success\">\n",
    "<b>Успех:</b> Данные загружены корректно, первичный осмотр проведен.\n",
    "</div>"
   ]
  },
  {
   "cell_type": "code",
   "execution_count": 3,
   "metadata": {},
   "outputs": [],
   "source": [
    "df['Tenure'] = df['Tenure'].fillna(-1)"
   ]
  },
  {
   "cell_type": "markdown",
   "metadata": {},
   "source": [
    "<div class=\"alert alert-block alert-success\">\n",
    "<b>Успех:</b> Заполнить пропуски таким образом – хорошее решение.\n",
    "</div>"
   ]
  },
  {
   "cell_type": "code",
   "execution_count": 4,
   "metadata": {
    "scrolled": true
   },
   "outputs": [
    {
     "data": {
      "text/html": [
       "<div>\n",
       "<style scoped>\n",
       "    .dataframe tbody tr th:only-of-type {\n",
       "        vertical-align: middle;\n",
       "    }\n",
       "\n",
       "    .dataframe tbody tr th {\n",
       "        vertical-align: top;\n",
       "    }\n",
       "\n",
       "    .dataframe thead th {\n",
       "        text-align: right;\n",
       "    }\n",
       "</style>\n",
       "<table border=\"1\" class=\"dataframe\">\n",
       "  <thead>\n",
       "    <tr style=\"text-align: right;\">\n",
       "      <th></th>\n",
       "      <th>CreditScore</th>\n",
       "      <th>Age</th>\n",
       "      <th>Tenure</th>\n",
       "      <th>Balance</th>\n",
       "      <th>NumOfProducts</th>\n",
       "      <th>HasCrCard</th>\n",
       "      <th>IsActiveMember</th>\n",
       "      <th>EstimatedSalary</th>\n",
       "      <th>Exited</th>\n",
       "      <th>Geography_Germany</th>\n",
       "      <th>Geography_Spain</th>\n",
       "      <th>Gender_Male</th>\n",
       "    </tr>\n",
       "  </thead>\n",
       "  <tbody>\n",
       "    <tr>\n",
       "      <td>0</td>\n",
       "      <td>619</td>\n",
       "      <td>42</td>\n",
       "      <td>2.0</td>\n",
       "      <td>0.00</td>\n",
       "      <td>1</td>\n",
       "      <td>1</td>\n",
       "      <td>1</td>\n",
       "      <td>101348.88</td>\n",
       "      <td>1</td>\n",
       "      <td>0</td>\n",
       "      <td>0</td>\n",
       "      <td>0</td>\n",
       "    </tr>\n",
       "    <tr>\n",
       "      <td>1</td>\n",
       "      <td>608</td>\n",
       "      <td>41</td>\n",
       "      <td>1.0</td>\n",
       "      <td>83807.86</td>\n",
       "      <td>1</td>\n",
       "      <td>0</td>\n",
       "      <td>1</td>\n",
       "      <td>112542.58</td>\n",
       "      <td>0</td>\n",
       "      <td>0</td>\n",
       "      <td>1</td>\n",
       "      <td>0</td>\n",
       "    </tr>\n",
       "    <tr>\n",
       "      <td>2</td>\n",
       "      <td>502</td>\n",
       "      <td>42</td>\n",
       "      <td>8.0</td>\n",
       "      <td>159660.80</td>\n",
       "      <td>3</td>\n",
       "      <td>1</td>\n",
       "      <td>0</td>\n",
       "      <td>113931.57</td>\n",
       "      <td>1</td>\n",
       "      <td>0</td>\n",
       "      <td>0</td>\n",
       "      <td>0</td>\n",
       "    </tr>\n",
       "    <tr>\n",
       "      <td>3</td>\n",
       "      <td>699</td>\n",
       "      <td>39</td>\n",
       "      <td>1.0</td>\n",
       "      <td>0.00</td>\n",
       "      <td>2</td>\n",
       "      <td>0</td>\n",
       "      <td>0</td>\n",
       "      <td>93826.63</td>\n",
       "      <td>0</td>\n",
       "      <td>0</td>\n",
       "      <td>0</td>\n",
       "      <td>0</td>\n",
       "    </tr>\n",
       "    <tr>\n",
       "      <td>4</td>\n",
       "      <td>850</td>\n",
       "      <td>43</td>\n",
       "      <td>2.0</td>\n",
       "      <td>125510.82</td>\n",
       "      <td>1</td>\n",
       "      <td>1</td>\n",
       "      <td>1</td>\n",
       "      <td>79084.10</td>\n",
       "      <td>0</td>\n",
       "      <td>0</td>\n",
       "      <td>1</td>\n",
       "      <td>0</td>\n",
       "    </tr>\n",
       "    <tr>\n",
       "      <td>...</td>\n",
       "      <td>...</td>\n",
       "      <td>...</td>\n",
       "      <td>...</td>\n",
       "      <td>...</td>\n",
       "      <td>...</td>\n",
       "      <td>...</td>\n",
       "      <td>...</td>\n",
       "      <td>...</td>\n",
       "      <td>...</td>\n",
       "      <td>...</td>\n",
       "      <td>...</td>\n",
       "      <td>...</td>\n",
       "    </tr>\n",
       "    <tr>\n",
       "      <td>9995</td>\n",
       "      <td>771</td>\n",
       "      <td>39</td>\n",
       "      <td>5.0</td>\n",
       "      <td>0.00</td>\n",
       "      <td>2</td>\n",
       "      <td>1</td>\n",
       "      <td>0</td>\n",
       "      <td>96270.64</td>\n",
       "      <td>0</td>\n",
       "      <td>0</td>\n",
       "      <td>0</td>\n",
       "      <td>1</td>\n",
       "    </tr>\n",
       "    <tr>\n",
       "      <td>9996</td>\n",
       "      <td>516</td>\n",
       "      <td>35</td>\n",
       "      <td>10.0</td>\n",
       "      <td>57369.61</td>\n",
       "      <td>1</td>\n",
       "      <td>1</td>\n",
       "      <td>1</td>\n",
       "      <td>101699.77</td>\n",
       "      <td>0</td>\n",
       "      <td>0</td>\n",
       "      <td>0</td>\n",
       "      <td>1</td>\n",
       "    </tr>\n",
       "    <tr>\n",
       "      <td>9997</td>\n",
       "      <td>709</td>\n",
       "      <td>36</td>\n",
       "      <td>7.0</td>\n",
       "      <td>0.00</td>\n",
       "      <td>1</td>\n",
       "      <td>0</td>\n",
       "      <td>1</td>\n",
       "      <td>42085.58</td>\n",
       "      <td>1</td>\n",
       "      <td>0</td>\n",
       "      <td>0</td>\n",
       "      <td>0</td>\n",
       "    </tr>\n",
       "    <tr>\n",
       "      <td>9998</td>\n",
       "      <td>772</td>\n",
       "      <td>42</td>\n",
       "      <td>3.0</td>\n",
       "      <td>75075.31</td>\n",
       "      <td>2</td>\n",
       "      <td>1</td>\n",
       "      <td>0</td>\n",
       "      <td>92888.52</td>\n",
       "      <td>1</td>\n",
       "      <td>1</td>\n",
       "      <td>0</td>\n",
       "      <td>1</td>\n",
       "    </tr>\n",
       "    <tr>\n",
       "      <td>9999</td>\n",
       "      <td>792</td>\n",
       "      <td>28</td>\n",
       "      <td>-1.0</td>\n",
       "      <td>130142.79</td>\n",
       "      <td>1</td>\n",
       "      <td>1</td>\n",
       "      <td>0</td>\n",
       "      <td>38190.78</td>\n",
       "      <td>0</td>\n",
       "      <td>0</td>\n",
       "      <td>0</td>\n",
       "      <td>0</td>\n",
       "    </tr>\n",
       "  </tbody>\n",
       "</table>\n",
       "<p>10000 rows × 12 columns</p>\n",
       "</div>"
      ],
      "text/plain": [
       "      CreditScore  Age  Tenure    Balance  NumOfProducts  HasCrCard  \\\n",
       "0             619   42     2.0       0.00              1          1   \n",
       "1             608   41     1.0   83807.86              1          0   \n",
       "2             502   42     8.0  159660.80              3          1   \n",
       "3             699   39     1.0       0.00              2          0   \n",
       "4             850   43     2.0  125510.82              1          1   \n",
       "...           ...  ...     ...        ...            ...        ...   \n",
       "9995          771   39     5.0       0.00              2          1   \n",
       "9996          516   35    10.0   57369.61              1          1   \n",
       "9997          709   36     7.0       0.00              1          0   \n",
       "9998          772   42     3.0   75075.31              2          1   \n",
       "9999          792   28    -1.0  130142.79              1          1   \n",
       "\n",
       "      IsActiveMember  EstimatedSalary  Exited  Geography_Germany  \\\n",
       "0                  1        101348.88       1                  0   \n",
       "1                  1        112542.58       0                  0   \n",
       "2                  0        113931.57       1                  0   \n",
       "3                  0         93826.63       0                  0   \n",
       "4                  1         79084.10       0                  0   \n",
       "...              ...              ...     ...                ...   \n",
       "9995               0         96270.64       0                  0   \n",
       "9996               1        101699.77       0                  0   \n",
       "9997               1         42085.58       1                  0   \n",
       "9998               0         92888.52       1                  1   \n",
       "9999               0         38190.78       0                  0   \n",
       "\n",
       "      Geography_Spain  Gender_Male  \n",
       "0                   0            0  \n",
       "1                   1            0  \n",
       "2                   0            0  \n",
       "3                   0            0  \n",
       "4                   1            0  \n",
       "...               ...          ...  \n",
       "9995                0            1  \n",
       "9996                0            1  \n",
       "9997                0            0  \n",
       "9998                0            1  \n",
       "9999                0            0  \n",
       "\n",
       "[10000 rows x 12 columns]"
      ]
     },
     "execution_count": 4,
     "metadata": {},
     "output_type": "execute_result"
    }
   ],
   "source": [
    "#использую прямое кодирование, чтобы преобразовать категориальные признаки в численные\n",
    "data_ohe = pd.get_dummies(df[['Geography', 'Gender']], drop_first = True)\n",
    "df = df.drop(['RowNumber', 'CustomerId', 'Surname', 'Geography', 'Gender'], axis = 1)\n",
    "data = pd.concat([df, data_ohe], axis = 1)\n",
    "data"
   ]
  },
  {
   "cell_type": "markdown",
   "metadata": {},
   "source": [
    "<div class=\"alert alert-block alert-success\">\n",
    "<b>Успех:</b> В данном случае OHE – наиболее подходящий метод для кодировки категориальных данных. Согласен, что эти колонки нам не нужны.\n",
    "</div>"
   ]
  },
  {
   "cell_type": "code",
   "execution_count": 5,
   "metadata": {},
   "outputs": [],
   "source": [
    "#разбиваю выборку на обучающую, тестовую и валидационную\n",
    "train, test = train_test_split(data, test_size = 0.2, random_state = 12345)\n",
    "\n",
    "features = train.drop(['Exited'], axis = 1)\n",
    "target = train['Exited']\n",
    "\n",
    "features_train, features_val, target_train, target_val = train_test_split(features, target, test_size = 0.2, random_state = 12345)\n",
    "\n",
    "features_test = test.drop(['Exited'], axis = 1)\n",
    "target_test = test['Exited']"
   ]
  },
  {
   "cell_type": "markdown",
   "metadata": {},
   "source": [
    "<div class=\"alert alert-block alert-success\">\n",
    "<b>Успех:</b> Разбиение было сделано правильно.\n",
    "</div>\n",
    "\n",
    "<div class=\"alert alert-block alert-info\">\n",
    "<b>Совет: </b> Желательно, чтобы размеры полученных наборов были напечатаны. Иногда, это помогает избежать ошибок.\n",
    "</div>"
   ]
  },
  {
   "cell_type": "markdown",
   "metadata": {},
   "source": [
    "<div class=\"alert alert-block alert-warning\">\n",
    "<b>Изменения:</b> Сделал.\n",
    "</div>"
   ]
  },
  {
   "cell_type": "code",
   "execution_count": 6,
   "metadata": {},
   "outputs": [
    {
     "name": "stdout",
     "output_type": "stream",
     "text": [
      "(6400, 11)\n",
      "(1600, 11)\n",
      "(6400,)\n",
      "(1600,)\n",
      "(2000, 11)\n",
      "(2000,)\n"
     ]
    }
   ],
   "source": [
    "print(features_train.shape)\n",
    "print(features_val.shape)\n",
    "print(target_train.shape)\n",
    "print(target_val.shape)\n",
    "print(features_test.shape)\n",
    "print(target_test.shape)"
   ]
  },
  {
   "cell_type": "markdown",
   "metadata": {},
   "source": [
    "<div class=\"alert alert-block alert-success\">\n",
    "<b>Успех (ревью 2):</b> Спасибо!\n",
    "</div>"
   ]
  },
  {
   "cell_type": "code",
   "execution_count": 7,
   "metadata": {},
   "outputs": [],
   "source": [
    "#стандартизирую данные\n",
    "columns = ['CreditScore', 'Age', 'Tenure', 'Balance', 'NumOfProducts', 'EstimatedSalary']\n",
    "scaler = StandardScaler()\n",
    "scaler.fit(features_train[columns])\n",
    "\n",
    "features_train[columns] = scaler.transform(features_train[columns])\n",
    "features_val[columns] = scaler.transform(features_val[columns])\n",
    "features_test[columns] = scaler.transform(features_test[columns])"
   ]
  },
  {
   "cell_type": "markdown",
   "metadata": {},
   "source": [
    "<div class=\"alert alert-block alert-success\">\n",
    "<b>Успех:</b> Отлично, что scaler был обучен только на тренировочной чатси данных!\n",
    "</div>"
   ]
  },
  {
   "cell_type": "markdown",
   "metadata": {},
   "source": [
    "## Исследование задачи"
   ]
  },
  {
   "cell_type": "code",
   "execution_count": 8,
   "metadata": {},
   "outputs": [
    {
     "name": "stdout",
     "output_type": "stream",
     "text": [
      "(5093, 11)\n",
      "(1307, 11)\n",
      "(5093,)\n",
      "(1307,)\n"
     ]
    }
   ],
   "source": [
    "#Баланс классов\n",
    "features_zeros = features_train[target_train == 0]\n",
    "features_ones = features_train[target_train == 1]\n",
    "target_zeros = target_train[target_train == 0]\n",
    "target_ones = target_train[target_train == 1]\n",
    "\n",
    "print(features_zeros.shape)\n",
    "print(features_ones.shape)\n",
    "print(target_zeros.shape)\n",
    "print(target_ones.shape)"
   ]
  },
  {
   "cell_type": "markdown",
   "metadata": {},
   "source": [
    "LogisticRegression"
   ]
  },
  {
   "cell_type": "code",
   "execution_count": 9,
   "metadata": {},
   "outputs": [
    {
     "name": "stdout",
     "output_type": "stream",
     "text": [
      "f1 score = 0.30660377358490565\n",
      "precision score = 0.5371900826446281\n",
      "recall score = 0.2145214521452145\n"
     ]
    }
   ],
   "source": [
    "model = LogisticRegression(random_state = 12345, solver = 'liblinear')\n",
    "model.fit(features_train, target_train)\n",
    "predict = model.predict(features_val)\n",
    "print(f'f1 score = {f1_score(target_val, predict)}')\n",
    "print(f'precision score = {precision_score(target_val, predict)}')\n",
    "print(f'recall score = {recall_score(target_val, predict)}')"
   ]
  },
  {
   "cell_type": "markdown",
   "metadata": {},
   "source": [
    "<div class=\"alert alert-block alert-danger\">\n",
    "<b>Ошибка:</b> AUC-ROC нужно считать между истинными значениями и вероятностями класса 1, а не самими предсказаниями.\n",
    "</div>"
   ]
  },
  {
   "cell_type": "markdown",
   "metadata": {},
   "source": [
    "<div class=\"alert alert-block alert-warning\">\n",
    "<b>Изменения:</b> Сделал.\n",
    "</div>"
   ]
  },
  {
   "cell_type": "code",
   "execution_count": 10,
   "metadata": {},
   "outputs": [
    {
     "name": "stdout",
     "output_type": "stream",
     "text": [
      "AUC-ROC = 0.7640276749340316\n"
     ]
    }
   ],
   "source": [
    "probabilities_valid = model.predict_proba(features_val)\n",
    "probabilities_one_valid = probabilities_valid[:,1]\n",
    "print(f'AUC-ROC = {roc_auc_score(target_val, probabilities_one_valid)}')"
   ]
  },
  {
   "cell_type": "markdown",
   "metadata": {},
   "source": [
    "<div class=\"alert alert-block alert-success\">\n",
    "<b>Успех (ревью 2):</b> Верно.\n",
    "</div>"
   ]
  },
  {
   "cell_type": "markdown",
   "metadata": {},
   "source": [
    "Tree"
   ]
  },
  {
   "cell_type": "code",
   "execution_count": 11,
   "metadata": {},
   "outputs": [
    {
     "name": "stdout",
     "output_type": "stream",
     "text": [
      "f1 score = 0.5176991150442477\n",
      "precision score = 0.785234899328859\n",
      "recall score = 0.38613861386138615\n"
     ]
    }
   ],
   "source": [
    "#воспользуюсь GridSearchCV\n",
    "model = DecisionTreeClassifier()\n",
    "parametrs = {'max_depth': range (1,20)}\n",
    "grid = GridSearchCV(model, parametrs, cv = 5)\n",
    "grid.fit(features_train, target_train)\n",
    "grid.best_params_\n",
    "\n",
    "#c учетом гиперпараметров\n",
    "model_tree = DecisionTreeClassifier(random_state = 12345, max_depth = 6)\n",
    "model_tree.fit(features_train, target_train)\n",
    "predict = model_tree.predict(features_val)\n",
    "print(f'f1 score = {f1_score(target_val, predict)}')\n",
    "print(f'precision score = {precision_score(target_val, predict)}')\n",
    "print(f'recall score = {recall_score(target_val, predict)}')"
   ]
  },
  {
   "cell_type": "code",
   "execution_count": 12,
   "metadata": {},
   "outputs": [
    {
     "name": "stdout",
     "output_type": "stream",
     "text": [
      "AUC-ROC = 0.8148227313093684\n"
     ]
    }
   ],
   "source": [
    "probabilities_valid = model_tree.predict_proba(features_val)\n",
    "probabilities_one_valid = probabilities_valid[:,1]\n",
    "print(f'AUC-ROC = {roc_auc_score(target_val, probabilities_one_valid)}')"
   ]
  },
  {
   "cell_type": "markdown",
   "metadata": {},
   "source": [
    "<div class=\"alert alert-block alert-info\">\n",
    "<b>Совет: </b> В параметр scoring класса GridSearchCV желательно было указать нашу целевую функцию.\n",
    "</div>"
   ]
  },
  {
   "cell_type": "markdown",
   "metadata": {},
   "source": [
    "RandomForest"
   ]
  },
  {
   "cell_type": "code",
   "execution_count": 13,
   "metadata": {},
   "outputs": [
    {
     "name": "stdout",
     "output_type": "stream",
     "text": [
      "f1 score = 0.5511482254697286\n",
      "precision score = 0.75\n",
      "recall score = 0.43564356435643564\n",
      "AUC-ROC = 0.7008595616693511\n"
     ]
    }
   ],
   "source": [
    "#воспользуюсь GridSearchCV\n",
    "model = RandomForestClassifier()\n",
    "parametrs = {'max_depth': range (1,20), 'n_estimators': range (10, 25)}\n",
    "grid = GridSearchCV(model, parametrs, cv = 5)\n",
    "grid.fit(features_train, target_train)\n",
    "grid.best_params_\n",
    "\n",
    "#c учетом гиперпараметров\n",
    "model_forest = RandomForestClassifier(random_state = 12345, max_depth = 10, n_estimators = 23)\n",
    "model_forest.fit(features_train, target_train)\n",
    "predict = model_forest.predict(features_val)\n",
    "print(f'f1 score = {f1_score(target_val, predict)}')\n",
    "print(f'precision score = {precision_score(target_val, predict)}')\n",
    "print(f'recall score = {recall_score(target_val, predict)}')\n",
    "print(f'AUC-ROC = {roc_auc_score(target_val, predict)}')"
   ]
  },
  {
   "cell_type": "code",
   "execution_count": 14,
   "metadata": {},
   "outputs": [
    {
     "name": "stdout",
     "output_type": "stream",
     "text": [
      "AUC-ROC = 0.8482789682206463\n"
     ]
    }
   ],
   "source": [
    "probabilities_valid = model_forest.predict_proba(features_val)\n",
    "probabilities_one_valid = probabilities_valid[:,1]\n",
    "print(f'AUC-ROC = {roc_auc_score(target_val, probabilities_one_valid)}')"
   ]
  },
  {
   "cell_type": "markdown",
   "metadata": {},
   "source": [
    "Для всех моделей f1 мала из-за дисбаланса классов. Поэтому это нужно исправить."
   ]
  },
  {
   "cell_type": "markdown",
   "metadata": {},
   "source": [
    "<div class=\"alert alert-block alert-success\">\n",
    "<b>Успех:</b> Этот шаг был сделан отлично, молодец!\n",
    "</div>"
   ]
  },
  {
   "cell_type": "markdown",
   "metadata": {},
   "source": [
    "## Борьба с дисбалансом"
   ]
  },
  {
   "cell_type": "code",
   "execution_count": 15,
   "metadata": {},
   "outputs": [],
   "source": [
    "# Увеличиваю число наблюдений положительного класса\n",
    "def upsample(features, target, repeat):\n",
    "    features_zeros = features[target == 0]\n",
    "    features_ones = features[target == 1]\n",
    "    target_zeros = target[target == 0]\n",
    "    target_ones = target[target == 1]\n",
    "\n",
    "    features_upsampled = pd.concat([features_zeros] + [features_ones] * repeat)\n",
    "    target_upsampled = pd.concat([target_zeros] + [target_ones] * repeat)\n",
    "    \n",
    "    features_upsampled, target_upsampled = shuffle(\n",
    "        features_upsampled, target_upsampled, random_state=12345)\n",
    "    \n",
    "    return features_upsampled, target_upsampled\n",
    "\n",
    "features_upsampled_train, target_upsampled_train = upsample(features_train, target_train, repeat=4)"
   ]
  },
  {
   "cell_type": "markdown",
   "metadata": {},
   "source": [
    "<div class=\"alert alert-block alert-success\">\n",
    "<b>Успех:</b> Радует, что параметр reoeat был выбран так, чтобы классы стали сбалансированными.\n",
    "</div>"
   ]
  },
  {
   "cell_type": "code",
   "execution_count": 16,
   "metadata": {},
   "outputs": [
    {
     "name": "stdout",
     "output_type": "stream",
     "text": [
      "f1 score = 0.4650112866817156\n",
      "precision score = 0.35334476843910806\n",
      "recall score = 0.6798679867986799\n"
     ]
    }
   ],
   "source": [
    "#LogisticRegression\n",
    "model = LogisticRegression(random_state = 12345, solver = 'liblinear')\n",
    "model.fit(features_upsampled_train, target_upsampled_train)\n",
    "predict = model.predict(features_val)\n",
    "print(f'f1 score = {f1_score(target_val, predict)}')\n",
    "print(f'precision score = {precision_score(target_val, predict)}')\n",
    "print(f'recall score = {recall_score(target_val, predict)}')"
   ]
  },
  {
   "cell_type": "code",
   "execution_count": 17,
   "metadata": {},
   "outputs": [
    {
     "name": "stdout",
     "output_type": "stream",
     "text": [
      "AUC-ROC = 0.7672872915664735\n"
     ]
    }
   ],
   "source": [
    "probabilities_valid = model.predict_proba(features_val)\n",
    "probabilities_one_valid = probabilities_valid[:,1]\n",
    "print(f'AUC-ROC = {roc_auc_score(target_val, probabilities_one_valid)}')"
   ]
  },
  {
   "cell_type": "code",
   "execution_count": 18,
   "metadata": {},
   "outputs": [
    {
     "name": "stdout",
     "output_type": "stream",
     "text": [
      "f1 score = 0.47731092436974787\n",
      "precision score = 0.4863013698630137\n",
      "recall score = 0.46864686468646866\n"
     ]
    }
   ],
   "source": [
    "#tree\n",
    "#воспользуюсь GridSearchCV\n",
    "model = DecisionTreeClassifier()\n",
    "parametrs = {'max_depth': range (1,20)}\n",
    "grid = GridSearchCV(model, parametrs, cv = 5)\n",
    "grid.fit(features_train, target_train)\n",
    "grid.best_params_\n",
    "\n",
    "#c учетом гиперпараметров\n",
    "model_tree = DecisionTreeClassifier(random_state = 12345, max_depth = 19)\n",
    "model_tree.fit(features_upsampled_train, target_upsampled_train)\n",
    "predict = model_tree.predict(features_val)\n",
    "print(f'f1 score = {f1_score(target_val, predict)}')\n",
    "print(f'precision score = {precision_score(target_val, predict)}')\n",
    "print(f'recall score = {recall_score(target_val, predict)}')"
   ]
  },
  {
   "cell_type": "code",
   "execution_count": 19,
   "metadata": {},
   "outputs": [
    {
     "name": "stdout",
     "output_type": "stream",
     "text": [
      "AUC-ROC = 0.6799723148876183\n"
     ]
    }
   ],
   "source": [
    "probabilities_valid = model_tree.predict_proba(features_val)\n",
    "probabilities_one_valid = probabilities_valid[:,1]\n",
    "print(f'AUC-ROC = {roc_auc_score(target_val, probabilities_one_valid)}')"
   ]
  },
  {
   "cell_type": "markdown",
   "metadata": {},
   "source": [
    "<div class=\"alert alert-block alert-danger\">\n",
    "<b>Ошибка:</b> Проводить кросс-валидацию на upsampled/downsampled данных – некорректно, так как баланс классов нарушен. Напомню, что внутри кросс-валидации происходит разбиение переданной в нее выборки на треин и валидацию. \n",
    "    \n",
    "В случае upsampling получается так, что в треин и в валидацию (внутри кросс-валидации) вообще попадают одни и те же объекты. \n",
    "</div>"
   ]
  },
  {
   "cell_type": "markdown",
   "metadata": {},
   "source": [
    "<div class=\"alert alert-block alert-warning\">\n",
    "<b>Изменения:</b> То есть нужно просто передать изначальную обучающую выборку? (что я и сделал)\n",
    "</div>"
   ]
  },
  {
   "cell_type": "markdown",
   "metadata": {},
   "source": [
    "<div class=\"alert alert-block alert-info\">\n",
    "<b>Совет (ревью 2): </b> Лучше всего подобрать параметры на валидационной выборке (в случае изменения баланса в тренировочной выборке), а не проводить кросс-валидацию вообще. В твоем случае она даст точно такой же результат, как и раньше, так что ее вообще нет смысла перепроводить. Но так как ты проводил кросс-валидацию на исходной выборке, то переходить на изменять эту часть – необязательно.\n",
    "</div>"
   ]
  },
  {
   "cell_type": "code",
   "execution_count": 20,
   "metadata": {},
   "outputs": [
    {
     "data": {
      "text/plain": [
       "{'max_depth': 10, 'n_estimators': 27}"
      ]
     },
     "execution_count": 20,
     "metadata": {},
     "output_type": "execute_result"
    }
   ],
   "source": [
    "#RandomForest\n",
    "#воспользуюсь GridSearchCV\n",
    "model = RandomForestClassifier()\n",
    "parametrs = {'max_depth': range (1,12), 'n_estimators': range (1, 30)}\n",
    "grid = GridSearchCV(model, parametrs, cv = 5)\n",
    "grid.fit(features_train, target_train)\n",
    "grid.best_params_\n"
   ]
  },
  {
   "cell_type": "code",
   "execution_count": 22,
   "metadata": {},
   "outputs": [
    {
     "name": "stdout",
     "output_type": "stream",
     "text": [
      "f1 score = 0.5918367346938775\n",
      "precision score = 0.5300261096605744\n",
      "recall score = 0.66996699669967\n"
     ]
    }
   ],
   "source": [
    "#c учетом гиперпараметров\n",
    "model_forest = RandomForestClassifier(random_state = 12345, max_depth = 11, n_estimators = 28)\n",
    "model_forest.fit(features_upsampled_train, target_upsampled_train)\n",
    "predict = model_forest.predict(features_val)\n",
    "print(f'f1 score = {f1_score(target_val, predict)}')\n",
    "print(f'precision score = {precision_score(target_val, predict)}')\n",
    "print(f'recall score = {recall_score(target_val, predict)}')"
   ]
  },
  {
   "cell_type": "code",
   "execution_count": 23,
   "metadata": {},
   "outputs": [
    {
     "name": "stdout",
     "output_type": "stream",
     "text": [
      "AUC-ROC = 0.8516887155176581\n"
     ]
    }
   ],
   "source": [
    "probabilities_valid = model_forest.predict_proba(features_val)\n",
    "probabilities_one_valid = probabilities_valid[:,1]\n",
    "print(f'AUC-ROC = {roc_auc_score(target_val, probabilities_one_valid)}')"
   ]
  },
  {
   "cell_type": "markdown",
   "metadata": {},
   "source": [
    "С учетом баланса классов, лучшая модель - случайный лес."
   ]
  },
  {
   "cell_type": "markdown",
   "metadata": {},
   "source": [
    "<div class=\"alert alert-block alert-danger\">\n",
    "<b>Ошибка:</b> Пожалуйста, попробуй еще, хотя бы, один метод для борьбы с дисбалансом классов.\n",
    "</div>"
   ]
  },
  {
   "cell_type": "markdown",
   "metadata": {},
   "source": [
    "<div class=\"alert alert-block alert-warning\">\n",
    "<b>Изменения:</b> Сделал.\n",
    "</div>"
   ]
  },
  {
   "cell_type": "code",
   "execution_count": 24,
   "metadata": {},
   "outputs": [
    {
     "name": "stdout",
     "output_type": "stream",
     "text": [
      "f1 for logistic regression: 0.47150837988826816\n",
      "f1 for tree = 0.45555555555555555\n",
      "f1 for forest = 0.5560975609756097\n"
     ]
    }
   ],
   "source": [
    "def downsample(features, target, fraction):\n",
    "    features_zeros = features[target == 0]\n",
    "    features_ones = features[target == 1]\n",
    "    target_zeros = target[target == 0]\n",
    "    target_ones = target[target == 1]\n",
    "\n",
    "    features_downsampled = pd.concat(\n",
    "        [features_zeros.sample(frac=fraction, random_state=12345)] + [features_ones])\n",
    "    target_downsampled = pd.concat(\n",
    "        [target_zeros.sample(frac=fraction, random_state=12345)] + [target_ones])\n",
    "    \n",
    "    features_downsampled, target_downsampled = shuffle(\n",
    "        features_downsampled, target_downsampled, random_state=12345)\n",
    "    \n",
    "    return features_downsampled, target_downsampled\n",
    "\n",
    "features_downsampled, target_downsampled = downsample(features_train, target_train, 0.25)\n",
    "\n",
    "model = LogisticRegression(random_state = 12345, solver = 'liblinear')\n",
    "model.fit(features_downsampled, target_downsampled)\n",
    "predict = model.predict(features_val)\n",
    "print(\"f1 for logistic regression:\", f1_score(target_val, predict))\n",
    "\n",
    "model_tree = DecisionTreeClassifier(random_state = 12345, max_depth = 19)\n",
    "model_tree.fit(features_downsampled, target_downsampled)\n",
    "predict = model_tree.predict(features_val)\n",
    "print(f'f1 for tree = {f1_score(target_val, predict)}')\n",
    "\n",
    "model_forest = RandomForestClassifier(random_state = 12345, max_depth = 11, n_estimators = 28)\n",
    "model_forest.fit(features_downsampled, target_downsampled)\n",
    "predict = model_forest.predict(features_val)\n",
    "print(f'f1 for forest = {f1_score(target_val, predict)}')"
   ]
  },
  {
   "cell_type": "markdown",
   "metadata": {},
   "source": [
    "<div class=\"alert alert-block alert-success\">\n",
    "<b>Успех (ревью 2):</b> ОК.\n",
    "</div>"
   ]
  },
  {
   "cell_type": "markdown",
   "metadata": {},
   "source": [
    "## Тестирование модели"
   ]
  },
  {
   "cell_type": "code",
   "execution_count": 25,
   "metadata": {},
   "outputs": [
    {
     "name": "stdout",
     "output_type": "stream",
     "text": [
      "f1 score = 0.6324972737186478\n",
      "precision score = 0.5918367346938775\n",
      "recall score = 0.6791569086651054\n"
     ]
    }
   ],
   "source": [
    "model_forest = RandomForestClassifier(random_state = 12345, max_depth = 11, n_estimators = 28)\n",
    "model_forest.fit(features_upsampled_train, target_upsampled_train)\n",
    "predict = model_forest.predict(features_test)\n",
    "print(f'f1 score = {f1_score(target_test, predict)}')\n",
    "print(f'precision score = {precision_score(target_test, predict)}')\n",
    "print(f'recall score = {recall_score(target_test, predict)}')"
   ]
  },
  {
   "cell_type": "code",
   "execution_count": 26,
   "metadata": {},
   "outputs": [
    {
     "name": "stdout",
     "output_type": "stream",
     "text": [
      "AUC-ROC = 0.8516887155176581\n"
     ]
    }
   ],
   "source": [
    "probabilities_valid = model_forest.predict_proba(features_val)\n",
    "probabilities_one_valid = probabilities_valid[:,1]\n",
    "print(f'AUC-ROC = {roc_auc_score(target_val, probabilities_one_valid)}')"
   ]
  },
  {
   "cell_type": "markdown",
   "metadata": {},
   "source": [
    "<div class=\"alert alert-block alert-info\">\n",
    "<b>Совет: </b> Тут можно было еще визуализировать ROC-кривую.\n",
    "</div>"
   ]
  },
  {
   "cell_type": "markdown",
   "metadata": {},
   "source": [
    "<div class=\"alert alert-block alert-warning\">\n",
    "<b>Изменения:</b> Сделал.\n",
    "</div>"
   ]
  },
  {
   "cell_type": "code",
   "execution_count": 27,
   "metadata": {},
   "outputs": [
    {
     "data": {
      "image/png": "[encoded data removed]",
      "text/plain": [
       "<Figure size 432x288 with 1 Axes>"
      ]
     },
     "metadata": {
      "needs_background": "light"
     },
     "output_type": "display_data"
    }
   ],
   "source": [
    "fpr, tpr, thresholds = roc_curve(target_val, probabilities_one_valid) \n",
    "plt.figure()\n",
    "plt.plot(fpr, tpr)\n",
    "plt.plot([0, 1], [0, 1], linestyle='--')\n",
    "plt.xlim([0.0, 1.0])\n",
    "plt.ylim([0.0, 1.0])\n",
    "plt.xlabel('False Positive Rate')\n",
    "plt.ylabel('True Positive Rate')\n",
    "plt.title('ROC-кривая')\n",
    "plt.show()"
   ]
  },
  {
   "cell_type": "markdown",
   "metadata": {},
   "source": [
    "<div class=\"alert alert-block alert-success\">\n",
    "<b>Успех (ревью 2):</b> Спасибо!\n",
    "</div>"
   ]
  },
  {
   "cell_type": "markdown",
   "metadata": {},
   "source": [
    "## Вывод"
   ]
  },
  {
   "cell_type": "markdown",
   "metadata": {},
   "source": [
    "1. Вначале был проведен первичный анализ данных, использовал прямое кодирование, чтобы преобразовать категориальные признаки в численные. Также стандартизировал данные и заполнил пропуски.\n",
    "2. Были использованы разные модели (логистическая регрессия, дерево решений и случайный лес). Модели до борьбы с дисбалансом показывали низкое значение метрики f1.\n",
    "3. Произвел upsampling, из-за чего повысилась f1 мера. У лучшей модели (случайный лес) она равна 0.59\n",
    "4. Проверил модель на тестовой выборке и f1 мера была равна 0.63"
   ]
  },
  {
   "cell_type": "markdown",
   "metadata": {},
   "source": [
    "<div class=\"alert alert-block alert-success\">\n",
    "<b>Успех:</b> Приятно видеть вывод в конце проекта!\n",
    "</div>"
   ]
  },
  {
   "cell_type": "markdown",
   "metadata": {},
   "source": [
    "## Чек-лист готовности проекта"
   ]
  },
  {
   "cell_type": "markdown",
   "metadata": {},
   "source": [
    "Поставьте 'x' в выполненных пунктах. Далее нажмите Shift+Enter."
   ]
  },
  {
   "cell_type": "markdown",
   "metadata": {},
   "source": [
    "- [x]  Jupyter Notebook открыт\n",
    "- [ ]  Весь код выполняется без ошибок\n",
    "- [ ]  Ячейки с кодом расположены в порядке исполнения\n",
    "- [ ]  Выполнен шаг 1: данные подготовлены\n",
    "- [ ]  Выполнен шаг 2: задача исследована\n",
    "    - [ ]  Исследован баланс классов\n",
    "    - [ ]  Изучены модели без учёта дисбаланса\n",
    "    - [ ]  Написаны выводы по результатам исследования\n",
    "- [ ]  Выполнен шаг 3: учтён дисбаланс\n",
    "    - [ ]  Применено несколько способов борьбы с дисбалансом\n",
    "    - [ ]  Написаны выводы по результатам исследования\n",
    "- [ ]  Выполнен шаг 4: проведено тестирование\n",
    "- [ ]  Удалось достичь *F1*-меры не менее 0.59\n",
    "- [ ]  Исследована метрика *AUC-ROC*"
   ]
  },
  {
   "cell_type": "code",
   "execution_count": null,
   "metadata": {},
   "outputs": [],
   "source": []
  }
 ],
 "metadata": {
  "ExecuteTimeLog": [
   {
    "duration": 586,
    "start_time": "2022-02-02T14:49:54.835Z"
   },
   {
    "duration": 46,
    "start_time": "2022-02-02T14:50:16.995Z"
   },
   {
    "duration": 309,
    "start_time": "2022-02-03T10:18:40.994Z"
   },
   {
    "duration": 606,
    "start_time": "2022-02-03T10:18:44.734Z"
   },
   {
    "duration": 42,
    "start_time": "2022-02-03T10:18:45.341Z"
   },
   {
    "duration": 196,
    "start_time": "2022-02-03T10:18:46.367Z"
   },
   {
    "duration": 186,
    "start_time": "2022-02-03T10:19:25.991Z"
   },
   {
    "duration": 540,
    "start_time": "2022-02-03T10:21:20.076Z"
   },
   {
    "duration": 325,
    "start_time": "2022-02-03T10:21:30.999Z"
   },
   {
    "duration": 174,
    "start_time": "2022-02-03T10:21:38.914Z"
   },
   {
    "duration": 34,
    "start_time": "2022-02-03T10:23:47.869Z"
   },
   {
    "duration": 190,
    "start_time": "2022-02-03T10:23:49.590Z"
   },
   {
    "duration": 537,
    "start_time": "2022-02-03T10:28:55.903Z"
   },
   {
    "duration": 7356,
    "start_time": "2022-02-03T10:29:11.929Z"
   },
   {
    "duration": 392,
    "start_time": "2022-02-03T10:29:29.117Z"
   },
   {
    "duration": 3,
    "start_time": "2022-02-03T10:31:55.366Z"
   },
   {
    "duration": 3,
    "start_time": "2022-02-03T10:33:35.543Z"
   },
   {
    "duration": 40,
    "start_time": "2022-02-03T10:37:07.437Z"
   },
   {
    "duration": 21,
    "start_time": "2022-02-03T10:40:19.539Z"
   },
   {
    "duration": 91,
    "start_time": "2022-02-03T11:02:35.274Z"
   },
   {
    "duration": 14,
    "start_time": "2022-02-03T11:05:12.343Z"
   },
   {
    "duration": 289,
    "start_time": "2022-02-03T11:05:31.466Z"
   },
   {
    "duration": 3,
    "start_time": "2022-02-03T11:05:36.633Z"
   },
   {
    "duration": 612,
    "start_time": "2022-02-03T11:08:29.500Z"
   },
   {
    "duration": 1028,
    "start_time": "2022-02-03T11:11:07.591Z"
   },
   {
    "duration": 664,
    "start_time": "2022-02-03T11:11:09.632Z"
   },
   {
    "duration": 376,
    "start_time": "2022-02-03T11:11:12.177Z"
   },
   {
    "duration": 13,
    "start_time": "2022-02-03T11:11:31.515Z"
   },
   {
    "duration": 14,
    "start_time": "2022-02-03T11:11:45.468Z"
   },
   {
    "duration": 1035,
    "start_time": "2022-02-03T11:17:46.111Z"
   },
   {
    "duration": 48,
    "start_time": "2022-02-03T11:17:47.150Z"
   },
   {
    "duration": 197,
    "start_time": "2022-02-03T11:17:50.276Z"
   },
   {
    "duration": 973,
    "start_time": "2022-02-03T11:24:40.338Z"
   },
   {
    "duration": 48,
    "start_time": "2022-02-03T11:24:41.313Z"
   },
   {
    "duration": 28,
    "start_time": "2022-02-03T11:25:03.781Z"
   },
   {
    "duration": 985,
    "start_time": "2022-02-03T11:25:31.242Z"
   },
   {
    "duration": 52,
    "start_time": "2022-02-03T11:25:32.229Z"
   },
   {
    "duration": 29,
    "start_time": "2022-02-03T11:25:35.952Z"
   },
   {
    "duration": 13,
    "start_time": "2022-02-03T11:25:50.359Z"
   },
   {
    "duration": 21,
    "start_time": "2022-02-03T11:25:51.962Z"
   },
   {
    "duration": 9,
    "start_time": "2022-02-03T11:25:55.113Z"
   },
   {
    "duration": 432,
    "start_time": "2022-02-03T11:25:59.267Z"
   },
   {
    "duration": 1100,
    "start_time": "2022-02-03T11:26:34.224Z"
   },
   {
    "duration": 53,
    "start_time": "2022-02-03T11:26:35.326Z"
   },
   {
    "duration": 962,
    "start_time": "2022-02-03T11:26:42.865Z"
   },
   {
    "duration": 57,
    "start_time": "2022-02-03T11:26:43.829Z"
   },
   {
    "duration": 26,
    "start_time": "2022-02-03T11:27:24.580Z"
   },
   {
    "duration": 14,
    "start_time": "2022-02-03T11:27:34.027Z"
   },
   {
    "duration": 21,
    "start_time": "2022-02-03T11:27:35.820Z"
   },
   {
    "duration": 9,
    "start_time": "2022-02-03T11:27:37.395Z"
   },
   {
    "duration": 372,
    "start_time": "2022-02-03T11:27:38.780Z"
   },
   {
    "duration": 968,
    "start_time": "2022-02-03T11:34:27.453Z"
   },
   {
    "duration": 53,
    "start_time": "2022-02-03T11:34:30.233Z"
   },
   {
    "duration": 222,
    "start_time": "2022-02-03T11:34:49.558Z"
   },
   {
    "duration": 1211,
    "start_time": "2022-02-03T11:36:14.853Z"
   },
   {
    "duration": 54,
    "start_time": "2022-02-03T11:36:16.578Z"
   },
   {
    "duration": 4,
    "start_time": "2022-02-03T11:37:20.102Z"
   },
   {
    "duration": 1637,
    "start_time": "2022-02-03T11:40:37.504Z"
   },
   {
    "duration": 51,
    "start_time": "2022-02-03T11:40:43.779Z"
   },
   {
    "duration": 5,
    "start_time": "2022-02-03T11:40:50.137Z"
   },
   {
    "duration": 9139,
    "start_time": "2022-02-03T11:40:56.120Z"
   },
   {
    "duration": 7850,
    "start_time": "2022-02-03T11:41:13.674Z"
   },
   {
    "duration": 14,
    "start_time": "2022-02-03T11:42:31.864Z"
   },
   {
    "duration": 299,
    "start_time": "2022-02-03T11:42:45.119Z"
   },
   {
    "duration": 1012,
    "start_time": "2022-02-03T11:42:53.220Z"
   },
   {
    "duration": 47,
    "start_time": "2022-02-03T11:42:54.234Z"
   },
   {
    "duration": 4,
    "start_time": "2022-02-03T11:42:56.160Z"
   },
   {
    "duration": 26,
    "start_time": "2022-02-03T11:42:57.833Z"
   },
   {
    "duration": 982,
    "start_time": "2022-02-03T11:43:25.440Z"
   },
   {
    "duration": 46,
    "start_time": "2022-02-03T11:43:26.424Z"
   },
   {
    "duration": 4,
    "start_time": "2022-02-03T11:43:28.903Z"
   },
   {
    "duration": 36,
    "start_time": "2022-02-03T11:43:32.178Z"
   },
   {
    "duration": 1012,
    "start_time": "2022-02-03T11:45:22.115Z"
   },
   {
    "duration": 47,
    "start_time": "2022-02-03T11:45:24.707Z"
   },
   {
    "duration": 4,
    "start_time": "2022-02-03T11:45:27.230Z"
   },
   {
    "duration": 26,
    "start_time": "2022-02-03T11:45:55.189Z"
   },
   {
    "duration": 11,
    "start_time": "2022-02-03T11:45:58.354Z"
   },
   {
    "duration": 21,
    "start_time": "2022-02-03T11:46:00.668Z"
   },
   {
    "duration": 9,
    "start_time": "2022-02-03T11:46:03.671Z"
   },
   {
    "duration": 20,
    "start_time": "2022-02-03T11:46:05.166Z"
   },
   {
    "duration": 30,
    "start_time": "2022-02-03T11:46:09.201Z"
   },
   {
    "duration": 20,
    "start_time": "2022-02-03T11:52:19.553Z"
   },
   {
    "duration": 3,
    "start_time": "2022-02-03T11:52:30.463Z"
   },
   {
    "duration": 994,
    "start_time": "2022-02-03T16:09:12.568Z"
   },
   {
    "duration": 47,
    "start_time": "2022-02-03T16:09:15.356Z"
   },
   {
    "duration": 4,
    "start_time": "2022-02-03T16:09:17.711Z"
   },
   {
    "duration": 27,
    "start_time": "2022-02-03T16:09:21.195Z"
   },
   {
    "duration": 13,
    "start_time": "2022-02-03T16:09:24.943Z"
   },
   {
    "duration": 24,
    "start_time": "2022-02-03T16:09:27.632Z"
   },
   {
    "duration": 9,
    "start_time": "2022-02-03T16:09:33.959Z"
   },
   {
    "duration": 28,
    "start_time": "2022-02-03T16:09:50.478Z"
   },
   {
    "duration": 4,
    "start_time": "2022-02-03T16:11:32.552Z"
   },
   {
    "duration": 1778,
    "start_time": "2022-02-03T16:15:42.305Z"
   },
   {
    "duration": 1844,
    "start_time": "2022-02-03T16:17:40.822Z"
   },
   {
    "duration": 1849,
    "start_time": "2022-02-03T16:18:11.801Z"
   },
   {
    "duration": 114702,
    "start_time": "2022-02-03T16:23:12.920Z"
   },
   {
    "duration": 114081,
    "start_time": "2022-02-03T16:26:14.285Z"
   },
   {
    "duration": 1068,
    "start_time": "2022-02-03T16:33:58.872Z"
   },
   {
    "duration": 50,
    "start_time": "2022-02-03T16:33:59.942Z"
   },
   {
    "duration": 4,
    "start_time": "2022-02-03T16:34:00.781Z"
   },
   {
    "duration": 27,
    "start_time": "2022-02-03T16:34:01.307Z"
   },
   {
    "duration": 12,
    "start_time": "2022-02-03T16:34:02.878Z"
   },
   {
    "duration": 23,
    "start_time": "2022-02-03T16:34:04.264Z"
   },
   {
    "duration": 9,
    "start_time": "2022-02-03T16:34:05.401Z"
   },
   {
    "duration": 28,
    "start_time": "2022-02-03T16:34:07.909Z"
   },
   {
    "duration": 1820,
    "start_time": "2022-02-03T16:34:10.419Z"
   },
   {
    "duration": 111390,
    "start_time": "2022-02-03T16:34:19.993Z"
   },
   {
    "duration": 584,
    "start_time": "2022-02-03T16:37:01.198Z"
   },
   {
    "duration": 64,
    "start_time": "2022-02-03T16:37:27.655Z"
   },
   {
    "duration": 1074,
    "start_time": "2022-02-03T16:38:01.102Z"
   },
   {
    "duration": 50,
    "start_time": "2022-02-03T16:38:02.178Z"
   },
   {
    "duration": 4,
    "start_time": "2022-02-03T16:38:02.867Z"
   },
   {
    "duration": 29,
    "start_time": "2022-02-03T16:38:03.279Z"
   },
   {
    "duration": 13,
    "start_time": "2022-02-03T16:38:03.624Z"
   },
   {
    "duration": 27,
    "start_time": "2022-02-03T16:38:04.299Z"
   },
   {
    "duration": 9,
    "start_time": "2022-02-03T16:38:05.390Z"
   },
   {
    "duration": 53,
    "start_time": "2022-02-03T16:38:07.560Z"
   },
   {
    "duration": 1822,
    "start_time": "2022-02-03T16:38:11.709Z"
   },
   {
    "duration": 112848,
    "start_time": "2022-02-03T16:38:18.141Z"
   },
   {
    "duration": 4,
    "start_time": "2022-02-03T16:46:17.818Z"
   },
   {
    "duration": 17,
    "start_time": "2022-02-03T16:46:49.027Z"
   },
   {
    "duration": 37,
    "start_time": "2022-02-03T16:47:44.275Z"
   },
   {
    "duration": 1756,
    "start_time": "2022-02-03T16:48:39.552Z"
   },
   {
    "duration": 1825,
    "start_time": "2022-02-03T16:48:47.459Z"
   },
   {
    "duration": 1842,
    "start_time": "2022-02-03T16:48:54.745Z"
   },
   {
    "duration": 2515,
    "start_time": "2022-02-03T16:49:59.383Z"
   },
   {
    "duration": 2444,
    "start_time": "2022-02-03T16:50:08.714Z"
   },
   {
    "duration": 1597,
    "start_time": "2022-02-03T16:50:26.732Z"
   },
   {
    "duration": 1127,
    "start_time": "2022-02-03T16:50:38.472Z"
   },
   {
    "duration": 7461,
    "start_time": "2022-02-03T16:50:45.758Z"
   },
   {
    "duration": 7473,
    "start_time": "2022-02-03T16:51:01.774Z"
   },
   {
    "duration": 157794,
    "start_time": "2022-02-03T16:51:23.812Z"
   },
   {
    "duration": 123,
    "start_time": "2022-02-03T16:54:22.346Z"
   },
   {
    "duration": 87036,
    "start_time": "2022-02-03T16:56:09.958Z"
   },
   {
    "duration": 147,
    "start_time": "2022-02-03T16:57:57.414Z"
   },
   {
    "duration": 56726,
    "start_time": "2022-02-03T16:59:05.737Z"
   },
   {
    "duration": 132,
    "start_time": "2022-02-03T17:00:15.170Z"
   },
   {
    "duration": 272824,
    "start_time": "2022-02-03T17:00:30.137Z"
   },
   {
    "duration": 212,
    "start_time": "2022-02-03T17:05:16.112Z"
   },
   {
    "duration": 148,
    "start_time": "2022-02-03T17:06:50.896Z"
   },
   {
    "duration": 310,
    "start_time": "2022-02-03T17:07:30.574Z"
   },
   {
    "duration": 210,
    "start_time": "2022-02-03T17:07:39.066Z"
   },
   {
    "duration": 262,
    "start_time": "2022-02-03T17:07:43.534Z"
   },
   {
    "duration": 263,
    "start_time": "2022-02-03T17:12:50.651Z"
   },
   {
    "duration": 1009,
    "start_time": "2022-02-03T17:23:12.442Z"
   },
   {
    "duration": 49,
    "start_time": "2022-02-03T17:23:13.453Z"
   },
   {
    "duration": 4,
    "start_time": "2022-02-03T17:23:16.269Z"
   },
   {
    "duration": 28,
    "start_time": "2022-02-03T17:23:20.718Z"
   },
   {
    "duration": 12,
    "start_time": "2022-02-03T17:23:24.466Z"
   },
   {
    "duration": 24,
    "start_time": "2022-02-03T17:23:26.433Z"
   },
   {
    "duration": 8,
    "start_time": "2022-02-03T17:23:36.201Z"
   },
   {
    "duration": 32,
    "start_time": "2022-02-03T17:23:52.191Z"
   },
   {
    "duration": 2034,
    "start_time": "2022-02-03T17:23:54.680Z"
   },
   {
    "duration": 114050,
    "start_time": "2022-02-03T17:23:56.717Z"
   },
   {
    "duration": 13,
    "start_time": "2022-02-03T17:25:57.200Z"
   },
   {
    "duration": 153,
    "start_time": "2022-02-03T17:25:59.263Z"
   },
   {
    "duration": 2491,
    "start_time": "2022-02-03T17:26:57.230Z"
   },
   {
    "duration": 2535,
    "start_time": "2022-02-03T17:27:08.222Z"
   },
   {
    "duration": 280328,
    "start_time": "2022-02-03T17:27:19.905Z"
   },
   {
    "duration": 256,
    "start_time": "2022-02-03T17:32:08.619Z"
   },
   {
    "duration": 268,
    "start_time": "2022-02-03T17:32:17.729Z"
   },
   {
    "duration": 252,
    "start_time": "2022-02-04T12:54:45.549Z"
   },
   {
    "duration": 1011,
    "start_time": "2022-02-04T12:54:50.172Z"
   },
   {
    "duration": 52,
    "start_time": "2022-02-04T12:54:51.185Z"
   },
   {
    "duration": 4,
    "start_time": "2022-02-04T12:54:52.355Z"
   },
   {
    "duration": 27,
    "start_time": "2022-02-04T12:54:53.156Z"
   },
   {
    "duration": 13,
    "start_time": "2022-02-04T12:54:54.210Z"
   },
   {
    "duration": 3,
    "start_time": "2022-02-04T12:54:55.455Z"
   },
   {
    "duration": 4,
    "start_time": "2022-02-04T12:55:47.271Z"
   },
   {
    "duration": 1444,
    "start_time": "2022-02-04T12:57:39.211Z"
   },
   {
    "duration": 68,
    "start_time": "2022-02-04T12:57:40.658Z"
   },
   {
    "duration": 5,
    "start_time": "2022-02-04T12:57:40.729Z"
   },
   {
    "duration": 41,
    "start_time": "2022-02-04T12:57:40.736Z"
   },
   {
    "duration": 17,
    "start_time": "2022-02-04T12:57:40.779Z"
   },
   {
    "duration": 21,
    "start_time": "2022-02-04T12:57:40.799Z"
   },
   {
    "duration": 26,
    "start_time": "2022-02-04T12:57:40.823Z"
   },
   {
    "duration": 10,
    "start_time": "2022-02-04T12:57:40.853Z"
   },
   {
    "duration": 155,
    "start_time": "2022-02-04T12:57:40.865Z"
   },
   {
    "duration": 1968,
    "start_time": "2022-02-04T12:57:41.022Z"
   },
   {
    "duration": 116617,
    "start_time": "2022-02-04T12:57:42.992Z"
   },
   {
    "duration": 17,
    "start_time": "2022-02-04T12:59:39.611Z"
   },
   {
    "duration": 97,
    "start_time": "2022-02-04T12:59:39.630Z"
   },
   {
    "duration": 2701,
    "start_time": "2022-02-04T12:59:39.819Z"
   },
   {
    "duration": 290569,
    "start_time": "2022-02-04T12:59:42.523Z"
   },
   {
    "duration": 263,
    "start_time": "2022-02-04T13:04:33.094Z"
   },
   {
    "duration": 268,
    "start_time": "2022-02-04T13:04:33.359Z"
   },
   {
    "duration": 298,
    "start_time": "2022-02-04T13:08:41.595Z"
   },
   {
    "duration": 1210,
    "start_time": "2022-02-04T13:09:19.142Z"
   },
   {
    "duration": 52,
    "start_time": "2022-02-04T13:09:23.068Z"
   },
   {
    "duration": 5,
    "start_time": "2022-02-04T13:09:24.350Z"
   },
   {
    "duration": 28,
    "start_time": "2022-02-04T13:09:25.049Z"
   },
   {
    "duration": 15,
    "start_time": "2022-02-04T13:09:26.241Z"
   },
   {
    "duration": 5,
    "start_time": "2022-02-04T13:09:27.670Z"
   },
   {
    "duration": 24,
    "start_time": "2022-02-04T13:09:29.678Z"
   },
   {
    "duration": 10,
    "start_time": "2022-02-04T13:09:30.832Z"
   },
   {
    "duration": 33,
    "start_time": "2022-02-04T13:09:33.192Z"
   },
   {
    "duration": 7,
    "start_time": "2022-02-04T13:09:34.151Z"
   },
   {
    "duration": 10,
    "start_time": "2022-02-04T13:10:03.669Z"
   },
   {
    "duration": 17,
    "start_time": "2022-02-04T13:10:40.163Z"
   },
   {
    "duration": 8,
    "start_time": "2022-02-04T13:11:39.029Z"
   },
   {
    "duration": 341,
    "start_time": "2022-02-04T13:12:09.082Z"
   },
   {
    "duration": 1992,
    "start_time": "2022-02-04T13:12:21.512Z"
   },
   {
    "duration": 7,
    "start_time": "2022-02-04T13:12:31.235Z"
   },
   {
    "duration": 116741,
    "start_time": "2022-02-04T13:12:40.525Z"
   },
   {
    "duration": 14,
    "start_time": "2022-02-04T13:15:23.930Z"
   },
   {
    "duration": 15,
    "start_time": "2022-02-04T13:15:30.740Z"
   },
   {
    "duration": 119,
    "start_time": "2022-02-04T13:15:57.400Z"
   },
   {
    "duration": 9,
    "start_time": "2022-02-04T13:16:11.879Z"
   },
   {
    "duration": 2638,
    "start_time": "2022-02-04T13:16:39.941Z"
   },
   {
    "duration": 2658,
    "start_time": "2022-02-04T13:16:48.731Z"
   },
   {
    "duration": 9,
    "start_time": "2022-02-04T13:16:55.267Z"
   },
   {
    "duration": 285578,
    "start_time": "2022-02-04T13:17:04.519Z"
   },
   {
    "duration": 257,
    "start_time": "2022-02-04T13:22:26.941Z"
   },
   {
    "duration": 16,
    "start_time": "2022-02-04T13:22:29.880Z"
   },
   {
    "duration": 262,
    "start_time": "2022-02-04T13:22:54.292Z"
   },
   {
    "duration": 15,
    "start_time": "2022-02-04T13:22:56.579Z"
   },
   {
    "duration": 316,
    "start_time": "2022-02-04T13:25:29.620Z"
   },
   {
    "duration": 217,
    "start_time": "2022-02-04T13:25:37.118Z"
   },
   {
    "duration": 139,
    "start_time": "2022-02-04T13:26:09.820Z"
   },
   {
    "duration": 167,
    "start_time": "2022-02-04T13:26:18.199Z"
   },
   {
    "duration": 1238,
    "start_time": "2022-02-04T13:34:44.595Z"
   },
   {
    "duration": 48,
    "start_time": "2022-02-04T13:34:47.685Z"
   },
   {
    "duration": 5,
    "start_time": "2022-02-04T13:34:48.535Z"
   },
   {
    "duration": 28,
    "start_time": "2022-02-04T13:34:49.267Z"
   },
   {
    "duration": 16,
    "start_time": "2022-02-04T13:34:50.297Z"
   },
   {
    "duration": 5,
    "start_time": "2022-02-04T13:34:53.809Z"
   },
   {
    "duration": 24,
    "start_time": "2022-02-04T13:34:56.136Z"
   },
   {
    "duration": 9,
    "start_time": "2022-02-04T13:34:59.085Z"
   },
   {
    "duration": 65,
    "start_time": "2022-02-04T13:35:03.057Z"
   },
   {
    "duration": 12,
    "start_time": "2022-02-04T13:35:12.535Z"
   },
   {
    "duration": 1838,
    "start_time": "2022-02-04T13:35:23.493Z"
   },
   {
    "duration": 5,
    "start_time": "2022-02-04T13:35:25.333Z"
   },
   {
    "duration": 114877,
    "start_time": "2022-02-04T13:35:28.326Z"
   },
   {
    "duration": 13,
    "start_time": "2022-02-04T13:37:51.398Z"
   },
   {
    "duration": 15,
    "start_time": "2022-02-04T13:37:54.648Z"
   },
   {
    "duration": 76,
    "start_time": "2022-02-04T13:37:56.646Z"
   },
   {
    "duration": 9,
    "start_time": "2022-02-04T13:37:58.982Z"
   },
   {
    "duration": 1859,
    "start_time": "2022-02-04T13:38:02.152Z"
   },
   {
    "duration": 7,
    "start_time": "2022-02-04T13:38:06.891Z"
   },
   {
    "duration": 91915,
    "start_time": "2022-02-04T13:38:12.160Z"
   },
   {
    "duration": 273,
    "start_time": "2022-02-04T13:40:11.408Z"
   },
   {
    "duration": 16,
    "start_time": "2022-02-04T13:40:14.250Z"
   },
   {
    "duration": 249,
    "start_time": "2022-02-04T13:40:17.217Z"
   },
   {
    "duration": 16,
    "start_time": "2022-02-04T13:40:18.026Z"
   },
   {
    "duration": 172,
    "start_time": "2022-02-04T13:40:20.017Z"
   },
   {
    "duration": 326,
    "start_time": "2022-02-04T13:50:21.553Z"
   },
   {
    "duration": 337,
    "start_time": "2022-02-04T13:51:11.049Z"
   },
   {
    "duration": 315,
    "start_time": "2022-02-04T13:51:34.069Z"
   },
   {
    "duration": 317,
    "start_time": "2022-02-04T13:51:47.208Z"
   },
   {
    "duration": 1115,
    "start_time": "2022-02-04T13:52:06.745Z"
   },
   {
    "duration": 51,
    "start_time": "2022-02-04T13:52:08.392Z"
   },
   {
    "duration": 4,
    "start_time": "2022-02-04T13:52:10.562Z"
   },
   {
    "duration": 28,
    "start_time": "2022-02-04T13:52:11.633Z"
   },
   {
    "duration": 13,
    "start_time": "2022-02-04T13:52:13.713Z"
   },
   {
    "duration": 5,
    "start_time": "2022-02-04T13:52:15.865Z"
   },
   {
    "duration": 25,
    "start_time": "2022-02-04T13:52:17.601Z"
   },
   {
    "duration": 10,
    "start_time": "2022-02-04T13:52:18.439Z"
   },
   {
    "duration": 74,
    "start_time": "2022-02-04T13:52:21.545Z"
   },
   {
    "duration": 7,
    "start_time": "2022-02-04T13:52:28.073Z"
   },
   {
    "duration": 1993,
    "start_time": "2022-02-04T13:52:30.440Z"
   },
   {
    "duration": 7,
    "start_time": "2022-02-04T13:52:37.098Z"
   },
   {
    "duration": 116803,
    "start_time": "2022-02-04T13:52:40.207Z"
   },
   {
    "duration": 14,
    "start_time": "2022-02-04T13:54:57.161Z"
   },
   {
    "duration": 14,
    "start_time": "2022-02-04T13:55:14.300Z"
   },
   {
    "duration": 61,
    "start_time": "2022-02-04T13:55:16.562Z"
   },
   {
    "duration": 12,
    "start_time": "2022-02-04T13:55:17.280Z"
   },
   {
    "duration": 1906,
    "start_time": "2022-02-04T13:55:17.826Z"
   },
   {
    "duration": 8,
    "start_time": "2022-02-04T13:55:22.508Z"
   },
   {
    "duration": 92184,
    "start_time": "2022-02-04T13:55:54.994Z"
   },
   {
    "duration": 236,
    "start_time": "2022-02-04T13:57:40.943Z"
   },
   {
    "duration": 254,
    "start_time": "2022-02-04T13:57:47.508Z"
   },
   {
    "duration": 17,
    "start_time": "2022-02-04T13:57:49.298Z"
   },
   {
    "duration": 318,
    "start_time": "2022-02-04T13:58:57.802Z"
   },
   {
    "duration": 251,
    "start_time": "2022-02-04T13:59:07.629Z"
   },
   {
    "duration": 16,
    "start_time": "2022-02-04T13:59:11.583Z"
   },
   {
    "duration": 160,
    "start_time": "2022-02-04T13:59:17.723Z"
   }
  ],
  "kernelspec": {
   "display_name": "Python 3 (ipykernel)",
   "language": "python",
   "name": "python3"
  },
  "language_info": {
   "codemirror_mode": {
    "name": "ipython",
    "version": 3
   },
   "file_extension": ".py",
   "mimetype": "text/x-python",
   "name": "python",
   "nbconvert_exporter": "python",
   "pygments_lexer": "ipython3",
   "version": "3.9.5"
  },
  "toc": {
   "base_numbering": 1,
   "nav_menu": {},
   "number_sections": true,
   "sideBar": true,
   "skip_h1_title": true,
   "title_cell": "Содержание",
   "title_sidebar": "Contents",
   "toc_cell": true,
   "toc_position": {
    "height": "calc(100% - 180px)",
    "left": "10px",
    "top": "150px",
    "width": "218.6px"
   },
   "toc_section_display": true,
   "toc_window_display": false
  }
 },
 "nbformat": 4,
 "nbformat_minor": 2
}
