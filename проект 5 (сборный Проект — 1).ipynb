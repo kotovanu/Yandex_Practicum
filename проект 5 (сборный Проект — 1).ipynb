{
 "cells": [
  {
   "cell_type": "markdown",
   "metadata": {},
   "source": [
    "<div style=\"border:solid lightseagreen 3px; padding: 20px\">\n",
    "<div>    \n",
    "<p><font color=\"black\" >\n",
    "Привет! Меня зовут Мария Четырева, и я буду делать ревью твоего проекта. Давай будем общаться на «ты». \n",
    "По ходу твоего решения я буду оставлять комментарии, обрати внимание на их цвет.</font></p>\n",
    "</div>\n",
    "\n",
    "<div class=\"alert alert-success\">\n",
    "\n",
    "<b>✔️</b> Зеленым цветом отмечены удачные и элегантные решения, на которые можно опираться в будущем.\n",
    "\n",
    "</div>\n",
    "\n",
    "<div class=\"alert alert-warning\">\n",
    "\n",
    "<b>⚠️</b> Жёлтым цветом выделено то, что в следующий раз можно сделать по-другому. Это не критичные ошибки, исправление которых остается на твое усмотрение. Однако постарайся, чтобы после твоих доработок их было не больше 3.\n",
    "\n",
    "</div>\n",
    "\n",
    "<div class=\"alert alert-danger\">\n",
    "\n",
    "<b>❌</b> Красным цветом отмечены критичные ошибки, без исправления которых проект не будет принят.\n",
    "\n",
    "</div>\n",
    "\n",
    "<p>Давай работать над проектом в диалоге: если ты что-то меняешь в проекте по моим рекомендациям — пиши об этом. Выбери для своих комментариев какой-то заметный цвет, так мне будет легче отследить изменения, например вот так:\n",
    "\n",
    "<div class=\"alert alert-info\">\n",
    "<b>Комментарий студента:</b> Ок\n",
    "<br>\n",
    "</div>\n",
    "    \n",
    "Пожалуйста, не перемещай, не изменяй и не удаляй мои комментарии. Всё это поможет выполнить повторную проверку твоего проекта оперативнее. </p>\n",
    "\n",
    "</div>"
   ]
  },
  {
   "cell_type": "markdown",
   "metadata": {},
   "source": [
    "<div style=\"border:solid lightseagreen 3px; padding: 20px\">\n",
    "<div>\n",
    "<b>Общий комментарий ревьюера: </b> Хорошая работа! Видно, что ты хорошо ориентируешься в материале. Строишь красивые и наглядные графики, с подписанными осями) Все пункты задания выполнены, однако остались следующие доработки:\n",
    "    \n",
    "    ✔ измени актуальный срез данных,\n",
    "    ✔ обрати внимание на замену пропусков в значениях оценок пользователей и критиков,\n",
    "    ✔ добавь промежуточные выводы в отмеченных местах,\n",
    "    ✔ проверь на дубликаты.\n",
    "    \n",
    " Также есть некоторые советы, выделенные желтым, но это оставляю на твое усмотрение.\n",
    "    \n",
    " Исправь эти замечания и присылай работу на повторное ревью. Удачи!\n",
    "    \n",
    "    \n",
    " <div class=\"alert alert-danger\">\n",
    "\n",
    "<b>❌ Комментарий ревьюера v2 </b> Осталось разобраться с пропусками в оценках и выявлением прибыльных платформ/жанров. Жду твоих исправлений!\n",
    "</div>"
   ]
  },
  {
   "cell_type": "markdown",
   "metadata": {},
   "source": [
    "<div class=\"alert alert-info\">\n",
    "<b>Комментарий студента:</b> Привет! Спасибо за комментарии))\n",
    "<br>\n",
    "</div>"
   ]
  },
  {
   "cell_type": "markdown",
   "metadata": {},
   "source": [
    "\n",
    "<img src=\"https://i.ibb.co/vZtG5zL/image.jpg\" width=450 height=450 />"
   ]
  },
  {
   "cell_type": "markdown",
   "metadata": {},
   "source": [
    "# Описание проекта\n",
    "Интернет-магазине «Стримчик», который продаёт по всему миру компьютерные игры. Из открытых источников доступны исторические данные о продажах игр, оценки пользователей и экспертов, жанры и платформы (например, Xbox или PlayStation). Нам нужно выявить определяющие успешность игры закономерности. Это позволит сделать ставку на потенциально популярный продукт и спланировать рекламные кампании.\n",
    "\n",
    "Перед нами данные до 2016 года. Представим, что сейчас декабрь 2016 г., и мы планируем кампанию на 2017-й. Нужно отработать принцип работы с данными. Неважно, прогнозируем ли мы продажи на 2017 год по данным 2016-го или же 2027-й — по данным 2026 года.\n",
    "\n",
    "В наборе данных попадается аббревиатура ESRB (Entertainment Software Rating Board) — это ассоциация, определяющая возрастной рейтинг компьютерных игр. ESRB оценивает игровой контент и присваивает ему подходящую возрастную категорию, например, «Для взрослых», «Для детей младшего возраста» или «Для подростков».\n",
    "\n",
    "# Описание данных\n",
    "Name — название игры\n",
    "\n",
    "Platform — платформа\n",
    "\n",
    "Year_of_Release — год выпуска\n",
    "\n",
    "Genre — жанр игры\n",
    "\n",
    "NA_sales — продажи в Северной Америке (миллионы проданных копий)\n",
    "\n",
    "EU_sales — продажи в Европе (миллионы проданных копий)\n",
    "\n",
    "JP_sales — продажи в Японии (миллионы проданных копий)\n",
    "\n",
    "Other_sales — продажи в других странах (миллионы проданных копий)\n",
    "\n",
    "Critic_Score — оценка критиков (максимум 100)\n",
    "\n",
    "User_Score — оценка пользователей (максимум 10)\n",
    "\n",
    "Rating — рейтинг от организации ESRB (англ. Entertainment Software Rating Board). Эта ассоциация определяет рейтинг компьютерных игр и присваивает им подходящую возрастную категорию.\n",
    "\n",
    "# План работы:\n",
    "1. Открытие файла с данными и изучение общей информации\n",
    "2. Подготовка данных\n",
    "    1. Замена названия столбцов (привести к нижнему регистру);\n",
    "    2. Преобразование данных в нужные типы;\n",
    "    3. Обработка пропусков при необходимости:\n",
    "    4. Подсчет суммарных продаж во всех регионах.\n",
    "3. Проведение исследовательского анализа данных\n",
    "    1. Посмотреть, сколько игр выпускалось в разные годы. Важны ли данные за все периоды?\n",
    "    2. Посмотреть, как менялись продажи по платформам. Выбрать платформы с наибольшими суммарными продажами и построить распределение по годам. За какой характерный срок появляются новые и исчезают старые платформы?\n",
    "    3. Взять данные за соответствующий актуальный период. Актуальный период определить самостоятельно в результате исследования предыдущих вопросов. Основной фактор — эти данные помогут построить прогноз на 2017 год.\n",
    "    4. Не учитывайть в работе данные за предыдущие годы.\n",
    "    5. Какие платформы лидируют по продажам, растут или падают? Выбрать несколько потенциально прибыльных платформ.\n",
    "    6. Построить график «ящик с усами» по глобальным продажам игр в разбивке по платформам. Описать результат.\n",
    "    7. Посмотреть, как влияют на продажи внутри одной популярной платформы отзывы пользователей и критиков. Построить диаграмму рассеяния и посчитать корреляцию между отзывами и продажами. Сформулировать выводы.\n",
    "    8. Соотнести выводы с продажами игр на других платформах.\n",
    "    9. Посмотреть на общее распределение игр по жанрам. Что можно сказать о самых прибыльных жанрах? Выделяются ли жанры с высокими и низкими продажами?\n",
    "4. Составление портрета пользователя каждого региона\n",
    "\n",
    "    Определить для пользователя каждого региона (NA, EU, JP):\n",
    "        1. Самые популярные платформы (топ-5). Опишите различия в долях продаж.\n",
    "        2. Самые популярные жанры (топ-5). Поясните разницу.\n",
    "        3. Влияет ли рейтинг ESRB на продажи в отдельном регионе?\n",
    "5. Проверка гипотез\n",
    "    1. Средние пользовательские рейтинги платформ Xbox One и PC одинаковые;\n",
    "    2. Средние пользовательские рейтинги жанров Action (англ. «действие», экшен-игры) и Sports (англ. «спортивные соревнования») разные.\n",
    "6. Общий вывод"
   ]
  },
  {
   "cell_type": "markdown",
   "metadata": {},
   "source": [
    "# Шаг 1. Открытие файла с данными и изучение общей информации"
   ]
  },
  {
   "cell_type": "code",
   "execution_count": 1,
   "metadata": {},
   "outputs": [],
   "source": [
    "import pandas as pd\n",
    "import numpy as np\n",
    "import matplotlib.pyplot as plt\n",
    "import seaborn as sns\n",
    "from scipy import stats as st"
   ]
  },
  {
   "cell_type": "code",
   "execution_count": 2,
   "metadata": {},
   "outputs": [],
   "source": [
    "df = pd.read_csv('/datasets/games.csv')"
   ]
  },
  {
   "cell_type": "code",
   "execution_count": 3,
   "metadata": {
    "scrolled": false
   },
   "outputs": [
    {
     "data": {
      "text/html": [
       "<div>\n",
       "<style scoped>\n",
       "    .dataframe tbody tr th:only-of-type {\n",
       "        vertical-align: middle;\n",
       "    }\n",
       "\n",
       "    .dataframe tbody tr th {\n",
       "        vertical-align: top;\n",
       "    }\n",
       "\n",
       "    .dataframe thead th {\n",
       "        text-align: right;\n",
       "    }\n",
       "</style>\n",
       "<table border=\"1\" class=\"dataframe\">\n",
       "  <thead>\n",
       "    <tr style=\"text-align: right;\">\n",
       "      <th></th>\n",
       "      <th>Name</th>\n",
       "      <th>Platform</th>\n",
       "      <th>Year_of_Release</th>\n",
       "      <th>Genre</th>\n",
       "      <th>NA_sales</th>\n",
       "      <th>EU_sales</th>\n",
       "      <th>JP_sales</th>\n",
       "      <th>Other_sales</th>\n",
       "      <th>Critic_Score</th>\n",
       "      <th>User_Score</th>\n",
       "      <th>Rating</th>\n",
       "    </tr>\n",
       "  </thead>\n",
       "  <tbody>\n",
       "    <tr>\n",
       "      <td>0</td>\n",
       "      <td>Wii Sports</td>\n",
       "      <td>Wii</td>\n",
       "      <td>2006.0</td>\n",
       "      <td>Sports</td>\n",
       "      <td>41.36</td>\n",
       "      <td>28.96</td>\n",
       "      <td>3.77</td>\n",
       "      <td>8.45</td>\n",
       "      <td>76.0</td>\n",
       "      <td>8</td>\n",
       "      <td>E</td>\n",
       "    </tr>\n",
       "    <tr>\n",
       "      <td>1</td>\n",
       "      <td>Super Mario Bros.</td>\n",
       "      <td>NES</td>\n",
       "      <td>1985.0</td>\n",
       "      <td>Platform</td>\n",
       "      <td>29.08</td>\n",
       "      <td>3.58</td>\n",
       "      <td>6.81</td>\n",
       "      <td>0.77</td>\n",
       "      <td>NaN</td>\n",
       "      <td>NaN</td>\n",
       "      <td>NaN</td>\n",
       "    </tr>\n",
       "    <tr>\n",
       "      <td>2</td>\n",
       "      <td>Mario Kart Wii</td>\n",
       "      <td>Wii</td>\n",
       "      <td>2008.0</td>\n",
       "      <td>Racing</td>\n",
       "      <td>15.68</td>\n",
       "      <td>12.76</td>\n",
       "      <td>3.79</td>\n",
       "      <td>3.29</td>\n",
       "      <td>82.0</td>\n",
       "      <td>8.3</td>\n",
       "      <td>E</td>\n",
       "    </tr>\n",
       "    <tr>\n",
       "      <td>3</td>\n",
       "      <td>Wii Sports Resort</td>\n",
       "      <td>Wii</td>\n",
       "      <td>2009.0</td>\n",
       "      <td>Sports</td>\n",
       "      <td>15.61</td>\n",
       "      <td>10.93</td>\n",
       "      <td>3.28</td>\n",
       "      <td>2.95</td>\n",
       "      <td>80.0</td>\n",
       "      <td>8</td>\n",
       "      <td>E</td>\n",
       "    </tr>\n",
       "    <tr>\n",
       "      <td>4</td>\n",
       "      <td>Pokemon Red/Pokemon Blue</td>\n",
       "      <td>GB</td>\n",
       "      <td>1996.0</td>\n",
       "      <td>Role-Playing</td>\n",
       "      <td>11.27</td>\n",
       "      <td>8.89</td>\n",
       "      <td>10.22</td>\n",
       "      <td>1.00</td>\n",
       "      <td>NaN</td>\n",
       "      <td>NaN</td>\n",
       "      <td>NaN</td>\n",
       "    </tr>\n",
       "  </tbody>\n",
       "</table>\n",
       "</div>"
      ],
      "text/plain": [
       "                       Name Platform  Year_of_Release         Genre  NA_sales  \\\n",
       "0                Wii Sports      Wii           2006.0        Sports     41.36   \n",
       "1         Super Mario Bros.      NES           1985.0      Platform     29.08   \n",
       "2            Mario Kart Wii      Wii           2008.0        Racing     15.68   \n",
       "3         Wii Sports Resort      Wii           2009.0        Sports     15.61   \n",
       "4  Pokemon Red/Pokemon Blue       GB           1996.0  Role-Playing     11.27   \n",
       "\n",
       "   EU_sales  JP_sales  Other_sales  Critic_Score User_Score Rating  \n",
       "0     28.96      3.77         8.45          76.0          8      E  \n",
       "1      3.58      6.81         0.77           NaN        NaN    NaN  \n",
       "2     12.76      3.79         3.29          82.0        8.3      E  \n",
       "3     10.93      3.28         2.95          80.0          8      E  \n",
       "4      8.89     10.22         1.00           NaN        NaN    NaN  "
      ]
     },
     "metadata": {},
     "output_type": "display_data"
    },
    {
     "name": "stdout",
     "output_type": "stream",
     "text": [
      "<class 'pandas.core.frame.DataFrame'>\n",
      "RangeIndex: 16715 entries, 0 to 16714\n",
      "Data columns (total 11 columns):\n",
      "Name               16713 non-null object\n",
      "Platform           16715 non-null object\n",
      "Year_of_Release    16446 non-null float64\n",
      "Genre              16713 non-null object\n",
      "NA_sales           16715 non-null float64\n",
      "EU_sales           16715 non-null float64\n",
      "JP_sales           16715 non-null float64\n",
      "Other_sales        16715 non-null float64\n",
      "Critic_Score       8137 non-null float64\n",
      "User_Score         10014 non-null object\n",
      "Rating             9949 non-null object\n",
      "dtypes: float64(6), object(5)\n",
      "memory usage: 1.4+ MB\n"
     ]
    },
    {
     "data": {
      "text/plain": [
       "None"
      ]
     },
     "metadata": {},
     "output_type": "display_data"
    },
    {
     "data": {
      "text/html": [
       "<div>\n",
       "<style scoped>\n",
       "    .dataframe tbody tr th:only-of-type {\n",
       "        vertical-align: middle;\n",
       "    }\n",
       "\n",
       "    .dataframe tbody tr th {\n",
       "        vertical-align: top;\n",
       "    }\n",
       "\n",
       "    .dataframe thead th {\n",
       "        text-align: right;\n",
       "    }\n",
       "</style>\n",
       "<table border=\"1\" class=\"dataframe\">\n",
       "  <thead>\n",
       "    <tr style=\"text-align: right;\">\n",
       "      <th></th>\n",
       "      <th>Year_of_Release</th>\n",
       "      <th>NA_sales</th>\n",
       "      <th>EU_sales</th>\n",
       "      <th>JP_sales</th>\n",
       "      <th>Other_sales</th>\n",
       "      <th>Critic_Score</th>\n",
       "    </tr>\n",
       "  </thead>\n",
       "  <tbody>\n",
       "    <tr>\n",
       "      <td>count</td>\n",
       "      <td>16446.000000</td>\n",
       "      <td>16715.000000</td>\n",
       "      <td>16715.000000</td>\n",
       "      <td>16715.000000</td>\n",
       "      <td>16715.000000</td>\n",
       "      <td>8137.000000</td>\n",
       "    </tr>\n",
       "    <tr>\n",
       "      <td>mean</td>\n",
       "      <td>2006.484616</td>\n",
       "      <td>0.263377</td>\n",
       "      <td>0.145060</td>\n",
       "      <td>0.077617</td>\n",
       "      <td>0.047342</td>\n",
       "      <td>68.967679</td>\n",
       "    </tr>\n",
       "    <tr>\n",
       "      <td>std</td>\n",
       "      <td>5.877050</td>\n",
       "      <td>0.813604</td>\n",
       "      <td>0.503339</td>\n",
       "      <td>0.308853</td>\n",
       "      <td>0.186731</td>\n",
       "      <td>13.938165</td>\n",
       "    </tr>\n",
       "    <tr>\n",
       "      <td>min</td>\n",
       "      <td>1980.000000</td>\n",
       "      <td>0.000000</td>\n",
       "      <td>0.000000</td>\n",
       "      <td>0.000000</td>\n",
       "      <td>0.000000</td>\n",
       "      <td>13.000000</td>\n",
       "    </tr>\n",
       "    <tr>\n",
       "      <td>25%</td>\n",
       "      <td>2003.000000</td>\n",
       "      <td>0.000000</td>\n",
       "      <td>0.000000</td>\n",
       "      <td>0.000000</td>\n",
       "      <td>0.000000</td>\n",
       "      <td>60.000000</td>\n",
       "    </tr>\n",
       "    <tr>\n",
       "      <td>50%</td>\n",
       "      <td>2007.000000</td>\n",
       "      <td>0.080000</td>\n",
       "      <td>0.020000</td>\n",
       "      <td>0.000000</td>\n",
       "      <td>0.010000</td>\n",
       "      <td>71.000000</td>\n",
       "    </tr>\n",
       "    <tr>\n",
       "      <td>75%</td>\n",
       "      <td>2010.000000</td>\n",
       "      <td>0.240000</td>\n",
       "      <td>0.110000</td>\n",
       "      <td>0.040000</td>\n",
       "      <td>0.030000</td>\n",
       "      <td>79.000000</td>\n",
       "    </tr>\n",
       "    <tr>\n",
       "      <td>max</td>\n",
       "      <td>2016.000000</td>\n",
       "      <td>41.360000</td>\n",
       "      <td>28.960000</td>\n",
       "      <td>10.220000</td>\n",
       "      <td>10.570000</td>\n",
       "      <td>98.000000</td>\n",
       "    </tr>\n",
       "  </tbody>\n",
       "</table>\n",
       "</div>"
      ],
      "text/plain": [
       "       Year_of_Release      NA_sales      EU_sales      JP_sales  \\\n",
       "count     16446.000000  16715.000000  16715.000000  16715.000000   \n",
       "mean       2006.484616      0.263377      0.145060      0.077617   \n",
       "std           5.877050      0.813604      0.503339      0.308853   \n",
       "min        1980.000000      0.000000      0.000000      0.000000   \n",
       "25%        2003.000000      0.000000      0.000000      0.000000   \n",
       "50%        2007.000000      0.080000      0.020000      0.000000   \n",
       "75%        2010.000000      0.240000      0.110000      0.040000   \n",
       "max        2016.000000     41.360000     28.960000     10.220000   \n",
       "\n",
       "        Other_sales  Critic_Score  \n",
       "count  16715.000000   8137.000000  \n",
       "mean       0.047342     68.967679  \n",
       "std        0.186731     13.938165  \n",
       "min        0.000000     13.000000  \n",
       "25%        0.000000     60.000000  \n",
       "50%        0.010000     71.000000  \n",
       "75%        0.030000     79.000000  \n",
       "max       10.570000     98.000000  "
      ]
     },
     "metadata": {},
     "output_type": "display_data"
    }
   ],
   "source": [
    "display(df.head())\n",
    "display(df.info())\n",
    "display(df.describe())"
   ]
  },
  {
   "cell_type": "code",
   "execution_count": 4,
   "metadata": {},
   "outputs": [
    {
     "name": "stdout",
     "output_type": "stream",
     "text": [
      "2\n",
      "269\n",
      "2\n",
      "8578\n",
      "6701\n",
      "6766\n"
     ]
    }
   ],
   "source": [
    "print(df['Name'].isna().sum())\n",
    "print(df['Year_of_Release'].isna().sum())\n",
    "print(df['Genre'].isna().sum())\n",
    "print(df['Critic_Score'].isna().sum())\n",
    "print(df['User_Score'].isna().sum())\n",
    "print(df['Rating'].isna().sum())"
   ]
  },
  {
   "cell_type": "markdown",
   "metadata": {},
   "source": [
    "<div class=\"alert alert-danger\">\n",
    "\n",
    "<b>❌ Комментарий ревьюера </b> А как же проверка на дубликаты?\n",
    "\n",
    "</div>"
   ]
  },
  {
   "cell_type": "markdown",
   "metadata": {},
   "source": [
    "<div class=\"alert alert-info\">\n",
    "<b>Комментарий студента:</b> Да, спасибо за напоминание. Забыл\n",
    "<br>\n",
    "</div>"
   ]
  },
  {
   "cell_type": "code",
   "execution_count": 5,
   "metadata": {},
   "outputs": [
    {
     "data": {
      "text/plain": [
       "0"
      ]
     },
     "execution_count": 5,
     "metadata": {},
     "output_type": "execute_result"
    }
   ],
   "source": [
    "df.duplicated().sum()"
   ]
  },
  {
   "cell_type": "markdown",
   "metadata": {},
   "source": [
    "<div class=\"alert alert-success\">\n",
    "\n",
    "<b>✔️ Комментарий ревьюера v2:</b> 👍\n",
    "\n",
    "</div>"
   ]
  },
  {
   "cell_type": "markdown",
   "metadata": {},
   "source": [
    "# Вывод\n",
    "1. Нужно привести к правильному типу столбцы : Year of Release и User_Score;\n",
    "2. Нужно привести к нижнему регистру все столбцы;\n",
    "3. Есть пропуски в столбцах. Нужно обработать их."
   ]
  },
  {
   "cell_type": "markdown",
   "metadata": {},
   "source": [
    "<div class=\"alert alert-success\">\n",
    "<b>Комментарий ревьюера:</b> Отлично, начало проекта положено. Изучили общую информацию о данных, наметили план действий.\n",
    "<br>\n",
    "</div>"
   ]
  },
  {
   "cell_type": "markdown",
   "metadata": {},
   "source": [
    "# Шаг 2. Подготовка данных\n",
    "    1. Замена названия столбцов (привести к нижнему регистру);\n",
    "    2. Преобразование данных в нужные типы;\n",
    "    3. Обработка пропусков при необходимости:\n",
    "    4. Подсчет суммарных продаж во всех регионах."
   ]
  },
  {
   "cell_type": "code",
   "execution_count": 6,
   "metadata": {},
   "outputs": [],
   "source": [
    "# 1.Замена названия столбцов;\n",
    "#df.columns = ['name','platform','year_of_release','genre', 'na_sales', 'eu_sales', 'jp_sales','other_sales','critic_score','user_score','rating']"
   ]
  },
  {
   "cell_type": "code",
   "execution_count": 7,
   "metadata": {},
   "outputs": [
    {
     "data": {
      "text/plain": [
       "Index(['name', 'platform', 'year_of_release', 'genre', 'na_sales', 'eu_sales',\n",
       "       'jp_sales', 'other_sales', 'critic_score', 'user_score', 'rating'],\n",
       "      dtype='object')"
      ]
     },
     "execution_count": 7,
     "metadata": {},
     "output_type": "execute_result"
    }
   ],
   "source": [
    "df.columns = df.columns.str.lower()\n",
    "df.columns"
   ]
  },
  {
   "cell_type": "markdown",
   "metadata": {},
   "source": [
    "<div class=\"alert alert-warning\">\n",
    "<b>⚠️ Комментарий ревьюера:</b> Круто, что ты переименовываешь столбцы. Однако привести названия к нижнему регистру можно легко и просто, используя метод str.lower(): \n",
    "    \n",
    "  https://pandas.pydata.org/docs/reference/api/pandas.Series.str.lower.html\n",
    "</div>"
   ]
  },
  {
   "cell_type": "markdown",
   "metadata": {},
   "source": [
    "<div class=\"alert alert-info\">\n",
    "<b>Комментарий студента:</b> Сделал.\n",
    "<br>\n",
    "</div>"
   ]
  },
  {
   "cell_type": "markdown",
   "metadata": {},
   "source": [
    "<div class=\"alert alert-success\">\n",
    "\n",
    "<b>✔️ Комментарий ревьюера v2:</b> Отлично!\n",
    "\n",
    "</div>"
   ]
  },
  {
   "cell_type": "code",
   "execution_count": 8,
   "metadata": {},
   "outputs": [],
   "source": [
    "# 2.Преобразование данных в нужные типы;\n",
    "df['year_of_release'] = df['year_of_release'].astype('Int64')"
   ]
  },
  {
   "cell_type": "code",
   "execution_count": 9,
   "metadata": {},
   "outputs": [
    {
     "data": {
      "text/html": [
       "<div>\n",
       "<style scoped>\n",
       "    .dataframe tbody tr th:only-of-type {\n",
       "        vertical-align: middle;\n",
       "    }\n",
       "\n",
       "    .dataframe tbody tr th {\n",
       "        vertical-align: top;\n",
       "    }\n",
       "\n",
       "    .dataframe thead th {\n",
       "        text-align: right;\n",
       "    }\n",
       "</style>\n",
       "<table border=\"1\" class=\"dataframe\">\n",
       "  <thead>\n",
       "    <tr style=\"text-align: right;\">\n",
       "      <th></th>\n",
       "      <th>name</th>\n",
       "      <th>platform</th>\n",
       "      <th>year_of_release</th>\n",
       "      <th>genre</th>\n",
       "      <th>na_sales</th>\n",
       "      <th>eu_sales</th>\n",
       "      <th>jp_sales</th>\n",
       "      <th>other_sales</th>\n",
       "      <th>critic_score</th>\n",
       "      <th>user_score</th>\n",
       "      <th>rating</th>\n",
       "    </tr>\n",
       "  </thead>\n",
       "  <tbody>\n",
       "    <tr>\n",
       "      <td>659</td>\n",
       "      <td>NaN</td>\n",
       "      <td>GEN</td>\n",
       "      <td>1993</td>\n",
       "      <td>NaN</td>\n",
       "      <td>1.78</td>\n",
       "      <td>0.53</td>\n",
       "      <td>0.00</td>\n",
       "      <td>0.08</td>\n",
       "      <td>NaN</td>\n",
       "      <td>NaN</td>\n",
       "      <td>NaN</td>\n",
       "    </tr>\n",
       "    <tr>\n",
       "      <td>14244</td>\n",
       "      <td>NaN</td>\n",
       "      <td>GEN</td>\n",
       "      <td>1993</td>\n",
       "      <td>NaN</td>\n",
       "      <td>0.00</td>\n",
       "      <td>0.00</td>\n",
       "      <td>0.03</td>\n",
       "      <td>0.00</td>\n",
       "      <td>NaN</td>\n",
       "      <td>NaN</td>\n",
       "      <td>NaN</td>\n",
       "    </tr>\n",
       "  </tbody>\n",
       "</table>\n",
       "</div>"
      ],
      "text/plain": [
       "      name platform  year_of_release genre  na_sales  eu_sales  jp_sales  \\\n",
       "659    NaN      GEN             1993   NaN      1.78      0.53      0.00   \n",
       "14244  NaN      GEN             1993   NaN      0.00      0.00      0.03   \n",
       "\n",
       "       other_sales  critic_score user_score rating  \n",
       "659           0.08           NaN        NaN    NaN  \n",
       "14244         0.00           NaN        NaN    NaN  "
      ]
     },
     "execution_count": 9,
     "metadata": {},
     "output_type": "execute_result"
    }
   ],
   "source": [
    "df[df['name'].isna()]"
   ]
  },
  {
   "cell_type": "code",
   "execution_count": 10,
   "metadata": {},
   "outputs": [
    {
     "data": {
      "text/plain": [
       "51.31917439425665"
      ]
     },
     "execution_count": 10,
     "metadata": {},
     "output_type": "execute_result"
    }
   ],
   "source": [
    "#процент пропусков\n",
    "def percentage_of_skips(x):\n",
    "    return x.isna().sum() / len(x) * 100\n",
    "\n",
    "percentage_of_skips(df['critic_score'])"
   ]
  },
  {
   "cell_type": "code",
   "execution_count": 11,
   "metadata": {},
   "outputs": [],
   "source": [
    "df.dropna(subset=['name'],inplace = True)"
   ]
  },
  {
   "cell_type": "markdown",
   "metadata": {},
   "source": [
    "<div class=\"alert alert-success\">\n",
    "<b>Комментарий ревьюера:</b> Действительно, мы почти ничего не знаем об этих играх, такие строки лучше удалить. \n",
    "<br>\n",
    "</div>"
   ]
  },
  {
   "cell_type": "code",
   "execution_count": 12,
   "metadata": {},
   "outputs": [],
   "source": [
    "# заполнение пропусков в critic_score медианной\n",
    "#df['critic_score'] = df.groupby('genre')['critic_score'].transform(lambda x: x.fillna(x.median())) "
   ]
  },
  {
   "cell_type": "markdown",
   "metadata": {},
   "source": [
    "<div class=\"alert alert-danger\">\n",
    "<b>Комментарий ревьюера:</b> Почему ты считаешь, что такая замена корректна?\n",
    "<br>\n",
    "</div>"
   ]
  },
  {
   "cell_type": "markdown",
   "metadata": {},
   "source": [
    "<div class=\"alert alert-info\">\n",
    "<b>Комментарий студента:</b> Вообще я хотел сгруппировать по жанру и по платформе. Вот так: \n",
    "    \n",
    "    df['critic_score'] = df.groupby(['genre','platform'])['critic_score'].transform(lambda x: x.fillna(x.median()))\n",
    "Но потом подумал, что вообще некорректно так делать. Отзывы, по идее, от этого не зависят. А зависят от самой игры. В данном случае лучше оставить пропуски? \n",
    "<br>\n",
    "</div>"
   ]
  },
  {
   "cell_type": "markdown",
   "metadata": {},
   "source": [
    "<div class=\"alert alert-danger\">\n",
    "<b>Комментарий ревьюера v2:</b> Да, в данном случае некорректно заполнять пропуски ни средним, ни медианой, ни какой-либо другой метрикой. Лучше поставить значение-заглушку, например, -1. \n",
    "<br>\n",
    "</div>"
   ]
  },
  {
   "cell_type": "markdown",
   "metadata": {},
   "source": [
    "<div class=\"alert alert-info\">\n",
    "<b>Комментарий студента:</b> А не будут ли значения -1 влиять на результаты? Или в будущем стоит просто обрезать их? (дальше в работе я так и сделал).А если оставить пропуски без заполнения -1, не будет ли это ошибкой?\n",
    "<br>\n",
    "</div>"
   ]
  },
  {
   "cell_type": "markdown",
   "metadata": {},
   "source": [
    "<div class=\"alert alert-success\">\n",
    "\n",
    "<b>✔️ Комментарий ревьюера v3:</b> Да, при дальнейших рассчетах необходимо фильтроваться по значению. Поэтому заглушка и выбирается нереальным значением, чтобы данные точно на нее не попали. Можно оставить пропуски и без заполнения, но тогда мы не сможем привести типы. И все равно придется фильтроваться по not null значениям перед проведением теста Манна-Уитни\n",
    "\n",
    "</div>"
   ]
  },
  {
   "cell_type": "code",
   "execution_count": 13,
   "metadata": {},
   "outputs": [],
   "source": [
    "df['critic_score'] = df['critic_score'].fillna(-1)"
   ]
  },
  {
   "cell_type": "code",
   "execution_count": 14,
   "metadata": {},
   "outputs": [
    {
     "data": {
      "text/html": [
       "<div>\n",
       "<style scoped>\n",
       "    .dataframe tbody tr th:only-of-type {\n",
       "        vertical-align: middle;\n",
       "    }\n",
       "\n",
       "    .dataframe tbody tr th {\n",
       "        vertical-align: top;\n",
       "    }\n",
       "\n",
       "    .dataframe thead th {\n",
       "        text-align: right;\n",
       "    }\n",
       "</style>\n",
       "<table border=\"1\" class=\"dataframe\">\n",
       "  <thead>\n",
       "    <tr style=\"text-align: right;\">\n",
       "      <th></th>\n",
       "      <th>name</th>\n",
       "      <th>platform</th>\n",
       "      <th>year_of_release</th>\n",
       "      <th>genre</th>\n",
       "      <th>na_sales</th>\n",
       "      <th>eu_sales</th>\n",
       "      <th>jp_sales</th>\n",
       "      <th>other_sales</th>\n",
       "      <th>critic_score</th>\n",
       "      <th>user_score</th>\n",
       "      <th>rating</th>\n",
       "    </tr>\n",
       "  </thead>\n",
       "  <tbody>\n",
       "    <tr>\n",
       "      <td>0</td>\n",
       "      <td>Wii Sports</td>\n",
       "      <td>Wii</td>\n",
       "      <td>2006</td>\n",
       "      <td>Sports</td>\n",
       "      <td>41.36</td>\n",
       "      <td>28.96</td>\n",
       "      <td>3.77</td>\n",
       "      <td>8.45</td>\n",
       "      <td>76.0</td>\n",
       "      <td>8</td>\n",
       "      <td>E</td>\n",
       "    </tr>\n",
       "    <tr>\n",
       "      <td>1</td>\n",
       "      <td>Super Mario Bros.</td>\n",
       "      <td>NES</td>\n",
       "      <td>1985</td>\n",
       "      <td>Platform</td>\n",
       "      <td>29.08</td>\n",
       "      <td>3.58</td>\n",
       "      <td>6.81</td>\n",
       "      <td>0.77</td>\n",
       "      <td>-1.0</td>\n",
       "      <td>NaN</td>\n",
       "      <td>NaN</td>\n",
       "    </tr>\n",
       "    <tr>\n",
       "      <td>2</td>\n",
       "      <td>Mario Kart Wii</td>\n",
       "      <td>Wii</td>\n",
       "      <td>2008</td>\n",
       "      <td>Racing</td>\n",
       "      <td>15.68</td>\n",
       "      <td>12.76</td>\n",
       "      <td>3.79</td>\n",
       "      <td>3.29</td>\n",
       "      <td>82.0</td>\n",
       "      <td>8.3</td>\n",
       "      <td>E</td>\n",
       "    </tr>\n",
       "    <tr>\n",
       "      <td>3</td>\n",
       "      <td>Wii Sports Resort</td>\n",
       "      <td>Wii</td>\n",
       "      <td>2009</td>\n",
       "      <td>Sports</td>\n",
       "      <td>15.61</td>\n",
       "      <td>10.93</td>\n",
       "      <td>3.28</td>\n",
       "      <td>2.95</td>\n",
       "      <td>80.0</td>\n",
       "      <td>8</td>\n",
       "      <td>E</td>\n",
       "    </tr>\n",
       "    <tr>\n",
       "      <td>4</td>\n",
       "      <td>Pokemon Red/Pokemon Blue</td>\n",
       "      <td>GB</td>\n",
       "      <td>1996</td>\n",
       "      <td>Role-Playing</td>\n",
       "      <td>11.27</td>\n",
       "      <td>8.89</td>\n",
       "      <td>10.22</td>\n",
       "      <td>1.00</td>\n",
       "      <td>-1.0</td>\n",
       "      <td>NaN</td>\n",
       "      <td>NaN</td>\n",
       "    </tr>\n",
       "  </tbody>\n",
       "</table>\n",
       "</div>"
      ],
      "text/plain": [
       "                       name platform  year_of_release         genre  na_sales  \\\n",
       "0                Wii Sports      Wii             2006        Sports     41.36   \n",
       "1         Super Mario Bros.      NES             1985      Platform     29.08   \n",
       "2            Mario Kart Wii      Wii             2008        Racing     15.68   \n",
       "3         Wii Sports Resort      Wii             2009        Sports     15.61   \n",
       "4  Pokemon Red/Pokemon Blue       GB             1996  Role-Playing     11.27   \n",
       "\n",
       "   eu_sales  jp_sales  other_sales  critic_score user_score rating  \n",
       "0     28.96      3.77         8.45          76.0          8      E  \n",
       "1      3.58      6.81         0.77          -1.0        NaN    NaN  \n",
       "2     12.76      3.79         3.29          82.0        8.3      E  \n",
       "3     10.93      3.28         2.95          80.0          8      E  \n",
       "4      8.89     10.22         1.00          -1.0        NaN    NaN  "
      ]
     },
     "execution_count": 14,
     "metadata": {},
     "output_type": "execute_result"
    }
   ],
   "source": [
    "df.head()"
   ]
  },
  {
   "cell_type": "code",
   "execution_count": 15,
   "metadata": {},
   "outputs": [
    {
     "data": {
      "text/html": [
       "<div>\n",
       "<style scoped>\n",
       "    .dataframe tbody tr th:only-of-type {\n",
       "        vertical-align: middle;\n",
       "    }\n",
       "\n",
       "    .dataframe tbody tr th {\n",
       "        vertical-align: top;\n",
       "    }\n",
       "\n",
       "    .dataframe thead th {\n",
       "        text-align: right;\n",
       "    }\n",
       "</style>\n",
       "<table border=\"1\" class=\"dataframe\">\n",
       "  <thead>\n",
       "    <tr style=\"text-align: right;\">\n",
       "      <th></th>\n",
       "      <th>name</th>\n",
       "      <th>platform</th>\n",
       "      <th>year_of_release</th>\n",
       "      <th>genre</th>\n",
       "      <th>na_sales</th>\n",
       "      <th>eu_sales</th>\n",
       "      <th>jp_sales</th>\n",
       "      <th>other_sales</th>\n",
       "      <th>critic_score</th>\n",
       "      <th>user_score</th>\n",
       "      <th>rating</th>\n",
       "    </tr>\n",
       "  </thead>\n",
       "  <tbody>\n",
       "    <tr>\n",
       "      <td>119</td>\n",
       "      <td>Zumba Fitness</td>\n",
       "      <td>Wii</td>\n",
       "      <td>2010</td>\n",
       "      <td>Sports</td>\n",
       "      <td>3.45</td>\n",
       "      <td>2.59</td>\n",
       "      <td>0.0</td>\n",
       "      <td>0.66</td>\n",
       "      <td>-1.0</td>\n",
       "      <td>tbd</td>\n",
       "      <td>E</td>\n",
       "    </tr>\n",
       "    <tr>\n",
       "      <td>301</td>\n",
       "      <td>Namco Museum: 50th Anniversary</td>\n",
       "      <td>PS2</td>\n",
       "      <td>2005</td>\n",
       "      <td>Misc</td>\n",
       "      <td>2.08</td>\n",
       "      <td>1.35</td>\n",
       "      <td>0.0</td>\n",
       "      <td>0.54</td>\n",
       "      <td>61.0</td>\n",
       "      <td>tbd</td>\n",
       "      <td>E10+</td>\n",
       "    </tr>\n",
       "    <tr>\n",
       "      <td>520</td>\n",
       "      <td>Zumba Fitness 2</td>\n",
       "      <td>Wii</td>\n",
       "      <td>2011</td>\n",
       "      <td>Sports</td>\n",
       "      <td>1.51</td>\n",
       "      <td>1.03</td>\n",
       "      <td>0.0</td>\n",
       "      <td>0.27</td>\n",
       "      <td>-1.0</td>\n",
       "      <td>tbd</td>\n",
       "      <td>T</td>\n",
       "    </tr>\n",
       "    <tr>\n",
       "      <td>645</td>\n",
       "      <td>uDraw Studio</td>\n",
       "      <td>Wii</td>\n",
       "      <td>2010</td>\n",
       "      <td>Misc</td>\n",
       "      <td>1.65</td>\n",
       "      <td>0.57</td>\n",
       "      <td>0.0</td>\n",
       "      <td>0.20</td>\n",
       "      <td>71.0</td>\n",
       "      <td>tbd</td>\n",
       "      <td>E</td>\n",
       "    </tr>\n",
       "    <tr>\n",
       "      <td>657</td>\n",
       "      <td>Frogger's Adventures: Temple of the Frog</td>\n",
       "      <td>GBA</td>\n",
       "      <td>NaN</td>\n",
       "      <td>Adventure</td>\n",
       "      <td>2.15</td>\n",
       "      <td>0.18</td>\n",
       "      <td>0.0</td>\n",
       "      <td>0.07</td>\n",
       "      <td>73.0</td>\n",
       "      <td>tbd</td>\n",
       "      <td>E</td>\n",
       "    </tr>\n",
       "    <tr>\n",
       "      <td>...</td>\n",
       "      <td>...</td>\n",
       "      <td>...</td>\n",
       "      <td>...</td>\n",
       "      <td>...</td>\n",
       "      <td>...</td>\n",
       "      <td>...</td>\n",
       "      <td>...</td>\n",
       "      <td>...</td>\n",
       "      <td>...</td>\n",
       "      <td>...</td>\n",
       "      <td>...</td>\n",
       "    </tr>\n",
       "    <tr>\n",
       "      <td>16695</td>\n",
       "      <td>Planet Monsters</td>\n",
       "      <td>GBA</td>\n",
       "      <td>2001</td>\n",
       "      <td>Action</td>\n",
       "      <td>0.01</td>\n",
       "      <td>0.00</td>\n",
       "      <td>0.0</td>\n",
       "      <td>0.00</td>\n",
       "      <td>67.0</td>\n",
       "      <td>tbd</td>\n",
       "      <td>E</td>\n",
       "    </tr>\n",
       "    <tr>\n",
       "      <td>16697</td>\n",
       "      <td>Bust-A-Move 3000</td>\n",
       "      <td>GC</td>\n",
       "      <td>2003</td>\n",
       "      <td>Puzzle</td>\n",
       "      <td>0.01</td>\n",
       "      <td>0.00</td>\n",
       "      <td>0.0</td>\n",
       "      <td>0.00</td>\n",
       "      <td>53.0</td>\n",
       "      <td>tbd</td>\n",
       "      <td>E</td>\n",
       "    </tr>\n",
       "    <tr>\n",
       "      <td>16698</td>\n",
       "      <td>Mega Brain Boost</td>\n",
       "      <td>DS</td>\n",
       "      <td>2008</td>\n",
       "      <td>Puzzle</td>\n",
       "      <td>0.01</td>\n",
       "      <td>0.00</td>\n",
       "      <td>0.0</td>\n",
       "      <td>0.00</td>\n",
       "      <td>48.0</td>\n",
       "      <td>tbd</td>\n",
       "      <td>E</td>\n",
       "    </tr>\n",
       "    <tr>\n",
       "      <td>16704</td>\n",
       "      <td>Plushees</td>\n",
       "      <td>DS</td>\n",
       "      <td>2008</td>\n",
       "      <td>Simulation</td>\n",
       "      <td>0.01</td>\n",
       "      <td>0.00</td>\n",
       "      <td>0.0</td>\n",
       "      <td>0.00</td>\n",
       "      <td>-1.0</td>\n",
       "      <td>tbd</td>\n",
       "      <td>E</td>\n",
       "    </tr>\n",
       "    <tr>\n",
       "      <td>16706</td>\n",
       "      <td>Men in Black II: Alien Escape</td>\n",
       "      <td>GC</td>\n",
       "      <td>2003</td>\n",
       "      <td>Shooter</td>\n",
       "      <td>0.01</td>\n",
       "      <td>0.00</td>\n",
       "      <td>0.0</td>\n",
       "      <td>0.00</td>\n",
       "      <td>-1.0</td>\n",
       "      <td>tbd</td>\n",
       "      <td>T</td>\n",
       "    </tr>\n",
       "  </tbody>\n",
       "</table>\n",
       "<p>2424 rows × 11 columns</p>\n",
       "</div>"
      ],
      "text/plain": [
       "                                           name platform  year_of_release  \\\n",
       "119                               Zumba Fitness      Wii             2010   \n",
       "301              Namco Museum: 50th Anniversary      PS2             2005   \n",
       "520                             Zumba Fitness 2      Wii             2011   \n",
       "645                                uDraw Studio      Wii             2010   \n",
       "657    Frogger's Adventures: Temple of the Frog      GBA              NaN   \n",
       "...                                         ...      ...              ...   \n",
       "16695                           Planet Monsters      GBA             2001   \n",
       "16697                          Bust-A-Move 3000       GC             2003   \n",
       "16698                          Mega Brain Boost       DS             2008   \n",
       "16704                                  Plushees       DS             2008   \n",
       "16706             Men in Black II: Alien Escape       GC             2003   \n",
       "\n",
       "            genre  na_sales  eu_sales  jp_sales  other_sales  critic_score  \\\n",
       "119        Sports      3.45      2.59       0.0         0.66          -1.0   \n",
       "301          Misc      2.08      1.35       0.0         0.54          61.0   \n",
       "520        Sports      1.51      1.03       0.0         0.27          -1.0   \n",
       "645          Misc      1.65      0.57       0.0         0.20          71.0   \n",
       "657     Adventure      2.15      0.18       0.0         0.07          73.0   \n",
       "...           ...       ...       ...       ...          ...           ...   \n",
       "16695      Action      0.01      0.00       0.0         0.00          67.0   \n",
       "16697      Puzzle      0.01      0.00       0.0         0.00          53.0   \n",
       "16698      Puzzle      0.01      0.00       0.0         0.00          48.0   \n",
       "16704  Simulation      0.01      0.00       0.0         0.00          -1.0   \n",
       "16706     Shooter      0.01      0.00       0.0         0.00          -1.0   \n",
       "\n",
       "      user_score rating  \n",
       "119          tbd      E  \n",
       "301          tbd   E10+  \n",
       "520          tbd      T  \n",
       "645          tbd      E  \n",
       "657          tbd      E  \n",
       "...          ...    ...  \n",
       "16695        tbd      E  \n",
       "16697        tbd      E  \n",
       "16698        tbd      E  \n",
       "16704        tbd      E  \n",
       "16706        tbd      T  \n",
       "\n",
       "[2424 rows x 11 columns]"
      ]
     },
     "execution_count": 15,
     "metadata": {},
     "output_type": "execute_result"
    }
   ],
   "source": [
    "df.query('user_score == \"tbd\"')"
   ]
  },
  {
   "cell_type": "code",
   "execution_count": 16,
   "metadata": {},
   "outputs": [],
   "source": [
    "# замена tbd на nan \n",
    "df.loc[df['user_score'] == 'tbd', 'user_score'] = np.nan"
   ]
  },
  {
   "cell_type": "markdown",
   "metadata": {},
   "source": [
    "<div class=\"alert alert-success\">\n",
    "<b>Комментарий ревьюера:</b> Абсолютно верно, \"To Be Determined\" по смыслу ничем не отличается от пропуска. При этом таких значений - 14,5%. Мы не можем их ни удалить, ни восстановить.\n",
    "<br>\n",
    "</div>"
   ]
  },
  {
   "cell_type": "code",
   "execution_count": 17,
   "metadata": {},
   "outputs": [],
   "source": [
    "# заполнение пропусков в user_score медианной\n",
    "#df['user_score'] = df.groupby('genre')['user_score'].transform(lambda x: x.fillna(x.median())) "
   ]
  },
  {
   "cell_type": "markdown",
   "metadata": {},
   "source": [
    "<div class=\"alert alert-info\">\n",
    "<b>Комментарий студента:</b> Аналогично, как и в прошлом случае. Вот так: \n",
    "    \n",
    "    df['user_score'] = df.groupby(['genre','platform'])['user_score'].transform(lambda x: x.fillna(x.median()))\n",
    "Вообще, лучше, наверное, заполнить пропуски средним, т.к не такой уж и большой разброс.\n",
    "Или лучше также заполнить пропуски \"unknown\". Не знаю, как лучше.\n",
    "<br>\n",
    "</div>"
   ]
  },
  {
   "cell_type": "markdown",
   "metadata": {},
   "source": [
    "<div class=\"alert alert-danger\">\n",
    "<b>Комментарий ревьюера v2:</b> И здесь аналогичная ситуация, как и с critic_score. Давай поправим прямо в коде и перезапустим проект.\n",
    "<br>\n",
    "</div>"
   ]
  },
  {
   "cell_type": "markdown",
   "metadata": {},
   "source": [
    "<div class=\"alert alert-info\">\n",
    "<b>Комментарий студента:</b> Ниже это сделал. \n",
    "<br>\n",
    "</div>"
   ]
  },
  {
   "cell_type": "markdown",
   "metadata": {},
   "source": [
    "<div class=\"alert alert-success\">\n",
    "\n",
    "<b>✔️ Комментарий ревьюера v3:</b> 👍\n",
    "\n",
    "</div>"
   ]
  },
  {
   "cell_type": "code",
   "execution_count": 18,
   "metadata": {},
   "outputs": [],
   "source": [
    "df['user_score'] = df['user_score'].fillna(-1)"
   ]
  },
  {
   "cell_type": "code",
   "execution_count": 19,
   "metadata": {},
   "outputs": [],
   "source": [
    "# заполнение пропусков в rating значением 'unknown'\n",
    "df['rating'] = df['rating'].fillna('unknown')"
   ]
  },
  {
   "cell_type": "markdown",
   "metadata": {},
   "source": [
    "<div class=\"alert alert-success\">\n",
    "<b>Комментарий ревьюера:</b> Верная замена. Это поможет нам далее не упустить важную особенность данных\n",
    "<br>\n",
    "</div>"
   ]
  },
  {
   "cell_type": "code",
   "execution_count": 20,
   "metadata": {},
   "outputs": [
    {
     "name": "stdout",
     "output_type": "stream",
     "text": [
      "<class 'pandas.core.frame.DataFrame'>\n",
      "Int64Index: 16713 entries, 0 to 16714\n",
      "Data columns (total 11 columns):\n",
      "name               16713 non-null object\n",
      "platform           16713 non-null object\n",
      "year_of_release    16444 non-null Int64\n",
      "genre              16713 non-null object\n",
      "na_sales           16713 non-null float64\n",
      "eu_sales           16713 non-null float64\n",
      "jp_sales           16713 non-null float64\n",
      "other_sales        16713 non-null float64\n",
      "critic_score       16713 non-null float64\n",
      "user_score         16713 non-null float64\n",
      "rating             16713 non-null object\n",
      "dtypes: Int64(1), float64(6), object(4)\n",
      "memory usage: 1.5+ MB\n"
     ]
    }
   ],
   "source": [
    "# преобразование данных в user_score в нужный тип данных\n",
    "df['user_score'] = pd.to_numeric(df['user_score'],errors = 'ignore')\n",
    "df.info()"
   ]
  },
  {
   "cell_type": "code",
   "execution_count": 21,
   "metadata": {},
   "outputs": [],
   "source": [
    "#Посчитайте суммарные продажи во всех регионах и запишите их в отдельный столбец.\n",
    "#def summ(row):\n",
    "    #return row['na_sales'] + row['eu_sales'] + row['jp_sales'] + row['other_sales']\n",
    "#df['total_sales'] = df.apply(summ, axis = 1)"
   ]
  },
  {
   "cell_type": "markdown",
   "metadata": {},
   "source": [
    "<div class=\"alert alert-warning\">\n",
    "<b>Комментарий ревьюера:</b> Вряд ли нужно заводить отдельную функцию для рассчета одного конкретного столбца, тем более даже количество строк не экономится) \n",
    "<br>\n",
    "</div>"
   ]
  },
  {
   "cell_type": "markdown",
   "metadata": {},
   "source": [
    "<div class=\"alert alert-info\">\n",
    "<b>Комментарий студента:</b> Сделал проще.\n",
    "<br>\n",
    "</div>"
   ]
  },
  {
   "cell_type": "markdown",
   "metadata": {},
   "source": [
    "<div class=\"alert alert-success\">\n",
    "\n",
    "<b>✔️ Комментарий ревьюера v2:</b> 👍\n",
    "\n",
    "</div>"
   ]
  },
  {
   "cell_type": "code",
   "execution_count": 22,
   "metadata": {},
   "outputs": [],
   "source": [
    "df['total_sales'] = df['na_sales'] + df['eu_sales'] + df['jp_sales'] + df['other_sales']"
   ]
  },
  {
   "cell_type": "code",
   "execution_count": 23,
   "metadata": {},
   "outputs": [
    {
     "data": {
      "text/html": [
       "<div>\n",
       "<style scoped>\n",
       "    .dataframe tbody tr th:only-of-type {\n",
       "        vertical-align: middle;\n",
       "    }\n",
       "\n",
       "    .dataframe tbody tr th {\n",
       "        vertical-align: top;\n",
       "    }\n",
       "\n",
       "    .dataframe thead th {\n",
       "        text-align: right;\n",
       "    }\n",
       "</style>\n",
       "<table border=\"1\" class=\"dataframe\">\n",
       "  <thead>\n",
       "    <tr style=\"text-align: right;\">\n",
       "      <th></th>\n",
       "      <th>name</th>\n",
       "      <th>platform</th>\n",
       "      <th>year_of_release</th>\n",
       "      <th>genre</th>\n",
       "      <th>na_sales</th>\n",
       "      <th>eu_sales</th>\n",
       "      <th>jp_sales</th>\n",
       "      <th>other_sales</th>\n",
       "      <th>critic_score</th>\n",
       "      <th>user_score</th>\n",
       "      <th>rating</th>\n",
       "      <th>total_sales</th>\n",
       "    </tr>\n",
       "  </thead>\n",
       "  <tbody>\n",
       "    <tr>\n",
       "      <td>0</td>\n",
       "      <td>Wii Sports</td>\n",
       "      <td>Wii</td>\n",
       "      <td>2006</td>\n",
       "      <td>Sports</td>\n",
       "      <td>41.36</td>\n",
       "      <td>28.96</td>\n",
       "      <td>3.77</td>\n",
       "      <td>8.45</td>\n",
       "      <td>76.0</td>\n",
       "      <td>8.0</td>\n",
       "      <td>E</td>\n",
       "      <td>82.54</td>\n",
       "    </tr>\n",
       "    <tr>\n",
       "      <td>1</td>\n",
       "      <td>Super Mario Bros.</td>\n",
       "      <td>NES</td>\n",
       "      <td>1985</td>\n",
       "      <td>Platform</td>\n",
       "      <td>29.08</td>\n",
       "      <td>3.58</td>\n",
       "      <td>6.81</td>\n",
       "      <td>0.77</td>\n",
       "      <td>-1.0</td>\n",
       "      <td>-1.0</td>\n",
       "      <td>unknown</td>\n",
       "      <td>40.24</td>\n",
       "    </tr>\n",
       "    <tr>\n",
       "      <td>2</td>\n",
       "      <td>Mario Kart Wii</td>\n",
       "      <td>Wii</td>\n",
       "      <td>2008</td>\n",
       "      <td>Racing</td>\n",
       "      <td>15.68</td>\n",
       "      <td>12.76</td>\n",
       "      <td>3.79</td>\n",
       "      <td>3.29</td>\n",
       "      <td>82.0</td>\n",
       "      <td>8.3</td>\n",
       "      <td>E</td>\n",
       "      <td>35.52</td>\n",
       "    </tr>\n",
       "    <tr>\n",
       "      <td>3</td>\n",
       "      <td>Wii Sports Resort</td>\n",
       "      <td>Wii</td>\n",
       "      <td>2009</td>\n",
       "      <td>Sports</td>\n",
       "      <td>15.61</td>\n",
       "      <td>10.93</td>\n",
       "      <td>3.28</td>\n",
       "      <td>2.95</td>\n",
       "      <td>80.0</td>\n",
       "      <td>8.0</td>\n",
       "      <td>E</td>\n",
       "      <td>32.77</td>\n",
       "    </tr>\n",
       "    <tr>\n",
       "      <td>4</td>\n",
       "      <td>Pokemon Red/Pokemon Blue</td>\n",
       "      <td>GB</td>\n",
       "      <td>1996</td>\n",
       "      <td>Role-Playing</td>\n",
       "      <td>11.27</td>\n",
       "      <td>8.89</td>\n",
       "      <td>10.22</td>\n",
       "      <td>1.00</td>\n",
       "      <td>-1.0</td>\n",
       "      <td>-1.0</td>\n",
       "      <td>unknown</td>\n",
       "      <td>31.38</td>\n",
       "    </tr>\n",
       "  </tbody>\n",
       "</table>\n",
       "</div>"
      ],
      "text/plain": [
       "                       name platform  year_of_release         genre  na_sales  \\\n",
       "0                Wii Sports      Wii             2006        Sports     41.36   \n",
       "1         Super Mario Bros.      NES             1985      Platform     29.08   \n",
       "2            Mario Kart Wii      Wii             2008        Racing     15.68   \n",
       "3         Wii Sports Resort      Wii             2009        Sports     15.61   \n",
       "4  Pokemon Red/Pokemon Blue       GB             1996  Role-Playing     11.27   \n",
       "\n",
       "   eu_sales  jp_sales  other_sales  critic_score  user_score   rating  \\\n",
       "0     28.96      3.77         8.45          76.0         8.0        E   \n",
       "1      3.58      6.81         0.77          -1.0        -1.0  unknown   \n",
       "2     12.76      3.79         3.29          82.0         8.3        E   \n",
       "3     10.93      3.28         2.95          80.0         8.0        E   \n",
       "4      8.89     10.22         1.00          -1.0        -1.0  unknown   \n",
       "\n",
       "   total_sales  \n",
       "0        82.54  \n",
       "1        40.24  \n",
       "2        35.52  \n",
       "3        32.77  \n",
       "4        31.38  "
      ]
     },
     "execution_count": 23,
     "metadata": {},
     "output_type": "execute_result"
    }
   ],
   "source": [
    "df.head()"
   ]
  },
  {
   "cell_type": "markdown",
   "metadata": {},
   "source": [
    "# Вывод\n",
    "1. Заменил названия столбцов (привел к нижнему регистру)\n",
    "2. Преобразовал данные в нужные типы\n",
    "3. Обрабовал пропуски\n",
    "4. Посчитал суммарные продажи\n",
    "\n",
    "Можно приступить к анализу"
   ]
  },
  {
   "cell_type": "markdown",
   "metadata": {},
   "source": [
    "# Шаг 3. Проведение исследовательского анализа данных\n",
    "    1. Посмотреть, сколько игр выпускалось в разные годы. Важны ли данные за все периоды?\n",
    "    2. Посмотреть, как менялись продажи по платформам. Выбрать платформы с наибольшими суммарными продажами и построить распределение по годам. За какой характерный срок появляются новые и исчезают старые платформы?\n",
    "    3. Взять данные за соответствующий актуальный период. Актуальный период определить самостоятельно в результате исследования предыдущих вопросов. Основной фактор — эти данные помогут построить прогноз на 2017 год.\n",
    "    4. Не учитывайть в работе данные за предыдущие годы.\n",
    "    5. Какие платформы лидируют по продажам, растут или падают? Выбрать несколько потенциально прибыльных платформ.\n",
    "    6. Построить график «ящик с усами» по глобальным продажам игр в разбивке по платформам. Описать результат.\n",
    "    7. Посмотреть, как влияют на продажи внутри одной популярной платформы отзывы пользователей и критиков. Построить диаграмму рассеяния и посчитать корреляцию между отзывами и продажами. Сформулировать выводы.\n",
    "    8. Соотнести выводы с продажами игр на других платформах.\n",
    "    9. Посмотреть на общее распределение игр по жанрам. Что можно сказать о самых прибыльных жанрах? Выделяются ли жанры с высокими и низкими продажами?"
   ]
  },
  {
   "cell_type": "code",
   "execution_count": 24,
   "metadata": {},
   "outputs": [
    {
     "data": {
      "text/plain": [
       "<matplotlib.axes._subplots.AxesSubplot at 0x7fa876be7ad0>"
      ]
     },
     "execution_count": 24,
     "metadata": {},
     "output_type": "execute_result"
    },
    {
     "data": {
      "image/png": "[encoded data removed]",
      "text/plain": [
       "<Figure size 1008x576 with 1 Axes>"
      ]
     },
     "metadata": {
      "needs_background": "light"
     },
     "output_type": "display_data"
    }
   ],
   "source": [
    "# 1. Посмотреть, сколько игр выпускалось в разные годы.\n",
    "df.groupby(by='year_of_release')['name'].count().plot(kind = 'bar',figsize=(14,8), title = 'кол-во игр по годам')"
   ]
  },
  {
   "cell_type": "code",
   "execution_count": 25,
   "metadata": {},
   "outputs": [
    {
     "data": {
      "text/plain": [
       "<matplotlib.axes._subplots.AxesSubplot at 0x7fa84f38e710>"
      ]
     },
     "execution_count": 25,
     "metadata": {},
     "output_type": "execute_result"
    },
    {
     "data": {
      "image/png": "[encoded data removed]",
      "text/plain": [
       "<Figure size 1008x576 with 1 Axes>"
      ]
     },
     "metadata": {
      "needs_background": "light"
     },
     "output_type": "display_data"
    }
   ],
   "source": [
    "# 2.Посмотрите, как менялись продажи по платформам.\n",
    "    #Выберите платформы с наибольшими суммарными продажами и постройте распределение по годам.\n",
    "    #За какой характерный срок появляются новые и исчезают старые платформы?\n",
    "\n",
    "df.groupby(by='platform')['total_sales'].sum().sort_values().plot(kind = 'bar',figsize=(14,8), title = 'продажа по платформам')"
   ]
  },
  {
   "cell_type": "markdown",
   "metadata": {},
   "source": [
    "Самые популярные платформы: PS2, X360, PS3, Wii, DS, PS"
   ]
  },
  {
   "cell_type": "code",
   "execution_count": 26,
   "metadata": {},
   "outputs": [
    {
     "data": {
      "text/html": [
       "<div>\n",
       "<style scoped>\n",
       "    .dataframe tbody tr th:only-of-type {\n",
       "        vertical-align: middle;\n",
       "    }\n",
       "\n",
       "    .dataframe tbody tr th {\n",
       "        vertical-align: top;\n",
       "    }\n",
       "\n",
       "    .dataframe thead th {\n",
       "        text-align: right;\n",
       "    }\n",
       "</style>\n",
       "<table border=\"1\" class=\"dataframe\">\n",
       "  <thead>\n",
       "    <tr style=\"text-align: right;\">\n",
       "      <th></th>\n",
       "      <th>total_sales</th>\n",
       "    </tr>\n",
       "    <tr>\n",
       "      <th>year_of_release</th>\n",
       "      <th></th>\n",
       "    </tr>\n",
       "  </thead>\n",
       "  <tbody>\n",
       "    <tr>\n",
       "      <td>2000</td>\n",
       "      <td>39.17</td>\n",
       "    </tr>\n",
       "    <tr>\n",
       "      <td>2001</td>\n",
       "      <td>166.43</td>\n",
       "    </tr>\n",
       "    <tr>\n",
       "      <td>2002</td>\n",
       "      <td>205.38</td>\n",
       "    </tr>\n",
       "    <tr>\n",
       "      <td>2003</td>\n",
       "      <td>184.31</td>\n",
       "    </tr>\n",
       "    <tr>\n",
       "      <td>2004</td>\n",
       "      <td>211.81</td>\n",
       "    </tr>\n",
       "    <tr>\n",
       "      <td>2005</td>\n",
       "      <td>160.66</td>\n",
       "    </tr>\n",
       "    <tr>\n",
       "      <td>2006</td>\n",
       "      <td>103.42</td>\n",
       "    </tr>\n",
       "    <tr>\n",
       "      <td>2007</td>\n",
       "      <td>75.99</td>\n",
       "    </tr>\n",
       "    <tr>\n",
       "      <td>2008</td>\n",
       "      <td>53.90</td>\n",
       "    </tr>\n",
       "    <tr>\n",
       "      <td>2009</td>\n",
       "      <td>26.40</td>\n",
       "    </tr>\n",
       "    <tr>\n",
       "      <td>2010</td>\n",
       "      <td>5.64</td>\n",
       "    </tr>\n",
       "    <tr>\n",
       "      <td>2011</td>\n",
       "      <td>0.45</td>\n",
       "    </tr>\n",
       "  </tbody>\n",
       "</table>\n",
       "</div>"
      ],
      "text/plain": [
       "                 total_sales\n",
       "year_of_release             \n",
       "2000                   39.17\n",
       "2001                  166.43\n",
       "2002                  205.38\n",
       "2003                  184.31\n",
       "2004                  211.81\n",
       "2005                  160.66\n",
       "2006                  103.42\n",
       "2007                   75.99\n",
       "2008                   53.90\n",
       "2009                   26.40\n",
       "2010                    5.64\n",
       "2011                    0.45"
      ]
     },
     "execution_count": 26,
     "metadata": {},
     "output_type": "execute_result"
    }
   ],
   "source": [
    "def pivot_table(name):\n",
    "    table = df[df['platform'] == name]\n",
    "    table = table.pivot_table(index = 'year_of_release', values = 'total_sales', aggfunc = 'sum')\n",
    "    return table\n",
    "pivot_table('PS2')"
   ]
  },
  {
   "cell_type": "code",
   "execution_count": 27,
   "metadata": {},
   "outputs": [
    {
     "data": {
      "image/png": "[encoded data removed]",
      "text/plain": [
       "<Figure size 1008x432 with 1 Axes>"
      ]
     },
     "metadata": {
      "needs_background": "light"
     },
     "output_type": "display_data"
    }
   ],
   "source": [
    "plt.figure(figsize=(14,6))\n",
    "plt.title('Кол-во продаж популярных игровых платформ')\n",
    "for i in ['PS2','X360','PS3','Wii','DS','PS']:\n",
    "    sns.lineplot(data = pivot_table(i)['total_sales'],label = i)\n",
    "    plt.legend()"
   ]
  },
  {
   "cell_type": "markdown",
   "metadata": {},
   "source": [
    "Актуальный период я взял 2013"
   ]
  },
  {
   "cell_type": "code",
   "execution_count": 28,
   "metadata": {},
   "outputs": [],
   "source": [
    "# 3.Возьмите данные за соответствующий актуальный период. \n",
    "#Актуальный период определите самостоятельно в результате исследования предыдущих вопросов.\n",
    "#Основной фактор — эти данные помогут построить прогноз на 2017 год.\n",
    "\n",
    "# 4.Не учитывайте в работе данные за предыдущие годы.\n",
    "\n",
    "df_new = df.query('year_of_release >= 2013')"
   ]
  },
  {
   "cell_type": "markdown",
   "metadata": {},
   "source": [
    "<div class=\"alert alert-danger\">\n",
    "<b>Комментарий ревьюера:</b> Для стремительно развивающейся игровой индустрии период 11 лет — очень много. Даже внутри выбранного тобой периода произошли резкие изменения — замена одного поколения консолей следующим (PS2 → PS3 → PS4). В 2007 году сразу несколько платформ совсем исчезают из датасета. В данном случае лучше выбрать период 2-4 года.\n",
    "<br>\n",
    "</div>"
   ]
  },
  {
   "cell_type": "markdown",
   "metadata": {},
   "source": [
    "<div class=\"alert alert-info\">\n",
    "<b>Комментарий студента:</b> Взял 2013 год.\n",
    "<br>\n",
    "</div>"
   ]
  },
  {
   "cell_type": "markdown",
   "metadata": {},
   "source": [
    "<div class=\"alert alert-success\">\n",
    "\n",
    "<b>✔️ Комментарий ревьюера v2:</b> 👍\n",
    "\n",
    "</div>"
   ]
  },
  {
   "cell_type": "code",
   "execution_count": 29,
   "metadata": {},
   "outputs": [
    {
     "data": {
      "text/html": [
       "<div>\n",
       "<style scoped>\n",
       "    .dataframe tbody tr th:only-of-type {\n",
       "        vertical-align: middle;\n",
       "    }\n",
       "\n",
       "    .dataframe tbody tr th {\n",
       "        vertical-align: top;\n",
       "    }\n",
       "\n",
       "    .dataframe thead th {\n",
       "        text-align: right;\n",
       "    }\n",
       "</style>\n",
       "<table border=\"1\" class=\"dataframe\">\n",
       "  <thead>\n",
       "    <tr style=\"text-align: right;\">\n",
       "      <th></th>\n",
       "      <th>name</th>\n",
       "      <th>platform</th>\n",
       "      <th>year_of_release</th>\n",
       "      <th>genre</th>\n",
       "      <th>na_sales</th>\n",
       "      <th>eu_sales</th>\n",
       "      <th>jp_sales</th>\n",
       "      <th>other_sales</th>\n",
       "      <th>critic_score</th>\n",
       "      <th>user_score</th>\n",
       "      <th>rating</th>\n",
       "      <th>total_sales</th>\n",
       "    </tr>\n",
       "  </thead>\n",
       "  <tbody>\n",
       "    <tr>\n",
       "      <td>16</td>\n",
       "      <td>Grand Theft Auto V</td>\n",
       "      <td>PS3</td>\n",
       "      <td>2013</td>\n",
       "      <td>Action</td>\n",
       "      <td>7.02</td>\n",
       "      <td>9.09</td>\n",
       "      <td>0.98</td>\n",
       "      <td>3.96</td>\n",
       "      <td>97.0</td>\n",
       "      <td>8.2</td>\n",
       "      <td>M</td>\n",
       "      <td>21.05</td>\n",
       "    </tr>\n",
       "    <tr>\n",
       "      <td>23</td>\n",
       "      <td>Grand Theft Auto V</td>\n",
       "      <td>X360</td>\n",
       "      <td>2013</td>\n",
       "      <td>Action</td>\n",
       "      <td>9.66</td>\n",
       "      <td>5.14</td>\n",
       "      <td>0.06</td>\n",
       "      <td>1.41</td>\n",
       "      <td>97.0</td>\n",
       "      <td>8.1</td>\n",
       "      <td>M</td>\n",
       "      <td>16.27</td>\n",
       "    </tr>\n",
       "    <tr>\n",
       "      <td>31</td>\n",
       "      <td>Call of Duty: Black Ops 3</td>\n",
       "      <td>PS4</td>\n",
       "      <td>2015</td>\n",
       "      <td>Shooter</td>\n",
       "      <td>6.03</td>\n",
       "      <td>5.86</td>\n",
       "      <td>0.36</td>\n",
       "      <td>2.38</td>\n",
       "      <td>-1.0</td>\n",
       "      <td>-1.0</td>\n",
       "      <td>unknown</td>\n",
       "      <td>14.63</td>\n",
       "    </tr>\n",
       "    <tr>\n",
       "      <td>33</td>\n",
       "      <td>Pokemon X/Pokemon Y</td>\n",
       "      <td>3DS</td>\n",
       "      <td>2013</td>\n",
       "      <td>Role-Playing</td>\n",
       "      <td>5.28</td>\n",
       "      <td>4.19</td>\n",
       "      <td>4.35</td>\n",
       "      <td>0.78</td>\n",
       "      <td>-1.0</td>\n",
       "      <td>-1.0</td>\n",
       "      <td>unknown</td>\n",
       "      <td>14.60</td>\n",
       "    </tr>\n",
       "    <tr>\n",
       "      <td>42</td>\n",
       "      <td>Grand Theft Auto V</td>\n",
       "      <td>PS4</td>\n",
       "      <td>2014</td>\n",
       "      <td>Action</td>\n",
       "      <td>3.96</td>\n",
       "      <td>6.31</td>\n",
       "      <td>0.38</td>\n",
       "      <td>1.97</td>\n",
       "      <td>97.0</td>\n",
       "      <td>8.3</td>\n",
       "      <td>M</td>\n",
       "      <td>12.62</td>\n",
       "    </tr>\n",
       "  </tbody>\n",
       "</table>\n",
       "</div>"
      ],
      "text/plain": [
       "                         name platform  year_of_release         genre  \\\n",
       "16         Grand Theft Auto V      PS3             2013        Action   \n",
       "23         Grand Theft Auto V     X360             2013        Action   \n",
       "31  Call of Duty: Black Ops 3      PS4             2015       Shooter   \n",
       "33        Pokemon X/Pokemon Y      3DS             2013  Role-Playing   \n",
       "42         Grand Theft Auto V      PS4             2014        Action   \n",
       "\n",
       "    na_sales  eu_sales  jp_sales  other_sales  critic_score  user_score  \\\n",
       "16      7.02      9.09      0.98         3.96          97.0         8.2   \n",
       "23      9.66      5.14      0.06         1.41          97.0         8.1   \n",
       "31      6.03      5.86      0.36         2.38          -1.0        -1.0   \n",
       "33      5.28      4.19      4.35         0.78          -1.0        -1.0   \n",
       "42      3.96      6.31      0.38         1.97          97.0         8.3   \n",
       "\n",
       "     rating  total_sales  \n",
       "16        M        21.05  \n",
       "23        M        16.27  \n",
       "31  unknown        14.63  \n",
       "33  unknown        14.60  \n",
       "42        M        12.62  "
      ]
     },
     "execution_count": 29,
     "metadata": {},
     "output_type": "execute_result"
    }
   ],
   "source": [
    "df_new.head()"
   ]
  },
  {
   "cell_type": "code",
   "execution_count": 30,
   "metadata": {},
   "outputs": [
    {
     "data": {
      "text/plain": [
       "PS4     392\n",
       "PSV     358\n",
       "PS3     345\n",
       "3DS     303\n",
       "XOne    247\n",
       "PC      189\n",
       "X360    186\n",
       "WiiU    115\n",
       "PSP      67\n",
       "Wii      23\n",
       "DS        8\n",
       "Name: platform, dtype: int64"
      ]
     },
     "execution_count": 30,
     "metadata": {},
     "output_type": "execute_result"
    }
   ],
   "source": [
    "df_new['platform'].value_counts()"
   ]
  },
  {
   "cell_type": "code",
   "execution_count": 31,
   "metadata": {},
   "outputs": [
    {
     "data": {
      "text/html": [
       "<div>\n",
       "<style scoped>\n",
       "    .dataframe tbody tr th:only-of-type {\n",
       "        vertical-align: middle;\n",
       "    }\n",
       "\n",
       "    .dataframe tbody tr th {\n",
       "        vertical-align: top;\n",
       "    }\n",
       "\n",
       "    .dataframe thead th {\n",
       "        text-align: right;\n",
       "    }\n",
       "</style>\n",
       "<table border=\"1\" class=\"dataframe\">\n",
       "  <thead>\n",
       "    <tr style=\"text-align: right;\">\n",
       "      <th></th>\n",
       "      <th>year_of_release</th>\n",
       "      <th>na_sales</th>\n",
       "      <th>eu_sales</th>\n",
       "      <th>jp_sales</th>\n",
       "      <th>other_sales</th>\n",
       "      <th>critic_score</th>\n",
       "      <th>user_score</th>\n",
       "      <th>total_sales</th>\n",
       "    </tr>\n",
       "  </thead>\n",
       "  <tbody>\n",
       "    <tr>\n",
       "      <td>count</td>\n",
       "      <td>2233.000000</td>\n",
       "      <td>2233.000000</td>\n",
       "      <td>2233.000000</td>\n",
       "      <td>2233.000000</td>\n",
       "      <td>2233.000000</td>\n",
       "      <td>2233.000000</td>\n",
       "      <td>2233.000000</td>\n",
       "      <td>2233.000000</td>\n",
       "    </tr>\n",
       "    <tr>\n",
       "      <td>mean</td>\n",
       "      <td>2014.477385</td>\n",
       "      <td>0.196019</td>\n",
       "      <td>0.175652</td>\n",
       "      <td>0.063045</td>\n",
       "      <td>0.053726</td>\n",
       "      <td>31.407524</td>\n",
       "      <td>3.048724</td>\n",
       "      <td>0.488442</td>\n",
       "    </tr>\n",
       "    <tr>\n",
       "      <td>std</td>\n",
       "      <td>1.089439</td>\n",
       "      <td>0.547730</td>\n",
       "      <td>0.512451</td>\n",
       "      <td>0.233997</td>\n",
       "      <td>0.165693</td>\n",
       "      <td>37.282494</td>\n",
       "      <td>3.963069</td>\n",
       "      <td>1.235226</td>\n",
       "    </tr>\n",
       "    <tr>\n",
       "      <td>min</td>\n",
       "      <td>2013.000000</td>\n",
       "      <td>0.000000</td>\n",
       "      <td>0.000000</td>\n",
       "      <td>0.000000</td>\n",
       "      <td>0.000000</td>\n",
       "      <td>-1.000000</td>\n",
       "      <td>-1.000000</td>\n",
       "      <td>0.010000</td>\n",
       "    </tr>\n",
       "    <tr>\n",
       "      <td>25%</td>\n",
       "      <td>2014.000000</td>\n",
       "      <td>0.000000</td>\n",
       "      <td>0.000000</td>\n",
       "      <td>0.000000</td>\n",
       "      <td>0.000000</td>\n",
       "      <td>-1.000000</td>\n",
       "      <td>-1.000000</td>\n",
       "      <td>0.030000</td>\n",
       "    </tr>\n",
       "    <tr>\n",
       "      <td>50%</td>\n",
       "      <td>2014.000000</td>\n",
       "      <td>0.020000</td>\n",
       "      <td>0.030000</td>\n",
       "      <td>0.010000</td>\n",
       "      <td>0.010000</td>\n",
       "      <td>-1.000000</td>\n",
       "      <td>3.500000</td>\n",
       "      <td>0.110000</td>\n",
       "    </tr>\n",
       "    <tr>\n",
       "      <td>75%</td>\n",
       "      <td>2015.000000</td>\n",
       "      <td>0.150000</td>\n",
       "      <td>0.130000</td>\n",
       "      <td>0.050000</td>\n",
       "      <td>0.040000</td>\n",
       "      <td>72.000000</td>\n",
       "      <td>7.100000</td>\n",
       "      <td>0.400000</td>\n",
       "    </tr>\n",
       "    <tr>\n",
       "      <td>max</td>\n",
       "      <td>2016.000000</td>\n",
       "      <td>9.660000</td>\n",
       "      <td>9.090000</td>\n",
       "      <td>4.350000</td>\n",
       "      <td>3.960000</td>\n",
       "      <td>97.000000</td>\n",
       "      <td>9.300000</td>\n",
       "      <td>21.050000</td>\n",
       "    </tr>\n",
       "  </tbody>\n",
       "</table>\n",
       "</div>"
      ],
      "text/plain": [
       "       year_of_release     na_sales     eu_sales     jp_sales  other_sales  \\\n",
       "count      2233.000000  2233.000000  2233.000000  2233.000000  2233.000000   \n",
       "mean       2014.477385     0.196019     0.175652     0.063045     0.053726   \n",
       "std           1.089439     0.547730     0.512451     0.233997     0.165693   \n",
       "min        2013.000000     0.000000     0.000000     0.000000     0.000000   \n",
       "25%        2014.000000     0.000000     0.000000     0.000000     0.000000   \n",
       "50%        2014.000000     0.020000     0.030000     0.010000     0.010000   \n",
       "75%        2015.000000     0.150000     0.130000     0.050000     0.040000   \n",
       "max        2016.000000     9.660000     9.090000     4.350000     3.960000   \n",
       "\n",
       "       critic_score   user_score  total_sales  \n",
       "count   2233.000000  2233.000000  2233.000000  \n",
       "mean      31.407524     3.048724     0.488442  \n",
       "std       37.282494     3.963069     1.235226  \n",
       "min       -1.000000    -1.000000     0.010000  \n",
       "25%       -1.000000    -1.000000     0.030000  \n",
       "50%       -1.000000     3.500000     0.110000  \n",
       "75%       72.000000     7.100000     0.400000  \n",
       "max       97.000000     9.300000    21.050000  "
      ]
     },
     "execution_count": 31,
     "metadata": {},
     "output_type": "execute_result"
    }
   ],
   "source": [
    "df_new.describe()"
   ]
  },
  {
   "cell_type": "code",
   "execution_count": 32,
   "metadata": {},
   "outputs": [],
   "source": [
    "df_new = df_new.loc[df_new['platform'].isin([\"PS2\",\"X360\",\"PS3\",\"Wii\",\"DS\"])]"
   ]
  },
  {
   "cell_type": "code",
   "execution_count": 33,
   "metadata": {},
   "outputs": [
    {
     "data": {
      "text/plain": [
       "(0, 2)"
      ]
     },
     "execution_count": 33,
     "metadata": {},
     "output_type": "execute_result"
    },
    {
     "data": {
      "image/png": "[encoded data removed]",
      "text/plain": [
       "<Figure size 864x432 with 1 Axes>"
      ]
     },
     "metadata": {
      "needs_background": "light"
     },
     "output_type": "display_data"
    }
   ],
   "source": [
    "# Постройте график «ящик с усами» по глобальным продажам игр в разбивке по платформам. Опишите результат.\n",
    "plt.figure(figsize=(12,6))\n",
    "sns.boxplot(data = df_new, x = 'platform', y = 'total_sales')\n",
    "plt.ylim(0,2)"
   ]
  },
  {
   "cell_type": "markdown",
   "metadata": {},
   "source": [
    "x360 - самая популярная платформа по продажам"
   ]
  },
  {
   "cell_type": "markdown",
   "metadata": {},
   "source": [
    "<div class=\"alert alert-danger\">\n",
    "<b>Комментарий ревьюера:</b> Добавь пояснение, как ты пришел к такому выводу. Какую метрику смотрел?\n",
    "<br>\n",
    "</div>"
   ]
  },
  {
   "cell_type": "markdown",
   "metadata": {},
   "source": [
    "<div class=\"alert alert-info\">\n",
    "<b>Комментарий студента:</b> Вот ниже это видно. Также у меня есть вопрос. Можно ли обрезать total_sales <=1, как я это сделал выше?\n",
    "<br>\n",
    "</div>"
   ]
  },
  {
   "cell_type": "markdown",
   "metadata": {},
   "source": [
    "<div class=\"alert alert-danger\">\n",
    "<b>Комментарий ревьюера v2:</b> Некорректно оценивать прибыльность платформ по суммарным продажам. Нас скорее интересуют стабильно прибыльные платформы, а не аномалии с несколькими дорогими играми. Лучше смотреть среднее, а еще лучше — медиану.\n",
    "    \n",
    "  Действительно, упустила эту ошибку. Так делать некорректно, потому что ты обрезаешь датасет, а потом считаешь персентили и выбросы уже для очищенного. Если тебе хочется посмотреть на боксплоты без учета выбросов, то лучше ввести при построении ограничение на ось Y и смотреть график вблизи.\n",
    "<br>\n",
    "</div>"
   ]
  },
  {
   "cell_type": "markdown",
   "metadata": {},
   "source": [
    "<div class=\"alert alert-info\">\n",
    "<b>Комментарий студента:</b>  Получается т.к у х360 значение медианы больше, то это самая стабильно прибыльная платформа.\n",
    "<br>\n",
    "</div>"
   ]
  },
  {
   "cell_type": "markdown",
   "metadata": {},
   "source": [
    "<div class=\"alert alert-success\">\n",
    "\n",
    "<b>✔️ Комментарий ревьюера v3:</b> 👍\n",
    "\n",
    "</div>"
   ]
  },
  {
   "cell_type": "code",
   "execution_count": 34,
   "metadata": {},
   "outputs": [
    {
     "name": "stdout",
     "output_type": "stream",
     "text": [
      "0.265 0.15\n"
     ]
    }
   ],
   "source": [
    "x360_median = df_new.query('platform == \"X360\"')['total_sales'].median()\n",
    "ps3_median = df_new.query('platform == \"PS3\"')['total_sales'].median()\n",
    "print(x360_median,ps3_median)"
   ]
  },
  {
   "cell_type": "code",
   "execution_count": 35,
   "metadata": {},
   "outputs": [],
   "source": [
    "#top5_platforms = df_new.pivot_table(index='platform', values='total_sales', aggfunc='sum').sort_values(by='total_sales', ascending=False).head(5)\n",
    "#top5_platforms"
   ]
  },
  {
   "cell_type": "code",
   "execution_count": 36,
   "metadata": {},
   "outputs": [
    {
     "data": {
      "text/html": [
       "<div>\n",
       "<style scoped>\n",
       "    .dataframe tbody tr th:only-of-type {\n",
       "        vertical-align: middle;\n",
       "    }\n",
       "\n",
       "    .dataframe tbody tr th {\n",
       "        vertical-align: top;\n",
       "    }\n",
       "\n",
       "    .dataframe thead th {\n",
       "        text-align: right;\n",
       "    }\n",
       "</style>\n",
       "<table border=\"1\" class=\"dataframe\">\n",
       "  <thead>\n",
       "    <tr style=\"text-align: right;\">\n",
       "      <th></th>\n",
       "      <th>name</th>\n",
       "      <th>platform</th>\n",
       "      <th>year_of_release</th>\n",
       "      <th>genre</th>\n",
       "      <th>na_sales</th>\n",
       "      <th>eu_sales</th>\n",
       "      <th>jp_sales</th>\n",
       "      <th>other_sales</th>\n",
       "      <th>critic_score</th>\n",
       "      <th>user_score</th>\n",
       "      <th>rating</th>\n",
       "      <th>total_sales</th>\n",
       "    </tr>\n",
       "  </thead>\n",
       "  <tbody>\n",
       "    <tr>\n",
       "      <td>23</td>\n",
       "      <td>Grand Theft Auto V</td>\n",
       "      <td>X360</td>\n",
       "      <td>2013</td>\n",
       "      <td>Action</td>\n",
       "      <td>9.66</td>\n",
       "      <td>5.14</td>\n",
       "      <td>0.06</td>\n",
       "      <td>1.41</td>\n",
       "      <td>97.0</td>\n",
       "      <td>8.1</td>\n",
       "      <td>M</td>\n",
       "      <td>16.27</td>\n",
       "    </tr>\n",
       "    <tr>\n",
       "      <td>60</td>\n",
       "      <td>Call of Duty: Ghosts</td>\n",
       "      <td>X360</td>\n",
       "      <td>2013</td>\n",
       "      <td>Shooter</td>\n",
       "      <td>6.73</td>\n",
       "      <td>2.56</td>\n",
       "      <td>0.04</td>\n",
       "      <td>0.91</td>\n",
       "      <td>73.0</td>\n",
       "      <td>2.6</td>\n",
       "      <td>M</td>\n",
       "      <td>10.24</td>\n",
       "    </tr>\n",
       "    <tr>\n",
       "      <td>72</td>\n",
       "      <td>Minecraft</td>\n",
       "      <td>X360</td>\n",
       "      <td>2013</td>\n",
       "      <td>Misc</td>\n",
       "      <td>5.70</td>\n",
       "      <td>2.65</td>\n",
       "      <td>0.02</td>\n",
       "      <td>0.81</td>\n",
       "      <td>-1.0</td>\n",
       "      <td>-1.0</td>\n",
       "      <td>unknown</td>\n",
       "      <td>9.18</td>\n",
       "    </tr>\n",
       "    <tr>\n",
       "      <td>263</td>\n",
       "      <td>Call of Duty: Advanced Warfare</td>\n",
       "      <td>X360</td>\n",
       "      <td>2014</td>\n",
       "      <td>Shooter</td>\n",
       "      <td>2.77</td>\n",
       "      <td>1.11</td>\n",
       "      <td>0.00</td>\n",
       "      <td>0.40</td>\n",
       "      <td>-1.0</td>\n",
       "      <td>4.9</td>\n",
       "      <td>M</td>\n",
       "      <td>4.28</td>\n",
       "    </tr>\n",
       "    <tr>\n",
       "      <td>271</td>\n",
       "      <td>FIFA 14</td>\n",
       "      <td>X360</td>\n",
       "      <td>2013</td>\n",
       "      <td>Sports</td>\n",
       "      <td>0.92</td>\n",
       "      <td>2.89</td>\n",
       "      <td>0.01</td>\n",
       "      <td>0.40</td>\n",
       "      <td>84.0</td>\n",
       "      <td>4.2</td>\n",
       "      <td>E</td>\n",
       "      <td>4.22</td>\n",
       "    </tr>\n",
       "  </tbody>\n",
       "</table>\n",
       "</div>"
      ],
      "text/plain": [
       "                               name platform  year_of_release    genre  \\\n",
       "23               Grand Theft Auto V     X360             2013   Action   \n",
       "60             Call of Duty: Ghosts     X360             2013  Shooter   \n",
       "72                        Minecraft     X360             2013     Misc   \n",
       "263  Call of Duty: Advanced Warfare     X360             2014  Shooter   \n",
       "271                         FIFA 14     X360             2013   Sports   \n",
       "\n",
       "     na_sales  eu_sales  jp_sales  other_sales  critic_score  user_score  \\\n",
       "23       9.66      5.14      0.06         1.41          97.0         8.1   \n",
       "60       6.73      2.56      0.04         0.91          73.0         2.6   \n",
       "72       5.70      2.65      0.02         0.81          -1.0        -1.0   \n",
       "263      2.77      1.11      0.00         0.40          -1.0         4.9   \n",
       "271      0.92      2.89      0.01         0.40          84.0         4.2   \n",
       "\n",
       "      rating  total_sales  \n",
       "23         M        16.27  \n",
       "60         M        10.24  \n",
       "72   unknown         9.18  \n",
       "263        M         4.28  \n",
       "271        E         4.22  "
      ]
     },
     "execution_count": 36,
     "metadata": {},
     "output_type": "execute_result"
    }
   ],
   "source": [
    "#Посмотрите, как влияют на продажи внутри одной популярной платформы отзывы пользователей и критиков.\n",
    "#Постройте диаграмму рассеяния и посчитайте корреляцию между отзывами и продажами. Сформулируйте выводы.\n",
    "x360_df = df_new.query('platform == \"X360\"')\n",
    "x360_df.head()"
   ]
  },
  {
   "cell_type": "code",
   "execution_count": 37,
   "metadata": {},
   "outputs": [
    {
     "name": "stdout",
     "output_type": "stream",
     "text": [
      "0.3503445460228664\n"
     ]
    },
    {
     "data": {
      "image/png": "[encoded data removed]",
      "text/plain": [
       "<Figure size 432x288 with 1 Axes>"
      ]
     },
     "metadata": {
      "needs_background": "light"
     },
     "output_type": "display_data"
    },
    {
     "name": "stdout",
     "output_type": "stream",
     "text": [
      "-0.011742185147181342\n"
     ]
    },
    {
     "data": {
      "image/png": "[encoded data removed]",
      "text/plain": [
       "<Figure size 432x288 with 1 Axes>"
      ]
     },
     "metadata": {
      "needs_background": "light"
     },
     "output_type": "display_data"
    }
   ],
   "source": [
    "#Посмотрите, как влияют на продажи внутри одной популярной платформы отзывы пользователей и критиков.\n",
    "#x360 - популярная\n",
    "plt.scatter(x = x360_df.query('critic_score != -1')['critic_score'], y = x360_df.query('critic_score !=-1')['total_sales'])\n",
    "print(x360_df.query('critic_score !=-1')['critic_score'].corr(x360_df.query('critic_score !=-1')['total_sales']))\n",
    "plt.show()\n",
    "\n",
    "plt.scatter(x = x360_df.query('user_score!=-1')['user_score'], y = x360_df.query('user_score!=-1')['total_sales'])\n",
    "print(x360_df.query('user_score!=-1')['user_score'].corr(x360_df.query('user_score!=-1')['total_sales']))\n",
    "plt.show()"
   ]
  },
  {
   "cell_type": "markdown",
   "metadata": {},
   "source": [
    "Очень слабо на продажи влияет оценки критиков."
   ]
  },
  {
   "cell_type": "code",
   "execution_count": 38,
   "metadata": {},
   "outputs": [],
   "source": [
    "# Тоже самое для PS2\n",
    "#PS2 = df_new.query('platform == \"PS2\"')\n",
    "#plt.scatter(x = PS2['critic_score'], y = PS2['total_sales'])\n",
    "#print(PS2['critic_score'].corr(PS2['total_sales']))\n",
    "#plt.show()\n",
    "#plt.scatter(x = PS2['user_score'], y = PS2['total_sales'])\n",
    "#print(PS2['user_score'].corr(PS2['total_sales']))\n",
    "#plt.show()"
   ]
  },
  {
   "cell_type": "markdown",
   "metadata": {},
   "source": [
    "Т.к я взял данные с 2013, то PS2 больше нет"
   ]
  },
  {
   "cell_type": "code",
   "execution_count": 39,
   "metadata": {},
   "outputs": [
    {
     "name": "stdout",
     "output_type": "stream",
     "text": [
      "0.3342853393371919\n"
     ]
    },
    {
     "data": {
      "image/png": "[encoded data removed]",
      "text/plain": [
       "<Figure size 432x288 with 1 Axes>"
      ]
     },
     "metadata": {
      "needs_background": "light"
     },
     "output_type": "display_data"
    },
    {
     "name": "stdout",
     "output_type": "stream",
     "text": [
      "0.0023944027357566925\n"
     ]
    },
    {
     "data": {
      "image/png": "[encoded data removed]",
      "text/plain": [
       "<Figure size 432x288 with 1 Axes>"
      ]
     },
     "metadata": {
      "needs_background": "light"
     },
     "output_type": "display_data"
    }
   ],
   "source": [
    "# для ps3\n",
    "ps3_df = df_new.query('platform == \"PS3\"')\n",
    "plt.scatter(x = ps3_df.query('critic_score !=-1')['critic_score'], y = ps3_df.query('critic_score !=-1')['total_sales'])\n",
    "print(ps3_df.query('critic_score !=-1')['critic_score'].corr(ps3_df.query('critic_score !=-1')['total_sales']))\n",
    "plt.show()\n",
    "\n",
    "plt.scatter(x = ps3_df.query('user_score!=-1')['user_score'], y = ps3_df.query('user_score!=-1')['total_sales'])\n",
    "print(ps3_df.query('user_score!=-1')['user_score'].corr(ps3_df.query('user_score!=-1')['total_sales']))\n",
    "plt.show()"
   ]
  },
  {
   "cell_type": "markdown",
   "metadata": {},
   "source": [
    "Слабо на продажи влияет оценки критиков."
   ]
  },
  {
   "cell_type": "code",
   "execution_count": 40,
   "metadata": {},
   "outputs": [],
   "source": [
    "#Wii = df_new.query('platform == \"Wii\"')\n",
    "#plt.scatter(x = Wii['critic_score'], y = Wii['total_sales'])\n",
    "#print(Wii['critic_score'].corr(Wii['total_sales']))\n",
    "#plt.show()\n",
    "#plt.scatter(x = Wii['user_score'], y = Wii['total_sales'])\n",
    "#print(Wii['user_score'].corr(Wii['total_sales']))\n",
    "#plt.show()"
   ]
  },
  {
   "cell_type": "code",
   "execution_count": 41,
   "metadata": {},
   "outputs": [],
   "source": [
    "#DS = df_new.query('platform == \"DS\"')\n",
    "#plt.scatter(x = DS['critic_score'], y = DS['total_sales'])\n",
    "#print(DS['critic_score'].corr(DS['total_sales']))\n",
    "#plt.show()\n",
    "#plt.scatter(x = DS['user_score'], y = DS['total_sales'])\n",
    "#print(DS['user_score'].corr(DS['total_sales']))\n",
    "#plt.show()"
   ]
  },
  {
   "cell_type": "markdown",
   "metadata": {},
   "source": [
    "<div class=\"alert alert-success\">\n",
    "<b>Комментарий ревьюера:</b>  Да, ты абсолютно верно интерпретируешь результаты расчета корреляции. Кстати, возможно, некоторые экспертные оценки вышли уже после того, как стало известно о коммерческом успехе игры. Так что корреляция в данном случае может не иметь предсказательной силы. Это хорошо бы проверить, но это задача уже за пределами изучаемых данных — нужно понять, как они были сформированы.\n",
    "<br>\n",
    "</div>\n"
   ]
  },
  {
   "cell_type": "code",
   "execution_count": 42,
   "metadata": {
    "scrolled": false
   },
   "outputs": [
    {
     "data": {
      "text/html": [
       "<div>\n",
       "<style scoped>\n",
       "    .dataframe tbody tr th:only-of-type {\n",
       "        vertical-align: middle;\n",
       "    }\n",
       "\n",
       "    .dataframe tbody tr th {\n",
       "        vertical-align: top;\n",
       "    }\n",
       "\n",
       "    .dataframe thead th {\n",
       "        text-align: right;\n",
       "    }\n",
       "</style>\n",
       "<table border=\"1\" class=\"dataframe\">\n",
       "  <thead>\n",
       "    <tr style=\"text-align: right;\">\n",
       "      <th></th>\n",
       "      <th>total_sales</th>\n",
       "    </tr>\n",
       "    <tr>\n",
       "      <th>genre</th>\n",
       "      <th></th>\n",
       "    </tr>\n",
       "  </thead>\n",
       "  <tbody>\n",
       "    <tr>\n",
       "      <td>Action</td>\n",
       "      <td>1744.17</td>\n",
       "    </tr>\n",
       "    <tr>\n",
       "      <td>Sports</td>\n",
       "      <td>1331.27</td>\n",
       "    </tr>\n",
       "    <tr>\n",
       "      <td>Shooter</td>\n",
       "      <td>1052.45</td>\n",
       "    </tr>\n",
       "    <tr>\n",
       "      <td>Role-Playing</td>\n",
       "      <td>934.56</td>\n",
       "    </tr>\n",
       "    <tr>\n",
       "      <td>Platform</td>\n",
       "      <td>827.77</td>\n",
       "    </tr>\n",
       "    <tr>\n",
       "      <td>Misc</td>\n",
       "      <td>802.51</td>\n",
       "    </tr>\n",
       "    <tr>\n",
       "      <td>Racing</td>\n",
       "      <td>728.67</td>\n",
       "    </tr>\n",
       "    <tr>\n",
       "      <td>Fighting</td>\n",
       "      <td>447.53</td>\n",
       "    </tr>\n",
       "    <tr>\n",
       "      <td>Simulation</td>\n",
       "      <td>389.97</td>\n",
       "    </tr>\n",
       "    <tr>\n",
       "      <td>Puzzle</td>\n",
       "      <td>242.57</td>\n",
       "    </tr>\n",
       "    <tr>\n",
       "      <td>Adventure</td>\n",
       "      <td>237.59</td>\n",
       "    </tr>\n",
       "    <tr>\n",
       "      <td>Strategy</td>\n",
       "      <td>174.23</td>\n",
       "    </tr>\n",
       "  </tbody>\n",
       "</table>\n",
       "</div>"
      ],
      "text/plain": [
       "              total_sales\n",
       "genre                    \n",
       "Action            1744.17\n",
       "Sports            1331.27\n",
       "Shooter           1052.45\n",
       "Role-Playing       934.56\n",
       "Platform           827.77\n",
       "Misc               802.51\n",
       "Racing             728.67\n",
       "Fighting           447.53\n",
       "Simulation         389.97\n",
       "Puzzle             242.57\n",
       "Adventure          237.59\n",
       "Strategy           174.23"
      ]
     },
     "execution_count": 42,
     "metadata": {},
     "output_type": "execute_result"
    }
   ],
   "source": [
    "#Общее распределение игр по жанрам.\n",
    "genre = df.pivot_table(index = 'genre', values='total_sales', aggfunc='sum').sort_values(by = 'total_sales',ascending = False)\n",
    "genre"
   ]
  },
  {
   "cell_type": "markdown",
   "metadata": {},
   "source": [
    "<div class=\"alert alert-danger\">\n",
    "<b>Комментарий ревьюера:</b> Не хватает промежуточного вывода. Что же у нас с жанрами?\n",
    "<br>\n",
    "</div>"
   ]
  },
  {
   "cell_type": "markdown",
   "metadata": {},
   "source": [
    "<div class=\"alert alert-info\">\n",
    "<b>Комментарий студента:</b> Вывод: \n",
    "    \n",
    "Взял актуальный период: 2013 год.\n",
    "\n",
    "Мы видим, что самый популярный жанр - это Action. А самая непопулярный - Strategy.\n",
    "\n",
    "Cамая стабильно прибыльная платформа - x360.\n",
    "\n",
    "На продажи внутри платформ отзывы пользователей и критиков не зависят.\n",
    "<br>\n",
    "</div>"
   ]
  },
  {
   "cell_type": "markdown",
   "metadata": {},
   "source": [
    "<div class=\"alert alert-danger\">\n",
    "<b>Комментарий ревьюера v2:</b> Не забудь скорректировать вывод после внесения изменений выше\n",
    "<br>\n",
    "</div>"
   ]
  },
  {
   "cell_type": "markdown",
   "metadata": {},
   "source": [
    "<div class=\"alert alert-info\">\n",
    "<b>Комментарий студента:</b> Сделал.\n",
    "<br>\n",
    "</div>"
   ]
  },
  {
   "cell_type": "markdown",
   "metadata": {},
   "source": [
    "<div class=\"alert alert-success\">\n",
    "\n",
    "<b>✔️ Комментарий ревьюера v3:</b> 👍\n",
    "\n",
    "</div>"
   ]
  },
  {
   "cell_type": "markdown",
   "metadata": {},
   "source": [
    "# Шаг 4. Составление портрета пользователя каждого региона\n",
    "\n",
    "    Определить для пользователя каждого региона (NA, EU, JP):\n",
    "        1. Самые популярные платформы (топ-5). Опишите различия в долях продаж.\n",
    "        2. Самые популярные жанры (топ-5). Поясните разницу.\n",
    "        3. Влияет ли рейтинг ESRB на продажи в отдельном регионе?"
   ]
  },
  {
   "cell_type": "code",
   "execution_count": 43,
   "metadata": {},
   "outputs": [
    {
     "data": {
      "text/html": [
       "<div>\n",
       "<style scoped>\n",
       "    .dataframe tbody tr th:only-of-type {\n",
       "        vertical-align: middle;\n",
       "    }\n",
       "\n",
       "    .dataframe tbody tr th {\n",
       "        vertical-align: top;\n",
       "    }\n",
       "\n",
       "    .dataframe thead th {\n",
       "        text-align: right;\n",
       "    }\n",
       "</style>\n",
       "<table border=\"1\" class=\"dataframe\">\n",
       "  <thead>\n",
       "    <tr style=\"text-align: right;\">\n",
       "      <th></th>\n",
       "      <th>na_sales</th>\n",
       "    </tr>\n",
       "    <tr>\n",
       "      <th>platform</th>\n",
       "      <th></th>\n",
       "    </tr>\n",
       "  </thead>\n",
       "  <tbody>\n",
       "    <tr>\n",
       "      <td>X360</td>\n",
       "      <td>602.47</td>\n",
       "    </tr>\n",
       "    <tr>\n",
       "      <td>PS2</td>\n",
       "      <td>583.84</td>\n",
       "    </tr>\n",
       "    <tr>\n",
       "      <td>Wii</td>\n",
       "      <td>496.90</td>\n",
       "    </tr>\n",
       "    <tr>\n",
       "      <td>PS3</td>\n",
       "      <td>393.49</td>\n",
       "    </tr>\n",
       "    <tr>\n",
       "      <td>DS</td>\n",
       "      <td>382.40</td>\n",
       "    </tr>\n",
       "  </tbody>\n",
       "</table>\n",
       "</div>"
      ],
      "text/plain": [
       "          na_sales\n",
       "platform          \n",
       "X360        602.47\n",
       "PS2         583.84\n",
       "Wii         496.90\n",
       "PS3         393.49\n",
       "DS          382.40"
      ]
     },
     "metadata": {},
     "output_type": "display_data"
    },
    {
     "data": {
      "text/html": [
       "<div>\n",
       "<style scoped>\n",
       "    .dataframe tbody tr th:only-of-type {\n",
       "        vertical-align: middle;\n",
       "    }\n",
       "\n",
       "    .dataframe tbody tr th {\n",
       "        vertical-align: top;\n",
       "    }\n",
       "\n",
       "    .dataframe thead th {\n",
       "        text-align: right;\n",
       "    }\n",
       "</style>\n",
       "<table border=\"1\" class=\"dataframe\">\n",
       "  <thead>\n",
       "    <tr style=\"text-align: right;\">\n",
       "      <th></th>\n",
       "      <th>eu_sales</th>\n",
       "    </tr>\n",
       "    <tr>\n",
       "      <th>platform</th>\n",
       "      <th></th>\n",
       "    </tr>\n",
       "  </thead>\n",
       "  <tbody>\n",
       "    <tr>\n",
       "      <td>PS2</td>\n",
       "      <td>339.29</td>\n",
       "    </tr>\n",
       "    <tr>\n",
       "      <td>PS3</td>\n",
       "      <td>330.29</td>\n",
       "    </tr>\n",
       "    <tr>\n",
       "      <td>X360</td>\n",
       "      <td>270.76</td>\n",
       "    </tr>\n",
       "    <tr>\n",
       "      <td>Wii</td>\n",
       "      <td>262.21</td>\n",
       "    </tr>\n",
       "    <tr>\n",
       "      <td>PS</td>\n",
       "      <td>213.61</td>\n",
       "    </tr>\n",
       "  </tbody>\n",
       "</table>\n",
       "</div>"
      ],
      "text/plain": [
       "          eu_sales\n",
       "platform          \n",
       "PS2         339.29\n",
       "PS3         330.29\n",
       "X360        270.76\n",
       "Wii         262.21\n",
       "PS          213.61"
      ]
     },
     "metadata": {},
     "output_type": "display_data"
    },
    {
     "data": {
      "text/html": [
       "<div>\n",
       "<style scoped>\n",
       "    .dataframe tbody tr th:only-of-type {\n",
       "        vertical-align: middle;\n",
       "    }\n",
       "\n",
       "    .dataframe tbody tr th {\n",
       "        vertical-align: top;\n",
       "    }\n",
       "\n",
       "    .dataframe thead th {\n",
       "        text-align: right;\n",
       "    }\n",
       "</style>\n",
       "<table border=\"1\" class=\"dataframe\">\n",
       "  <thead>\n",
       "    <tr style=\"text-align: right;\">\n",
       "      <th></th>\n",
       "      <th>jp_sales</th>\n",
       "    </tr>\n",
       "    <tr>\n",
       "      <th>platform</th>\n",
       "      <th></th>\n",
       "    </tr>\n",
       "  </thead>\n",
       "  <tbody>\n",
       "    <tr>\n",
       "      <td>DS</td>\n",
       "      <td>175.57</td>\n",
       "    </tr>\n",
       "    <tr>\n",
       "      <td>PS</td>\n",
       "      <td>139.82</td>\n",
       "    </tr>\n",
       "    <tr>\n",
       "      <td>PS2</td>\n",
       "      <td>139.20</td>\n",
       "    </tr>\n",
       "    <tr>\n",
       "      <td>SNES</td>\n",
       "      <td>116.55</td>\n",
       "    </tr>\n",
       "    <tr>\n",
       "      <td>3DS</td>\n",
       "      <td>100.67</td>\n",
       "    </tr>\n",
       "  </tbody>\n",
       "</table>\n",
       "</div>"
      ],
      "text/plain": [
       "          jp_sales\n",
       "platform          \n",
       "DS          175.57\n",
       "PS          139.82\n",
       "PS2         139.20\n",
       "SNES        116.55\n",
       "3DS         100.67"
      ]
     },
     "metadata": {},
     "output_type": "display_data"
    }
   ],
   "source": [
    "#Самые популярные платформы (топ-5). \n",
    "def top5_platform(region):\n",
    "    table = df.pivot_table(index = 'platform', values = region,aggfunc = 'sum').sort_values(by = region,ascending = False).head()\n",
    "    return table\n",
    "display(top5_platform('na_sales'))\n",
    "display(top5_platform('eu_sales'))\n",
    "display(top5_platform('jp_sales'))"
   ]
  },
  {
   "cell_type": "code",
   "execution_count": 44,
   "metadata": {},
   "outputs": [
    {
     "data": {
      "text/html": [
       "<div>\n",
       "<style scoped>\n",
       "    .dataframe tbody tr th:only-of-type {\n",
       "        vertical-align: middle;\n",
       "    }\n",
       "\n",
       "    .dataframe tbody tr th {\n",
       "        vertical-align: top;\n",
       "    }\n",
       "\n",
       "    .dataframe thead th {\n",
       "        text-align: right;\n",
       "    }\n",
       "</style>\n",
       "<table border=\"1\" class=\"dataframe\">\n",
       "  <thead>\n",
       "    <tr style=\"text-align: right;\">\n",
       "      <th></th>\n",
       "      <th>na_sales</th>\n",
       "    </tr>\n",
       "    <tr>\n",
       "      <th>genre</th>\n",
       "      <th></th>\n",
       "    </tr>\n",
       "  </thead>\n",
       "  <tbody>\n",
       "    <tr>\n",
       "      <td>Action</td>\n",
       "      <td>879.01</td>\n",
       "    </tr>\n",
       "    <tr>\n",
       "      <td>Sports</td>\n",
       "      <td>684.43</td>\n",
       "    </tr>\n",
       "    <tr>\n",
       "      <td>Shooter</td>\n",
       "      <td>592.24</td>\n",
       "    </tr>\n",
       "    <tr>\n",
       "      <td>Platform</td>\n",
       "      <td>445.50</td>\n",
       "    </tr>\n",
       "    <tr>\n",
       "      <td>Misc</td>\n",
       "      <td>407.27</td>\n",
       "    </tr>\n",
       "  </tbody>\n",
       "</table>\n",
       "</div>"
      ],
      "text/plain": [
       "          na_sales\n",
       "genre             \n",
       "Action      879.01\n",
       "Sports      684.43\n",
       "Shooter     592.24\n",
       "Platform    445.50\n",
       "Misc        407.27"
      ]
     },
     "metadata": {},
     "output_type": "display_data"
    },
    {
     "data": {
      "text/html": [
       "<div>\n",
       "<style scoped>\n",
       "    .dataframe tbody tr th:only-of-type {\n",
       "        vertical-align: middle;\n",
       "    }\n",
       "\n",
       "    .dataframe tbody tr th {\n",
       "        vertical-align: top;\n",
       "    }\n",
       "\n",
       "    .dataframe thead th {\n",
       "        text-align: right;\n",
       "    }\n",
       "</style>\n",
       "<table border=\"1\" class=\"dataframe\">\n",
       "  <thead>\n",
       "    <tr style=\"text-align: right;\">\n",
       "      <th></th>\n",
       "      <th>eu_sales</th>\n",
       "    </tr>\n",
       "    <tr>\n",
       "      <th>genre</th>\n",
       "      <th></th>\n",
       "    </tr>\n",
       "  </thead>\n",
       "  <tbody>\n",
       "    <tr>\n",
       "      <td>Action</td>\n",
       "      <td>519.13</td>\n",
       "    </tr>\n",
       "    <tr>\n",
       "      <td>Sports</td>\n",
       "      <td>376.79</td>\n",
       "    </tr>\n",
       "    <tr>\n",
       "      <td>Shooter</td>\n",
       "      <td>317.34</td>\n",
       "    </tr>\n",
       "    <tr>\n",
       "      <td>Racing</td>\n",
       "      <td>236.51</td>\n",
       "    </tr>\n",
       "    <tr>\n",
       "      <td>Misc</td>\n",
       "      <td>212.74</td>\n",
       "    </tr>\n",
       "  </tbody>\n",
       "</table>\n",
       "</div>"
      ],
      "text/plain": [
       "         eu_sales\n",
       "genre            \n",
       "Action     519.13\n",
       "Sports     376.79\n",
       "Shooter    317.34\n",
       "Racing     236.51\n",
       "Misc       212.74"
      ]
     },
     "metadata": {},
     "output_type": "display_data"
    },
    {
     "data": {
      "text/html": [
       "<div>\n",
       "<style scoped>\n",
       "    .dataframe tbody tr th:only-of-type {\n",
       "        vertical-align: middle;\n",
       "    }\n",
       "\n",
       "    .dataframe tbody tr th {\n",
       "        vertical-align: top;\n",
       "    }\n",
       "\n",
       "    .dataframe thead th {\n",
       "        text-align: right;\n",
       "    }\n",
       "</style>\n",
       "<table border=\"1\" class=\"dataframe\">\n",
       "  <thead>\n",
       "    <tr style=\"text-align: right;\">\n",
       "      <th></th>\n",
       "      <th>jp_sales</th>\n",
       "    </tr>\n",
       "    <tr>\n",
       "      <th>genre</th>\n",
       "      <th></th>\n",
       "    </tr>\n",
       "  </thead>\n",
       "  <tbody>\n",
       "    <tr>\n",
       "      <td>Role-Playing</td>\n",
       "      <td>355.41</td>\n",
       "    </tr>\n",
       "    <tr>\n",
       "      <td>Action</td>\n",
       "      <td>161.43</td>\n",
       "    </tr>\n",
       "    <tr>\n",
       "      <td>Sports</td>\n",
       "      <td>135.54</td>\n",
       "    </tr>\n",
       "    <tr>\n",
       "      <td>Platform</td>\n",
       "      <td>130.83</td>\n",
       "    </tr>\n",
       "    <tr>\n",
       "      <td>Misc</td>\n",
       "      <td>108.11</td>\n",
       "    </tr>\n",
       "  </tbody>\n",
       "</table>\n",
       "</div>"
      ],
      "text/plain": [
       "              jp_sales\n",
       "genre                 \n",
       "Role-Playing    355.41\n",
       "Action          161.43\n",
       "Sports          135.54\n",
       "Platform        130.83\n",
       "Misc            108.11"
      ]
     },
     "metadata": {},
     "output_type": "display_data"
    }
   ],
   "source": [
    "#Самые популярные жанры (топ-5)\n",
    "def top5_genre(region):\n",
    "    table = df.pivot_table(index = 'genre', values = region,aggfunc = 'sum').sort_values(by = region,ascending = False).head()\n",
    "    return table\n",
    "display(top5_genre('na_sales'))\n",
    "display(top5_genre('eu_sales'))\n",
    "display(top5_genre('jp_sales'))"
   ]
  },
  {
   "cell_type": "markdown",
   "metadata": {},
   "source": [
    "<div class=\"alert alert-danger\">\n",
    "<b>Комментарий ревьюера:</b> Также не хватает вывода. Что можем сказать о сходстве/различии регионов?\n",
    "<br>\n",
    "</div>"
   ]
  },
  {
   "cell_type": "markdown",
   "metadata": {},
   "source": [
    "<div class=\"alert alert-info\">\n",
    "<b>Комментарий студента:</b> Если говорить про самые популярные платформы, то у всех регионах по-разному. У NA - x360 и PS2; у EU - PS2 и PS3; у JP - DS и PS.\n",
    "    \n",
    "Если говорить про самые популярные жанры, то у NA и EU - Action. У JP - Role-Playing. Хотя Role-Playing вообще не входит в топ 5 у других регионах. В остальном же топ 5 жанров практически одинаков.\n",
    "<br>\n",
    "</div>"
   ]
  },
  {
   "cell_type": "markdown",
   "metadata": {},
   "source": [
    "<div class=\"alert alert-success\">\n",
    "<b>Комментарий ревьюера v2:</b>  Я бы все-таки заключила, что Америка и Европа в целом схожи. А Япония выделяется\n",
    "<br>\n",
    "</div>"
   ]
  },
  {
   "cell_type": "code",
   "execution_count": 45,
   "metadata": {},
   "outputs": [
    {
     "data": {
      "text/html": [
       "<div>\n",
       "<style scoped>\n",
       "    .dataframe tbody tr th:only-of-type {\n",
       "        vertical-align: middle;\n",
       "    }\n",
       "\n",
       "    .dataframe tbody tr th {\n",
       "        vertical-align: top;\n",
       "    }\n",
       "\n",
       "    .dataframe thead th {\n",
       "        text-align: right;\n",
       "    }\n",
       "</style>\n",
       "<table border=\"1\" class=\"dataframe\">\n",
       "  <thead>\n",
       "    <tr style=\"text-align: right;\">\n",
       "      <th></th>\n",
       "      <th>na_sales</th>\n",
       "    </tr>\n",
       "    <tr>\n",
       "      <th>rating</th>\n",
       "      <th></th>\n",
       "    </tr>\n",
       "  </thead>\n",
       "  <tbody>\n",
       "    <tr>\n",
       "      <td>E</td>\n",
       "      <td>1292.99</td>\n",
       "    </tr>\n",
       "    <tr>\n",
       "      <td>unknown</td>\n",
       "      <td>1240.68</td>\n",
       "    </tr>\n",
       "    <tr>\n",
       "      <td>T</td>\n",
       "      <td>759.75</td>\n",
       "    </tr>\n",
       "    <tr>\n",
       "      <td>M</td>\n",
       "      <td>748.48</td>\n",
       "    </tr>\n",
       "    <tr>\n",
       "      <td>E10+</td>\n",
       "      <td>353.32</td>\n",
       "    </tr>\n",
       "  </tbody>\n",
       "</table>\n",
       "</div>"
      ],
      "text/plain": [
       "         na_sales\n",
       "rating           \n",
       "E         1292.99\n",
       "unknown   1240.68\n",
       "T          759.75\n",
       "M          748.48\n",
       "E10+       353.32"
      ]
     },
     "metadata": {},
     "output_type": "display_data"
    },
    {
     "data": {
      "text/html": [
       "<div>\n",
       "<style scoped>\n",
       "    .dataframe tbody tr th:only-of-type {\n",
       "        vertical-align: middle;\n",
       "    }\n",
       "\n",
       "    .dataframe tbody tr th {\n",
       "        vertical-align: top;\n",
       "    }\n",
       "\n",
       "    .dataframe thead th {\n",
       "        text-align: right;\n",
       "    }\n",
       "</style>\n",
       "<table border=\"1\" class=\"dataframe\">\n",
       "  <thead>\n",
       "    <tr style=\"text-align: right;\">\n",
       "      <th></th>\n",
       "      <th>eu_sales</th>\n",
       "    </tr>\n",
       "    <tr>\n",
       "      <th>rating</th>\n",
       "      <th></th>\n",
       "    </tr>\n",
       "  </thead>\n",
       "  <tbody>\n",
       "    <tr>\n",
       "      <td>E</td>\n",
       "      <td>710.25</td>\n",
       "    </tr>\n",
       "    <tr>\n",
       "      <td>unknown</td>\n",
       "      <td>613.30</td>\n",
       "    </tr>\n",
       "    <tr>\n",
       "      <td>M</td>\n",
       "      <td>483.97</td>\n",
       "    </tr>\n",
       "    <tr>\n",
       "      <td>T</td>\n",
       "      <td>427.03</td>\n",
       "    </tr>\n",
       "    <tr>\n",
       "      <td>E10+</td>\n",
       "      <td>188.52</td>\n",
       "    </tr>\n",
       "  </tbody>\n",
       "</table>\n",
       "</div>"
      ],
      "text/plain": [
       "         eu_sales\n",
       "rating           \n",
       "E          710.25\n",
       "unknown    613.30\n",
       "M          483.97\n",
       "T          427.03\n",
       "E10+       188.52"
      ]
     },
     "metadata": {},
     "output_type": "display_data"
    },
    {
     "data": {
      "text/html": [
       "<div>\n",
       "<style scoped>\n",
       "    .dataframe tbody tr th:only-of-type {\n",
       "        vertical-align: middle;\n",
       "    }\n",
       "\n",
       "    .dataframe tbody tr th {\n",
       "        vertical-align: top;\n",
       "    }\n",
       "\n",
       "    .dataframe thead th {\n",
       "        text-align: right;\n",
       "    }\n",
       "</style>\n",
       "<table border=\"1\" class=\"dataframe\">\n",
       "  <thead>\n",
       "    <tr style=\"text-align: right;\">\n",
       "      <th></th>\n",
       "      <th>jp_sales</th>\n",
       "    </tr>\n",
       "    <tr>\n",
       "      <th>rating</th>\n",
       "      <th></th>\n",
       "    </tr>\n",
       "  </thead>\n",
       "  <tbody>\n",
       "    <tr>\n",
       "      <td>unknown</td>\n",
       "      <td>841.93</td>\n",
       "    </tr>\n",
       "    <tr>\n",
       "      <td>E</td>\n",
       "      <td>198.11</td>\n",
       "    </tr>\n",
       "    <tr>\n",
       "      <td>T</td>\n",
       "      <td>151.40</td>\n",
       "    </tr>\n",
       "    <tr>\n",
       "      <td>M</td>\n",
       "      <td>64.24</td>\n",
       "    </tr>\n",
       "    <tr>\n",
       "      <td>E10+</td>\n",
       "      <td>40.20</td>\n",
       "    </tr>\n",
       "  </tbody>\n",
       "</table>\n",
       "</div>"
      ],
      "text/plain": [
       "         jp_sales\n",
       "rating           \n",
       "unknown    841.93\n",
       "E          198.11\n",
       "T          151.40\n",
       "M           64.24\n",
       "E10+        40.20"
      ]
     },
     "metadata": {},
     "output_type": "display_data"
    }
   ],
   "source": [
    "#Влияет ли рейтинг ESRB на продажи в отдельном регионе?\n",
    "def top5_rating(region):\n",
    "    table = df.pivot_table(index = 'rating', values = region,aggfunc = 'sum').sort_values(by = region,ascending = False).head()\n",
    "    return table\n",
    "display(top5_rating('na_sales'))\n",
    "display(top5_rating('eu_sales'))\n",
    "display(top5_rating('jp_sales'))"
   ]
  },
  {
   "cell_type": "markdown",
   "metadata": {},
   "source": [
    "<div class=\"alert alert-danger\">\n",
    "<b>Комментарий ревьюера:</b>  И тут вывод. Также попробуй подумать, а почему в Японии больше всего игр с рейтингом «unknown»\n",
    "<br>\n",
    "</div>\n"
   ]
  },
  {
   "cell_type": "markdown",
   "metadata": {},
   "source": [
    "<div class=\"alert alert-info\">\n",
    "<b>Комментарий студента:</b> У всех регионах топ 5 рейтингов одинаковый. У NA и EU самый популярный - E (для всех). \n",
    "    \n",
    "А вот у Японии самый популярный рейтинг - unknown. Скорее всего, в Японии своя система рейтингов, поэтому и такой результат.\n",
    "<br>\n",
    "</div>"
   ]
  },
  {
   "cell_type": "markdown",
   "metadata": {},
   "source": [
    "<div class=\"alert alert-success\">\n",
    "<b>Комментарий ревьюера v2:</b>  Да, ESRB предназначен для рецензирования игр США и Канады.\n",
    "<br>\n",
    "</div>"
   ]
  },
  {
   "cell_type": "markdown",
   "metadata": {},
   "source": [
    "# Шаг 5. Проверка гипотез\n",
    "    1. Средние пользовательские рейтинги платформ Xbox One и PC одинаковые;\n",
    "    2. Средние пользовательские рейтинги жанров Action (англ. «действие», экшен-игры) и Sports (англ. «спортивные соревнования») разные."
   ]
  },
  {
   "cell_type": "code",
   "execution_count": 46,
   "metadata": {},
   "outputs": [
    {
     "name": "stdout",
     "output_type": "stream",
     "text": [
      "p-значение: 1.3896435533548819e-05\n",
      "Отвергаем нулевую гипотезу\n"
     ]
    }
   ],
   "source": [
    "# H0 - Средние пользовательские рейтинги платформ Xbox One и PC одинаковые;\n",
    "# H1 - Средние пользовательские рейтинги платформ Xbox One и PC разные.\n",
    "\n",
    "xbox_one = df.query('platform == \"XOne\" and user_score!=-1')['user_score']\n",
    "pc = df.query('platform == \"PC\" and user_score!=-1')['user_score']\n",
    "alpha = 0.01\n",
    "\n",
    "res = st.ttest_ind(xbox_one, pc)\n",
    "print('p-значение:', res.pvalue)\n",
    "if res.pvalue < alpha:\n",
    "    print('Отвергаем нулевую гипотезу')\n",
    "else:\n",
    "    print('Не получилось отвергнуть нулевую гипотезу') "
   ]
  },
  {
   "cell_type": "markdown",
   "metadata": {},
   "source": [
    "<div class=\"alert alert-warning\">\n",
    "<b>Комментарий ревьюера:</b> Хорошо бы вывести и сами средние значения \n",
    "<br>\n",
    "</div>"
   ]
  },
  {
   "cell_type": "markdown",
   "metadata": {},
   "source": [
    "<div class=\"alert alert-info\">\n",
    "<b>Комментарий студента:</b> Ниже это сделал.\n",
    "<br>\n",
    "</div>"
   ]
  },
  {
   "cell_type": "markdown",
   "metadata": {},
   "source": [
    "<div class=\"alert alert-success\">\n",
    "\n",
    "<b>✔️ Комментарий ревьюера v2:</b> 👍\n",
    "\n",
    "</div>"
   ]
  },
  {
   "cell_type": "code",
   "execution_count": 47,
   "metadata": {},
   "outputs": [
    {
     "name": "stdout",
     "output_type": "stream",
     "text": [
      "6.521428571428572 7.062467532467533\n"
     ]
    }
   ],
   "source": [
    "#Средние пользовательские рейтинги платформ Xbox One и PC\n",
    "xbox_mean = df.query('platform == \"XOne\" and user_score!=-1')['user_score'].mean()\n",
    "pc_mean = df.query('platform == \"PC\" and user_score!=-1')['user_score'].mean()\n",
    "print(xbox_mean, pc_mean)"
   ]
  },
  {
   "cell_type": "markdown",
   "metadata": {},
   "source": [
    "Значит, средние пользовательские рейтинги платформ Xbox One и PC разные."
   ]
  },
  {
   "cell_type": "code",
   "execution_count": 48,
   "metadata": {},
   "outputs": [
    {
     "name": "stdout",
     "output_type": "stream",
     "text": [
      "p-значение: 0.10406951359049141\n",
      "Не получилось отвергнуть нулевую гипотезу\n"
     ]
    }
   ],
   "source": [
    "# Н0 - Средние пользовательские рейтинги жанров Action и Sports одинаковые;\n",
    "# H1 - Средние пользовательские рейтинги жанров Action и Sports разные.\n",
    "action = df.query('genre == \"Action\" and user_score!=-1')['user_score']\n",
    "sports = df.query('genre == \"Sports\" and user_score!=-1')['user_score']\n",
    "alpha = 0.01\n",
    "\n",
    "res = st.ttest_ind(action, sports)\n",
    "print('p-значение:', res.pvalue)\n",
    "if res.pvalue < alpha:\n",
    "    print('Отвергаем нулевую гипотезу')\n",
    "else:\n",
    "    print('Не получилось отвергнуть нулевую гипотезу') "
   ]
  },
  {
   "cell_type": "markdown",
   "metadata": {},
   "source": [
    "Значит, средние пользовательские рейтинги жанров Action и Sports одинаковые."
   ]
  },
  {
   "cell_type": "markdown",
   "metadata": {},
   "source": [
    "<div class=\"alert alert-info\">\n",
    "<b>Комментарий студента:</b> Сделал также.\n",
    "<br>\n",
    "</div>"
   ]
  },
  {
   "cell_type": "markdown",
   "metadata": {},
   "source": [
    "<div class=\"alert alert-success\">\n",
    "\n",
    "<b>✔️ Комментарий ревьюера v2:</b> 👍\n",
    "\n",
    "</div>"
   ]
  },
  {
   "cell_type": "code",
   "execution_count": 49,
   "metadata": {},
   "outputs": [
    {
     "name": "stdout",
     "output_type": "stream",
     "text": [
      "7.054043715846995 6.961196736174069\n"
     ]
    }
   ],
   "source": [
    "#Средние пользовательские рейтинги жанров Action и Sports\n",
    "action_mean = df.query('genre == \"Action\" and user_score!=-1')['user_score'].mean()\n",
    "sports_mean = df.query('genre == \"Sports\" and user_score!=-1')['user_score'].mean()\n",
    "print(action_mean, sports_mean)"
   ]
  },
  {
   "cell_type": "markdown",
   "metadata": {},
   "source": [
    "# Шаг 6. Общий вывод"
   ]
  },
  {
   "cell_type": "markdown",
   "metadata": {},
   "source": [
    "В данной работе я открыл файлы с данными и изучил общую информацию. \n",
    "\n",
    "После этого подготовил данные для дальнейшего анализа, т.е заменил названия столбцов (привел к нижнему регистру); преобразовал данные в нужные типы; обработал пропуски; посчитал суммарные продажи во всех регионах и записал их в отдельный столбец.\n",
    "\n",
    "Также провел анализ данных. Посмотрел, сколько игр выпускалось в разные годы и как менялись продажи по платформам; взял данные за актуальный период; посмотрел, как влияют на продажи внутри одной популярной платформы отзывы пользователей и критиков, построил диаграмму рассеяния и посчитал корреляцию между отзывами и продажами; cоотнес выводы с продажами игр на других платформах; посмотрел на общее распределение игр по жанрам.\n",
    "\n",
    "Составил портрет пользователя каждого региона, т.е определил для пользователя каждого региона (NA, EU, JP): самые популярные платформы (топ-5), самые популярные жанры (топ-5) и самые популярные рейтинги.\n",
    "\n",
    "Проверил гипотезы: \n",
    "1. средние пользовательские рейтинги платформ Xbox One и PC одинаковые;\n",
    "2. Средние пользовательские рейтинги жанров Action и Sports разные.\n",
    "Оказалось, что первую гипотезу отклонили, т.е средние пользовательские рейтинги платформ Xbox One и PC разные;\n",
    "\n",
    "Вторая гипотеза также отклонена, т.е средние пользовательские рейтинги жанров Action и Sports одинаковые.\n",
    "\n"
   ]
  },
  {
   "cell_type": "markdown",
   "metadata": {},
   "source": [
    "<div class=\"alert alert-warning\">\n",
    "<b>Комментарий ревьюера:</b> Принять, подтвердить гипотезу мы не можем. Мы можем либо отклонить нулевую в пользу альтернативной, либо не суметь отвергнуть нулевую\n",
    "<br>\n",
    "</div>"
   ]
  },
  {
   "cell_type": "markdown",
   "metadata": {},
   "source": [
    "<div class=\"alert alert-info\">\n",
    "<b>Комментарий студента:</b> Спасибо, в будущем это учту ;)\n",
    "<br>\n",
    "</div>"
   ]
  },
  {
   "cell_type": "markdown",
   "metadata": {},
   "source": [
    "<div class=\"alert alert-success\">\n",
    "\n",
    "<b>✔️ Комментарий ревьюера v2:</b> 👍\n",
    "\n",
    "</div>"
   ]
  }
 ],
 "metadata": {
  "ExecuteTimeLog": [
   {
    "duration": 741,
    "start_time": "2021-12-20T10:45:00.476Z"
   },
   {
    "duration": 53,
    "start_time": "2021-12-20T10:45:21.522Z"
   },
   {
    "duration": 75,
    "start_time": "2021-12-20T10:45:27.792Z"
   },
   {
    "duration": 58,
    "start_time": "2021-12-20T10:46:41.951Z"
   },
   {
    "duration": 59,
    "start_time": "2021-12-20T10:51:03.810Z"
   },
   {
    "duration": 51,
    "start_time": "2021-12-20T10:51:21.236Z"
   },
   {
    "duration": 54,
    "start_time": "2021-12-20T10:51:50.540Z"
   },
   {
    "duration": 805,
    "start_time": "2021-12-25T12:47:57.174Z"
   },
   {
    "duration": 61,
    "start_time": "2021-12-25T12:47:58.445Z"
   },
   {
    "duration": 86,
    "start_time": "2021-12-25T12:48:00.418Z"
   },
   {
    "duration": 1217,
    "start_time": "2021-12-25T12:49:10.019Z"
   },
   {
    "duration": 4,
    "start_time": "2021-12-25T12:50:48.700Z"
   },
   {
    "duration": 30,
    "start_time": "2021-12-25T12:51:03.842Z"
   },
   {
    "duration": 9,
    "start_time": "2021-12-25T12:55:06.424Z"
   },
   {
    "duration": 16,
    "start_time": "2021-12-25T12:55:19.386Z"
   },
   {
    "duration": 28,
    "start_time": "2021-12-25T12:55:26.394Z"
   },
   {
    "duration": 9,
    "start_time": "2021-12-25T12:56:20.557Z"
   },
   {
    "duration": 29,
    "start_time": "2021-12-25T12:56:22.088Z"
   },
   {
    "duration": 760,
    "start_time": "2021-12-25T12:56:50.450Z"
   },
   {
    "duration": 51,
    "start_time": "2021-12-25T12:56:51.212Z"
   },
   {
    "duration": 78,
    "start_time": "2021-12-25T12:56:51.294Z"
   },
   {
    "duration": 4,
    "start_time": "2021-12-25T12:56:53.852Z"
   },
   {
    "duration": 1809,
    "start_time": "2021-12-25T12:56:54.590Z"
   },
   {
    "duration": 524,
    "start_time": "2021-12-25T12:56:55.878Z"
   },
   {
    "duration": 9,
    "start_time": "2021-12-25T12:57:22.684Z"
   },
   {
    "duration": 29,
    "start_time": "2021-12-25T12:57:24.198Z"
   },
   {
    "duration": 9,
    "start_time": "2021-12-25T12:57:38.619Z"
   },
   {
    "duration": 30,
    "start_time": "2021-12-25T12:57:39.920Z"
   },
   {
    "duration": 18,
    "start_time": "2021-12-25T12:58:10.531Z"
   },
   {
    "duration": 8,
    "start_time": "2021-12-25T12:58:19.049Z"
   },
   {
    "duration": 27,
    "start_time": "2021-12-25T12:58:19.889Z"
   },
   {
    "duration": 21,
    "start_time": "2021-12-25T12:58:21.010Z"
   },
   {
    "duration": 10,
    "start_time": "2021-12-25T12:59:34.474Z"
   },
   {
    "duration": 34,
    "start_time": "2021-12-25T12:59:35.084Z"
   },
   {
    "duration": 15,
    "start_time": "2021-12-25T12:59:37.273Z"
   },
   {
    "duration": 252,
    "start_time": "2021-12-25T13:00:23.846Z"
   },
   {
    "duration": 505,
    "start_time": "2021-12-25T13:00:47.567Z"
   },
   {
    "duration": 11,
    "start_time": "2021-12-25T13:00:52.241Z"
   },
   {
    "duration": 29,
    "start_time": "2021-12-25T13:00:53.149Z"
   },
   {
    "duration": 16,
    "start_time": "2021-12-25T13:00:54.454Z"
   },
   {
    "duration": 394,
    "start_time": "2021-12-25T13:03:20.694Z"
   },
   {
    "duration": 828,
    "start_time": "2021-12-25T13:03:29.167Z"
   },
   {
    "duration": 57,
    "start_time": "2021-12-25T13:03:29.997Z"
   },
   {
    "duration": 86,
    "start_time": "2021-12-25T13:03:30.056Z"
   },
   {
    "duration": 4,
    "start_time": "2021-12-25T13:03:32.781Z"
   },
   {
    "duration": 11,
    "start_time": "2021-12-25T13:03:34.938Z"
   },
   {
    "duration": 29,
    "start_time": "2021-12-25T13:03:36.328Z"
   },
   {
    "duration": 17,
    "start_time": "2021-12-25T13:03:38.757Z"
   },
   {
    "duration": 748,
    "start_time": "2021-12-25T13:08:01.052Z"
   },
   {
    "duration": 52,
    "start_time": "2021-12-25T13:08:01.804Z"
   },
   {
    "duration": 88,
    "start_time": "2021-12-25T13:08:02.657Z"
   },
   {
    "duration": 68,
    "start_time": "2021-12-25T13:08:04.780Z"
   },
   {
    "duration": 4,
    "start_time": "2021-12-25T13:08:06.605Z"
   },
   {
    "duration": 8,
    "start_time": "2021-12-25T13:08:08.957Z"
   },
   {
    "duration": 27,
    "start_time": "2021-12-25T13:08:09.527Z"
   },
   {
    "duration": 15,
    "start_time": "2021-12-25T13:08:14.348Z"
   },
   {
    "duration": 727,
    "start_time": "2021-12-25T13:08:31.060Z"
   },
   {
    "duration": 50,
    "start_time": "2021-12-25T13:08:31.790Z"
   },
   {
    "duration": 79,
    "start_time": "2021-12-25T13:08:31.965Z"
   },
   {
    "duration": 4,
    "start_time": "2021-12-25T13:08:34.246Z"
   },
   {
    "duration": 11,
    "start_time": "2021-12-25T13:08:35.184Z"
   },
   {
    "duration": 29,
    "start_time": "2021-12-25T13:08:37.060Z"
   },
   {
    "duration": 28,
    "start_time": "2021-12-25T13:08:41.346Z"
   },
   {
    "duration": 16,
    "start_time": "2021-12-25T13:08:45.177Z"
   },
   {
    "duration": 10,
    "start_time": "2021-12-25T13:08:59.506Z"
   },
   {
    "duration": 30,
    "start_time": "2021-12-25T13:09:00.730Z"
   },
   {
    "duration": 10,
    "start_time": "2021-12-25T13:09:11.569Z"
   },
   {
    "duration": 718,
    "start_time": "2021-12-25T13:09:23.472Z"
   },
   {
    "duration": 49,
    "start_time": "2021-12-25T13:09:24.193Z"
   },
   {
    "duration": 86,
    "start_time": "2021-12-25T13:09:24.245Z"
   },
   {
    "duration": 7,
    "start_time": "2021-12-25T13:09:24.804Z"
   },
   {
    "duration": 12,
    "start_time": "2021-12-25T13:09:25.813Z"
   },
   {
    "duration": 30,
    "start_time": "2021-12-25T13:09:26.965Z"
   },
   {
    "duration": 15,
    "start_time": "2021-12-25T13:09:28.490Z"
   },
   {
    "duration": 754,
    "start_time": "2021-12-25T13:09:42.133Z"
   },
   {
    "duration": 49,
    "start_time": "2021-12-25T13:09:42.892Z"
   },
   {
    "duration": 84,
    "start_time": "2021-12-25T13:09:42.943Z"
   },
   {
    "duration": 4,
    "start_time": "2021-12-25T13:09:43.030Z"
   },
   {
    "duration": 12,
    "start_time": "2021-12-25T13:09:43.063Z"
   },
   {
    "duration": 30,
    "start_time": "2021-12-25T13:09:43.550Z"
   },
   {
    "duration": 18,
    "start_time": "2021-12-25T13:09:44.214Z"
   },
   {
    "duration": 2247,
    "start_time": "2021-12-25T13:15:18.303Z"
   },
   {
    "duration": 5,
    "start_time": "2021-12-25T13:18:31.909Z"
   },
   {
    "duration": 28,
    "start_time": "2021-12-25T13:18:43.301Z"
   },
   {
    "duration": 6,
    "start_time": "2021-12-25T13:19:25.712Z"
   },
   {
    "duration": 27,
    "start_time": "2021-12-25T13:19:27.131Z"
   },
   {
    "duration": 822,
    "start_time": "2021-12-25T13:19:35.458Z"
   },
   {
    "duration": 50,
    "start_time": "2021-12-25T13:19:36.283Z"
   },
   {
    "duration": 84,
    "start_time": "2021-12-25T13:19:43.153Z"
   },
   {
    "duration": 4,
    "start_time": "2021-12-25T13:19:58.024Z"
   },
   {
    "duration": 13,
    "start_time": "2021-12-25T13:19:58.370Z"
   },
   {
    "duration": 6,
    "start_time": "2021-12-25T13:19:58.785Z"
   },
   {
    "duration": 31,
    "start_time": "2021-12-25T13:20:03.465Z"
   },
   {
    "duration": 35,
    "start_time": "2021-12-25T13:20:10.528Z"
   },
   {
    "duration": 15,
    "start_time": "2021-12-25T13:20:33.826Z"
   },
   {
    "duration": 5,
    "start_time": "2021-12-25T13:21:32.497Z"
   },
   {
    "duration": 25,
    "start_time": "2021-12-25T13:21:33.140Z"
   },
   {
    "duration": 15,
    "start_time": "2021-12-25T13:21:35.610Z"
   },
   {
    "duration": 733,
    "start_time": "2021-12-25T13:22:29.317Z"
   },
   {
    "duration": 50,
    "start_time": "2021-12-25T13:22:30.052Z"
   },
   {
    "duration": 99,
    "start_time": "2021-12-25T13:22:30.104Z"
   },
   {
    "duration": 4,
    "start_time": "2021-12-25T13:22:30.286Z"
   },
   {
    "duration": 11,
    "start_time": "2021-12-25T13:22:30.920Z"
   },
   {
    "duration": 5,
    "start_time": "2021-12-25T13:22:32.211Z"
   },
   {
    "duration": 26,
    "start_time": "2021-12-25T13:22:32.977Z"
   },
   {
    "duration": 14,
    "start_time": "2021-12-25T13:22:33.945Z"
   },
   {
    "duration": 349,
    "start_time": "2021-12-25T13:22:47.716Z"
   },
   {
    "duration": 27,
    "start_time": "2021-12-25T13:22:48.253Z"
   },
   {
    "duration": 6,
    "start_time": "2021-12-25T13:22:57.768Z"
   },
   {
    "duration": 26,
    "start_time": "2021-12-25T13:23:02.596Z"
   },
   {
    "duration": 14,
    "start_time": "2021-12-25T13:23:04.016Z"
   },
   {
    "duration": 723,
    "start_time": "2021-12-25T13:23:24.691Z"
   },
   {
    "duration": 51,
    "start_time": "2021-12-25T13:23:25.417Z"
   },
   {
    "duration": 114,
    "start_time": "2021-12-25T13:23:25.470Z"
   },
   {
    "duration": 72,
    "start_time": "2021-12-25T13:23:29.201Z"
   },
   {
    "duration": 4,
    "start_time": "2021-12-25T13:23:32.669Z"
   },
   {
    "duration": 11,
    "start_time": "2021-12-25T13:23:33.262Z"
   },
   {
    "duration": 6,
    "start_time": "2021-12-25T13:23:33.840Z"
   },
   {
    "duration": 5,
    "start_time": "2021-12-25T13:23:48.140Z"
   },
   {
    "duration": 19,
    "start_time": "2021-12-25T13:23:48.930Z"
   },
   {
    "duration": 14,
    "start_time": "2021-12-25T13:23:50.614Z"
   },
   {
    "duration": 785,
    "start_time": "2021-12-25T16:16:42.234Z"
   },
   {
    "duration": 52,
    "start_time": "2021-12-25T16:16:43.496Z"
   },
   {
    "duration": 57,
    "start_time": "2021-12-25T16:16:44.785Z"
   },
   {
    "duration": 4,
    "start_time": "2021-12-25T16:16:48.884Z"
   },
   {
    "duration": 9,
    "start_time": "2021-12-25T16:16:52.029Z"
   },
   {
    "duration": 4,
    "start_time": "2021-12-25T16:16:53.921Z"
   },
   {
    "duration": 14,
    "start_time": "2021-12-25T16:16:54.214Z"
   },
   {
    "duration": 10,
    "start_time": "2021-12-25T16:16:55.741Z"
   },
   {
    "duration": 4,
    "start_time": "2021-12-25T16:17:35.545Z"
   },
   {
    "duration": 13,
    "start_time": "2021-12-25T16:17:36.589Z"
   },
   {
    "duration": 9,
    "start_time": "2021-12-25T16:17:37.574Z"
   },
   {
    "duration": 555,
    "start_time": "2021-12-25T16:18:05.717Z"
   },
   {
    "duration": 39,
    "start_time": "2021-12-25T16:18:06.275Z"
   },
   {
    "duration": 64,
    "start_time": "2021-12-25T16:18:06.316Z"
   },
   {
    "duration": 3,
    "start_time": "2021-12-25T16:18:06.382Z"
   },
   {
    "duration": 8,
    "start_time": "2021-12-25T16:18:06.538Z"
   },
   {
    "duration": 5,
    "start_time": "2021-12-25T16:18:06.693Z"
   },
   {
    "duration": 17,
    "start_time": "2021-12-25T16:18:06.855Z"
   },
   {
    "duration": 11,
    "start_time": "2021-12-25T16:18:07.014Z"
   },
   {
    "duration": 294,
    "start_time": "2021-12-25T16:22:19.925Z"
   },
   {
    "duration": 3,
    "start_time": "2021-12-25T16:22:53.013Z"
   },
   {
    "duration": 247,
    "start_time": "2021-12-25T16:22:59.477Z"
   },
   {
    "duration": 265,
    "start_time": "2021-12-25T16:24:49.319Z"
   },
   {
    "duration": 3,
    "start_time": "2021-12-25T16:25:02.153Z"
   },
   {
    "duration": 6,
    "start_time": "2021-12-25T16:25:32.584Z"
   },
   {
    "duration": 15,
    "start_time": "2021-12-25T16:26:56.469Z"
   },
   {
    "duration": 15,
    "start_time": "2021-12-25T16:27:41.731Z"
   },
   {
    "duration": 10,
    "start_time": "2021-12-25T16:34:29.902Z"
   },
   {
    "duration": 75,
    "start_time": "2021-12-25T16:36:17.124Z"
   },
   {
    "duration": 233,
    "start_time": "2021-12-25T16:37:03.374Z"
   },
   {
    "duration": 577,
    "start_time": "2021-12-25T16:37:20.479Z"
   },
   {
    "duration": 47,
    "start_time": "2021-12-25T16:37:21.058Z"
   },
   {
    "duration": 55,
    "start_time": "2021-12-25T16:37:22.790Z"
   },
   {
    "duration": 4,
    "start_time": "2021-12-25T16:37:24.774Z"
   },
   {
    "duration": 12,
    "start_time": "2021-12-25T16:37:25.172Z"
   },
   {
    "duration": 4,
    "start_time": "2021-12-25T16:37:26.195Z"
   },
   {
    "duration": 14,
    "start_time": "2021-12-25T16:37:26.484Z"
   },
   {
    "duration": 24,
    "start_time": "2021-12-25T16:37:28.561Z"
   },
   {
    "duration": 11,
    "start_time": "2021-12-25T16:37:30.690Z"
   },
   {
    "duration": 369,
    "start_time": "2021-12-25T16:37:31.928Z"
   },
   {
    "duration": 288,
    "start_time": "2021-12-25T16:38:18.317Z"
   },
   {
    "duration": 249,
    "start_time": "2021-12-25T16:38:52.196Z"
   },
   {
    "duration": 276,
    "start_time": "2021-12-25T16:38:57.815Z"
   },
   {
    "duration": 269,
    "start_time": "2021-12-25T16:39:29.788Z"
   },
   {
    "duration": 5842,
    "start_time": "2021-12-25T16:41:19.506Z"
   },
   {
    "duration": 9,
    "start_time": "2021-12-25T16:41:45.599Z"
   },
   {
    "duration": 225,
    "start_time": "2021-12-25T16:41:52.384Z"
   },
   {
    "duration": 16,
    "start_time": "2021-12-25T16:43:13.705Z"
   },
   {
    "duration": 13,
    "start_time": "2021-12-25T16:43:40.016Z"
   },
   {
    "duration": 14,
    "start_time": "2021-12-25T16:43:58.871Z"
   },
   {
    "duration": 8,
    "start_time": "2021-12-25T16:44:07.750Z"
   },
   {
    "duration": 8,
    "start_time": "2021-12-25T16:44:27.658Z"
   },
   {
    "duration": 15,
    "start_time": "2021-12-25T16:44:41.924Z"
   },
   {
    "duration": 25,
    "start_time": "2021-12-25T16:50:00.002Z"
   },
   {
    "duration": 15,
    "start_time": "2021-12-25T16:51:01.385Z"
   },
   {
    "duration": 20,
    "start_time": "2021-12-25T16:51:21.385Z"
   },
   {
    "duration": 26,
    "start_time": "2021-12-25T16:51:42.744Z"
   },
   {
    "duration": 378,
    "start_time": "2021-12-25T16:57:30.939Z"
   },
   {
    "duration": 12,
    "start_time": "2021-12-25T16:57:41.623Z"
   },
   {
    "duration": 6,
    "start_time": "2021-12-25T16:58:32.902Z"
   },
   {
    "duration": 7,
    "start_time": "2021-12-25T16:58:55.792Z"
   },
   {
    "duration": 6,
    "start_time": "2021-12-25T16:59:04.587Z"
   },
   {
    "duration": 5,
    "start_time": "2021-12-25T16:59:12.324Z"
   },
   {
    "duration": 5,
    "start_time": "2021-12-25T16:59:23.983Z"
   },
   {
    "duration": 10,
    "start_time": "2021-12-25T17:02:04.151Z"
   },
   {
    "duration": 238,
    "start_time": "2021-12-25T17:02:13.101Z"
   },
   {
    "duration": 283,
    "start_time": "2021-12-25T17:02:38.640Z"
   },
   {
    "duration": 3,
    "start_time": "2021-12-25T17:02:44.923Z"
   },
   {
    "duration": 3,
    "start_time": "2021-12-25T17:02:47.985Z"
   },
   {
    "duration": 4,
    "start_time": "2021-12-25T17:03:43.232Z"
   },
   {
    "duration": 753,
    "start_time": "2021-12-25T17:03:49.550Z"
   },
   {
    "duration": 40,
    "start_time": "2021-12-25T17:03:50.307Z"
   },
   {
    "duration": 85,
    "start_time": "2021-12-25T17:03:50.349Z"
   },
   {
    "duration": 4,
    "start_time": "2021-12-25T17:03:50.436Z"
   },
   {
    "duration": 9,
    "start_time": "2021-12-25T17:03:50.599Z"
   },
   {
    "duration": 5,
    "start_time": "2021-12-25T17:03:50.938Z"
   },
   {
    "duration": 14,
    "start_time": "2021-12-25T17:03:51.303Z"
   },
   {
    "duration": 16,
    "start_time": "2021-12-25T17:03:52.767Z"
   },
   {
    "duration": 10,
    "start_time": "2021-12-25T17:03:53.316Z"
   },
   {
    "duration": 15,
    "start_time": "2021-12-25T17:03:55.039Z"
   },
   {
    "duration": 8,
    "start_time": "2021-12-25T17:03:56.670Z"
   },
   {
    "duration": 429,
    "start_time": "2021-12-25T17:04:14.116Z"
   },
   {
    "duration": 5,
    "start_time": "2021-12-25T17:04:29.025Z"
   },
   {
    "duration": 4,
    "start_time": "2021-12-25T17:04:30.453Z"
   },
   {
    "duration": 620,
    "start_time": "2021-12-25T17:04:40.622Z"
   },
   {
    "duration": 50,
    "start_time": "2021-12-25T17:04:41.244Z"
   },
   {
    "duration": 69,
    "start_time": "2021-12-25T17:04:41.298Z"
   },
   {
    "duration": 4,
    "start_time": "2021-12-25T17:04:41.373Z"
   },
   {
    "duration": 9,
    "start_time": "2021-12-25T17:04:41.520Z"
   },
   {
    "duration": 5,
    "start_time": "2021-12-25T17:04:41.752Z"
   },
   {
    "duration": 18,
    "start_time": "2021-12-25T17:04:41.988Z"
   },
   {
    "duration": 12,
    "start_time": "2021-12-25T17:04:43.315Z"
   },
   {
    "duration": 14,
    "start_time": "2021-12-25T17:04:43.648Z"
   },
   {
    "duration": 15,
    "start_time": "2021-12-25T17:04:46.735Z"
   },
   {
    "duration": 9,
    "start_time": "2021-12-25T17:04:47.382Z"
   },
   {
    "duration": 5,
    "start_time": "2021-12-25T17:04:51.617Z"
   },
   {
    "duration": 24,
    "start_time": "2021-12-25T17:04:52.043Z"
   },
   {
    "duration": 6,
    "start_time": "2021-12-25T17:05:01.173Z"
   },
   {
    "duration": 6,
    "start_time": "2021-12-25T17:05:13.946Z"
   },
   {
    "duration": 5,
    "start_time": "2021-12-25T17:05:25.936Z"
   },
   {
    "duration": 5,
    "start_time": "2021-12-25T17:08:18.509Z"
   },
   {
    "duration": 25,
    "start_time": "2021-12-25T17:10:12.185Z"
   },
   {
    "duration": 504,
    "start_time": "2021-12-25T17:20:11.483Z"
   },
   {
    "duration": 25,
    "start_time": "2021-12-25T17:20:20.033Z"
   },
   {
    "duration": 13,
    "start_time": "2021-12-25T17:24:20.442Z"
   },
   {
    "duration": 112,
    "start_time": "2021-12-25T17:35:58.815Z"
   },
   {
    "duration": 237,
    "start_time": "2021-12-25T17:37:03.836Z"
   },
   {
    "duration": 1092,
    "start_time": "2021-12-25T17:37:11.119Z"
   },
   {
    "duration": 878,
    "start_time": "2021-12-25T17:38:49.851Z"
   },
   {
    "duration": 10,
    "start_time": "2021-12-25T17:39:15.045Z"
   },
   {
    "duration": 605,
    "start_time": "2021-12-25T17:39:40.787Z"
   },
   {
    "duration": 44,
    "start_time": "2021-12-25T17:39:41.394Z"
   },
   {
    "duration": 70,
    "start_time": "2021-12-25T17:39:41.440Z"
   },
   {
    "duration": 7,
    "start_time": "2021-12-25T17:39:44.858Z"
   },
   {
    "duration": 10,
    "start_time": "2021-12-25T17:39:45.142Z"
   },
   {
    "duration": 5,
    "start_time": "2021-12-25T17:39:45.430Z"
   },
   {
    "duration": 17,
    "start_time": "2021-12-25T17:39:46.681Z"
   },
   {
    "duration": 14,
    "start_time": "2021-12-25T17:39:47.713Z"
   },
   {
    "duration": 14,
    "start_time": "2021-12-25T17:39:49.404Z"
   },
   {
    "duration": 15,
    "start_time": "2021-12-25T17:39:52.789Z"
   },
   {
    "duration": 6,
    "start_time": "2021-12-25T17:39:54.158Z"
   },
   {
    "duration": 7,
    "start_time": "2021-12-25T17:40:00.505Z"
   },
   {
    "duration": 21,
    "start_time": "2021-12-25T17:40:03.357Z"
   },
   {
    "duration": 1152,
    "start_time": "2021-12-25T17:40:25.531Z"
   },
   {
    "duration": 10,
    "start_time": "2021-12-25T17:40:33.441Z"
   },
   {
    "duration": 269,
    "start_time": "2021-12-25T17:46:13.880Z"
   },
   {
    "duration": 661,
    "start_time": "2021-12-25T17:46:20.586Z"
   },
   {
    "duration": 50,
    "start_time": "2021-12-25T17:46:21.249Z"
   },
   {
    "duration": 67,
    "start_time": "2021-12-25T17:46:21.302Z"
   },
   {
    "duration": 6,
    "start_time": "2021-12-25T17:46:21.371Z"
   },
   {
    "duration": 24,
    "start_time": "2021-12-25T17:46:21.379Z"
   },
   {
    "duration": 4,
    "start_time": "2021-12-25T17:46:21.752Z"
   },
   {
    "duration": 14,
    "start_time": "2021-12-25T17:46:22.079Z"
   },
   {
    "duration": 12,
    "start_time": "2021-12-25T17:46:22.424Z"
   },
   {
    "duration": 10,
    "start_time": "2021-12-25T17:46:24.003Z"
   },
   {
    "duration": 18,
    "start_time": "2021-12-25T17:46:25.661Z"
   },
   {
    "duration": 5,
    "start_time": "2021-12-25T17:46:26.297Z"
   },
   {
    "duration": 12,
    "start_time": "2021-12-25T17:46:27.415Z"
   },
   {
    "duration": 1198,
    "start_time": "2021-12-25T17:46:28.732Z"
   },
   {
    "duration": 1063,
    "start_time": "2021-12-25T18:07:12.058Z"
   },
   {
    "duration": 4,
    "start_time": "2021-12-25T18:08:27.809Z"
   },
   {
    "duration": 8,
    "start_time": "2021-12-25T18:14:37.412Z"
   },
   {
    "duration": 469,
    "start_time": "2021-12-25T18:14:51.204Z"
   },
   {
    "duration": 27,
    "start_time": "2021-12-25T18:16:05.620Z"
   },
   {
    "duration": 19,
    "start_time": "2021-12-25T18:16:32.716Z"
   },
   {
    "duration": 11,
    "start_time": "2021-12-25T18:17:01.366Z"
   },
   {
    "duration": 10,
    "start_time": "2021-12-25T18:17:10.686Z"
   },
   {
    "duration": 5,
    "start_time": "2021-12-25T18:17:22.313Z"
   },
   {
    "duration": 12,
    "start_time": "2021-12-25T18:17:29.870Z"
   },
   {
    "duration": 4,
    "start_time": "2021-12-25T18:18:00.056Z"
   },
   {
    "duration": 132,
    "start_time": "2021-12-25T18:18:16.188Z"
   },
   {
    "duration": 19,
    "start_time": "2021-12-25T18:18:25.889Z"
   },
   {
    "duration": 19,
    "start_time": "2021-12-25T18:18:51.652Z"
   },
   {
    "duration": 26,
    "start_time": "2021-12-25T18:18:53.948Z"
   },
   {
    "duration": 142,
    "start_time": "2021-12-25T18:19:03.037Z"
   },
   {
    "duration": 19,
    "start_time": "2021-12-25T18:19:03.896Z"
   },
   {
    "duration": 663,
    "start_time": "2021-12-25T18:19:16.480Z"
   },
   {
    "duration": 47,
    "start_time": "2021-12-25T18:19:17.146Z"
   },
   {
    "duration": 58,
    "start_time": "2021-12-25T18:19:17.465Z"
   },
   {
    "duration": 3,
    "start_time": "2021-12-25T18:19:18.534Z"
   },
   {
    "duration": 10,
    "start_time": "2021-12-25T18:19:20.673Z"
   },
   {
    "duration": 4,
    "start_time": "2021-12-25T18:19:20.982Z"
   },
   {
    "duration": 15,
    "start_time": "2021-12-25T18:19:21.274Z"
   },
   {
    "duration": 10,
    "start_time": "2021-12-25T18:19:23.049Z"
   },
   {
    "duration": 10,
    "start_time": "2021-12-25T18:19:24.886Z"
   },
   {
    "duration": 19,
    "start_time": "2021-12-25T18:19:26.351Z"
   },
   {
    "duration": 5,
    "start_time": "2021-12-25T18:19:26.983Z"
   },
   {
    "duration": 11,
    "start_time": "2021-12-25T18:19:34.469Z"
   },
   {
    "duration": 136,
    "start_time": "2021-12-25T18:19:36.998Z"
   },
   {
    "duration": 21,
    "start_time": "2021-12-25T18:19:37.968Z"
   },
   {
    "duration": 641,
    "start_time": "2021-12-25T18:19:58.486Z"
   },
   {
    "duration": 46,
    "start_time": "2021-12-25T18:19:59.129Z"
   },
   {
    "duration": 53,
    "start_time": "2021-12-25T18:19:59.178Z"
   },
   {
    "duration": 3,
    "start_time": "2021-12-25T18:19:59.233Z"
   },
   {
    "duration": 9,
    "start_time": "2021-12-25T18:19:59.280Z"
   },
   {
    "duration": 5,
    "start_time": "2021-12-25T18:19:59.453Z"
   },
   {
    "duration": 14,
    "start_time": "2021-12-25T18:20:00.333Z"
   },
   {
    "duration": 15,
    "start_time": "2021-12-25T18:20:01.867Z"
   },
   {
    "duration": 11,
    "start_time": "2021-12-25T18:20:02.321Z"
   },
   {
    "duration": 15,
    "start_time": "2021-12-25T18:20:03.671Z"
   },
   {
    "duration": 7,
    "start_time": "2021-12-25T18:20:05.181Z"
   },
   {
    "duration": 9,
    "start_time": "2021-12-25T18:20:05.735Z"
   },
   {
    "duration": 15,
    "start_time": "2021-12-25T18:20:06.424Z"
   },
   {
    "duration": 26,
    "start_time": "2021-12-25T18:20:08.561Z"
   },
   {
    "duration": 24,
    "start_time": "2021-12-25T18:21:42.621Z"
   },
   {
    "duration": 32,
    "start_time": "2021-12-25T18:31:01.653Z"
   },
   {
    "duration": 9,
    "start_time": "2021-12-25T18:31:18.591Z"
   },
   {
    "duration": 9,
    "start_time": "2021-12-25T18:31:28.315Z"
   },
   {
    "duration": 9,
    "start_time": "2021-12-25T18:31:37.768Z"
   },
   {
    "duration": 8,
    "start_time": "2021-12-25T18:34:16.520Z"
   },
   {
    "duration": 7,
    "start_time": "2021-12-25T18:35:00.256Z"
   },
   {
    "duration": 10,
    "start_time": "2021-12-25T18:35:05.055Z"
   },
   {
    "duration": 273,
    "start_time": "2021-12-25T18:37:51.376Z"
   },
   {
    "duration": 7,
    "start_time": "2021-12-25T18:37:57.992Z"
   },
   {
    "duration": 5,
    "start_time": "2021-12-25T19:16:06.452Z"
   },
   {
    "duration": 10,
    "start_time": "2021-12-25T19:16:18.600Z"
   },
   {
    "duration": 581,
    "start_time": "2021-12-25T19:17:16.503Z"
   },
   {
    "duration": 38,
    "start_time": "2021-12-25T19:17:17.659Z"
   },
   {
    "duration": 50,
    "start_time": "2021-12-25T19:17:17.923Z"
   },
   {
    "duration": 3,
    "start_time": "2021-12-25T19:17:18.406Z"
   },
   {
    "duration": 9,
    "start_time": "2021-12-25T19:17:18.594Z"
   },
   {
    "duration": 5,
    "start_time": "2021-12-25T19:17:18.725Z"
   },
   {
    "duration": 14,
    "start_time": "2021-12-25T19:17:18.851Z"
   },
   {
    "duration": 11,
    "start_time": "2021-12-25T19:17:20.826Z"
   },
   {
    "duration": 11,
    "start_time": "2021-12-25T19:17:21.102Z"
   },
   {
    "duration": 13,
    "start_time": "2021-12-25T19:17:22.621Z"
   },
   {
    "duration": 5,
    "start_time": "2021-12-25T19:17:23.547Z"
   },
   {
    "duration": 9,
    "start_time": "2021-12-25T19:17:25.007Z"
   },
   {
    "duration": 17,
    "start_time": "2021-12-25T19:17:27.116Z"
   },
   {
    "duration": 19,
    "start_time": "2021-12-25T19:17:28.156Z"
   },
   {
    "duration": 24,
    "start_time": "2021-12-25T19:17:32.595Z"
   },
   {
    "duration": 6,
    "start_time": "2021-12-25T19:17:41.427Z"
   },
   {
    "duration": 19,
    "start_time": "2021-12-25T19:18:48.176Z"
   },
   {
    "duration": 19,
    "start_time": "2021-12-25T19:18:50.328Z"
   },
   {
    "duration": 286,
    "start_time": "2021-12-25T19:19:43.417Z"
   },
   {
    "duration": 4,
    "start_time": "2021-12-25T19:21:29.155Z"
   },
   {
    "duration": 18,
    "start_time": "2021-12-25T19:21:31.981Z"
   },
   {
    "duration": 486,
    "start_time": "2021-12-25T20:09:51.174Z"
   },
   {
    "duration": 22,
    "start_time": "2021-12-25T20:09:53.278Z"
   },
   {
    "duration": 23,
    "start_time": "2021-12-25T20:31:07.009Z"
   },
   {
    "duration": 7,
    "start_time": "2021-12-25T20:31:22.158Z"
   },
   {
    "duration": 83,
    "start_time": "2021-12-25T20:39:21.937Z"
   },
   {
    "duration": 207,
    "start_time": "2021-12-25T20:49:46.239Z"
   },
   {
    "duration": 2,
    "start_time": "2021-12-25T20:49:51.873Z"
   },
   {
    "duration": 206,
    "start_time": "2021-12-25T20:53:03.984Z"
   },
   {
    "duration": 348,
    "start_time": "2021-12-25T20:53:28.889Z"
   },
   {
    "duration": 396,
    "start_time": "2021-12-25T20:56:44.265Z"
   },
   {
    "duration": 374,
    "start_time": "2021-12-25T20:56:49.475Z"
   },
   {
    "duration": 382,
    "start_time": "2021-12-25T20:56:56.810Z"
   },
   {
    "duration": 385,
    "start_time": "2021-12-25T20:58:13.416Z"
   },
   {
    "duration": 362,
    "start_time": "2021-12-25T21:03:54.439Z"
   },
   {
    "duration": 393,
    "start_time": "2021-12-25T22:27:39.650Z"
   },
   {
    "duration": 214,
    "start_time": "2021-12-25T22:28:16.951Z"
   },
   {
    "duration": 460,
    "start_time": "2021-12-25T22:28:48.476Z"
   },
   {
    "duration": 385,
    "start_time": "2021-12-25T22:29:15.890Z"
   },
   {
    "duration": 431,
    "start_time": "2021-12-25T22:38:03.065Z"
   },
   {
    "duration": 19,
    "start_time": "2021-12-25T22:41:24.624Z"
   },
   {
    "duration": 1177,
    "start_time": "2021-12-25T22:42:05.274Z"
   },
   {
    "duration": 49,
    "start_time": "2021-12-25T22:42:06.452Z"
   },
   {
    "duration": 51,
    "start_time": "2021-12-25T22:42:06.503Z"
   },
   {
    "duration": 4,
    "start_time": "2021-12-25T22:42:06.561Z"
   },
   {
    "duration": 21,
    "start_time": "2021-12-25T22:42:06.568Z"
   },
   {
    "duration": 4,
    "start_time": "2021-12-25T22:42:06.612Z"
   },
   {
    "duration": 14,
    "start_time": "2021-12-25T22:42:06.919Z"
   },
   {
    "duration": 11,
    "start_time": "2021-12-25T22:42:07.389Z"
   },
   {
    "duration": 10,
    "start_time": "2021-12-25T22:42:10.604Z"
   },
   {
    "duration": 15,
    "start_time": "2021-12-25T22:42:10.973Z"
   },
   {
    "duration": 6,
    "start_time": "2021-12-25T22:42:13.683Z"
   },
   {
    "duration": 9,
    "start_time": "2021-12-25T22:42:14.371Z"
   },
   {
    "duration": 18,
    "start_time": "2021-12-25T22:42:14.874Z"
   },
   {
    "duration": 20,
    "start_time": "2021-12-25T22:42:17.609Z"
   },
   {
    "duration": 26,
    "start_time": "2021-12-25T22:42:18.688Z"
   },
   {
    "duration": 7,
    "start_time": "2021-12-25T22:42:19.528Z"
   },
   {
    "duration": 20,
    "start_time": "2021-12-25T22:42:20.891Z"
   },
   {
    "duration": 5,
    "start_time": "2021-12-25T22:42:21.539Z"
   },
   {
    "duration": 19,
    "start_time": "2021-12-25T22:42:22.672Z"
   },
   {
    "duration": 503,
    "start_time": "2021-12-25T22:42:25.903Z"
   },
   {
    "duration": 431,
    "start_time": "2021-12-25T22:42:29.035Z"
   },
   {
    "duration": 374,
    "start_time": "2021-12-25T22:42:36.407Z"
   },
   {
    "duration": 31,
    "start_time": "2021-12-25T22:42:50.154Z"
   },
   {
    "duration": 18,
    "start_time": "2021-12-25T22:43:32.087Z"
   },
   {
    "duration": 18,
    "start_time": "2021-12-25T22:44:50.383Z"
   },
   {
    "duration": 17,
    "start_time": "2021-12-25T22:51:03.333Z"
   },
   {
    "duration": 370,
    "start_time": "2021-12-25T22:55:56.220Z"
   },
   {
    "duration": 230,
    "start_time": "2021-12-25T22:56:50.938Z"
   },
   {
    "duration": 269,
    "start_time": "2021-12-25T22:57:11.338Z"
   },
   {
    "duration": 345,
    "start_time": "2021-12-25T22:57:46.539Z"
   },
   {
    "duration": 275,
    "start_time": "2021-12-25T22:59:46.427Z"
   },
   {
    "duration": 290,
    "start_time": "2021-12-25T23:00:30.107Z"
   },
   {
    "duration": 211,
    "start_time": "2021-12-25T23:01:43.120Z"
   },
   {
    "duration": 218,
    "start_time": "2021-12-25T23:02:12.461Z"
   },
   {
    "duration": 1148,
    "start_time": "2021-12-25T23:02:31.977Z"
   },
   {
    "duration": 42,
    "start_time": "2021-12-25T23:02:33.127Z"
   },
   {
    "duration": 47,
    "start_time": "2021-12-25T23:02:33.172Z"
   },
   {
    "duration": 3,
    "start_time": "2021-12-25T23:02:33.221Z"
   },
   {
    "duration": 12,
    "start_time": "2021-12-25T23:02:33.225Z"
   },
   {
    "duration": 4,
    "start_time": "2021-12-25T23:02:33.238Z"
   },
   {
    "duration": 34,
    "start_time": "2021-12-25T23:02:33.243Z"
   },
   {
    "duration": 12,
    "start_time": "2021-12-25T23:02:33.279Z"
   },
   {
    "duration": 10,
    "start_time": "2021-12-25T23:02:33.295Z"
   },
   {
    "duration": 20,
    "start_time": "2021-12-25T23:02:33.307Z"
   },
   {
    "duration": 6,
    "start_time": "2021-12-25T23:02:33.329Z"
   },
   {
    "duration": 33,
    "start_time": "2021-12-25T23:02:33.337Z"
   },
   {
    "duration": 23,
    "start_time": "2021-12-25T23:02:33.373Z"
   },
   {
    "duration": 18,
    "start_time": "2021-12-25T23:02:33.398Z"
   },
   {
    "duration": 44,
    "start_time": "2021-12-25T23:02:33.418Z"
   },
   {
    "duration": 10,
    "start_time": "2021-12-25T23:02:33.466Z"
   },
   {
    "duration": 23,
    "start_time": "2021-12-25T23:02:33.479Z"
   },
   {
    "duration": 4,
    "start_time": "2021-12-25T23:02:33.504Z"
   },
   {
    "duration": 23,
    "start_time": "2021-12-25T23:02:33.509Z"
   },
   {
    "duration": 544,
    "start_time": "2021-12-25T23:02:33.533Z"
   },
   {
    "duration": 432,
    "start_time": "2021-12-25T23:02:34.079Z"
   },
   {
    "duration": 410,
    "start_time": "2021-12-25T23:02:34.513Z"
   },
   {
    "duration": 315,
    "start_time": "2021-12-25T23:02:34.925Z"
   },
   {
    "duration": 72,
    "start_time": "2021-12-25T23:04:43.408Z"
   },
   {
    "duration": 3,
    "start_time": "2021-12-25T23:04:53.735Z"
   },
   {
    "duration": 6185,
    "start_time": "2021-12-25T23:05:13.346Z"
   },
   {
    "duration": 1231,
    "start_time": "2021-12-25T23:06:01.946Z"
   },
   {
    "duration": 38,
    "start_time": "2021-12-25T23:06:03.179Z"
   },
   {
    "duration": 50,
    "start_time": "2021-12-25T23:06:03.376Z"
   },
   {
    "duration": 4,
    "start_time": "2021-12-25T23:06:04.710Z"
   },
   {
    "duration": 12,
    "start_time": "2021-12-25T23:06:05.160Z"
   },
   {
    "duration": 4,
    "start_time": "2021-12-25T23:06:05.383Z"
   },
   {
    "duration": 13,
    "start_time": "2021-12-25T23:06:05.606Z"
   },
   {
    "duration": 10,
    "start_time": "2021-12-25T23:06:06.126Z"
   },
   {
    "duration": 11,
    "start_time": "2021-12-25T23:06:06.810Z"
   },
   {
    "duration": 14,
    "start_time": "2021-12-25T23:06:07.882Z"
   },
   {
    "duration": 6,
    "start_time": "2021-12-25T23:06:08.273Z"
   },
   {
    "duration": 10,
    "start_time": "2021-12-25T23:06:08.443Z"
   },
   {
    "duration": 20,
    "start_time": "2021-12-25T23:06:08.671Z"
   },
   {
    "duration": 24,
    "start_time": "2021-12-25T23:06:09.356Z"
   },
   {
    "duration": 25,
    "start_time": "2021-12-25T23:06:10.116Z"
   },
   {
    "duration": 6,
    "start_time": "2021-12-25T23:06:10.747Z"
   },
   {
    "duration": 21,
    "start_time": "2021-12-25T23:06:11.335Z"
   },
   {
    "duration": 4,
    "start_time": "2021-12-25T23:06:11.986Z"
   },
   {
    "duration": 19,
    "start_time": "2021-12-25T23:06:12.717Z"
   },
   {
    "duration": 500,
    "start_time": "2021-12-25T23:06:16.423Z"
   },
   {
    "duration": 419,
    "start_time": "2021-12-25T23:06:21.193Z"
   },
   {
    "duration": 382,
    "start_time": "2021-12-25T23:06:24.534Z"
   },
   {
    "duration": 5700,
    "start_time": "2021-12-25T23:06:30.028Z"
   },
   {
    "duration": 16,
    "start_time": "2021-12-25T23:07:03.598Z"
   },
   {
    "duration": 11,
    "start_time": "2021-12-25T23:07:51.896Z"
   },
   {
    "duration": 1095,
    "start_time": "2021-12-25T23:08:10.062Z"
   },
   {
    "duration": 42,
    "start_time": "2021-12-25T23:08:11.159Z"
   },
   {
    "duration": 60,
    "start_time": "2021-12-25T23:08:11.203Z"
   },
   {
    "duration": 5,
    "start_time": "2021-12-25T23:08:11.267Z"
   },
   {
    "duration": 15,
    "start_time": "2021-12-25T23:08:11.274Z"
   },
   {
    "duration": 3,
    "start_time": "2021-12-25T23:08:11.291Z"
   },
   {
    "duration": 13,
    "start_time": "2021-12-25T23:08:11.374Z"
   },
   {
    "duration": 11,
    "start_time": "2021-12-25T23:08:11.537Z"
   },
   {
    "duration": 13,
    "start_time": "2021-12-25T23:08:11.701Z"
   },
   {
    "duration": 16,
    "start_time": "2021-12-25T23:08:11.872Z"
   },
   {
    "duration": 5,
    "start_time": "2021-12-25T23:08:12.014Z"
   },
   {
    "duration": 7,
    "start_time": "2021-12-25T23:08:12.182Z"
   },
   {
    "duration": 23,
    "start_time": "2021-12-25T23:08:12.356Z"
   },
   {
    "duration": 19,
    "start_time": "2021-12-25T23:08:12.533Z"
   },
   {
    "duration": 24,
    "start_time": "2021-12-25T23:08:12.706Z"
   },
   {
    "duration": 7,
    "start_time": "2021-12-25T23:08:12.901Z"
   },
   {
    "duration": 22,
    "start_time": "2021-12-25T23:08:13.510Z"
   },
   {
    "duration": 5,
    "start_time": "2021-12-25T23:08:13.727Z"
   },
   {
    "duration": 20,
    "start_time": "2021-12-25T23:08:13.973Z"
   },
   {
    "duration": 496,
    "start_time": "2021-12-25T23:08:14.245Z"
   },
   {
    "duration": 411,
    "start_time": "2021-12-25T23:08:15.427Z"
   },
   {
    "duration": 374,
    "start_time": "2021-12-25T23:08:17.921Z"
   },
   {
    "duration": 13,
    "start_time": "2021-12-25T23:08:21.349Z"
   },
   {
    "duration": 13,
    "start_time": "2021-12-25T23:09:05.554Z"
   },
   {
    "duration": 21,
    "start_time": "2021-12-25T23:09:27.660Z"
   },
   {
    "duration": 1117,
    "start_time": "2021-12-25T23:09:38.704Z"
   },
   {
    "duration": 37,
    "start_time": "2021-12-25T23:09:39.823Z"
   },
   {
    "duration": 52,
    "start_time": "2021-12-25T23:09:39.863Z"
   },
   {
    "duration": 3,
    "start_time": "2021-12-25T23:09:39.917Z"
   },
   {
    "duration": 10,
    "start_time": "2021-12-25T23:09:39.922Z"
   },
   {
    "duration": 3,
    "start_time": "2021-12-25T23:09:39.934Z"
   },
   {
    "duration": 30,
    "start_time": "2021-12-25T23:09:39.939Z"
   },
   {
    "duration": 18,
    "start_time": "2021-12-25T23:09:39.970Z"
   },
   {
    "duration": 10,
    "start_time": "2021-12-25T23:09:39.992Z"
   },
   {
    "duration": 17,
    "start_time": "2021-12-25T23:09:40.004Z"
   },
   {
    "duration": 7,
    "start_time": "2021-12-25T23:09:40.023Z"
   },
   {
    "duration": 40,
    "start_time": "2021-12-25T23:09:40.031Z"
   },
   {
    "duration": 18,
    "start_time": "2021-12-25T23:09:40.074Z"
   },
   {
    "duration": 19,
    "start_time": "2021-12-25T23:09:40.093Z"
   },
   {
    "duration": 27,
    "start_time": "2021-12-25T23:09:40.114Z"
   },
   {
    "duration": 28,
    "start_time": "2021-12-25T23:09:40.143Z"
   },
   {
    "duration": 22,
    "start_time": "2021-12-25T23:09:40.173Z"
   },
   {
    "duration": 5,
    "start_time": "2021-12-25T23:09:40.196Z"
   },
   {
    "duration": 18,
    "start_time": "2021-12-25T23:09:40.203Z"
   },
   {
    "duration": 530,
    "start_time": "2021-12-25T23:09:40.223Z"
   },
   {
    "duration": 441,
    "start_time": "2021-12-25T23:09:40.754Z"
   },
   {
    "duration": 392,
    "start_time": "2021-12-25T23:09:41.197Z"
   },
   {
    "duration": 12,
    "start_time": "2021-12-25T23:09:41.591Z"
   },
   {
    "duration": 307,
    "start_time": "2021-12-25T23:09:41.605Z"
   },
   {
    "duration": 25,
    "start_time": "2021-12-25T23:10:37.993Z"
   },
   {
    "duration": 28,
    "start_time": "2021-12-25T23:10:50.551Z"
   },
   {
    "duration": 16,
    "start_time": "2021-12-25T23:10:59.002Z"
   },
   {
    "duration": 360,
    "start_time": "2021-12-25T23:11:05.770Z"
   },
   {
    "duration": 461,
    "start_time": "2021-12-25T23:14:32.993Z"
   },
   {
    "duration": 357,
    "start_time": "2021-12-25T23:15:51.159Z"
   },
   {
    "duration": 227,
    "start_time": "2021-12-25T23:17:20.346Z"
   },
   {
    "duration": 201,
    "start_time": "2021-12-25T23:17:28.133Z"
   },
   {
    "duration": 876,
    "start_time": "2021-12-25T23:19:47.911Z"
   },
   {
    "duration": 1114,
    "start_time": "2021-12-25T23:22:03.613Z"
   },
   {
    "duration": 43,
    "start_time": "2021-12-25T23:22:04.729Z"
   },
   {
    "duration": 57,
    "start_time": "2021-12-25T23:22:04.775Z"
   },
   {
    "duration": 5,
    "start_time": "2021-12-25T23:22:04.865Z"
   },
   {
    "duration": 5,
    "start_time": "2021-12-25T23:22:38.109Z"
   },
   {
    "duration": 5,
    "start_time": "2021-12-25T23:22:39.785Z"
   },
   {
    "duration": 13,
    "start_time": "2021-12-25T23:22:40.435Z"
   },
   {
    "duration": 10,
    "start_time": "2021-12-25T23:22:43.697Z"
   },
   {
    "duration": 10,
    "start_time": "2021-12-25T23:22:46.343Z"
   },
   {
    "duration": 13,
    "start_time": "2021-12-25T23:22:48.592Z"
   },
   {
    "duration": 6,
    "start_time": "2021-12-25T23:22:48.877Z"
   },
   {
    "duration": 7,
    "start_time": "2021-12-25T23:22:49.100Z"
   },
   {
    "duration": 17,
    "start_time": "2021-12-25T23:22:51.144Z"
   },
   {
    "duration": 18,
    "start_time": "2021-12-25T23:22:52.246Z"
   },
   {
    "duration": 24,
    "start_time": "2021-12-25T23:22:52.929Z"
   },
   {
    "duration": 7,
    "start_time": "2021-12-25T23:22:53.627Z"
   },
   {
    "duration": 22,
    "start_time": "2021-12-25T23:22:56.031Z"
   },
   {
    "duration": 4,
    "start_time": "2021-12-25T23:22:56.197Z"
   },
   {
    "duration": 22,
    "start_time": "2021-12-25T23:22:56.359Z"
   },
   {
    "duration": 502,
    "start_time": "2021-12-25T23:22:56.583Z"
   },
   {
    "duration": 437,
    "start_time": "2021-12-25T23:23:01.865Z"
   },
   {
    "duration": 360,
    "start_time": "2021-12-25T23:23:07.897Z"
   },
   {
    "duration": 22,
    "start_time": "2021-12-25T23:23:12.759Z"
   },
   {
    "duration": 358,
    "start_time": "2021-12-25T23:23:15.343Z"
   },
   {
    "duration": 319,
    "start_time": "2021-12-25T23:23:32.218Z"
   },
   {
    "duration": 428,
    "start_time": "2021-12-25T23:23:39.926Z"
   },
   {
    "duration": 471,
    "start_time": "2021-12-25T23:25:03.774Z"
   },
   {
    "duration": 394,
    "start_time": "2021-12-25T23:25:58.169Z"
   },
   {
    "duration": 388,
    "start_time": "2021-12-25T23:27:35.961Z"
   },
   {
    "duration": 450,
    "start_time": "2021-12-25T23:28:33.970Z"
   },
   {
    "duration": 435,
    "start_time": "2021-12-25T23:29:34.955Z"
   },
   {
    "duration": 235,
    "start_time": "2021-12-26T12:13:09.133Z"
   },
   {
    "duration": 1134,
    "start_time": "2021-12-26T12:13:20.914Z"
   },
   {
    "duration": 39,
    "start_time": "2021-12-26T12:13:22.050Z"
   },
   {
    "duration": 48,
    "start_time": "2021-12-26T12:13:22.091Z"
   },
   {
    "duration": 20,
    "start_time": "2021-12-26T12:13:22.141Z"
   },
   {
    "duration": 6,
    "start_time": "2021-12-26T12:13:22.163Z"
   },
   {
    "duration": 5,
    "start_time": "2021-12-26T12:13:22.171Z"
   },
   {
    "duration": 15,
    "start_time": "2021-12-26T12:13:22.177Z"
   },
   {
    "duration": 11,
    "start_time": "2021-12-26T12:13:22.193Z"
   },
   {
    "duration": 11,
    "start_time": "2021-12-26T12:13:22.207Z"
   },
   {
    "duration": 46,
    "start_time": "2021-12-26T12:13:22.221Z"
   },
   {
    "duration": 6,
    "start_time": "2021-12-26T12:13:22.268Z"
   },
   {
    "duration": 8,
    "start_time": "2021-12-26T12:13:22.276Z"
   },
   {
    "duration": 15,
    "start_time": "2021-12-26T12:13:22.286Z"
   },
   {
    "duration": 15,
    "start_time": "2021-12-26T12:13:22.303Z"
   },
   {
    "duration": 47,
    "start_time": "2021-12-26T12:13:22.320Z"
   },
   {
    "duration": 6,
    "start_time": "2021-12-26T12:13:22.369Z"
   },
   {
    "duration": 26,
    "start_time": "2021-12-26T12:13:22.376Z"
   },
   {
    "duration": 4,
    "start_time": "2021-12-26T12:13:22.404Z"
   },
   {
    "duration": 25,
    "start_time": "2021-12-26T12:13:22.409Z"
   },
   {
    "duration": 468,
    "start_time": "2021-12-26T12:13:22.436Z"
   },
   {
    "duration": 398,
    "start_time": "2021-12-26T12:13:22.905Z"
   },
   {
    "duration": 367,
    "start_time": "2021-12-26T12:13:23.305Z"
   },
   {
    "duration": 15,
    "start_time": "2021-12-26T12:13:23.674Z"
   },
   {
    "duration": 409,
    "start_time": "2021-12-26T12:13:23.691Z"
   },
   {
    "duration": 7,
    "start_time": "2021-12-26T12:13:24.101Z"
   },
   {
    "duration": 20,
    "start_time": "2021-12-26T12:13:30.907Z"
   },
   {
    "duration": 7,
    "start_time": "2021-12-26T12:13:39.095Z"
   },
   {
    "duration": 20,
    "start_time": "2021-12-26T12:13:40.431Z"
   },
   {
    "duration": 7,
    "start_time": "2021-12-26T12:19:37.949Z"
   },
   {
    "duration": 20,
    "start_time": "2021-12-26T12:19:38.319Z"
   },
   {
    "duration": 6,
    "start_time": "2021-12-26T12:19:59.154Z"
   },
   {
    "duration": 21,
    "start_time": "2021-12-26T12:20:00.023Z"
   },
   {
    "duration": 6,
    "start_time": "2021-12-26T12:20:39.726Z"
   },
   {
    "duration": 6,
    "start_time": "2021-12-26T12:21:02.991Z"
   },
   {
    "duration": 296,
    "start_time": "2021-12-26T12:28:55.560Z"
   },
   {
    "duration": 459,
    "start_time": "2021-12-26T12:30:00.320Z"
   },
   {
    "duration": 27,
    "start_time": "2021-12-26T12:31:47.702Z"
   },
   {
    "duration": 489,
    "start_time": "2021-12-26T12:34:01.539Z"
   },
   {
    "duration": 393,
    "start_time": "2021-12-26T12:34:13.636Z"
   },
   {
    "duration": 347,
    "start_time": "2021-12-26T12:35:54.157Z"
   },
   {
    "duration": 377,
    "start_time": "2021-12-26T12:36:10.317Z"
   },
   {
    "duration": 424,
    "start_time": "2021-12-26T12:36:23.892Z"
   },
   {
    "duration": 1115,
    "start_time": "2021-12-26T12:37:09.124Z"
   },
   {
    "duration": 39,
    "start_time": "2021-12-26T12:37:10.240Z"
   },
   {
    "duration": 48,
    "start_time": "2021-12-26T12:37:10.281Z"
   },
   {
    "duration": 2,
    "start_time": "2021-12-26T12:37:10.331Z"
   },
   {
    "duration": 14,
    "start_time": "2021-12-26T12:37:10.335Z"
   },
   {
    "duration": 5,
    "start_time": "2021-12-26T12:37:10.360Z"
   },
   {
    "duration": 25,
    "start_time": "2021-12-26T12:37:10.367Z"
   },
   {
    "duration": 27,
    "start_time": "2021-12-26T12:37:10.393Z"
   },
   {
    "duration": 11,
    "start_time": "2021-12-26T12:37:10.423Z"
   },
   {
    "duration": 13,
    "start_time": "2021-12-26T12:37:10.436Z"
   },
   {
    "duration": 5,
    "start_time": "2021-12-26T12:37:10.450Z"
   },
   {
    "duration": 7,
    "start_time": "2021-12-26T12:37:10.460Z"
   },
   {
    "duration": 16,
    "start_time": "2021-12-26T12:37:10.469Z"
   },
   {
    "duration": 18,
    "start_time": "2021-12-26T12:37:10.486Z"
   },
   {
    "duration": 28,
    "start_time": "2021-12-26T12:37:10.505Z"
   },
   {
    "duration": 6,
    "start_time": "2021-12-26T12:37:10.534Z"
   },
   {
    "duration": 21,
    "start_time": "2021-12-26T12:37:10.560Z"
   },
   {
    "duration": 5,
    "start_time": "2021-12-26T12:37:10.583Z"
   },
   {
    "duration": 20,
    "start_time": "2021-12-26T12:37:10.589Z"
   },
   {
    "duration": 476,
    "start_time": "2021-12-26T12:37:10.611Z"
   },
   {
    "duration": 420,
    "start_time": "2021-12-26T12:37:11.089Z"
   },
   {
    "duration": 386,
    "start_time": "2021-12-26T12:37:11.511Z"
   },
   {
    "duration": 18,
    "start_time": "2021-12-26T12:37:11.899Z"
   },
   {
    "duration": 437,
    "start_time": "2021-12-26T12:37:11.918Z"
   },
   {
    "duration": 7,
    "start_time": "2021-12-26T12:37:12.360Z"
   },
   {
    "duration": 20,
    "start_time": "2021-12-26T12:37:12.369Z"
   },
   {
    "duration": 6,
    "start_time": "2021-12-26T12:37:12.392Z"
   },
   {
    "duration": 453,
    "start_time": "2021-12-26T12:37:12.399Z"
   },
   {
    "duration": 36,
    "start_time": "2021-12-26T12:37:12.854Z"
   },
   {
    "duration": 512,
    "start_time": "2021-12-26T12:37:12.892Z"
   },
   {
    "duration": 3,
    "start_time": "2021-12-26T12:37:13.405Z"
   },
   {
    "duration": 28,
    "start_time": "2021-12-26T13:10:44.006Z"
   },
   {
    "duration": 6,
    "start_time": "2021-12-26T13:10:49.373Z"
   },
   {
    "duration": 16,
    "start_time": "2021-12-26T13:11:56.920Z"
   },
   {
    "duration": 351,
    "start_time": "2021-12-26T13:14:46.778Z"
   },
   {
    "duration": 399,
    "start_time": "2021-12-26T13:15:29.015Z"
   },
   {
    "duration": 367,
    "start_time": "2021-12-26T13:15:33.496Z"
   },
   {
    "duration": 649,
    "start_time": "2021-12-26T13:16:04.885Z"
   },
   {
    "duration": 374,
    "start_time": "2021-12-26T13:16:33.545Z"
   },
   {
    "duration": 345,
    "start_time": "2021-12-26T13:16:35.857Z"
   },
   {
    "duration": 9,
    "start_time": "2021-12-26T13:16:55.013Z"
   },
   {
    "duration": 5,
    "start_time": "2021-12-26T13:17:43.466Z"
   },
   {
    "duration": 4,
    "start_time": "2021-12-26T13:18:39.499Z"
   },
   {
    "duration": 4,
    "start_time": "2021-12-26T13:18:54.818Z"
   },
   {
    "duration": 358,
    "start_time": "2021-12-26T13:18:57.403Z"
   },
   {
    "duration": 4,
    "start_time": "2021-12-26T13:24:38.526Z"
   },
   {
    "duration": 6,
    "start_time": "2021-12-26T13:25:02.885Z"
   },
   {
    "duration": 4,
    "start_time": "2021-12-26T13:25:09.265Z"
   },
   {
    "duration": 4,
    "start_time": "2021-12-26T13:25:39.178Z"
   },
   {
    "duration": 3,
    "start_time": "2021-12-26T13:26:52.014Z"
   },
   {
    "duration": 11,
    "start_time": "2021-12-26T13:27:33.356Z"
   },
   {
    "duration": 15,
    "start_time": "2021-12-26T13:27:45.206Z"
   },
   {
    "duration": 12,
    "start_time": "2021-12-26T13:28:00.539Z"
   },
   {
    "duration": 1126,
    "start_time": "2021-12-26T13:28:08.585Z"
   },
   {
    "duration": 40,
    "start_time": "2021-12-26T13:28:09.713Z"
   },
   {
    "duration": 52,
    "start_time": "2021-12-26T13:28:09.756Z"
   },
   {
    "duration": 4,
    "start_time": "2021-12-26T13:28:09.810Z"
   },
   {
    "duration": 6,
    "start_time": "2021-12-26T13:28:09.816Z"
   },
   {
    "duration": 6,
    "start_time": "2021-12-26T13:28:09.824Z"
   },
   {
    "duration": 12,
    "start_time": "2021-12-26T13:28:09.860Z"
   },
   {
    "duration": 16,
    "start_time": "2021-12-26T13:28:09.874Z"
   },
   {
    "duration": 11,
    "start_time": "2021-12-26T13:28:09.894Z"
   },
   {
    "duration": 12,
    "start_time": "2021-12-26T13:28:09.907Z"
   },
   {
    "duration": 6,
    "start_time": "2021-12-26T13:28:09.921Z"
   },
   {
    "duration": 37,
    "start_time": "2021-12-26T13:28:09.928Z"
   },
   {
    "duration": 16,
    "start_time": "2021-12-26T13:28:09.967Z"
   },
   {
    "duration": 18,
    "start_time": "2021-12-26T13:28:09.984Z"
   },
   {
    "duration": 32,
    "start_time": "2021-12-26T13:28:10.004Z"
   },
   {
    "duration": 6,
    "start_time": "2021-12-26T13:28:10.038Z"
   },
   {
    "duration": 29,
    "start_time": "2021-12-26T13:28:10.061Z"
   },
   {
    "duration": 14,
    "start_time": "2021-12-26T13:28:10.092Z"
   },
   {
    "duration": 22,
    "start_time": "2021-12-26T13:28:10.108Z"
   },
   {
    "duration": 476,
    "start_time": "2021-12-26T13:28:10.132Z"
   },
   {
    "duration": 399,
    "start_time": "2021-12-26T13:28:10.610Z"
   },
   {
    "duration": 368,
    "start_time": "2021-12-26T13:28:11.011Z"
   },
   {
    "duration": 16,
    "start_time": "2021-12-26T13:28:11.381Z"
   },
   {
    "duration": 417,
    "start_time": "2021-12-26T13:28:11.399Z"
   },
   {
    "duration": 8,
    "start_time": "2021-12-26T13:28:11.818Z"
   },
   {
    "duration": 34,
    "start_time": "2021-12-26T13:28:11.828Z"
   },
   {
    "duration": 7,
    "start_time": "2021-12-26T13:28:11.865Z"
   },
   {
    "duration": 445,
    "start_time": "2021-12-26T13:28:11.874Z"
   },
   {
    "duration": 45,
    "start_time": "2021-12-26T13:28:12.321Z"
   },
   {
    "duration": 512,
    "start_time": "2021-12-26T13:28:12.368Z"
   },
   {
    "duration": 17,
    "start_time": "2021-12-26T13:28:12.881Z"
   },
   {
    "duration": 366,
    "start_time": "2021-12-26T13:28:12.900Z"
   },
   {
    "duration": 4,
    "start_time": "2021-12-26T13:28:13.268Z"
   },
   {
    "duration": 9,
    "start_time": "2021-12-26T13:28:46.132Z"
   },
   {
    "duration": 516,
    "start_time": "2021-12-26T13:29:01.218Z"
   },
   {
    "duration": 349,
    "start_time": "2021-12-26T13:29:07.090Z"
   },
   {
    "duration": 351,
    "start_time": "2021-12-26T13:29:09.293Z"
   },
   {
    "duration": 352,
    "start_time": "2021-12-26T13:32:34.612Z"
   },
   {
    "duration": 265,
    "start_time": "2021-12-26T13:32:39.402Z"
   },
   {
    "duration": 295,
    "start_time": "2021-12-26T13:32:54.623Z"
   },
   {
    "duration": 279,
    "start_time": "2021-12-26T13:33:12.627Z"
   },
   {
    "duration": 7,
    "start_time": "2021-12-26T13:34:59.381Z"
   },
   {
    "duration": 26,
    "start_time": "2021-12-26T13:35:00.610Z"
   },
   {
    "duration": 7,
    "start_time": "2021-12-26T13:35:02.165Z"
   },
   {
    "duration": 6,
    "start_time": "2021-12-26T13:35:07.240Z"
   },
   {
    "duration": 21,
    "start_time": "2021-12-26T13:35:08.326Z"
   },
   {
    "duration": 7,
    "start_time": "2021-12-26T13:35:08.765Z"
   },
   {
    "duration": 7,
    "start_time": "2021-12-26T13:35:16.354Z"
   },
   {
    "duration": 20,
    "start_time": "2021-12-26T13:35:16.745Z"
   },
   {
    "duration": 8,
    "start_time": "2021-12-26T13:35:18.040Z"
   },
   {
    "duration": 515,
    "start_time": "2021-12-26T13:35:22.433Z"
   },
   {
    "duration": 34,
    "start_time": "2021-12-26T13:35:27.550Z"
   },
   {
    "duration": 445,
    "start_time": "2021-12-26T13:35:34.875Z"
   },
   {
    "duration": 16,
    "start_time": "2021-12-26T13:35:37.699Z"
   },
   {
    "duration": 341,
    "start_time": "2021-12-26T13:35:39.048Z"
   },
   {
    "duration": 266,
    "start_time": "2021-12-26T13:35:39.608Z"
   },
   {
    "duration": 421,
    "start_time": "2021-12-26T13:37:19.897Z"
   },
   {
    "duration": 16,
    "start_time": "2021-12-26T13:37:23.300Z"
   },
   {
    "duration": 322,
    "start_time": "2021-12-26T13:37:24.657Z"
   },
   {
    "duration": 303,
    "start_time": "2021-12-26T13:37:26.069Z"
   },
   {
    "duration": 196667,
    "start_time": "2021-12-26T13:39:48.366Z"
   },
   {
    "duration": 318,
    "start_time": "2021-12-26T13:43:06.628Z"
   },
   {
    "duration": 1130,
    "start_time": "2021-12-26T13:43:19.793Z"
   },
   {
    "duration": 40,
    "start_time": "2021-12-26T13:43:20.925Z"
   },
   {
    "duration": 49,
    "start_time": "2021-12-26T13:43:20.967Z"
   },
   {
    "duration": 3,
    "start_time": "2021-12-26T13:43:21.018Z"
   },
   {
    "duration": 7,
    "start_time": "2021-12-26T13:43:21.023Z"
   },
   {
    "duration": 7,
    "start_time": "2021-12-26T13:43:21.032Z"
   },
   {
    "duration": 13,
    "start_time": "2021-12-26T13:43:21.060Z"
   },
   {
    "duration": 11,
    "start_time": "2021-12-26T13:43:21.076Z"
   },
   {
    "duration": 10,
    "start_time": "2021-12-26T13:43:21.089Z"
   },
   {
    "duration": 12,
    "start_time": "2021-12-26T13:43:21.101Z"
   },
   {
    "duration": 9,
    "start_time": "2021-12-26T13:43:21.114Z"
   },
   {
    "duration": 38,
    "start_time": "2021-12-26T13:43:21.124Z"
   },
   {
    "duration": 16,
    "start_time": "2021-12-26T13:43:21.164Z"
   },
   {
    "duration": 17,
    "start_time": "2021-12-26T13:43:21.181Z"
   },
   {
    "duration": 21,
    "start_time": "2021-12-26T13:43:21.201Z"
   },
   {
    "duration": 5,
    "start_time": "2021-12-26T13:43:21.224Z"
   },
   {
    "duration": 42,
    "start_time": "2021-12-26T13:43:21.231Z"
   },
   {
    "duration": 5,
    "start_time": "2021-12-26T13:43:21.275Z"
   },
   {
    "duration": 15,
    "start_time": "2021-12-26T13:43:21.282Z"
   },
   {
    "duration": 485,
    "start_time": "2021-12-26T13:43:21.299Z"
   },
   {
    "duration": 409,
    "start_time": "2021-12-26T13:43:21.786Z"
   },
   {
    "duration": 366,
    "start_time": "2021-12-26T13:43:22.197Z"
   },
   {
    "duration": 17,
    "start_time": "2021-12-26T13:43:22.566Z"
   },
   {
    "duration": 412,
    "start_time": "2021-12-26T13:43:22.585Z"
   },
   {
    "duration": 8,
    "start_time": "2021-12-26T13:43:22.998Z"
   },
   {
    "duration": 21,
    "start_time": "2021-12-26T13:43:23.008Z"
   },
   {
    "duration": 6,
    "start_time": "2021-12-26T13:43:23.031Z"
   },
   {
    "duration": 467,
    "start_time": "2021-12-26T13:43:23.039Z"
   },
   {
    "duration": 37,
    "start_time": "2021-12-26T13:43:23.508Z"
   },
   {
    "duration": 528,
    "start_time": "2021-12-26T13:43:23.560Z"
   },
   {
    "duration": 19,
    "start_time": "2021-12-26T13:43:24.090Z"
   },
   {
    "duration": 280,
    "start_time": "2021-12-26T13:43:24.111Z"
   },
   {
    "duration": 281,
    "start_time": "2021-12-26T13:43:24.392Z"
   },
   {
    "duration": 1164,
    "start_time": "2021-12-26T13:45:10.383Z"
   },
   {
    "duration": 40,
    "start_time": "2021-12-26T13:45:11.549Z"
   },
   {
    "duration": 71,
    "start_time": "2021-12-26T13:45:11.591Z"
   },
   {
    "duration": 3,
    "start_time": "2021-12-26T13:45:11.664Z"
   },
   {
    "duration": 12,
    "start_time": "2021-12-26T13:45:11.669Z"
   },
   {
    "duration": 8,
    "start_time": "2021-12-26T13:45:11.682Z"
   },
   {
    "duration": 17,
    "start_time": "2021-12-26T13:45:11.691Z"
   },
   {
    "duration": 16,
    "start_time": "2021-12-26T13:45:11.709Z"
   },
   {
    "duration": 15,
    "start_time": "2021-12-26T13:45:11.728Z"
   },
   {
    "duration": 27,
    "start_time": "2021-12-26T13:45:11.746Z"
   },
   {
    "duration": 14,
    "start_time": "2021-12-26T13:45:11.775Z"
   },
   {
    "duration": 21,
    "start_time": "2021-12-26T13:45:11.791Z"
   },
   {
    "duration": 25,
    "start_time": "2021-12-26T13:45:11.814Z"
   },
   {
    "duration": 24,
    "start_time": "2021-12-26T13:45:11.841Z"
   },
   {
    "duration": 35,
    "start_time": "2021-12-26T13:45:11.867Z"
   },
   {
    "duration": 8,
    "start_time": "2021-12-26T13:45:11.904Z"
   },
   {
    "duration": 35,
    "start_time": "2021-12-26T13:45:11.913Z"
   },
   {
    "duration": 4,
    "start_time": "2021-12-26T13:45:11.950Z"
   },
   {
    "duration": 21,
    "start_time": "2021-12-26T13:45:11.956Z"
   },
   {
    "duration": 477,
    "start_time": "2021-12-26T13:45:11.979Z"
   },
   {
    "duration": 394,
    "start_time": "2021-12-26T13:45:12.460Z"
   },
   {
    "duration": 478,
    "start_time": "2021-12-26T13:45:12.855Z"
   },
   {
    "duration": 18,
    "start_time": "2021-12-26T13:45:13.334Z"
   },
   {
    "duration": 461,
    "start_time": "2021-12-26T13:45:13.361Z"
   },
   {
    "duration": 10,
    "start_time": "2021-12-26T13:45:13.824Z"
   },
   {
    "duration": 42,
    "start_time": "2021-12-26T13:45:13.837Z"
   },
   {
    "duration": 27,
    "start_time": "2021-12-26T13:45:13.882Z"
   },
   {
    "duration": 438,
    "start_time": "2021-12-26T13:45:13.910Z"
   },
   {
    "duration": 42,
    "start_time": "2021-12-26T13:45:14.349Z"
   },
   {
    "duration": 490,
    "start_time": "2021-12-26T13:45:14.393Z"
   },
   {
    "duration": 17,
    "start_time": "2021-12-26T13:45:14.885Z"
   },
   {
    "duration": 312,
    "start_time": "2021-12-26T13:45:14.904Z"
   },
   {
    "duration": 290,
    "start_time": "2021-12-26T13:45:15.218Z"
   },
   {
    "duration": 338,
    "start_time": "2021-12-26T13:49:08.749Z"
   },
   {
    "duration": 68,
    "start_time": "2021-12-26T13:50:39.302Z"
   },
   {
    "duration": 73,
    "start_time": "2021-12-26T13:52:55.989Z"
   },
   {
    "duration": 219,
    "start_time": "2021-12-26T13:53:03.423Z"
   },
   {
    "duration": 278,
    "start_time": "2021-12-26T13:55:25.070Z"
   },
   {
    "duration": 405,
    "start_time": "2021-12-26T13:56:04.836Z"
   },
   {
    "duration": 231,
    "start_time": "2021-12-26T13:58:24.245Z"
   },
   {
    "duration": 264,
    "start_time": "2021-12-26T13:59:08.341Z"
   },
   {
    "duration": 1186,
    "start_time": "2021-12-26T13:59:48.953Z"
   },
   {
    "duration": 38,
    "start_time": "2021-12-26T13:59:50.140Z"
   },
   {
    "duration": 47,
    "start_time": "2021-12-26T13:59:50.182Z"
   },
   {
    "duration": 3,
    "start_time": "2021-12-26T13:59:50.230Z"
   },
   {
    "duration": 27,
    "start_time": "2021-12-26T13:59:50.235Z"
   },
   {
    "duration": 4,
    "start_time": "2021-12-26T13:59:50.264Z"
   },
   {
    "duration": 16,
    "start_time": "2021-12-26T13:59:50.270Z"
   },
   {
    "duration": 13,
    "start_time": "2021-12-26T13:59:50.288Z"
   },
   {
    "duration": 16,
    "start_time": "2021-12-26T13:59:50.303Z"
   },
   {
    "duration": 21,
    "start_time": "2021-12-26T13:59:50.321Z"
   },
   {
    "duration": 20,
    "start_time": "2021-12-26T13:59:50.344Z"
   },
   {
    "duration": 9,
    "start_time": "2021-12-26T13:59:50.365Z"
   },
   {
    "duration": 18,
    "start_time": "2021-12-26T13:59:50.376Z"
   },
   {
    "duration": 18,
    "start_time": "2021-12-26T13:59:50.395Z"
   },
   {
    "duration": 29,
    "start_time": "2021-12-26T13:59:50.415Z"
   },
   {
    "duration": 7,
    "start_time": "2021-12-26T13:59:50.461Z"
   },
   {
    "duration": 26,
    "start_time": "2021-12-26T13:59:50.470Z"
   },
   {
    "duration": 4,
    "start_time": "2021-12-26T13:59:50.498Z"
   },
   {
    "duration": 23,
    "start_time": "2021-12-26T13:59:50.504Z"
   },
   {
    "duration": 467,
    "start_time": "2021-12-26T13:59:50.529Z"
   },
   {
    "duration": 402,
    "start_time": "2021-12-26T13:59:50.998Z"
   },
   {
    "duration": 389,
    "start_time": "2021-12-26T13:59:51.403Z"
   },
   {
    "duration": 17,
    "start_time": "2021-12-26T13:59:51.794Z"
   },
   {
    "duration": 457,
    "start_time": "2021-12-26T13:59:51.813Z"
   },
   {
    "duration": 7,
    "start_time": "2021-12-26T13:59:52.271Z"
   },
   {
    "duration": 27,
    "start_time": "2021-12-26T13:59:52.281Z"
   },
   {
    "duration": 10,
    "start_time": "2021-12-26T13:59:52.310Z"
   },
   {
    "duration": 452,
    "start_time": "2021-12-26T13:59:52.322Z"
   },
   {
    "duration": 39,
    "start_time": "2021-12-26T13:59:52.775Z"
   },
   {
    "duration": 522,
    "start_time": "2021-12-26T13:59:52.816Z"
   },
   {
    "duration": 24,
    "start_time": "2021-12-26T13:59:53.340Z"
   },
   {
    "duration": 301,
    "start_time": "2021-12-26T13:59:53.366Z"
   },
   {
    "duration": 295,
    "start_time": "2021-12-26T13:59:53.670Z"
   },
   {
    "duration": 1139,
    "start_time": "2021-12-26T14:01:51.585Z"
   },
   {
    "duration": 41,
    "start_time": "2021-12-26T14:01:52.726Z"
   },
   {
    "duration": 51,
    "start_time": "2021-12-26T14:01:52.769Z"
   },
   {
    "duration": 4,
    "start_time": "2021-12-26T14:01:52.823Z"
   },
   {
    "duration": 7,
    "start_time": "2021-12-26T14:01:52.828Z"
   },
   {
    "duration": 27,
    "start_time": "2021-12-26T14:01:52.836Z"
   },
   {
    "duration": 19,
    "start_time": "2021-12-26T14:01:52.865Z"
   },
   {
    "duration": 10,
    "start_time": "2021-12-26T14:01:52.887Z"
   },
   {
    "duration": 10,
    "start_time": "2021-12-26T14:01:52.899Z"
   },
   {
    "duration": 12,
    "start_time": "2021-12-26T14:01:52.911Z"
   },
   {
    "duration": 6,
    "start_time": "2021-12-26T14:01:52.925Z"
   },
   {
    "duration": 33,
    "start_time": "2021-12-26T14:01:52.933Z"
   },
   {
    "duration": 16,
    "start_time": "2021-12-26T14:01:52.968Z"
   },
   {
    "duration": 19,
    "start_time": "2021-12-26T14:01:52.986Z"
   },
   {
    "duration": 25,
    "start_time": "2021-12-26T14:01:53.007Z"
   },
   {
    "duration": 30,
    "start_time": "2021-12-26T14:01:53.034Z"
   },
   {
    "duration": 25,
    "start_time": "2021-12-26T14:01:53.066Z"
   },
   {
    "duration": 4,
    "start_time": "2021-12-26T14:01:53.093Z"
   },
   {
    "duration": 16,
    "start_time": "2021-12-26T14:01:53.099Z"
   },
   {
    "duration": 460,
    "start_time": "2021-12-26T14:01:53.116Z"
   },
   {
    "duration": 420,
    "start_time": "2021-12-26T14:01:53.578Z"
   },
   {
    "duration": 388,
    "start_time": "2021-12-26T14:01:53.999Z"
   },
   {
    "duration": 17,
    "start_time": "2021-12-26T14:01:54.390Z"
   },
   {
    "duration": 422,
    "start_time": "2021-12-26T14:01:54.409Z"
   },
   {
    "duration": 7,
    "start_time": "2021-12-26T14:01:54.832Z"
   },
   {
    "duration": 28,
    "start_time": "2021-12-26T14:01:54.841Z"
   },
   {
    "duration": 7,
    "start_time": "2021-12-26T14:01:54.870Z"
   },
   {
    "duration": 444,
    "start_time": "2021-12-26T14:01:54.878Z"
   },
   {
    "duration": 42,
    "start_time": "2021-12-26T14:01:55.324Z"
   },
   {
    "duration": 9,
    "start_time": "2021-12-26T14:01:55.367Z"
   },
   {
    "duration": 15,
    "start_time": "2021-12-26T14:01:55.378Z"
   },
   {
    "duration": 387,
    "start_time": "2021-12-26T14:01:55.395Z"
   },
   {
    "duration": 286,
    "start_time": "2021-12-26T14:01:55.784Z"
   },
   {
    "duration": 1174,
    "start_time": "2021-12-26T14:03:09.356Z"
   },
   {
    "duration": 40,
    "start_time": "2021-12-26T14:03:10.532Z"
   },
   {
    "duration": 48,
    "start_time": "2021-12-26T14:03:10.574Z"
   },
   {
    "duration": 4,
    "start_time": "2021-12-26T14:03:10.624Z"
   },
   {
    "duration": 5,
    "start_time": "2021-12-26T14:03:10.630Z"
   },
   {
    "duration": 26,
    "start_time": "2021-12-26T14:03:10.637Z"
   },
   {
    "duration": 14,
    "start_time": "2021-12-26T14:03:10.664Z"
   },
   {
    "duration": 12,
    "start_time": "2021-12-26T14:03:10.681Z"
   },
   {
    "duration": 12,
    "start_time": "2021-12-26T14:03:10.695Z"
   },
   {
    "duration": 12,
    "start_time": "2021-12-26T14:03:10.709Z"
   },
   {
    "duration": 42,
    "start_time": "2021-12-26T14:03:10.722Z"
   },
   {
    "duration": 9,
    "start_time": "2021-12-26T14:03:10.766Z"
   },
   {
    "duration": 17,
    "start_time": "2021-12-26T14:03:10.777Z"
   },
   {
    "duration": 19,
    "start_time": "2021-12-26T14:03:10.795Z"
   },
   {
    "duration": 55,
    "start_time": "2021-12-26T14:03:10.816Z"
   },
   {
    "duration": 5,
    "start_time": "2021-12-26T14:03:10.873Z"
   },
   {
    "duration": 26,
    "start_time": "2021-12-26T14:03:10.880Z"
   },
   {
    "duration": 4,
    "start_time": "2021-12-26T14:03:10.907Z"
   },
   {
    "duration": 15,
    "start_time": "2021-12-26T14:03:10.913Z"
   },
   {
    "duration": 496,
    "start_time": "2021-12-26T14:03:10.930Z"
   },
   {
    "duration": 418,
    "start_time": "2021-12-26T14:03:11.428Z"
   },
   {
    "duration": 373,
    "start_time": "2021-12-26T14:03:11.848Z"
   },
   {
    "duration": 18,
    "start_time": "2021-12-26T14:03:12.225Z"
   },
   {
    "duration": 420,
    "start_time": "2021-12-26T14:03:12.245Z"
   },
   {
    "duration": 6,
    "start_time": "2021-12-26T14:03:12.667Z"
   },
   {
    "duration": 42,
    "start_time": "2021-12-26T14:03:12.675Z"
   },
   {
    "duration": 6,
    "start_time": "2021-12-26T14:03:12.719Z"
   },
   {
    "duration": 444,
    "start_time": "2021-12-26T14:03:12.727Z"
   },
   {
    "duration": 36,
    "start_time": "2021-12-26T14:03:13.173Z"
   },
   {
    "duration": 9,
    "start_time": "2021-12-26T14:03:13.211Z"
   },
   {
    "duration": 350,
    "start_time": "2021-12-26T14:03:13.222Z"
   },
   {
    "duration": 17,
    "start_time": "2021-12-26T14:03:13.575Z"
   },
   {
    "duration": 301,
    "start_time": "2021-12-26T14:03:13.594Z"
   },
   {
    "duration": 277,
    "start_time": "2021-12-26T14:03:13.897Z"
   },
   {
    "duration": 1128,
    "start_time": "2021-12-26T14:04:38.992Z"
   },
   {
    "duration": 38,
    "start_time": "2021-12-26T14:04:40.122Z"
   },
   {
    "duration": 47,
    "start_time": "2021-12-26T14:04:40.164Z"
   },
   {
    "duration": 3,
    "start_time": "2021-12-26T14:04:40.213Z"
   },
   {
    "duration": 7,
    "start_time": "2021-12-26T14:04:40.217Z"
   },
   {
    "duration": 4,
    "start_time": "2021-12-26T14:04:40.226Z"
   },
   {
    "duration": 36,
    "start_time": "2021-12-26T14:04:40.232Z"
   },
   {
    "duration": 9,
    "start_time": "2021-12-26T14:04:40.270Z"
   },
   {
    "duration": 10,
    "start_time": "2021-12-26T14:04:40.281Z"
   },
   {
    "duration": 15,
    "start_time": "2021-12-26T14:04:40.293Z"
   },
   {
    "duration": 9,
    "start_time": "2021-12-26T14:04:40.309Z"
   },
   {
    "duration": 12,
    "start_time": "2021-12-26T14:04:40.319Z"
   },
   {
    "duration": 17,
    "start_time": "2021-12-26T14:04:40.360Z"
   },
   {
    "duration": 17,
    "start_time": "2021-12-26T14:04:40.378Z"
   },
   {
    "duration": 23,
    "start_time": "2021-12-26T14:04:40.397Z"
   },
   {
    "duration": 7,
    "start_time": "2021-12-26T14:04:40.461Z"
   },
   {
    "duration": 21,
    "start_time": "2021-12-26T14:04:40.605Z"
   },
   {
    "duration": 5,
    "start_time": "2021-12-26T14:04:40.754Z"
   },
   {
    "duration": 15,
    "start_time": "2021-12-26T14:04:40.893Z"
   },
   {
    "duration": 456,
    "start_time": "2021-12-26T14:04:41.042Z"
   },
   {
    "duration": 397,
    "start_time": "2021-12-26T14:04:42.349Z"
   },
   {
    "duration": 361,
    "start_time": "2021-12-26T14:04:43.048Z"
   },
   {
    "duration": 17,
    "start_time": "2021-12-26T14:04:43.416Z"
   },
   {
    "duration": 410,
    "start_time": "2021-12-26T14:04:45.663Z"
   },
   {
    "duration": 7,
    "start_time": "2021-12-26T14:04:47.739Z"
   },
   {
    "duration": 21,
    "start_time": "2021-12-26T14:04:48.471Z"
   },
   {
    "duration": 8,
    "start_time": "2021-12-26T14:04:50.077Z"
   },
   {
    "duration": 424,
    "start_time": "2021-12-26T14:04:50.710Z"
   },
   {
    "duration": 42,
    "start_time": "2021-12-26T14:04:52.802Z"
   },
   {
    "duration": 9,
    "start_time": "2021-12-26T14:04:54.074Z"
   },
   {
    "duration": 328,
    "start_time": "2021-12-26T14:04:54.569Z"
   },
   {
    "duration": 17,
    "start_time": "2021-12-26T14:04:56.781Z"
   },
   {
    "duration": 305,
    "start_time": "2021-12-26T14:04:57.155Z"
   },
   {
    "duration": 268,
    "start_time": "2021-12-26T14:04:58.526Z"
   },
   {
    "duration": 3,
    "start_time": "2021-12-26T14:05:37.163Z"
   },
   {
    "duration": 22680,
    "start_time": "2021-12-26T14:05:39.817Z"
   },
   {
    "duration": 721,
    "start_time": "2021-12-26T14:06:14.575Z"
   },
   {
    "duration": 210,
    "start_time": "2021-12-26T14:06:37.635Z"
   },
   {
    "duration": 4,
    "start_time": "2021-12-26T14:06:43.199Z"
   },
   {
    "duration": 811,
    "start_time": "2021-12-26T14:06:48.853Z"
   },
   {
    "duration": 598,
    "start_time": "2021-12-26T14:08:05.245Z"
   },
   {
    "duration": 566,
    "start_time": "2021-12-26T14:08:23.679Z"
   },
   {
    "duration": 565,
    "start_time": "2021-12-26T14:09:46.695Z"
   },
   {
    "duration": 549,
    "start_time": "2021-12-26T14:10:26.093Z"
   },
   {
    "duration": 596,
    "start_time": "2021-12-26T14:10:48.483Z"
   },
   {
    "duration": 692,
    "start_time": "2021-12-26T14:11:19.795Z"
   },
   {
    "duration": 11,
    "start_time": "2021-12-26T14:18:09.325Z"
   },
   {
    "duration": 15,
    "start_time": "2021-12-26T14:18:13.576Z"
   },
   {
    "duration": 15,
    "start_time": "2021-12-26T14:18:47.142Z"
   },
   {
    "duration": 14,
    "start_time": "2021-12-26T14:19:04.657Z"
   },
   {
    "duration": 14,
    "start_time": "2021-12-26T14:41:29.797Z"
   },
   {
    "duration": 15,
    "start_time": "2021-12-26T14:42:02.537Z"
   },
   {
    "duration": 16,
    "start_time": "2021-12-26T14:42:15.618Z"
   },
   {
    "duration": 1166,
    "start_time": "2021-12-26T14:42:32.256Z"
   },
   {
    "duration": 40,
    "start_time": "2021-12-26T14:42:33.424Z"
   },
   {
    "duration": 52,
    "start_time": "2021-12-26T14:42:33.466Z"
   },
   {
    "duration": 3,
    "start_time": "2021-12-26T14:42:33.520Z"
   },
   {
    "duration": 8,
    "start_time": "2021-12-26T14:42:33.524Z"
   },
   {
    "duration": 27,
    "start_time": "2021-12-26T14:42:33.534Z"
   },
   {
    "duration": 16,
    "start_time": "2021-12-26T14:42:33.562Z"
   },
   {
    "duration": 12,
    "start_time": "2021-12-26T14:42:33.581Z"
   },
   {
    "duration": 11,
    "start_time": "2021-12-26T14:42:33.595Z"
   },
   {
    "duration": 14,
    "start_time": "2021-12-26T14:42:33.607Z"
   },
   {
    "duration": 4,
    "start_time": "2021-12-26T14:42:33.623Z"
   },
   {
    "duration": 33,
    "start_time": "2021-12-26T14:42:33.629Z"
   },
   {
    "duration": 17,
    "start_time": "2021-12-26T14:42:33.664Z"
   },
   {
    "duration": 17,
    "start_time": "2021-12-26T14:42:33.683Z"
   },
   {
    "duration": 25,
    "start_time": "2021-12-26T14:42:33.701Z"
   },
   {
    "duration": 6,
    "start_time": "2021-12-26T14:42:33.727Z"
   },
   {
    "duration": 44,
    "start_time": "2021-12-26T14:42:33.734Z"
   },
   {
    "duration": 4,
    "start_time": "2021-12-26T14:42:33.779Z"
   },
   {
    "duration": 19,
    "start_time": "2021-12-26T14:42:33.785Z"
   },
   {
    "duration": 494,
    "start_time": "2021-12-26T14:42:33.805Z"
   },
   {
    "duration": 427,
    "start_time": "2021-12-26T14:42:34.301Z"
   },
   {
    "duration": 401,
    "start_time": "2021-12-26T14:42:34.730Z"
   },
   {
    "duration": 27,
    "start_time": "2021-12-26T14:42:35.134Z"
   },
   {
    "duration": 420,
    "start_time": "2021-12-26T14:42:35.163Z"
   },
   {
    "duration": 7,
    "start_time": "2021-12-26T14:42:35.585Z"
   },
   {
    "duration": 24,
    "start_time": "2021-12-26T14:42:35.593Z"
   },
   {
    "duration": 14,
    "start_time": "2021-12-26T14:42:35.618Z"
   },
   {
    "duration": 444,
    "start_time": "2021-12-26T14:42:35.633Z"
   },
   {
    "duration": 37,
    "start_time": "2021-12-26T14:42:36.078Z"
   },
   {
    "duration": 11,
    "start_time": "2021-12-26T14:42:36.117Z"
   },
   {
    "duration": 339,
    "start_time": "2021-12-26T14:42:36.130Z"
   },
   {
    "duration": 17,
    "start_time": "2021-12-26T14:42:36.471Z"
   },
   {
    "duration": 590,
    "start_time": "2021-12-26T14:42:36.490Z"
   },
   {
    "duration": 581,
    "start_time": "2021-12-26T14:42:37.082Z"
   },
   {
    "duration": 596,
    "start_time": "2021-12-26T14:42:37.664Z"
   },
   {
    "duration": 586,
    "start_time": "2021-12-26T14:42:38.263Z"
   },
   {
    "duration": 613,
    "start_time": "2021-12-26T14:42:38.850Z"
   },
   {
    "duration": 14,
    "start_time": "2021-12-26T14:42:39.465Z"
   },
   {
    "duration": 3,
    "start_time": "2021-12-26T14:42:39.481Z"
   },
   {
    "duration": 14,
    "start_time": "2021-12-26T14:43:12.898Z"
   },
   {
    "duration": 21,
    "start_time": "2021-12-26T14:44:58.202Z"
   },
   {
    "duration": 319,
    "start_time": "2021-12-26T14:45:29.316Z"
   },
   {
    "duration": 15,
    "start_time": "2021-12-26T14:45:37.468Z"
   },
   {
    "duration": 15,
    "start_time": "2021-12-26T14:47:38.453Z"
   },
   {
    "duration": 3,
    "start_time": "2021-12-26T14:47:51.720Z"
   },
   {
    "duration": 35,
    "start_time": "2021-12-26T14:48:21.165Z"
   },
   {
    "duration": 21,
    "start_time": "2021-12-26T14:49:17.015Z"
   },
   {
    "duration": 34,
    "start_time": "2021-12-26T14:50:04.315Z"
   },
   {
    "duration": 33,
    "start_time": "2021-12-26T14:50:25.199Z"
   },
   {
    "duration": 45,
    "start_time": "2021-12-26T14:52:21.597Z"
   },
   {
    "duration": 2,
    "start_time": "2021-12-26T14:53:58.223Z"
   },
   {
    "duration": 3,
    "start_time": "2021-12-26T15:11:32.260Z"
   },
   {
    "duration": 20,
    "start_time": "2021-12-26T15:12:29.923Z"
   },
   {
    "duration": 9,
    "start_time": "2021-12-26T15:14:20.713Z"
   },
   {
    "duration": 246,
    "start_time": "2021-12-26T15:15:25.905Z"
   },
   {
    "duration": 14,
    "start_time": "2021-12-26T15:15:34.942Z"
   },
   {
    "duration": 13,
    "start_time": "2021-12-26T15:17:06.274Z"
   },
   {
    "duration": 13,
    "start_time": "2021-12-26T15:17:14.819Z"
   },
   {
    "duration": 14,
    "start_time": "2021-12-26T15:17:20.909Z"
   },
   {
    "duration": 13,
    "start_time": "2021-12-26T15:18:24.491Z"
   },
   {
    "duration": 13,
    "start_time": "2021-12-26T15:19:04.120Z"
   },
   {
    "duration": 13,
    "start_time": "2021-12-26T15:19:22.442Z"
   },
   {
    "duration": 12,
    "start_time": "2021-12-26T15:19:34.255Z"
   },
   {
    "duration": 12,
    "start_time": "2021-12-26T15:19:35.241Z"
   },
   {
    "duration": 12,
    "start_time": "2021-12-26T15:20:25.850Z"
   },
   {
    "duration": 13,
    "start_time": "2021-12-26T15:21:13.010Z"
   },
   {
    "duration": 13,
    "start_time": "2021-12-26T15:21:21.848Z"
   },
   {
    "duration": 12,
    "start_time": "2021-12-26T15:21:39.630Z"
   },
   {
    "duration": 12,
    "start_time": "2021-12-26T15:21:47.188Z"
   },
   {
    "duration": 14,
    "start_time": "2021-12-26T15:21:50.729Z"
   },
   {
    "duration": 12,
    "start_time": "2021-12-26T15:21:58.836Z"
   },
   {
    "duration": 14,
    "start_time": "2021-12-26T15:22:09.070Z"
   },
   {
    "duration": 12,
    "start_time": "2021-12-26T15:22:11.554Z"
   },
   {
    "duration": 15,
    "start_time": "2021-12-26T16:01:58.232Z"
   },
   {
    "duration": 1185,
    "start_time": "2021-12-26T16:23:58.657Z"
   },
   {
    "duration": 41,
    "start_time": "2021-12-26T16:23:59.844Z"
   },
   {
    "duration": 49,
    "start_time": "2021-12-26T16:23:59.887Z"
   },
   {
    "duration": 23,
    "start_time": "2021-12-26T16:23:59.938Z"
   },
   {
    "duration": 8,
    "start_time": "2021-12-26T16:23:59.963Z"
   },
   {
    "duration": 5,
    "start_time": "2021-12-26T16:23:59.972Z"
   },
   {
    "duration": 14,
    "start_time": "2021-12-26T16:23:59.979Z"
   },
   {
    "duration": 20,
    "start_time": "2021-12-26T16:23:59.995Z"
   },
   {
    "duration": 20,
    "start_time": "2021-12-26T16:24:00.018Z"
   },
   {
    "duration": 27,
    "start_time": "2021-12-26T16:24:00.040Z"
   },
   {
    "duration": 16,
    "start_time": "2021-12-26T16:24:00.069Z"
   },
   {
    "duration": 13,
    "start_time": "2021-12-26T16:24:00.087Z"
   },
   {
    "duration": 28,
    "start_time": "2021-12-26T16:24:00.103Z"
   },
   {
    "duration": 6,
    "start_time": "2021-12-26T16:24:00.133Z"
   },
   {
    "duration": 31,
    "start_time": "2021-12-26T16:24:00.161Z"
   },
   {
    "duration": 5,
    "start_time": "2021-12-26T16:24:00.194Z"
   },
   {
    "duration": 22,
    "start_time": "2021-12-26T16:24:00.200Z"
   },
   {
    "duration": 493,
    "start_time": "2021-12-26T16:24:00.224Z"
   },
   {
    "duration": 518,
    "start_time": "2021-12-26T16:24:00.719Z"
   },
   {
    "duration": 426,
    "start_time": "2021-12-26T16:24:01.239Z"
   },
   {
    "duration": 18,
    "start_time": "2021-12-26T16:24:01.666Z"
   },
   {
    "duration": 466,
    "start_time": "2021-12-26T16:24:01.687Z"
   },
   {
    "duration": 9,
    "start_time": "2021-12-26T16:24:02.156Z"
   },
   {
    "duration": 22,
    "start_time": "2021-12-26T16:24:02.167Z"
   },
   {
    "duration": 23,
    "start_time": "2021-12-26T16:24:02.190Z"
   },
   {
    "duration": 56,
    "start_time": "2021-12-26T16:24:02.214Z"
   },
   {
    "duration": 9,
    "start_time": "2021-12-26T16:24:02.272Z"
   },
   {
    "duration": 271,
    "start_time": "2021-12-26T16:24:02.283Z"
   },
   {
    "duration": 17,
    "start_time": "2021-12-26T16:24:02.560Z"
   },
   {
    "duration": 693,
    "start_time": "2021-12-26T16:24:02.579Z"
   },
   {
    "duration": 604,
    "start_time": "2021-12-26T16:24:03.274Z"
   },
   {
    "duration": 595,
    "start_time": "2021-12-26T16:24:03.879Z"
   },
   {
    "duration": 614,
    "start_time": "2021-12-26T16:24:04.476Z"
   },
   {
    "duration": 591,
    "start_time": "2021-12-26T16:24:05.092Z"
   },
   {
    "duration": 15,
    "start_time": "2021-12-26T16:24:05.685Z"
   },
   {
    "duration": 51,
    "start_time": "2021-12-26T16:24:05.702Z"
   },
   {
    "duration": 35,
    "start_time": "2021-12-26T16:24:05.755Z"
   },
   {
    "duration": 34,
    "start_time": "2021-12-26T16:24:05.792Z"
   },
   {
    "duration": 41,
    "start_time": "2021-12-26T16:24:05.828Z"
   },
   {
    "duration": 14,
    "start_time": "2021-12-26T16:24:05.870Z"
   },
   {
    "duration": 10,
    "start_time": "2021-12-26T16:29:20.935Z"
   },
   {
    "duration": 6,
    "start_time": "2021-12-26T16:30:44.788Z"
   },
   {
    "duration": 18,
    "start_time": "2021-12-26T16:31:19.922Z"
   },
   {
    "duration": 7,
    "start_time": "2021-12-26T16:31:42.402Z"
   },
   {
    "duration": 11,
    "start_time": "2021-12-26T16:33:17.531Z"
   },
   {
    "duration": 417,
    "start_time": "2021-12-26T16:37:25.064Z"
   },
   {
    "duration": 1209,
    "start_time": "2021-12-26T16:47:26.638Z"
   },
   {
    "duration": 42,
    "start_time": "2021-12-26T16:47:27.849Z"
   },
   {
    "duration": 69,
    "start_time": "2021-12-26T16:47:27.896Z"
   },
   {
    "duration": 5127,
    "start_time": "2021-12-26T16:47:27.967Z"
   },
   {
    "duration": -30,
    "start_time": "2021-12-26T16:47:33.127Z"
   },
   {
    "duration": -31,
    "start_time": "2021-12-26T16:47:33.129Z"
   },
   {
    "duration": -31,
    "start_time": "2021-12-26T16:47:33.130Z"
   },
   {
    "duration": -33,
    "start_time": "2021-12-26T16:47:33.133Z"
   },
   {
    "duration": -32,
    "start_time": "2021-12-26T16:47:33.135Z"
   },
   {
    "duration": -36,
    "start_time": "2021-12-26T16:47:33.140Z"
   },
   {
    "duration": -39,
    "start_time": "2021-12-26T16:47:33.144Z"
   },
   {
    "duration": -39,
    "start_time": "2021-12-26T16:47:33.145Z"
   },
   {
    "duration": -39,
    "start_time": "2021-12-26T16:47:33.146Z"
   },
   {
    "duration": -41,
    "start_time": "2021-12-26T16:47:33.149Z"
   },
   {
    "duration": -42,
    "start_time": "2021-12-26T16:47:33.151Z"
   },
   {
    "duration": -43,
    "start_time": "2021-12-26T16:47:33.153Z"
   },
   {
    "duration": -43,
    "start_time": "2021-12-26T16:47:33.154Z"
   },
   {
    "duration": -43,
    "start_time": "2021-12-26T16:47:33.155Z"
   },
   {
    "duration": -44,
    "start_time": "2021-12-26T16:47:33.157Z"
   },
   {
    "duration": -45,
    "start_time": "2021-12-26T16:47:33.158Z"
   },
   {
    "duration": -50,
    "start_time": "2021-12-26T16:47:33.164Z"
   },
   {
    "duration": -51,
    "start_time": "2021-12-26T16:47:33.166Z"
   },
   {
    "duration": -52,
    "start_time": "2021-12-26T16:47:33.168Z"
   },
   {
    "duration": -53,
    "start_time": "2021-12-26T16:47:33.170Z"
   },
   {
    "duration": -54,
    "start_time": "2021-12-26T16:47:33.172Z"
   },
   {
    "duration": -54,
    "start_time": "2021-12-26T16:47:33.173Z"
   },
   {
    "duration": -54,
    "start_time": "2021-12-26T16:47:33.174Z"
   },
   {
    "duration": -55,
    "start_time": "2021-12-26T16:47:33.176Z"
   },
   {
    "duration": -56,
    "start_time": "2021-12-26T16:47:33.178Z"
   },
   {
    "duration": -57,
    "start_time": "2021-12-26T16:47:33.180Z"
   },
   {
    "duration": -58,
    "start_time": "2021-12-26T16:47:33.182Z"
   },
   {
    "duration": -58,
    "start_time": "2021-12-26T16:47:33.183Z"
   },
   {
    "duration": -59,
    "start_time": "2021-12-26T16:47:33.185Z"
   },
   {
    "duration": -59,
    "start_time": "2021-12-26T16:47:33.186Z"
   },
   {
    "duration": -64,
    "start_time": "2021-12-26T16:47:33.192Z"
   },
   {
    "duration": -65,
    "start_time": "2021-12-26T16:47:33.194Z"
   },
   {
    "duration": -66,
    "start_time": "2021-12-26T16:47:33.196Z"
   },
   {
    "duration": -67,
    "start_time": "2021-12-26T16:47:33.198Z"
   },
   {
    "duration": -68,
    "start_time": "2021-12-26T16:47:33.200Z"
   },
   {
    "duration": 1208,
    "start_time": "2021-12-26T16:48:31.731Z"
   },
   {
    "duration": 47,
    "start_time": "2021-12-26T16:48:32.941Z"
   },
   {
    "duration": 71,
    "start_time": "2021-12-26T16:48:32.991Z"
   },
   {
    "duration": 10,
    "start_time": "2021-12-26T16:48:33.064Z"
   },
   {
    "duration": 9,
    "start_time": "2021-12-26T16:48:33.076Z"
   },
   {
    "duration": 8,
    "start_time": "2021-12-26T16:48:33.087Z"
   },
   {
    "duration": 15,
    "start_time": "2021-12-26T16:48:33.097Z"
   },
   {
    "duration": 7,
    "start_time": "2021-12-26T16:48:33.115Z"
   },
   {
    "duration": 42,
    "start_time": "2021-12-26T16:48:33.124Z"
   },
   {
    "duration": 19,
    "start_time": "2021-12-26T16:48:33.168Z"
   },
   {
    "duration": 12,
    "start_time": "2021-12-26T16:48:33.189Z"
   },
   {
    "duration": 57,
    "start_time": "2021-12-26T16:48:33.203Z"
   },
   {
    "duration": 9,
    "start_time": "2021-12-26T16:48:33.263Z"
   },
   {
    "duration": 32,
    "start_time": "2021-12-26T16:48:33.273Z"
   },
   {
    "duration": 4,
    "start_time": "2021-12-26T16:48:33.307Z"
   },
   {
    "duration": 28,
    "start_time": "2021-12-26T16:48:33.313Z"
   },
   {
    "duration": 584,
    "start_time": "2021-12-26T16:48:33.344Z"
   },
   {
    "duration": 443,
    "start_time": "2021-12-26T16:48:33.931Z"
   },
   {
    "duration": 489,
    "start_time": "2021-12-26T16:48:34.375Z"
   },
   {
    "duration": 22,
    "start_time": "2021-12-26T16:48:34.866Z"
   },
   {
    "duration": 455,
    "start_time": "2021-12-26T16:48:34.890Z"
   },
   {
    "duration": 16,
    "start_time": "2021-12-26T16:48:35.347Z"
   },
   {
    "duration": 15,
    "start_time": "2021-12-26T16:48:35.367Z"
   },
   {
    "duration": 13,
    "start_time": "2021-12-26T16:48:35.384Z"
   },
   {
    "duration": 42,
    "start_time": "2021-12-26T16:48:35.398Z"
   },
   {
    "duration": 25,
    "start_time": "2021-12-26T16:48:35.441Z"
   },
   {
    "duration": 254,
    "start_time": "2021-12-26T16:48:35.468Z"
   },
   {
    "duration": 18,
    "start_time": "2021-12-26T16:48:35.724Z"
   },
   {
    "duration": 738,
    "start_time": "2021-12-26T16:48:35.743Z"
   },
   {
    "duration": 597,
    "start_time": "2021-12-26T16:48:36.483Z"
   },
   {
    "duration": 596,
    "start_time": "2021-12-26T16:48:37.082Z"
   },
   {
    "duration": 567,
    "start_time": "2021-12-26T16:48:37.680Z"
   },
   {
    "duration": 617,
    "start_time": "2021-12-26T16:48:38.249Z"
   },
   {
    "duration": 15,
    "start_time": "2021-12-26T16:48:38.868Z"
   },
   {
    "duration": 35,
    "start_time": "2021-12-26T16:48:38.885Z"
   },
   {
    "duration": 60,
    "start_time": "2021-12-26T16:48:38.922Z"
   },
   {
    "duration": 32,
    "start_time": "2021-12-26T16:48:38.984Z"
   },
   {
    "duration": 12,
    "start_time": "2021-12-26T16:48:39.017Z"
   },
   {
    "duration": 13,
    "start_time": "2021-12-26T16:48:39.061Z"
   },
   {
    "duration": 1148,
    "start_time": "2021-12-26T16:50:07.475Z"
   },
   {
    "duration": 40,
    "start_time": "2021-12-26T16:50:08.624Z"
   },
   {
    "duration": 53,
    "start_time": "2021-12-26T16:50:08.668Z"
   },
   {
    "duration": 10,
    "start_time": "2021-12-26T16:50:08.722Z"
   },
   {
    "duration": 28,
    "start_time": "2021-12-26T16:50:08.734Z"
   },
   {
    "duration": 11,
    "start_time": "2021-12-26T16:50:08.764Z"
   },
   {
    "duration": 14,
    "start_time": "2021-12-26T16:50:08.778Z"
   },
   {
    "duration": 14,
    "start_time": "2021-12-26T16:50:08.794Z"
   },
   {
    "duration": 12,
    "start_time": "2021-12-26T16:50:08.810Z"
   },
   {
    "duration": 23,
    "start_time": "2021-12-26T16:50:08.824Z"
   },
   {
    "duration": 22,
    "start_time": "2021-12-26T16:50:08.849Z"
   },
   {
    "duration": 27,
    "start_time": "2021-12-26T16:50:08.873Z"
   },
   {
    "duration": 7,
    "start_time": "2021-12-26T16:50:08.903Z"
   },
   {
    "duration": 24,
    "start_time": "2021-12-26T16:50:08.911Z"
   },
   {
    "duration": 26,
    "start_time": "2021-12-26T16:50:08.936Z"
   },
   {
    "duration": 15,
    "start_time": "2021-12-26T16:50:08.964Z"
   },
   {
    "duration": 496,
    "start_time": "2021-12-26T16:50:08.981Z"
   },
   {
    "duration": 416,
    "start_time": "2021-12-26T16:50:09.479Z"
   },
   {
    "duration": 381,
    "start_time": "2021-12-26T16:50:09.897Z"
   },
   {
    "duration": 18,
    "start_time": "2021-12-26T16:50:10.279Z"
   },
   {
    "duration": 440,
    "start_time": "2021-12-26T16:50:10.299Z"
   },
   {
    "duration": 17,
    "start_time": "2021-12-26T16:50:10.743Z"
   },
   {
    "duration": 14,
    "start_time": "2021-12-26T16:50:10.762Z"
   },
   {
    "duration": 8,
    "start_time": "2021-12-26T16:50:10.777Z"
   },
   {
    "duration": 39,
    "start_time": "2021-12-26T16:50:10.786Z"
   },
   {
    "duration": 34,
    "start_time": "2021-12-26T16:50:10.826Z"
   },
   {
    "duration": 252,
    "start_time": "2021-12-26T16:50:10.862Z"
   },
   {
    "duration": 17,
    "start_time": "2021-12-26T16:50:11.116Z"
   },
   {
    "duration": 694,
    "start_time": "2021-12-26T16:50:11.135Z"
   },
   {
    "duration": 613,
    "start_time": "2021-12-26T16:50:11.831Z"
   },
   {
    "duration": 596,
    "start_time": "2021-12-26T16:50:12.446Z"
   },
   {
    "duration": 603,
    "start_time": "2021-12-26T16:50:13.044Z"
   },
   {
    "duration": 608,
    "start_time": "2021-12-26T16:50:13.660Z"
   },
   {
    "duration": 15,
    "start_time": "2021-12-26T16:50:14.270Z"
   },
   {
    "duration": 33,
    "start_time": "2021-12-26T16:50:14.287Z"
   },
   {
    "duration": 61,
    "start_time": "2021-12-26T16:50:14.322Z"
   },
   {
    "duration": 35,
    "start_time": "2021-12-26T16:50:14.385Z"
   },
   {
    "duration": 39,
    "start_time": "2021-12-26T16:50:14.422Z"
   },
   {
    "duration": 14,
    "start_time": "2021-12-26T16:50:14.463Z"
   },
   {
    "duration": 1036,
    "start_time": "2021-12-27T10:54:32.652Z"
   },
   {
    "duration": 38,
    "start_time": "2021-12-27T10:54:33.693Z"
   },
   {
    "duration": 51,
    "start_time": "2021-12-27T10:54:33.734Z"
   },
   {
    "duration": 9,
    "start_time": "2021-12-27T10:54:33.787Z"
   },
   {
    "duration": 23,
    "start_time": "2021-12-27T10:54:33.798Z"
   },
   {
    "duration": 22,
    "start_time": "2021-12-27T10:54:33.823Z"
   },
   {
    "duration": 28,
    "start_time": "2021-12-27T10:54:33.847Z"
   },
   {
    "duration": 20,
    "start_time": "2021-12-27T10:54:33.878Z"
   },
   {
    "duration": 20,
    "start_time": "2021-12-27T10:54:33.900Z"
   },
   {
    "duration": 43,
    "start_time": "2021-12-27T10:54:33.922Z"
   },
   {
    "duration": 12,
    "start_time": "2021-12-27T10:54:33.966Z"
   },
   {
    "duration": 40,
    "start_time": "2021-12-27T10:54:33.980Z"
   },
   {
    "duration": 5,
    "start_time": "2021-12-27T10:54:34.022Z"
   },
   {
    "duration": 36,
    "start_time": "2021-12-27T10:54:34.029Z"
   },
   {
    "duration": 20,
    "start_time": "2021-12-27T10:54:34.067Z"
   },
   {
    "duration": 34,
    "start_time": "2021-12-27T10:54:34.088Z"
   },
   {
    "duration": 435,
    "start_time": "2021-12-27T10:54:34.123Z"
   },
   {
    "duration": 377,
    "start_time": "2021-12-27T10:54:34.560Z"
   },
   {
    "duration": 340,
    "start_time": "2021-12-27T10:54:34.941Z"
   },
   {
    "duration": 15,
    "start_time": "2021-12-27T10:54:35.283Z"
   },
   {
    "duration": 405,
    "start_time": "2021-12-27T10:54:35.300Z"
   },
   {
    "duration": 6,
    "start_time": "2021-12-27T10:54:35.709Z"
   },
   {
    "duration": 28,
    "start_time": "2021-12-27T10:54:35.717Z"
   },
   {
    "duration": 10,
    "start_time": "2021-12-27T10:54:35.746Z"
   },
   {
    "duration": 60,
    "start_time": "2021-12-27T10:54:35.758Z"
   },
   {
    "duration": 10,
    "start_time": "2021-12-27T10:54:35.820Z"
   },
   {
    "duration": 240,
    "start_time": "2021-12-27T10:54:35.831Z"
   },
   {
    "duration": 15,
    "start_time": "2021-12-27T10:54:36.074Z"
   },
   {
    "duration": 619,
    "start_time": "2021-12-27T10:54:36.091Z"
   },
   {
    "duration": 619,
    "start_time": "2021-12-27T10:54:36.712Z"
   },
   {
    "duration": 611,
    "start_time": "2021-12-27T10:54:37.332Z"
   },
   {
    "duration": 588,
    "start_time": "2021-12-27T10:54:37.944Z"
   },
   {
    "duration": 582,
    "start_time": "2021-12-27T10:54:38.540Z"
   },
   {
    "duration": 22,
    "start_time": "2021-12-27T10:54:39.124Z"
   },
   {
    "duration": 29,
    "start_time": "2021-12-27T10:54:39.147Z"
   },
   {
    "duration": 29,
    "start_time": "2021-12-27T10:54:39.177Z"
   },
   {
    "duration": 54,
    "start_time": "2021-12-27T10:54:39.207Z"
   },
   {
    "duration": 11,
    "start_time": "2021-12-27T10:54:39.262Z"
   },
   {
    "duration": 10,
    "start_time": "2021-12-27T10:54:39.275Z"
   },
   {
    "duration": 1439,
    "start_time": "2021-12-27T11:53:00.359Z"
   },
   {
    "duration": 50,
    "start_time": "2021-12-27T11:53:01.801Z"
   },
   {
    "duration": 77,
    "start_time": "2021-12-27T11:53:02.983Z"
   },
   {
    "duration": 15,
    "start_time": "2021-12-27T11:53:04.757Z"
   },
   {
    "duration": 23,
    "start_time": "2021-12-27T11:53:06.588Z"
   },
   {
    "duration": 6,
    "start_time": "2021-12-27T11:56:57.472Z"
   },
   {
    "duration": 8857,
    "start_time": "2021-12-27T11:57:29.337Z"
   },
   {
    "duration": 1490,
    "start_time": "2021-12-27T12:06:54.295Z"
   },
   {
    "duration": 55,
    "start_time": "2021-12-27T12:06:59.815Z"
   },
   {
    "duration": 84,
    "start_time": "2021-12-27T12:06:59.873Z"
   },
   {
    "duration": 16,
    "start_time": "2021-12-27T12:07:02.038Z"
   },
   {
    "duration": 26,
    "start_time": "2021-12-27T12:07:04.109Z"
   },
   {
    "duration": 6,
    "start_time": "2021-12-27T12:07:08.067Z"
   },
   {
    "duration": 6,
    "start_time": "2021-12-27T12:07:11.332Z"
   },
   {
    "duration": 20,
    "start_time": "2021-12-27T12:07:13.739Z"
   },
   {
    "duration": 10,
    "start_time": "2021-12-27T12:07:14.838Z"
   },
   {
    "duration": 10,
    "start_time": "2021-12-27T12:07:15.481Z"
   },
   {
    "duration": 1617,
    "start_time": "2021-12-27T14:11:10.689Z"
   },
   {
    "duration": 47,
    "start_time": "2021-12-27T14:11:12.823Z"
   },
   {
    "duration": 73,
    "start_time": "2021-12-27T14:11:13.680Z"
   },
   {
    "duration": 14,
    "start_time": "2021-12-27T14:11:15.640Z"
   },
   {
    "duration": 25,
    "start_time": "2021-12-27T14:11:19.499Z"
   },
   {
    "duration": 7,
    "start_time": "2021-12-27T14:11:36.813Z"
   },
   {
    "duration": 6,
    "start_time": "2021-12-27T14:11:40.734Z"
   },
   {
    "duration": 21,
    "start_time": "2021-12-27T14:11:41.290Z"
   },
   {
    "duration": 7,
    "start_time": "2021-12-27T14:11:43.185Z"
   },
   {
    "duration": 14,
    "start_time": "2021-12-27T14:11:45.468Z"
   },
   {
    "duration": 25,
    "start_time": "2021-12-27T14:11:54.594Z"
   },
   {
    "duration": 49,
    "start_time": "2021-12-27T14:12:02.521Z"
   },
   {
    "duration": 9,
    "start_time": "2021-12-27T14:12:08.958Z"
   },
   {
    "duration": 9,
    "start_time": "2021-12-27T14:12:13.213Z"
   },
   {
    "duration": 26,
    "start_time": "2021-12-27T14:12:41.113Z"
   },
   {
    "duration": 9,
    "start_time": "2021-12-27T14:12:47.473Z"
   },
   {
    "duration": 20,
    "start_time": "2021-12-27T14:12:58.822Z"
   },
   {
    "duration": 671,
    "start_time": "2021-12-27T14:13:05.236Z"
   },
   {
    "duration": 807,
    "start_time": "2021-12-27T14:13:09.062Z"
   },
   {
    "duration": 31,
    "start_time": "2021-12-27T14:13:15.840Z"
   },
   {
    "duration": 962,
    "start_time": "2021-12-27T14:13:19.062Z"
   },
   {
    "duration": 9,
    "start_time": "2021-12-27T14:13:43.848Z"
   },
   {
    "duration": 22,
    "start_time": "2021-12-27T14:13:46.867Z"
   },
   {
    "duration": 8,
    "start_time": "2021-12-27T14:13:51.340Z"
   },
   {
    "duration": 47,
    "start_time": "2021-12-27T14:14:01.468Z"
   },
   {
    "duration": 12,
    "start_time": "2021-12-27T14:14:25.184Z"
   },
   {
    "duration": 431,
    "start_time": "2021-12-27T14:14:30.643Z"
   },
   {
    "duration": 20,
    "start_time": "2021-12-27T14:14:37.154Z"
   },
   {
    "duration": 25,
    "start_time": "2021-12-27T14:18:48.374Z"
   },
   {
    "duration": 837,
    "start_time": "2021-12-27T14:18:48.981Z"
   },
   {
    "duration": 753,
    "start_time": "2021-12-27T14:19:04.360Z"
   },
   {
    "duration": 497,
    "start_time": "2021-12-27T14:19:26.832Z"
   },
   {
    "duration": 4,
    "start_time": "2021-12-27T14:20:12.396Z"
   },
   {
    "duration": 859,
    "start_time": "2021-12-27T14:20:48.481Z"
   },
   {
    "duration": 799,
    "start_time": "2021-12-27T14:21:12.469Z"
   },
   {
    "duration": 826,
    "start_time": "2021-12-27T14:21:47.612Z"
   },
   {
    "duration": 3,
    "start_time": "2021-12-27T14:22:50.693Z"
   },
   {
    "duration": 3,
    "start_time": "2021-12-27T14:23:00.407Z"
   },
   {
    "duration": 23,
    "start_time": "2021-12-27T14:23:17.028Z"
   },
   {
    "duration": 631,
    "start_time": "2021-12-27T14:25:54.069Z"
   },
   {
    "duration": 53,
    "start_time": "2021-12-27T14:28:43.640Z"
   },
   {
    "duration": 52,
    "start_time": "2021-12-27T14:32:09.801Z"
   },
   {
    "duration": 52,
    "start_time": "2021-12-27T14:32:20.364Z"
   },
   {
    "duration": 53,
    "start_time": "2021-12-27T14:41:28.916Z"
   },
   {
    "duration": 17,
    "start_time": "2021-12-27T14:56:05.882Z"
   },
   {
    "duration": 21,
    "start_time": "2021-12-27T14:57:40.130Z"
   },
   {
    "duration": 1505,
    "start_time": "2021-12-27T14:59:02.973Z"
   },
   {
    "duration": 47,
    "start_time": "2021-12-27T14:59:04.480Z"
   },
   {
    "duration": 73,
    "start_time": "2021-12-27T14:59:04.531Z"
   },
   {
    "duration": 13,
    "start_time": "2021-12-27T14:59:04.626Z"
   },
   {
    "duration": 28,
    "start_time": "2021-12-27T14:59:04.642Z"
   },
   {
    "duration": 3,
    "start_time": "2021-12-27T14:59:04.672Z"
   },
   {
    "duration": 9,
    "start_time": "2021-12-27T14:59:04.678Z"
   },
   {
    "duration": 6,
    "start_time": "2021-12-27T14:59:04.723Z"
   },
   {
    "duration": 22,
    "start_time": "2021-12-27T14:59:04.732Z"
   },
   {
    "duration": 7,
    "start_time": "2021-12-27T14:59:04.756Z"
   },
   {
    "duration": 11,
    "start_time": "2021-12-27T14:59:04.765Z"
   },
   {
    "duration": 44,
    "start_time": "2021-12-27T14:59:04.779Z"
   },
   {
    "duration": 21,
    "start_time": "2021-12-27T14:59:04.826Z"
   },
   {
    "duration": 34,
    "start_time": "2021-12-27T14:59:04.850Z"
   },
   {
    "duration": 42,
    "start_time": "2021-12-27T14:59:04.887Z"
   },
   {
    "duration": 6,
    "start_time": "2021-12-27T14:59:04.932Z"
   },
   {
    "duration": 9,
    "start_time": "2021-12-27T14:59:04.941Z"
   },
   {
    "duration": 26,
    "start_time": "2021-12-27T14:59:04.952Z"
   },
   {
    "duration": 3,
    "start_time": "2021-12-27T14:59:04.981Z"
   },
   {
    "duration": 38,
    "start_time": "2021-12-27T14:59:04.987Z"
   },
   {
    "duration": 24,
    "start_time": "2021-12-27T14:59:05.028Z"
   },
   {
    "duration": 785,
    "start_time": "2021-12-27T14:59:05.054Z"
   },
   {
    "duration": 602,
    "start_time": "2021-12-27T14:59:05.845Z"
   },
   {
    "duration": 25,
    "start_time": "2021-12-27T14:59:06.449Z"
   },
   {
    "duration": 688,
    "start_time": "2021-12-27T14:59:06.476Z"
   },
   {
    "duration": 9,
    "start_time": "2021-12-27T14:59:07.168Z"
   },
   {
    "duration": 46,
    "start_time": "2021-12-27T14:59:07.179Z"
   },
   {
    "duration": 10,
    "start_time": "2021-12-27T14:59:07.227Z"
   },
   {
    "duration": 55,
    "start_time": "2021-12-27T14:59:07.239Z"
   },
   {
    "duration": 32,
    "start_time": "2021-12-27T14:59:07.296Z"
   },
   {
    "duration": 408,
    "start_time": "2021-12-27T14:59:07.331Z"
   },
   {
    "duration": 20,
    "start_time": "2021-12-27T14:59:07.743Z"
   },
   {
    "duration": 59,
    "start_time": "2021-12-27T14:59:07.766Z"
   },
   {
    "duration": 968,
    "start_time": "2021-12-27T14:59:07.827Z"
   },
   {
    "duration": 3,
    "start_time": "2021-12-27T14:59:08.798Z"
   },
   {
    "duration": 813,
    "start_time": "2021-12-27T14:59:08.803Z"
   },
   {
    "duration": 3,
    "start_time": "2021-12-27T14:59:09.624Z"
   },
   {
    "duration": 6,
    "start_time": "2021-12-27T14:59:09.629Z"
   },
   {
    "duration": 22,
    "start_time": "2021-12-27T14:59:09.637Z"
   },
   {
    "duration": 85,
    "start_time": "2021-12-27T14:59:09.661Z"
   },
   {
    "duration": 48,
    "start_time": "2021-12-27T14:59:09.749Z"
   },
   {
    "duration": 67,
    "start_time": "2021-12-27T14:59:09.799Z"
   },
   {
    "duration": 17,
    "start_time": "2021-12-27T14:59:09.869Z"
   },
   {
    "duration": 45,
    "start_time": "2021-12-27T14:59:09.888Z"
   },
   {
    "duration": 17,
    "start_time": "2021-12-27T14:59:09.935Z"
   },
   {
    "duration": 16,
    "start_time": "2021-12-27T14:59:09.955Z"
   },
   {
    "duration": 16,
    "start_time": "2021-12-27T15:03:02.854Z"
   },
   {
    "duration": 1486,
    "start_time": "2021-12-27T15:03:46.823Z"
   },
   {
    "duration": 53,
    "start_time": "2021-12-27T15:03:48.312Z"
   },
   {
    "duration": 84,
    "start_time": "2021-12-27T15:03:48.367Z"
   },
   {
    "duration": 12,
    "start_time": "2021-12-27T15:03:48.453Z"
   },
   {
    "duration": 26,
    "start_time": "2021-12-27T15:03:48.467Z"
   },
   {
    "duration": 28,
    "start_time": "2021-12-27T15:03:48.495Z"
   },
   {
    "duration": 8,
    "start_time": "2021-12-27T15:03:48.525Z"
   },
   {
    "duration": 6,
    "start_time": "2021-12-27T15:03:48.537Z"
   },
   {
    "duration": 28,
    "start_time": "2021-12-27T15:03:48.547Z"
   },
   {
    "duration": 10,
    "start_time": "2021-12-27T15:03:48.577Z"
   },
   {
    "duration": 39,
    "start_time": "2021-12-27T15:03:48.589Z"
   },
   {
    "duration": 25,
    "start_time": "2021-12-27T15:03:48.632Z"
   },
   {
    "duration": 18,
    "start_time": "2021-12-27T15:03:48.660Z"
   },
   {
    "duration": 65,
    "start_time": "2021-12-27T15:03:48.680Z"
   },
   {
    "duration": 8,
    "start_time": "2021-12-27T15:03:48.748Z"
   },
   {
    "duration": 40,
    "start_time": "2021-12-27T15:03:48.758Z"
   },
   {
    "duration": 6,
    "start_time": "2021-12-27T15:03:48.801Z"
   },
   {
    "duration": 23,
    "start_time": "2021-12-27T15:03:48.823Z"
   },
   {
    "duration": 4,
    "start_time": "2021-12-27T15:03:48.848Z"
   },
   {
    "duration": 24,
    "start_time": "2021-12-27T15:03:48.854Z"
   },
   {
    "duration": 50,
    "start_time": "2021-12-27T15:03:48.880Z"
   },
   {
    "duration": 723,
    "start_time": "2021-12-27T15:03:48.933Z"
   },
   {
    "duration": 646,
    "start_time": "2021-12-27T15:03:49.664Z"
   },
   {
    "duration": 34,
    "start_time": "2021-12-27T15:03:50.312Z"
   },
   {
    "duration": 728,
    "start_time": "2021-12-27T15:03:50.348Z"
   },
   {
    "duration": 9,
    "start_time": "2021-12-27T15:03:51.078Z"
   },
   {
    "duration": 54,
    "start_time": "2021-12-27T15:03:51.089Z"
   },
   {
    "duration": 35,
    "start_time": "2021-12-27T15:03:51.145Z"
   },
   {
    "duration": 63,
    "start_time": "2021-12-27T15:03:51.182Z"
   },
   {
    "duration": 12,
    "start_time": "2021-12-27T15:03:51.248Z"
   },
   {
    "duration": 420,
    "start_time": "2021-12-27T15:03:51.262Z"
   },
   {
    "duration": 20,
    "start_time": "2021-12-27T15:03:51.685Z"
   },
   {
    "duration": 25,
    "start_time": "2021-12-27T15:03:51.723Z"
   },
   {
    "duration": 852,
    "start_time": "2021-12-27T15:03:51.750Z"
   },
   {
    "duration": 4,
    "start_time": "2021-12-27T15:03:52.605Z"
   },
   {
    "duration": 822,
    "start_time": "2021-12-27T15:03:52.624Z"
   },
   {
    "duration": 4,
    "start_time": "2021-12-27T15:03:53.448Z"
   },
   {
    "duration": 8,
    "start_time": "2021-12-27T15:03:53.454Z"
   },
   {
    "duration": 24,
    "start_time": "2021-12-27T15:03:53.464Z"
   },
   {
    "duration": 73,
    "start_time": "2021-12-27T15:03:53.490Z"
   },
   {
    "duration": 78,
    "start_time": "2021-12-27T15:03:53.565Z"
   },
   {
    "duration": 48,
    "start_time": "2021-12-27T15:03:53.645Z"
   },
   {
    "duration": 44,
    "start_time": "2021-12-27T15:03:53.695Z"
   },
   {
    "duration": 16,
    "start_time": "2021-12-27T15:03:53.743Z"
   },
   {
    "duration": 16,
    "start_time": "2021-12-27T15:03:53.762Z"
   },
   {
    "duration": 63,
    "start_time": "2021-12-27T15:03:53.781Z"
   },
   {
    "duration": 18,
    "start_time": "2021-12-27T15:04:24.652Z"
   },
   {
    "duration": 16,
    "start_time": "2021-12-27T15:04:30.737Z"
   },
   {
    "duration": 34,
    "start_time": "2021-12-27T15:04:36.961Z"
   },
   {
    "duration": 18,
    "start_time": "2021-12-27T15:04:43.737Z"
   },
   {
    "duration": 1555,
    "start_time": "2021-12-27T15:04:48.844Z"
   },
   {
    "duration": 48,
    "start_time": "2021-12-27T15:04:50.402Z"
   },
   {
    "duration": 96,
    "start_time": "2021-12-27T15:04:50.453Z"
   },
   {
    "duration": 13,
    "start_time": "2021-12-27T15:04:50.551Z"
   },
   {
    "duration": 28,
    "start_time": "2021-12-27T15:04:50.567Z"
   },
   {
    "duration": 32,
    "start_time": "2021-12-27T15:04:50.597Z"
   },
   {
    "duration": 19,
    "start_time": "2021-12-27T15:04:50.632Z"
   },
   {
    "duration": 7,
    "start_time": "2021-12-27T15:04:50.656Z"
   },
   {
    "duration": 20,
    "start_time": "2021-12-27T15:04:50.665Z"
   },
   {
    "duration": 38,
    "start_time": "2021-12-27T15:04:50.688Z"
   },
   {
    "duration": 13,
    "start_time": "2021-12-27T15:04:50.731Z"
   },
   {
    "duration": 25,
    "start_time": "2021-12-27T15:04:50.747Z"
   },
   {
    "duration": 56,
    "start_time": "2021-12-27T15:04:50.775Z"
   },
   {
    "duration": 38,
    "start_time": "2021-12-27T15:04:50.834Z"
   },
   {
    "duration": 12,
    "start_time": "2021-12-27T15:04:50.875Z"
   },
   {
    "duration": 70,
    "start_time": "2021-12-27T15:04:50.890Z"
   },
   {
    "duration": 7,
    "start_time": "2021-12-27T15:04:50.963Z"
   },
   {
    "duration": 32,
    "start_time": "2021-12-27T15:04:50.973Z"
   },
   {
    "duration": 5,
    "start_time": "2021-12-27T15:04:51.023Z"
   },
   {
    "duration": 16,
    "start_time": "2021-12-27T15:04:51.030Z"
   },
   {
    "duration": 31,
    "start_time": "2021-12-27T15:04:51.048Z"
   },
   {
    "duration": 700,
    "start_time": "2021-12-27T15:04:51.081Z"
   },
   {
    "duration": 637,
    "start_time": "2021-12-27T15:04:51.786Z"
   },
   {
    "duration": 28,
    "start_time": "2021-12-27T15:04:52.426Z"
   },
   {
    "duration": 793,
    "start_time": "2021-12-27T15:04:52.457Z"
   },
   {
    "duration": 8,
    "start_time": "2021-12-27T15:04:53.253Z"
   },
   {
    "duration": 23,
    "start_time": "2021-12-27T15:04:53.265Z"
   },
   {
    "duration": 40,
    "start_time": "2021-12-27T15:04:53.290Z"
   },
   {
    "duration": 54,
    "start_time": "2021-12-27T15:04:53.333Z"
   },
   {
    "duration": 10,
    "start_time": "2021-12-27T15:04:53.390Z"
   },
   {
    "duration": 410,
    "start_time": "2021-12-27T15:04:53.403Z"
   },
   {
    "duration": 30,
    "start_time": "2021-12-27T15:04:53.816Z"
   },
   {
    "duration": 25,
    "start_time": "2021-12-27T15:04:53.849Z"
   },
   {
    "duration": 894,
    "start_time": "2021-12-27T15:04:53.876Z"
   },
   {
    "duration": 3,
    "start_time": "2021-12-27T15:04:54.773Z"
   },
   {
    "duration": 886,
    "start_time": "2021-12-27T15:04:54.779Z"
   },
   {
    "duration": 3,
    "start_time": "2021-12-27T15:04:55.668Z"
   },
   {
    "duration": 7,
    "start_time": "2021-12-27T15:04:55.673Z"
   },
   {
    "duration": 50,
    "start_time": "2021-12-27T15:04:55.683Z"
   },
   {
    "duration": 54,
    "start_time": "2021-12-27T15:04:55.736Z"
   },
   {
    "duration": 88,
    "start_time": "2021-12-27T15:04:55.793Z"
   },
   {
    "duration": 71,
    "start_time": "2021-12-27T15:04:55.884Z"
   },
   {
    "duration": 17,
    "start_time": "2021-12-27T15:04:55.958Z"
   },
   {
    "duration": 1514,
    "start_time": "2021-12-27T15:05:00.880Z"
   },
   {
    "duration": 52,
    "start_time": "2021-12-27T15:05:02.397Z"
   },
   {
    "duration": 98,
    "start_time": "2021-12-27T15:05:02.452Z"
   },
   {
    "duration": 15,
    "start_time": "2021-12-27T15:05:02.553Z"
   },
   {
    "duration": 23,
    "start_time": "2021-12-27T15:05:02.570Z"
   },
   {
    "duration": 2,
    "start_time": "2021-12-27T15:05:02.596Z"
   },
   {
    "duration": 14,
    "start_time": "2021-12-27T15:05:02.624Z"
   },
   {
    "duration": 9,
    "start_time": "2021-12-27T15:05:02.642Z"
   },
   {
    "duration": 18,
    "start_time": "2021-12-27T15:05:02.654Z"
   },
   {
    "duration": 8,
    "start_time": "2021-12-27T15:05:02.675Z"
   },
   {
    "duration": 52,
    "start_time": "2021-12-27T15:05:02.685Z"
   },
   {
    "duration": 28,
    "start_time": "2021-12-27T15:05:02.742Z"
   },
   {
    "duration": 18,
    "start_time": "2021-12-27T15:05:02.772Z"
   },
   {
    "duration": 68,
    "start_time": "2021-12-27T15:05:02.793Z"
   },
   {
    "duration": 9,
    "start_time": "2021-12-27T15:05:02.864Z"
   },
   {
    "duration": 61,
    "start_time": "2021-12-27T15:05:02.876Z"
   },
   {
    "duration": 7,
    "start_time": "2021-12-27T15:05:02.940Z"
   },
   {
    "duration": 22,
    "start_time": "2021-12-27T15:05:02.949Z"
   },
   {
    "duration": 3,
    "start_time": "2021-12-27T15:05:02.973Z"
   },
   {
    "duration": 8,
    "start_time": "2021-12-27T15:05:02.978Z"
   },
   {
    "duration": 56,
    "start_time": "2021-12-27T15:05:02.988Z"
   },
   {
    "duration": 868,
    "start_time": "2021-12-27T15:05:03.046Z"
   },
   {
    "duration": 627,
    "start_time": "2021-12-27T15:05:03.923Z"
   },
   {
    "duration": 23,
    "start_time": "2021-12-27T15:05:04.554Z"
   },
   {
    "duration": 798,
    "start_time": "2021-12-27T15:05:04.579Z"
   },
   {
    "duration": 8,
    "start_time": "2021-12-27T15:05:05.380Z"
   },
   {
    "duration": 38,
    "start_time": "2021-12-27T15:05:05.391Z"
   },
   {
    "duration": 20,
    "start_time": "2021-12-27T15:05:05.432Z"
   },
   {
    "duration": 52,
    "start_time": "2021-12-27T15:05:05.455Z"
   },
   {
    "duration": 31,
    "start_time": "2021-12-27T15:05:05.509Z"
   },
   {
    "duration": 417,
    "start_time": "2021-12-27T15:05:05.542Z"
   },
   {
    "duration": 20,
    "start_time": "2021-12-27T15:05:05.961Z"
   },
   {
    "duration": 57,
    "start_time": "2021-12-27T15:05:05.984Z"
   },
   {
    "duration": 866,
    "start_time": "2021-12-27T15:05:06.044Z"
   },
   {
    "duration": 9,
    "start_time": "2021-12-27T15:05:06.914Z"
   },
   {
    "duration": 836,
    "start_time": "2021-12-27T15:05:06.928Z"
   },
   {
    "duration": 3,
    "start_time": "2021-12-27T15:05:07.767Z"
   },
   {
    "duration": 14,
    "start_time": "2021-12-27T15:05:07.773Z"
   },
   {
    "duration": 35,
    "start_time": "2021-12-27T15:05:07.790Z"
   },
   {
    "duration": 69,
    "start_time": "2021-12-27T15:05:07.828Z"
   },
   {
    "duration": 69,
    "start_time": "2021-12-27T15:05:07.900Z"
   },
   {
    "duration": 84,
    "start_time": "2021-12-27T15:05:07.972Z"
   },
   {
    "duration": 21,
    "start_time": "2021-12-27T15:05:08.059Z"
   },
   {
    "duration": 14,
    "start_time": "2021-12-27T15:05:08.082Z"
   },
   {
    "duration": 22,
    "start_time": "2021-12-27T15:05:08.125Z"
   },
   {
    "duration": 23,
    "start_time": "2021-12-27T15:05:08.150Z"
   },
   {
    "duration": 100,
    "start_time": "2021-12-28T02:39:38.762Z"
   },
   {
    "duration": 1454,
    "start_time": "2021-12-28T02:45:50.228Z"
   },
   {
    "duration": 45,
    "start_time": "2021-12-28T02:45:51.685Z"
   },
   {
    "duration": 89,
    "start_time": "2021-12-28T02:45:51.734Z"
   },
   {
    "duration": 16,
    "start_time": "2021-12-28T02:45:51.826Z"
   },
   {
    "duration": 52,
    "start_time": "2021-12-28T02:45:51.844Z"
   },
   {
    "duration": 9,
    "start_time": "2021-12-28T02:45:51.899Z"
   },
   {
    "duration": 45,
    "start_time": "2021-12-28T02:45:51.910Z"
   },
   {
    "duration": 24,
    "start_time": "2021-12-28T02:45:51.959Z"
   },
   {
    "duration": 36,
    "start_time": "2021-12-28T02:45:51.986Z"
   },
   {
    "duration": 40,
    "start_time": "2021-12-28T02:45:52.025Z"
   },
   {
    "duration": 44,
    "start_time": "2021-12-28T02:45:52.068Z"
   },
   {
    "duration": 10,
    "start_time": "2021-12-28T02:45:52.115Z"
   },
   {
    "duration": 43,
    "start_time": "2021-12-28T02:45:52.128Z"
   },
   {
    "duration": 46,
    "start_time": "2021-12-28T02:45:52.173Z"
   },
   {
    "duration": 60,
    "start_time": "2021-12-28T02:45:52.222Z"
   },
   {
    "duration": 8,
    "start_time": "2021-12-28T02:45:52.284Z"
   },
   {
    "duration": 4,
    "start_time": "2021-12-28T02:45:52.294Z"
   },
   {
    "duration": 11,
    "start_time": "2021-12-28T02:45:52.300Z"
   },
   {
    "duration": 10,
    "start_time": "2021-12-28T02:45:52.313Z"
   },
   {
    "duration": 30,
    "start_time": "2021-12-28T02:45:52.325Z"
   },
   {
    "duration": 4,
    "start_time": "2021-12-28T02:45:52.357Z"
   },
   {
    "duration": 8,
    "start_time": "2021-12-28T02:45:52.363Z"
   },
   {
    "duration": 18,
    "start_time": "2021-12-28T02:45:52.376Z"
   },
   {
    "duration": 694,
    "start_time": "2021-12-28T02:45:52.396Z"
   },
   {
    "duration": 598,
    "start_time": "2021-12-28T02:45:53.092Z"
   },
   {
    "duration": 38,
    "start_time": "2021-12-28T02:45:53.692Z"
   },
   {
    "duration": 718,
    "start_time": "2021-12-28T02:45:53.732Z"
   },
   {
    "duration": 11,
    "start_time": "2021-12-28T02:45:54.453Z"
   },
   {
    "duration": 27,
    "start_time": "2021-12-28T02:45:54.466Z"
   },
   {
    "duration": 8,
    "start_time": "2021-12-28T02:45:54.524Z"
   },
   {
    "duration": 50,
    "start_time": "2021-12-28T02:45:54.535Z"
   },
   {
    "duration": 6,
    "start_time": "2021-12-28T02:45:54.587Z"
   },
   {
    "duration": 382,
    "start_time": "2021-12-28T02:45:54.624Z"
   },
   {
    "duration": 28,
    "start_time": "2021-12-28T02:45:55.009Z"
   },
   {
    "duration": 32,
    "start_time": "2021-12-28T02:45:55.039Z"
   },
   {
    "duration": 815,
    "start_time": "2021-12-28T02:45:55.074Z"
   },
   {
    "duration": 3,
    "start_time": "2021-12-28T02:45:55.891Z"
   },
   {
    "duration": 808,
    "start_time": "2021-12-28T02:45:55.896Z"
   },
   {
    "duration": 3,
    "start_time": "2021-12-28T02:45:56.707Z"
   },
   {
    "duration": 3,
    "start_time": "2021-12-28T02:45:56.724Z"
   },
   {
    "duration": 25,
    "start_time": "2021-12-28T02:45:56.729Z"
   },
   {
    "duration": 79,
    "start_time": "2021-12-28T02:45:56.756Z"
   },
   {
    "duration": 49,
    "start_time": "2021-12-28T02:45:56.837Z"
   },
   {
    "duration": 79,
    "start_time": "2021-12-28T02:45:56.889Z"
   },
   {
    "duration": 17,
    "start_time": "2021-12-28T02:45:56.971Z"
   },
   {
    "duration": 49,
    "start_time": "2021-12-28T02:45:56.990Z"
   },
   {
    "duration": 22,
    "start_time": "2021-12-28T02:45:57.041Z"
   },
   {
    "duration": 15,
    "start_time": "2021-12-28T02:45:57.065Z"
   },
   {
    "duration": 406,
    "start_time": "2021-12-28T02:46:47.465Z"
   },
   {
    "duration": 378,
    "start_time": "2021-12-28T02:46:57.650Z"
   },
   {
    "duration": 394,
    "start_time": "2021-12-28T02:47:10.092Z"
   },
   {
    "duration": 771,
    "start_time": "2021-12-28T02:49:03.065Z"
   },
   {
    "duration": 4,
    "start_time": "2021-12-28T02:49:10.465Z"
   },
   {
    "duration": 3,
    "start_time": "2021-12-28T02:57:10.921Z"
   },
   {
    "duration": 1454,
    "start_time": "2021-12-28T02:59:09.840Z"
   },
   {
    "duration": 49,
    "start_time": "2021-12-28T02:59:11.297Z"
   },
   {
    "duration": 91,
    "start_time": "2021-12-28T02:59:11.349Z"
   },
   {
    "duration": 13,
    "start_time": "2021-12-28T02:59:11.442Z"
   },
   {
    "duration": 27,
    "start_time": "2021-12-28T02:59:11.458Z"
   },
   {
    "duration": 3,
    "start_time": "2021-12-28T02:59:11.488Z"
   },
   {
    "duration": 33,
    "start_time": "2021-12-28T02:59:11.493Z"
   },
   {
    "duration": 9,
    "start_time": "2021-12-28T02:59:11.532Z"
   },
   {
    "duration": 27,
    "start_time": "2021-12-28T02:59:11.545Z"
   },
   {
    "duration": 8,
    "start_time": "2021-12-28T02:59:11.575Z"
   },
   {
    "duration": 14,
    "start_time": "2021-12-28T02:59:11.623Z"
   },
   {
    "duration": 5,
    "start_time": "2021-12-28T02:59:11.640Z"
   },
   {
    "duration": 8,
    "start_time": "2021-12-28T02:59:11.648Z"
   },
   {
    "duration": 21,
    "start_time": "2021-12-28T02:59:11.658Z"
   },
   {
    "duration": 72,
    "start_time": "2021-12-28T02:59:11.682Z"
   },
   {
    "duration": 9,
    "start_time": "2021-12-28T02:59:11.757Z"
   },
   {
    "duration": 7,
    "start_time": "2021-12-28T02:59:11.769Z"
   },
   {
    "duration": 5,
    "start_time": "2021-12-28T02:59:11.778Z"
   },
   {
    "duration": 41,
    "start_time": "2021-12-28T02:59:11.786Z"
   },
   {
    "duration": 34,
    "start_time": "2021-12-28T02:59:11.830Z"
   },
   {
    "duration": 3,
    "start_time": "2021-12-28T02:59:11.866Z"
   },
   {
    "duration": 11,
    "start_time": "2021-12-28T02:59:11.872Z"
   },
   {
    "duration": 37,
    "start_time": "2021-12-28T02:59:11.888Z"
   },
   {
    "duration": 656,
    "start_time": "2021-12-28T02:59:11.930Z"
   },
   {
    "duration": 613,
    "start_time": "2021-12-28T02:59:12.588Z"
   },
   {
    "duration": 41,
    "start_time": "2021-12-28T02:59:13.204Z"
   },
   {
    "duration": 710,
    "start_time": "2021-12-28T02:59:13.249Z"
   },
   {
    "duration": 8,
    "start_time": "2021-12-28T02:59:13.961Z"
   },
   {
    "duration": 21,
    "start_time": "2021-12-28T02:59:13.971Z"
   },
   {
    "duration": 7,
    "start_time": "2021-12-28T02:59:13.995Z"
   },
   {
    "duration": 49,
    "start_time": "2021-12-28T02:59:14.024Z"
   },
   {
    "duration": 6,
    "start_time": "2021-12-28T02:59:14.075Z"
   },
   {
    "duration": 502,
    "start_time": "2021-12-28T02:59:14.083Z"
   },
   {
    "duration": 36,
    "start_time": "2021-12-28T02:59:14.588Z"
   },
   {
    "duration": 25,
    "start_time": "2021-12-28T02:59:14.628Z"
   },
   {
    "duration": 784,
    "start_time": "2021-12-28T02:59:14.655Z"
   },
   {
    "duration": 3,
    "start_time": "2021-12-28T02:59:15.442Z"
   },
   {
    "duration": 799,
    "start_time": "2021-12-28T02:59:15.447Z"
   },
   {
    "duration": 2,
    "start_time": "2021-12-28T02:59:16.249Z"
   },
   {
    "duration": 7,
    "start_time": "2021-12-28T02:59:16.253Z"
   },
   {
    "duration": 21,
    "start_time": "2021-12-28T02:59:16.262Z"
   },
   {
    "duration": 82,
    "start_time": "2021-12-28T02:59:16.285Z"
   },
   {
    "duration": 83,
    "start_time": "2021-12-28T02:59:16.369Z"
   },
   {
    "duration": 71,
    "start_time": "2021-12-28T02:59:16.454Z"
   },
   {
    "duration": 19,
    "start_time": "2021-12-28T02:59:16.528Z"
   },
   {
    "duration": 15,
    "start_time": "2021-12-28T02:59:16.550Z"
   },
   {
    "duration": 16,
    "start_time": "2021-12-28T02:59:16.567Z"
   },
   {
    "duration": 50,
    "start_time": "2021-12-28T02:59:16.585Z"
   },
   {
    "duration": 98,
    "start_time": "2021-12-28T03:02:13.840Z"
   },
   {
    "duration": 1462,
    "start_time": "2021-12-28T03:16:20.491Z"
   },
   {
    "duration": 43,
    "start_time": "2021-12-28T03:16:21.956Z"
   },
   {
    "duration": 88,
    "start_time": "2021-12-28T03:16:22.003Z"
   },
   {
    "duration": 29,
    "start_time": "2021-12-28T03:16:22.094Z"
   },
   {
    "duration": 21,
    "start_time": "2021-12-28T03:16:22.125Z"
   },
   {
    "duration": 3,
    "start_time": "2021-12-28T03:16:22.148Z"
   },
   {
    "duration": 8,
    "start_time": "2021-12-28T03:16:22.153Z"
   },
   {
    "duration": 7,
    "start_time": "2021-12-28T03:16:22.166Z"
   },
   {
    "duration": 55,
    "start_time": "2021-12-28T03:16:22.176Z"
   },
   {
    "duration": 7,
    "start_time": "2021-12-28T03:16:22.234Z"
   },
   {
    "duration": 13,
    "start_time": "2021-12-28T03:16:22.243Z"
   },
   {
    "duration": 2,
    "start_time": "2021-12-28T03:16:22.258Z"
   },
   {
    "duration": 9,
    "start_time": "2021-12-28T03:16:22.262Z"
   },
   {
    "duration": 56,
    "start_time": "2021-12-28T03:16:22.273Z"
   },
   {
    "duration": 33,
    "start_time": "2021-12-28T03:16:22.331Z"
   },
   {
    "duration": 8,
    "start_time": "2021-12-28T03:16:22.367Z"
   },
   {
    "duration": 6,
    "start_time": "2021-12-28T03:16:22.377Z"
   },
   {
    "duration": 7,
    "start_time": "2021-12-28T03:16:22.385Z"
   },
   {
    "duration": 5,
    "start_time": "2021-12-28T03:16:22.423Z"
   },
   {
    "duration": 22,
    "start_time": "2021-12-28T03:16:22.430Z"
   },
   {
    "duration": 3,
    "start_time": "2021-12-28T03:16:22.454Z"
   },
   {
    "duration": 9,
    "start_time": "2021-12-28T03:16:22.459Z"
   },
   {
    "duration": 50,
    "start_time": "2021-12-28T03:16:22.473Z"
   },
   {
    "duration": 630,
    "start_time": "2021-12-28T03:16:22.526Z"
   },
   {
    "duration": 683,
    "start_time": "2021-12-28T03:16:23.159Z"
   },
   {
    "duration": 24,
    "start_time": "2021-12-28T03:16:23.844Z"
   },
   {
    "duration": 671,
    "start_time": "2021-12-28T03:16:23.870Z"
   },
   {
    "duration": 8,
    "start_time": "2021-12-28T03:16:24.544Z"
   },
   {
    "duration": 22,
    "start_time": "2021-12-28T03:16:24.555Z"
   },
   {
    "duration": 9,
    "start_time": "2021-12-28T03:16:24.579Z"
   },
   {
    "duration": 79,
    "start_time": "2021-12-28T03:16:24.590Z"
   },
   {
    "duration": 6,
    "start_time": "2021-12-28T03:16:24.671Z"
   },
   {
    "duration": 377,
    "start_time": "2021-12-28T03:16:24.679Z"
   },
   {
    "duration": 2,
    "start_time": "2021-12-28T03:16:25.059Z"
   },
   {
    "duration": 30,
    "start_time": "2021-12-28T03:16:25.063Z"
   },
   {
    "duration": 887,
    "start_time": "2021-12-28T03:16:25.096Z"
   },
   {
    "duration": 3,
    "start_time": "2021-12-28T03:16:25.986Z"
   },
   {
    "duration": 732,
    "start_time": "2021-12-28T03:16:25.991Z"
   },
   {
    "duration": 3,
    "start_time": "2021-12-28T03:16:26.725Z"
   },
   {
    "duration": 8,
    "start_time": "2021-12-28T03:16:26.730Z"
   },
   {
    "duration": 21,
    "start_time": "2021-12-28T03:16:26.741Z"
   },
   {
    "duration": 76,
    "start_time": "2021-12-28T03:16:26.765Z"
   },
   {
    "duration": 52,
    "start_time": "2021-12-28T03:16:26.844Z"
   },
   {
    "duration": 51,
    "start_time": "2021-12-28T03:16:26.922Z"
   },
   {
    "duration": 19,
    "start_time": "2021-12-28T03:16:26.976Z"
   },
   {
    "duration": 18,
    "start_time": "2021-12-28T03:16:27.024Z"
   },
   {
    "duration": 20,
    "start_time": "2021-12-28T03:16:27.044Z"
   },
   {
    "duration": 18,
    "start_time": "2021-12-28T03:16:27.066Z"
   },
   {
    "duration": 1429,
    "start_time": "2021-12-28T03:25:18.749Z"
   },
   {
    "duration": 48,
    "start_time": "2021-12-28T03:25:20.180Z"
   },
   {
    "duration": 95,
    "start_time": "2021-12-28T03:25:20.231Z"
   },
   {
    "duration": 14,
    "start_time": "2021-12-28T03:25:20.330Z"
   },
   {
    "duration": 26,
    "start_time": "2021-12-28T03:25:20.347Z"
   },
   {
    "duration": 3,
    "start_time": "2021-12-28T03:25:20.376Z"
   },
   {
    "duration": 43,
    "start_time": "2021-12-28T03:25:20.382Z"
   },
   {
    "duration": 7,
    "start_time": "2021-12-28T03:25:20.428Z"
   },
   {
    "duration": 21,
    "start_time": "2021-12-28T03:25:20.441Z"
   },
   {
    "duration": 6,
    "start_time": "2021-12-28T03:25:20.466Z"
   },
   {
    "duration": 53,
    "start_time": "2021-12-28T03:25:20.474Z"
   },
   {
    "duration": 3,
    "start_time": "2021-12-28T03:25:20.530Z"
   },
   {
    "duration": 8,
    "start_time": "2021-12-28T03:25:20.535Z"
   },
   {
    "duration": 20,
    "start_time": "2021-12-28T03:25:20.545Z"
   },
   {
    "duration": 65,
    "start_time": "2021-12-28T03:25:20.567Z"
   },
   {
    "duration": 9,
    "start_time": "2021-12-28T03:25:20.634Z"
   },
   {
    "duration": 6,
    "start_time": "2021-12-28T03:25:20.645Z"
   },
   {
    "duration": 8,
    "start_time": "2021-12-28T03:25:20.653Z"
   },
   {
    "duration": 17,
    "start_time": "2021-12-28T03:25:20.663Z"
   },
   {
    "duration": 42,
    "start_time": "2021-12-28T03:25:20.682Z"
   },
   {
    "duration": 2,
    "start_time": "2021-12-28T03:25:20.727Z"
   },
   {
    "duration": 8,
    "start_time": "2021-12-28T03:25:20.732Z"
   },
   {
    "duration": 20,
    "start_time": "2021-12-28T03:25:20.742Z"
   },
   {
    "duration": 635,
    "start_time": "2021-12-28T03:25:20.764Z"
   },
   {
    "duration": 544,
    "start_time": "2021-12-28T03:25:21.402Z"
   },
   {
    "duration": 21,
    "start_time": "2021-12-28T03:25:21.948Z"
   },
   {
    "duration": 639,
    "start_time": "2021-12-28T03:25:21.974Z"
   },
   {
    "duration": 8,
    "start_time": "2021-12-28T03:25:22.623Z"
   },
   {
    "duration": 39,
    "start_time": "2021-12-28T03:25:22.633Z"
   },
   {
    "duration": 13,
    "start_time": "2021-12-28T03:25:22.674Z"
   },
   {
    "duration": 55,
    "start_time": "2021-12-28T03:25:22.689Z"
   },
   {
    "duration": 5,
    "start_time": "2021-12-28T03:25:22.747Z"
   },
   {
    "duration": 363,
    "start_time": "2021-12-28T03:25:22.755Z"
   },
   {
    "duration": 3,
    "start_time": "2021-12-28T03:25:23.121Z"
   },
   {
    "duration": 38,
    "start_time": "2021-12-28T03:25:23.126Z"
   },
   {
    "duration": 115,
    "start_time": "2021-12-28T03:25:23.166Z"
   },
   {
    "duration": -1030,
    "start_time": "2021-12-28T03:25:24.314Z"
   },
   {
    "duration": -1032,
    "start_time": "2021-12-28T03:25:24.317Z"
   },
   {
    "duration": -1034,
    "start_time": "2021-12-28T03:25:24.320Z"
   },
   {
    "duration": -1035,
    "start_time": "2021-12-28T03:25:24.323Z"
   },
   {
    "duration": -1036,
    "start_time": "2021-12-28T03:25:24.326Z"
   },
   {
    "duration": -1038,
    "start_time": "2021-12-28T03:25:24.329Z"
   },
   {
    "duration": -1040,
    "start_time": "2021-12-28T03:25:24.332Z"
   },
   {
    "duration": -1042,
    "start_time": "2021-12-28T03:25:24.335Z"
   },
   {
    "duration": -1043,
    "start_time": "2021-12-28T03:25:24.338Z"
   },
   {
    "duration": -1045,
    "start_time": "2021-12-28T03:25:24.341Z"
   },
   {
    "duration": -1046,
    "start_time": "2021-12-28T03:25:24.344Z"
   },
   {
    "duration": -1053,
    "start_time": "2021-12-28T03:25:24.352Z"
   },
   {
    "duration": 1437,
    "start_time": "2021-12-28T03:28:37.387Z"
   },
   {
    "duration": 43,
    "start_time": "2021-12-28T03:28:38.826Z"
   },
   {
    "duration": 93,
    "start_time": "2021-12-28T03:28:38.872Z"
   },
   {
    "duration": 13,
    "start_time": "2021-12-28T03:28:38.967Z"
   },
   {
    "duration": 21,
    "start_time": "2021-12-28T03:28:38.982Z"
   },
   {
    "duration": 3,
    "start_time": "2021-12-28T03:28:39.005Z"
   },
   {
    "duration": 13,
    "start_time": "2021-12-28T03:28:39.011Z"
   },
   {
    "duration": 6,
    "start_time": "2021-12-28T03:28:39.028Z"
   },
   {
    "duration": 20,
    "start_time": "2021-12-28T03:28:39.036Z"
   },
   {
    "duration": 7,
    "start_time": "2021-12-28T03:28:39.058Z"
   },
   {
    "duration": 13,
    "start_time": "2021-12-28T03:28:39.067Z"
   },
   {
    "duration": 3,
    "start_time": "2021-12-28T03:28:39.082Z"
   },
   {
    "duration": 6,
    "start_time": "2021-12-28T03:28:39.087Z"
   },
   {
    "duration": 27,
    "start_time": "2021-12-28T03:28:39.096Z"
   },
   {
    "duration": 29,
    "start_time": "2021-12-28T03:28:39.125Z"
   },
   {
    "duration": 7,
    "start_time": "2021-12-28T03:28:39.156Z"
   },
   {
    "duration": 6,
    "start_time": "2021-12-28T03:28:39.165Z"
   },
   {
    "duration": 7,
    "start_time": "2021-12-28T03:28:39.173Z"
   },
   {
    "duration": 7,
    "start_time": "2021-12-28T03:28:39.182Z"
   },
   {
    "duration": 21,
    "start_time": "2021-12-28T03:28:39.191Z"
   },
   {
    "duration": 2,
    "start_time": "2021-12-28T03:28:39.214Z"
   },
   {
    "duration": 9,
    "start_time": "2021-12-28T03:28:39.218Z"
   },
   {
    "duration": 19,
    "start_time": "2021-12-28T03:28:39.232Z"
   },
   {
    "duration": 644,
    "start_time": "2021-12-28T03:28:39.254Z"
   },
   {
    "duration": 864,
    "start_time": "2021-12-28T03:28:39.900Z"
   },
   {
    "duration": 23,
    "start_time": "2021-12-28T03:28:40.766Z"
   },
   {
    "duration": 636,
    "start_time": "2021-12-28T03:28:40.792Z"
   },
   {
    "duration": 11,
    "start_time": "2021-12-28T03:28:41.431Z"
   },
   {
    "duration": 21,
    "start_time": "2021-12-28T03:28:41.444Z"
   },
   {
    "duration": 13,
    "start_time": "2021-12-28T03:28:41.467Z"
   },
   {
    "duration": 80,
    "start_time": "2021-12-28T03:28:41.482Z"
   },
   {
    "duration": 6,
    "start_time": "2021-12-28T03:28:41.564Z"
   },
   {
    "duration": 380,
    "start_time": "2021-12-28T03:28:41.573Z"
   },
   {
    "duration": 4,
    "start_time": "2021-12-28T03:28:41.956Z"
   },
   {
    "duration": 25,
    "start_time": "2021-12-28T03:28:41.963Z"
   },
   {
    "duration": 907,
    "start_time": "2021-12-28T03:28:41.991Z"
   },
   {
    "duration": 4,
    "start_time": "2021-12-28T03:28:42.901Z"
   },
   {
    "duration": 786,
    "start_time": "2021-12-28T03:28:42.907Z"
   },
   {
    "duration": 3,
    "start_time": "2021-12-28T03:28:43.695Z"
   },
   {
    "duration": 9,
    "start_time": "2021-12-28T03:28:43.700Z"
   },
   {
    "duration": 20,
    "start_time": "2021-12-28T03:28:43.723Z"
   },
   {
    "duration": 44,
    "start_time": "2021-12-28T03:28:43.746Z"
   },
   {
    "duration": 75,
    "start_time": "2021-12-28T03:28:43.793Z"
   },
   {
    "duration": 71,
    "start_time": "2021-12-28T03:28:43.871Z"
   },
   {
    "duration": 17,
    "start_time": "2021-12-28T03:28:43.944Z"
   },
   {
    "duration": 15,
    "start_time": "2021-12-28T03:28:43.963Z"
   },
   {
    "duration": 49,
    "start_time": "2021-12-28T03:28:43.981Z"
   },
   {
    "duration": 16,
    "start_time": "2021-12-28T03:28:44.033Z"
   },
   {
    "duration": 1512,
    "start_time": "2021-12-28T09:55:36.737Z"
   },
   {
    "duration": 49,
    "start_time": "2021-12-28T09:55:38.251Z"
   },
   {
    "duration": 94,
    "start_time": "2021-12-28T09:55:38.306Z"
   },
   {
    "duration": 14,
    "start_time": "2021-12-28T09:55:38.402Z"
   },
   {
    "duration": 45,
    "start_time": "2021-12-28T09:55:38.419Z"
   },
   {
    "duration": 3,
    "start_time": "2021-12-28T09:55:38.467Z"
   },
   {
    "duration": 8,
    "start_time": "2021-12-28T09:55:38.472Z"
   },
   {
    "duration": 5,
    "start_time": "2021-12-28T09:55:38.484Z"
   },
   {
    "duration": 20,
    "start_time": "2021-12-28T09:55:38.492Z"
   },
   {
    "duration": 50,
    "start_time": "2021-12-28T09:55:38.515Z"
   },
   {
    "duration": 12,
    "start_time": "2021-12-28T09:55:38.567Z"
   },
   {
    "duration": 3,
    "start_time": "2021-12-28T09:55:38.582Z"
   },
   {
    "duration": 7,
    "start_time": "2021-12-28T09:55:38.588Z"
   },
   {
    "duration": 23,
    "start_time": "2021-12-28T09:55:38.598Z"
   },
   {
    "duration": 65,
    "start_time": "2021-12-28T09:55:38.623Z"
   },
   {
    "duration": 9,
    "start_time": "2021-12-28T09:55:38.690Z"
   },
   {
    "duration": 20,
    "start_time": "2021-12-28T09:55:38.701Z"
   },
   {
    "duration": 9,
    "start_time": "2021-12-28T09:55:38.724Z"
   },
   {
    "duration": 27,
    "start_time": "2021-12-28T09:55:38.735Z"
   },
   {
    "duration": 37,
    "start_time": "2021-12-28T09:55:38.765Z"
   },
   {
    "duration": 4,
    "start_time": "2021-12-28T09:55:38.804Z"
   },
   {
    "duration": 30,
    "start_time": "2021-12-28T09:55:38.810Z"
   },
   {
    "duration": 36,
    "start_time": "2021-12-28T09:55:38.843Z"
   },
   {
    "duration": 693,
    "start_time": "2021-12-28T09:55:38.882Z"
   },
   {
    "duration": 628,
    "start_time": "2021-12-28T09:55:39.578Z"
   },
   {
    "duration": 24,
    "start_time": "2021-12-28T09:55:40.212Z"
   },
   {
    "duration": 757,
    "start_time": "2021-12-28T09:55:40.240Z"
   },
   {
    "duration": 8,
    "start_time": "2021-12-28T09:55:40.999Z"
   },
   {
    "duration": 23,
    "start_time": "2021-12-28T09:55:41.009Z"
   },
   {
    "duration": 30,
    "start_time": "2021-12-28T09:55:41.034Z"
   },
   {
    "duration": 48,
    "start_time": "2021-12-28T09:55:41.067Z"
   },
   {
    "duration": 9,
    "start_time": "2021-12-28T09:55:41.118Z"
   },
   {
    "duration": 512,
    "start_time": "2021-12-28T09:55:41.162Z"
   },
   {
    "duration": 3,
    "start_time": "2021-12-28T09:55:41.676Z"
   },
   {
    "duration": 29,
    "start_time": "2021-12-28T09:55:41.682Z"
   },
   {
    "duration": 943,
    "start_time": "2021-12-28T09:55:41.714Z"
   },
   {
    "duration": 4,
    "start_time": "2021-12-28T09:55:42.663Z"
   },
   {
    "duration": 751,
    "start_time": "2021-12-28T09:55:42.671Z"
   },
   {
    "duration": 4,
    "start_time": "2021-12-28T09:55:43.424Z"
   },
   {
    "duration": 6,
    "start_time": "2021-12-28T09:55:43.430Z"
   },
   {
    "duration": 42,
    "start_time": "2021-12-28T09:55:43.438Z"
   },
   {
    "duration": 55,
    "start_time": "2021-12-28T09:55:43.483Z"
   },
   {
    "duration": 53,
    "start_time": "2021-12-28T09:55:43.564Z"
   },
   {
    "duration": 84,
    "start_time": "2021-12-28T09:55:43.620Z"
   },
   {
    "duration": 18,
    "start_time": "2021-12-28T09:55:43.706Z"
   },
   {
    "duration": 46,
    "start_time": "2021-12-28T09:55:43.727Z"
   },
   {
    "duration": 18,
    "start_time": "2021-12-28T09:55:43.776Z"
   },
   {
    "duration": 16,
    "start_time": "2021-12-28T09:55:43.796Z"
   },
   {
    "duration": 6285,
    "start_time": "2021-12-28T09:56:32.048Z"
   },
   {
    "duration": 6,
    "start_time": "2021-12-28T09:57:13.309Z"
   },
   {
    "duration": 1539,
    "start_time": "2021-12-28T09:57:20.798Z"
   },
   {
    "duration": 53,
    "start_time": "2021-12-28T09:57:22.340Z"
   },
   {
    "duration": 103,
    "start_time": "2021-12-28T09:57:22.397Z"
   },
   {
    "duration": 22,
    "start_time": "2021-12-28T09:57:22.504Z"
   },
   {
    "duration": 46,
    "start_time": "2021-12-28T09:57:22.528Z"
   },
   {
    "duration": 3,
    "start_time": "2021-12-28T09:57:22.577Z"
   },
   {
    "duration": 9,
    "start_time": "2021-12-28T09:57:22.582Z"
   },
   {
    "duration": 7,
    "start_time": "2021-12-28T09:57:22.596Z"
   },
   {
    "duration": 20,
    "start_time": "2021-12-28T09:57:22.608Z"
   },
   {
    "duration": 37,
    "start_time": "2021-12-28T09:57:22.631Z"
   },
   {
    "duration": 20,
    "start_time": "2021-12-28T09:57:22.670Z"
   },
   {
    "duration": 8,
    "start_time": "2021-12-28T09:57:22.692Z"
   },
   {
    "duration": 18,
    "start_time": "2021-12-28T09:57:22.703Z"
   },
   {
    "duration": 45,
    "start_time": "2021-12-28T09:57:22.723Z"
   },
   {
    "duration": 37,
    "start_time": "2021-12-28T09:57:22.771Z"
   },
   {
    "duration": 11,
    "start_time": "2021-12-28T09:57:22.811Z"
   },
   {
    "duration": 12,
    "start_time": "2021-12-28T09:57:22.825Z"
   },
   {
    "duration": 33,
    "start_time": "2021-12-28T09:57:22.839Z"
   },
   {
    "duration": 6,
    "start_time": "2021-12-28T09:57:22.875Z"
   },
   {
    "duration": 30,
    "start_time": "2021-12-28T09:57:22.884Z"
   },
   {
    "duration": 3,
    "start_time": "2021-12-28T09:57:22.917Z"
   },
   {
    "duration": 40,
    "start_time": "2021-12-28T09:57:22.923Z"
   },
   {
    "duration": 28,
    "start_time": "2021-12-28T09:57:22.968Z"
   },
   {
    "duration": 815,
    "start_time": "2021-12-28T09:57:23.000Z"
   },
   {
    "duration": 852,
    "start_time": "2021-12-28T09:57:23.817Z"
   },
   {
    "duration": 28,
    "start_time": "2021-12-28T09:57:24.672Z"
   },
   {
    "duration": 821,
    "start_time": "2021-12-28T09:57:24.703Z"
   },
   {
    "duration": 8,
    "start_time": "2021-12-28T09:57:25.527Z"
   },
   {
    "duration": 42,
    "start_time": "2021-12-28T09:57:25.538Z"
   },
   {
    "duration": 9,
    "start_time": "2021-12-28T09:57:25.582Z"
   },
   {
    "duration": 71,
    "start_time": "2021-12-28T09:57:25.593Z"
   },
   {
    "duration": 7,
    "start_time": "2021-12-28T09:57:25.666Z"
   },
   {
    "duration": 414,
    "start_time": "2021-12-28T09:57:25.675Z"
   },
   {
    "duration": 3,
    "start_time": "2021-12-28T09:57:26.092Z"
   },
   {
    "duration": 33,
    "start_time": "2021-12-28T09:57:26.097Z"
   },
   {
    "duration": 952,
    "start_time": "2021-12-28T09:57:26.132Z"
   },
   {
    "duration": 2,
    "start_time": "2021-12-28T09:57:27.087Z"
   },
   {
    "duration": 763,
    "start_time": "2021-12-28T09:57:27.092Z"
   },
   {
    "duration": 3,
    "start_time": "2021-12-28T09:57:27.862Z"
   },
   {
    "duration": 12,
    "start_time": "2021-12-28T09:57:27.867Z"
   },
   {
    "duration": 44,
    "start_time": "2021-12-28T09:57:27.881Z"
   },
   {
    "duration": 52,
    "start_time": "2021-12-28T09:57:27.928Z"
   },
   {
    "duration": 50,
    "start_time": "2021-12-28T09:57:27.982Z"
   },
   {
    "duration": 78,
    "start_time": "2021-12-28T09:57:28.034Z"
   },
   {
    "duration": 18,
    "start_time": "2021-12-28T09:57:28.114Z"
   },
   {
    "duration": 16,
    "start_time": "2021-12-28T09:57:28.164Z"
   },
   {
    "duration": 26,
    "start_time": "2021-12-28T09:57:28.182Z"
   },
   {
    "duration": 16,
    "start_time": "2021-12-28T09:57:28.210Z"
   },
   {
    "duration": 386,
    "start_time": "2021-12-28T10:01:57.605Z"
   },
   {
    "duration": 37,
    "start_time": "2021-12-28T10:02:05.807Z"
   },
   {
    "duration": 13,
    "start_time": "2021-12-28T10:02:29.738Z"
   },
   {
    "duration": 12,
    "start_time": "2021-12-28T10:03:08.836Z"
   },
   {
    "duration": 760,
    "start_time": "2021-12-28T10:05:33.330Z"
   },
   {
    "duration": 1528,
    "start_time": "2021-12-28T10:07:33.526Z"
   },
   {
    "duration": 51,
    "start_time": "2021-12-28T10:07:35.057Z"
   },
   {
    "duration": 89,
    "start_time": "2021-12-28T10:07:35.114Z"
   },
   {
    "duration": 12,
    "start_time": "2021-12-28T10:07:35.206Z"
   },
   {
    "duration": 45,
    "start_time": "2021-12-28T10:07:35.220Z"
   },
   {
    "duration": 2,
    "start_time": "2021-12-28T10:07:35.268Z"
   },
   {
    "duration": 7,
    "start_time": "2021-12-28T10:07:35.274Z"
   },
   {
    "duration": 6,
    "start_time": "2021-12-28T10:07:35.283Z"
   },
   {
    "duration": 23,
    "start_time": "2021-12-28T10:07:35.291Z"
   },
   {
    "duration": 48,
    "start_time": "2021-12-28T10:07:35.317Z"
   },
   {
    "duration": 12,
    "start_time": "2021-12-28T10:07:35.367Z"
   },
   {
    "duration": 2,
    "start_time": "2021-12-28T10:07:35.382Z"
   },
   {
    "duration": 6,
    "start_time": "2021-12-28T10:07:35.387Z"
   },
   {
    "duration": 19,
    "start_time": "2021-12-28T10:07:35.395Z"
   },
   {
    "duration": 90,
    "start_time": "2021-12-28T10:07:35.416Z"
   },
   {
    "duration": 8,
    "start_time": "2021-12-28T10:07:35.509Z"
   },
   {
    "duration": 4,
    "start_time": "2021-12-28T10:07:35.520Z"
   },
   {
    "duration": 7,
    "start_time": "2021-12-28T10:07:35.526Z"
   },
   {
    "duration": 6,
    "start_time": "2021-12-28T10:07:35.536Z"
   },
   {
    "duration": 21,
    "start_time": "2021-12-28T10:07:35.563Z"
   },
   {
    "duration": 3,
    "start_time": "2021-12-28T10:07:35.587Z"
   },
   {
    "duration": 6,
    "start_time": "2021-12-28T10:07:35.595Z"
   },
   {
    "duration": 21,
    "start_time": "2021-12-28T10:07:35.605Z"
   },
   {
    "duration": 702,
    "start_time": "2021-12-28T10:07:35.664Z"
   },
   {
    "duration": 652,
    "start_time": "2021-12-28T10:07:36.369Z"
   },
   {
    "duration": 39,
    "start_time": "2021-12-28T10:07:37.023Z"
   },
   {
    "duration": 700,
    "start_time": "2021-12-28T10:07:37.064Z"
   },
   {
    "duration": 8,
    "start_time": "2021-12-28T10:07:37.766Z"
   },
   {
    "duration": 21,
    "start_time": "2021-12-28T10:07:37.777Z"
   },
   {
    "duration": 10,
    "start_time": "2021-12-28T10:07:37.800Z"
   },
   {
    "duration": 85,
    "start_time": "2021-12-28T10:07:37.812Z"
   },
   {
    "duration": 6,
    "start_time": "2021-12-28T10:07:37.899Z"
   },
   {
    "duration": 413,
    "start_time": "2021-12-28T10:07:37.907Z"
   },
   {
    "duration": 13,
    "start_time": "2021-12-28T10:07:38.323Z"
   },
   {
    "duration": 7,
    "start_time": "2021-12-28T10:07:38.339Z"
   },
   {
    "duration": 24,
    "start_time": "2021-12-28T10:07:38.364Z"
   },
   {
    "duration": 893,
    "start_time": "2021-12-28T10:07:38.390Z"
   },
   {
    "duration": 3,
    "start_time": "2021-12-28T10:07:39.285Z"
   },
   {
    "duration": 761,
    "start_time": "2021-12-28T10:07:39.291Z"
   },
   {
    "duration": 9,
    "start_time": "2021-12-28T10:07:40.055Z"
   },
   {
    "duration": 6,
    "start_time": "2021-12-28T10:07:40.066Z"
   },
   {
    "duration": 23,
    "start_time": "2021-12-28T10:07:40.074Z"
   },
   {
    "duration": 85,
    "start_time": "2021-12-28T10:07:40.100Z"
   },
   {
    "duration": 76,
    "start_time": "2021-12-28T10:07:40.187Z"
   },
   {
    "duration": 53,
    "start_time": "2021-12-28T10:07:40.265Z"
   },
   {
    "duration": 47,
    "start_time": "2021-12-28T10:07:40.321Z"
   },
   {
    "duration": 18,
    "start_time": "2021-12-28T10:07:40.371Z"
   },
   {
    "duration": 20,
    "start_time": "2021-12-28T10:07:40.392Z"
   },
   {
    "duration": 59,
    "start_time": "2021-12-28T10:07:40.414Z"
   },
   {
    "duration": 15,
    "start_time": "2021-12-28T10:14:02.359Z"
   },
   {
    "duration": 21,
    "start_time": "2021-12-28T10:14:10.209Z"
   },
   {
    "duration": 1566,
    "start_time": "2021-12-28T10:15:04.933Z"
   },
   {
    "duration": 51,
    "start_time": "2021-12-28T10:15:06.502Z"
   },
   {
    "duration": 87,
    "start_time": "2021-12-28T10:15:06.556Z"
   },
   {
    "duration": 15,
    "start_time": "2021-12-28T10:15:06.663Z"
   },
   {
    "duration": 25,
    "start_time": "2021-12-28T10:15:06.680Z"
   },
   {
    "duration": 3,
    "start_time": "2021-12-28T10:15:06.708Z"
   },
   {
    "duration": 9,
    "start_time": "2021-12-28T10:15:06.714Z"
   },
   {
    "duration": 7,
    "start_time": "2021-12-28T10:15:06.764Z"
   },
   {
    "duration": 21,
    "start_time": "2021-12-28T10:15:06.774Z"
   },
   {
    "duration": 7,
    "start_time": "2021-12-28T10:15:06.798Z"
   },
   {
    "duration": 16,
    "start_time": "2021-12-28T10:15:06.807Z"
   },
   {
    "duration": 39,
    "start_time": "2021-12-28T10:15:06.825Z"
   },
   {
    "duration": 14,
    "start_time": "2021-12-28T10:15:06.867Z"
   },
   {
    "duration": 26,
    "start_time": "2021-12-28T10:15:06.884Z"
   },
   {
    "duration": 54,
    "start_time": "2021-12-28T10:15:06.912Z"
   },
   {
    "duration": 9,
    "start_time": "2021-12-28T10:15:06.970Z"
   },
   {
    "duration": 22,
    "start_time": "2021-12-28T10:15:06.983Z"
   },
   {
    "duration": 9,
    "start_time": "2021-12-28T10:15:07.011Z"
   },
   {
    "duration": 6,
    "start_time": "2021-12-28T10:15:07.023Z"
   },
   {
    "duration": 61,
    "start_time": "2021-12-28T10:15:07.032Z"
   },
   {
    "duration": 4,
    "start_time": "2021-12-28T10:15:07.095Z"
   },
   {
    "duration": 10,
    "start_time": "2021-12-28T10:15:07.101Z"
   },
   {
    "duration": 46,
    "start_time": "2021-12-28T10:15:07.116Z"
   },
   {
    "duration": 830,
    "start_time": "2021-12-28T10:15:07.166Z"
   },
   {
    "duration": 636,
    "start_time": "2021-12-28T10:15:08.000Z"
   },
   {
    "duration": 35,
    "start_time": "2021-12-28T10:15:08.639Z"
   },
   {
    "duration": 724,
    "start_time": "2021-12-28T10:15:08.677Z"
   },
   {
    "duration": 9,
    "start_time": "2021-12-28T10:15:09.404Z"
   },
   {
    "duration": 48,
    "start_time": "2021-12-28T10:15:09.416Z"
   },
   {
    "duration": 29,
    "start_time": "2021-12-28T10:15:09.466Z"
   },
   {
    "duration": 90,
    "start_time": "2021-12-28T10:15:09.498Z"
   },
   {
    "duration": 6,
    "start_time": "2021-12-28T10:15:09.591Z"
   },
   {
    "duration": 428,
    "start_time": "2021-12-28T10:15:09.599Z"
   },
   {
    "duration": 14,
    "start_time": "2021-12-28T10:15:10.029Z"
   },
   {
    "duration": 24,
    "start_time": "2021-12-28T10:15:10.045Z"
   },
   {
    "duration": 27,
    "start_time": "2021-12-28T10:15:10.072Z"
   },
   {
    "duration": 897,
    "start_time": "2021-12-28T10:15:10.102Z"
   },
   {
    "duration": 3,
    "start_time": "2021-12-28T10:15:11.001Z"
   },
   {
    "duration": 840,
    "start_time": "2021-12-28T10:15:11.007Z"
   },
   {
    "duration": 3,
    "start_time": "2021-12-28T10:15:11.849Z"
   },
   {
    "duration": 12,
    "start_time": "2021-12-28T10:15:11.854Z"
   },
   {
    "duration": 23,
    "start_time": "2021-12-28T10:15:11.868Z"
   },
   {
    "duration": 80,
    "start_time": "2021-12-28T10:15:11.894Z"
   },
   {
    "duration": 49,
    "start_time": "2021-12-28T10:15:11.977Z"
   },
   {
    "duration": 80,
    "start_time": "2021-12-28T10:15:12.029Z"
   },
   {
    "duration": 17,
    "start_time": "2021-12-28T10:15:12.112Z"
   },
   {
    "duration": 50,
    "start_time": "2021-12-28T10:15:12.131Z"
   },
   {
    "duration": 23,
    "start_time": "2021-12-28T10:15:12.184Z"
   },
   {
    "duration": 17,
    "start_time": "2021-12-28T10:15:12.210Z"
   },
   {
    "duration": 21,
    "start_time": "2021-12-28T10:16:29.111Z"
   },
   {
    "duration": 21,
    "start_time": "2021-12-28T10:16:36.328Z"
   },
   {
    "duration": 1436,
    "start_time": "2021-12-28T10:17:03.514Z"
   },
   {
    "duration": 52,
    "start_time": "2021-12-28T10:17:04.953Z"
   },
   {
    "duration": 87,
    "start_time": "2021-12-28T10:17:05.008Z"
   },
   {
    "duration": 13,
    "start_time": "2021-12-28T10:17:05.098Z"
   },
   {
    "duration": 36,
    "start_time": "2021-12-28T10:17:05.113Z"
   },
   {
    "duration": 4,
    "start_time": "2021-12-28T10:17:05.164Z"
   },
   {
    "duration": 20,
    "start_time": "2021-12-28T10:17:05.171Z"
   },
   {
    "duration": 21,
    "start_time": "2021-12-28T10:17:05.194Z"
   },
   {
    "duration": 42,
    "start_time": "2021-12-28T10:17:05.218Z"
   },
   {
    "duration": 23,
    "start_time": "2021-12-28T10:17:05.262Z"
   },
   {
    "duration": 35,
    "start_time": "2021-12-28T10:17:05.288Z"
   },
   {
    "duration": 8,
    "start_time": "2021-12-28T10:17:05.326Z"
   },
   {
    "duration": 33,
    "start_time": "2021-12-28T10:17:05.336Z"
   },
   {
    "duration": 36,
    "start_time": "2021-12-28T10:17:05.372Z"
   },
   {
    "duration": 45,
    "start_time": "2021-12-28T10:17:05.411Z"
   },
   {
    "duration": 10,
    "start_time": "2021-12-28T10:17:05.459Z"
   },
   {
    "duration": 12,
    "start_time": "2021-12-28T10:17:05.472Z"
   },
   {
    "duration": 24,
    "start_time": "2021-12-28T10:17:05.486Z"
   },
   {
    "duration": 39,
    "start_time": "2021-12-28T10:17:05.513Z"
   },
   {
    "duration": 41,
    "start_time": "2021-12-28T10:17:05.555Z"
   },
   {
    "duration": 12,
    "start_time": "2021-12-28T10:17:05.599Z"
   },
   {
    "duration": 16,
    "start_time": "2021-12-28T10:17:05.614Z"
   },
   {
    "duration": 28,
    "start_time": "2021-12-28T10:17:05.635Z"
   },
   {
    "duration": 722,
    "start_time": "2021-12-28T10:17:05.666Z"
   },
   {
    "duration": 737,
    "start_time": "2021-12-28T10:17:06.390Z"
   },
   {
    "duration": 41,
    "start_time": "2021-12-28T10:17:07.130Z"
   },
   {
    "duration": 813,
    "start_time": "2021-12-28T10:17:07.173Z"
   },
   {
    "duration": 9,
    "start_time": "2021-12-28T10:17:07.988Z"
   },
   {
    "duration": 22,
    "start_time": "2021-12-28T10:17:07.999Z"
   },
   {
    "duration": 43,
    "start_time": "2021-12-28T10:17:08.024Z"
   },
   {
    "duration": 53,
    "start_time": "2021-12-28T10:17:08.071Z"
   },
   {
    "duration": 6,
    "start_time": "2021-12-28T10:17:08.127Z"
   },
   {
    "duration": 430,
    "start_time": "2021-12-28T10:17:08.136Z"
   },
   {
    "duration": 15,
    "start_time": "2021-12-28T10:17:08.569Z"
   },
   {
    "duration": 5,
    "start_time": "2021-12-28T10:17:08.586Z"
   },
   {
    "duration": 31,
    "start_time": "2021-12-28T10:17:08.594Z"
   },
   {
    "duration": 945,
    "start_time": "2021-12-28T10:17:08.627Z"
   },
   {
    "duration": 4,
    "start_time": "2021-12-28T10:17:09.574Z"
   },
   {
    "duration": 746,
    "start_time": "2021-12-28T10:17:09.580Z"
   },
   {
    "duration": 3,
    "start_time": "2021-12-28T10:17:10.328Z"
   },
   {
    "duration": 11,
    "start_time": "2021-12-28T10:17:10.333Z"
   },
   {
    "duration": 36,
    "start_time": "2021-12-28T10:17:10.346Z"
   },
   {
    "duration": 82,
    "start_time": "2021-12-28T10:17:10.384Z"
   },
   {
    "duration": 52,
    "start_time": "2021-12-28T10:17:10.469Z"
   },
   {
    "duration": 73,
    "start_time": "2021-12-28T10:17:10.524Z"
   },
   {
    "duration": 17,
    "start_time": "2021-12-28T10:17:10.600Z"
   },
   {
    "duration": 56,
    "start_time": "2021-12-28T10:17:10.621Z"
   },
   {
    "duration": 25,
    "start_time": "2021-12-28T10:17:10.681Z"
   },
   {
    "duration": 22,
    "start_time": "2021-12-28T10:17:10.709Z"
   }
  ],
  "kernelspec": {
   "display_name": "Python 3 (ipykernel)",
   "language": "python",
   "name": "python3"
  },
  "language_info": {
   "codemirror_mode": {
    "name": "ipython",
    "version": 3
   },
   "file_extension": ".py",
   "mimetype": "text/x-python",
   "name": "python",
   "nbconvert_exporter": "python",
   "pygments_lexer": "ipython3",
   "version": "3.9.5"
  },
  "toc": {
   "base_numbering": 1,
   "nav_menu": {},
   "number_sections": true,
   "sideBar": true,
   "skip_h1_title": true,
   "title_cell": "Table of Contents",
   "title_sidebar": "Contents",
   "toc_cell": false,
   "toc_position": {},
   "toc_section_display": true,
   "toc_window_display": false
  }
 },
 "nbformat": 4,
 "nbformat_minor": 2
}
