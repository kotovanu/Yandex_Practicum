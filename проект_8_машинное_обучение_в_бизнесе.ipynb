{
 "cells": [
  {
   "cell_type": "markdown",
   "metadata": {},
   "source": [
    "Привет! меня зовут Люман Аблаев. Сегодня я проверю твой проект.\n",
    "<br> Дальнейшее общение будет происходить на \"ты\" если это не вызывает никаких проблем.\n",
    "<br> Желательно реагировать на каждый мой комментарий ('исправил', 'не понятно как исправить ошибку', ...)\n",
    "<br> Пожалуйста, не удаляй комментарии ревьюера, так как они повышают качество повторного ревью.\n",
    "\n",
    "Комментарии будут в <font color='green'>зеленой</font>, <font color='blue'>синей</font> или <font color='red'>красной</font> рамках:\n",
    "\n",
    "<div class=\"alert alert-block alert-success\">\n",
    "<b>Успех:</b> Если все сделано отлично\n",
    "</div>\n",
    "\n",
    "<div class=\"alert alert-block alert-info\">\n",
    "<b>Совет: </b> Если можно немного улучшить\n",
    "</div>\n",
    "\n",
    "<div class=\"alert alert-block alert-danger\">\n",
    "<b>Ошибка:</b> Если требуются исправления. Работа не может быть принята с красными комментариями.\n",
    "</div>\n",
    "\n",
    "\n",
    "<font color='orange' style='font-size:24px; font-weight:bold'>Общее впечатление</font>\n",
    "* Спасибо за качественную работу, было интересно ее проверять. Мне она очень понравилась.\n",
    "- Я оставил некоторые советы надеюсь они будут полезными или интересными.\n",
    "- Радует оформление ноутбука, использование функций и грамотное составление выводов!\n",
    "- Техника бутстрап применилась корректно, было проведено тщательное исследование.\n",
    "- Есть маленьий недочет, не думаю ты быстро и лего его поправишь.\n",
    "- Жду обновленную работу!\n",
    "\n"
   ]
  },
  {
   "cell_type": "markdown",
   "metadata": {},
   "source": [
    "<div class=\"alert alert-block alert-info\">\n",
    "<b>Комментарий: </b> Привет. Спасибо, что проверил мой проект.\n",
    "</div>"
   ]
  },
  {
   "cell_type": "markdown",
   "metadata": {},
   "source": [
    "<div class=\"alert alert-block alert-success\">\n",
    "<b>Ревьювер:</b> Взаимно, спасибо за оперативность. Недочет исправлен - работа полностью завершенная. Рад был быть полезен. Удачи в дальнейшем обучении!"
   ]
  },
  {
   "cell_type": "markdown",
   "metadata": {},
   "source": [
    "# Выбор локации для скважины"
   ]
  },
  {
   "cell_type": "markdown",
   "metadata": {},
   "source": [
    "Допустим, вы работаете в добывающей компании «ГлавРосГосНефть». Нужно решить, где бурить новую скважину.\n",
    "\n",
    "Вам предоставлены пробы нефти в трёх регионах: в каждом 10 000 месторождений, где измерили качество нефти и объём её запасов. Постройте модель машинного обучения, которая поможет определить регион, где добыча принесёт наибольшую прибыль. Проанализируйте возможную прибыль и риски техникой *Bootstrap.*\n",
    "\n",
    "Шаги для выбора локации:\n",
    "\n",
    "- В избранном регионе ищут месторождения, для каждого определяют значения признаков;\n",
    "- Строят модель и оценивают объём запасов;\n",
    "- Выбирают месторождения с самым высокими оценками значений. Количество месторождений зависит от бюджета компании и стоимости разработки одной скважины;\n",
    "- Прибыль равна суммарной прибыли отобранных месторождений."
   ]
  },
  {
   "cell_type": "markdown",
   "metadata": {},
   "source": [
    "\n",
    "<div class=\"alert alert-block alert-success\">\n",
    "<b>Успех:</b> Cпасибо за описание проекта\n",
    "</div>\n"
   ]
  },
  {
   "cell_type": "markdown",
   "metadata": {},
   "source": [
    "## Загрузка и подготовка данных"
   ]
  },
  {
   "cell_type": "code",
   "execution_count": 1,
   "metadata": {},
   "outputs": [],
   "source": [
    "import pandas as pd\n",
    "from sklearn.linear_model import LinearRegression\n",
    "from sklearn.model_selection import train_test_split\n",
    "from sklearn.metrics import mean_squared_error\n",
    "import numpy as np"
   ]
  },
  {
   "cell_type": "markdown",
   "metadata": {},
   "source": [
    "\n",
    "<div class=\"alert alert-block alert-success\">\n",
    "<b>Успех:</b> Импорты на месте\n",
    "</div>\n"
   ]
  },
  {
   "cell_type": "code",
   "execution_count": 2,
   "metadata": {},
   "outputs": [
    {
     "data": {
      "text/html": [
       "<div>\n",
       "<style scoped>\n",
       "    .dataframe tbody tr th:only-of-type {\n",
       "        vertical-align: middle;\n",
       "    }\n",
       "\n",
       "    .dataframe tbody tr th {\n",
       "        vertical-align: top;\n",
       "    }\n",
       "\n",
       "    .dataframe thead th {\n",
       "        text-align: right;\n",
       "    }\n",
       "</style>\n",
       "<table border=\"1\" class=\"dataframe\">\n",
       "  <thead>\n",
       "    <tr style=\"text-align: right;\">\n",
       "      <th></th>\n",
       "      <th>id</th>\n",
       "      <th>f0</th>\n",
       "      <th>f1</th>\n",
       "      <th>f2</th>\n",
       "      <th>product</th>\n",
       "    </tr>\n",
       "  </thead>\n",
       "  <tbody>\n",
       "    <tr>\n",
       "      <td>0</td>\n",
       "      <td>txEyH</td>\n",
       "      <td>0.705745</td>\n",
       "      <td>-0.497823</td>\n",
       "      <td>1.221170</td>\n",
       "      <td>105.280062</td>\n",
       "    </tr>\n",
       "    <tr>\n",
       "      <td>1</td>\n",
       "      <td>2acmU</td>\n",
       "      <td>1.334711</td>\n",
       "      <td>-0.340164</td>\n",
       "      <td>4.365080</td>\n",
       "      <td>73.037750</td>\n",
       "    </tr>\n",
       "    <tr>\n",
       "      <td>2</td>\n",
       "      <td>409Wp</td>\n",
       "      <td>1.022732</td>\n",
       "      <td>0.151990</td>\n",
       "      <td>1.419926</td>\n",
       "      <td>85.265647</td>\n",
       "    </tr>\n",
       "    <tr>\n",
       "      <td>3</td>\n",
       "      <td>iJLyR</td>\n",
       "      <td>-0.032172</td>\n",
       "      <td>0.139033</td>\n",
       "      <td>2.978566</td>\n",
       "      <td>168.620776</td>\n",
       "    </tr>\n",
       "    <tr>\n",
       "      <td>4</td>\n",
       "      <td>Xdl7t</td>\n",
       "      <td>1.988431</td>\n",
       "      <td>0.155413</td>\n",
       "      <td>4.751769</td>\n",
       "      <td>154.036647</td>\n",
       "    </tr>\n",
       "  </tbody>\n",
       "</table>\n",
       "</div>"
      ],
      "text/plain": [
       "      id        f0        f1        f2     product\n",
       "0  txEyH  0.705745 -0.497823  1.221170  105.280062\n",
       "1  2acmU  1.334711 -0.340164  4.365080   73.037750\n",
       "2  409Wp  1.022732  0.151990  1.419926   85.265647\n",
       "3  iJLyR -0.032172  0.139033  2.978566  168.620776\n",
       "4  Xdl7t  1.988431  0.155413  4.751769  154.036647"
      ]
     },
     "metadata": {},
     "output_type": "display_data"
    },
    {
     "name": "stdout",
     "output_type": "stream",
     "text": [
      "<class 'pandas.core.frame.DataFrame'>\n",
      "RangeIndex: 100000 entries, 0 to 99999\n",
      "Data columns (total 5 columns):\n",
      "id         100000 non-null object\n",
      "f0         100000 non-null float64\n",
      "f1         100000 non-null float64\n",
      "f2         100000 non-null float64\n",
      "product    100000 non-null float64\n",
      "dtypes: float64(4), object(1)\n",
      "memory usage: 3.8+ MB\n"
     ]
    },
    {
     "data": {
      "text/plain": [
       "None"
      ]
     },
     "metadata": {},
     "output_type": "display_data"
    }
   ],
   "source": [
    "geo_data_0 = pd.read_csv('/datasets/geo_data_0.csv')\n",
    "display(geo_data_0.head())\n",
    "display(geo_data_0.info())"
   ]
  },
  {
   "cell_type": "code",
   "execution_count": 3,
   "metadata": {},
   "outputs": [
    {
     "data": {
      "text/html": [
       "<div>\n",
       "<style scoped>\n",
       "    .dataframe tbody tr th:only-of-type {\n",
       "        vertical-align: middle;\n",
       "    }\n",
       "\n",
       "    .dataframe tbody tr th {\n",
       "        vertical-align: top;\n",
       "    }\n",
       "\n",
       "    .dataframe thead th {\n",
       "        text-align: right;\n",
       "    }\n",
       "</style>\n",
       "<table border=\"1\" class=\"dataframe\">\n",
       "  <thead>\n",
       "    <tr style=\"text-align: right;\">\n",
       "      <th></th>\n",
       "      <th>id</th>\n",
       "      <th>f0</th>\n",
       "      <th>f1</th>\n",
       "      <th>f2</th>\n",
       "      <th>product</th>\n",
       "    </tr>\n",
       "  </thead>\n",
       "  <tbody>\n",
       "    <tr>\n",
       "      <td>0</td>\n",
       "      <td>kBEdx</td>\n",
       "      <td>-15.001348</td>\n",
       "      <td>-8.276000</td>\n",
       "      <td>-0.005876</td>\n",
       "      <td>3.179103</td>\n",
       "    </tr>\n",
       "    <tr>\n",
       "      <td>1</td>\n",
       "      <td>62mP7</td>\n",
       "      <td>14.272088</td>\n",
       "      <td>-3.475083</td>\n",
       "      <td>0.999183</td>\n",
       "      <td>26.953261</td>\n",
       "    </tr>\n",
       "    <tr>\n",
       "      <td>2</td>\n",
       "      <td>vyE1P</td>\n",
       "      <td>6.263187</td>\n",
       "      <td>-5.948386</td>\n",
       "      <td>5.001160</td>\n",
       "      <td>134.766305</td>\n",
       "    </tr>\n",
       "    <tr>\n",
       "      <td>3</td>\n",
       "      <td>KcrkZ</td>\n",
       "      <td>-13.081196</td>\n",
       "      <td>-11.506057</td>\n",
       "      <td>4.999415</td>\n",
       "      <td>137.945408</td>\n",
       "    </tr>\n",
       "    <tr>\n",
       "      <td>4</td>\n",
       "      <td>AHL4O</td>\n",
       "      <td>12.702195</td>\n",
       "      <td>-8.147433</td>\n",
       "      <td>5.004363</td>\n",
       "      <td>134.766305</td>\n",
       "    </tr>\n",
       "  </tbody>\n",
       "</table>\n",
       "</div>"
      ],
      "text/plain": [
       "      id         f0         f1        f2     product\n",
       "0  kBEdx -15.001348  -8.276000 -0.005876    3.179103\n",
       "1  62mP7  14.272088  -3.475083  0.999183   26.953261\n",
       "2  vyE1P   6.263187  -5.948386  5.001160  134.766305\n",
       "3  KcrkZ -13.081196 -11.506057  4.999415  137.945408\n",
       "4  AHL4O  12.702195  -8.147433  5.004363  134.766305"
      ]
     },
     "metadata": {},
     "output_type": "display_data"
    },
    {
     "name": "stdout",
     "output_type": "stream",
     "text": [
      "<class 'pandas.core.frame.DataFrame'>\n",
      "RangeIndex: 100000 entries, 0 to 99999\n",
      "Data columns (total 5 columns):\n",
      "id         100000 non-null object\n",
      "f0         100000 non-null float64\n",
      "f1         100000 non-null float64\n",
      "f2         100000 non-null float64\n",
      "product    100000 non-null float64\n",
      "dtypes: float64(4), object(1)\n",
      "memory usage: 3.8+ MB\n"
     ]
    },
    {
     "data": {
      "text/plain": [
       "None"
      ]
     },
     "metadata": {},
     "output_type": "display_data"
    }
   ],
   "source": [
    "geo_data_1 = pd.read_csv('/datasets/geo_data_1.csv')\n",
    "display(geo_data_1.head())\n",
    "display(geo_data_1.info())"
   ]
  },
  {
   "cell_type": "code",
   "execution_count": 4,
   "metadata": {},
   "outputs": [
    {
     "data": {
      "text/html": [
       "<div>\n",
       "<style scoped>\n",
       "    .dataframe tbody tr th:only-of-type {\n",
       "        vertical-align: middle;\n",
       "    }\n",
       "\n",
       "    .dataframe tbody tr th {\n",
       "        vertical-align: top;\n",
       "    }\n",
       "\n",
       "    .dataframe thead th {\n",
       "        text-align: right;\n",
       "    }\n",
       "</style>\n",
       "<table border=\"1\" class=\"dataframe\">\n",
       "  <thead>\n",
       "    <tr style=\"text-align: right;\">\n",
       "      <th></th>\n",
       "      <th>id</th>\n",
       "      <th>f0</th>\n",
       "      <th>f1</th>\n",
       "      <th>f2</th>\n",
       "      <th>product</th>\n",
       "    </tr>\n",
       "  </thead>\n",
       "  <tbody>\n",
       "    <tr>\n",
       "      <td>0</td>\n",
       "      <td>fwXo0</td>\n",
       "      <td>-1.146987</td>\n",
       "      <td>0.963328</td>\n",
       "      <td>-0.828965</td>\n",
       "      <td>27.758673</td>\n",
       "    </tr>\n",
       "    <tr>\n",
       "      <td>1</td>\n",
       "      <td>WJtFt</td>\n",
       "      <td>0.262778</td>\n",
       "      <td>0.269839</td>\n",
       "      <td>-2.530187</td>\n",
       "      <td>56.069697</td>\n",
       "    </tr>\n",
       "    <tr>\n",
       "      <td>2</td>\n",
       "      <td>ovLUW</td>\n",
       "      <td>0.194587</td>\n",
       "      <td>0.289035</td>\n",
       "      <td>-5.586433</td>\n",
       "      <td>62.871910</td>\n",
       "    </tr>\n",
       "    <tr>\n",
       "      <td>3</td>\n",
       "      <td>q6cA6</td>\n",
       "      <td>2.236060</td>\n",
       "      <td>-0.553760</td>\n",
       "      <td>0.930038</td>\n",
       "      <td>114.572842</td>\n",
       "    </tr>\n",
       "    <tr>\n",
       "      <td>4</td>\n",
       "      <td>WPMUX</td>\n",
       "      <td>-0.515993</td>\n",
       "      <td>1.716266</td>\n",
       "      <td>5.899011</td>\n",
       "      <td>149.600746</td>\n",
       "    </tr>\n",
       "  </tbody>\n",
       "</table>\n",
       "</div>"
      ],
      "text/plain": [
       "      id        f0        f1        f2     product\n",
       "0  fwXo0 -1.146987  0.963328 -0.828965   27.758673\n",
       "1  WJtFt  0.262778  0.269839 -2.530187   56.069697\n",
       "2  ovLUW  0.194587  0.289035 -5.586433   62.871910\n",
       "3  q6cA6  2.236060 -0.553760  0.930038  114.572842\n",
       "4  WPMUX -0.515993  1.716266  5.899011  149.600746"
      ]
     },
     "metadata": {},
     "output_type": "display_data"
    },
    {
     "name": "stdout",
     "output_type": "stream",
     "text": [
      "<class 'pandas.core.frame.DataFrame'>\n",
      "RangeIndex: 100000 entries, 0 to 99999\n",
      "Data columns (total 5 columns):\n",
      "id         100000 non-null object\n",
      "f0         100000 non-null float64\n",
      "f1         100000 non-null float64\n",
      "f2         100000 non-null float64\n",
      "product    100000 non-null float64\n",
      "dtypes: float64(4), object(1)\n",
      "memory usage: 3.8+ MB\n"
     ]
    },
    {
     "data": {
      "text/plain": [
       "None"
      ]
     },
     "metadata": {},
     "output_type": "display_data"
    }
   ],
   "source": [
    "geo_data_2 = pd.read_csv('/datasets/geo_data_2.csv')\n",
    "display(geo_data_2.head())\n",
    "display(geo_data_2.info())"
   ]
  },
  {
   "cell_type": "code",
   "execution_count": 5,
   "metadata": {},
   "outputs": [],
   "source": [
    "#удаляю столбец id\n",
    "geo_data_0 = geo_data_0.drop(['id'], axis=1)\n",
    "geo_data_1 = geo_data_1.drop(['id'], axis=1)\n",
    "geo_data_2 = geo_data_2.drop(['id'], axis=1)"
   ]
  },
  {
   "cell_type": "markdown",
   "metadata": {},
   "source": [
    "f0, f1, f2 - признаки\n",
    "\n",
    "product - целевой признак    "
   ]
  },
  {
   "cell_type": "markdown",
   "metadata": {},
   "source": [
    "<div class=\"alert alert-block alert-info\">\n",
    "<b>Совет </b>  Советую обратить внимание на библиотеки sweetviz и pandas_profiling помогут в проведении более тщательного EDA анализа. Исследовательский анализ можно делать и с помощью ручного вызова функций дефолтных библиотек. Данные библиотеки хороши для максимизации комфорта презентации результатов анализа бизнес-пользователям. \n",
    "    \n",
    "Очень просты в использоовании, на вход кладется датафрейм: pandas_profiling.ProfileReport(df) <br> P.S. Чтобы пробовать на платформе практикума нужно будет установить пакеты таким образом (локально проблем не будет):\n",
    "    \n",
    "    # библиотеки, которых нет на сервере\n",
    "    !pip install sweetviz -q\n",
    "    # Библиотека pandas-profiling не всегда устанавливается стабильно, поэтому принудительно задать стабильные версии\n",
    "    !pip install pandas_profiling==1.4.1 -q\n",
    "    !pip install pandas==0.25.3 -q\n",
    "    # Обновить версию scikit-learn навсякий случай\n",
    "    !pip install -U scikit-learn -q"
   ]
  },
  {
   "cell_type": "markdown",
   "metadata": {},
   "source": [
    "## Обучение и проверка модели"
   ]
  },
  {
   "cell_type": "code",
   "execution_count": 6,
   "metadata": {},
   "outputs": [],
   "source": [
    "def predict(oil_data, target_name):\n",
    "    features = oil_data.drop([target_name], axis = 1)\n",
    "    target = oil_data[target_name]\n",
    "    features_train, features_val, target_train, target_val = train_test_split(features, target, test_size=0.25, random_state=12)\n",
    "    \n",
    "    model = LinearRegression()\n",
    "    model.fit(features_train, target_train)\n",
    "    predictions = model.predict(features_val)\n",
    "\n",
    "    data = {'target': target_val, 'predict_target': predictions}\n",
    "    df = pd.DataFrame(data, columns = ['target', 'predict_target'])\n",
    "    RMSE = mean_squared_error(target_val, predictions)**0.5\n",
    "    mean = predictions.mean()\n",
    "    return df, RMSE, mean"
   ]
  },
  {
   "cell_type": "code",
   "execution_count": 7,
   "metadata": {},
   "outputs": [
    {
     "name": "stdout",
     "output_type": "stream",
     "text": [
      "           target  predict_target\n",
      "23441   71.866689       67.419581\n",
      "90125   53.941571       50.376346\n",
      "57892   57.335725       53.741163\n",
      "7228    80.036875       91.969485\n",
      "99545  131.032175      114.363762\n",
      "RMSE модели = 37.78806596603057\n",
      "Cредний запас предсказанного сырья = 92.13368147346337\n"
     ]
    }
   ],
   "source": [
    "geo_data_0_predict, geo_data_0_rmse, geo_data_0_predicted_mean = predict(geo_data_0, 'product')\n",
    "print(geo_data_0_predict.head())\n",
    "print(f'RMSE модели = {geo_data_0_rmse}')\n",
    "print(f'Cредний запас предсказанного сырья = {geo_data_0_predicted_mean}')"
   ]
  },
  {
   "cell_type": "code",
   "execution_count": 8,
   "metadata": {},
   "outputs": [
    {
     "name": "stdout",
     "output_type": "stream",
     "text": [
      "           target  predict_target\n",
      "23441  134.766305      134.942220\n",
      "90125    3.179103        2.821700\n",
      "57892   53.906522       54.684214\n",
      "7228    80.859783       82.134652\n",
      "99545  110.992147      110.088714\n",
      "RMSE модели = 0.8885339556138777\n",
      "Cредний запас предсказанного сырья = 69.03789329572142\n"
     ]
    }
   ],
   "source": [
    "geo_data_1_predict, geo_data_1_rmse, geo_data_1_predicted_mean = predict(geo_data_1, 'product')\n",
    "print(geo_data_1_predict.head())\n",
    "print(f'RMSE модели = {geo_data_1_rmse}')\n",
    "print(f'Cредний запас предсказанного сырья = {geo_data_1_predicted_mean}')"
   ]
  },
  {
   "cell_type": "code",
   "execution_count": 9,
   "metadata": {},
   "outputs": [
    {
     "name": "stdout",
     "output_type": "stream",
     "text": [
      "           target  predict_target\n",
      "23441  158.770830       96.037232\n",
      "90125   58.437945       58.616160\n",
      "57892  102.548236      119.085149\n",
      "7228    53.700702       63.724467\n",
      "99545   25.003625      107.776334\n",
      "RMSE модели = 39.800203117903365\n",
      "Cредний запас предсказанного сырья = 95.05096092338655\n"
     ]
    }
   ],
   "source": [
    "geo_data_2_predict, geo_data_2_rmse, geo_data_2_predicted_mean = predict(geo_data_2, 'product')\n",
    "print(geo_data_2_predict.head())\n",
    "print(f'RMSE модели = {geo_data_2_rmse}')\n",
    "print(f'Cредний запас предсказанного сырья = {geo_data_2_predicted_mean}')"
   ]
  },
  {
   "cell_type": "markdown",
   "metadata": {},
   "source": [
    "Лучше всего модель предсказала запасы во втором регионе (RMSE - 0.88)"
   ]
  },
  {
   "cell_type": "markdown",
   "metadata": {},
   "source": [
    "<div class=\"alert alert-block alert-success\">\n",
    "<b>Успех:</b> Шаг проделан лакончно, все метрики посчитаны корректно\n",
    "</div>"
   ]
  },
  {
   "cell_type": "markdown",
   "metadata": {},
   "source": [
    "## Подготовка к расчёту прибыли"
   ]
  },
  {
   "cell_type": "code",
   "execution_count": 10,
   "metadata": {},
   "outputs": [],
   "source": [
    "POINTS = 500 \n",
    "BEST_POINTS = 200\n",
    "BUDGET = 1e+07\n",
    "PRICE = 450\n",
    "\n",
    "#функция для расчета дохода\n",
    "def revenue(target, probabilities, count):\n",
    "    probs_sorted = probabilities.sort_values(ascending=False)\n",
    "    selected = target[probs_sorted.index][:count]\n",
    "    return PRICE * selected.sum() - BUDGET"
   ]
  },
  {
   "cell_type": "markdown",
   "metadata": {},
   "source": [
    "<div class=\"alert alert-block alert-success\">\n",
    "<b>Успех:</b> Ф-ция прибыли определена верно\n",
    "</div>"
   ]
  },
  {
   "cell_type": "markdown",
   "metadata": {},
   "source": [
    "<div class=\"alert alert-block alert-danger\">\n",
    "    \n",
    "<b>Ошибка:</b> Тут упущен маленький момент:  `3.2. Рассчитайте достаточный объём сырья для безубыточной разработки новой скважины. Сравните полученный объём сырья со средним запасом в каждом регионе.`\n",
    "</div>"
   ]
  },
  {
   "cell_type": "markdown",
   "metadata": {},
   "source": [
    "<div class=\"alert alert-block alert-info\">\n",
    "<b>Совет:</b> Константы принято записывать в верхнем регистре=)\n",
    "</div>"
   ]
  },
  {
   "cell_type": "code",
   "execution_count": 11,
   "metadata": {},
   "outputs": [
    {
     "name": "stdout",
     "output_type": "stream",
     "text": [
      "Средняя прибыль на лучшую точку = 50000.0\n",
      "Средний объем нефти на точку = 111.11111111111111\n",
      "Средний объем нефти на регион = 22222.222222222223\n",
      "Средний запас нефти в 1 регионе = 92.50000000000001\n",
      "Средний запас нефти в 2 регионе = 68.82500000000002\n",
      "Средний запас нефти в 3 регионе = 95.00000000000004\n"
     ]
    }
   ],
   "source": [
    "profit_point = BUDGET / BEST_POINTS\n",
    "print(f'Средняя прибыль на лучшую точку = {profit_point}')\n",
    "\n",
    "barrels_point = profit_point  / PRICE\n",
    "print(f'Средний объем нефти на точку = {barrels_point}')\n",
    "\n",
    "average_barrels = BUDGET / PRICE\n",
    "print(f'Средний объем нефти на регион = {average_barrels}')\n",
    "\n",
    "print(f'Средний запас нефти в 1 регионе = {geo_data_0[\"product\"].mean()}')\n",
    "print(f'Средний запас нефти в 2 регионе = {geo_data_1[\"product\"].mean()}')\n",
    "print(f'Средний запас нефти в 3 регионе = {geo_data_2[\"product\"].mean()}')"
   ]
  },
  {
   "cell_type": "markdown",
   "metadata": {},
   "source": [
    "<div class=\"alert alert-block alert-info\">\n",
    "<b>Комментарий: </b> Доделал.\n",
    "</div>"
   ]
  },
  {
   "cell_type": "markdown",
   "metadata": {},
   "source": [
    "<div class=\"alert alert-block alert-success\">\n",
    "<b>Успех[2]:</b> Есть контакт, но заключение можно было бы небольшое оставить.\n",
    "</div>"
   ]
  },
  {
   "cell_type": "markdown",
   "metadata": {},
   "source": [
    "## Расчёт прибыли и рисков "
   ]
  },
  {
   "cell_type": "code",
   "execution_count": 12,
   "metadata": {},
   "outputs": [],
   "source": [
    "state = np.random.RandomState(12)\n",
    "\n",
    "def bootstrap(target, probs):\n",
    "    values=[]\n",
    "    lost = 0\n",
    "    for i in range(1000):\n",
    "        target_sample = target.sample( n=POINTS, replace=True, random_state=state)\n",
    "        probs_sample = probs[target_sample.index]\n",
    "        profit = revenue(target, probs_sample, BEST_POINTS)\n",
    "        if profit < 0:\n",
    "            lost +=1\n",
    "        values.append(profit)\n",
    "    \n",
    "    values = pd.Series(values)\n",
    "    lower = values.quantile(0.025)\n",
    "    upper = values.quantile(0.975)\n",
    "    average = values.mean()\n",
    "    risk = lost / 1000\n",
    "    return average, lower, upper, risk"
   ]
  },
  {
   "cell_type": "markdown",
   "metadata": {},
   "source": [
    "<div class=\"alert alert-block alert-success\">\n",
    "<b>Успех:</b> С бутстрапом тоже все в порядке, все метрики считаются верным образом\n",
    "</div>"
   ]
  },
  {
   "cell_type": "markdown",
   "metadata": {},
   "source": [
    "<div class=\"alert alert-block alert-info\">\n",
    "    \n",
    "<b>Совет:</b> Риски было бы проще и лакончинее считать таким образом `(values < 0).mean()` \n",
    "    \n",
    "</div>"
   ]
  },
  {
   "cell_type": "code",
   "execution_count": 13,
   "metadata": {},
   "outputs": [
    {
     "name": "stdout",
     "output_type": "stream",
     "text": [
      "Средняя прибыль по 1 региону = 442898.36587122444\n",
      "95% доверительный интервал для 1 рег = от -50177.13044114485 до 952490.7688761621\n",
      "Риск для 1 рег = 4.7\n"
     ]
    }
   ],
   "source": [
    "average_0, lower_0, upper_0, risk_0 = bootstrap(geo_data_0_predict['target'], \n",
    "                                                     geo_data_0_predict['predict_target'])\n",
    "\n",
    "print(f'Средняя прибыль по 1 региону = {average_0}')\n",
    "print(f'95% доверительный интервал для 1 рег = от {lower_0} до {upper_0}')\n",
    "print(f'Риск для 1 рег = {risk_0*100}')"
   ]
  },
  {
   "cell_type": "code",
   "execution_count": 14,
   "metadata": {},
   "outputs": [
    {
     "name": "stdout",
     "output_type": "stream",
     "text": [
      "Средняя прибыль по 2 региону = 480957.88055844663\n",
      "95% доверительный интервал для 2 рег = от 91700.56413644394 до 905078.4522601907\n",
      "Риск для 2 рег = 0.5\n"
     ]
    }
   ],
   "source": [
    "average_1, lower_1, upper_1, risk_1 = bootstrap(geo_data_1_predict['target'], \n",
    "                                                     geo_data_1_predict['predict_target'])\n",
    "\n",
    "print(f'Средняя прибыль по 2 региону = {average_1}')\n",
    "print(f'95% доверительный интервал для 2 рег = от {lower_1} до {upper_1}')\n",
    "print(f'Риск для 2 рег = {risk_1*100}')"
   ]
  },
  {
   "cell_type": "code",
   "execution_count": 15,
   "metadata": {},
   "outputs": [
    {
     "name": "stdout",
     "output_type": "stream",
     "text": [
      "Средняя прибыль по 3 региону = 346914.1227313843\n",
      "95% доверительный интервал для 3 рег = от -164631.58490843876 до 874735.3165392772\n",
      "Риск для 3 рег = 9.5\n"
     ]
    }
   ],
   "source": [
    "average_2, lower_2, upper_2, risk_2 = bootstrap(geo_data_2_predict['target'], \n",
    "                                                     geo_data_2_predict['predict_target'])\n",
    "\n",
    "print(f'Средняя прибыль по 3 региону = {average_2}')\n",
    "print(f'95% доверительный интервал для 3 рег = от {lower_2} до {upper_2}')\n",
    "print(f'Риск для 3 рег = {risk_2*100}')"
   ]
  },
  {
   "cell_type": "markdown",
   "metadata": {},
   "source": [
    "Можно выбрать 2 регион для разработки скважин, тк риск маленький и разработка скважин окупится, даже если будет неудачный выбор"
   ]
  },
  {
   "cell_type": "markdown",
   "metadata": {},
   "source": [
    "<div class=\"alert alert-block alert-success\">\n",
    "<b>Успех:</b> Отлично! Проведено детальное исследование и был выбран правильный регион, поздравляю!\n",
    "    \n",
    "  \n",
    "</div>"
   ]
  },
  {
   "cell_type": "markdown",
   "metadata": {},
   "source": [
    "## Чек-лист готовности проекта"
   ]
  },
  {
   "cell_type": "markdown",
   "metadata": {},
   "source": [
    "Поставьте 'x' в выполненных пунктах. Далее нажмите Shift+Enter."
   ]
  },
  {
   "cell_type": "markdown",
   "metadata": {},
   "source": [
    "- [x]  Jupyter Notebook открыт\n",
    "- [ ]  Весь код выполняется без ошибок\n",
    "- [ ]  Ячейки с кодом расположены в порядке исполнения\n",
    "- [ ]  Выполнен шаг 1: данные подготовлены\n",
    "- [ ]  Выполнен шаг 2: модели обучены и проверены\n",
    "    - [ ]  Данные корректно разбиты на обучающую и валидационную выборки\n",
    "    - [ ]  Модели обучены, предсказания сделаны\n",
    "    - [ ]  Предсказания и правильные ответы на валидационной выборке сохранены\n",
    "    - [ ]  На экране напечатаны результаты\n",
    "    - [ ]  Сделаны выводы\n",
    "- [ ]  Выполнен шаг 3: проведена подготовка к расчёту прибыли\n",
    "    - [ ]  Для всех ключевых значений созданы константы Python\n",
    "    - [ ]  Посчитано минимальное среднее количество продукта в месторождениях региона, достаточное для разработки\n",
    "    - [ ]  По предыдущему пункту сделаны выводы\n",
    "    - [ ]  Написана функция расчёта прибыли\n",
    "- [ ]  Выполнен шаг 4: посчитаны риски и прибыль\n",
    "    - [ ]  Проведена процедура *Bootstrap*\n",
    "    - [ ]  Все параметры бутстрепа соответствуют условию\n",
    "    - [ ]  Найдены все нужные величины\n",
    "    - [ ]  Предложен регион для разработки месторождения\n",
    "    - [ ]  Выбор региона обоснован"
   ]
  },
  {
   "cell_type": "code",
   "execution_count": null,
   "metadata": {},
   "outputs": [],
   "source": []
  }
 ],
 "metadata": {
  "ExecuteTimeLog": [
   {
    "duration": 607,
    "start_time": "2022-02-17T08:10:39.578Z"
   },
   {
    "duration": 3,
    "start_time": "2022-02-17T11:42:20.972Z"
   },
   {
    "duration": 134,
    "start_time": "2022-02-17T11:42:21.882Z"
   },
   {
    "duration": 133,
    "start_time": "2022-02-17T11:42:22.522Z"
   },
   {
    "duration": 134,
    "start_time": "2022-02-17T11:42:22.887Z"
   },
   {
    "duration": 136,
    "start_time": "2022-02-17T11:43:13.551Z"
   },
   {
    "duration": 138,
    "start_time": "2022-02-17T11:43:15.466Z"
   },
   {
    "duration": 142,
    "start_time": "2022-02-17T11:43:15.870Z"
   },
   {
    "duration": 149,
    "start_time": "2022-02-17T11:45:32.209Z"
   },
   {
    "duration": 159,
    "start_time": "2022-02-17T11:45:51.738Z"
   },
   {
    "duration": 155,
    "start_time": "2022-02-17T11:46:12.942Z"
   },
   {
    "duration": 143,
    "start_time": "2022-02-17T11:46:13.634Z"
   },
   {
    "duration": 147,
    "start_time": "2022-02-17T11:46:18.771Z"
   },
   {
    "duration": 10,
    "start_time": "2022-02-17T11:53:18.551Z"
   },
   {
    "duration": 155,
    "start_time": "2022-02-17T11:53:22.131Z"
   },
   {
    "duration": 294,
    "start_time": "2022-02-17T11:53:26.716Z"
   },
   {
    "duration": 612,
    "start_time": "2022-02-17T11:53:36.258Z"
   },
   {
    "duration": 158,
    "start_time": "2022-02-17T11:53:36.872Z"
   },
   {
    "duration": 147,
    "start_time": "2022-02-17T11:53:38.237Z"
   },
   {
    "duration": 150,
    "start_time": "2022-02-17T11:53:39.521Z"
   },
   {
    "duration": 18,
    "start_time": "2022-02-17T11:53:40.816Z"
   },
   {
    "duration": 11,
    "start_time": "2022-02-17T11:53:48.322Z"
   },
   {
    "duration": 474,
    "start_time": "2022-02-17T12:00:17.040Z"
   },
   {
    "duration": 3,
    "start_time": "2022-02-17T12:29:44.899Z"
   },
   {
    "duration": 4,
    "start_time": "2022-02-17T12:30:52.863Z"
   },
   {
    "duration": 389,
    "start_time": "2022-02-17T12:32:48.680Z"
   },
   {
    "duration": 4,
    "start_time": "2022-02-17T12:33:08.891Z"
   },
   {
    "duration": 16,
    "start_time": "2022-02-17T12:33:09.414Z"
   },
   {
    "duration": 39,
    "start_time": "2022-02-17T12:33:34.964Z"
   },
   {
    "duration": 3,
    "start_time": "2022-02-17T12:40:54.217Z"
   },
   {
    "duration": 616,
    "start_time": "2022-02-17T12:42:26.479Z"
   },
   {
    "duration": 67,
    "start_time": "2022-02-17T12:42:42.513Z"
   },
   {
    "duration": 41,
    "start_time": "2022-02-17T12:46:09.229Z"
   },
   {
    "duration": 15,
    "start_time": "2022-02-17T12:52:03.237Z"
   },
   {
    "duration": 13,
    "start_time": "2022-02-17T12:52:22.098Z"
   },
   {
    "duration": 116,
    "start_time": "2022-02-17T12:54:09.954Z"
   },
   {
    "duration": 16,
    "start_time": "2022-02-17T12:55:59.899Z"
   },
   {
    "duration": 82,
    "start_time": "2022-02-17T12:57:04.289Z"
   },
   {
    "duration": 28,
    "start_time": "2022-02-17T12:57:10.341Z"
   },
   {
    "duration": 67,
    "start_time": "2022-02-17T12:57:29.504Z"
   },
   {
    "duration": 5,
    "start_time": "2022-02-17T13:01:38.358Z"
   },
   {
    "duration": 250,
    "start_time": "2022-02-17T13:29:58.183Z"
   },
   {
    "duration": 266,
    "start_time": "2022-02-17T13:30:22.178Z"
   },
   {
    "duration": 5,
    "start_time": "2022-02-17T13:34:13.716Z"
   },
   {
    "duration": 190,
    "start_time": "2022-02-17T13:34:35.179Z"
   },
   {
    "duration": 122,
    "start_time": "2022-02-17T13:34:41.850Z"
   },
   {
    "duration": 67,
    "start_time": "2022-02-17T13:34:57.702Z"
   },
   {
    "duration": 30,
    "start_time": "2022-02-17T13:35:46.072Z"
   },
   {
    "duration": 31,
    "start_time": "2022-02-17T13:36:34.036Z"
   },
   {
    "duration": 34,
    "start_time": "2022-02-17T13:36:35.036Z"
   },
   {
    "duration": 4,
    "start_time": "2022-02-17T14:00:46.880Z"
   },
   {
    "duration": 4,
    "start_time": "2022-02-17T14:29:30.986Z"
   },
   {
    "duration": 3,
    "start_time": "2022-02-17T14:29:43.450Z"
   },
   {
    "duration": 6,
    "start_time": "2022-02-17T14:49:39.650Z"
   },
   {
    "duration": 233,
    "start_time": "2022-02-17T14:52:52.331Z"
   },
   {
    "duration": 2990,
    "start_time": "2022-02-17T14:52:59.579Z"
   },
   {
    "duration": 3021,
    "start_time": "2022-02-17T14:54:20.180Z"
   },
   {
    "duration": 4,
    "start_time": "2022-02-17T14:54:32.289Z"
   },
   {
    "duration": 5,
    "start_time": "2022-02-17T14:54:33.325Z"
   },
   {
    "duration": 2959,
    "start_time": "2022-02-17T14:54:36.651Z"
   },
   {
    "duration": 2951,
    "start_time": "2022-02-17T14:54:39.983Z"
   },
   {
    "duration": 5,
    "start_time": "2022-02-17T14:56:57.658Z"
   },
   {
    "duration": 5,
    "start_time": "2022-02-17T14:56:59.886Z"
   },
   {
    "duration": 3071,
    "start_time": "2022-02-17T14:57:00.368Z"
   },
   {
    "duration": 3133,
    "start_time": "2022-02-17T14:57:03.441Z"
   },
   {
    "duration": 3090,
    "start_time": "2022-02-17T14:57:26.493Z"
   },
   {
    "duration": 3108,
    "start_time": "2022-02-17T14:57:37.599Z"
   },
   {
    "duration": 3099,
    "start_time": "2022-02-17T14:58:25.529Z"
   },
   {
    "duration": 3026,
    "start_time": "2022-02-17T14:58:34.530Z"
   },
   {
    "duration": 3038,
    "start_time": "2022-02-17T14:58:53.023Z"
   },
   {
    "duration": 2989,
    "start_time": "2022-02-17T15:00:28.520Z"
   },
   {
    "duration": 2970,
    "start_time": "2022-02-17T15:00:31.510Z"
   },
   {
    "duration": 1161,
    "start_time": "2022-02-17T15:02:02.059Z"
   },
   {
    "duration": 173,
    "start_time": "2022-02-17T15:02:03.222Z"
   },
   {
    "duration": 160,
    "start_time": "2022-02-17T15:02:03.397Z"
   },
   {
    "duration": 152,
    "start_time": "2022-02-17T15:02:03.559Z"
   },
   {
    "duration": 20,
    "start_time": "2022-02-17T15:02:03.713Z"
   },
   {
    "duration": 17,
    "start_time": "2022-02-17T15:02:03.735Z"
   },
   {
    "duration": 217,
    "start_time": "2022-02-17T15:02:03.754Z"
   },
   {
    "duration": 30,
    "start_time": "2022-02-17T15:02:03.973Z"
   },
   {
    "duration": 117,
    "start_time": "2022-02-17T15:02:04.072Z"
   },
   {
    "duration": 98,
    "start_time": "2022-02-17T15:02:04.271Z"
   },
   {
    "duration": 15,
    "start_time": "2022-02-17T15:02:04.371Z"
   },
   {
    "duration": 3074,
    "start_time": "2022-02-17T15:02:04.388Z"
   },
   {
    "duration": 3184,
    "start_time": "2022-02-17T15:02:07.464Z"
   },
   {
    "duration": 3053,
    "start_time": "2022-02-17T15:02:10.649Z"
   },
   {
    "duration": 1090,
    "start_time": "2022-02-18T09:34:01.160Z"
   },
   {
    "duration": 133,
    "start_time": "2022-02-18T09:34:02.252Z"
   },
   {
    "duration": 121,
    "start_time": "2022-02-18T09:34:02.389Z"
   },
   {
    "duration": 121,
    "start_time": "2022-02-18T09:34:02.511Z"
   },
   {
    "duration": 18,
    "start_time": "2022-02-18T09:34:02.634Z"
   },
   {
    "duration": 6,
    "start_time": "2022-02-18T09:34:02.653Z"
   },
   {
    "duration": 88,
    "start_time": "2022-02-18T09:34:02.661Z"
   },
   {
    "duration": 111,
    "start_time": "2022-02-18T09:34:02.751Z"
   },
   {
    "duration": 195,
    "start_time": "2022-02-18T09:34:02.864Z"
   },
   {
    "duration": 87,
    "start_time": "2022-02-18T09:34:03.061Z"
   },
   {
    "duration": 488,
    "start_time": "2022-02-18T09:34:03.151Z"
   },
   {
    "duration": -1522,
    "start_time": "2022-02-18T09:34:05.163Z"
   },
   {
    "duration": -1529,
    "start_time": "2022-02-18T09:34:05.171Z"
   },
   {
    "duration": -1532,
    "start_time": "2022-02-18T09:34:05.174Z"
   },
   {
    "duration": -1533,
    "start_time": "2022-02-18T09:34:05.176Z"
   },
   {
    "duration": 982,
    "start_time": "2022-02-18T09:34:26.867Z"
   },
   {
    "duration": 133,
    "start_time": "2022-02-18T09:34:27.851Z"
   },
   {
    "duration": 125,
    "start_time": "2022-02-18T09:34:27.989Z"
   },
   {
    "duration": 130,
    "start_time": "2022-02-18T09:34:28.116Z"
   },
   {
    "duration": 16,
    "start_time": "2022-02-18T09:34:28.248Z"
   },
   {
    "duration": 6,
    "start_time": "2022-02-18T09:34:28.265Z"
   },
   {
    "duration": 78,
    "start_time": "2022-02-18T09:34:28.273Z"
   },
   {
    "duration": 195,
    "start_time": "2022-02-18T09:34:28.353Z"
   },
   {
    "duration": 298,
    "start_time": "2022-02-18T09:34:28.550Z"
   },
   {
    "duration": 3,
    "start_time": "2022-02-18T09:34:28.850Z"
   },
   {
    "duration": 8,
    "start_time": "2022-02-18T09:34:28.855Z"
   },
   {
    "duration": 8,
    "start_time": "2022-02-18T09:34:28.864Z"
   },
   {
    "duration": 654,
    "start_time": "2022-02-18T09:34:28.874Z"
   },
   {
    "duration": -1519,
    "start_time": "2022-02-18T09:34:31.049Z"
   },
   {
    "duration": -1521,
    "start_time": "2022-02-18T09:34:31.052Z"
   },
   {
    "duration": 99,
    "start_time": "2022-02-18T09:37:47.665Z"
   },
   {
    "duration": 7,
    "start_time": "2022-02-18T09:38:05.441Z"
   },
   {
    "duration": 1156,
    "start_time": "2022-02-18T09:38:31.899Z"
   },
   {
    "duration": 134,
    "start_time": "2022-02-18T09:38:33.057Z"
   },
   {
    "duration": 121,
    "start_time": "2022-02-18T09:38:33.195Z"
   },
   {
    "duration": 132,
    "start_time": "2022-02-18T09:38:33.318Z"
   },
   {
    "duration": 18,
    "start_time": "2022-02-18T09:38:33.452Z"
   },
   {
    "duration": 16,
    "start_time": "2022-02-18T09:38:33.472Z"
   },
   {
    "duration": 73,
    "start_time": "2022-02-18T09:38:33.491Z"
   },
   {
    "duration": 198,
    "start_time": "2022-02-18T09:38:33.567Z"
   },
   {
    "duration": 99,
    "start_time": "2022-02-18T09:38:33.847Z"
   },
   {
    "duration": 5,
    "start_time": "2022-02-18T09:38:33.948Z"
   },
   {
    "duration": 101,
    "start_time": "2022-02-18T09:38:33.955Z"
   },
   {
    "duration": 7,
    "start_time": "2022-02-18T09:38:34.058Z"
   },
   {
    "duration": 705,
    "start_time": "2022-02-18T09:38:34.067Z"
   },
   {
    "duration": -1513,
    "start_time": "2022-02-18T09:38:36.287Z"
   },
   {
    "duration": -1518,
    "start_time": "2022-02-18T09:38:36.293Z"
   },
   {
    "duration": 991,
    "start_time": "2022-02-18T09:39:09.956Z"
   },
   {
    "duration": 411,
    "start_time": "2022-02-18T09:39:10.949Z"
   },
   {
    "duration": 182,
    "start_time": "2022-02-18T09:39:11.365Z"
   },
   {
    "duration": 183,
    "start_time": "2022-02-18T09:39:11.549Z"
   },
   {
    "duration": 29,
    "start_time": "2022-02-18T09:39:11.733Z"
   },
   {
    "duration": 6,
    "start_time": "2022-02-18T09:39:11.764Z"
   },
   {
    "duration": 80,
    "start_time": "2022-02-18T09:39:11.772Z"
   },
   {
    "duration": 122,
    "start_time": "2022-02-18T09:39:11.855Z"
   },
   {
    "duration": 124,
    "start_time": "2022-02-18T09:39:12.047Z"
   },
   {
    "duration": 73,
    "start_time": "2022-02-18T09:39:12.174Z"
   },
   {
    "duration": 108,
    "start_time": "2022-02-18T09:39:12.250Z"
   },
   {
    "duration": 6,
    "start_time": "2022-02-18T09:39:12.360Z"
   },
   {
    "duration": 989,
    "start_time": "2022-02-18T09:39:12.368Z"
   },
   {
    "duration": -1533,
    "start_time": "2022-02-18T09:39:14.892Z"
   },
   {
    "duration": -1538,
    "start_time": "2022-02-18T09:39:14.898Z"
   },
   {
    "duration": 1292,
    "start_time": "2022-02-18T09:39:49.532Z"
   },
   {
    "duration": 130,
    "start_time": "2022-02-18T09:39:50.826Z"
   },
   {
    "duration": 125,
    "start_time": "2022-02-18T09:39:50.960Z"
   },
   {
    "duration": 128,
    "start_time": "2022-02-18T09:39:51.086Z"
   },
   {
    "duration": 15,
    "start_time": "2022-02-18T09:39:51.215Z"
   },
   {
    "duration": 15,
    "start_time": "2022-02-18T09:39:51.232Z"
   },
   {
    "duration": 110,
    "start_time": "2022-02-18T09:39:51.250Z"
   },
   {
    "duration": 87,
    "start_time": "2022-02-18T09:39:51.459Z"
   },
   {
    "duration": 115,
    "start_time": "2022-02-18T09:39:51.549Z"
   },
   {
    "duration": 81,
    "start_time": "2022-02-18T09:39:51.666Z"
   },
   {
    "duration": 109,
    "start_time": "2022-02-18T09:39:51.749Z"
   },
   {
    "duration": 12,
    "start_time": "2022-02-18T09:39:51.859Z"
   },
   {
    "duration": 2923,
    "start_time": "2022-02-18T09:39:51.872Z"
   },
   {
    "duration": 2605,
    "start_time": "2022-02-18T09:39:54.796Z"
   },
   {
    "duration": 2500,
    "start_time": "2022-02-18T09:39:57.403Z"
   }
  ],
  "kernelspec": {
   "display_name": "Python 3 (ipykernel)",
   "language": "python",
   "name": "python3"
  },
  "language_info": {
   "codemirror_mode": {
    "name": "ipython",
    "version": 3
   },
   "file_extension": ".py",
   "mimetype": "text/x-python",
   "name": "python",
   "nbconvert_exporter": "python",
   "pygments_lexer": "ipython3",
   "version": "3.9.5"
  },
  "toc": {
   "base_numbering": 1,
   "nav_menu": {},
   "number_sections": true,
   "sideBar": true,
   "skip_h1_title": true,
   "title_cell": "Table of Contents",
   "title_sidebar": "Contents",
   "toc_cell": false,
   "toc_position": {},
   "toc_section_display": true,
   "toc_window_display": false
  }
 },
 "nbformat": 4,
 "nbformat_minor": 2
}
