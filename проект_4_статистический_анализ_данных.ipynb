{
 "cells": [
  {
   "cell_type": "markdown",
   "metadata": {},
   "source": [
    "<div style=\"border:solid green 2px; padding: 20px\">\n",
    "<b>Мариус, привет!</b>\n",
    "\n",
    "Меня зовут Евгений Дащенко, и я буду проверять твой проект. Предлагаю общаться на «ты» 😊 Но если это не удобно - дай знать, и мы перейдем на \"вы\". \n",
    "\n",
    "Моя основная цель — не указать на совершенные тобою ошибки, а поделиться своим опытом и помочь тебе стать аналитиком данных. Ты уже проделал большую работу над проектом, но давай сделаем его еще лучше. Ниже ты найдешь мои комментарии - пожалуйста, не перемещай, не изменяй и не удаляй их. Я буду использовать цветовую разметку:\n",
    "\n",
    "<div class=\"alert alert-danger\">\n",
    "<b>Критическая ошибка:</b> Так выделены самые важные замечания. Без их отработки проект не будет принят. </div>\n",
    "\n",
    "<div class=\"alert alert-warning\">\n",
    "<b>Хорошо, но можно и лучше:</b> Так выделены небольшие замечания. Одна-два таких замечания в проекте допустимы, но если их будет больше - тебе будет необходимо внести исправления. Это как тестовое задание при приеме на работу: очень много мелких ошибок могут стать причиной отказа кандидату. \n",
    "\n",
    "</div>\n",
    "\n",
    "<div class=\"alert alert-success\">\n",
    "<b>Все отлично:</b> Так я выделяю все остальные комментарии.</div>\n",
    "\n",
    "Давай работать над проектом в диалоге: если ты что-то меняешь в проекте или отвечаешь на мои комменатри — пиши об этом. Мне будет легче отследить изменения, если ты выделишь свои комментарии:\n",
    "<div class=\"alert alert-info\"> <b>Комментарий студента:</b> Например, вот так.</div>\n",
    "\n",
    "Всё это поможет выполнить повторную проверку твоего проекта оперативнее. "
   ]
  },
  {
   "cell_type": "markdown",
   "metadata": {},
   "source": [
    "<div class=\"alert alert-warning\">\n",
    "<b>Комментарий ревьюера:</b>\n",
    "\n",
    "<s>Рекомендуется делать краткое вступление в работу и описание того, что планируешь сделать (если план у тебя уже сформирован), а также информацию о входных данных: какие столбцы есть в таблице, их названия и какую информацию они несут. Так работа станет выглядеть презентабельнее.\n",
    "\n",
    "</div>"
   ]
  },
  {
   "cell_type": "markdown",
   "metadata": {},
   "source": [
    "<div class=\"alert alert-info\"> <b>Комментарий студента:</b> Здравствуйте. Спасибо за комментарии.</div>"
   ]
  },
  {
   "cell_type": "markdown",
   "metadata": {},
   "source": [
    "Нужно сделать предварительный анализ тарифов на небольшой выборке клиентов. В распоряжении данные 500 пользователей «Мегалайна»: кто они, откуда, каким тарифом пользуются, сколько звонков и сообщений каждый отправил за 2018 год. Нужно проанализировать поведение клиентов и сделать вывод — какой тариф лучше."
   ]
  },
  {
   "cell_type": "markdown",
   "metadata": {},
   "source": [
    "Описание тарифов\n",
    "\n",
    "а) Тариф «Смарт»\n",
    "\n",
    "Ежемесячная плата: 550 рублей\n",
    "Включено 500 минут разговора, 50 сообщений и 15 Гб интернет-трафика\n",
    "Стоимость услуг сверх тарифного пакета: 1. минута разговора: 3 рубля («Мегалайн» всегда округляет вверх значения минут и мегабайтов. Если пользователь проговорил всего 1 секунду, в тарифе засчитывается целая минута); 2. сообщение: 3 рубля; 3. 1 Гб интернет-трафика: 200 рублей.\n",
    "\n",
    "б) Тариф «Ультра»\n",
    "\n",
    "Ежемесячная плата: 1950 рублей\n",
    "Включено 3000 минут разговора, 1000 сообщений и 30 Гб интернет-трафика\n",
    "Стоимость услуг сверх тарифного пакета: 1. минута разговора: 1 рубль; 2. сообщение: 1 рубль; 3. 1 Гб интернет-трафика: 150 рублей."
   ]
  },
  {
   "cell_type": "markdown",
   "metadata": {},
   "source": [
    "Этапы работы\n",
    "1. изучение общей информации\n",
    "2. подготовка данных (приведение данных к нужному типу, исправление ошибок)\n",
    "\n",
    "    Посчитать для каждого пользователя:\n",
    "    количество сделанных звонков и израсходованных минут разговора по месяцам;\n",
    "    количество отправленных сообщений по месяцам;\n",
    "    объем израсходованного интернет-трафика по месяцам;\n",
    "    помесячную выручку с каждого пользователя.\n",
    "    \n",
    "    \n",
    "3. анализ данных\n",
    "\n",
    "    Описать поведение клиентов оператора, исходя из выборки. Сколько минут разговора, сколько сообщений и какой объём интернет-трафика требуется пользователям каждого тарифа в месяц? Посчитать среднее количество, дисперсию и стандартное отклонение. Постройте гистограммы. Опишите распределения.\n",
    "\n",
    "\n",
    "4. проверка гипотез\n",
    "\n",
    "    средняя выручка пользователей тарифов «Ультра» и «Смарт» различаются;\n",
    "    \n",
    "    средняя выручка пользователей из Москвы отличается от выручки пользователей из других регионов.\n",
    "    \n",
    "\n",
    "Описание данных\n",
    "\n",
    "    1. Таблица users (информация о пользователях):\n",
    "\n",
    "user_id — уникальный идентификатор пользователя\n",
    "\n",
    "first_name — имя пользователя\n",
    "\n",
    "last_name — фамилия пользователя\n",
    "\n",
    "age — возраст пользователя (годы)\n",
    "\n",
    "reg_date — дата подключения тарифа (день, месяц, год)\n",
    "\n",
    "churn_date — дата прекращения пользования тарифом (если значение пропущено, то тариф ещё действовал на момент выгрузки данных)\n",
    "\n",
    "city — город проживания пользователя\n",
    "\n",
    "tarif — название тарифного плана\n",
    "\n",
    "    2. Таблица calls (информация о звонках):\n",
    "\n",
    "id — уникальный номер звонка\n",
    "\n",
    "call_date — дата звонка\n",
    "\n",
    "duration — длительность звонка в минутах\n",
    "\n",
    "user_id — идентификатор пользователя, сделавшего звонок\n",
    "\n",
    "    3. Таблица messages (информация о сообщениях):\n",
    "\n",
    "id — уникальный номер сообщения\n",
    "\n",
    "message_date — дата сообщения\n",
    "\n",
    "user_id — идентификатор пользователя, отправившего сообщение\n",
    "\n",
    "    4. Таблица internet (информация об интернет-сессиях):\n",
    "\n",
    "id — уникальный номер сессии\n",
    "\n",
    "mb_used — объём потраченного за сессию интернет-трафика (в мегабайтах)\n",
    "\n",
    "session_date — дата интернет-сессии\n",
    "\n",
    "user_id — идентификатор пользователя\n",
    "\n",
    "    5. Таблица tariffs (информация о тарифах):\n",
    "\n",
    "tariff_name — название тарифа\n",
    "\n",
    "rub_monthly_fee — ежемесячная абонентская плата в рублях\n",
    "\n",
    "minutes_included — количество минут разговора в месяц, включённых в абонентскую плату\n",
    "\n",
    "messages_included — количество сообщений в месяц, включённых в абонентскую плату\n",
    "\n",
    "mb_per_month_included — объём интернет-трафика, включённого в абонентскую плату (в мегабайтах)\n",
    "\n",
    "rub_per_minute — стоимость минуты разговора сверх тарифного пакета (например, если в тарифе 100 минут разговора в месяц, то со 101 минуты будет взиматься плата)\n",
    "\n",
    "rub_per_message — стоимость отправки сообщения сверх тарифного пакета\n",
    "\n",
    "rub_per_gb — стоимость дополнительного гигабайта интернет-трафика сверх тарифного пакета (1 гигабайт = 1024 мегабайта)\n"
   ]
  },
  {
   "cell_type": "markdown",
   "metadata": {},
   "source": [
    "# Шаг 1. Открытие файла с данными и изучение общей информации"
   ]
  },
  {
   "cell_type": "code",
   "execution_count": 1,
   "metadata": {},
   "outputs": [],
   "source": [
    "import pandas as pd\n",
    "import numpy as np\n",
    "import matplotlib.pyplot as plt\n",
    "import seaborn as sns\n",
    "from scipy import stats as st"
   ]
  },
  {
   "cell_type": "code",
   "execution_count": 2,
   "metadata": {},
   "outputs": [
    {
     "data": {
      "text/html": [
       "<div>\n",
       "<style scoped>\n",
       "    .dataframe tbody tr th:only-of-type {\n",
       "        vertical-align: middle;\n",
       "    }\n",
       "\n",
       "    .dataframe tbody tr th {\n",
       "        vertical-align: top;\n",
       "    }\n",
       "\n",
       "    .dataframe thead th {\n",
       "        text-align: right;\n",
       "    }\n",
       "</style>\n",
       "<table border=\"1\" class=\"dataframe\">\n",
       "  <thead>\n",
       "    <tr style=\"text-align: right;\">\n",
       "      <th></th>\n",
       "      <th>id</th>\n",
       "      <th>call_date</th>\n",
       "      <th>duration</th>\n",
       "      <th>user_id</th>\n",
       "    </tr>\n",
       "  </thead>\n",
       "  <tbody>\n",
       "    <tr>\n",
       "      <td>0</td>\n",
       "      <td>1000_0</td>\n",
       "      <td>2018-07-25</td>\n",
       "      <td>0.00</td>\n",
       "      <td>1000</td>\n",
       "    </tr>\n",
       "    <tr>\n",
       "      <td>1</td>\n",
       "      <td>1000_1</td>\n",
       "      <td>2018-08-17</td>\n",
       "      <td>0.00</td>\n",
       "      <td>1000</td>\n",
       "    </tr>\n",
       "    <tr>\n",
       "      <td>2</td>\n",
       "      <td>1000_2</td>\n",
       "      <td>2018-06-11</td>\n",
       "      <td>2.85</td>\n",
       "      <td>1000</td>\n",
       "    </tr>\n",
       "    <tr>\n",
       "      <td>3</td>\n",
       "      <td>1000_3</td>\n",
       "      <td>2018-09-21</td>\n",
       "      <td>13.80</td>\n",
       "      <td>1000</td>\n",
       "    </tr>\n",
       "    <tr>\n",
       "      <td>4</td>\n",
       "      <td>1000_4</td>\n",
       "      <td>2018-12-15</td>\n",
       "      <td>5.18</td>\n",
       "      <td>1000</td>\n",
       "    </tr>\n",
       "  </tbody>\n",
       "</table>\n",
       "</div>"
      ],
      "text/plain": [
       "       id   call_date  duration  user_id\n",
       "0  1000_0  2018-07-25      0.00     1000\n",
       "1  1000_1  2018-08-17      0.00     1000\n",
       "2  1000_2  2018-06-11      2.85     1000\n",
       "3  1000_3  2018-09-21     13.80     1000\n",
       "4  1000_4  2018-12-15      5.18     1000"
      ]
     },
     "metadata": {},
     "output_type": "display_data"
    },
    {
     "data": {
      "text/html": [
       "<div>\n",
       "<style scoped>\n",
       "    .dataframe tbody tr th:only-of-type {\n",
       "        vertical-align: middle;\n",
       "    }\n",
       "\n",
       "    .dataframe tbody tr th {\n",
       "        vertical-align: top;\n",
       "    }\n",
       "\n",
       "    .dataframe thead th {\n",
       "        text-align: right;\n",
       "    }\n",
       "</style>\n",
       "<table border=\"1\" class=\"dataframe\">\n",
       "  <thead>\n",
       "    <tr style=\"text-align: right;\">\n",
       "      <th></th>\n",
       "      <th>Unnamed: 0</th>\n",
       "      <th>id</th>\n",
       "      <th>mb_used</th>\n",
       "      <th>session_date</th>\n",
       "      <th>user_id</th>\n",
       "    </tr>\n",
       "  </thead>\n",
       "  <tbody>\n",
       "    <tr>\n",
       "      <td>0</td>\n",
       "      <td>0</td>\n",
       "      <td>1000_0</td>\n",
       "      <td>112.95</td>\n",
       "      <td>2018-11-25</td>\n",
       "      <td>1000</td>\n",
       "    </tr>\n",
       "    <tr>\n",
       "      <td>1</td>\n",
       "      <td>1</td>\n",
       "      <td>1000_1</td>\n",
       "      <td>1052.81</td>\n",
       "      <td>2018-09-07</td>\n",
       "      <td>1000</td>\n",
       "    </tr>\n",
       "    <tr>\n",
       "      <td>2</td>\n",
       "      <td>2</td>\n",
       "      <td>1000_2</td>\n",
       "      <td>1197.26</td>\n",
       "      <td>2018-06-25</td>\n",
       "      <td>1000</td>\n",
       "    </tr>\n",
       "    <tr>\n",
       "      <td>3</td>\n",
       "      <td>3</td>\n",
       "      <td>1000_3</td>\n",
       "      <td>550.27</td>\n",
       "      <td>2018-08-22</td>\n",
       "      <td>1000</td>\n",
       "    </tr>\n",
       "    <tr>\n",
       "      <td>4</td>\n",
       "      <td>4</td>\n",
       "      <td>1000_4</td>\n",
       "      <td>302.56</td>\n",
       "      <td>2018-09-24</td>\n",
       "      <td>1000</td>\n",
       "    </tr>\n",
       "  </tbody>\n",
       "</table>\n",
       "</div>"
      ],
      "text/plain": [
       "   Unnamed: 0      id  mb_used session_date  user_id\n",
       "0           0  1000_0   112.95   2018-11-25     1000\n",
       "1           1  1000_1  1052.81   2018-09-07     1000\n",
       "2           2  1000_2  1197.26   2018-06-25     1000\n",
       "3           3  1000_3   550.27   2018-08-22     1000\n",
       "4           4  1000_4   302.56   2018-09-24     1000"
      ]
     },
     "metadata": {},
     "output_type": "display_data"
    },
    {
     "data": {
      "text/html": [
       "<div>\n",
       "<style scoped>\n",
       "    .dataframe tbody tr th:only-of-type {\n",
       "        vertical-align: middle;\n",
       "    }\n",
       "\n",
       "    .dataframe tbody tr th {\n",
       "        vertical-align: top;\n",
       "    }\n",
       "\n",
       "    .dataframe thead th {\n",
       "        text-align: right;\n",
       "    }\n",
       "</style>\n",
       "<table border=\"1\" class=\"dataframe\">\n",
       "  <thead>\n",
       "    <tr style=\"text-align: right;\">\n",
       "      <th></th>\n",
       "      <th>id</th>\n",
       "      <th>message_date</th>\n",
       "      <th>user_id</th>\n",
       "    </tr>\n",
       "  </thead>\n",
       "  <tbody>\n",
       "    <tr>\n",
       "      <td>0</td>\n",
       "      <td>1000_0</td>\n",
       "      <td>2018-06-27</td>\n",
       "      <td>1000</td>\n",
       "    </tr>\n",
       "    <tr>\n",
       "      <td>1</td>\n",
       "      <td>1000_1</td>\n",
       "      <td>2018-10-08</td>\n",
       "      <td>1000</td>\n",
       "    </tr>\n",
       "    <tr>\n",
       "      <td>2</td>\n",
       "      <td>1000_2</td>\n",
       "      <td>2018-08-04</td>\n",
       "      <td>1000</td>\n",
       "    </tr>\n",
       "    <tr>\n",
       "      <td>3</td>\n",
       "      <td>1000_3</td>\n",
       "      <td>2018-06-16</td>\n",
       "      <td>1000</td>\n",
       "    </tr>\n",
       "    <tr>\n",
       "      <td>4</td>\n",
       "      <td>1000_4</td>\n",
       "      <td>2018-12-05</td>\n",
       "      <td>1000</td>\n",
       "    </tr>\n",
       "  </tbody>\n",
       "</table>\n",
       "</div>"
      ],
      "text/plain": [
       "       id message_date  user_id\n",
       "0  1000_0   2018-06-27     1000\n",
       "1  1000_1   2018-10-08     1000\n",
       "2  1000_2   2018-08-04     1000\n",
       "3  1000_3   2018-06-16     1000\n",
       "4  1000_4   2018-12-05     1000"
      ]
     },
     "metadata": {},
     "output_type": "display_data"
    },
    {
     "data": {
      "text/html": [
       "<div>\n",
       "<style scoped>\n",
       "    .dataframe tbody tr th:only-of-type {\n",
       "        vertical-align: middle;\n",
       "    }\n",
       "\n",
       "    .dataframe tbody tr th {\n",
       "        vertical-align: top;\n",
       "    }\n",
       "\n",
       "    .dataframe thead th {\n",
       "        text-align: right;\n",
       "    }\n",
       "</style>\n",
       "<table border=\"1\" class=\"dataframe\">\n",
       "  <thead>\n",
       "    <tr style=\"text-align: right;\">\n",
       "      <th></th>\n",
       "      <th>messages_included</th>\n",
       "      <th>mb_per_month_included</th>\n",
       "      <th>minutes_included</th>\n",
       "      <th>rub_monthly_fee</th>\n",
       "      <th>rub_per_gb</th>\n",
       "      <th>rub_per_message</th>\n",
       "      <th>rub_per_minute</th>\n",
       "      <th>tariff_name</th>\n",
       "    </tr>\n",
       "  </thead>\n",
       "  <tbody>\n",
       "    <tr>\n",
       "      <td>0</td>\n",
       "      <td>50</td>\n",
       "      <td>15360</td>\n",
       "      <td>500</td>\n",
       "      <td>550</td>\n",
       "      <td>200</td>\n",
       "      <td>3</td>\n",
       "      <td>3</td>\n",
       "      <td>smart</td>\n",
       "    </tr>\n",
       "    <tr>\n",
       "      <td>1</td>\n",
       "      <td>1000</td>\n",
       "      <td>30720</td>\n",
       "      <td>3000</td>\n",
       "      <td>1950</td>\n",
       "      <td>150</td>\n",
       "      <td>1</td>\n",
       "      <td>1</td>\n",
       "      <td>ultra</td>\n",
       "    </tr>\n",
       "  </tbody>\n",
       "</table>\n",
       "</div>"
      ],
      "text/plain": [
       "   messages_included  mb_per_month_included  minutes_included  \\\n",
       "0                 50                  15360               500   \n",
       "1               1000                  30720              3000   \n",
       "\n",
       "   rub_monthly_fee  rub_per_gb  rub_per_message  rub_per_minute tariff_name  \n",
       "0              550         200                3               3       smart  \n",
       "1             1950         150                1               1       ultra  "
      ]
     },
     "metadata": {},
     "output_type": "display_data"
    },
    {
     "data": {
      "text/html": [
       "<div>\n",
       "<style scoped>\n",
       "    .dataframe tbody tr th:only-of-type {\n",
       "        vertical-align: middle;\n",
       "    }\n",
       "\n",
       "    .dataframe tbody tr th {\n",
       "        vertical-align: top;\n",
       "    }\n",
       "\n",
       "    .dataframe thead th {\n",
       "        text-align: right;\n",
       "    }\n",
       "</style>\n",
       "<table border=\"1\" class=\"dataframe\">\n",
       "  <thead>\n",
       "    <tr style=\"text-align: right;\">\n",
       "      <th></th>\n",
       "      <th>user_id</th>\n",
       "      <th>age</th>\n",
       "      <th>churn_date</th>\n",
       "      <th>city</th>\n",
       "      <th>first_name</th>\n",
       "      <th>last_name</th>\n",
       "      <th>reg_date</th>\n",
       "      <th>tariff</th>\n",
       "    </tr>\n",
       "  </thead>\n",
       "  <tbody>\n",
       "    <tr>\n",
       "      <td>0</td>\n",
       "      <td>1000</td>\n",
       "      <td>52</td>\n",
       "      <td>NaN</td>\n",
       "      <td>Краснодар</td>\n",
       "      <td>Рафаил</td>\n",
       "      <td>Верещагин</td>\n",
       "      <td>2018-05-25</td>\n",
       "      <td>ultra</td>\n",
       "    </tr>\n",
       "    <tr>\n",
       "      <td>1</td>\n",
       "      <td>1001</td>\n",
       "      <td>41</td>\n",
       "      <td>NaN</td>\n",
       "      <td>Москва</td>\n",
       "      <td>Иван</td>\n",
       "      <td>Ежов</td>\n",
       "      <td>2018-11-01</td>\n",
       "      <td>smart</td>\n",
       "    </tr>\n",
       "    <tr>\n",
       "      <td>2</td>\n",
       "      <td>1002</td>\n",
       "      <td>59</td>\n",
       "      <td>NaN</td>\n",
       "      <td>Стерлитамак</td>\n",
       "      <td>Евгений</td>\n",
       "      <td>Абрамович</td>\n",
       "      <td>2018-06-17</td>\n",
       "      <td>smart</td>\n",
       "    </tr>\n",
       "    <tr>\n",
       "      <td>3</td>\n",
       "      <td>1003</td>\n",
       "      <td>23</td>\n",
       "      <td>NaN</td>\n",
       "      <td>Москва</td>\n",
       "      <td>Белла</td>\n",
       "      <td>Белякова</td>\n",
       "      <td>2018-08-17</td>\n",
       "      <td>ultra</td>\n",
       "    </tr>\n",
       "    <tr>\n",
       "      <td>4</td>\n",
       "      <td>1004</td>\n",
       "      <td>68</td>\n",
       "      <td>NaN</td>\n",
       "      <td>Новокузнецк</td>\n",
       "      <td>Татьяна</td>\n",
       "      <td>Авдеенко</td>\n",
       "      <td>2018-05-14</td>\n",
       "      <td>ultra</td>\n",
       "    </tr>\n",
       "  </tbody>\n",
       "</table>\n",
       "</div>"
      ],
      "text/plain": [
       "   user_id  age churn_date         city first_name  last_name    reg_date  \\\n",
       "0     1000   52        NaN    Краснодар     Рафаил  Верещагин  2018-05-25   \n",
       "1     1001   41        NaN       Москва       Иван       Ежов  2018-11-01   \n",
       "2     1002   59        NaN  Стерлитамак    Евгений  Абрамович  2018-06-17   \n",
       "3     1003   23        NaN       Москва      Белла   Белякова  2018-08-17   \n",
       "4     1004   68        NaN  Новокузнецк    Татьяна   Авдеенко  2018-05-14   \n",
       "\n",
       "  tariff  \n",
       "0  ultra  \n",
       "1  smart  \n",
       "2  smart  \n",
       "3  ultra  \n",
       "4  ultra  "
      ]
     },
     "metadata": {},
     "output_type": "display_data"
    }
   ],
   "source": [
    "calls = pd.read_csv('/datasets/calls.csv')\n",
    "internet = pd.read_csv('/datasets/internet.csv')\n",
    "messages = pd.read_csv('/datasets/messages.csv')\n",
    "tariffs = pd.read_csv('/datasets/tariffs.csv')\n",
    "users = pd.read_csv('/datasets/users.csv')\n",
    "\n",
    "display(calls.head())\n",
    "display(internet.head())\n",
    "display(messages.head())\n",
    "display(tariffs.head())\n",
    "display(users.head())"
   ]
  },
  {
   "cell_type": "code",
   "execution_count": 3,
   "metadata": {},
   "outputs": [
    {
     "name": "stdout",
     "output_type": "stream",
     "text": [
      "<class 'pandas.core.frame.DataFrame'>\n",
      "RangeIndex: 202607 entries, 0 to 202606\n",
      "Data columns (total 4 columns):\n",
      "id           202607 non-null object\n",
      "call_date    202607 non-null object\n",
      "duration     202607 non-null float64\n",
      "user_id      202607 non-null int64\n",
      "dtypes: float64(1), int64(1), object(2)\n",
      "memory usage: 6.2+ MB\n"
     ]
    },
    {
     "data": {
      "text/plain": [
       "None"
      ]
     },
     "metadata": {},
     "output_type": "display_data"
    },
    {
     "name": "stdout",
     "output_type": "stream",
     "text": [
      "<class 'pandas.core.frame.DataFrame'>\n",
      "RangeIndex: 149396 entries, 0 to 149395\n",
      "Data columns (total 5 columns):\n",
      "Unnamed: 0      149396 non-null int64\n",
      "id              149396 non-null object\n",
      "mb_used         149396 non-null float64\n",
      "session_date    149396 non-null object\n",
      "user_id         149396 non-null int64\n",
      "dtypes: float64(1), int64(2), object(2)\n",
      "memory usage: 5.7+ MB\n"
     ]
    },
    {
     "data": {
      "text/plain": [
       "None"
      ]
     },
     "metadata": {},
     "output_type": "display_data"
    },
    {
     "name": "stdout",
     "output_type": "stream",
     "text": [
      "<class 'pandas.core.frame.DataFrame'>\n",
      "RangeIndex: 123036 entries, 0 to 123035\n",
      "Data columns (total 3 columns):\n",
      "id              123036 non-null object\n",
      "message_date    123036 non-null object\n",
      "user_id         123036 non-null int64\n",
      "dtypes: int64(1), object(2)\n",
      "memory usage: 2.8+ MB\n"
     ]
    },
    {
     "data": {
      "text/plain": [
       "None"
      ]
     },
     "metadata": {},
     "output_type": "display_data"
    },
    {
     "name": "stdout",
     "output_type": "stream",
     "text": [
      "<class 'pandas.core.frame.DataFrame'>\n",
      "RangeIndex: 2 entries, 0 to 1\n",
      "Data columns (total 8 columns):\n",
      "messages_included        2 non-null int64\n",
      "mb_per_month_included    2 non-null int64\n",
      "minutes_included         2 non-null int64\n",
      "rub_monthly_fee          2 non-null int64\n",
      "rub_per_gb               2 non-null int64\n",
      "rub_per_message          2 non-null int64\n",
      "rub_per_minute           2 non-null int64\n",
      "tariff_name              2 non-null object\n",
      "dtypes: int64(7), object(1)\n",
      "memory usage: 256.0+ bytes\n"
     ]
    },
    {
     "data": {
      "text/plain": [
       "None"
      ]
     },
     "metadata": {},
     "output_type": "display_data"
    },
    {
     "name": "stdout",
     "output_type": "stream",
     "text": [
      "<class 'pandas.core.frame.DataFrame'>\n",
      "RangeIndex: 500 entries, 0 to 499\n",
      "Data columns (total 8 columns):\n",
      "user_id       500 non-null int64\n",
      "age           500 non-null int64\n",
      "churn_date    38 non-null object\n",
      "city          500 non-null object\n",
      "first_name    500 non-null object\n",
      "last_name     500 non-null object\n",
      "reg_date      500 non-null object\n",
      "tariff        500 non-null object\n",
      "dtypes: int64(2), object(6)\n",
      "memory usage: 31.4+ KB\n"
     ]
    },
    {
     "data": {
      "text/plain": [
       "None"
      ]
     },
     "metadata": {},
     "output_type": "display_data"
    }
   ],
   "source": [
    "display(calls.info())\n",
    "display(internet.info())\n",
    "display(messages.info())\n",
    "display(tariffs.info())\n",
    "display(users.info())"
   ]
  },
  {
   "cell_type": "code",
   "execution_count": 4,
   "metadata": {},
   "outputs": [
    {
     "data": {
      "text/html": [
       "<div>\n",
       "<style scoped>\n",
       "    .dataframe tbody tr th:only-of-type {\n",
       "        vertical-align: middle;\n",
       "    }\n",
       "\n",
       "    .dataframe tbody tr th {\n",
       "        vertical-align: top;\n",
       "    }\n",
       "\n",
       "    .dataframe thead th {\n",
       "        text-align: right;\n",
       "    }\n",
       "</style>\n",
       "<table border=\"1\" class=\"dataframe\">\n",
       "  <thead>\n",
       "    <tr style=\"text-align: right;\">\n",
       "      <th></th>\n",
       "      <th>duration</th>\n",
       "      <th>user_id</th>\n",
       "    </tr>\n",
       "  </thead>\n",
       "  <tbody>\n",
       "    <tr>\n",
       "      <td>count</td>\n",
       "      <td>202607.000000</td>\n",
       "      <td>202607.000000</td>\n",
       "    </tr>\n",
       "    <tr>\n",
       "      <td>mean</td>\n",
       "      <td>6.755887</td>\n",
       "      <td>1253.940619</td>\n",
       "    </tr>\n",
       "    <tr>\n",
       "      <td>std</td>\n",
       "      <td>5.843365</td>\n",
       "      <td>144.722751</td>\n",
       "    </tr>\n",
       "    <tr>\n",
       "      <td>min</td>\n",
       "      <td>0.000000</td>\n",
       "      <td>1000.000000</td>\n",
       "    </tr>\n",
       "    <tr>\n",
       "      <td>25%</td>\n",
       "      <td>1.300000</td>\n",
       "      <td>1126.000000</td>\n",
       "    </tr>\n",
       "    <tr>\n",
       "      <td>50%</td>\n",
       "      <td>6.000000</td>\n",
       "      <td>1260.000000</td>\n",
       "    </tr>\n",
       "    <tr>\n",
       "      <td>75%</td>\n",
       "      <td>10.700000</td>\n",
       "      <td>1379.000000</td>\n",
       "    </tr>\n",
       "    <tr>\n",
       "      <td>max</td>\n",
       "      <td>38.000000</td>\n",
       "      <td>1499.000000</td>\n",
       "    </tr>\n",
       "  </tbody>\n",
       "</table>\n",
       "</div>"
      ],
      "text/plain": [
       "            duration        user_id\n",
       "count  202607.000000  202607.000000\n",
       "mean        6.755887    1253.940619\n",
       "std         5.843365     144.722751\n",
       "min         0.000000    1000.000000\n",
       "25%         1.300000    1126.000000\n",
       "50%         6.000000    1260.000000\n",
       "75%        10.700000    1379.000000\n",
       "max        38.000000    1499.000000"
      ]
     },
     "metadata": {},
     "output_type": "display_data"
    },
    {
     "data": {
      "text/html": [
       "<div>\n",
       "<style scoped>\n",
       "    .dataframe tbody tr th:only-of-type {\n",
       "        vertical-align: middle;\n",
       "    }\n",
       "\n",
       "    .dataframe tbody tr th {\n",
       "        vertical-align: top;\n",
       "    }\n",
       "\n",
       "    .dataframe thead th {\n",
       "        text-align: right;\n",
       "    }\n",
       "</style>\n",
       "<table border=\"1\" class=\"dataframe\">\n",
       "  <thead>\n",
       "    <tr style=\"text-align: right;\">\n",
       "      <th></th>\n",
       "      <th>Unnamed: 0</th>\n",
       "      <th>mb_used</th>\n",
       "      <th>user_id</th>\n",
       "    </tr>\n",
       "  </thead>\n",
       "  <tbody>\n",
       "    <tr>\n",
       "      <td>count</td>\n",
       "      <td>149396.000000</td>\n",
       "      <td>149396.000000</td>\n",
       "      <td>149396.000000</td>\n",
       "    </tr>\n",
       "    <tr>\n",
       "      <td>mean</td>\n",
       "      <td>74697.500000</td>\n",
       "      <td>370.192426</td>\n",
       "      <td>1252.099842</td>\n",
       "    </tr>\n",
       "    <tr>\n",
       "      <td>std</td>\n",
       "      <td>43127.054745</td>\n",
       "      <td>278.300951</td>\n",
       "      <td>144.050823</td>\n",
       "    </tr>\n",
       "    <tr>\n",
       "      <td>min</td>\n",
       "      <td>0.000000</td>\n",
       "      <td>0.000000</td>\n",
       "      <td>1000.000000</td>\n",
       "    </tr>\n",
       "    <tr>\n",
       "      <td>25%</td>\n",
       "      <td>37348.750000</td>\n",
       "      <td>138.187500</td>\n",
       "      <td>1130.000000</td>\n",
       "    </tr>\n",
       "    <tr>\n",
       "      <td>50%</td>\n",
       "      <td>74697.500000</td>\n",
       "      <td>348.015000</td>\n",
       "      <td>1251.000000</td>\n",
       "    </tr>\n",
       "    <tr>\n",
       "      <td>75%</td>\n",
       "      <td>112046.250000</td>\n",
       "      <td>559.552500</td>\n",
       "      <td>1380.000000</td>\n",
       "    </tr>\n",
       "    <tr>\n",
       "      <td>max</td>\n",
       "      <td>149395.000000</td>\n",
       "      <td>1724.830000</td>\n",
       "      <td>1499.000000</td>\n",
       "    </tr>\n",
       "  </tbody>\n",
       "</table>\n",
       "</div>"
      ],
      "text/plain": [
       "          Unnamed: 0        mb_used        user_id\n",
       "count  149396.000000  149396.000000  149396.000000\n",
       "mean    74697.500000     370.192426    1252.099842\n",
       "std     43127.054745     278.300951     144.050823\n",
       "min         0.000000       0.000000    1000.000000\n",
       "25%     37348.750000     138.187500    1130.000000\n",
       "50%     74697.500000     348.015000    1251.000000\n",
       "75%    112046.250000     559.552500    1380.000000\n",
       "max    149395.000000    1724.830000    1499.000000"
      ]
     },
     "metadata": {},
     "output_type": "display_data"
    },
    {
     "data": {
      "text/html": [
       "<div>\n",
       "<style scoped>\n",
       "    .dataframe tbody tr th:only-of-type {\n",
       "        vertical-align: middle;\n",
       "    }\n",
       "\n",
       "    .dataframe tbody tr th {\n",
       "        vertical-align: top;\n",
       "    }\n",
       "\n",
       "    .dataframe thead th {\n",
       "        text-align: right;\n",
       "    }\n",
       "</style>\n",
       "<table border=\"1\" class=\"dataframe\">\n",
       "  <thead>\n",
       "    <tr style=\"text-align: right;\">\n",
       "      <th></th>\n",
       "      <th>user_id</th>\n",
       "    </tr>\n",
       "  </thead>\n",
       "  <tbody>\n",
       "    <tr>\n",
       "      <td>count</td>\n",
       "      <td>123036.000000</td>\n",
       "    </tr>\n",
       "    <tr>\n",
       "      <td>mean</td>\n",
       "      <td>1256.989410</td>\n",
       "    </tr>\n",
       "    <tr>\n",
       "      <td>std</td>\n",
       "      <td>143.523967</td>\n",
       "    </tr>\n",
       "    <tr>\n",
       "      <td>min</td>\n",
       "      <td>1000.000000</td>\n",
       "    </tr>\n",
       "    <tr>\n",
       "      <td>25%</td>\n",
       "      <td>1134.000000</td>\n",
       "    </tr>\n",
       "    <tr>\n",
       "      <td>50%</td>\n",
       "      <td>1271.000000</td>\n",
       "    </tr>\n",
       "    <tr>\n",
       "      <td>75%</td>\n",
       "      <td>1381.000000</td>\n",
       "    </tr>\n",
       "    <tr>\n",
       "      <td>max</td>\n",
       "      <td>1499.000000</td>\n",
       "    </tr>\n",
       "  </tbody>\n",
       "</table>\n",
       "</div>"
      ],
      "text/plain": [
       "             user_id\n",
       "count  123036.000000\n",
       "mean     1256.989410\n",
       "std       143.523967\n",
       "min      1000.000000\n",
       "25%      1134.000000\n",
       "50%      1271.000000\n",
       "75%      1381.000000\n",
       "max      1499.000000"
      ]
     },
     "metadata": {},
     "output_type": "display_data"
    },
    {
     "data": {
      "text/html": [
       "<div>\n",
       "<style scoped>\n",
       "    .dataframe tbody tr th:only-of-type {\n",
       "        vertical-align: middle;\n",
       "    }\n",
       "\n",
       "    .dataframe tbody tr th {\n",
       "        vertical-align: top;\n",
       "    }\n",
       "\n",
       "    .dataframe thead th {\n",
       "        text-align: right;\n",
       "    }\n",
       "</style>\n",
       "<table border=\"1\" class=\"dataframe\">\n",
       "  <thead>\n",
       "    <tr style=\"text-align: right;\">\n",
       "      <th></th>\n",
       "      <th>messages_included</th>\n",
       "      <th>mb_per_month_included</th>\n",
       "      <th>minutes_included</th>\n",
       "      <th>rub_monthly_fee</th>\n",
       "      <th>rub_per_gb</th>\n",
       "      <th>rub_per_message</th>\n",
       "      <th>rub_per_minute</th>\n",
       "    </tr>\n",
       "  </thead>\n",
       "  <tbody>\n",
       "    <tr>\n",
       "      <td>count</td>\n",
       "      <td>2.000000</td>\n",
       "      <td>2.000000</td>\n",
       "      <td>2.000000</td>\n",
       "      <td>2.000000</td>\n",
       "      <td>2.000000</td>\n",
       "      <td>2.000000</td>\n",
       "      <td>2.000000</td>\n",
       "    </tr>\n",
       "    <tr>\n",
       "      <td>mean</td>\n",
       "      <td>525.000000</td>\n",
       "      <td>23040.000000</td>\n",
       "      <td>1750.000000</td>\n",
       "      <td>1250.000000</td>\n",
       "      <td>175.000000</td>\n",
       "      <td>2.000000</td>\n",
       "      <td>2.000000</td>\n",
       "    </tr>\n",
       "    <tr>\n",
       "      <td>std</td>\n",
       "      <td>671.751442</td>\n",
       "      <td>10861.160159</td>\n",
       "      <td>1767.766953</td>\n",
       "      <td>989.949494</td>\n",
       "      <td>35.355339</td>\n",
       "      <td>1.414214</td>\n",
       "      <td>1.414214</td>\n",
       "    </tr>\n",
       "    <tr>\n",
       "      <td>min</td>\n",
       "      <td>50.000000</td>\n",
       "      <td>15360.000000</td>\n",
       "      <td>500.000000</td>\n",
       "      <td>550.000000</td>\n",
       "      <td>150.000000</td>\n",
       "      <td>1.000000</td>\n",
       "      <td>1.000000</td>\n",
       "    </tr>\n",
       "    <tr>\n",
       "      <td>25%</td>\n",
       "      <td>287.500000</td>\n",
       "      <td>19200.000000</td>\n",
       "      <td>1125.000000</td>\n",
       "      <td>900.000000</td>\n",
       "      <td>162.500000</td>\n",
       "      <td>1.500000</td>\n",
       "      <td>1.500000</td>\n",
       "    </tr>\n",
       "    <tr>\n",
       "      <td>50%</td>\n",
       "      <td>525.000000</td>\n",
       "      <td>23040.000000</td>\n",
       "      <td>1750.000000</td>\n",
       "      <td>1250.000000</td>\n",
       "      <td>175.000000</td>\n",
       "      <td>2.000000</td>\n",
       "      <td>2.000000</td>\n",
       "    </tr>\n",
       "    <tr>\n",
       "      <td>75%</td>\n",
       "      <td>762.500000</td>\n",
       "      <td>26880.000000</td>\n",
       "      <td>2375.000000</td>\n",
       "      <td>1600.000000</td>\n",
       "      <td>187.500000</td>\n",
       "      <td>2.500000</td>\n",
       "      <td>2.500000</td>\n",
       "    </tr>\n",
       "    <tr>\n",
       "      <td>max</td>\n",
       "      <td>1000.000000</td>\n",
       "      <td>30720.000000</td>\n",
       "      <td>3000.000000</td>\n",
       "      <td>1950.000000</td>\n",
       "      <td>200.000000</td>\n",
       "      <td>3.000000</td>\n",
       "      <td>3.000000</td>\n",
       "    </tr>\n",
       "  </tbody>\n",
       "</table>\n",
       "</div>"
      ],
      "text/plain": [
       "       messages_included  mb_per_month_included  minutes_included  \\\n",
       "count           2.000000               2.000000          2.000000   \n",
       "mean          525.000000           23040.000000       1750.000000   \n",
       "std           671.751442           10861.160159       1767.766953   \n",
       "min            50.000000           15360.000000        500.000000   \n",
       "25%           287.500000           19200.000000       1125.000000   \n",
       "50%           525.000000           23040.000000       1750.000000   \n",
       "75%           762.500000           26880.000000       2375.000000   \n",
       "max          1000.000000           30720.000000       3000.000000   \n",
       "\n",
       "       rub_monthly_fee  rub_per_gb  rub_per_message  rub_per_minute  \n",
       "count         2.000000    2.000000         2.000000        2.000000  \n",
       "mean       1250.000000  175.000000         2.000000        2.000000  \n",
       "std         989.949494   35.355339         1.414214        1.414214  \n",
       "min         550.000000  150.000000         1.000000        1.000000  \n",
       "25%         900.000000  162.500000         1.500000        1.500000  \n",
       "50%        1250.000000  175.000000         2.000000        2.000000  \n",
       "75%        1600.000000  187.500000         2.500000        2.500000  \n",
       "max        1950.000000  200.000000         3.000000        3.000000  "
      ]
     },
     "metadata": {},
     "output_type": "display_data"
    },
    {
     "data": {
      "text/html": [
       "<div>\n",
       "<style scoped>\n",
       "    .dataframe tbody tr th:only-of-type {\n",
       "        vertical-align: middle;\n",
       "    }\n",
       "\n",
       "    .dataframe tbody tr th {\n",
       "        vertical-align: top;\n",
       "    }\n",
       "\n",
       "    .dataframe thead th {\n",
       "        text-align: right;\n",
       "    }\n",
       "</style>\n",
       "<table border=\"1\" class=\"dataframe\">\n",
       "  <thead>\n",
       "    <tr style=\"text-align: right;\">\n",
       "      <th></th>\n",
       "      <th>user_id</th>\n",
       "      <th>age</th>\n",
       "    </tr>\n",
       "  </thead>\n",
       "  <tbody>\n",
       "    <tr>\n",
       "      <td>count</td>\n",
       "      <td>500.000000</td>\n",
       "      <td>500.00000</td>\n",
       "    </tr>\n",
       "    <tr>\n",
       "      <td>mean</td>\n",
       "      <td>1249.500000</td>\n",
       "      <td>46.58800</td>\n",
       "    </tr>\n",
       "    <tr>\n",
       "      <td>std</td>\n",
       "      <td>144.481833</td>\n",
       "      <td>16.66763</td>\n",
       "    </tr>\n",
       "    <tr>\n",
       "      <td>min</td>\n",
       "      <td>1000.000000</td>\n",
       "      <td>18.00000</td>\n",
       "    </tr>\n",
       "    <tr>\n",
       "      <td>25%</td>\n",
       "      <td>1124.750000</td>\n",
       "      <td>32.00000</td>\n",
       "    </tr>\n",
       "    <tr>\n",
       "      <td>50%</td>\n",
       "      <td>1249.500000</td>\n",
       "      <td>46.00000</td>\n",
       "    </tr>\n",
       "    <tr>\n",
       "      <td>75%</td>\n",
       "      <td>1374.250000</td>\n",
       "      <td>62.00000</td>\n",
       "    </tr>\n",
       "    <tr>\n",
       "      <td>max</td>\n",
       "      <td>1499.000000</td>\n",
       "      <td>75.00000</td>\n",
       "    </tr>\n",
       "  </tbody>\n",
       "</table>\n",
       "</div>"
      ],
      "text/plain": [
       "           user_id        age\n",
       "count   500.000000  500.00000\n",
       "mean   1249.500000   46.58800\n",
       "std     144.481833   16.66763\n",
       "min    1000.000000   18.00000\n",
       "25%    1124.750000   32.00000\n",
       "50%    1249.500000   46.00000\n",
       "75%    1374.250000   62.00000\n",
       "max    1499.000000   75.00000"
      ]
     },
     "metadata": {},
     "output_type": "display_data"
    }
   ],
   "source": [
    "display(calls.describe())\n",
    "display(internet.describe())\n",
    "display(messages.describe())\n",
    "display(tariffs.describe())\n",
    "display(users.describe())"
   ]
  },
  {
   "cell_type": "markdown",
   "metadata": {},
   "source": [
    "<div class=\"alert alert-success\">\n",
    "<b>Комментарий ревьюера:</b>\n",
    "\n",
    "Достаточно детально изучили наши первичные данные, давай теперь их обработаем. \n",
    "    \n",
    "В том числе можно было бы сделать функцию для проверки наших первичных данных: \n",
    "    \n",
    "- info\n",
    "- head\n",
    "- describe\n",
    "- и так далее \n",
    "    \n",
    "</div>"
   ]
  },
  {
   "cell_type": "markdown",
   "metadata": {},
   "source": [
    "# Шаг 2. Подготовка данных"
   ]
  },
  {
   "cell_type": "markdown",
   "metadata": {},
   "source": [
    "### Приведение данных к нужным типам\n"
   ]
  },
  {
   "cell_type": "code",
   "execution_count": 5,
   "metadata": {},
   "outputs": [],
   "source": [
    "#исправил тип данных для даты.\n",
    "calls['call_date'] = pd.to_datetime(calls['call_date'], format = '%Y-%m-%d')\n",
    "internet['session_date'] = pd.to_datetime(internet['session_date'], format = '%Y-%m-%d')\n",
    "messages['message_date'] = pd.to_datetime(messages['message_date'], format = '%Y-%m-%d')\n",
    "users['reg_date'] = pd.to_datetime(users['reg_date'], format = '%Y-%m-%d')\n",
    "users['churn_date'] = pd.to_datetime(users['churn_date'], format = '%Y-%m-%d', errors = 'ignore')"
   ]
  },
  {
   "cell_type": "markdown",
   "metadata": {},
   "source": [
    "### Поиск и исправление ошибок в данных."
   ]
  },
  {
   "cell_type": "code",
   "execution_count": 6,
   "metadata": {},
   "outputs": [],
   "source": [
    "# в датасете internet есть столбец Unnamed: 0, который полностью повторяет индексы датасета. Поэтому, его следует удалить\n",
    "internet.drop('Unnamed: 0', axis = 1, inplace = True)\n"
   ]
  },
  {
   "cell_type": "code",
   "execution_count": 7,
   "metadata": {},
   "outputs": [
    {
     "name": "stdout",
     "output_type": "stream",
     "text": [
      "0\n",
      "0\n",
      "0\n",
      "0\n",
      "0\n"
     ]
    }
   ],
   "source": [
    "print(calls.duplicated().sum())\n",
    "print(internet.duplicated().sum())\n",
    "print(messages.duplicated().sum())\n",
    "print(tariffs.duplicated().sum())\n",
    "print(users.duplicated().sum())\n"
   ]
  },
  {
   "cell_type": "markdown",
   "metadata": {},
   "source": [
    "<div class=\"alert alert-success\">\n",
    "<b>Комментарий ревьюера:</b>\n",
    "\n",
    "Также можно было бы использовать цикл `for`, чтобы изучить количество пропусков автоматически. Для этого можно было поместить все датафреймы в список.\n",
    "    \n",
    "</div>"
   ]
  },
  {
   "cell_type": "markdown",
   "metadata": {},
   "source": [
    "### Подсчет для каждого пользователя: \n",
    "1. количество сделанных звонков и израсходованных минут разговора по месяцам;\n",
    "2. количество отправленных сообщений по месяцам;\n",
    "3. объем израсходованного интернет-трафика по месяцам;\n",
    "4. помесячную выручку с каждого пользователя.\n"
   ]
  },
  {
   "cell_type": "markdown",
   "metadata": {},
   "source": [
    "#### количество сделанных звонков и израсходованных минут разговора по месяцам"
   ]
  },
  {
   "cell_type": "code",
   "execution_count": 8,
   "metadata": {
    "scrolled": true
   },
   "outputs": [
    {
     "data": {
      "text/html": [
       "<div>\n",
       "<style scoped>\n",
       "    .dataframe tbody tr th:only-of-type {\n",
       "        vertical-align: middle;\n",
       "    }\n",
       "\n",
       "    .dataframe tbody tr th {\n",
       "        vertical-align: top;\n",
       "    }\n",
       "\n",
       "    .dataframe thead tr th {\n",
       "        text-align: left;\n",
       "    }\n",
       "\n",
       "    .dataframe thead tr:last-of-type th {\n",
       "        text-align: right;\n",
       "    }\n",
       "</style>\n",
       "<table border=\"1\" class=\"dataframe\">\n",
       "  <thead>\n",
       "    <tr>\n",
       "      <th></th>\n",
       "      <th></th>\n",
       "      <th>count</th>\n",
       "      <th>sum</th>\n",
       "    </tr>\n",
       "    <tr>\n",
       "      <th></th>\n",
       "      <th></th>\n",
       "      <th>duration</th>\n",
       "      <th>duration</th>\n",
       "    </tr>\n",
       "    <tr>\n",
       "      <th>user_id</th>\n",
       "      <th>month</th>\n",
       "      <th></th>\n",
       "      <th></th>\n",
       "    </tr>\n",
       "  </thead>\n",
       "  <tbody>\n",
       "    <tr>\n",
       "      <td rowspan=\"5\" valign=\"top\">1000</td>\n",
       "      <td>5</td>\n",
       "      <td>22</td>\n",
       "      <td>150.06</td>\n",
       "    </tr>\n",
       "    <tr>\n",
       "      <td>6</td>\n",
       "      <td>43</td>\n",
       "      <td>158.90</td>\n",
       "    </tr>\n",
       "    <tr>\n",
       "      <td>7</td>\n",
       "      <td>47</td>\n",
       "      <td>318.80</td>\n",
       "    </tr>\n",
       "    <tr>\n",
       "      <td>8</td>\n",
       "      <td>52</td>\n",
       "      <td>389.87</td>\n",
       "    </tr>\n",
       "    <tr>\n",
       "      <td>9</td>\n",
       "      <td>58</td>\n",
       "      <td>440.14</td>\n",
       "    </tr>\n",
       "  </tbody>\n",
       "</table>\n",
       "</div>"
      ],
      "text/plain": [
       "                 count      sum\n",
       "              duration duration\n",
       "user_id month                  \n",
       "1000    5           22   150.06\n",
       "        6           43   158.90\n",
       "        7           47   318.80\n",
       "        8           52   389.87\n",
       "        9           58   440.14"
      ]
     },
     "execution_count": 8,
     "metadata": {},
     "output_type": "execute_result"
    }
   ],
   "source": [
    "calls['month'] = calls['call_date'].dt.month\n",
    "\n",
    "count_calls = calls.pivot_table(index = ['user_id','month'], values='duration',aggfunc = ['count','sum'])\n",
    "count_calls.head()"
   ]
  },
  {
   "cell_type": "code",
   "execution_count": 9,
   "metadata": {},
   "outputs": [],
   "source": [
    "count_calls.columns = ['count_calls_by_month','sum_minutes_by_month']"
   ]
  },
  {
   "cell_type": "markdown",
   "metadata": {},
   "source": [
    "<div class=\"alert alert-warning\">\n",
    "<b>Комментарий ревьюера:</b>\n",
    "\n",
    "Лучше всего использовать месяцы в формате дат, например `yyyy-mm-dd` (2020-01-01), потому что в наших данных может быть несколько временных периодов и эти периоды будут тогда помещены в одну группу, при методе выше.\n",
    "    \n",
    "</div>"
   ]
  },
  {
   "cell_type": "markdown",
   "metadata": {},
   "source": [
    "<div class=\"alert alert-info\"> <b>Комментарий студента:</b> Не очень понял, как это сделать (.</div>"
   ]
  },
  {
   "cell_type": "markdown",
   "metadata": {},
   "source": [
    "<div class=\"alert alert-success\">\n",
    "<b>Комментарий ревьюера (2):</b>\n",
    "\n",
    "Можно сделать вот так `calls['call_date'].dt.to_period('M')`\n",
    "    \n",
    "</div>"
   ]
  },
  {
   "cell_type": "markdown",
   "metadata": {},
   "source": [
    "#### количество отправленных сообщений по месяцам"
   ]
  },
  {
   "cell_type": "code",
   "execution_count": 10,
   "metadata": {},
   "outputs": [
    {
     "data": {
      "text/html": [
       "<div>\n",
       "<style scoped>\n",
       "    .dataframe tbody tr th:only-of-type {\n",
       "        vertical-align: middle;\n",
       "    }\n",
       "\n",
       "    .dataframe tbody tr th {\n",
       "        vertical-align: top;\n",
       "    }\n",
       "\n",
       "    .dataframe thead th {\n",
       "        text-align: right;\n",
       "    }\n",
       "</style>\n",
       "<table border=\"1\" class=\"dataframe\">\n",
       "  <thead>\n",
       "    <tr style=\"text-align: right;\">\n",
       "      <th></th>\n",
       "      <th></th>\n",
       "      <th>message_date</th>\n",
       "    </tr>\n",
       "    <tr>\n",
       "      <th>user_id</th>\n",
       "      <th>month</th>\n",
       "      <th></th>\n",
       "    </tr>\n",
       "  </thead>\n",
       "  <tbody>\n",
       "    <tr>\n",
       "      <td rowspan=\"5\" valign=\"top\">1000</td>\n",
       "      <td>5</td>\n",
       "      <td>22</td>\n",
       "    </tr>\n",
       "    <tr>\n",
       "      <td>6</td>\n",
       "      <td>60</td>\n",
       "    </tr>\n",
       "    <tr>\n",
       "      <td>7</td>\n",
       "      <td>75</td>\n",
       "    </tr>\n",
       "    <tr>\n",
       "      <td>8</td>\n",
       "      <td>81</td>\n",
       "    </tr>\n",
       "    <tr>\n",
       "      <td>9</td>\n",
       "      <td>57</td>\n",
       "    </tr>\n",
       "  </tbody>\n",
       "</table>\n",
       "</div>"
      ],
      "text/plain": [
       "               message_date\n",
       "user_id month              \n",
       "1000    5                22\n",
       "        6                60\n",
       "        7                75\n",
       "        8                81\n",
       "        9                57"
      ]
     },
     "execution_count": 10,
     "metadata": {},
     "output_type": "execute_result"
    }
   ],
   "source": [
    "messages['month'] = messages['message_date'].dt.month\n",
    "count_messages = messages.pivot_table(index = ['user_id','month'], values='message_date',aggfunc = 'count')\n",
    "count_messages.head()"
   ]
  },
  {
   "cell_type": "code",
   "execution_count": 11,
   "metadata": {},
   "outputs": [],
   "source": [
    "count_messages.columns = ['count_message_by_month']"
   ]
  },
  {
   "cell_type": "markdown",
   "metadata": {},
   "source": [
    "#### объем израсходованного интернет-трафика по месяцам"
   ]
  },
  {
   "cell_type": "code",
   "execution_count": 12,
   "metadata": {},
   "outputs": [
    {
     "data": {
      "text/html": [
       "<div>\n",
       "<style scoped>\n",
       "    .dataframe tbody tr th:only-of-type {\n",
       "        vertical-align: middle;\n",
       "    }\n",
       "\n",
       "    .dataframe tbody tr th {\n",
       "        vertical-align: top;\n",
       "    }\n",
       "\n",
       "    .dataframe thead th {\n",
       "        text-align: right;\n",
       "    }\n",
       "</style>\n",
       "<table border=\"1\" class=\"dataframe\">\n",
       "  <thead>\n",
       "    <tr style=\"text-align: right;\">\n",
       "      <th></th>\n",
       "      <th></th>\n",
       "      <th>mb_used</th>\n",
       "    </tr>\n",
       "    <tr>\n",
       "      <th>user_id</th>\n",
       "      <th>month</th>\n",
       "      <th></th>\n",
       "    </tr>\n",
       "  </thead>\n",
       "  <tbody>\n",
       "    <tr>\n",
       "      <td rowspan=\"5\" valign=\"top\">1000</td>\n",
       "      <td>5</td>\n",
       "      <td>2253.49</td>\n",
       "    </tr>\n",
       "    <tr>\n",
       "      <td>6</td>\n",
       "      <td>23233.77</td>\n",
       "    </tr>\n",
       "    <tr>\n",
       "      <td>7</td>\n",
       "      <td>14003.64</td>\n",
       "    </tr>\n",
       "    <tr>\n",
       "      <td>8</td>\n",
       "      <td>14055.93</td>\n",
       "    </tr>\n",
       "    <tr>\n",
       "      <td>9</td>\n",
       "      <td>14568.91</td>\n",
       "    </tr>\n",
       "  </tbody>\n",
       "</table>\n",
       "</div>"
      ],
      "text/plain": [
       "                mb_used\n",
       "user_id month          \n",
       "1000    5       2253.49\n",
       "        6      23233.77\n",
       "        7      14003.64\n",
       "        8      14055.93\n",
       "        9      14568.91"
      ]
     },
     "execution_count": 12,
     "metadata": {},
     "output_type": "execute_result"
    }
   ],
   "source": [
    "internet['month'] = internet['session_date'].dt.month\n",
    "count_internet = internet.pivot_table(index = ['user_id','month'], values='mb_used',aggfunc = 'sum')\n",
    "count_internet.head()"
   ]
  },
  {
   "cell_type": "code",
   "execution_count": 13,
   "metadata": {
    "scrolled": false
   },
   "outputs": [
    {
     "data": {
      "text/html": [
       "<div>\n",
       "<style scoped>\n",
       "    .dataframe tbody tr th:only-of-type {\n",
       "        vertical-align: middle;\n",
       "    }\n",
       "\n",
       "    .dataframe tbody tr th {\n",
       "        vertical-align: top;\n",
       "    }\n",
       "\n",
       "    .dataframe thead th {\n",
       "        text-align: right;\n",
       "    }\n",
       "</style>\n",
       "<table border=\"1\" class=\"dataframe\">\n",
       "  <thead>\n",
       "    <tr style=\"text-align: right;\">\n",
       "      <th></th>\n",
       "      <th></th>\n",
       "      <th>internet_by_month</th>\n",
       "    </tr>\n",
       "    <tr>\n",
       "      <th>user_id</th>\n",
       "      <th>month</th>\n",
       "      <th></th>\n",
       "    </tr>\n",
       "  </thead>\n",
       "  <tbody>\n",
       "    <tr>\n",
       "      <td rowspan=\"5\" valign=\"top\">1000</td>\n",
       "      <td>5</td>\n",
       "      <td>2253.49</td>\n",
       "    </tr>\n",
       "    <tr>\n",
       "      <td>6</td>\n",
       "      <td>23233.77</td>\n",
       "    </tr>\n",
       "    <tr>\n",
       "      <td>7</td>\n",
       "      <td>14003.64</td>\n",
       "    </tr>\n",
       "    <tr>\n",
       "      <td>8</td>\n",
       "      <td>14055.93</td>\n",
       "    </tr>\n",
       "    <tr>\n",
       "      <td>9</td>\n",
       "      <td>14568.91</td>\n",
       "    </tr>\n",
       "  </tbody>\n",
       "</table>\n",
       "</div>"
      ],
      "text/plain": [
       "               internet_by_month\n",
       "user_id month                   \n",
       "1000    5                2253.49\n",
       "        6               23233.77\n",
       "        7               14003.64\n",
       "        8               14055.93\n",
       "        9               14568.91"
      ]
     },
     "execution_count": 13,
     "metadata": {},
     "output_type": "execute_result"
    }
   ],
   "source": [
    "count_internet.columns = ['internet_by_month']\n",
    "count_internet.head()"
   ]
  },
  {
   "cell_type": "markdown",
   "metadata": {},
   "source": [
    "#### общая таблицы"
   ]
  },
  {
   "cell_type": "code",
   "execution_count": 14,
   "metadata": {},
   "outputs": [
    {
     "data": {
      "text/html": [
       "<div>\n",
       "<style scoped>\n",
       "    .dataframe tbody tr th:only-of-type {\n",
       "        vertical-align: middle;\n",
       "    }\n",
       "\n",
       "    .dataframe tbody tr th {\n",
       "        vertical-align: top;\n",
       "    }\n",
       "\n",
       "    .dataframe thead th {\n",
       "        text-align: right;\n",
       "    }\n",
       "</style>\n",
       "<table border=\"1\" class=\"dataframe\">\n",
       "  <thead>\n",
       "    <tr style=\"text-align: right;\">\n",
       "      <th></th>\n",
       "      <th></th>\n",
       "      <th>count_calls_by_month</th>\n",
       "      <th>sum_minutes_by_month</th>\n",
       "      <th>count_message_by_month</th>\n",
       "      <th>internet_by_month</th>\n",
       "      <th>tariff</th>\n",
       "    </tr>\n",
       "    <tr>\n",
       "      <th>user_id</th>\n",
       "      <th>month</th>\n",
       "      <th></th>\n",
       "      <th></th>\n",
       "      <th></th>\n",
       "      <th></th>\n",
       "      <th></th>\n",
       "    </tr>\n",
       "  </thead>\n",
       "  <tbody>\n",
       "    <tr>\n",
       "      <td rowspan=\"5\" valign=\"top\">1000</td>\n",
       "      <td>5</td>\n",
       "      <td>22.0</td>\n",
       "      <td>150.06</td>\n",
       "      <td>22.0</td>\n",
       "      <td>2253.49</td>\n",
       "      <td>ultra</td>\n",
       "    </tr>\n",
       "    <tr>\n",
       "      <td>6</td>\n",
       "      <td>43.0</td>\n",
       "      <td>158.90</td>\n",
       "      <td>60.0</td>\n",
       "      <td>23233.77</td>\n",
       "      <td>ultra</td>\n",
       "    </tr>\n",
       "    <tr>\n",
       "      <td>7</td>\n",
       "      <td>47.0</td>\n",
       "      <td>318.80</td>\n",
       "      <td>75.0</td>\n",
       "      <td>14003.64</td>\n",
       "      <td>ultra</td>\n",
       "    </tr>\n",
       "    <tr>\n",
       "      <td>8</td>\n",
       "      <td>52.0</td>\n",
       "      <td>389.87</td>\n",
       "      <td>81.0</td>\n",
       "      <td>14055.93</td>\n",
       "      <td>ultra</td>\n",
       "    </tr>\n",
       "    <tr>\n",
       "      <td>9</td>\n",
       "      <td>58.0</td>\n",
       "      <td>440.14</td>\n",
       "      <td>57.0</td>\n",
       "      <td>14568.91</td>\n",
       "      <td>ultra</td>\n",
       "    </tr>\n",
       "    <tr>\n",
       "      <td>...</td>\n",
       "      <td>...</td>\n",
       "      <td>...</td>\n",
       "      <td>...</td>\n",
       "      <td>...</td>\n",
       "      <td>...</td>\n",
       "      <td>...</td>\n",
       "    </tr>\n",
       "    <tr>\n",
       "      <td>1498</td>\n",
       "      <td>10</td>\n",
       "      <td>41.0</td>\n",
       "      <td>232.63</td>\n",
       "      <td>42.0</td>\n",
       "      <td>20579.36</td>\n",
       "      <td>smart</td>\n",
       "    </tr>\n",
       "    <tr>\n",
       "      <td rowspan=\"4\" valign=\"top\">1499</td>\n",
       "      <td>9</td>\n",
       "      <td>9.0</td>\n",
       "      <td>64.65</td>\n",
       "      <td>11.0</td>\n",
       "      <td>1845.75</td>\n",
       "      <td>smart</td>\n",
       "    </tr>\n",
       "    <tr>\n",
       "      <td>10</td>\n",
       "      <td>68.0</td>\n",
       "      <td>429.91</td>\n",
       "      <td>48.0</td>\n",
       "      <td>17788.51</td>\n",
       "      <td>smart</td>\n",
       "    </tr>\n",
       "    <tr>\n",
       "      <td>11</td>\n",
       "      <td>74.0</td>\n",
       "      <td>576.50</td>\n",
       "      <td>59.0</td>\n",
       "      <td>17963.31</td>\n",
       "      <td>smart</td>\n",
       "    </tr>\n",
       "    <tr>\n",
       "      <td>12</td>\n",
       "      <td>69.0</td>\n",
       "      <td>465.16</td>\n",
       "      <td>66.0</td>\n",
       "      <td>13055.58</td>\n",
       "      <td>smart</td>\n",
       "    </tr>\n",
       "  </tbody>\n",
       "</table>\n",
       "<p>3214 rows × 5 columns</p>\n",
       "</div>"
      ],
      "text/plain": [
       "               count_calls_by_month  sum_minutes_by_month  \\\n",
       "user_id month                                               \n",
       "1000    5                      22.0                150.06   \n",
       "        6                      43.0                158.90   \n",
       "        7                      47.0                318.80   \n",
       "        8                      52.0                389.87   \n",
       "        9                      58.0                440.14   \n",
       "...                             ...                   ...   \n",
       "1498    10                     41.0                232.63   \n",
       "1499    9                       9.0                 64.65   \n",
       "        10                     68.0                429.91   \n",
       "        11                     74.0                576.50   \n",
       "        12                     69.0                465.16   \n",
       "\n",
       "               count_message_by_month  internet_by_month tariff  \n",
       "user_id month                                                    \n",
       "1000    5                        22.0            2253.49  ultra  \n",
       "        6                        60.0           23233.77  ultra  \n",
       "        7                        75.0           14003.64  ultra  \n",
       "        8                        81.0           14055.93  ultra  \n",
       "        9                        57.0           14568.91  ultra  \n",
       "...                               ...                ...    ...  \n",
       "1498    10                       42.0           20579.36  smart  \n",
       "1499    9                        11.0            1845.75  smart  \n",
       "        10                       48.0           17788.51  smart  \n",
       "        11                       59.0           17963.31  smart  \n",
       "        12                       66.0           13055.58  smart  \n",
       "\n",
       "[3214 rows x 5 columns]"
      ]
     },
     "execution_count": 14,
     "metadata": {},
     "output_type": "execute_result"
    }
   ],
   "source": [
    "data = count_calls.join([count_messages,count_internet ], how = 'outer')\n",
    "data = data.join(users[['user_id','tariff']].set_index('user_id'), how = 'outer')\n",
    "data"
   ]
  },
  {
   "cell_type": "code",
   "execution_count": 15,
   "metadata": {},
   "outputs": [
    {
     "data": {
      "text/plain": [
       "498"
      ]
     },
     "execution_count": 15,
     "metadata": {},
     "output_type": "execute_result"
    }
   ],
   "source": [
    "data.reset_index().user_id.nunique()"
   ]
  },
  {
   "cell_type": "markdown",
   "metadata": {},
   "source": [
    "<div class=\"alert alert-success\">\n",
    "<b>Комментарий ревьюера:</b>\n",
    "\n",
    "В целом таблицы мы соединили верно.\n",
    "    \n",
    "Однако при их соединении мы всё таки потеряли 2–х клиентов. В данный момент для нас это не критично, но в боевой задаче мы не захотим тепять эти данные.\n",
    "    \n",
    "Но было бы здорово понять куда они делись.\n",
    "    \n",
    "</div>"
   ]
  },
  {
   "cell_type": "markdown",
   "metadata": {},
   "source": [
    "<div class=\"alert alert-info\"> <b>Комментарий студента:</b> Может быть из-за join?</div>"
   ]
  },
  {
   "cell_type": "markdown",
   "metadata": {},
   "source": [
    "<div class=\"alert alert-success\">\n",
    "<b>Комментарий ревьюера (2):</b>\n",
    "\n",
    "Это легко можно проверить на самом деле:\n",
    "    \n",
    "- посмотреть всех уникальных пользователей, которые есть в этом списке \n",
    "- отфильтровать по таблице `users`\n",
    "- и посмотреть пользовались ли услугами эти пользователи или нет\n",
    "    \n",
    "</div>"
   ]
  },
  {
   "cell_type": "markdown",
   "metadata": {},
   "source": [
    "#### помесячная выручка с каждого пользователя"
   ]
  },
  {
   "cell_type": "code",
   "execution_count": 16,
   "metadata": {},
   "outputs": [
    {
     "data": {
      "text/html": [
       "<div>\n",
       "<style scoped>\n",
       "    .dataframe tbody tr th:only-of-type {\n",
       "        vertical-align: middle;\n",
       "    }\n",
       "\n",
       "    .dataframe tbody tr th {\n",
       "        vertical-align: top;\n",
       "    }\n",
       "\n",
       "    .dataframe thead th {\n",
       "        text-align: right;\n",
       "    }\n",
       "</style>\n",
       "<table border=\"1\" class=\"dataframe\">\n",
       "  <thead>\n",
       "    <tr style=\"text-align: right;\">\n",
       "      <th></th>\n",
       "      <th></th>\n",
       "      <th>count_calls_by_month</th>\n",
       "      <th>sum_minutes_by_month</th>\n",
       "      <th>count_message_by_month</th>\n",
       "      <th>internet_by_month</th>\n",
       "      <th>tariff</th>\n",
       "      <th>money_for_extraminutes</th>\n",
       "    </tr>\n",
       "    <tr>\n",
       "      <th>user_id</th>\n",
       "      <th>month</th>\n",
       "      <th></th>\n",
       "      <th></th>\n",
       "      <th></th>\n",
       "      <th></th>\n",
       "      <th></th>\n",
       "      <th></th>\n",
       "    </tr>\n",
       "  </thead>\n",
       "  <tbody>\n",
       "    <tr>\n",
       "      <td rowspan=\"5\" valign=\"top\">1000</td>\n",
       "      <td>5</td>\n",
       "      <td>22.0</td>\n",
       "      <td>150.06</td>\n",
       "      <td>22.0</td>\n",
       "      <td>2253.49</td>\n",
       "      <td>ultra</td>\n",
       "      <td>0.0</td>\n",
       "    </tr>\n",
       "    <tr>\n",
       "      <td>6</td>\n",
       "      <td>43.0</td>\n",
       "      <td>158.90</td>\n",
       "      <td>60.0</td>\n",
       "      <td>23233.77</td>\n",
       "      <td>ultra</td>\n",
       "      <td>0.0</td>\n",
       "    </tr>\n",
       "    <tr>\n",
       "      <td>7</td>\n",
       "      <td>47.0</td>\n",
       "      <td>318.80</td>\n",
       "      <td>75.0</td>\n",
       "      <td>14003.64</td>\n",
       "      <td>ultra</td>\n",
       "      <td>0.0</td>\n",
       "    </tr>\n",
       "    <tr>\n",
       "      <td>8</td>\n",
       "      <td>52.0</td>\n",
       "      <td>389.87</td>\n",
       "      <td>81.0</td>\n",
       "      <td>14055.93</td>\n",
       "      <td>ultra</td>\n",
       "      <td>0.0</td>\n",
       "    </tr>\n",
       "    <tr>\n",
       "      <td>9</td>\n",
       "      <td>58.0</td>\n",
       "      <td>440.14</td>\n",
       "      <td>57.0</td>\n",
       "      <td>14568.91</td>\n",
       "      <td>ultra</td>\n",
       "      <td>0.0</td>\n",
       "    </tr>\n",
       "  </tbody>\n",
       "</table>\n",
       "</div>"
      ],
      "text/plain": [
       "               count_calls_by_month  sum_minutes_by_month  \\\n",
       "user_id month                                               \n",
       "1000    5                      22.0                150.06   \n",
       "        6                      43.0                158.90   \n",
       "        7                      47.0                318.80   \n",
       "        8                      52.0                389.87   \n",
       "        9                      58.0                440.14   \n",
       "\n",
       "               count_message_by_month  internet_by_month tariff  \\\n",
       "user_id month                                                     \n",
       "1000    5                        22.0            2253.49  ultra   \n",
       "        6                        60.0           23233.77  ultra   \n",
       "        7                        75.0           14003.64  ultra   \n",
       "        8                        81.0           14055.93  ultra   \n",
       "        9                        57.0           14568.91  ultra   \n",
       "\n",
       "               money_for_extraminutes  \n",
       "user_id month                          \n",
       "1000    5                         0.0  \n",
       "        6                         0.0  \n",
       "        7                         0.0  \n",
       "        8                         0.0  \n",
       "        9                         0.0  "
      ]
     },
     "execution_count": 16,
     "metadata": {},
     "output_type": "execute_result"
    }
   ],
   "source": [
    "#считаю выручку с доп минут \n",
    "def money_for_extraminutes(row):\n",
    "    if (row['tariff'] == 'smart') and (row['sum_minutes_by_month'] > 500):\n",
    "        return (row['sum_minutes_by_month'] - 500)*3\n",
    "    elif (row['tariff'] == 'ultra') and (row['sum_minutes_by_month'] > 3000):\n",
    "        return (row['sum_minutes_by_month'] - 3000)*1\n",
    "    else:\n",
    "        return 0\n",
    "data['money_for_extraminutes'] = data.apply(money_for_extraminutes, axis = 1)\n",
    "data.head()"
   ]
  },
  {
   "cell_type": "code",
   "execution_count": 17,
   "metadata": {},
   "outputs": [
    {
     "data": {
      "text/html": [
       "<div>\n",
       "<style scoped>\n",
       "    .dataframe tbody tr th:only-of-type {\n",
       "        vertical-align: middle;\n",
       "    }\n",
       "\n",
       "    .dataframe tbody tr th {\n",
       "        vertical-align: top;\n",
       "    }\n",
       "\n",
       "    .dataframe thead th {\n",
       "        text-align: right;\n",
       "    }\n",
       "</style>\n",
       "<table border=\"1\" class=\"dataframe\">\n",
       "  <thead>\n",
       "    <tr style=\"text-align: right;\">\n",
       "      <th></th>\n",
       "      <th></th>\n",
       "      <th>count_calls_by_month</th>\n",
       "      <th>sum_minutes_by_month</th>\n",
       "      <th>count_message_by_month</th>\n",
       "      <th>internet_by_month</th>\n",
       "      <th>tariff</th>\n",
       "      <th>money_for_extraminutes</th>\n",
       "      <th>money_for_extramessages</th>\n",
       "    </tr>\n",
       "    <tr>\n",
       "      <th>user_id</th>\n",
       "      <th>month</th>\n",
       "      <th></th>\n",
       "      <th></th>\n",
       "      <th></th>\n",
       "      <th></th>\n",
       "      <th></th>\n",
       "      <th></th>\n",
       "      <th></th>\n",
       "    </tr>\n",
       "  </thead>\n",
       "  <tbody>\n",
       "    <tr>\n",
       "      <td rowspan=\"5\" valign=\"top\">1000</td>\n",
       "      <td>5</td>\n",
       "      <td>22.0</td>\n",
       "      <td>150.06</td>\n",
       "      <td>22.0</td>\n",
       "      <td>2253.49</td>\n",
       "      <td>ultra</td>\n",
       "      <td>0.0</td>\n",
       "      <td>0.0</td>\n",
       "    </tr>\n",
       "    <tr>\n",
       "      <td>6</td>\n",
       "      <td>43.0</td>\n",
       "      <td>158.90</td>\n",
       "      <td>60.0</td>\n",
       "      <td>23233.77</td>\n",
       "      <td>ultra</td>\n",
       "      <td>0.0</td>\n",
       "      <td>0.0</td>\n",
       "    </tr>\n",
       "    <tr>\n",
       "      <td>7</td>\n",
       "      <td>47.0</td>\n",
       "      <td>318.80</td>\n",
       "      <td>75.0</td>\n",
       "      <td>14003.64</td>\n",
       "      <td>ultra</td>\n",
       "      <td>0.0</td>\n",
       "      <td>0.0</td>\n",
       "    </tr>\n",
       "    <tr>\n",
       "      <td>8</td>\n",
       "      <td>52.0</td>\n",
       "      <td>389.87</td>\n",
       "      <td>81.0</td>\n",
       "      <td>14055.93</td>\n",
       "      <td>ultra</td>\n",
       "      <td>0.0</td>\n",
       "      <td>0.0</td>\n",
       "    </tr>\n",
       "    <tr>\n",
       "      <td>9</td>\n",
       "      <td>58.0</td>\n",
       "      <td>440.14</td>\n",
       "      <td>57.0</td>\n",
       "      <td>14568.91</td>\n",
       "      <td>ultra</td>\n",
       "      <td>0.0</td>\n",
       "      <td>0.0</td>\n",
       "    </tr>\n",
       "  </tbody>\n",
       "</table>\n",
       "</div>"
      ],
      "text/plain": [
       "               count_calls_by_month  sum_minutes_by_month  \\\n",
       "user_id month                                               \n",
       "1000    5                      22.0                150.06   \n",
       "        6                      43.0                158.90   \n",
       "        7                      47.0                318.80   \n",
       "        8                      52.0                389.87   \n",
       "        9                      58.0                440.14   \n",
       "\n",
       "               count_message_by_month  internet_by_month tariff  \\\n",
       "user_id month                                                     \n",
       "1000    5                        22.0            2253.49  ultra   \n",
       "        6                        60.0           23233.77  ultra   \n",
       "        7                        75.0           14003.64  ultra   \n",
       "        8                        81.0           14055.93  ultra   \n",
       "        9                        57.0           14568.91  ultra   \n",
       "\n",
       "               money_for_extraminutes  money_for_extramessages  \n",
       "user_id month                                                   \n",
       "1000    5                         0.0                      0.0  \n",
       "        6                         0.0                      0.0  \n",
       "        7                         0.0                      0.0  \n",
       "        8                         0.0                      0.0  \n",
       "        9                         0.0                      0.0  "
      ]
     },
     "execution_count": 17,
     "metadata": {},
     "output_type": "execute_result"
    }
   ],
   "source": [
    "#считаю выручку с доп сообщений\n",
    "def money_for_extramessages(row):\n",
    "    if (row['tariff'] == 'smart') and (row['count_message_by_month'] > 50):\n",
    "        return (row['count_message_by_month'] - 50)*3\n",
    "    elif (row['tariff'] == 'ultra') and (row['count_message_by_month'] > 1000):\n",
    "        return (row['count_message_by_month'] - 1000)*1\n",
    "    else:\n",
    "        return 0\n",
    "data['money_for_extramessages'] = data.apply(money_for_extramessages, axis = 1)\n",
    "data.head()"
   ]
  },
  {
   "cell_type": "code",
   "execution_count": 18,
   "metadata": {
    "scrolled": true
   },
   "outputs": [],
   "source": [
    "#перевожу мегабайты в гигабайты\n",
    "def change(row):\n",
    "    return row['internet_by_month'] / 1024\n",
    "\n",
    "data['internet_by_month_gb'] = data.apply(change,axis = 1)"
   ]
  },
  {
   "cell_type": "code",
   "execution_count": 19,
   "metadata": {},
   "outputs": [],
   "source": [
    "data['internet_by_month_gb'] = np.ceil(data['internet_by_month_gb'])"
   ]
  },
  {
   "cell_type": "code",
   "execution_count": 20,
   "metadata": {},
   "outputs": [
    {
     "data": {
      "text/html": [
       "<div>\n",
       "<style scoped>\n",
       "    .dataframe tbody tr th:only-of-type {\n",
       "        vertical-align: middle;\n",
       "    }\n",
       "\n",
       "    .dataframe tbody tr th {\n",
       "        vertical-align: top;\n",
       "    }\n",
       "\n",
       "    .dataframe thead th {\n",
       "        text-align: right;\n",
       "    }\n",
       "</style>\n",
       "<table border=\"1\" class=\"dataframe\">\n",
       "  <thead>\n",
       "    <tr style=\"text-align: right;\">\n",
       "      <th></th>\n",
       "      <th></th>\n",
       "      <th>count_calls_by_month</th>\n",
       "      <th>sum_minutes_by_month</th>\n",
       "      <th>count_message_by_month</th>\n",
       "      <th>internet_by_month</th>\n",
       "      <th>tariff</th>\n",
       "      <th>money_for_extraminutes</th>\n",
       "      <th>money_for_extramessages</th>\n",
       "      <th>internet_by_month_gb</th>\n",
       "    </tr>\n",
       "    <tr>\n",
       "      <th>user_id</th>\n",
       "      <th>month</th>\n",
       "      <th></th>\n",
       "      <th></th>\n",
       "      <th></th>\n",
       "      <th></th>\n",
       "      <th></th>\n",
       "      <th></th>\n",
       "      <th></th>\n",
       "      <th></th>\n",
       "    </tr>\n",
       "  </thead>\n",
       "  <tbody>\n",
       "    <tr>\n",
       "      <td rowspan=\"5\" valign=\"top\">1000</td>\n",
       "      <td>5</td>\n",
       "      <td>22.0</td>\n",
       "      <td>150.06</td>\n",
       "      <td>22.0</td>\n",
       "      <td>2253.49</td>\n",
       "      <td>ultra</td>\n",
       "      <td>0.0</td>\n",
       "      <td>0.0</td>\n",
       "      <td>3.0</td>\n",
       "    </tr>\n",
       "    <tr>\n",
       "      <td>6</td>\n",
       "      <td>43.0</td>\n",
       "      <td>158.90</td>\n",
       "      <td>60.0</td>\n",
       "      <td>23233.77</td>\n",
       "      <td>ultra</td>\n",
       "      <td>0.0</td>\n",
       "      <td>0.0</td>\n",
       "      <td>23.0</td>\n",
       "    </tr>\n",
       "    <tr>\n",
       "      <td>7</td>\n",
       "      <td>47.0</td>\n",
       "      <td>318.80</td>\n",
       "      <td>75.0</td>\n",
       "      <td>14003.64</td>\n",
       "      <td>ultra</td>\n",
       "      <td>0.0</td>\n",
       "      <td>0.0</td>\n",
       "      <td>14.0</td>\n",
       "    </tr>\n",
       "    <tr>\n",
       "      <td>8</td>\n",
       "      <td>52.0</td>\n",
       "      <td>389.87</td>\n",
       "      <td>81.0</td>\n",
       "      <td>14055.93</td>\n",
       "      <td>ultra</td>\n",
       "      <td>0.0</td>\n",
       "      <td>0.0</td>\n",
       "      <td>14.0</td>\n",
       "    </tr>\n",
       "    <tr>\n",
       "      <td>9</td>\n",
       "      <td>58.0</td>\n",
       "      <td>440.14</td>\n",
       "      <td>57.0</td>\n",
       "      <td>14568.91</td>\n",
       "      <td>ultra</td>\n",
       "      <td>0.0</td>\n",
       "      <td>0.0</td>\n",
       "      <td>15.0</td>\n",
       "    </tr>\n",
       "  </tbody>\n",
       "</table>\n",
       "</div>"
      ],
      "text/plain": [
       "               count_calls_by_month  sum_minutes_by_month  \\\n",
       "user_id month                                               \n",
       "1000    5                      22.0                150.06   \n",
       "        6                      43.0                158.90   \n",
       "        7                      47.0                318.80   \n",
       "        8                      52.0                389.87   \n",
       "        9                      58.0                440.14   \n",
       "\n",
       "               count_message_by_month  internet_by_month tariff  \\\n",
       "user_id month                                                     \n",
       "1000    5                        22.0            2253.49  ultra   \n",
       "        6                        60.0           23233.77  ultra   \n",
       "        7                        75.0           14003.64  ultra   \n",
       "        8                        81.0           14055.93  ultra   \n",
       "        9                        57.0           14568.91  ultra   \n",
       "\n",
       "               money_for_extraminutes  money_for_extramessages  \\\n",
       "user_id month                                                    \n",
       "1000    5                         0.0                      0.0   \n",
       "        6                         0.0                      0.0   \n",
       "        7                         0.0                      0.0   \n",
       "        8                         0.0                      0.0   \n",
       "        9                         0.0                      0.0   \n",
       "\n",
       "               internet_by_month_gb  \n",
       "user_id month                        \n",
       "1000    5                       3.0  \n",
       "        6                      23.0  \n",
       "        7                      14.0  \n",
       "        8                      14.0  \n",
       "        9                      15.0  "
      ]
     },
     "metadata": {},
     "output_type": "display_data"
    }
   ],
   "source": [
    "display(data.head())"
   ]
  },
  {
   "cell_type": "markdown",
   "metadata": {},
   "source": [
    "<div class=\"alert alert-success\">\n",
    "<b>Комментарий ревьюера:</b>\n",
    "\n",
    "Хорошо, что учитываем условия работы оператора связи и применяем метод `np.ceil`. \n",
    "    \n",
    "    \n",
    "</div>"
   ]
  },
  {
   "cell_type": "markdown",
   "metadata": {},
   "source": [
    "<div class=\"alert alert-warning\">\n",
    "<b>Комментарий ревьюера:</b>\n",
    "\n",
    "Однако метод `np.ceil` лучше применять ко всему столбцу целиком, так вычисления будут работать быстрее.  \n",
    "    \n",
    "`np.ceil(df['column'])`\n",
    "    \n",
    "</div>"
   ]
  },
  {
   "cell_type": "markdown",
   "metadata": {},
   "source": [
    "<div class=\"alert alert-danger\">\n",
    "<b>Комментарий ревьюера:</b>\n",
    "\n",
    "<s>Кстати нам также необходимо округлить значения в минутах, давай поправим этот момент.\n",
    "    \n",
    "</div>"
   ]
  },
  {
   "cell_type": "code",
   "execution_count": 21,
   "metadata": {
    "scrolled": true
   },
   "outputs": [
    {
     "data": {
      "text/html": [
       "<div>\n",
       "<style scoped>\n",
       "    .dataframe tbody tr th:only-of-type {\n",
       "        vertical-align: middle;\n",
       "    }\n",
       "\n",
       "    .dataframe tbody tr th {\n",
       "        vertical-align: top;\n",
       "    }\n",
       "\n",
       "    .dataframe thead th {\n",
       "        text-align: right;\n",
       "    }\n",
       "</style>\n",
       "<table border=\"1\" class=\"dataframe\">\n",
       "  <thead>\n",
       "    <tr style=\"text-align: right;\">\n",
       "      <th></th>\n",
       "      <th></th>\n",
       "      <th>count_calls_by_month</th>\n",
       "      <th>sum_minutes_by_month</th>\n",
       "      <th>count_message_by_month</th>\n",
       "      <th>internet_by_month</th>\n",
       "      <th>tariff</th>\n",
       "      <th>money_for_extraminutes</th>\n",
       "      <th>money_for_extramessages</th>\n",
       "      <th>internet_by_month_gb</th>\n",
       "    </tr>\n",
       "    <tr>\n",
       "      <th>user_id</th>\n",
       "      <th>month</th>\n",
       "      <th></th>\n",
       "      <th></th>\n",
       "      <th></th>\n",
       "      <th></th>\n",
       "      <th></th>\n",
       "      <th></th>\n",
       "      <th></th>\n",
       "      <th></th>\n",
       "    </tr>\n",
       "  </thead>\n",
       "  <tbody>\n",
       "    <tr>\n",
       "      <td rowspan=\"5\" valign=\"top\">1000</td>\n",
       "      <td>5</td>\n",
       "      <td>22.0</td>\n",
       "      <td>2.501000</td>\n",
       "      <td>22.0</td>\n",
       "      <td>2253.49</td>\n",
       "      <td>ultra</td>\n",
       "      <td>0.0</td>\n",
       "      <td>0.0</td>\n",
       "      <td>3.0</td>\n",
       "    </tr>\n",
       "    <tr>\n",
       "      <td>6</td>\n",
       "      <td>43.0</td>\n",
       "      <td>2.648333</td>\n",
       "      <td>60.0</td>\n",
       "      <td>23233.77</td>\n",
       "      <td>ultra</td>\n",
       "      <td>0.0</td>\n",
       "      <td>0.0</td>\n",
       "      <td>23.0</td>\n",
       "    </tr>\n",
       "    <tr>\n",
       "      <td>7</td>\n",
       "      <td>47.0</td>\n",
       "      <td>5.313333</td>\n",
       "      <td>75.0</td>\n",
       "      <td>14003.64</td>\n",
       "      <td>ultra</td>\n",
       "      <td>0.0</td>\n",
       "      <td>0.0</td>\n",
       "      <td>14.0</td>\n",
       "    </tr>\n",
       "    <tr>\n",
       "      <td>8</td>\n",
       "      <td>52.0</td>\n",
       "      <td>6.497833</td>\n",
       "      <td>81.0</td>\n",
       "      <td>14055.93</td>\n",
       "      <td>ultra</td>\n",
       "      <td>0.0</td>\n",
       "      <td>0.0</td>\n",
       "      <td>14.0</td>\n",
       "    </tr>\n",
       "    <tr>\n",
       "      <td>9</td>\n",
       "      <td>58.0</td>\n",
       "      <td>7.335667</td>\n",
       "      <td>57.0</td>\n",
       "      <td>14568.91</td>\n",
       "      <td>ultra</td>\n",
       "      <td>0.0</td>\n",
       "      <td>0.0</td>\n",
       "      <td>15.0</td>\n",
       "    </tr>\n",
       "  </tbody>\n",
       "</table>\n",
       "</div>"
      ],
      "text/plain": [
       "               count_calls_by_month  sum_minutes_by_month  \\\n",
       "user_id month                                               \n",
       "1000    5                      22.0              2.501000   \n",
       "        6                      43.0              2.648333   \n",
       "        7                      47.0              5.313333   \n",
       "        8                      52.0              6.497833   \n",
       "        9                      58.0              7.335667   \n",
       "\n",
       "               count_message_by_month  internet_by_month tariff  \\\n",
       "user_id month                                                     \n",
       "1000    5                        22.0            2253.49  ultra   \n",
       "        6                        60.0           23233.77  ultra   \n",
       "        7                        75.0           14003.64  ultra   \n",
       "        8                        81.0           14055.93  ultra   \n",
       "        9                        57.0           14568.91  ultra   \n",
       "\n",
       "               money_for_extraminutes  money_for_extramessages  \\\n",
       "user_id month                                                    \n",
       "1000    5                         0.0                      0.0   \n",
       "        6                         0.0                      0.0   \n",
       "        7                         0.0                      0.0   \n",
       "        8                         0.0                      0.0   \n",
       "        9                         0.0                      0.0   \n",
       "\n",
       "               internet_by_month_gb  \n",
       "user_id month                        \n",
       "1000    5                       3.0  \n",
       "        6                      23.0  \n",
       "        7                      14.0  \n",
       "        8                      14.0  \n",
       "        9                      15.0  "
      ]
     },
     "metadata": {},
     "output_type": "display_data"
    }
   ],
   "source": [
    "#перевод в минуты\n",
    "def change(row):\n",
    "    return row['sum_minutes_by_month'] / 60\n",
    "data['sum_minutes_by_month'] = data.apply(change,axis = 1)\n",
    "display(data.head())"
   ]
  },
  {
   "cell_type": "code",
   "execution_count": 22,
   "metadata": {},
   "outputs": [
    {
     "data": {
      "text/html": [
       "<div>\n",
       "<style scoped>\n",
       "    .dataframe tbody tr th:only-of-type {\n",
       "        vertical-align: middle;\n",
       "    }\n",
       "\n",
       "    .dataframe tbody tr th {\n",
       "        vertical-align: top;\n",
       "    }\n",
       "\n",
       "    .dataframe thead th {\n",
       "        text-align: right;\n",
       "    }\n",
       "</style>\n",
       "<table border=\"1\" class=\"dataframe\">\n",
       "  <thead>\n",
       "    <tr style=\"text-align: right;\">\n",
       "      <th></th>\n",
       "      <th></th>\n",
       "      <th>count_calls_by_month</th>\n",
       "      <th>sum_minutes_by_month</th>\n",
       "      <th>count_message_by_month</th>\n",
       "      <th>internet_by_month</th>\n",
       "      <th>tariff</th>\n",
       "      <th>money_for_extraminutes</th>\n",
       "      <th>money_for_extramessages</th>\n",
       "      <th>internet_by_month_gb</th>\n",
       "    </tr>\n",
       "    <tr>\n",
       "      <th>user_id</th>\n",
       "      <th>month</th>\n",
       "      <th></th>\n",
       "      <th></th>\n",
       "      <th></th>\n",
       "      <th></th>\n",
       "      <th></th>\n",
       "      <th></th>\n",
       "      <th></th>\n",
       "      <th></th>\n",
       "    </tr>\n",
       "  </thead>\n",
       "  <tbody>\n",
       "    <tr>\n",
       "      <td rowspan=\"5\" valign=\"top\">1000</td>\n",
       "      <td>5</td>\n",
       "      <td>22.0</td>\n",
       "      <td>3.0</td>\n",
       "      <td>22.0</td>\n",
       "      <td>2253.49</td>\n",
       "      <td>ultra</td>\n",
       "      <td>0.0</td>\n",
       "      <td>0.0</td>\n",
       "      <td>3.0</td>\n",
       "    </tr>\n",
       "    <tr>\n",
       "      <td>6</td>\n",
       "      <td>43.0</td>\n",
       "      <td>3.0</td>\n",
       "      <td>60.0</td>\n",
       "      <td>23233.77</td>\n",
       "      <td>ultra</td>\n",
       "      <td>0.0</td>\n",
       "      <td>0.0</td>\n",
       "      <td>23.0</td>\n",
       "    </tr>\n",
       "    <tr>\n",
       "      <td>7</td>\n",
       "      <td>47.0</td>\n",
       "      <td>6.0</td>\n",
       "      <td>75.0</td>\n",
       "      <td>14003.64</td>\n",
       "      <td>ultra</td>\n",
       "      <td>0.0</td>\n",
       "      <td>0.0</td>\n",
       "      <td>14.0</td>\n",
       "    </tr>\n",
       "    <tr>\n",
       "      <td>8</td>\n",
       "      <td>52.0</td>\n",
       "      <td>7.0</td>\n",
       "      <td>81.0</td>\n",
       "      <td>14055.93</td>\n",
       "      <td>ultra</td>\n",
       "      <td>0.0</td>\n",
       "      <td>0.0</td>\n",
       "      <td>14.0</td>\n",
       "    </tr>\n",
       "    <tr>\n",
       "      <td>9</td>\n",
       "      <td>58.0</td>\n",
       "      <td>8.0</td>\n",
       "      <td>57.0</td>\n",
       "      <td>14568.91</td>\n",
       "      <td>ultra</td>\n",
       "      <td>0.0</td>\n",
       "      <td>0.0</td>\n",
       "      <td>15.0</td>\n",
       "    </tr>\n",
       "  </tbody>\n",
       "</table>\n",
       "</div>"
      ],
      "text/plain": [
       "               count_calls_by_month  sum_minutes_by_month  \\\n",
       "user_id month                                               \n",
       "1000    5                      22.0                   3.0   \n",
       "        6                      43.0                   3.0   \n",
       "        7                      47.0                   6.0   \n",
       "        8                      52.0                   7.0   \n",
       "        9                      58.0                   8.0   \n",
       "\n",
       "               count_message_by_month  internet_by_month tariff  \\\n",
       "user_id month                                                     \n",
       "1000    5                        22.0            2253.49  ultra   \n",
       "        6                        60.0           23233.77  ultra   \n",
       "        7                        75.0           14003.64  ultra   \n",
       "        8                        81.0           14055.93  ultra   \n",
       "        9                        57.0           14568.91  ultra   \n",
       "\n",
       "               money_for_extraminutes  money_for_extramessages  \\\n",
       "user_id month                                                    \n",
       "1000    5                         0.0                      0.0   \n",
       "        6                         0.0                      0.0   \n",
       "        7                         0.0                      0.0   \n",
       "        8                         0.0                      0.0   \n",
       "        9                         0.0                      0.0   \n",
       "\n",
       "               internet_by_month_gb  \n",
       "user_id month                        \n",
       "1000    5                       3.0  \n",
       "        6                      23.0  \n",
       "        7                      14.0  \n",
       "        8                      14.0  \n",
       "        9                      15.0  "
      ]
     },
     "metadata": {},
     "output_type": "display_data"
    }
   ],
   "source": [
    "data['sum_minutes_by_month'] = np.ceil(data['sum_minutes_by_month'])\n",
    "display(data.head())"
   ]
  },
  {
   "cell_type": "code",
   "execution_count": 23,
   "metadata": {
    "scrolled": true
   },
   "outputs": [
    {
     "data": {
      "text/html": [
       "<div>\n",
       "<style scoped>\n",
       "    .dataframe tbody tr th:only-of-type {\n",
       "        vertical-align: middle;\n",
       "    }\n",
       "\n",
       "    .dataframe tbody tr th {\n",
       "        vertical-align: top;\n",
       "    }\n",
       "\n",
       "    .dataframe thead th {\n",
       "        text-align: right;\n",
       "    }\n",
       "</style>\n",
       "<table border=\"1\" class=\"dataframe\">\n",
       "  <thead>\n",
       "    <tr style=\"text-align: right;\">\n",
       "      <th></th>\n",
       "      <th></th>\n",
       "      <th>count_calls_by_month</th>\n",
       "      <th>sum_minutes_by_month</th>\n",
       "      <th>count_message_by_month</th>\n",
       "      <th>internet_by_month</th>\n",
       "      <th>tariff</th>\n",
       "      <th>money_for_extraminutes</th>\n",
       "      <th>money_for_extramessages</th>\n",
       "      <th>internet_by_month_gb</th>\n",
       "      <th>money_for_extrainternet</th>\n",
       "    </tr>\n",
       "    <tr>\n",
       "      <th>user_id</th>\n",
       "      <th>month</th>\n",
       "      <th></th>\n",
       "      <th></th>\n",
       "      <th></th>\n",
       "      <th></th>\n",
       "      <th></th>\n",
       "      <th></th>\n",
       "      <th></th>\n",
       "      <th></th>\n",
       "      <th></th>\n",
       "    </tr>\n",
       "  </thead>\n",
       "  <tbody>\n",
       "    <tr>\n",
       "      <td rowspan=\"5\" valign=\"top\">1000</td>\n",
       "      <td>5</td>\n",
       "      <td>22.0</td>\n",
       "      <td>3.0</td>\n",
       "      <td>22.0</td>\n",
       "      <td>2253.49</td>\n",
       "      <td>ultra</td>\n",
       "      <td>0.0</td>\n",
       "      <td>0.0</td>\n",
       "      <td>3.0</td>\n",
       "      <td>0.0</td>\n",
       "    </tr>\n",
       "    <tr>\n",
       "      <td>6</td>\n",
       "      <td>43.0</td>\n",
       "      <td>3.0</td>\n",
       "      <td>60.0</td>\n",
       "      <td>23233.77</td>\n",
       "      <td>ultra</td>\n",
       "      <td>0.0</td>\n",
       "      <td>0.0</td>\n",
       "      <td>23.0</td>\n",
       "      <td>0.0</td>\n",
       "    </tr>\n",
       "    <tr>\n",
       "      <td>7</td>\n",
       "      <td>47.0</td>\n",
       "      <td>6.0</td>\n",
       "      <td>75.0</td>\n",
       "      <td>14003.64</td>\n",
       "      <td>ultra</td>\n",
       "      <td>0.0</td>\n",
       "      <td>0.0</td>\n",
       "      <td>14.0</td>\n",
       "      <td>0.0</td>\n",
       "    </tr>\n",
       "    <tr>\n",
       "      <td>8</td>\n",
       "      <td>52.0</td>\n",
       "      <td>7.0</td>\n",
       "      <td>81.0</td>\n",
       "      <td>14055.93</td>\n",
       "      <td>ultra</td>\n",
       "      <td>0.0</td>\n",
       "      <td>0.0</td>\n",
       "      <td>14.0</td>\n",
       "      <td>0.0</td>\n",
       "    </tr>\n",
       "    <tr>\n",
       "      <td>9</td>\n",
       "      <td>58.0</td>\n",
       "      <td>8.0</td>\n",
       "      <td>57.0</td>\n",
       "      <td>14568.91</td>\n",
       "      <td>ultra</td>\n",
       "      <td>0.0</td>\n",
       "      <td>0.0</td>\n",
       "      <td>15.0</td>\n",
       "      <td>0.0</td>\n",
       "    </tr>\n",
       "  </tbody>\n",
       "</table>\n",
       "</div>"
      ],
      "text/plain": [
       "               count_calls_by_month  sum_minutes_by_month  \\\n",
       "user_id month                                               \n",
       "1000    5                      22.0                   3.0   \n",
       "        6                      43.0                   3.0   \n",
       "        7                      47.0                   6.0   \n",
       "        8                      52.0                   7.0   \n",
       "        9                      58.0                   8.0   \n",
       "\n",
       "               count_message_by_month  internet_by_month tariff  \\\n",
       "user_id month                                                     \n",
       "1000    5                        22.0            2253.49  ultra   \n",
       "        6                        60.0           23233.77  ultra   \n",
       "        7                        75.0           14003.64  ultra   \n",
       "        8                        81.0           14055.93  ultra   \n",
       "        9                        57.0           14568.91  ultra   \n",
       "\n",
       "               money_for_extraminutes  money_for_extramessages  \\\n",
       "user_id month                                                    \n",
       "1000    5                         0.0                      0.0   \n",
       "        6                         0.0                      0.0   \n",
       "        7                         0.0                      0.0   \n",
       "        8                         0.0                      0.0   \n",
       "        9                         0.0                      0.0   \n",
       "\n",
       "               internet_by_month_gb  money_for_extrainternet  \n",
       "user_id month                                                 \n",
       "1000    5                       3.0                      0.0  \n",
       "        6                      23.0                      0.0  \n",
       "        7                      14.0                      0.0  \n",
       "        8                      14.0                      0.0  \n",
       "        9                      15.0                      0.0  "
      ]
     },
     "execution_count": 23,
     "metadata": {},
     "output_type": "execute_result"
    }
   ],
   "source": [
    "#считаю выручку с доп интернета\n",
    "def money_for_extrainternet(row):\n",
    "    if (row['tariff'] == 'smart') and (row['internet_by_month_gb'] > 15):\n",
    "        return (row['internet_by_month_gb'] - 15)*200\n",
    "    elif (row['tariff'] == 'ultra') and (row['internet_by_month_gb'] > 30):\n",
    "        return (row['internet_by_month_gb'] - 30)*150\n",
    "    else:\n",
    "        return 0\n",
    "data['money_for_extrainternet'] = data.apply(money_for_extrainternet, axis = 1)\n",
    "data.head()"
   ]
  },
  {
   "cell_type": "code",
   "execution_count": 24,
   "metadata": {},
   "outputs": [],
   "source": [
    "data.drop('internet_by_month_gb',axis = 1, inplace = True)"
   ]
  },
  {
   "cell_type": "code",
   "execution_count": 27,
   "metadata": {},
   "outputs": [
    {
     "data": {
      "text/html": [
       "<div>\n",
       "<style scoped>\n",
       "    .dataframe tbody tr th:only-of-type {\n",
       "        vertical-align: middle;\n",
       "    }\n",
       "\n",
       "    .dataframe tbody tr th {\n",
       "        vertical-align: top;\n",
       "    }\n",
       "\n",
       "    .dataframe thead th {\n",
       "        text-align: right;\n",
       "    }\n",
       "</style>\n",
       "<table border=\"1\" class=\"dataframe\">\n",
       "  <thead>\n",
       "    <tr style=\"text-align: right;\">\n",
       "      <th></th>\n",
       "      <th></th>\n",
       "      <th>count_calls_by_month</th>\n",
       "      <th>sum_minutes_by_month</th>\n",
       "      <th>count_message_by_month</th>\n",
       "      <th>internet_by_month</th>\n",
       "      <th>tariff</th>\n",
       "      <th>money_for_extraminutes</th>\n",
       "      <th>money_for_extramessages</th>\n",
       "      <th>money_for_extrainternet</th>\n",
       "    </tr>\n",
       "    <tr>\n",
       "      <th>user_id</th>\n",
       "      <th>month</th>\n",
       "      <th></th>\n",
       "      <th></th>\n",
       "      <th></th>\n",
       "      <th></th>\n",
       "      <th></th>\n",
       "      <th></th>\n",
       "      <th></th>\n",
       "      <th></th>\n",
       "    </tr>\n",
       "  </thead>\n",
       "  <tbody>\n",
       "    <tr>\n",
       "      <td rowspan=\"5\" valign=\"top\">1000</td>\n",
       "      <td>5</td>\n",
       "      <td>22.0</td>\n",
       "      <td>3.0</td>\n",
       "      <td>22.0</td>\n",
       "      <td>2253.49</td>\n",
       "      <td>ultra</td>\n",
       "      <td>0.0</td>\n",
       "      <td>0.0</td>\n",
       "      <td>0.0</td>\n",
       "    </tr>\n",
       "    <tr>\n",
       "      <td>6</td>\n",
       "      <td>43.0</td>\n",
       "      <td>3.0</td>\n",
       "      <td>60.0</td>\n",
       "      <td>23233.77</td>\n",
       "      <td>ultra</td>\n",
       "      <td>0.0</td>\n",
       "      <td>0.0</td>\n",
       "      <td>0.0</td>\n",
       "    </tr>\n",
       "    <tr>\n",
       "      <td>7</td>\n",
       "      <td>47.0</td>\n",
       "      <td>6.0</td>\n",
       "      <td>75.0</td>\n",
       "      <td>14003.64</td>\n",
       "      <td>ultra</td>\n",
       "      <td>0.0</td>\n",
       "      <td>0.0</td>\n",
       "      <td>0.0</td>\n",
       "    </tr>\n",
       "    <tr>\n",
       "      <td>8</td>\n",
       "      <td>52.0</td>\n",
       "      <td>7.0</td>\n",
       "      <td>81.0</td>\n",
       "      <td>14055.93</td>\n",
       "      <td>ultra</td>\n",
       "      <td>0.0</td>\n",
       "      <td>0.0</td>\n",
       "      <td>0.0</td>\n",
       "    </tr>\n",
       "    <tr>\n",
       "      <td>9</td>\n",
       "      <td>58.0</td>\n",
       "      <td>8.0</td>\n",
       "      <td>57.0</td>\n",
       "      <td>14568.91</td>\n",
       "      <td>ultra</td>\n",
       "      <td>0.0</td>\n",
       "      <td>0.0</td>\n",
       "      <td>0.0</td>\n",
       "    </tr>\n",
       "  </tbody>\n",
       "</table>\n",
       "</div>"
      ],
      "text/plain": [
       "               count_calls_by_month  sum_minutes_by_month  \\\n",
       "user_id month                                               \n",
       "1000    5                      22.0                   3.0   \n",
       "        6                      43.0                   3.0   \n",
       "        7                      47.0                   6.0   \n",
       "        8                      52.0                   7.0   \n",
       "        9                      58.0                   8.0   \n",
       "\n",
       "               count_message_by_month  internet_by_month tariff  \\\n",
       "user_id month                                                     \n",
       "1000    5                        22.0            2253.49  ultra   \n",
       "        6                        60.0           23233.77  ultra   \n",
       "        7                        75.0           14003.64  ultra   \n",
       "        8                        81.0           14055.93  ultra   \n",
       "        9                        57.0           14568.91  ultra   \n",
       "\n",
       "               money_for_extraminutes  money_for_extramessages  \\\n",
       "user_id month                                                    \n",
       "1000    5                         0.0                      0.0   \n",
       "        6                         0.0                      0.0   \n",
       "        7                         0.0                      0.0   \n",
       "        8                         0.0                      0.0   \n",
       "        9                         0.0                      0.0   \n",
       "\n",
       "               money_for_extrainternet  \n",
       "user_id month                           \n",
       "1000    5                          0.0  \n",
       "        6                          0.0  \n",
       "        7                          0.0  \n",
       "        8                          0.0  \n",
       "        9                          0.0  "
      ]
     },
     "execution_count": 27,
     "metadata": {},
     "output_type": "execute_result"
    }
   ],
   "source": [
    "data.head(5)"
   ]
  },
  {
   "cell_type": "code",
   "execution_count": 28,
   "metadata": {},
   "outputs": [
    {
     "data": {
      "text/html": [
       "<div>\n",
       "<style scoped>\n",
       "    .dataframe tbody tr th:only-of-type {\n",
       "        vertical-align: middle;\n",
       "    }\n",
       "\n",
       "    .dataframe tbody tr th {\n",
       "        vertical-align: top;\n",
       "    }\n",
       "\n",
       "    .dataframe thead th {\n",
       "        text-align: right;\n",
       "    }\n",
       "</style>\n",
       "<table border=\"1\" class=\"dataframe\">\n",
       "  <thead>\n",
       "    <tr style=\"text-align: right;\">\n",
       "      <th></th>\n",
       "      <th></th>\n",
       "      <th>count_calls_by_month</th>\n",
       "      <th>sum_minutes_by_month</th>\n",
       "      <th>count_message_by_month</th>\n",
       "      <th>internet_by_month</th>\n",
       "      <th>tariff</th>\n",
       "      <th>money_for_extraminutes</th>\n",
       "      <th>money_for_extramessages</th>\n",
       "      <th>money_for_extrainternet</th>\n",
       "      <th>total_income</th>\n",
       "    </tr>\n",
       "    <tr>\n",
       "      <th>user_id</th>\n",
       "      <th>month</th>\n",
       "      <th></th>\n",
       "      <th></th>\n",
       "      <th></th>\n",
       "      <th></th>\n",
       "      <th></th>\n",
       "      <th></th>\n",
       "      <th></th>\n",
       "      <th></th>\n",
       "      <th></th>\n",
       "    </tr>\n",
       "  </thead>\n",
       "  <tbody>\n",
       "    <tr>\n",
       "      <td rowspan=\"5\" valign=\"top\">1000</td>\n",
       "      <td>5</td>\n",
       "      <td>22.0</td>\n",
       "      <td>3.0</td>\n",
       "      <td>22.0</td>\n",
       "      <td>2253.49</td>\n",
       "      <td>ultra</td>\n",
       "      <td>0.0</td>\n",
       "      <td>0.0</td>\n",
       "      <td>0.0</td>\n",
       "      <td>1950.0</td>\n",
       "    </tr>\n",
       "    <tr>\n",
       "      <td>6</td>\n",
       "      <td>43.0</td>\n",
       "      <td>3.0</td>\n",
       "      <td>60.0</td>\n",
       "      <td>23233.77</td>\n",
       "      <td>ultra</td>\n",
       "      <td>0.0</td>\n",
       "      <td>0.0</td>\n",
       "      <td>0.0</td>\n",
       "      <td>1950.0</td>\n",
       "    </tr>\n",
       "    <tr>\n",
       "      <td>7</td>\n",
       "      <td>47.0</td>\n",
       "      <td>6.0</td>\n",
       "      <td>75.0</td>\n",
       "      <td>14003.64</td>\n",
       "      <td>ultra</td>\n",
       "      <td>0.0</td>\n",
       "      <td>0.0</td>\n",
       "      <td>0.0</td>\n",
       "      <td>1950.0</td>\n",
       "    </tr>\n",
       "    <tr>\n",
       "      <td>8</td>\n",
       "      <td>52.0</td>\n",
       "      <td>7.0</td>\n",
       "      <td>81.0</td>\n",
       "      <td>14055.93</td>\n",
       "      <td>ultra</td>\n",
       "      <td>0.0</td>\n",
       "      <td>0.0</td>\n",
       "      <td>0.0</td>\n",
       "      <td>1950.0</td>\n",
       "    </tr>\n",
       "    <tr>\n",
       "      <td>9</td>\n",
       "      <td>58.0</td>\n",
       "      <td>8.0</td>\n",
       "      <td>57.0</td>\n",
       "      <td>14568.91</td>\n",
       "      <td>ultra</td>\n",
       "      <td>0.0</td>\n",
       "      <td>0.0</td>\n",
       "      <td>0.0</td>\n",
       "      <td>1950.0</td>\n",
       "    </tr>\n",
       "    <tr>\n",
       "      <td>...</td>\n",
       "      <td>...</td>\n",
       "      <td>...</td>\n",
       "      <td>...</td>\n",
       "      <td>...</td>\n",
       "      <td>...</td>\n",
       "      <td>...</td>\n",
       "      <td>...</td>\n",
       "      <td>...</td>\n",
       "      <td>...</td>\n",
       "      <td>...</td>\n",
       "    </tr>\n",
       "    <tr>\n",
       "      <td>1498</td>\n",
       "      <td>10</td>\n",
       "      <td>41.0</td>\n",
       "      <td>4.0</td>\n",
       "      <td>42.0</td>\n",
       "      <td>20579.36</td>\n",
       "      <td>smart</td>\n",
       "      <td>0.0</td>\n",
       "      <td>0.0</td>\n",
       "      <td>1200.0</td>\n",
       "      <td>1750.0</td>\n",
       "    </tr>\n",
       "    <tr>\n",
       "      <td rowspan=\"4\" valign=\"top\">1499</td>\n",
       "      <td>9</td>\n",
       "      <td>9.0</td>\n",
       "      <td>2.0</td>\n",
       "      <td>11.0</td>\n",
       "      <td>1845.75</td>\n",
       "      <td>smart</td>\n",
       "      <td>0.0</td>\n",
       "      <td>0.0</td>\n",
       "      <td>0.0</td>\n",
       "      <td>550.0</td>\n",
       "    </tr>\n",
       "    <tr>\n",
       "      <td>10</td>\n",
       "      <td>68.0</td>\n",
       "      <td>8.0</td>\n",
       "      <td>48.0</td>\n",
       "      <td>17788.51</td>\n",
       "      <td>smart</td>\n",
       "      <td>0.0</td>\n",
       "      <td>0.0</td>\n",
       "      <td>600.0</td>\n",
       "      <td>1150.0</td>\n",
       "    </tr>\n",
       "    <tr>\n",
       "      <td>11</td>\n",
       "      <td>74.0</td>\n",
       "      <td>10.0</td>\n",
       "      <td>59.0</td>\n",
       "      <td>17963.31</td>\n",
       "      <td>smart</td>\n",
       "      <td>229.5</td>\n",
       "      <td>27.0</td>\n",
       "      <td>600.0</td>\n",
       "      <td>1406.5</td>\n",
       "    </tr>\n",
       "    <tr>\n",
       "      <td>12</td>\n",
       "      <td>69.0</td>\n",
       "      <td>8.0</td>\n",
       "      <td>66.0</td>\n",
       "      <td>13055.58</td>\n",
       "      <td>smart</td>\n",
       "      <td>0.0</td>\n",
       "      <td>48.0</td>\n",
       "      <td>0.0</td>\n",
       "      <td>598.0</td>\n",
       "    </tr>\n",
       "  </tbody>\n",
       "</table>\n",
       "<p>3214 rows × 9 columns</p>\n",
       "</div>"
      ],
      "text/plain": [
       "               count_calls_by_month  sum_minutes_by_month  \\\n",
       "user_id month                                               \n",
       "1000    5                      22.0                   3.0   \n",
       "        6                      43.0                   3.0   \n",
       "        7                      47.0                   6.0   \n",
       "        8                      52.0                   7.0   \n",
       "        9                      58.0                   8.0   \n",
       "...                             ...                   ...   \n",
       "1498    10                     41.0                   4.0   \n",
       "1499    9                       9.0                   2.0   \n",
       "        10                     68.0                   8.0   \n",
       "        11                     74.0                  10.0   \n",
       "        12                     69.0                   8.0   \n",
       "\n",
       "               count_message_by_month  internet_by_month tariff  \\\n",
       "user_id month                                                     \n",
       "1000    5                        22.0            2253.49  ultra   \n",
       "        6                        60.0           23233.77  ultra   \n",
       "        7                        75.0           14003.64  ultra   \n",
       "        8                        81.0           14055.93  ultra   \n",
       "        9                        57.0           14568.91  ultra   \n",
       "...                               ...                ...    ...   \n",
       "1498    10                       42.0           20579.36  smart   \n",
       "1499    9                        11.0            1845.75  smart   \n",
       "        10                       48.0           17788.51  smart   \n",
       "        11                       59.0           17963.31  smart   \n",
       "        12                       66.0           13055.58  smart   \n",
       "\n",
       "               money_for_extraminutes  money_for_extramessages  \\\n",
       "user_id month                                                    \n",
       "1000    5                         0.0                      0.0   \n",
       "        6                         0.0                      0.0   \n",
       "        7                         0.0                      0.0   \n",
       "        8                         0.0                      0.0   \n",
       "        9                         0.0                      0.0   \n",
       "...                               ...                      ...   \n",
       "1498    10                        0.0                      0.0   \n",
       "1499    9                         0.0                      0.0   \n",
       "        10                        0.0                      0.0   \n",
       "        11                      229.5                     27.0   \n",
       "        12                        0.0                     48.0   \n",
       "\n",
       "               money_for_extrainternet  total_income  \n",
       "user_id month                                         \n",
       "1000    5                          0.0        1950.0  \n",
       "        6                          0.0        1950.0  \n",
       "        7                          0.0        1950.0  \n",
       "        8                          0.0        1950.0  \n",
       "        9                          0.0        1950.0  \n",
       "...                                ...           ...  \n",
       "1498    10                      1200.0        1750.0  \n",
       "1499    9                          0.0         550.0  \n",
       "        10                       600.0        1150.0  \n",
       "        11                       600.0        1406.5  \n",
       "        12                         0.0         598.0  \n",
       "\n",
       "[3214 rows x 9 columns]"
      ]
     },
     "execution_count": 28,
     "metadata": {},
     "output_type": "execute_result"
    }
   ],
   "source": [
    "#общая выручка\n",
    "\n",
    "def sum_money(row):\n",
    "    if row['tariff'] == 'smart':\n",
    "        return row['money_for_extraminutes'] + row['money_for_extramessages'] + row['money_for_extrainternet'] + 550\n",
    "    elif row['tariff'] == 'ultra':\n",
    "        return row['money_for_extraminutes'] + row['money_for_extramessages'] + row['money_for_extrainternet'] + 1950\n",
    "data['total_income'] = data.apply(sum_money, axis = 1)\n",
    "data"
   ]
  },
  {
   "cell_type": "markdown",
   "metadata": {},
   "source": [
    "<div class=\"alert alert-success\">\n",
    "<b>Комментарий ревьюера:</b>\n",
    "\n",
    "Выручка посчитана верно, теперь любая фин.отчетность нам не помеха 😊\n",
    "    \n",
    "\n",
    "    \n",
    "</div>"
   ]
  },
  {
   "cell_type": "code",
   "execution_count": 29,
   "metadata": {},
   "outputs": [
    {
     "data": {
      "text/plain": [
       "count    3214.000000\n",
       "mean     1506.318923\n",
       "std       792.756078\n",
       "min       550.000000\n",
       "25%       740.717500\n",
       "50%      1564.190000\n",
       "75%      1950.000000\n",
       "max      6613.100000\n",
       "Name: total_income, dtype: float64"
      ]
     },
     "execution_count": 29,
     "metadata": {},
     "output_type": "execute_result"
    }
   ],
   "source": [
    "data['total_income'].describe()"
   ]
  },
  {
   "cell_type": "markdown",
   "metadata": {},
   "source": [
    "# Шаг 3. Анализ данных"
   ]
  },
  {
   "cell_type": "markdown",
   "metadata": {},
   "source": [
    "Поведение клиентов оператора, исходя из выборки:\n",
    "\n",
    "Кол-во минут разговора, сообщений и объём интернет-трафика, которые требуются пользователям каждого тарифа в месяц.\n",
    "\n",
    "Среднее количество, дисперсия и стандартное отклонение. Построение гистограмм."
   ]
  },
  {
   "cell_type": "markdown",
   "metadata": {},
   "source": [
    "1. Сколько минут разговора, сколько сообщений и какой объём интернет-трафика требуется пользователям каждого тарифа в месяц"
   ]
  },
  {
   "cell_type": "code",
   "execution_count": 30,
   "metadata": {},
   "outputs": [],
   "source": [
    "customer_behavior = data.pivot_table(index = 'user_id', values = ['sum_minutes_by_month', 'count_message_by_month', 'internet_by_month'])"
   ]
  },
  {
   "cell_type": "markdown",
   "metadata": {},
   "source": [
    "Увидел NaN. Можно предположить, что если есть NaN, то пользователь не отправлял сообщений и т.д. Поэтому заполняю пропуски нулями."
   ]
  },
  {
   "cell_type": "code",
   "execution_count": 31,
   "metadata": {},
   "outputs": [],
   "source": [
    "data.fillna(0, inplace = True)\n",
    "customer_behavior.fillna(0, inplace = True)"
   ]
  },
  {
   "cell_type": "code",
   "execution_count": 32,
   "metadata": {},
   "outputs": [
    {
     "data": {
      "text/html": [
       "<div>\n",
       "<style scoped>\n",
       "    .dataframe tbody tr th:only-of-type {\n",
       "        vertical-align: middle;\n",
       "    }\n",
       "\n",
       "    .dataframe tbody tr th {\n",
       "        vertical-align: top;\n",
       "    }\n",
       "\n",
       "    .dataframe thead th {\n",
       "        text-align: right;\n",
       "    }\n",
       "</style>\n",
       "<table border=\"1\" class=\"dataframe\">\n",
       "  <thead>\n",
       "    <tr style=\"text-align: right;\">\n",
       "      <th></th>\n",
       "      <th></th>\n",
       "      <th>count_calls_by_month</th>\n",
       "      <th>sum_minutes_by_month</th>\n",
       "      <th>count_message_by_month</th>\n",
       "      <th>internet_by_month</th>\n",
       "      <th>tariff</th>\n",
       "      <th>money_for_extraminutes</th>\n",
       "      <th>money_for_extramessages</th>\n",
       "      <th>money_for_extrainternet</th>\n",
       "      <th>total_income</th>\n",
       "    </tr>\n",
       "    <tr>\n",
       "      <th>user_id</th>\n",
       "      <th>month</th>\n",
       "      <th></th>\n",
       "      <th></th>\n",
       "      <th></th>\n",
       "      <th></th>\n",
       "      <th></th>\n",
       "      <th></th>\n",
       "      <th></th>\n",
       "      <th></th>\n",
       "      <th></th>\n",
       "    </tr>\n",
       "  </thead>\n",
       "  <tbody>\n",
       "    <tr>\n",
       "      <td rowspan=\"5\" valign=\"top\">1000</td>\n",
       "      <td>5</td>\n",
       "      <td>22.0</td>\n",
       "      <td>3.0</td>\n",
       "      <td>22.0</td>\n",
       "      <td>2253.49</td>\n",
       "      <td>ultra</td>\n",
       "      <td>0.0</td>\n",
       "      <td>0.0</td>\n",
       "      <td>0.0</td>\n",
       "      <td>1950.0</td>\n",
       "    </tr>\n",
       "    <tr>\n",
       "      <td>6</td>\n",
       "      <td>43.0</td>\n",
       "      <td>3.0</td>\n",
       "      <td>60.0</td>\n",
       "      <td>23233.77</td>\n",
       "      <td>ultra</td>\n",
       "      <td>0.0</td>\n",
       "      <td>0.0</td>\n",
       "      <td>0.0</td>\n",
       "      <td>1950.0</td>\n",
       "    </tr>\n",
       "    <tr>\n",
       "      <td>7</td>\n",
       "      <td>47.0</td>\n",
       "      <td>6.0</td>\n",
       "      <td>75.0</td>\n",
       "      <td>14003.64</td>\n",
       "      <td>ultra</td>\n",
       "      <td>0.0</td>\n",
       "      <td>0.0</td>\n",
       "      <td>0.0</td>\n",
       "      <td>1950.0</td>\n",
       "    </tr>\n",
       "    <tr>\n",
       "      <td>8</td>\n",
       "      <td>52.0</td>\n",
       "      <td>7.0</td>\n",
       "      <td>81.0</td>\n",
       "      <td>14055.93</td>\n",
       "      <td>ultra</td>\n",
       "      <td>0.0</td>\n",
       "      <td>0.0</td>\n",
       "      <td>0.0</td>\n",
       "      <td>1950.0</td>\n",
       "    </tr>\n",
       "    <tr>\n",
       "      <td>9</td>\n",
       "      <td>58.0</td>\n",
       "      <td>8.0</td>\n",
       "      <td>57.0</td>\n",
       "      <td>14568.91</td>\n",
       "      <td>ultra</td>\n",
       "      <td>0.0</td>\n",
       "      <td>0.0</td>\n",
       "      <td>0.0</td>\n",
       "      <td>1950.0</td>\n",
       "    </tr>\n",
       "  </tbody>\n",
       "</table>\n",
       "</div>"
      ],
      "text/plain": [
       "               count_calls_by_month  sum_minutes_by_month  \\\n",
       "user_id month                                               \n",
       "1000    5                      22.0                   3.0   \n",
       "        6                      43.0                   3.0   \n",
       "        7                      47.0                   6.0   \n",
       "        8                      52.0                   7.0   \n",
       "        9                      58.0                   8.0   \n",
       "\n",
       "               count_message_by_month  internet_by_month tariff  \\\n",
       "user_id month                                                     \n",
       "1000    5                        22.0            2253.49  ultra   \n",
       "        6                        60.0           23233.77  ultra   \n",
       "        7                        75.0           14003.64  ultra   \n",
       "        8                        81.0           14055.93  ultra   \n",
       "        9                        57.0           14568.91  ultra   \n",
       "\n",
       "               money_for_extraminutes  money_for_extramessages  \\\n",
       "user_id month                                                    \n",
       "1000    5                         0.0                      0.0   \n",
       "        6                         0.0                      0.0   \n",
       "        7                         0.0                      0.0   \n",
       "        8                         0.0                      0.0   \n",
       "        9                         0.0                      0.0   \n",
       "\n",
       "               money_for_extrainternet  total_income  \n",
       "user_id month                                         \n",
       "1000    5                          0.0        1950.0  \n",
       "        6                          0.0        1950.0  \n",
       "        7                          0.0        1950.0  \n",
       "        8                          0.0        1950.0  \n",
       "        9                          0.0        1950.0  "
      ]
     },
     "metadata": {},
     "output_type": "display_data"
    },
    {
     "data": {
      "text/html": [
       "<div>\n",
       "<style scoped>\n",
       "    .dataframe tbody tr th:only-of-type {\n",
       "        vertical-align: middle;\n",
       "    }\n",
       "\n",
       "    .dataframe tbody tr th {\n",
       "        vertical-align: top;\n",
       "    }\n",
       "\n",
       "    .dataframe thead th {\n",
       "        text-align: right;\n",
       "    }\n",
       "</style>\n",
       "<table border=\"1\" class=\"dataframe\">\n",
       "  <thead>\n",
       "    <tr style=\"text-align: right;\">\n",
       "      <th></th>\n",
       "      <th>count_message_by_month</th>\n",
       "      <th>internet_by_month</th>\n",
       "      <th>sum_minutes_by_month</th>\n",
       "    </tr>\n",
       "    <tr>\n",
       "      <th>user_id</th>\n",
       "      <th></th>\n",
       "      <th></th>\n",
       "      <th></th>\n",
       "    </tr>\n",
       "  </thead>\n",
       "  <tbody>\n",
       "    <tr>\n",
       "      <td>1000</td>\n",
       "      <td>62.0</td>\n",
       "      <td>13424.038750</td>\n",
       "      <td>5.625000</td>\n",
       "    </tr>\n",
       "    <tr>\n",
       "      <td>1001</td>\n",
       "      <td>0.0</td>\n",
       "      <td>16233.000000</td>\n",
       "      <td>7.000000</td>\n",
       "    </tr>\n",
       "    <tr>\n",
       "      <td>1002</td>\n",
       "      <td>10.0</td>\n",
       "      <td>16576.645714</td>\n",
       "      <td>3.857143</td>\n",
       "    </tr>\n",
       "    <tr>\n",
       "      <td>1003</td>\n",
       "      <td>76.0</td>\n",
       "      <td>11456.128000</td>\n",
       "      <td>12.400000</td>\n",
       "    </tr>\n",
       "    <tr>\n",
       "      <td>1004</td>\n",
       "      <td>149.0</td>\n",
       "      <td>18629.935000</td>\n",
       "      <td>2.500000</td>\n",
       "    </tr>\n",
       "  </tbody>\n",
       "</table>\n",
       "</div>"
      ],
      "text/plain": [
       "         count_message_by_month  internet_by_month  sum_minutes_by_month\n",
       "user_id                                                                 \n",
       "1000                       62.0       13424.038750              5.625000\n",
       "1001                        0.0       16233.000000              7.000000\n",
       "1002                       10.0       16576.645714              3.857143\n",
       "1003                       76.0       11456.128000             12.400000\n",
       "1004                      149.0       18629.935000              2.500000"
      ]
     },
     "metadata": {},
     "output_type": "display_data"
    }
   ],
   "source": [
    "display(data.head())\n",
    "display(customer_behavior.head())"
   ]
  },
  {
   "cell_type": "markdown",
   "metadata": {},
   "source": [
    "2. Подсчет среднего количества, дисперсии и стандартного отклонения"
   ]
  },
  {
   "cell_type": "code",
   "execution_count": 33,
   "metadata": {},
   "outputs": [],
   "source": [
    "statistics = data.pivot_table(index = 'user_id', \n",
    "                                           values = ['sum_minutes_by_month', 'count_message_by_month', 'internet_by_month'],\n",
    "                             aggfunc = {'sum_minutes_by_month' : [np.mean, np.var, np.std],\n",
    "                                        'count_message_by_month' : [np.mean, np.var, np.std],\n",
    "                                         'internet_by_month' : [np.mean, np.var, np.std]})\n"
   ]
  },
  {
   "cell_type": "code",
   "execution_count": 34,
   "metadata": {},
   "outputs": [
    {
     "data": {
      "text/html": [
       "<div>\n",
       "<style scoped>\n",
       "    .dataframe tbody tr th:only-of-type {\n",
       "        vertical-align: middle;\n",
       "    }\n",
       "\n",
       "    .dataframe tbody tr th {\n",
       "        vertical-align: top;\n",
       "    }\n",
       "\n",
       "    .dataframe thead tr th {\n",
       "        text-align: left;\n",
       "    }\n",
       "\n",
       "    .dataframe thead tr:last-of-type th {\n",
       "        text-align: right;\n",
       "    }\n",
       "</style>\n",
       "<table border=\"1\" class=\"dataframe\">\n",
       "  <thead>\n",
       "    <tr>\n",
       "      <th></th>\n",
       "      <th colspan=\"3\" halign=\"left\">count_message_by_month</th>\n",
       "      <th colspan=\"3\" halign=\"left\">internet_by_month</th>\n",
       "      <th colspan=\"3\" halign=\"left\">sum_minutes_by_month</th>\n",
       "    </tr>\n",
       "    <tr>\n",
       "      <th></th>\n",
       "      <th>mean</th>\n",
       "      <th>std</th>\n",
       "      <th>var</th>\n",
       "      <th>mean</th>\n",
       "      <th>std</th>\n",
       "      <th>var</th>\n",
       "      <th>mean</th>\n",
       "      <th>std</th>\n",
       "      <th>var</th>\n",
       "    </tr>\n",
       "    <tr>\n",
       "      <th>user_id</th>\n",
       "      <th></th>\n",
       "      <th></th>\n",
       "      <th></th>\n",
       "      <th></th>\n",
       "      <th></th>\n",
       "      <th></th>\n",
       "      <th></th>\n",
       "      <th></th>\n",
       "      <th></th>\n",
       "    </tr>\n",
       "  </thead>\n",
       "  <tbody>\n",
       "    <tr>\n",
       "      <td>1000</td>\n",
       "      <td>62.0</td>\n",
       "      <td>18.361450</td>\n",
       "      <td>337.142857</td>\n",
       "      <td>13424.038750</td>\n",
       "      <td>5848.981351</td>\n",
       "      <td>3.421058e+07</td>\n",
       "      <td>5.625000</td>\n",
       "      <td>1.767767</td>\n",
       "      <td>3.125000</td>\n",
       "    </tr>\n",
       "    <tr>\n",
       "      <td>1001</td>\n",
       "      <td>0.0</td>\n",
       "      <td>0.000000</td>\n",
       "      <td>0.000000</td>\n",
       "      <td>16233.000000</td>\n",
       "      <td>3106.093816</td>\n",
       "      <td>9.647819e+06</td>\n",
       "      <td>7.000000</td>\n",
       "      <td>0.000000</td>\n",
       "      <td>0.000000</td>\n",
       "    </tr>\n",
       "    <tr>\n",
       "      <td>1002</td>\n",
       "      <td>10.0</td>\n",
       "      <td>4.509250</td>\n",
       "      <td>20.333333</td>\n",
       "      <td>16576.645714</td>\n",
       "      <td>3198.341587</td>\n",
       "      <td>1.022939e+07</td>\n",
       "      <td>3.857143</td>\n",
       "      <td>0.899735</td>\n",
       "      <td>0.809524</td>\n",
       "    </tr>\n",
       "    <tr>\n",
       "      <td>1003</td>\n",
       "      <td>76.0</td>\n",
       "      <td>23.021729</td>\n",
       "      <td>530.000000</td>\n",
       "      <td>11456.128000</td>\n",
       "      <td>2352.842788</td>\n",
       "      <td>5.535869e+06</td>\n",
       "      <td>12.400000</td>\n",
       "      <td>3.781534</td>\n",
       "      <td>14.300000</td>\n",
       "    </tr>\n",
       "    <tr>\n",
       "      <td>1004</td>\n",
       "      <td>149.0</td>\n",
       "      <td>25.867796</td>\n",
       "      <td>669.142857</td>\n",
       "      <td>18629.935000</td>\n",
       "      <td>4815.074964</td>\n",
       "      <td>2.318495e+07</td>\n",
       "      <td>2.500000</td>\n",
       "      <td>0.755929</td>\n",
       "      <td>0.571429</td>\n",
       "    </tr>\n",
       "  </tbody>\n",
       "</table>\n",
       "</div>"
      ],
      "text/plain": [
       "        count_message_by_month                        internet_by_month  \\\n",
       "                          mean        std         var              mean   \n",
       "user_id                                                                   \n",
       "1000                      62.0  18.361450  337.142857      13424.038750   \n",
       "1001                       0.0   0.000000    0.000000      16233.000000   \n",
       "1002                      10.0   4.509250   20.333333      16576.645714   \n",
       "1003                      76.0  23.021729  530.000000      11456.128000   \n",
       "1004                     149.0  25.867796  669.142857      18629.935000   \n",
       "\n",
       "                                   sum_minutes_by_month                       \n",
       "                 std           var                 mean       std        var  \n",
       "user_id                                                                       \n",
       "1000     5848.981351  3.421058e+07             5.625000  1.767767   3.125000  \n",
       "1001     3106.093816  9.647819e+06             7.000000  0.000000   0.000000  \n",
       "1002     3198.341587  1.022939e+07             3.857143  0.899735   0.809524  \n",
       "1003     2352.842788  5.535869e+06            12.400000  3.781534  14.300000  \n",
       "1004     4815.074964  2.318495e+07             2.500000  0.755929   0.571429  "
      ]
     },
     "execution_count": 34,
     "metadata": {},
     "output_type": "execute_result"
    }
   ],
   "source": [
    "statistics.head()"
   ]
  },
  {
   "cell_type": "markdown",
   "metadata": {},
   "source": [
    "<div class=\"alert alert-success\">\n",
    "<b>Комментарий ревьюера:</b>\n",
    "\n",
    "Отличный способ посчитать сразу все показатели 👍\n",
    "    \n",
    "    \n",
    "Оставил пример ниже, как можно сделать таблицу более читабельной 😊 не по каждому пользователю, а по каждому тарифу.\n",
    "    \n",
    "Тогда таким образом мы сможем изучить выборку целиком.\n",
    "    \n",
    "</div>"
   ]
  },
  {
   "cell_type": "code",
   "execution_count": 35,
   "metadata": {},
   "outputs": [
    {
     "data": {
      "text/html": [
       "<div>\n",
       "<style scoped>\n",
       "    .dataframe tbody tr th:only-of-type {\n",
       "        vertical-align: middle;\n",
       "    }\n",
       "\n",
       "    .dataframe tbody tr th {\n",
       "        vertical-align: top;\n",
       "    }\n",
       "\n",
       "    .dataframe thead th {\n",
       "        text-align: right;\n",
       "    }\n",
       "</style>\n",
       "<table border=\"1\" class=\"dataframe\">\n",
       "  <thead>\n",
       "    <tr style=\"text-align: right;\">\n",
       "      <th></th>\n",
       "      <th>tariff</th>\n",
       "      <th>smart</th>\n",
       "      <th>ultra</th>\n",
       "    </tr>\n",
       "  </thead>\n",
       "  <tbody>\n",
       "    <tr>\n",
       "      <td rowspan=\"3\" valign=\"top\">count_message_by_month</td>\n",
       "      <td>mean</td>\n",
       "      <td>33.0</td>\n",
       "      <td>49.0</td>\n",
       "    </tr>\n",
       "    <tr>\n",
       "      <td>std</td>\n",
       "      <td>28.0</td>\n",
       "      <td>48.0</td>\n",
       "    </tr>\n",
       "    <tr>\n",
       "      <td>var</td>\n",
       "      <td>797.0</td>\n",
       "      <td>2285.0</td>\n",
       "    </tr>\n",
       "    <tr>\n",
       "      <td rowspan=\"3\" valign=\"top\">internet_by_month</td>\n",
       "      <td>mean</td>\n",
       "      <td>16208.0</td>\n",
       "      <td>19469.0</td>\n",
       "    </tr>\n",
       "    <tr>\n",
       "      <td>std</td>\n",
       "      <td>5870.0</td>\n",
       "      <td>10087.0</td>\n",
       "    </tr>\n",
       "    <tr>\n",
       "      <td>var</td>\n",
       "      <td>34462496.0</td>\n",
       "      <td>101751014.0</td>\n",
       "    </tr>\n",
       "    <tr>\n",
       "      <td rowspan=\"3\" valign=\"top\">sum_minutes_by_month</td>\n",
       "      <td>mean</td>\n",
       "      <td>7.0</td>\n",
       "      <td>9.0</td>\n",
       "    </tr>\n",
       "    <tr>\n",
       "      <td>std</td>\n",
       "      <td>3.0</td>\n",
       "      <td>5.0</td>\n",
       "    </tr>\n",
       "    <tr>\n",
       "      <td>var</td>\n",
       "      <td>9.0</td>\n",
       "      <td>25.0</td>\n",
       "    </tr>\n",
       "  </tbody>\n",
       "</table>\n",
       "</div>"
      ],
      "text/plain": [
       "tariff                            smart        ultra\n",
       "count_message_by_month mean        33.0         49.0\n",
       "                       std         28.0         48.0\n",
       "                       var        797.0       2285.0\n",
       "internet_by_month      mean     16208.0      19469.0\n",
       "                       std       5870.0      10087.0\n",
       "                       var   34462496.0  101751014.0\n",
       "sum_minutes_by_month   mean         7.0          9.0\n",
       "                       std          3.0          5.0\n",
       "                       var          9.0         25.0"
      ]
     },
     "execution_count": 35,
     "metadata": {},
     "output_type": "execute_result"
    }
   ],
   "source": [
    "data.pivot_table(index = 'tariff', \n",
    "                                           values = ['sum_minutes_by_month', 'count_message_by_month', 'internet_by_month'],\n",
    "                             aggfunc = {'sum_minutes_by_month' : [np.mean, np.var, np.std],\n",
    "                                        'count_message_by_month' : [np.mean, np.var, np.std],\n",
    "                                         'internet_by_month' : [np.mean, np.var, np.std]}).T.round()"
   ]
  },
  {
   "cell_type": "markdown",
   "metadata": {},
   "source": [
    "3. Построение гистограмм."
   ]
  },
  {
   "cell_type": "code",
   "execution_count": 36,
   "metadata": {
    "scrolled": true
   },
   "outputs": [
    {
     "data": {
      "text/plain": [
       "<matplotlib.legend.Legend at 0x7f082b6b4890>"
      ]
     },
     "execution_count": 36,
     "metadata": {},
     "output_type": "execute_result"
    },
    {
     "data": {
      "image/png": "[encoded data removed]",
      "text/plain": [
       "<Figure size 1440x432 with 1 Axes>"
      ]
     },
     "metadata": {
      "needs_background": "light"
     },
     "output_type": "display_data"
    }
   ],
   "source": [
    "plt.figure(figsize=(20,6))\n",
    "for tariff in ['ultra','smart']:\n",
    "    sns.distplot(data.query('tariff == @tariff')['count_message_by_month'], kde=True)\n",
    "plt.xlim(0,250)\n",
    "plt.title('кол-во сообщений')\n",
    "plt.legend(['ultra','smart'])"
   ]
  },
  {
   "cell_type": "markdown",
   "metadata": {},
   "source": [
    "<div class=\"alert alert-warning\">\n",
    "<b>Комментарий ревьюера:</b>\n",
    "\n",
    "Не забывай пожалуйста подписывать каждый график.\n",
    "    \n",
    "Это важный момент всего проекта, так быстрее понять о чем идёт речь на графике.\n",
    "    \n",
    "</div>"
   ]
  },
  {
   "cell_type": "code",
   "execution_count": 37,
   "metadata": {},
   "outputs": [
    {
     "data": {
      "text/plain": [
       "<matplotlib.legend.Legend at 0x7f082b044c10>"
      ]
     },
     "execution_count": 37,
     "metadata": {},
     "output_type": "execute_result"
    },
    {
     "data": {
      "image/png": "[encoded data removed]",
      "text/plain": [
       "<Figure size 1440x432 with 1 Axes>"
      ]
     },
     "metadata": {
      "needs_background": "light"
     },
     "output_type": "display_data"
    }
   ],
   "source": [
    "plt.figure(figsize=(20,6))\n",
    "for tariff in ['ultra','smart']:\n",
    "    sns.distplot(data.query('tariff == @tariff')['sum_minutes_by_month'], kde=True)\n",
    "plt.xlim(0,25)\n",
    "plt.title('кол-во минут')\n",
    "plt.legend(['ultra','smart'])"
   ]
  },
  {
   "cell_type": "markdown",
   "metadata": {},
   "source": [
    "<div class=\"alert alert-success\">\n",
    "<b>Комментарий ревьюера:</b>\n",
    "\n",
    "Кстати для того чтобы подписать график мы можем использовать метод `plt.title()` и в конце кода применить `plt.show()`\n",
    "</div>"
   ]
  },
  {
   "cell_type": "code",
   "execution_count": 38,
   "metadata": {},
   "outputs": [
    {
     "data": {
      "text/plain": [
       "<matplotlib.legend.Legend at 0x7f082b558ad0>"
      ]
     },
     "execution_count": 38,
     "metadata": {},
     "output_type": "execute_result"
    },
    {
     "data": {
      "image/png": "[encoded data removed]",
      "text/plain": [
       "<Figure size 1440x432 with 1 Axes>"
      ]
     },
     "metadata": {
      "needs_background": "light"
     },
     "output_type": "display_data"
    }
   ],
   "source": [
    "plt.figure(figsize=(20,6))\n",
    "for tariff in ['ultra','smart']:\n",
    "    sns.distplot(data.query('tariff == @tariff')['internet_by_month'], kde=True)\n",
    "plt.xlim(0,50000)\n",
    "plt.title('кол-во мб')\n",
    "plt.legend(['ultra','smart'])"
   ]
  },
  {
   "cell_type": "markdown",
   "metadata": {},
   "source": [
    "<div class=\"alert alert-success\">\n",
    "<b>Комментарий ревьюера:</b>\n",
    "\n",
    "Обрати внимание, что наши действия повторяются, это говорит о том, что мы можем создать функцию для построения графиков. Тем самым оптимизировав свой код.\n",
    "    \n",
    "</div>"
   ]
  },
  {
   "cell_type": "markdown",
   "metadata": {},
   "source": [
    "# Шаг 4. Проверка гипотез"
   ]
  },
  {
   "cell_type": "markdown",
   "metadata": {},
   "source": [
    "1. средняя выручка пользователей тарифов «Ультра» и «Смарт» различаются;\n",
    "2. средняя выручка пользователей из Москвы отличается от выручки пользователей из других регионов."
   ]
  },
  {
   "cell_type": "markdown",
   "metadata": {},
   "source": [
    "1-я гипотеза. Cредняя выручка пользователей тарифов «Ультра» и «Смарт» различаются.\n",
    "\n",
    "H0 - Cредняя выручка пользователей тарифа «Ультра» = Cредняя выручка пользователей тарифа«Смарт»;\n",
    "\n",
    "H1 - Cредняя выручка пользователей тарифа «Ультра» != Cредняя выручка пользователей тарифа«Смарт»\n",
    "\n",
    "Используем гипотезу о равенстве средних двух генеральных совокупностей."
   ]
  },
  {
   "cell_type": "markdown",
   "metadata": {},
   "source": [
    "<div class=\"alert alert-success\">\n",
    "<b>Комментарий ревьюера:</b>\n",
    "\n",
    "Гипотезы сформулированы верно.\n",
    "    \n",
    "    \n",
    "**Best practies:**\n",
    "    \n",
    "Перед проверкой гипотезы рекомендую проверить дисперсии выборок, чтобы корректно определить атрибут `equal_val` в Т–тесте.\n",
    "    \n",
    "В том числе стоит визуализировать распределение каждой выборки, чтобы определить нормальное ли у них распределение или нет.\n",
    "    \n",
    "Так мы покажем логичность и последовательность наших действий.\n",
    "    \n",
    "</div>"
   ]
  },
  {
   "cell_type": "code",
   "execution_count": 39,
   "metadata": {},
   "outputs": [
    {
     "name": "stdout",
     "output_type": "stream",
     "text": [
      "p-value = 8.813878364275262e-179\n",
      "Отвергаем нулевую гипотезу\n"
     ]
    }
   ],
   "source": [
    "alpha = 0.05\n",
    "res = st.ttest_ind(data.query('tariff == \"smart\"')['total_income'],data.query('tariff == \"ultra\"')['total_income'])\n",
    "print(f'p-value = {res.pvalue}')\n",
    "if res.pvalue < alpha:\n",
    "    print('Отвергаем нулевую гипотезу')\n",
    "else:\n",
    "    print('Принимаем нулевую гипотезу')"
   ]
  },
  {
   "cell_type": "markdown",
   "metadata": {},
   "source": [
    "p-value значительно меньше уровня значимости, следовательно, отвергаем нулевую гипотезу. Принимаем альтернативную. Т.е:\n",
    "\n",
    "Cредняя выручка пользователей тарифа «Ультра» != Cредняя выручка пользователей тарифа«Смарт»"
   ]
  },
  {
   "cell_type": "markdown",
   "metadata": {},
   "source": [
    "2-я гипотеза. Средняя выручка пользователей из Москвы отличается от выручки пользователей из других регионов.\n",
    "\n",
    "H0 - Средняя выручка пользователей из Москвы = Средняя выручка пользователей из других регионов;\n",
    "\n",
    "H1 - Средняя выручка пользователей из Москвы != Средняя выручка пользователей из других регионов\n",
    "\n",
    "Используем гипотезу о равенстве средних двух генеральных совокупностей."
   ]
  },
  {
   "cell_type": "markdown",
   "metadata": {},
   "source": [
    "<div class=\"alert alert-success\">\n",
    "<b>Комментарий ревьюера:</b>\n",
    "\n",
    "Гипотезы сформулированы верно.\n",
    "    \n",
    "    \n",
    "    \n",
    "</div>"
   ]
  },
  {
   "cell_type": "code",
   "execution_count": 40,
   "metadata": {},
   "outputs": [],
   "source": [
    "#добавляю города в основную таблицу\n",
    "data = data.join(users[['user_id','city']].set_index('user_id'), how = 'outer')"
   ]
  },
  {
   "cell_type": "code",
   "execution_count": 41,
   "metadata": {},
   "outputs": [
    {
     "name": "stdout",
     "output_type": "stream",
     "text": [
      "p-value = 0.48244885168123475\n",
      "Принимаем нулевую гипотезу\n"
     ]
    }
   ],
   "source": [
    "alpha = 0.05\n",
    "res = st.ttest_ind(data.query('city == \"Москва\"')['total_income'],data.query('city != \"Москва\"')['total_income'])\n",
    "print(f'p-value = {res.pvalue}')\n",
    "if res.pvalue < alpha:\n",
    "    print('Отвергаем нулевую гипотезу')\n",
    "else:\n",
    "    print('Принимаем нулевую гипотезу')"
   ]
  },
  {
   "cell_type": "markdown",
   "metadata": {},
   "source": [
    "p-value больше уровня значимости, следовательно, принимаем нулевую гипотезу. Т.е:\n",
    "\n",
    "Средняя выручка пользователей из Москвы = Средняя выручка пользователей из других регионов"
   ]
  },
  {
   "cell_type": "markdown",
   "metadata": {},
   "source": [
    "<div class=\"alert alert-success\">\n",
    "<b>Комментарий ревьюера:</b>\n",
    "\n",
    "Обрати внимание, что наши действия также повторяются с точки зрения расчетов статистических тестов, это говорит о том, что мы можем также создать здесь функцию 😊\n",
    "    \n",
    "</div>"
   ]
  },
  {
   "cell_type": "markdown",
   "metadata": {},
   "source": [
    "<div class=\"alert alert-danger\">\n",
    "<b>Комментарий ревьюера:</b>\n",
    "\n",
    "<s>Финальный вывод и есть главный результат твоей работы. Стоит писать его подробно по результатам проведенной работы. В нем можно приводить полученные в ходе работы значения. Также можно расписать все, что было сделано в работе.\n",
    "    \n",
    "Самое главное — это вывод должен содержать в себе ответ на поставленную задачу.\n",
    "\n",
    "</div>"
   ]
  },
  {
   "cell_type": "markdown",
   "metadata": {},
   "source": [
    "<div class=\"alert alert-success\">\n",
    "<b>Комментарий ревьюера:</b>\n",
    "\n",
    "\n",
    "    \n",
    "Достаточно детально проделанная работа и это не может не радовать 😊\n",
    "    \n",
    "Давай поправим мои комментарии и будем двигаться дальше.\n",
    "    \n",
    "Если у тебя вдруг есчть какие–либо вопросы, то я с радостью отвечу на них 😊\n",
    "       \n",
    "\n",
    "</div>"
   ]
  },
  {
   "cell_type": "markdown",
   "metadata": {},
   "source": [
    "# Шаг 5. Общий вывод"
   ]
  },
  {
   "cell_type": "markdown",
   "metadata": {},
   "source": [
    "В данной работе я открыл файлы с данными и изучил общую информацию. После этого подготовил данные для дальнейшего анализа, т.е привел данные к нужным типам, нашел и исправил ошибки в данных. Посчитал для каждого пользователя: количество сделанных звонков и израсходованных минут разговора по месяцам; количество отправленных сообщений по месяцам; объем израсходованного интернет-трафика по месяцам; помесячную выручку с каждого пользователя. После этого приступил к анализу. Описал поведение клиентов оператора, исходя из выборки. Сколько минут разговора, сколько сообщений и какой объём интернет-трафика требуется пользователям каждого тарифа в месяц. Посчитал среднее количество, дисперсию и стандартное отклонение. Построил гистограммы. После этого проверил гипотезы: 1. средняя выручка пользователей тарифов «Ультра» и «Смарт» различаются; средняя выручка пользователей из Москвы отличается от выручки пользователей из других регионов. Результат первой гипотезы: Cредняя выручка пользователей тарифа «Ультра» != Cредняя выручка пользователей тарифа«Смарт». Результат второй гипотезы: Средняя выручка пользователей из Москвы = Средняя выручка пользователей из других регионов. "
   ]
  },
  {
   "cell_type": "markdown",
   "metadata": {},
   "source": [
    "<div class=\"alert alert-success\">\n",
    "<b>Комментарий ревьюера:</b>\n",
    "\n",
    "Выводы понятны и логичны, а самое главное подкреплены выявленными фактами.\n",
    "       \n",
    "В целом сам проект выполнен на хорошем уровне! На протяжении всей работы чувствуется глубина проработки задачи и это безусловный плюс для нас. Было использовано большое количество методов, которые будут помогать тебе в дальнейших проектах.\n",
    "       \n",
    "Рекомендую посмотреть в открытом доступе на ютубе например – курс по Алгоритмам и структурам данных, эта информация поможет нам в дальнейшем при работе с данными.\n",
    "    \n",
    "Поздравляю с успешным завершением проекта 😊👍\n",
    "    \n",
    "И желаю успехов в новых работах 😊\n",
    "    \n",
    "**[общий комментарий]** Ячейки **markdown** в том числе мы можем использовать как дополнительный способ стилизации нашего проекта. Оставил ниже ссылку, с примерами стилизации.\n",
    "\n",
    "https://sqlbak.com/blog/jupyter-notebook-markdown-cheatsheet\n",
    " \n",
    "    \n",
    "</div>"
   ]
  },
  {
   "cell_type": "code",
   "execution_count": null,
   "metadata": {},
   "outputs": [],
   "source": []
  }
 ],
 "metadata": {
  "ExecuteTimeLog": [
   {
    "duration": 589,
    "start_time": "2021-12-13T13:05:05.758Z"
   },
   {
    "duration": 184,
    "start_time": "2021-12-13T13:05:43.522Z"
   },
   {
    "duration": 405,
    "start_time": "2021-12-13T13:11:20.264Z"
   },
   {
    "duration": 428,
    "start_time": "2021-12-13T13:11:47.754Z"
   },
   {
    "duration": 430,
    "start_time": "2021-12-13T13:13:16.548Z"
   },
   {
    "duration": 464,
    "start_time": "2021-12-13T13:13:25.750Z"
   },
   {
    "duration": 414,
    "start_time": "2021-12-13T13:13:42.601Z"
   },
   {
    "duration": 407,
    "start_time": "2021-12-13T13:13:53.050Z"
   },
   {
    "duration": 59,
    "start_time": "2021-12-13T13:17:09.495Z"
   },
   {
    "duration": 54,
    "start_time": "2021-12-13T13:17:29.228Z"
   },
   {
    "duration": 20,
    "start_time": "2021-12-13T13:17:37.102Z"
   },
   {
    "duration": 7,
    "start_time": "2021-12-13T13:17:45.554Z"
   },
   {
    "duration": 34,
    "start_time": "2021-12-13T13:17:54.897Z"
   },
   {
    "duration": 35,
    "start_time": "2021-12-13T13:18:05.368Z"
   },
   {
    "duration": 473,
    "start_time": "2021-12-13T13:18:29.001Z"
   },
   {
    "duration": 42,
    "start_time": "2021-12-13T13:18:41.189Z"
   },
   {
    "duration": 58,
    "start_time": "2021-12-13T13:19:37.463Z"
   },
   {
    "duration": 62,
    "start_time": "2021-12-13T13:23:44.348Z"
   },
   {
    "duration": 95,
    "start_time": "2021-12-13T13:23:56.196Z"
   },
   {
    "duration": 60,
    "start_time": "2021-12-13T13:30:34.014Z"
   },
   {
    "duration": 23,
    "start_time": "2021-12-13T13:30:46.753Z"
   },
   {
    "duration": 29,
    "start_time": "2021-12-13T13:31:13.724Z"
   },
   {
    "duration": 2304,
    "start_time": "2021-12-13T13:33:18.336Z"
   },
   {
    "duration": 26,
    "start_time": "2021-12-13T13:34:59.365Z"
   },
   {
    "duration": 22,
    "start_time": "2021-12-13T13:35:11.316Z"
   },
   {
    "duration": 26,
    "start_time": "2021-12-13T13:35:34.930Z"
   },
   {
    "duration": 21,
    "start_time": "2021-12-13T13:36:41.915Z"
   },
   {
    "duration": 13,
    "start_time": "2021-12-13T13:37:49.751Z"
   },
   {
    "duration": 14,
    "start_time": "2021-12-13T13:38:47.386Z"
   },
   {
    "duration": 5,
    "start_time": "2021-12-13T13:40:46.804Z"
   },
   {
    "duration": 10,
    "start_time": "2021-12-13T13:41:12.402Z"
   },
   {
    "duration": 8,
    "start_time": "2021-12-13T13:41:23.789Z"
   },
   {
    "duration": 14,
    "start_time": "2021-12-13T13:41:35.475Z"
   },
   {
    "duration": 21,
    "start_time": "2021-12-13T13:41:46.881Z"
   },
   {
    "duration": 18,
    "start_time": "2021-12-13T13:41:56.040Z"
   },
   {
    "duration": 26,
    "start_time": "2021-12-13T13:42:01.720Z"
   },
   {
    "duration": 25,
    "start_time": "2021-12-13T13:42:07.014Z"
   },
   {
    "duration": 17,
    "start_time": "2021-12-13T13:42:19.698Z"
   },
   {
    "duration": 477,
    "start_time": "2021-12-13T13:43:46.209Z"
   },
   {
    "duration": 17,
    "start_time": "2021-12-13T13:44:10.111Z"
   },
   {
    "duration": 16,
    "start_time": "2021-12-13T13:44:29.231Z"
   },
   {
    "duration": 16,
    "start_time": "2021-12-13T13:44:33.789Z"
   },
   {
    "duration": 10,
    "start_time": "2021-12-13T14:05:16.515Z"
   },
   {
    "duration": 8,
    "start_time": "2021-12-13T14:09:33.518Z"
   },
   {
    "duration": 9,
    "start_time": "2021-12-13T14:09:37.670Z"
   },
   {
    "duration": 465,
    "start_time": "2021-12-13T14:09:53.135Z"
   },
   {
    "duration": 2,
    "start_time": "2021-12-13T14:10:01.331Z"
   },
   {
    "duration": 32,
    "start_time": "2021-12-13T14:22:44.795Z"
   },
   {
    "duration": 23,
    "start_time": "2021-12-13T14:24:20.294Z"
   },
   {
    "duration": 17,
    "start_time": "2021-12-13T14:24:26.757Z"
   },
   {
    "duration": 21,
    "start_time": "2021-12-13T14:25:23.230Z"
   },
   {
    "duration": 22,
    "start_time": "2021-12-13T14:25:48.007Z"
   },
   {
    "duration": 17,
    "start_time": "2021-12-13T14:26:08.889Z"
   },
   {
    "duration": 29,
    "start_time": "2021-12-13T14:28:17.354Z"
   },
   {
    "duration": 32,
    "start_time": "2021-12-13T14:38:12.528Z"
   },
   {
    "duration": 43,
    "start_time": "2021-12-13T14:38:17.306Z"
   },
   {
    "duration": 41,
    "start_time": "2021-12-13T14:38:47.491Z"
   },
   {
    "duration": 52,
    "start_time": "2021-12-13T14:39:54.920Z"
   },
   {
    "duration": 646,
    "start_time": "2021-12-13T14:40:54.691Z"
   },
   {
    "duration": 503,
    "start_time": "2021-12-13T14:40:55.555Z"
   },
   {
    "duration": 61,
    "start_time": "2021-12-13T14:40:56.878Z"
   },
   {
    "duration": 107,
    "start_time": "2021-12-13T14:40:59.510Z"
   },
   {
    "duration": 72,
    "start_time": "2021-12-13T14:41:02.610Z"
   },
   {
    "duration": 9,
    "start_time": "2021-12-13T14:41:03.778Z"
   },
   {
    "duration": 17,
    "start_time": "2021-12-13T14:41:10.137Z"
   },
   {
    "duration": 24,
    "start_time": "2021-12-13T14:41:23.880Z"
   },
   {
    "duration": 34,
    "start_time": "2021-12-13T14:41:27.675Z"
   },
   {
    "duration": 34,
    "start_time": "2021-12-13T14:42:48.942Z"
   },
   {
    "duration": 42,
    "start_time": "2021-12-13T14:42:53.005Z"
   },
   {
    "duration": 498,
    "start_time": "2021-12-13T14:43:14.282Z"
   },
   {
    "duration": 656,
    "start_time": "2021-12-13T14:43:26.767Z"
   },
   {
    "duration": 481,
    "start_time": "2021-12-13T14:43:27.425Z"
   },
   {
    "duration": 61,
    "start_time": "2021-12-13T14:43:27.908Z"
   },
   {
    "duration": 97,
    "start_time": "2021-12-13T14:43:28.074Z"
   },
   {
    "duration": 75,
    "start_time": "2021-12-13T14:43:30.037Z"
   },
   {
    "duration": 11,
    "start_time": "2021-12-13T14:43:31.056Z"
   },
   {
    "duration": 18,
    "start_time": "2021-12-13T14:43:34.685Z"
   },
   {
    "duration": 24,
    "start_time": "2021-12-13T14:43:40.209Z"
   },
   {
    "duration": 33,
    "start_time": "2021-12-13T14:47:14.921Z"
   },
   {
    "duration": 52,
    "start_time": "2021-12-13T14:49:01.938Z"
   },
   {
    "duration": 617,
    "start_time": "2021-12-13T14:49:27.521Z"
   },
   {
    "duration": 489,
    "start_time": "2021-12-13T14:49:28.140Z"
   },
   {
    "duration": 83,
    "start_time": "2021-12-13T14:49:28.631Z"
   },
   {
    "duration": 123,
    "start_time": "2021-12-13T14:49:28.716Z"
   },
   {
    "duration": 79,
    "start_time": "2021-12-13T14:49:30.358Z"
   },
   {
    "duration": 10,
    "start_time": "2021-12-13T14:49:30.951Z"
   },
   {
    "duration": 41,
    "start_time": "2021-12-13T14:49:41.924Z"
   },
   {
    "duration": 45,
    "start_time": "2021-12-13T15:02:04.576Z"
   },
   {
    "duration": 58,
    "start_time": "2021-12-13T15:08:32.013Z"
   },
   {
    "duration": 54,
    "start_time": "2021-12-13T15:11:26.211Z"
   },
   {
    "duration": 48,
    "start_time": "2021-12-13T15:12:28.894Z"
   },
   {
    "duration": 1877,
    "start_time": "2021-12-13T15:15:02.737Z"
   },
   {
    "duration": 3,
    "start_time": "2021-12-13T15:21:01.762Z"
   },
   {
    "duration": 8,
    "start_time": "2021-12-13T15:21:10.927Z"
   },
   {
    "duration": 9,
    "start_time": "2021-12-13T15:21:21.608Z"
   },
   {
    "duration": 10,
    "start_time": "2021-12-13T15:27:17.812Z"
   },
   {
    "duration": 52,
    "start_time": "2021-12-13T15:27:29.030Z"
   },
   {
    "duration": 12,
    "start_time": "2021-12-13T15:27:33.879Z"
   },
   {
    "duration": 393,
    "start_time": "2021-12-13T15:28:51.068Z"
   },
   {
    "duration": 53,
    "start_time": "2021-12-13T15:29:01.243Z"
   },
   {
    "duration": 645,
    "start_time": "2021-12-13T15:29:17.999Z"
   },
   {
    "duration": 498,
    "start_time": "2021-12-13T15:29:18.646Z"
   },
   {
    "duration": 79,
    "start_time": "2021-12-13T15:29:19.146Z"
   },
   {
    "duration": 129,
    "start_time": "2021-12-13T15:29:19.227Z"
   },
   {
    "duration": 97,
    "start_time": "2021-12-13T15:29:19.358Z"
   },
   {
    "duration": 9,
    "start_time": "2021-12-13T15:29:19.457Z"
   },
   {
    "duration": 17,
    "start_time": "2021-12-13T15:29:24.690Z"
   },
   {
    "duration": 59,
    "start_time": "2021-12-13T15:29:31.285Z"
   },
   {
    "duration": 10,
    "start_time": "2021-12-13T15:29:35.625Z"
   },
   {
    "duration": 9,
    "start_time": "2021-12-13T15:30:22.214Z"
   },
   {
    "duration": 9,
    "start_time": "2021-12-13T15:30:41.434Z"
   },
   {
    "duration": 415,
    "start_time": "2021-12-13T15:33:24.902Z"
   },
   {
    "duration": 624,
    "start_time": "2021-12-13T15:33:37.722Z"
   },
   {
    "duration": 468,
    "start_time": "2021-12-13T15:33:38.348Z"
   },
   {
    "duration": 57,
    "start_time": "2021-12-13T15:33:38.818Z"
   },
   {
    "duration": 133,
    "start_time": "2021-12-13T15:33:38.877Z"
   },
   {
    "duration": 74,
    "start_time": "2021-12-13T15:33:39.727Z"
   },
   {
    "duration": 11,
    "start_time": "2021-12-13T15:33:41.037Z"
   },
   {
    "duration": 18,
    "start_time": "2021-12-13T15:33:43.197Z"
   },
   {
    "duration": 58,
    "start_time": "2021-12-13T15:33:46.647Z"
   },
   {
    "duration": 11,
    "start_time": "2021-12-13T15:33:49.624Z"
   },
   {
    "duration": 10,
    "start_time": "2021-12-13T15:33:55.089Z"
   },
   {
    "duration": 454,
    "start_time": "2021-12-13T16:10:16.096Z"
   },
   {
    "duration": 361,
    "start_time": "2021-12-13T16:10:46.191Z"
   },
   {
    "duration": 186,
    "start_time": "2021-12-13T16:10:50.470Z"
   },
   {
    "duration": 139,
    "start_time": "2021-12-13T16:10:59.679Z"
   },
   {
    "duration": 321,
    "start_time": "2021-12-13T16:11:13.734Z"
   },
   {
    "duration": 333,
    "start_time": "2021-12-13T16:11:24.336Z"
   },
   {
    "duration": 145,
    "start_time": "2021-12-13T16:12:03.716Z"
   },
   {
    "duration": 375,
    "start_time": "2021-12-13T16:12:14.219Z"
   },
   {
    "duration": 654,
    "start_time": "2021-12-13T16:12:22.084Z"
   },
   {
    "duration": 449,
    "start_time": "2021-12-13T16:12:22.740Z"
   },
   {
    "duration": 61,
    "start_time": "2021-12-13T16:12:23.192Z"
   },
   {
    "duration": 102,
    "start_time": "2021-12-13T16:12:23.330Z"
   },
   {
    "duration": 77,
    "start_time": "2021-12-13T16:12:25.138Z"
   },
   {
    "duration": 10,
    "start_time": "2021-12-13T16:12:25.927Z"
   },
   {
    "duration": 16,
    "start_time": "2021-12-13T16:12:29.007Z"
   },
   {
    "duration": 56,
    "start_time": "2021-12-13T16:12:38.870Z"
   },
   {
    "duration": 10,
    "start_time": "2021-12-13T16:12:45.940Z"
   },
   {
    "duration": 9,
    "start_time": "2021-12-13T16:12:50.751Z"
   },
   {
    "duration": 144,
    "start_time": "2021-12-13T16:16:48.083Z"
   },
   {
    "duration": 600,
    "start_time": "2021-12-13T16:17:26.752Z"
   },
   {
    "duration": 457,
    "start_time": "2021-12-13T16:17:27.354Z"
   },
   {
    "duration": 60,
    "start_time": "2021-12-13T16:17:27.813Z"
   },
   {
    "duration": 122,
    "start_time": "2021-12-13T16:17:27.874Z"
   },
   {
    "duration": 80,
    "start_time": "2021-12-13T16:17:28.739Z"
   },
   {
    "duration": 9,
    "start_time": "2021-12-13T16:17:29.362Z"
   },
   {
    "duration": 20,
    "start_time": "2021-12-13T16:17:30.534Z"
   },
   {
    "duration": 57,
    "start_time": "2021-12-13T16:17:31.045Z"
   },
   {
    "duration": 10,
    "start_time": "2021-12-13T16:17:32.815Z"
   },
   {
    "duration": 8,
    "start_time": "2021-12-13T16:17:33.777Z"
   },
   {
    "duration": 236,
    "start_time": "2021-12-13T16:17:45.569Z"
   },
   {
    "duration": 773,
    "start_time": "2021-12-13T16:18:55.735Z"
   },
   {
    "duration": 454,
    "start_time": "2021-12-13T16:18:56.510Z"
   },
   {
    "duration": 63,
    "start_time": "2021-12-13T16:18:56.980Z"
   },
   {
    "duration": 131,
    "start_time": "2021-12-13T16:18:57.044Z"
   },
   {
    "duration": 93,
    "start_time": "2021-12-13T16:18:57.177Z"
   },
   {
    "duration": 9,
    "start_time": "2021-12-13T16:18:57.272Z"
   },
   {
    "duration": 17,
    "start_time": "2021-12-13T16:18:58.406Z"
   },
   {
    "duration": 54,
    "start_time": "2021-12-13T16:19:00.395Z"
   },
   {
    "duration": 10,
    "start_time": "2021-12-13T16:19:01.679Z"
   },
   {
    "duration": 9,
    "start_time": "2021-12-13T16:19:04.441Z"
   },
   {
    "duration": 180,
    "start_time": "2021-12-13T16:19:06.185Z"
   },
   {
    "duration": 2646,
    "start_time": "2021-12-13T16:23:46.819Z"
   },
   {
    "duration": 618,
    "start_time": "2021-12-13T16:24:07.357Z"
   },
   {
    "duration": 482,
    "start_time": "2021-12-13T16:24:07.977Z"
   },
   {
    "duration": 69,
    "start_time": "2021-12-13T16:24:08.461Z"
   },
   {
    "duration": 120,
    "start_time": "2021-12-13T16:24:08.531Z"
   },
   {
    "duration": 77,
    "start_time": "2021-12-13T16:24:09.848Z"
   },
   {
    "duration": 10,
    "start_time": "2021-12-13T16:24:10.635Z"
   },
   {
    "duration": 16,
    "start_time": "2021-12-13T16:24:26.574Z"
   },
   {
    "duration": 55,
    "start_time": "2021-12-13T16:24:29.393Z"
   },
   {
    "duration": 9,
    "start_time": "2021-12-13T16:24:31.060Z"
   },
   {
    "duration": 153,
    "start_time": "2021-12-13T16:25:04.228Z"
   },
   {
    "duration": 92,
    "start_time": "2021-12-13T16:25:05.991Z"
   },
   {
    "duration": 15,
    "start_time": "2021-12-13T16:25:27.699Z"
   },
   {
    "duration": 630,
    "start_time": "2021-12-13T16:25:59.513Z"
   },
   {
    "duration": 449,
    "start_time": "2021-12-13T16:26:00.146Z"
   },
   {
    "duration": 85,
    "start_time": "2021-12-13T16:26:01.100Z"
   },
   {
    "duration": 99,
    "start_time": "2021-12-13T16:26:12.544Z"
   },
   {
    "duration": 82,
    "start_time": "2021-12-13T16:26:15.040Z"
   },
   {
    "duration": 10,
    "start_time": "2021-12-13T16:26:22.176Z"
   },
   {
    "duration": 97,
    "start_time": "2021-12-13T16:27:03.852Z"
   },
   {
    "duration": 168,
    "start_time": "2021-12-13T16:28:27.555Z"
   },
   {
    "duration": 164,
    "start_time": "2021-12-13T16:28:46.653Z"
   },
   {
    "duration": 16,
    "start_time": "2021-12-13T16:28:59.744Z"
   },
   {
    "duration": 54,
    "start_time": "2021-12-13T16:29:05.365Z"
   },
   {
    "duration": 13,
    "start_time": "2021-12-13T16:29:29.315Z"
   },
   {
    "duration": 140,
    "start_time": "2021-12-13T16:30:00.164Z"
   },
   {
    "duration": 18,
    "start_time": "2021-12-13T16:30:07.582Z"
   },
   {
    "duration": 19,
    "start_time": "2021-12-13T16:30:20.438Z"
   },
   {
    "duration": 693,
    "start_time": "2021-12-13T16:30:51.112Z"
   },
   {
    "duration": 448,
    "start_time": "2021-12-13T16:30:51.807Z"
   },
   {
    "duration": 68,
    "start_time": "2021-12-13T16:30:52.257Z"
   },
   {
    "duration": 120,
    "start_time": "2021-12-13T16:30:52.327Z"
   },
   {
    "duration": 73,
    "start_time": "2021-12-13T16:30:53.465Z"
   },
   {
    "duration": 10,
    "start_time": "2021-12-13T16:30:54.254Z"
   },
   {
    "duration": 180,
    "start_time": "2021-12-13T16:30:54.743Z"
   },
   {
    "duration": 16,
    "start_time": "2021-12-13T16:30:56.848Z"
   },
   {
    "duration": 53,
    "start_time": "2021-12-13T16:30:59.944Z"
   },
   {
    "duration": 12,
    "start_time": "2021-12-13T16:31:02.070Z"
   },
   {
    "duration": 1328,
    "start_time": "2021-12-13T16:31:48.346Z"
   },
   {
    "duration": 352,
    "start_time": "2021-12-13T16:32:11.151Z"
   },
   {
    "duration": 137,
    "start_time": "2021-12-13T16:33:20.288Z"
   },
   {
    "duration": 15,
    "start_time": "2021-12-13T16:33:30.924Z"
   },
   {
    "duration": 721,
    "start_time": "2021-12-13T16:35:12.258Z"
   },
   {
    "duration": 519,
    "start_time": "2021-12-13T16:35:12.982Z"
   },
   {
    "duration": 69,
    "start_time": "2021-12-13T16:35:13.503Z"
   },
   {
    "duration": 148,
    "start_time": "2021-12-13T16:35:13.574Z"
   },
   {
    "duration": 139,
    "start_time": "2021-12-13T16:35:13.725Z"
   },
   {
    "duration": 13,
    "start_time": "2021-12-13T16:35:14.776Z"
   },
   {
    "duration": 282,
    "start_time": "2021-12-13T16:35:15.318Z"
   },
   {
    "duration": 26,
    "start_time": "2021-12-13T16:35:17.453Z"
   },
   {
    "duration": 56,
    "start_time": "2021-12-13T16:35:20.299Z"
   },
   {
    "duration": 14,
    "start_time": "2021-12-13T16:35:21.015Z"
   },
   {
    "duration": 409,
    "start_time": "2021-12-13T16:36:11.194Z"
   },
   {
    "duration": 666,
    "start_time": "2021-12-13T16:36:19.284Z"
   },
   {
    "duration": 448,
    "start_time": "2021-12-13T16:36:19.952Z"
   },
   {
    "duration": 64,
    "start_time": "2021-12-13T16:36:20.402Z"
   },
   {
    "duration": 145,
    "start_time": "2021-12-13T16:36:20.468Z"
   },
   {
    "duration": 74,
    "start_time": "2021-12-13T16:36:20.615Z"
   },
   {
    "duration": 22,
    "start_time": "2021-12-13T16:36:20.691Z"
   },
   {
    "duration": 175,
    "start_time": "2021-12-13T16:36:21.009Z"
   },
   {
    "duration": 18,
    "start_time": "2021-12-13T16:36:23.019Z"
   },
   {
    "duration": 55,
    "start_time": "2021-12-13T16:36:25.753Z"
   },
   {
    "duration": 12,
    "start_time": "2021-12-13T16:36:33.968Z"
   },
   {
    "duration": 34,
    "start_time": "2021-12-13T16:36:49.841Z"
   },
   {
    "duration": 16,
    "start_time": "2021-12-13T16:37:03.173Z"
   },
   {
    "duration": 600,
    "start_time": "2021-12-13T16:37:54.850Z"
   },
   {
    "duration": 473,
    "start_time": "2021-12-13T16:37:55.456Z"
   },
   {
    "duration": 82,
    "start_time": "2021-12-13T16:37:55.931Z"
   },
   {
    "duration": 119,
    "start_time": "2021-12-13T16:37:56.015Z"
   },
   {
    "duration": 120,
    "start_time": "2021-12-13T16:37:56.136Z"
   },
   {
    "duration": 9,
    "start_time": "2021-12-13T16:37:56.343Z"
   },
   {
    "duration": 163,
    "start_time": "2021-12-13T16:37:57.900Z"
   },
   {
    "duration": 17,
    "start_time": "2021-12-13T16:38:02.302Z"
   },
   {
    "duration": 53,
    "start_time": "2021-12-13T16:38:05.359Z"
   },
   {
    "duration": 13,
    "start_time": "2021-12-13T16:38:08.246Z"
   },
   {
    "duration": 421,
    "start_time": "2021-12-13T16:39:04.879Z"
   },
   {
    "duration": 4,
    "start_time": "2021-12-13T16:39:08.493Z"
   },
   {
    "duration": 10,
    "start_time": "2021-12-13T16:39:11.001Z"
   },
   {
    "duration": 80,
    "start_time": "2021-12-13T16:41:01.024Z"
   },
   {
    "duration": 606,
    "start_time": "2021-12-13T16:41:14.033Z"
   },
   {
    "duration": 454,
    "start_time": "2021-12-13T16:41:14.641Z"
   },
   {
    "duration": 59,
    "start_time": "2021-12-13T16:41:15.097Z"
   },
   {
    "duration": 122,
    "start_time": "2021-12-13T16:41:15.157Z"
   },
   {
    "duration": 90,
    "start_time": "2021-12-13T16:41:15.281Z"
   },
   {
    "duration": 9,
    "start_time": "2021-12-13T16:41:17.718Z"
   },
   {
    "duration": 161,
    "start_time": "2021-12-13T16:41:18.049Z"
   },
   {
    "duration": 78,
    "start_time": "2021-12-13T16:41:23.023Z"
   },
   {
    "duration": 16,
    "start_time": "2021-12-13T16:41:27.036Z"
   },
   {
    "duration": 3,
    "start_time": "2021-12-13T16:42:20.329Z"
   },
   {
    "duration": 11,
    "start_time": "2021-12-13T16:42:23.243Z"
   },
   {
    "duration": 11,
    "start_time": "2021-12-13T16:45:09.028Z"
   },
   {
    "duration": 10,
    "start_time": "2021-12-13T16:45:28.815Z"
   },
   {
    "duration": 19,
    "start_time": "2021-12-13T16:46:01.256Z"
   },
   {
    "duration": 20,
    "start_time": "2021-12-13T16:46:42.759Z"
   },
   {
    "duration": 9,
    "start_time": "2021-12-13T16:47:10.321Z"
   },
   {
    "duration": 3,
    "start_time": "2021-12-13T16:47:43.451Z"
   },
   {
    "duration": 10,
    "start_time": "2021-12-13T16:47:47.024Z"
   },
   {
    "duration": 9,
    "start_time": "2021-12-13T16:48:53.154Z"
   },
   {
    "duration": 18,
    "start_time": "2021-12-13T16:49:46.951Z"
   },
   {
    "duration": 27,
    "start_time": "2021-12-13T16:50:23.727Z"
   },
   {
    "duration": 26,
    "start_time": "2021-12-13T16:50:31.689Z"
   },
   {
    "duration": 12,
    "start_time": "2021-12-13T16:50:46.214Z"
   },
   {
    "duration": 12,
    "start_time": "2021-12-13T16:51:19.946Z"
   },
   {
    "duration": 7,
    "start_time": "2021-12-13T16:51:26.466Z"
   },
   {
    "duration": 30,
    "start_time": "2021-12-13T17:02:34.759Z"
   },
   {
    "duration": 23,
    "start_time": "2021-12-13T17:03:55.372Z"
   },
   {
    "duration": 11,
    "start_time": "2021-12-13T17:13:21.311Z"
   },
   {
    "duration": 7,
    "start_time": "2021-12-13T17:13:29.260Z"
   },
   {
    "duration": 43,
    "start_time": "2021-12-13T17:25:47.839Z"
   },
   {
    "duration": 428,
    "start_time": "2021-12-13T17:30:44.297Z"
   },
   {
    "duration": 39,
    "start_time": "2021-12-13T17:30:50.400Z"
   },
   {
    "duration": 33,
    "start_time": "2021-12-13T17:31:45.774Z"
   },
   {
    "duration": 348,
    "start_time": "2021-12-13T17:32:36.493Z"
   },
   {
    "duration": 20,
    "start_time": "2021-12-13T17:36:53.261Z"
   },
   {
    "duration": 36,
    "start_time": "2021-12-13T17:43:08.703Z"
   },
   {
    "duration": 38,
    "start_time": "2021-12-13T17:43:57.695Z"
   },
   {
    "duration": 32,
    "start_time": "2021-12-13T17:44:12.084Z"
   },
   {
    "duration": 32,
    "start_time": "2021-12-13T17:44:25.770Z"
   },
   {
    "duration": 32,
    "start_time": "2021-12-13T17:44:31.627Z"
   },
   {
    "duration": 32,
    "start_time": "2021-12-13T17:44:36.155Z"
   },
   {
    "duration": 36,
    "start_time": "2021-12-13T17:44:55.310Z"
   },
   {
    "duration": 71,
    "start_time": "2021-12-13T17:50:44.916Z"
   },
   {
    "duration": 38,
    "start_time": "2021-12-13T17:51:19.205Z"
   },
   {
    "duration": 47,
    "start_time": "2021-12-13T17:51:56.382Z"
   },
   {
    "duration": 40,
    "start_time": "2021-12-13T17:52:16.466Z"
   },
   {
    "duration": 30,
    "start_time": "2021-12-13T17:52:28.395Z"
   },
   {
    "duration": 598,
    "start_time": "2021-12-13T17:58:04.560Z"
   },
   {
    "duration": 433,
    "start_time": "2021-12-13T17:58:05.160Z"
   },
   {
    "duration": 61,
    "start_time": "2021-12-13T17:58:05.594Z"
   },
   {
    "duration": 136,
    "start_time": "2021-12-13T17:58:05.656Z"
   },
   {
    "duration": 69,
    "start_time": "2021-12-13T17:58:05.807Z"
   },
   {
    "duration": 11,
    "start_time": "2021-12-13T17:58:06.464Z"
   },
   {
    "duration": 167,
    "start_time": "2021-12-13T17:58:06.874Z"
   },
   {
    "duration": 78,
    "start_time": "2021-12-13T17:58:09.658Z"
   },
   {
    "duration": 18,
    "start_time": "2021-12-13T17:58:10.342Z"
   },
   {
    "duration": 54,
    "start_time": "2021-12-13T17:58:15.900Z"
   },
   {
    "duration": 4,
    "start_time": "2021-12-13T17:58:18.308Z"
   },
   {
    "duration": 50,
    "start_time": "2021-12-13T17:58:20.065Z"
   },
   {
    "duration": 612,
    "start_time": "2021-12-13T17:58:34.143Z"
   },
   {
    "duration": 427,
    "start_time": "2021-12-13T17:58:34.756Z"
   },
   {
    "duration": 67,
    "start_time": "2021-12-13T17:58:35.185Z"
   },
   {
    "duration": 127,
    "start_time": "2021-12-13T17:58:35.254Z"
   },
   {
    "duration": 86,
    "start_time": "2021-12-13T17:58:35.383Z"
   },
   {
    "duration": 9,
    "start_time": "2021-12-13T17:58:35.471Z"
   },
   {
    "duration": 162,
    "start_time": "2021-12-13T17:58:36.130Z"
   },
   {
    "duration": 78,
    "start_time": "2021-12-13T17:58:37.194Z"
   },
   {
    "duration": 16,
    "start_time": "2021-12-13T17:58:37.984Z"
   },
   {
    "duration": 3,
    "start_time": "2021-12-13T17:58:41.527Z"
   },
   {
    "duration": 47,
    "start_time": "2021-12-13T17:58:42.054Z"
   },
   {
    "duration": 8,
    "start_time": "2021-12-13T17:58:48.301Z"
   },
   {
    "duration": 16,
    "start_time": "2021-12-13T17:58:48.726Z"
   },
   {
    "duration": 21,
    "start_time": "2021-12-13T17:58:49.571Z"
   },
   {
    "duration": 9,
    "start_time": "2021-12-13T17:58:50.105Z"
   },
   {
    "duration": 3,
    "start_time": "2021-12-13T17:58:51.589Z"
   },
   {
    "duration": 41,
    "start_time": "2021-12-13T17:58:52.456Z"
   },
   {
    "duration": 9,
    "start_time": "2021-12-13T17:58:55.178Z"
   },
   {
    "duration": 18,
    "start_time": "2021-12-13T17:58:55.612Z"
   },
   {
    "duration": 28,
    "start_time": "2021-12-13T17:58:56.695Z"
   },
   {
    "duration": 10,
    "start_time": "2021-12-13T17:58:58.602Z"
   },
   {
    "duration": 9,
    "start_time": "2021-12-13T17:59:00.294Z"
   },
   {
    "duration": 37,
    "start_time": "2021-12-13T17:59:00.775Z"
   },
   {
    "duration": 32,
    "start_time": "2021-12-13T17:59:04.036Z"
   },
   {
    "duration": 33,
    "start_time": "2021-12-13T18:02:39.137Z"
   },
   {
    "duration": 8395,
    "start_time": "2021-12-13T18:27:20.475Z"
   },
   {
    "duration": 10086,
    "start_time": "2021-12-13T18:27:43.186Z"
   },
   {
    "duration": 9263,
    "start_time": "2021-12-13T18:28:53.354Z"
   },
   {
    "duration": 8587,
    "start_time": "2021-12-13T18:31:59.434Z"
   },
   {
    "duration": 47,
    "start_time": "2021-12-13T18:40:42.267Z"
   },
   {
    "duration": 102,
    "start_time": "2021-12-13T18:43:23.198Z"
   },
   {
    "duration": 39,
    "start_time": "2021-12-13T18:47:37.446Z"
   },
   {
    "duration": 35,
    "start_time": "2021-12-13T19:10:05.590Z"
   },
   {
    "duration": 625,
    "start_time": "2021-12-13T19:10:43.015Z"
   },
   {
    "duration": 483,
    "start_time": "2021-12-13T19:10:43.642Z"
   },
   {
    "duration": 83,
    "start_time": "2021-12-13T19:10:44.127Z"
   },
   {
    "duration": 115,
    "start_time": "2021-12-13T19:10:44.211Z"
   },
   {
    "duration": 72,
    "start_time": "2021-12-13T19:10:45.279Z"
   },
   {
    "duration": 9,
    "start_time": "2021-12-13T19:10:45.759Z"
   },
   {
    "duration": 216,
    "start_time": "2021-12-13T19:10:46.066Z"
   },
   {
    "duration": 76,
    "start_time": "2021-12-13T19:10:49.608Z"
   },
   {
    "duration": 15,
    "start_time": "2021-12-13T19:10:50.290Z"
   },
   {
    "duration": 3,
    "start_time": "2021-12-13T19:10:50.680Z"
   },
   {
    "duration": 46,
    "start_time": "2021-12-13T19:10:51.971Z"
   },
   {
    "duration": 7,
    "start_time": "2021-12-13T19:10:52.479Z"
   },
   {
    "duration": 15,
    "start_time": "2021-12-13T19:10:52.634Z"
   },
   {
    "duration": 28,
    "start_time": "2021-12-13T19:10:54.094Z"
   },
   {
    "duration": 9,
    "start_time": "2021-12-13T19:10:54.324Z"
   },
   {
    "duration": 3,
    "start_time": "2021-12-13T19:10:54.560Z"
   },
   {
    "duration": 26,
    "start_time": "2021-12-13T19:10:55.765Z"
   },
   {
    "duration": 9,
    "start_time": "2021-12-13T19:10:57.913Z"
   },
   {
    "duration": 18,
    "start_time": "2021-12-13T19:10:59.347Z"
   },
   {
    "duration": 27,
    "start_time": "2021-12-13T19:10:59.508Z"
   },
   {
    "duration": 11,
    "start_time": "2021-12-13T19:10:59.664Z"
   },
   {
    "duration": 8,
    "start_time": "2021-12-13T19:10:59.787Z"
   },
   {
    "duration": 31,
    "start_time": "2021-12-13T19:11:01.224Z"
   },
   {
    "duration": 37,
    "start_time": "2021-12-13T19:11:04.451Z"
   },
   {
    "duration": 78,
    "start_time": "2021-12-13T19:11:09.783Z"
   },
   {
    "duration": 35,
    "start_time": "2021-12-13T19:11:11.582Z"
   },
   {
    "duration": 110,
    "start_time": "2021-12-13T19:22:47.456Z"
   },
   {
    "duration": 1633,
    "start_time": "2021-12-13T19:23:03.377Z"
   },
   {
    "duration": 5368,
    "start_time": "2021-12-13T19:25:49.430Z"
   },
   {
    "duration": 5537,
    "start_time": "2021-12-13T19:27:10.149Z"
   },
   {
    "duration": 5203,
    "start_time": "2021-12-13T19:30:20.928Z"
   },
   {
    "duration": 2961,
    "start_time": "2021-12-13T19:31:53.100Z"
   },
   {
    "duration": 1104,
    "start_time": "2021-12-13T19:42:03.896Z"
   },
   {
    "duration": 1262,
    "start_time": "2021-12-13T19:42:09.204Z"
   },
   {
    "duration": 2,
    "start_time": "2021-12-13T19:42:26.329Z"
   },
   {
    "duration": 5062,
    "start_time": "2021-12-13T19:42:32.646Z"
   },
   {
    "duration": 2200,
    "start_time": "2021-12-13T19:44:04.350Z"
   },
   {
    "duration": 3935,
    "start_time": "2021-12-13T19:45:54.355Z"
   },
   {
    "duration": 13,
    "start_time": "2021-12-13T19:46:05.424Z"
   },
   {
    "duration": 21,
    "start_time": "2021-12-13T19:46:11.659Z"
   },
   {
    "duration": 24,
    "start_time": "2021-12-13T19:46:22.414Z"
   },
   {
    "duration": 37,
    "start_time": "2021-12-13T19:57:16.540Z"
   },
   {
    "duration": 25,
    "start_time": "2021-12-13T19:58:37.292Z"
   },
   {
    "duration": 24,
    "start_time": "2021-12-13T20:02:22.074Z"
   },
   {
    "duration": 33,
    "start_time": "2021-12-13T20:02:28.551Z"
   },
   {
    "duration": 18,
    "start_time": "2021-12-13T20:06:31.060Z"
   },
   {
    "duration": 644,
    "start_time": "2021-12-13T20:06:53.286Z"
   },
   {
    "duration": 467,
    "start_time": "2021-12-13T20:06:53.931Z"
   },
   {
    "duration": 61,
    "start_time": "2021-12-13T20:06:54.401Z"
   },
   {
    "duration": 144,
    "start_time": "2021-12-13T20:06:54.464Z"
   },
   {
    "duration": 75,
    "start_time": "2021-12-13T20:06:54.610Z"
   },
   {
    "duration": 26,
    "start_time": "2021-12-13T20:06:54.687Z"
   },
   {
    "duration": 158,
    "start_time": "2021-12-13T20:06:55.318Z"
   },
   {
    "duration": 77,
    "start_time": "2021-12-13T20:06:57.835Z"
   },
   {
    "duration": 17,
    "start_time": "2021-12-13T20:07:00.046Z"
   },
   {
    "duration": 4,
    "start_time": "2021-12-13T20:07:02.900Z"
   },
   {
    "duration": 47,
    "start_time": "2021-12-13T20:07:03.777Z"
   },
   {
    "duration": 9,
    "start_time": "2021-12-13T20:07:06.674Z"
   },
   {
    "duration": 16,
    "start_time": "2021-12-13T20:07:08.671Z"
   },
   {
    "duration": 21,
    "start_time": "2021-12-13T20:07:09.374Z"
   },
   {
    "duration": 9,
    "start_time": "2021-12-13T20:07:09.697Z"
   },
   {
    "duration": 3,
    "start_time": "2021-12-13T20:07:09.960Z"
   },
   {
    "duration": 28,
    "start_time": "2021-12-13T20:07:11.318Z"
   },
   {
    "duration": 9,
    "start_time": "2021-12-13T20:07:11.889Z"
   },
   {
    "duration": 18,
    "start_time": "2021-12-13T20:07:12.490Z"
   },
   {
    "duration": 27,
    "start_time": "2021-12-13T20:07:16.326Z"
   },
   {
    "duration": 10,
    "start_time": "2021-12-13T20:07:18.426Z"
   },
   {
    "duration": 8,
    "start_time": "2021-12-13T20:07:19.728Z"
   },
   {
    "duration": 31,
    "start_time": "2021-12-13T20:07:20.753Z"
   },
   {
    "duration": 94,
    "start_time": "2021-12-13T20:07:22.338Z"
   },
   {
    "duration": 5363,
    "start_time": "2021-12-13T20:07:23.527Z"
   },
   {
    "duration": 3230,
    "start_time": "2021-12-13T20:07:30.247Z"
   },
   {
    "duration": 3021,
    "start_time": "2021-12-13T20:07:34.851Z"
   },
   {
    "duration": 3955,
    "start_time": "2021-12-13T20:07:38.787Z"
   },
   {
    "duration": 26,
    "start_time": "2021-12-13T20:07:44.124Z"
   },
   {
    "duration": 18,
    "start_time": "2021-12-13T20:07:55.974Z"
   },
   {
    "duration": 24,
    "start_time": "2021-12-13T20:08:43.471Z"
   },
   {
    "duration": 17,
    "start_time": "2021-12-13T20:08:47.181Z"
   },
   {
    "duration": 19,
    "start_time": "2021-12-13T20:08:53.564Z"
   },
   {
    "duration": 31,
    "start_time": "2021-12-13T20:10:44.734Z"
   },
   {
    "duration": 953,
    "start_time": "2021-12-13T20:26:05.458Z"
   },
   {
    "duration": 926,
    "start_time": "2021-12-13T20:26:31.007Z"
   },
   {
    "duration": 20,
    "start_time": "2021-12-13T20:27:13.278Z"
   },
   {
    "duration": 1139,
    "start_time": "2021-12-13T20:27:30.762Z"
   },
   {
    "duration": 1122,
    "start_time": "2021-12-13T20:28:04.281Z"
   },
   {
    "duration": 1736,
    "start_time": "2021-12-13T20:28:42.487Z"
   },
   {
    "duration": 4495,
    "start_time": "2021-12-13T20:29:45.826Z"
   },
   {
    "duration": 605,
    "start_time": "2021-12-13T21:17:48.438Z"
   },
   {
    "duration": 2158,
    "start_time": "2021-12-13T21:18:12.287Z"
   },
   {
    "duration": 64,
    "start_time": "2021-12-13T21:18:14.539Z"
   },
   {
    "duration": 122,
    "start_time": "2021-12-13T21:18:23.538Z"
   },
   {
    "duration": 72,
    "start_time": "2021-12-13T21:18:29.698Z"
   },
   {
    "duration": 11,
    "start_time": "2021-12-13T21:18:32.091Z"
   },
   {
    "duration": 164,
    "start_time": "2021-12-13T21:18:34.553Z"
   },
   {
    "duration": 79,
    "start_time": "2021-12-13T21:19:18.681Z"
   },
   {
    "duration": 840,
    "start_time": "2021-12-13T21:19:43.487Z"
   },
   {
    "duration": 1830,
    "start_time": "2021-12-13T21:19:47.497Z"
   },
   {
    "duration": 3,
    "start_time": "2021-12-13T21:20:24.257Z"
   },
   {
    "duration": 16,
    "start_time": "2021-12-13T21:20:40.258Z"
   },
   {
    "duration": 457,
    "start_time": "2021-12-13T21:20:54.570Z"
   },
   {
    "duration": 21,
    "start_time": "2021-12-13T21:21:04.697Z"
   },
   {
    "duration": 380,
    "start_time": "2021-12-13T21:21:15.083Z"
   },
   {
    "duration": 3,
    "start_time": "2021-12-13T21:21:17.967Z"
   },
   {
    "duration": 18,
    "start_time": "2021-12-13T21:21:26.042Z"
   },
   {
    "duration": 375,
    "start_time": "2021-12-13T21:21:43.860Z"
   },
   {
    "duration": 28,
    "start_time": "2021-12-13T21:21:48.596Z"
   },
   {
    "duration": 326,
    "start_time": "2021-12-13T21:21:57.484Z"
   },
   {
    "duration": 7,
    "start_time": "2021-12-13T21:22:03.327Z"
   },
   {
    "duration": 607,
    "start_time": "2021-12-13T21:25:51.263Z"
   },
   {
    "duration": 469,
    "start_time": "2021-12-13T21:25:51.873Z"
   },
   {
    "duration": 72,
    "start_time": "2021-12-13T21:25:53.100Z"
   },
   {
    "duration": 127,
    "start_time": "2021-12-13T21:25:53.562Z"
   },
   {
    "duration": 75,
    "start_time": "2021-12-13T21:25:55.833Z"
   },
   {
    "duration": 11,
    "start_time": "2021-12-13T21:26:00.458Z"
   },
   {
    "duration": 187,
    "start_time": "2021-12-13T21:26:01.496Z"
   },
   {
    "duration": 89,
    "start_time": "2021-12-13T21:26:04.734Z"
   },
   {
    "duration": 4,
    "start_time": "2021-12-13T21:26:07.572Z"
   },
   {
    "duration": 44,
    "start_time": "2021-12-13T21:26:20.333Z"
   },
   {
    "duration": 4,
    "start_time": "2021-12-13T21:26:24.509Z"
   },
   {
    "duration": 53,
    "start_time": "2021-12-13T21:26:32.287Z"
   },
   {
    "duration": 9,
    "start_time": "2021-12-13T21:26:36.159Z"
   },
   {
    "duration": 33,
    "start_time": "2021-12-13T21:27:22.514Z"
   },
   {
    "duration": 8335,
    "start_time": "2021-12-13T21:33:48.180Z"
   },
   {
    "duration": 381,
    "start_time": "2021-12-13T21:33:59.178Z"
   },
   {
    "duration": 50,
    "start_time": "2021-12-13T21:34:56.909Z"
   },
   {
    "duration": 37,
    "start_time": "2021-12-13T21:35:42.298Z"
   },
   {
    "duration": 288,
    "start_time": "2021-12-13T21:38:37.620Z"
   },
   {
    "duration": 275,
    "start_time": "2021-12-13T21:38:52.285Z"
   },
   {
    "duration": 245,
    "start_time": "2021-12-13T21:39:21.301Z"
   },
   {
    "duration": 268,
    "start_time": "2021-12-13T21:39:35.643Z"
   },
   {
    "duration": 5,
    "start_time": "2021-12-13T21:40:32.093Z"
   },
   {
    "duration": 21,
    "start_time": "2021-12-13T21:40:36.103Z"
   },
   {
    "duration": 14,
    "start_time": "2021-12-13T21:40:58.399Z"
   },
   {
    "duration": 299,
    "start_time": "2021-12-13T21:45:27.769Z"
   },
   {
    "duration": 311,
    "start_time": "2021-12-13T21:45:36.286Z"
   },
   {
    "duration": 391,
    "start_time": "2021-12-14T10:58:35.090Z"
   },
   {
    "duration": 725,
    "start_time": "2021-12-14T10:58:44.592Z"
   },
   {
    "duration": 563,
    "start_time": "2021-12-14T10:58:45.320Z"
   },
   {
    "duration": 88,
    "start_time": "2021-12-14T10:58:45.886Z"
   },
   {
    "duration": 153,
    "start_time": "2021-12-14T10:58:46.377Z"
   },
   {
    "duration": 105,
    "start_time": "2021-12-14T10:58:47.874Z"
   },
   {
    "duration": 19,
    "start_time": "2021-12-14T10:58:48.619Z"
   },
   {
    "duration": 231,
    "start_time": "2021-12-14T10:58:49.017Z"
   },
   {
    "duration": 109,
    "start_time": "2021-12-14T10:58:50.505Z"
   },
   {
    "duration": 6,
    "start_time": "2021-12-14T10:58:51.333Z"
   },
   {
    "duration": 50,
    "start_time": "2021-12-14T10:58:52.404Z"
   },
   {
    "duration": 3,
    "start_time": "2021-12-14T10:58:52.881Z"
   },
   {
    "duration": 61,
    "start_time": "2021-12-14T10:58:53.793Z"
   },
   {
    "duration": 11,
    "start_time": "2021-12-14T10:58:54.166Z"
   },
   {
    "duration": 58,
    "start_time": "2021-12-14T10:58:55.174Z"
   },
   {
    "duration": 560,
    "start_time": "2021-12-14T10:58:56.478Z"
   },
   {
    "duration": 560,
    "start_time": "2021-12-14T10:58:57.041Z"
   },
   {
    "duration": 530,
    "start_time": "2021-12-14T10:58:57.604Z"
   },
   {
    "duration": 598,
    "start_time": "2021-12-14T10:58:58.138Z"
   },
   {
    "duration": 6,
    "start_time": "2021-12-14T10:58:58.740Z"
   },
   {
    "duration": 19,
    "start_time": "2021-12-14T10:58:59.449Z"
   },
   {
    "duration": 629,
    "start_time": "2021-12-14T10:59:00.619Z"
   },
   {
    "duration": 24,
    "start_time": "2021-12-14T10:59:03.479Z"
   },
   {
    "duration": 4,
    "start_time": "2021-12-14T11:06:08.559Z"
   },
   {
    "duration": 14,
    "start_time": "2021-12-14T11:06:12.905Z"
   },
   {
    "duration": 119,
    "start_time": "2021-12-14T11:15:42.039Z"
   },
   {
    "duration": 28,
    "start_time": "2021-12-14T11:16:30.874Z"
   },
   {
    "duration": 29,
    "start_time": "2021-12-14T11:16:35.306Z"
   },
   {
    "duration": 766,
    "start_time": "2021-12-14T11:17:07.414Z"
   },
   {
    "duration": 574,
    "start_time": "2021-12-14T11:17:08.183Z"
   },
   {
    "duration": 106,
    "start_time": "2021-12-14T11:17:08.760Z"
   },
   {
    "duration": 193,
    "start_time": "2021-12-14T11:17:08.868Z"
   },
   {
    "duration": 122,
    "start_time": "2021-12-14T11:17:09.064Z"
   },
   {
    "duration": 12,
    "start_time": "2021-12-14T11:17:09.189Z"
   },
   {
    "duration": 213,
    "start_time": "2021-12-14T11:17:09.247Z"
   },
   {
    "duration": 113,
    "start_time": "2021-12-14T11:17:11.141Z"
   },
   {
    "duration": 5,
    "start_time": "2021-12-14T11:17:11.700Z"
   },
   {
    "duration": 45,
    "start_time": "2021-12-14T11:17:12.269Z"
   },
   {
    "duration": 4,
    "start_time": "2021-12-14T11:17:12.568Z"
   },
   {
    "duration": 55,
    "start_time": "2021-12-14T11:17:13.238Z"
   },
   {
    "duration": 11,
    "start_time": "2021-12-14T11:17:13.561Z"
   },
   {
    "duration": 56,
    "start_time": "2021-12-14T11:17:14.243Z"
   },
   {
    "duration": 576,
    "start_time": "2021-12-14T11:17:15.596Z"
   },
   {
    "duration": 590,
    "start_time": "2021-12-14T11:17:16.766Z"
   },
   {
    "duration": 514,
    "start_time": "2021-12-14T11:17:17.697Z"
   },
   {
    "duration": 587,
    "start_time": "2021-12-14T11:17:18.538Z"
   },
   {
    "duration": 6,
    "start_time": "2021-12-14T11:17:19.460Z"
   },
   {
    "duration": 20,
    "start_time": "2021-12-14T11:17:20.332Z"
   },
   {
    "duration": 629,
    "start_time": "2021-12-14T11:17:22.033Z"
   },
   {
    "duration": 23,
    "start_time": "2021-12-14T11:17:24.976Z"
   },
   {
    "duration": 5,
    "start_time": "2021-12-14T11:17:28.256Z"
   },
   {
    "duration": 28,
    "start_time": "2021-12-14T11:17:30.267Z"
   },
   {
    "duration": 31,
    "start_time": "2021-12-14T11:17:31.727Z"
   },
   {
    "duration": 20,
    "start_time": "2021-12-14T11:18:03.965Z"
   },
   {
    "duration": 19,
    "start_time": "2021-12-14T11:19:03.152Z"
   },
   {
    "duration": 13,
    "start_time": "2021-12-14T11:19:34.802Z"
   },
   {
    "duration": 31,
    "start_time": "2021-12-14T11:19:48.274Z"
   },
   {
    "duration": 887,
    "start_time": "2021-12-14T11:20:33.645Z"
   },
   {
    "duration": 603,
    "start_time": "2021-12-14T11:20:34.536Z"
   },
   {
    "duration": 107,
    "start_time": "2021-12-14T11:20:35.143Z"
   },
   {
    "duration": 194,
    "start_time": "2021-12-14T11:20:35.253Z"
   },
   {
    "duration": 104,
    "start_time": "2021-12-14T11:20:36.039Z"
   },
   {
    "duration": 10,
    "start_time": "2021-12-14T11:20:36.560Z"
   },
   {
    "duration": 220,
    "start_time": "2021-12-14T11:20:36.841Z"
   },
   {
    "duration": 107,
    "start_time": "2021-12-14T11:20:37.686Z"
   },
   {
    "duration": 3,
    "start_time": "2021-12-14T11:20:38.044Z"
   },
   {
    "duration": 52,
    "start_time": "2021-12-14T11:20:38.795Z"
   },
   {
    "duration": 4,
    "start_time": "2021-12-14T11:20:39.136Z"
   },
   {
    "duration": 61,
    "start_time": "2021-12-14T11:20:39.791Z"
   },
   {
    "duration": 11,
    "start_time": "2021-12-14T11:20:40.160Z"
   },
   {
    "duration": 61,
    "start_time": "2021-12-14T11:20:40.897Z"
   },
   {
    "duration": 573,
    "start_time": "2021-12-14T11:20:42.703Z"
   },
   {
    "duration": 575,
    "start_time": "2021-12-14T11:20:43.279Z"
   },
   {
    "duration": 506,
    "start_time": "2021-12-14T11:20:44.194Z"
   },
   {
    "duration": 570,
    "start_time": "2021-12-14T11:20:44.714Z"
   },
   {
    "duration": 7,
    "start_time": "2021-12-14T11:20:45.287Z"
   },
   {
    "duration": 19,
    "start_time": "2021-12-14T11:20:45.853Z"
   },
   {
    "duration": 787,
    "start_time": "2021-12-14T11:20:46.402Z"
   },
   {
    "duration": 13,
    "start_time": "2021-12-14T11:20:51.675Z"
   },
   {
    "duration": 8,
    "start_time": "2021-12-14T11:20:54.920Z"
   },
   {
    "duration": 33,
    "start_time": "2021-12-14T11:20:55.812Z"
   },
   {
    "duration": 33,
    "start_time": "2021-12-14T11:20:59.417Z"
   },
   {
    "duration": 21,
    "start_time": "2021-12-14T11:21:00.503Z"
   },
   {
    "duration": 935,
    "start_time": "2021-12-14T11:47:43.946Z"
   },
   {
    "duration": 91,
    "start_time": "2021-12-14T11:55:44.517Z"
   },
   {
    "duration": 119,
    "start_time": "2021-12-14T11:55:50.283Z"
   },
   {
    "duration": 109,
    "start_time": "2021-12-14T11:56:21.536Z"
   },
   {
    "duration": 444,
    "start_time": "2021-12-14T11:56:43.940Z"
   },
   {
    "duration": 338,
    "start_time": "2021-12-14T11:58:33.645Z"
   },
   {
    "duration": 889,
    "start_time": "2021-12-14T11:58:40.538Z"
   },
   {
    "duration": 359,
    "start_time": "2021-12-14T11:58:46.541Z"
   },
   {
    "duration": 424,
    "start_time": "2021-12-14T11:58:52.038Z"
   },
   {
    "duration": 812,
    "start_time": "2021-12-14T11:59:35.245Z"
   },
   {
    "duration": 4,
    "start_time": "2021-12-14T11:59:46.609Z"
   },
   {
    "duration": 428,
    "start_time": "2021-12-14T11:59:51.395Z"
   },
   {
    "duration": 419,
    "start_time": "2021-12-14T12:00:20.542Z"
   },
   {
    "duration": 534,
    "start_time": "2021-12-14T12:00:52.789Z"
   },
   {
    "duration": 733,
    "start_time": "2021-12-14T12:01:26.850Z"
   },
   {
    "duration": 708,
    "start_time": "2021-12-14T12:01:40.876Z"
   },
   {
    "duration": 531,
    "start_time": "2021-12-14T12:01:51.615Z"
   },
   {
    "duration": 586,
    "start_time": "2021-12-14T12:02:02.279Z"
   },
   {
    "duration": 769,
    "start_time": "2021-12-14T12:02:13.069Z"
   },
   {
    "duration": 599,
    "start_time": "2021-12-14T12:02:32.738Z"
   },
   {
    "duration": 624,
    "start_time": "2021-12-14T12:03:54.135Z"
   },
   {
    "duration": 661,
    "start_time": "2021-12-14T12:04:02.803Z"
   },
   {
    "duration": 633,
    "start_time": "2021-12-14T12:04:15.554Z"
   },
   {
    "duration": 751,
    "start_time": "2021-12-14T12:04:52.524Z"
   },
   {
    "duration": 624,
    "start_time": "2021-12-14T12:05:05.773Z"
   },
   {
    "duration": 324,
    "start_time": "2021-12-14T12:15:41.729Z"
   },
   {
    "duration": 626,
    "start_time": "2021-12-14T12:16:00.889Z"
   },
   {
    "duration": 442,
    "start_time": "2021-12-14T18:07:41.582Z"
   },
   {
    "duration": 1496,
    "start_time": "2021-12-14T18:08:38.664Z"
   },
   {
    "duration": 474,
    "start_time": "2021-12-14T18:08:40.163Z"
   },
   {
    "duration": 83,
    "start_time": "2021-12-14T18:08:40.639Z"
   },
   {
    "duration": 127,
    "start_time": "2021-12-14T18:08:40.724Z"
   },
   {
    "duration": 87,
    "start_time": "2021-12-14T18:08:40.853Z"
   },
   {
    "duration": 7,
    "start_time": "2021-12-14T18:08:40.942Z"
   },
   {
    "duration": 160,
    "start_time": "2021-12-14T18:08:40.951Z"
   },
   {
    "duration": 75,
    "start_time": "2021-12-14T18:08:43.830Z"
   },
   {
    "duration": 3,
    "start_time": "2021-12-14T18:08:44.111Z"
   },
   {
    "duration": 32,
    "start_time": "2021-12-14T18:08:44.590Z"
   },
   {
    "duration": 3,
    "start_time": "2021-12-14T18:08:44.837Z"
   },
   {
    "duration": 38,
    "start_time": "2021-12-14T18:08:45.336Z"
   },
   {
    "duration": 8,
    "start_time": "2021-12-14T18:08:45.560Z"
   },
   {
    "duration": 39,
    "start_time": "2021-12-14T18:08:46.040Z"
   },
   {
    "duration": 275,
    "start_time": "2021-12-14T18:08:46.511Z"
   },
   {
    "duration": 287,
    "start_time": "2021-12-14T18:08:46.788Z"
   },
   {
    "duration": 261,
    "start_time": "2021-12-14T18:08:47.077Z"
   },
   {
    "duration": 287,
    "start_time": "2021-12-14T18:08:47.339Z"
   },
   {
    "duration": 4,
    "start_time": "2021-12-14T18:08:47.628Z"
   },
   {
    "duration": 12,
    "start_time": "2021-12-14T18:08:47.833Z"
   },
   {
    "duration": 317,
    "start_time": "2021-12-14T18:08:48.114Z"
   },
   {
    "duration": 8,
    "start_time": "2021-12-14T18:08:51.819Z"
   },
   {
    "duration": 4,
    "start_time": "2021-12-14T18:08:52.417Z"
   },
   {
    "duration": 17,
    "start_time": "2021-12-14T18:08:52.699Z"
   },
   {
    "duration": 18,
    "start_time": "2021-12-14T18:08:53.344Z"
   },
   {
    "duration": 13,
    "start_time": "2021-12-14T18:08:53.585Z"
   },
   {
    "duration": 413,
    "start_time": "2021-12-14T18:08:55.151Z"
   },
   {
    "duration": 407,
    "start_time": "2021-12-14T18:08:55.566Z"
   },
   {
    "duration": 420,
    "start_time": "2021-12-14T18:08:55.975Z"
   },
   {
    "duration": 23,
    "start_time": "2021-12-14T18:08:59.058Z"
   },
   {
    "duration": 114,
    "start_time": "2021-12-14T18:19:27.792Z"
   },
   {
    "duration": 4223,
    "start_time": "2021-12-14T18:20:12.562Z"
   },
   {
    "duration": 10,
    "start_time": "2021-12-14T18:21:11.893Z"
   },
   {
    "duration": 15,
    "start_time": "2021-12-14T18:26:56.199Z"
   },
   {
    "duration": 20,
    "start_time": "2021-12-14T18:27:25.519Z"
   },
   {
    "duration": 6,
    "start_time": "2021-12-14T18:32:17.191Z"
   },
   {
    "duration": 344,
    "start_time": "2021-12-14T18:32:20.293Z"
   },
   {
    "duration": 24,
    "start_time": "2021-12-14T18:32:27.311Z"
   },
   {
    "duration": 2,
    "start_time": "2021-12-14T18:32:40.281Z"
   },
   {
    "duration": 11,
    "start_time": "2021-12-14T18:32:49.078Z"
   },
   {
    "duration": 1119,
    "start_time": "2021-12-14T18:44:49.638Z"
   },
   {
    "duration": 488,
    "start_time": "2021-12-14T18:44:52.060Z"
   },
   {
    "duration": 58,
    "start_time": "2021-12-14T18:44:54.763Z"
   },
   {
    "duration": 97,
    "start_time": "2021-12-14T18:44:57.924Z"
   },
   {
    "duration": 72,
    "start_time": "2021-12-14T18:45:06.634Z"
   },
   {
    "duration": 9,
    "start_time": "2021-12-14T18:45:10.946Z"
   },
   {
    "duration": 162,
    "start_time": "2021-12-14T18:45:11.452Z"
   },
   {
    "duration": 78,
    "start_time": "2021-12-14T18:45:14.877Z"
   },
   {
    "duration": 3,
    "start_time": "2021-12-14T18:45:16.418Z"
   },
   {
    "duration": 44,
    "start_time": "2021-12-14T18:45:18.101Z"
   },
   {
    "duration": 3,
    "start_time": "2021-12-14T18:45:22.373Z"
   },
   {
    "duration": 40,
    "start_time": "2021-12-14T18:45:25.094Z"
   },
   {
    "duration": 8,
    "start_time": "2021-12-14T18:45:26.669Z"
   },
   {
    "duration": 40,
    "start_time": "2021-12-14T18:45:29.579Z"
   },
   {
    "duration": 306,
    "start_time": "2021-12-14T18:45:33.034Z"
   },
   {
    "duration": 298,
    "start_time": "2021-12-14T18:45:35.439Z"
   },
   {
    "duration": 299,
    "start_time": "2021-12-14T18:45:37.962Z"
   },
   {
    "duration": 288,
    "start_time": "2021-12-14T18:45:40.408Z"
   },
   {
    "duration": 5,
    "start_time": "2021-12-14T18:45:43.117Z"
   },
   {
    "duration": 18,
    "start_time": "2021-12-14T18:45:43.495Z"
   },
   {
    "duration": 330,
    "start_time": "2021-12-14T18:45:46.034Z"
   },
   {
    "duration": 13,
    "start_time": "2021-12-14T18:45:52.848Z"
   },
   {
    "duration": 6,
    "start_time": "2021-12-14T18:45:54.631Z"
   },
   {
    "duration": 17,
    "start_time": "2021-12-14T18:46:02.931Z"
   },
   {
    "duration": 23,
    "start_time": "2021-12-14T18:46:06.230Z"
   },
   {
    "duration": 14,
    "start_time": "2021-12-14T18:46:06.599Z"
   },
   {
    "duration": 693,
    "start_time": "2021-12-14T18:46:09.233Z"
   },
   {
    "duration": 461,
    "start_time": "2021-12-14T18:46:10.941Z"
   },
   {
    "duration": 422,
    "start_time": "2021-12-14T18:46:12.708Z"
   },
   {
    "duration": 12,
    "start_time": "2021-12-14T18:46:17.314Z"
   },
   {
    "duration": 7,
    "start_time": "2021-12-14T18:46:19.830Z"
   },
   {
    "duration": 12,
    "start_time": "2021-12-14T18:46:20.896Z"
   },
   {
    "duration": 1431,
    "start_time": "2021-12-15T08:13:40.178Z"
   },
   {
    "duration": 426,
    "start_time": "2021-12-15T08:13:41.611Z"
   },
   {
    "duration": 62,
    "start_time": "2021-12-15T08:13:42.039Z"
   },
   {
    "duration": 125,
    "start_time": "2021-12-15T08:13:42.104Z"
   },
   {
    "duration": 92,
    "start_time": "2021-12-15T08:13:42.231Z"
   },
   {
    "duration": 8,
    "start_time": "2021-12-15T08:13:42.325Z"
   },
   {
    "duration": 169,
    "start_time": "2021-12-15T08:13:42.335Z"
   },
   {
    "duration": 79,
    "start_time": "2021-12-15T08:13:42.506Z"
   },
   {
    "duration": 3,
    "start_time": "2021-12-15T08:13:42.587Z"
   },
   {
    "duration": 34,
    "start_time": "2021-12-15T08:13:42.593Z"
   },
   {
    "duration": 2,
    "start_time": "2021-12-15T08:13:42.629Z"
   },
   {
    "duration": 61,
    "start_time": "2021-12-15T08:13:42.633Z"
   },
   {
    "duration": 8,
    "start_time": "2021-12-15T08:13:42.695Z"
   },
   {
    "duration": 40,
    "start_time": "2021-12-15T08:13:42.705Z"
   },
   {
    "duration": 361,
    "start_time": "2021-12-15T08:13:42.763Z"
   },
   {
    "duration": 319,
    "start_time": "2021-12-15T08:13:43.126Z"
   },
   {
    "duration": 265,
    "start_time": "2021-12-15T08:13:43.446Z"
   },
   {
    "duration": 391,
    "start_time": "2021-12-15T08:13:43.713Z"
   },
   {
    "duration": 4,
    "start_time": "2021-12-15T08:13:44.106Z"
   },
   {
    "duration": 15,
    "start_time": "2021-12-15T08:13:44.111Z"
   },
   {
    "duration": 345,
    "start_time": "2021-12-15T08:13:44.128Z"
   },
   {
    "duration": 10,
    "start_time": "2021-12-15T08:13:44.476Z"
   },
   {
    "duration": 3,
    "start_time": "2021-12-15T08:13:44.488Z"
   },
   {
    "duration": 20,
    "start_time": "2021-12-15T08:13:44.493Z"
   },
   {
    "duration": 17,
    "start_time": "2021-12-15T08:13:44.514Z"
   },
   {
    "duration": 47,
    "start_time": "2021-12-15T08:13:44.533Z"
   },
   {
    "duration": 509,
    "start_time": "2021-12-15T08:13:44.583Z"
   },
   {
    "duration": 389,
    "start_time": "2021-12-15T08:13:45.094Z"
   },
   {
    "duration": 458,
    "start_time": "2021-12-15T08:13:45.485Z"
   },
   {
    "duration": 19,
    "start_time": "2021-12-15T08:13:45.945Z"
   },
   {
    "duration": 6,
    "start_time": "2021-12-15T08:13:45.966Z"
   },
   {
    "duration": 13,
    "start_time": "2021-12-15T08:13:45.974Z"
   },
   {
    "duration": 21,
    "start_time": "2021-12-15T08:15:09.626Z"
   },
   {
    "duration": 6,
    "start_time": "2021-12-15T08:15:19.341Z"
   },
   {
    "duration": 23,
    "start_time": "2021-12-15T08:17:10.620Z"
   },
   {
    "duration": 9,
    "start_time": "2021-12-15T08:17:26.484Z"
   },
   {
    "duration": 20,
    "start_time": "2021-12-15T08:18:56.700Z"
   },
   {
    "duration": 36,
    "start_time": "2021-12-15T08:19:08.160Z"
   },
   {
    "duration": 30,
    "start_time": "2021-12-15T08:19:12.620Z"
   },
   {
    "duration": 26,
    "start_time": "2021-12-15T08:19:17.624Z"
   },
   {
    "duration": 1397,
    "start_time": "2021-12-15T14:25:07.313Z"
   },
   {
    "duration": 519,
    "start_time": "2021-12-15T14:25:10.337Z"
   },
   {
    "duration": 104,
    "start_time": "2021-12-15T14:25:11.222Z"
   },
   {
    "duration": 150,
    "start_time": "2021-12-15T14:25:13.114Z"
   },
   {
    "duration": 98,
    "start_time": "2021-12-15T14:26:06.572Z"
   },
   {
    "duration": 10,
    "start_time": "2021-12-15T14:26:07.556Z"
   },
   {
    "duration": 204,
    "start_time": "2021-12-15T14:26:08.035Z"
   },
   {
    "duration": 136,
    "start_time": "2021-12-15T14:33:41.963Z"
   },
   {
    "duration": 4,
    "start_time": "2021-12-15T14:33:43.184Z"
   },
   {
    "duration": 46,
    "start_time": "2021-12-15T14:33:51.157Z"
   },
   {
    "duration": 4,
    "start_time": "2021-12-15T14:33:51.529Z"
   },
   {
    "duration": 54,
    "start_time": "2021-12-15T14:33:52.305Z"
   },
   {
    "duration": 11,
    "start_time": "2021-12-15T14:33:53.826Z"
   },
   {
    "duration": 53,
    "start_time": "2021-12-15T14:33:55.232Z"
   },
   {
    "duration": 8,
    "start_time": "2021-12-15T14:36:49.870Z"
   },
   {
    "duration": 529,
    "start_time": "2021-12-15T14:37:55.607Z"
   },
   {
    "duration": 543,
    "start_time": "2021-12-15T14:37:56.138Z"
   },
   {
    "duration": 467,
    "start_time": "2021-12-15T14:37:57.390Z"
   },
   {
    "duration": 485,
    "start_time": "2021-12-15T14:40:19.697Z"
   },
   {
    "duration": 536,
    "start_time": "2021-12-15T14:40:27.232Z"
   },
   {
    "duration": 7,
    "start_time": "2021-12-15T14:40:31.116Z"
   },
   {
    "duration": 20,
    "start_time": "2021-12-15T14:40:32.584Z"
   },
   {
    "duration": 568,
    "start_time": "2021-12-15T14:40:38.246Z"
   },
   {
    "duration": 13,
    "start_time": "2021-12-15T14:40:46.191Z"
   },
   {
    "duration": 14,
    "start_time": "2021-12-15T14:40:57.954Z"
   },
   {
    "duration": 6,
    "start_time": "2021-12-15T14:40:58.741Z"
   },
   {
    "duration": 27,
    "start_time": "2021-12-15T14:40:59.406Z"
   },
   {
    "duration": 27,
    "start_time": "2021-12-15T14:41:03.117Z"
   },
   {
    "duration": 21,
    "start_time": "2021-12-15T14:41:03.512Z"
   },
   {
    "duration": 43,
    "start_time": "2021-12-15T14:41:26.763Z"
   },
   {
    "duration": 643,
    "start_time": "2021-12-15T14:42:36.796Z"
   },
   {
    "duration": 630,
    "start_time": "2021-12-15T14:43:03.120Z"
   },
   {
    "duration": 616,
    "start_time": "2021-12-15T14:43:40.840Z"
   },
   {
    "duration": 611,
    "start_time": "2021-12-15T14:43:47.134Z"
   },
   {
    "duration": 623,
    "start_time": "2021-12-15T14:44:32.436Z"
   },
   {
    "duration": 13,
    "start_time": "2021-12-15T14:44:55.430Z"
   },
   {
    "duration": 9,
    "start_time": "2021-12-15T14:44:57.957Z"
   },
   {
    "duration": 15,
    "start_time": "2021-12-15T14:44:58.287Z"
   },
   {
    "duration": 99,
    "start_time": "2021-12-15T15:23:22.494Z"
   },
   {
    "duration": 488,
    "start_time": "2021-12-15T15:24:55.508Z"
   },
   {
    "duration": 11,
    "start_time": "2021-12-15T15:25:49.684Z"
   },
   {
    "duration": 21,
    "start_time": "2021-12-15T15:25:54.844Z"
   },
   {
    "duration": 1457,
    "start_time": "2021-12-15T15:26:37.836Z"
   },
   {
    "duration": 546,
    "start_time": "2021-12-15T15:26:39.296Z"
   },
   {
    "duration": 85,
    "start_time": "2021-12-15T15:26:40.084Z"
   },
   {
    "duration": 145,
    "start_time": "2021-12-15T15:26:41.501Z"
   },
   {
    "duration": 93,
    "start_time": "2021-12-15T15:26:45.421Z"
   },
   {
    "duration": 10,
    "start_time": "2021-12-15T15:26:46.396Z"
   },
   {
    "duration": 191,
    "start_time": "2021-12-15T15:26:47.337Z"
   },
   {
    "duration": 99,
    "start_time": "2021-12-15T15:26:49.316Z"
   },
   {
    "duration": 4,
    "start_time": "2021-12-15T15:26:49.530Z"
   },
   {
    "duration": 44,
    "start_time": "2021-12-15T15:26:54.147Z"
   },
   {
    "duration": 4,
    "start_time": "2021-12-15T15:26:54.616Z"
   },
   {
    "duration": 55,
    "start_time": "2021-12-15T15:26:55.364Z"
   },
   {
    "duration": 11,
    "start_time": "2021-12-15T15:26:56.609Z"
   },
   {
    "duration": 501,
    "start_time": "2021-12-15T15:26:58.306Z"
   },
   {
    "duration": 299,
    "start_time": "2021-12-15T15:26:58.979Z"
   },
   {
    "duration": 329,
    "start_time": "2021-12-15T15:27:06.431Z"
   },
   {
    "duration": 60,
    "start_time": "2021-12-15T15:27:41.429Z"
   },
   {
    "duration": 1911,
    "start_time": "2021-12-15T15:28:15.607Z"
   },
   {
    "duration": 282,
    "start_time": "2021-12-15T15:29:13.756Z"
   },
   {
    "duration": 340,
    "start_time": "2021-12-15T15:30:04.992Z"
   },
   {
    "duration": 1395,
    "start_time": "2021-12-15T15:30:38.973Z"
   },
   {
    "duration": 539,
    "start_time": "2021-12-15T15:30:40.371Z"
   },
   {
    "duration": 111,
    "start_time": "2021-12-15T15:30:40.914Z"
   },
   {
    "duration": 164,
    "start_time": "2021-12-15T15:30:41.028Z"
   },
   {
    "duration": 115,
    "start_time": "2021-12-15T15:30:41.194Z"
   },
   {
    "duration": 20,
    "start_time": "2021-12-15T15:30:41.311Z"
   },
   {
    "duration": 232,
    "start_time": "2021-12-15T15:30:41.334Z"
   },
   {
    "duration": 98,
    "start_time": "2021-12-15T15:30:50.634Z"
   },
   {
    "duration": 5,
    "start_time": "2021-12-15T15:30:57.073Z"
   },
   {
    "duration": 49,
    "start_time": "2021-12-15T15:31:03.866Z"
   },
   {
    "duration": 4,
    "start_time": "2021-12-15T15:31:16.789Z"
   },
   {
    "duration": 53,
    "start_time": "2021-12-15T15:31:18.052Z"
   },
   {
    "duration": 11,
    "start_time": "2021-12-15T15:31:21.536Z"
   },
   {
    "duration": 408,
    "start_time": "2021-12-15T15:31:40.724Z"
   },
   {
    "duration": 55,
    "start_time": "2021-12-15T15:36:39.923Z"
   },
   {
    "duration": 1391,
    "start_time": "2021-12-15T15:37:27.890Z"
   },
   {
    "duration": 635,
    "start_time": "2021-12-15T15:37:31.447Z"
   },
   {
    "duration": 74,
    "start_time": "2021-12-15T15:37:34.382Z"
   },
   {
    "duration": 139,
    "start_time": "2021-12-15T15:37:36.762Z"
   },
   {
    "duration": 96,
    "start_time": "2021-12-15T15:37:41.015Z"
   },
   {
    "duration": 10,
    "start_time": "2021-12-15T15:37:42.795Z"
   },
   {
    "duration": 193,
    "start_time": "2021-12-15T15:37:44.360Z"
   },
   {
    "duration": 99,
    "start_time": "2021-12-15T15:37:47.131Z"
   },
   {
    "duration": 5,
    "start_time": "2021-12-15T15:37:48.978Z"
   },
   {
    "duration": 45,
    "start_time": "2021-12-15T15:37:55.019Z"
   },
   {
    "duration": 4,
    "start_time": "2021-12-15T15:37:56.775Z"
   },
   {
    "duration": 55,
    "start_time": "2021-12-15T15:37:57.657Z"
   },
   {
    "duration": 17,
    "start_time": "2021-12-15T15:37:59.163Z"
   },
   {
    "duration": 75,
    "start_time": "2021-12-15T15:38:01.710Z"
   },
   {
    "duration": 9,
    "start_time": "2021-12-15T15:38:05.422Z"
   },
   {
    "duration": 508,
    "start_time": "2021-12-15T15:38:33.996Z"
   },
   {
    "duration": 536,
    "start_time": "2021-12-15T15:38:38.787Z"
   },
   {
    "duration": 436,
    "start_time": "2021-12-15T15:38:40.590Z"
   },
   {
    "duration": 12,
    "start_time": "2021-12-15T15:38:43.195Z"
   },
   {
    "duration": 5,
    "start_time": "2021-12-15T15:39:00.394Z"
   },
   {
    "duration": 19,
    "start_time": "2021-12-15T15:39:01.063Z"
   },
   {
    "duration": 19,
    "start_time": "2021-12-15T15:39:20.644Z"
   },
   {
    "duration": 475,
    "start_time": "2021-12-15T15:39:32.390Z"
   },
   {
    "duration": 571,
    "start_time": "2021-12-15T15:40:05.606Z"
   },
   {
    "duration": 467,
    "start_time": "2021-12-15T15:40:18.763Z"
   },
   {
    "duration": 1470,
    "start_time": "2021-12-15T15:40:38.726Z"
   },
   {
    "duration": 527,
    "start_time": "2021-12-15T15:40:40.199Z"
   },
   {
    "duration": 105,
    "start_time": "2021-12-15T15:40:40.729Z"
   },
   {
    "duration": 152,
    "start_time": "2021-12-15T15:40:42.012Z"
   },
   {
    "duration": 92,
    "start_time": "2021-12-15T15:40:44.345Z"
   },
   {
    "duration": 12,
    "start_time": "2021-12-15T15:40:45.020Z"
   },
   {
    "duration": 196,
    "start_time": "2021-12-15T15:40:45.509Z"
   },
   {
    "duration": 97,
    "start_time": "2021-12-15T15:42:32.441Z"
   },
   {
    "duration": 4,
    "start_time": "2021-12-15T15:42:34.398Z"
   },
   {
    "duration": 45,
    "start_time": "2021-12-15T15:42:37.793Z"
   },
   {
    "duration": 4,
    "start_time": "2021-12-15T15:42:39.034Z"
   },
   {
    "duration": 56,
    "start_time": "2021-12-15T15:42:39.535Z"
   },
   {
    "duration": 11,
    "start_time": "2021-12-15T15:42:40.641Z"
   },
   {
    "duration": 57,
    "start_time": "2021-12-15T15:42:42.315Z"
   },
   {
    "duration": 9,
    "start_time": "2021-12-15T15:42:44.155Z"
   },
   {
    "duration": 532,
    "start_time": "2021-12-15T15:42:46.195Z"
   },
   {
    "duration": 517,
    "start_time": "2021-12-15T15:42:48.261Z"
   },
   {
    "duration": 449,
    "start_time": "2021-12-15T15:42:52.896Z"
   },
   {
    "duration": 5,
    "start_time": "2021-12-15T15:42:55.776Z"
   },
   {
    "duration": 18,
    "start_time": "2021-12-15T15:42:57.104Z"
   },
   {
    "duration": 535,
    "start_time": "2021-12-15T15:44:39.006Z"
   },
   {
    "duration": 18,
    "start_time": "2021-12-15T15:44:53.453Z"
   },
   {
    "duration": 542,
    "start_time": "2021-12-15T15:45:03.554Z"
   },
   {
    "duration": 7,
    "start_time": "2021-12-15T15:45:06.542Z"
   },
   {
    "duration": 18,
    "start_time": "2021-12-15T15:45:07.080Z"
   },
   {
    "duration": 24,
    "start_time": "2021-12-15T15:45:18.808Z"
   },
   {
    "duration": 26,
    "start_time": "2021-12-15T15:45:28.196Z"
   },
   {
    "duration": 610,
    "start_time": "2021-12-15T15:45:30.881Z"
   },
   {
    "duration": 11,
    "start_time": "2021-12-15T15:45:35.073Z"
   },
   {
    "duration": 13,
    "start_time": "2021-12-15T15:45:43.385Z"
   },
   {
    "duration": 5,
    "start_time": "2021-12-15T15:45:44.539Z"
   },
   {
    "duration": 29,
    "start_time": "2021-12-15T15:45:45.037Z"
   },
   {
    "duration": 29,
    "start_time": "2021-12-15T15:45:47.964Z"
   },
   {
    "duration": 23,
    "start_time": "2021-12-15T15:45:49.722Z"
   },
   {
    "duration": 41,
    "start_time": "2021-12-15T15:45:52.193Z"
   },
   {
    "duration": 639,
    "start_time": "2021-12-15T15:45:57.175Z"
   },
   {
    "duration": 655,
    "start_time": "2021-12-15T15:46:08.375Z"
   },
   {
    "duration": 695,
    "start_time": "2021-12-15T15:46:17.765Z"
   },
   {
    "duration": 15,
    "start_time": "2021-12-15T15:46:27.660Z"
   },
   {
    "duration": 10,
    "start_time": "2021-12-15T15:46:31.262Z"
   },
   {
    "duration": 16,
    "start_time": "2021-12-15T15:46:32.737Z"
   },
   {
    "duration": 1068,
    "start_time": "2021-12-16T10:09:38.380Z"
   },
   {
    "duration": 440,
    "start_time": "2021-12-16T10:09:39.449Z"
   },
   {
    "duration": 57,
    "start_time": "2021-12-16T10:09:39.941Z"
   },
   {
    "duration": 112,
    "start_time": "2021-12-16T10:09:40.894Z"
   },
   {
    "duration": 69,
    "start_time": "2021-12-16T10:09:42.350Z"
   },
   {
    "duration": 10,
    "start_time": "2021-12-16T10:09:43.542Z"
   },
   {
    "duration": 150,
    "start_time": "2021-12-16T10:09:43.664Z"
   },
   {
    "duration": 26,
    "start_time": "2021-12-16T10:09:52.941Z"
   }
  ],
  "kernelspec": {
   "display_name": "Python 3 (ipykernel)",
   "language": "python",
   "name": "python3"
  },
  "language_info": {
   "codemirror_mode": {
    "name": "ipython",
    "version": 3
   },
   "file_extension": ".py",
   "mimetype": "text/x-python",
   "name": "python",
   "nbconvert_exporter": "python",
   "pygments_lexer": "ipython3",
   "version": "3.9.5"
  },
  "toc": {
   "base_numbering": 1,
   "nav_menu": {},
   "number_sections": true,
   "sideBar": true,
   "skip_h1_title": true,
   "title_cell": "Table of Contents",
   "title_sidebar": "Contents",
   "toc_cell": false,
   "toc_position": {},
   "toc_section_display": true,
   "toc_window_display": false
  }
 },
 "nbformat": 4,
 "nbformat_minor": 2
}
