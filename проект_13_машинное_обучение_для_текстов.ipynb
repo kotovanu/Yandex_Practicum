{
 "cells": [
  {
   "cell_type": "markdown",
   "metadata": {},
   "source": [
    "Привет, меня зовут Артем Хуршудов. Сегодня я проверю твой проект.\n",
    "<br> Дальнейшее общение будет происходить на \"ты\" если это не вызывает никаких проблем.\n",
    "<br> Желательно реагировать на каждый мой комментарий ('исправил', 'не понятно как исправить ошибку', ...)\n",
    "<br> Пожалуйста, не удаляй комментарии ревьюера, так как они повышают качество повторного ревью.\n",
    "\n",
    "Комментарии будут в <font color='green'>зеленой</font>, <font color='blue'>синей</font> или <font color='red'>красной</font> рамках:\n",
    "\n",
    "<div class=\"alert alert-block alert-success\">\n",
    "<b>Успех:</b> Если все сделано отлично\n",
    "</div>\n",
    "\n",
    "<div class=\"alert alert-block alert-info\">\n",
    "<b>Совет: </b> Если можно немного улучшить\n",
    "</div>\n",
    "\n",
    "<div class=\"alert alert-block alert-danger\">\n",
    "<b>Ошибка:</b> Если требуются исправления. Работа не может быть принята с красными комментариями.\n",
    "</div>\n",
    "\n",
    "-------------------\n",
    "\n",
    "Будет очень хорошо, если ты будешь помечать свои действия следующим образом:\n",
    "<div class=\"alert alert-block alert-warning\">\n",
    "<b>Комментарий студента:</b> ...\n",
    "</div>\n",
    "\n",
    "<div class=\"alert alert-block alert-warning\">\n",
    "<b>Изменения:</b> Были внесены следующие изменения ...\n",
    "</div>\n",
    "\n",
    "<font color='green'><b>Полезные (и просто интересные) материалы:</b></font> \\\n",
    "Для работы с текстами используют и другие подходы. Например, сейчас активно используются RNN (LSTM) и трансформеры (BERT и другие с улицы Сезам, например, ELMO). НО! Они не являются панацеей, не всегда они нужны, так как и TF-IDF или Word2Vec + модели из классического ML тоже могут справляться. \\\n",
    "BERT тяжелый, существует много его вариаций для разных задач, есть готовые модели, есть надстройки над библиотекой transformers. Если, обучать BERT на GPU (можно в Google Colab или Kaggle), то должно быть побыстрее.\\\n",
    "https://huggingface.co/transformers/model_doc/bert.html \\\n",
    "https://t.me/renat_alimbekov \\\n",
    "https://colah.github.io/posts/2015-08-Understanding-LSTMs/ - Про LSTM \\\n",
    "https://web.stanford.edu/~jurafsky/slp3/10.pdf - про энкодер-декодер модели, этеншены\\\n",
    "https://pytorch.org/tutorials/beginner/transformer_tutorial.html - официальный гайд\n",
    "по трансформеру от создателей pytorch\\\n",
    "https://transformer.huggingface.co/ - поболтать с трансформером \\\n",
    "Библиотеки: allennlp, fairseq, transformers, tensorflow-text — множествореализованных\n",
    "методов для трансформеров методов NLP \\\n",
    "Word2Vec https://radimrehurek.com/gensim/models/word2vec.html \n",
    "\n",
    "<font color='green'>Пример BERT с GPU:\n",
    "```python\n",
    "%%time\n",
    "from tqdm import notebook\n",
    "batch_size = 2 # для примера возьмем такой батч, где будет всего две строки датасета\n",
    "embeddings = [] \n",
    "for i in notebook.tqdm(range(input_ids.shape[0] // batch_size)):\n",
    "        batch = torch.LongTensor(input_ids[batch_size*i:batch_size*(i+1)]).cuda() # закидываем тензор на GPU\n",
    "        attention_mask_batch = torch.LongTensor(attention_mask[batch_size*i:batch_size*(i+1)]).cuda()\n",
    "        \n",
    "        with torch.no_grad():\n",
    "            model.cuda()\n",
    "            batch_embeddings = model(batch, attention_mask=attention_mask_batch)\n",
    "        \n",
    "        embeddings.append(batch_embeddings[0][:,0,:].cpu().numpy()) # перевод обратно на проц, чтобы в нумпай кинуть\n",
    "        del batch\n",
    "        del attention_mask_batch\n",
    "        del batch_embeddings\n",
    "        \n",
    "features = np.concatenate(embeddings) \n",
    "```\n",
    "Можно сделать предварительную проверку на наличие GPU.\\\n",
    "Например, так: ```device = torch.device(\"cuda:0\") if torch.cuda.is_available() else torch.device(\"cpu\")```\\\n",
    "Тогда вместо .cuda() нужно писать .to(device)\n",
    "\n",
    "Если понравилась работа с текстами, то можешь посмотреть очень интересный (но очень-очень сложный) курс лекций: https://github.com/yandexdataschool/nlp_course .\n",
    "</font>\n",
    "\n",
    "### <font color='orange'>Общее впечатление</font>\n",
    "* Большое спасибо за проделанную работу. Видно, что приложено много усилий.\n",
    "* Радует, что ноутбук хорошо структурирован. Приятно проверять такие работы.\n",
    "* Отлично, что стоп-слова были исключены при векторизации!\n",
    "* Работа получилась отличной, тебе удалось добиться достаточно хорошего качества. Поздравляю!\n",
    "* Проект может быть зачтен, но я его отправлю назад, чтобы у тебя была возможность задать вопросы и внести правки, при желании. Однако, ты можешь просто вернуть проект в таком же виде и я его зачту."
   ]
  },
  {
   "cell_type": "markdown",
   "metadata": {},
   "source": [
    "<div class=\"alert alert-block alert-warning\">\n",
    "<b>Комментарий студента:</b> Привет. Спасибо за полезный пример и ссылки! \n",
    "</div>"
   ]
  },
  {
   "cell_type": "markdown",
   "metadata": {},
   "source": [
    "### <font color='orange'>Общее впечатление (ревью 2)</font>\n",
    "* Проект зачтен!\n",
    "* Удачи в дальнейшем обучении и следующих работах!"
   ]
  },
  {
   "cell_type": "markdown",
   "metadata": {
    "toc": true
   },
   "source": [
    "<h1>Содержание<span class=\"tocSkip\"></span></h1>\n",
    "<div class=\"toc\"><ul class=\"toc-item\"><li><ul class=\"toc-item\"><li><span><a href=\"#Общее-впечатление\" data-toc-modified-id=\"Общее-впечатление-0.1\"><span class=\"toc-item-num\">0.1&nbsp;&nbsp;</span><font color=\"orange\">Общее впечатление</font></a></span></li><li><span><a href=\"#Общее-впечатление-(ревью-2)\" data-toc-modified-id=\"Общее-впечатление-(ревью-2)-0.2\"><span class=\"toc-item-num\">0.2&nbsp;&nbsp;</span><font color=\"orange\">Общее впечатление (ревью 2)</font></a></span></li></ul></li><li><span><a href=\"#Подготовка\" data-toc-modified-id=\"Подготовка-1\"><span class=\"toc-item-num\">1&nbsp;&nbsp;</span>Подготовка</a></span></li><li><span><a href=\"#Обучение\" data-toc-modified-id=\"Обучение-2\"><span class=\"toc-item-num\">2&nbsp;&nbsp;</span>Обучение</a></span></li><li><span><a href=\"#Выводы\" data-toc-modified-id=\"Выводы-3\"><span class=\"toc-item-num\">3&nbsp;&nbsp;</span>Выводы</a></span></li><li><span><a href=\"#Чек-лист-проверки\" data-toc-modified-id=\"Чек-лист-проверки-4\"><span class=\"toc-item-num\">4&nbsp;&nbsp;</span>Чек-лист проверки</a></span></li></ul></div>"
   ]
  },
  {
   "cell_type": "markdown",
   "metadata": {},
   "source": [
    "# Проект для «Викишоп»"
   ]
  },
  {
   "cell_type": "markdown",
   "metadata": {},
   "source": [
    "Интернет-магазин «Викишоп» запускает новый сервис. Теперь пользователи могут редактировать и дополнять описания товаров, как в вики-сообществах. То есть клиенты предлагают свои правки и комментируют изменения других. Магазину нужен инструмент, который будет искать токсичные комментарии и отправлять их на модерацию. \n",
    "\n",
    "Обучите модель классифицировать комментарии на позитивные и негативные. В вашем распоряжении набор данных с разметкой о токсичности правок.\n",
    "\n",
    "Постройте модель со значением метрики качества *F1* не меньше 0.75. \n",
    "\n",
    "**Инструкция по выполнению проекта**\n",
    "\n",
    "1. Загрузите и подготовьте данные.\n",
    "2. Обучите разные модели. \n",
    "3. Сделайте выводы.\n",
    "\n",
    "Для выполнения проекта применять *BERT* необязательно, но вы можете попробовать.\n",
    "\n",
    "**Описание данных**\n",
    "\n",
    "Данные находятся в файле `toxic_comments.csv`. Столбец *text* в нём содержит текст комментария, а *toxic* — целевой признак."
   ]
  },
  {
   "cell_type": "markdown",
   "metadata": {},
   "source": [
    "## Подготовка"
   ]
  },
  {
   "cell_type": "code",
   "execution_count": 1,
   "metadata": {},
   "outputs": [],
   "source": [
    "import pandas as pd\n",
    "import re\n",
    "import matplotlib.pyplot as plt\n",
    "from pymystem3 import Mystem\n",
    "import nltk\n",
    "from nltk.corpus import stopwords as nltk_stopwords\n",
    "from sklearn.feature_extraction.text import TfidfVectorizer\n",
    "from sklearn.model_selection import train_test_split, cross_val_score, GridSearchCV\n",
    "from sklearn.linear_model import LogisticRegression, SGDClassifier\n",
    "from sklearn.metrics import f1_score, precision_score, recall_score, accuracy_score, roc_auc_score, roc_curve\n",
    "from sklearn.utils import shuffle\n",
    "import warnings\n",
    "warnings.filterwarnings('ignore')"
   ]
  },
  {
   "cell_type": "markdown",
   "metadata": {},
   "source": [
    "<div class=\"alert alert-block alert-success\">\n",
    "<b>Успех:</b> Отлично, что все импорты собраны в первой ячейке ноутбука! Если у того, кто будет запускать твой ноутбук будут отсутствовать некоторые библиотеки, то он это увидит сразу, а не в процессе!\n",
    "</div>"
   ]
  },
  {
   "cell_type": "code",
   "execution_count": 2,
   "metadata": {},
   "outputs": [
    {
     "data": {
      "text/html": [
       "<div>\n",
       "<style scoped>\n",
       "    .dataframe tbody tr th:only-of-type {\n",
       "        vertical-align: middle;\n",
       "    }\n",
       "\n",
       "    .dataframe tbody tr th {\n",
       "        vertical-align: top;\n",
       "    }\n",
       "\n",
       "    .dataframe thead th {\n",
       "        text-align: right;\n",
       "    }\n",
       "</style>\n",
       "<table border=\"1\" class=\"dataframe\">\n",
       "  <thead>\n",
       "    <tr style=\"text-align: right;\">\n",
       "      <th></th>\n",
       "      <th>text</th>\n",
       "      <th>toxic</th>\n",
       "    </tr>\n",
       "  </thead>\n",
       "  <tbody>\n",
       "    <tr>\n",
       "      <th>0</th>\n",
       "      <td>Explanation\\nWhy the edits made under my usern...</td>\n",
       "      <td>0</td>\n",
       "    </tr>\n",
       "    <tr>\n",
       "      <th>1</th>\n",
       "      <td>D'aww! He matches this background colour I'm s...</td>\n",
       "      <td>0</td>\n",
       "    </tr>\n",
       "    <tr>\n",
       "      <th>2</th>\n",
       "      <td>Hey man, I'm really not trying to edit war. It...</td>\n",
       "      <td>0</td>\n",
       "    </tr>\n",
       "    <tr>\n",
       "      <th>3</th>\n",
       "      <td>\"\\nMore\\nI can't make any real suggestions on ...</td>\n",
       "      <td>0</td>\n",
       "    </tr>\n",
       "    <tr>\n",
       "      <th>4</th>\n",
       "      <td>You, sir, are my hero. Any chance you remember...</td>\n",
       "      <td>0</td>\n",
       "    </tr>\n",
       "  </tbody>\n",
       "</table>\n",
       "</div>"
      ],
      "text/plain": [
       "                                                text  toxic\n",
       "0  Explanation\\nWhy the edits made under my usern...      0\n",
       "1  D'aww! He matches this background colour I'm s...      0\n",
       "2  Hey man, I'm really not trying to edit war. It...      0\n",
       "3  \"\\nMore\\nI can't make any real suggestions on ...      0\n",
       "4  You, sir, are my hero. Any chance you remember...      0"
      ]
     },
     "execution_count": 2,
     "metadata": {},
     "output_type": "execute_result"
    }
   ],
   "source": [
    "df = pd.read_csv('/datasets/toxic_comments.csv')\n",
    "df.head()"
   ]
  },
  {
   "cell_type": "markdown",
   "metadata": {},
   "source": [
    "<div class=\"alert alert-block alert-success\">\n",
    "<b>Успех:</b> Данные загружены корректно.\n",
    "</div>"
   ]
  },
  {
   "cell_type": "code",
   "execution_count": 3,
   "metadata": {},
   "outputs": [],
   "source": [
    "m = Mystem()\n",
    "\n",
    "def lemmatize_text(text):\n",
    "    text = text.lower()\n",
    "    lemm_text = \"\".join(m.lemmatize(text))\n",
    "    cleared_text = re.sub(r'[^a-zA-Z]', ' ', lemm_text) \n",
    "    return \" \".join(cleared_text.split())\n",
    "\n",
    "df['lemm_text'] = df['text'].apply(lemmatize_text)\n",
    "\n",
    "df = df.drop(['text'], axis=1)"
   ]
  },
  {
   "cell_type": "markdown",
   "metadata": {},
   "source": [
    "<div class=\"alert alert-block alert-success\">\n",
    "<b>Успех:</b> Очистка была сделана верно.\n",
    "</div>"
   ]
  },
  {
   "cell_type": "markdown",
   "metadata": {},
   "source": [
    "<div class=\"alert alert-block alert-info\">\n",
    "<b>Совет: </b> Этот лемматизатор работает только с русским языком, так что его нет смысла применять.\n",
    "</div>"
   ]
  },
  {
   "cell_type": "code",
   "execution_count": 4,
   "metadata": {},
   "outputs": [],
   "source": [
    "target = df['toxic']\n",
    "features = df.drop(['toxic'], axis=1)\n",
    "\n",
    "features_train, features_valid, target_train, target_valid = train_test_split(features, \n",
    "                                                                              target, \n",
    "                                                                              test_size=0.4, \n",
    "                                                                              random_state=12345)\n",
    "features_valid, features_test, target_valid, target_test = train_test_split(features_valid, \n",
    "                                                                            target_valid, \n",
    "                                                                            test_size=0.5,\n",
    "                                                                            random_state=12345)"
   ]
  },
  {
   "cell_type": "code",
   "execution_count": 5,
   "metadata": {},
   "outputs": [
    {
     "name": "stderr",
     "output_type": "stream",
     "text": [
      "[nltk_data] Downloading package stopwords to /home/jovyan/nltk_data...\n",
      "[nltk_data]   Package stopwords is already up-to-date!\n"
     ]
    },
    {
     "name": "stdout",
     "output_type": "stream",
     "text": [
      "(95742, 126482)\n",
      "(31914, 126482)\n",
      "(31915, 126482)\n"
     ]
    }
   ],
   "source": [
    "nltk.download('stopwords')\n",
    "stopwords = set(nltk_stopwords.words('english'))\n",
    "\n",
    "count_tf_idf = TfidfVectorizer(stop_words=stopwords)\n",
    "\n",
    "features_train = count_tf_idf.fit_transform(features_train['lemm_text'].values.astype('U'))\n",
    "features_valid = count_tf_idf.transform(features_valid['lemm_text'].values.astype('U'))\n",
    "features_test = count_tf_idf.transform(features_test['lemm_text'].values.astype('U'))\n",
    "print(features_train.shape)\n",
    "print(features_valid.shape)\n",
    "print(features_test.shape)"
   ]
  },
  {
   "cell_type": "markdown",
   "metadata": {},
   "source": [
    "<div class=\"alert alert-block alert-success\">\n",
    "<b>Успех:</b> Разбиение было сделано верно. Отлично, что векторизатор был обучен только на тренировочной части данных!\n",
    "</div>"
   ]
  },
  {
   "cell_type": "code",
   "execution_count": 6,
   "metadata": {},
   "outputs": [
    {
     "name": "stdout",
     "output_type": "stream",
     "text": [
      "F1 =  0.6732751694870752\n"
     ]
    }
   ],
   "source": [
    "classificator = LogisticRegression()\n",
    "train_f1 = cross_val_score(classificator, \n",
    "                      features_train, \n",
    "                      target_train, \n",
    "                      cv=3, \n",
    "                      scoring='f1').mean()\n",
    "print('F1 = ', train_f1)"
   ]
  },
  {
   "cell_type": "markdown",
   "metadata": {},
   "source": [
    "<div class=\"alert alert-block alert-info\">\n",
    "<b>Совет: </b> Напомню, что внутри кросс-валидации происходит разбиение выборки на треин и валидацию. Однако, в таком случае векторизатор обучен на всей выборке, а это не совсем корректно. Для избежания такого эффекта можно использовать <a href=\"https://scikit-learn.org/stable/modules/generated/sklearn.pipeline.Pipeline.html\">пайплайн</a>. <a href=\"https://medium.com/analytics-vidhya/ml-pipelines-using-scikit-learn-and-gridsearchcv-fe605a7f9e05\">Тут</a> есть пример.\n",
    "</div>"
   ]
  },
  {
   "cell_type": "markdown",
   "metadata": {},
   "source": [
    "## Обучение"
   ]
  },
  {
   "cell_type": "markdown",
   "metadata": {},
   "source": [
    "LogisticRegression"
   ]
  },
  {
   "cell_type": "code",
   "execution_count": 7,
   "metadata": {},
   "outputs": [
    {
     "name": "stdout",
     "output_type": "stream",
     "text": [
      "{'C': 10, 'solver': 'lbfgs'}\n",
      "0.361807 for {'C': 0.1, 'solver': 'newton-cg'}\n",
      "0.361807 for {'C': 0.1, 'solver': 'lbfgs'}\n",
      "0.362219 for {'C': 0.1, 'solver': 'liblinear'}\n",
      "0.673275 for {'C': 1, 'solver': 'newton-cg'}\n",
      "0.673275 for {'C': 1, 'solver': 'lbfgs'}\n",
      "0.673540 for {'C': 1, 'solver': 'liblinear'}\n",
      "0.754533 for {'C': 10, 'solver': 'newton-cg'}\n",
      "0.754673 for {'C': 10, 'solver': 'lbfgs'}\n",
      "0.754399 for {'C': 10, 'solver': 'liblinear'}\n",
      "\n"
     ]
    }
   ],
   "source": [
    "model = LogisticRegression()\n",
    "hyperparams = [{'solver':['newton-cg', 'lbfgs', 'liblinear'],\n",
    "                'C':[0.1, 1, 10]}]\n",
    "\n",
    "\n",
    "clf = GridSearchCV(model, hyperparams, scoring='f1',cv=3)\n",
    "clf.fit(features_train, target_train)\n",
    "\n",
    "LR_params = clf.best_params_\n",
    "print(LR_params)\n",
    "\n",
    "means = clf.cv_results_['mean_test_score']\n",
    "stds = clf.cv_results_['std_test_score']\n",
    "for mean, std, params in zip(means, stds, clf.cv_results_['params']):\n",
    "    print(\"%0.6f for %r\"% (mean, params))\n",
    "print()\n",
    "\n",
    "cv_f1 = max(means)"
   ]
  },
  {
   "cell_type": "code",
   "execution_count": 8,
   "metadata": {},
   "outputs": [
    {
     "name": "stdout",
     "output_type": "stream",
     "text": [
      "F1 на cv 0.7546728297523516\n",
      "F1 на валидации 0.7745604963805586\n"
     ]
    }
   ],
   "source": [
    "model = LogisticRegression()\n",
    "model.set_params(**LR_params)\n",
    "model.fit(features_train, target_train)\n",
    "target_predict = model.predict(features_valid)\n",
    "valid_f1 = f1_score(target_valid, target_predict)\n",
    "print('F1 на cv', cv_f1)\n",
    "print('F1 на валидации', valid_f1)"
   ]
  },
  {
   "cell_type": "markdown",
   "metadata": {},
   "source": [
    "SGDClassifier"
   ]
  },
  {
   "cell_type": "code",
   "execution_count": 9,
   "metadata": {},
   "outputs": [
    {
     "name": "stdout",
     "output_type": "stream",
     "text": [
      "{'eta0': 0.15, 'learning_rate': 'constant', 'loss': 'modified_huber', 'random_state': 12345}\n",
      "0.591171 for {'eta0': 0.01, 'learning_rate': 'constant', 'loss': 'hinge', 'random_state': 12345}\n",
      "0.427698 for {'eta0': 0.01, 'learning_rate': 'constant', 'loss': 'log', 'random_state': 12345}\n",
      "0.708620 for {'eta0': 0.01, 'learning_rate': 'constant', 'loss': 'modified_huber', 'random_state': 12345}\n",
      "0.611552 for {'eta0': 0.01, 'learning_rate': 'optimal', 'loss': 'hinge', 'random_state': 12345}\n",
      "0.438850 for {'eta0': 0.01, 'learning_rate': 'optimal', 'loss': 'log', 'random_state': 12345}\n",
      "0.712377 for {'eta0': 0.01, 'learning_rate': 'optimal', 'loss': 'modified_huber', 'random_state': 12345}\n",
      "0.594121 for {'eta0': 0.01, 'learning_rate': 'adaptive', 'loss': 'hinge', 'random_state': 12345}\n",
      "0.429593 for {'eta0': 0.01, 'learning_rate': 'adaptive', 'loss': 'log', 'random_state': 12345}\n",
      "0.709881 for {'eta0': 0.01, 'learning_rate': 'adaptive', 'loss': 'modified_huber', 'random_state': 12345}\n",
      "0.608141 for {'eta0': 0.05, 'learning_rate': 'constant', 'loss': 'hinge', 'random_state': 12345}\n",
      "0.443152 for {'eta0': 0.05, 'learning_rate': 'constant', 'loss': 'log', 'random_state': 12345}\n",
      "0.717470 for {'eta0': 0.05, 'learning_rate': 'constant', 'loss': 'modified_huber', 'random_state': 12345}\n",
      "0.611552 for {'eta0': 0.05, 'learning_rate': 'optimal', 'loss': 'hinge', 'random_state': 12345}\n",
      "0.438850 for {'eta0': 0.05, 'learning_rate': 'optimal', 'loss': 'log', 'random_state': 12345}\n",
      "0.712377 for {'eta0': 0.05, 'learning_rate': 'optimal', 'loss': 'modified_huber', 'random_state': 12345}\n",
      "0.611551 for {'eta0': 0.05, 'learning_rate': 'adaptive', 'loss': 'hinge', 'random_state': 12345}\n",
      "0.439815 for {'eta0': 0.05, 'learning_rate': 'adaptive', 'loss': 'log', 'random_state': 12345}\n",
      "0.712169 for {'eta0': 0.05, 'learning_rate': 'adaptive', 'loss': 'modified_huber', 'random_state': 12345}\n",
      "0.609982 for {'eta0': 0.1, 'learning_rate': 'constant', 'loss': 'hinge', 'random_state': 12345}\n",
      "0.441684 for {'eta0': 0.1, 'learning_rate': 'constant', 'loss': 'log', 'random_state': 12345}\n",
      "0.716243 for {'eta0': 0.1, 'learning_rate': 'constant', 'loss': 'modified_huber', 'random_state': 12345}\n",
      "0.611552 for {'eta0': 0.1, 'learning_rate': 'optimal', 'loss': 'hinge', 'random_state': 12345}\n",
      "0.438850 for {'eta0': 0.1, 'learning_rate': 'optimal', 'loss': 'log', 'random_state': 12345}\n",
      "0.712377 for {'eta0': 0.1, 'learning_rate': 'optimal', 'loss': 'modified_huber', 'random_state': 12345}\n",
      "0.612444 for {'eta0': 0.1, 'learning_rate': 'adaptive', 'loss': 'hinge', 'random_state': 12345}\n",
      "0.439319 for {'eta0': 0.1, 'learning_rate': 'adaptive', 'loss': 'log', 'random_state': 12345}\n",
      "0.712199 for {'eta0': 0.1, 'learning_rate': 'adaptive', 'loss': 'modified_huber', 'random_state': 12345}\n",
      "0.610409 for {'eta0': 0.15, 'learning_rate': 'constant', 'loss': 'hinge', 'random_state': 12345}\n",
      "0.446491 for {'eta0': 0.15, 'learning_rate': 'constant', 'loss': 'log', 'random_state': 12345}\n",
      "0.719965 for {'eta0': 0.15, 'learning_rate': 'constant', 'loss': 'modified_huber', 'random_state': 12345}\n",
      "0.611552 for {'eta0': 0.15, 'learning_rate': 'optimal', 'loss': 'hinge', 'random_state': 12345}\n",
      "0.438850 for {'eta0': 0.15, 'learning_rate': 'optimal', 'loss': 'log', 'random_state': 12345}\n",
      "0.712377 for {'eta0': 0.15, 'learning_rate': 'optimal', 'loss': 'modified_huber', 'random_state': 12345}\n",
      "0.612871 for {'eta0': 0.15, 'learning_rate': 'adaptive', 'loss': 'hinge', 'random_state': 12345}\n",
      "0.439477 for {'eta0': 0.15, 'learning_rate': 'adaptive', 'loss': 'log', 'random_state': 12345}\n",
      "0.712124 for {'eta0': 0.15, 'learning_rate': 'adaptive', 'loss': 'modified_huber', 'random_state': 12345}\n",
      "0.612119 for {'eta0': 0.3, 'learning_rate': 'constant', 'loss': 'hinge', 'random_state': 12345}\n",
      "0.445700 for {'eta0': 0.3, 'learning_rate': 'constant', 'loss': 'log', 'random_state': 12345}\n",
      "0.719609 for {'eta0': 0.3, 'learning_rate': 'constant', 'loss': 'modified_huber', 'random_state': 12345}\n",
      "0.611552 for {'eta0': 0.3, 'learning_rate': 'optimal', 'loss': 'hinge', 'random_state': 12345}\n",
      "0.438850 for {'eta0': 0.3, 'learning_rate': 'optimal', 'loss': 'log', 'random_state': 12345}\n",
      "0.712377 for {'eta0': 0.3, 'learning_rate': 'optimal', 'loss': 'modified_huber', 'random_state': 12345}\n",
      "0.612583 for {'eta0': 0.3, 'learning_rate': 'adaptive', 'loss': 'hinge', 'random_state': 12345}\n",
      "0.440187 for {'eta0': 0.3, 'learning_rate': 'adaptive', 'loss': 'log', 'random_state': 12345}\n",
      "0.712284 for {'eta0': 0.3, 'learning_rate': 'adaptive', 'loss': 'modified_huber', 'random_state': 12345}\n",
      "0.616837 for {'eta0': 0.5, 'learning_rate': 'constant', 'loss': 'hinge', 'random_state': 12345}\n",
      "0.449852 for {'eta0': 0.5, 'learning_rate': 'constant', 'loss': 'log', 'random_state': 12345}\n",
      "0.710655 for {'eta0': 0.5, 'learning_rate': 'constant', 'loss': 'modified_huber', 'random_state': 12345}\n",
      "0.611552 for {'eta0': 0.5, 'learning_rate': 'optimal', 'loss': 'hinge', 'random_state': 12345}\n",
      "0.438850 for {'eta0': 0.5, 'learning_rate': 'optimal', 'loss': 'log', 'random_state': 12345}\n",
      "0.712377 for {'eta0': 0.5, 'learning_rate': 'optimal', 'loss': 'modified_huber', 'random_state': 12345}\n",
      "0.612774 for {'eta0': 0.5, 'learning_rate': 'adaptive', 'loss': 'hinge', 'random_state': 12345}\n",
      "0.440064 for {'eta0': 0.5, 'learning_rate': 'adaptive', 'loss': 'log', 'random_state': 12345}\n",
      "0.712378 for {'eta0': 0.5, 'learning_rate': 'adaptive', 'loss': 'modified_huber', 'random_state': 12345}\n",
      "\n"
     ]
    }
   ],
   "source": [
    "model = SGDClassifier()\n",
    "hyperparams = [{'loss':['hinge', 'log', 'modified_huber'],\n",
    "                'learning_rate':['constant', 'optimal', 'adaptive'],\n",
    "                'eta0':[0.01, 0.05, 0.1, 0.15, 0.3, 0.5],\n",
    "                'random_state':[12345]}]\n",
    "\n",
    "\n",
    "clf = GridSearchCV(model, hyperparams, scoring='f1',cv=3)\n",
    "clf.fit(features_train, target_train)\n",
    "\n",
    "best_params_1 = clf.best_params_\n",
    "print(best_params_1)\n",
    "\n",
    "means = clf.cv_results_['mean_test_score']\n",
    "stds = clf.cv_results_['std_test_score']\n",
    "for mean, std, params in zip(means, stds, clf.cv_results_['params']):\n",
    "    print(\"%0.6f for %r\"% (mean, params))\n",
    "print()\n",
    "\n",
    "cv_f1_1 = max(means)"
   ]
  },
  {
   "cell_type": "code",
   "execution_count": 10,
   "metadata": {},
   "outputs": [
    {
     "name": "stdout",
     "output_type": "stream",
     "text": [
      "F1 cv 0.7199652373104426\n",
      "F1 валидация 0.7283604412039634\n"
     ]
    }
   ],
   "source": [
    "model = SGDClassifier()\n",
    "model.set_params(**best_params_1)\n",
    "model.fit(features_train, target_train)\n",
    "target_predict = model.predict(features_valid)\n",
    "valid_f1_1 = f1_score(target_valid, target_predict)\n",
    "print('F1 cv', cv_f1_1)\n",
    "print('F1 валидация', valid_f1_1)"
   ]
  },
  {
   "cell_type": "markdown",
   "metadata": {},
   "source": [
    "<div class=\"alert alert-block alert-success\">\n",
    "<b>Успех:</b> Молодец, что попробовал несколько разных моделей в этом шаге!\n",
    "</div>"
   ]
  },
  {
   "cell_type": "markdown",
   "metadata": {},
   "source": [
    "## Выводы"
   ]
  },
  {
   "cell_type": "code",
   "execution_count": 13,
   "metadata": {},
   "outputs": [
    {
     "name": "stdout",
     "output_type": "stream",
     "text": [
      "LogisticRegression\n",
      "ROC AUC: 0.9683709351926162\n",
      "F1: 0.7719909423445392\n",
      "Precision: 0.8755432635322007\n",
      "Recall: 0.6903426791277258\n",
      "SGDClassifier\n",
      "ROC AUC: 0.9660781198364935\n",
      "F1: 0.7174785100286535\n",
      "Precision: 0.9274074074074075\n",
      "Recall: 0.5850467289719626\n"
     ]
    },
    {
     "data": {
      "image/png": "[encoded data removed]",
      "text/plain": [
       "<Figure size 864x648 with 1 Axes>"
      ]
     },
     "metadata": {
      "needs_background": "light"
     },
     "output_type": "display_data"
    }
   ],
   "source": [
    "plt.figure(figsize=[12,9])\n",
    "\n",
    "plt.plot([0, 1], [0, 1], linestyle='--', label='RandomModel')\n",
    "\n",
    "\n",
    "model = LogisticRegression()\n",
    "model.set_params(**LR_params)\n",
    "model.fit(features_train, target_train)\n",
    "probabilities_test = model.predict_proba(features_test)\n",
    "probabilities_one_test = probabilities_test[:, 1]\n",
    "fpr, tpr, thresholds = roc_curve(target_test, probabilities_one_test)\n",
    "predict_test = model.predict(features_test)\n",
    "plt.plot(fpr, tpr, label='LogisticRegression')\n",
    "print('LogisticRegression')\n",
    "print('ROC AUC:', roc_auc_score(target_test, probabilities_one_test))\n",
    "print('F1:', f1_score(target_test, predict_test))\n",
    "print('Precision:', precision_score(target_test, predict_test))\n",
    "print('Recall:', recall_score(target_test, predict_test))\n",
    "\n",
    "model_1 = SGDClassifier()\n",
    "model_1.set_params(**best_params_1)\n",
    "model_1.fit(features_train, target_train)\n",
    "probabilities_test = model_1.predict_proba(features_test)\n",
    "probabilities_one_test = probabilities_test[:, 1]\n",
    "fpr, tpr, thresholds = roc_curve(target_test, probabilities_one_test)\n",
    "predict_test = model_1.predict(features_test)\n",
    "plt.plot(fpr, tpr, label='SGDClassifier')\n",
    "\n",
    "print('SGDClassifier')\n",
    "print('ROC AUC:', roc_auc_score(target_test, probabilities_one_test))\n",
    "print('F1:', f1_score(target_test, predict_test))\n",
    "print('Precision:', precision_score(target_test, predict_test))\n",
    "print('Recall:', recall_score(target_test, predict_test))\n",
    "\n",
    "plt.xlim([0,1])\n",
    "plt.ylim([0,1])\n",
    "\n",
    "plt.xlabel(\"False Positive Rate\")\n",
    "plt.ylabel(\"True Positive Rate\")\n",
    "\n",
    "plt.legend(loc='lower right', fontsize='x-large')\n",
    "\n",
    "plt.title(\"ROC-кривая\")\n",
    "plt.show()"
   ]
  },
  {
   "cell_type": "markdown",
   "metadata": {},
   "source": [
    "<div class=\"alert alert-block alert-success\">\n",
    "<b>Успех:</b> Тестирование было сделано верно.\n",
    "</div>\n",
    "\n",
    "<div class=\"alert alert-block alert-info\">\n",
    "<b>Совет: </b> Не забывай про вывод в конце проекта.\n",
    "</div>"
   ]
  },
  {
   "cell_type": "markdown",
   "metadata": {},
   "source": [
    "## Чек-лист проверки"
   ]
  },
  {
   "cell_type": "markdown",
   "metadata": {},
   "source": [
    "- [x]  Jupyter Notebook открыт\n",
    "- [ ]  Весь код выполняется без ошибок\n",
    "- [ ]  Ячейки с кодом расположены в порядке исполнения\n",
    "- [ ]  Данные загружены и подготовлены\n",
    "- [ ]  Модели обучены\n",
    "- [ ]  Значение метрики *F1* не меньше 0.75\n",
    "- [ ]  Выводы написаны"
   ]
  }
 ],
 "metadata": {
  "ExecuteTimeLog": [
   {
    "duration": 545,
    "start_time": "2022-04-28T17:48:12.717Z"
   },
   {
    "duration": 122,
    "start_time": "2022-04-28T17:48:27.683Z"
   },
   {
    "duration": 10146,
    "start_time": "2022-04-28T17:48:32.045Z"
   },
   {
    "duration": 1593,
    "start_time": "2022-04-28T17:50:12.436Z"
   },
   {
    "duration": 936,
    "start_time": "2022-04-28T19:14:50.640Z"
   },
   {
    "duration": 13,
    "start_time": "2022-04-28T19:18:13.052Z"
   },
   {
    "duration": 12,
    "start_time": "2022-04-28T19:18:17.146Z"
   },
   {
    "duration": 11,
    "start_time": "2022-04-28T19:18:30.056Z"
   },
   {
    "duration": 14,
    "start_time": "2022-04-28T19:18:34.264Z"
   },
   {
    "duration": 8,
    "start_time": "2022-04-28T19:18:39.497Z"
   },
   {
    "duration": 26,
    "start_time": "2022-04-28T19:19:15.887Z"
   },
   {
    "duration": 9,
    "start_time": "2022-04-28T19:19:35.182Z"
   },
   {
    "duration": 10,
    "start_time": "2022-04-28T19:19:40.313Z"
   },
   {
    "duration": 11,
    "start_time": "2022-04-28T19:22:03.077Z"
   },
   {
    "duration": 1706,
    "start_time": "2022-04-28T19:22:40.225Z"
   },
   {
    "duration": 170766,
    "start_time": "2022-04-28T19:22:42.553Z"
   },
   {
    "duration": 3888,
    "start_time": "2022-04-28T19:40:03.772Z"
   },
   {
    "duration": 2137,
    "start_time": "2022-04-28T19:41:34.955Z"
   },
   {
    "duration": 1106,
    "start_time": "2022-04-28T19:41:37.095Z"
   },
   {
    "duration": 177497,
    "start_time": "2022-04-28T19:41:38.203Z"
   },
   {
    "duration": 290,
    "start_time": "2022-04-28T19:49:57.874Z"
   },
   {
    "duration": 55,
    "start_time": "2022-04-28T19:50:07.800Z"
   },
   {
    "duration": 15994,
    "start_time": "2022-04-28T19:50:13.538Z"
   },
   {
    "duration": 151372,
    "start_time": "2022-04-28T19:51:58.423Z"
   },
   {
    "duration": 15,
    "start_time": "2022-04-28T20:14:44.966Z"
   },
   {
    "duration": 716470,
    "start_time": "2022-04-28T20:16:54.925Z"
   },
   {
    "duration": 6,
    "start_time": "2022-04-28T20:29:57.378Z"
   },
   {
    "duration": 751290,
    "start_time": "2022-04-28T20:30:00.305Z"
   },
   {
    "duration": 712989,
    "start_time": "2022-04-28T20:49:46.004Z"
   },
   {
    "duration": 58906,
    "start_time": "2022-04-28T21:18:39.203Z"
   },
   {
    "duration": 921760,
    "start_time": "2022-04-28T21:21:58.969Z"
   },
   {
    "duration": 193089,
    "start_time": "2022-04-28T21:38:13.714Z"
   },
   {
    "duration": 435,
    "start_time": "2022-04-28T21:58:16.646Z"
   },
   {
    "duration": 20,
    "start_time": "2022-04-28T21:59:12.283Z"
   },
   {
    "duration": 755,
    "start_time": "2022-04-28T21:59:26.290Z"
   },
   {
    "duration": 61692,
    "start_time": "2022-04-28T21:59:30.289Z"
   },
   {
    "duration": 2519,
    "start_time": "2022-04-28T22:06:33.690Z"
   },
   {
    "duration": 1259,
    "start_time": "2022-04-28T22:06:36.212Z"
   },
   {
    "duration": 2896,
    "start_time": "2022-04-28T22:15:20.068Z"
   },
   {
    "duration": 1026,
    "start_time": "2022-04-28T22:15:22.968Z"
   },
   {
    "duration": 2244,
    "start_time": "2022-04-28T22:22:14.150Z"
   },
   {
    "duration": 999,
    "start_time": "2022-04-28T22:22:16.396Z"
   },
   {
    "duration": 163615,
    "start_time": "2022-04-28T22:22:17.397Z"
   },
   {
    "duration": 57,
    "start_time": "2022-04-28T22:25:01.015Z"
   },
   {
    "duration": 15587,
    "start_time": "2022-04-28T22:25:01.075Z"
   },
   {
    "duration": 144643,
    "start_time": "2022-04-28T22:25:16.666Z"
   },
   {
    "duration": 193,
    "start_time": "2022-04-28T22:27:41.312Z"
   },
   {
    "duration": 0,
    "start_time": "2022-04-28T22:27:41.507Z"
   },
   {
    "duration": 0,
    "start_time": "2022-04-28T22:27:41.509Z"
   },
   {
    "duration": 0,
    "start_time": "2022-04-28T22:27:41.511Z"
   },
   {
    "duration": 0,
    "start_time": "2022-04-28T22:27:41.512Z"
   },
   {
    "duration": 2293,
    "start_time": "2022-04-28T22:34:09.962Z"
   },
   {
    "duration": 1137,
    "start_time": "2022-04-28T22:34:12.257Z"
   },
   {
    "duration": 164802,
    "start_time": "2022-04-28T22:34:13.396Z"
   },
   {
    "duration": 53,
    "start_time": "2022-04-28T22:36:58.201Z"
   },
   {
    "duration": 18264,
    "start_time": "2022-04-28T22:36:58.257Z"
   },
   {
    "duration": 143075,
    "start_time": "2022-04-28T22:37:16.523Z"
   },
   {
    "duration": 715094,
    "start_time": "2022-04-28T22:39:39.601Z"
   },
   {
    "duration": 60500,
    "start_time": "2022-04-28T22:51:34.698Z"
   },
   {
    "duration": 124617,
    "start_time": "2022-04-28T22:52:35.201Z"
   },
   {
    "duration": 407,
    "start_time": "2022-04-28T22:54:39.820Z"
   },
   {
    "duration": 436,
    "start_time": "2022-04-28T22:54:40.229Z"
   },
   {
    "duration": 53258,
    "start_time": "2022-04-28T23:00:38.821Z"
   },
   {
    "duration": 60337,
    "start_time": "2022-04-28T23:02:08.314Z"
   }
  ],
  "kernelspec": {
   "display_name": "Python 3 (ipykernel)",
   "language": "python",
   "name": "python3"
  },
  "language_info": {
   "codemirror_mode": {
    "name": "ipython",
    "version": 3
   },
   "file_extension": ".py",
   "mimetype": "text/x-python",
   "name": "python",
   "nbconvert_exporter": "python",
   "pygments_lexer": "ipython3",
   "version": "3.9.5"
  },
  "toc": {
   "base_numbering": 1,
   "nav_menu": {},
   "number_sections": true,
   "sideBar": true,
   "skip_h1_title": true,
   "title_cell": "Содержание",
   "title_sidebar": "Contents",
   "toc_cell": true,
   "toc_position": {
    "height": "calc(100% - 180px)",
    "left": "10px",
    "top": "150px",
    "width": "302.391px"
   },
   "toc_section_display": true,
   "toc_window_display": false
  }
 },
 "nbformat": 4,
 "nbformat_minor": 2
}
